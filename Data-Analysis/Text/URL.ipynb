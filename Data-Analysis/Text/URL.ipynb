{
 "cells": [
  {
   "cell_type": "markdown",
   "metadata": {},
   "source": [
    "# 페이지의 URL 정보 추출하기 "
   ]
  },
  {
   "cell_type": "code",
   "execution_count": 4,
   "metadata": {},
   "outputs": [],
   "source": [
    "import requests\n",
    "from bs4 import BeautifulSoup\n",
    "import re\n",
    "import warnings\n",
    "warnings.filterwarnings(\"ignore\")"
   ]
  },
  {
   "cell_type": "code",
   "execution_count": 5,
   "metadata": {},
   "outputs": [],
   "source": [
    "# 크롤링할 사이트 주소를 정의합니다.\n",
    "source_url = \"https://namu.wiki/RecentChanges\""
   ]
  },
  {
   "cell_type": "code",
   "execution_count": 8,
   "metadata": {},
   "outputs": [],
   "source": [
    "# 사이트의 html 구조에 기반하여 크롤링을 수행합니다.\n",
    "req = requests.get(source_url)\n",
    "html = req.content\n",
    "soup = BeautifulSoup(html, 'lxml')\n",
    "contents_table = soup.find(name=\"table\")\n",
    "table_body = contents_table.find(name=\"tbody\")\n",
    "table_rows = table_body.find_all(name=\"tr\")\n",
    "# print(table_rows)"
   ]
  },
  {
   "cell_type": "code",
   "execution_count": 13,
   "metadata": {},
   "outputs": [
    {
     "name": "stdout",
     "output_type": "stream",
     "text": [
      "https://namu.wiki/w/%EC%9D%B8%EB%8F%84-%ED%8F%AC%EB%A5%B4%ED%88%AC%EA%B0%88%20%EA%B4%80%EA%B3%84\n",
      "https://namu.wiki/w/%EC%8B%A0%EC%9D%98%20%ED%83%91\n",
      "https://namu.wiki/w/%ED%8C%A8%EB%9F%AC%EB%8D%B0%EC%9A%B0%EC%8A%A4\n",
      "https://namu.wiki/w/%EB%8F%84%EC%B0%A8%EB%B9%84%26%ED%98%B8%EC%9A%94%EB%A6%AC\n",
      "https://namu.wiki/w/KBO%20%ED%94%8C%EB%A0%88%EC%9D%B4%EC%98%A4%ED%94%84/2020%EB%85%84\n",
      "https://namu.wiki/w/%EB%B9%85%20%EC%85%B0%EC%9D%B4\n",
      "https://namu.wiki/w/%EB%8D%94%20%EB%AF%B8%EC%8A%A4%ED%8A%B8\n",
      "https://namu.wiki/w/GTA%204/%EB%AF%B8%EC%85%98%EC%9D%BC%EB%9E%8C/%EC%8A%A4%ED%86%A0%EB%A6%AC%20%EB%AF%B8%EC%85%98\n",
      "https://namu.wiki/w/%EA%B9%80%EC%9C%A4%ED%99%98(1989)\n",
      "https://namu.wiki/w/%EC%95%94%EB%93%9C%20%EB%93%9C%EB%9E%98%EA%B3%A4\n",
      "https://namu.wiki/w/%EB%9D%BC%EC%8A%A4%ED%8A%B8%EC%98%A4%EB%A6%AC%EC%A7%84\n",
      "https://namu.wiki/w/%ED%8C%8C%EC%9D%B8%EC%95%A0%ED%94%8C%EC%BF%B5%EC%95%BC\n",
      "https://namu.wiki/w/%EA%B9%80%EC%9E%AC%EC%9C%A4\n",
      "https://namu.wiki/w/%EC%84%B1%EA%B8%B0%EC%82%AC(%ED%95%98%EC%8A%A4%EC%8A%A4%ED%86%A4)/%EC%B9%B4%EB%93%9C%EC%9D%BC%EB%9E%8C/2020%EB%85%84\n",
      "https://namu.wiki/w/%EB%A6%AC%EB%B2%84%EB%A0%88%EC%9D%B4%ED%84%B0(%EC%86%8C%EB%85%80%EC%A0%84%EC%84%A0)\n",
      "https://namu.wiki/w/%EC%9C%A0%ED%83%84%20%EA%B8%B0%EA%B4%80%EC%B4%9D\n",
      "https://namu.wiki/w/%EB%A7%88%EC%9D%98(%EB%93%9C%EB%9D%BC%EB%A7%88)\n",
      "https://namu.wiki/w/%EC%8A%A4%EC%B9%BC%EB%A0%9B%20%EB%A0%88%EB%93%9C%20%EC%A0%80%EC%8A%A4%ED%8B%B0%EC%8A%A4\n",
      "https://namu.wiki/w/%EC%8A%A4%EB%B3%98%EB%9C%B0%EB%9D%BC%EB%82%98%20%ED%9D%90%EB%A3%A8%EC%B1%A0%ED%86%A0%EB%B0%94\n",
      "https://namu.wiki/w/%ED%8C%8C%EC%9D%BC:%EA%B3%A0%ED%9D%90%20CM_2.jpg\n",
      "https://namu.wiki/w/%EC%82%B0%EC%84%B1\n",
      "https://namu.wiki/w/%EB%A9%B8%EB%A7%9D%EC%A0%84%20%EC%8A%A4%ED%83%80%ED%81%AC%EB%9E%98%ED%94%84%ED%8A%B8%202020%20%EC%8B%9C%EC%A6%8C%202\n",
      "https://namu.wiki/w/%EC%B2%9C%EC%9C%A0\n",
      "https://namu.wiki/w/%EA%B2%BD%EB%A1%9C%EC%9D%98%EC%A1%B4%EC%84%B1\n",
      "https://namu.wiki/w/%EC%A4%91%EA%B8%88%EC%86%8D\n",
      "https://namu.wiki/w/%EB%94%98%20%ED%97%A8%EB%8D%94%EC%8A%A8\n",
      "https://namu.wiki/w/%EC%8B%9C%EC%95%BC(%EC%9E%91%EA%B0%80)\n",
      "https://namu.wiki/w/%EB%8B%AE%EC%9D%80%EA%BC%B4%20%EC%9C%A0%EB%AA%85%EC%9D%B8\n",
      "https://namu.wiki/w/%EC%97%B0%EB%8B%A4\n",
      "https://namu.wiki/w/NIGHT%20FLIGHT(Perfume)\n",
      "https://namu.wiki/w/%EC%98%81%EC%96%B4%20%EA%B4%80%EC%9A%A9%EA%B5%AC\n",
      "https://namu.wiki/w/IZ*ONE%20Private%20Mail\n",
      "https://namu.wiki/w/%EC%8A%AC%ED%94%88%20%EC%97%AC%EC%9A%B0\n",
      "https://namu.wiki/w/%EB%82%98%EB%A3%A8%ED%8B%B0%EB%B0%8B%20%EC%8A%A4%ED%86%B0%204/%ED%95%A9%EC%B2%B4%EC%98%A4%EC%9D%98\n",
      "https://namu.wiki/w/%EA%B3%A0%EC%96%91%20%EC%98%A4%EB%A6%AC%EC%98%A8%20%EC%98%A4%EB%A6%AC%EC%98%A8%EC%8A%A4/%EC%97%AD%EC%82%AC\n",
      "https://namu.wiki/w/%EC%95%84%EB%A6%AC(%EB%A6%AC%EA%B7%B8%20%EC%98%A4%EB%B8%8C%20%EB%A0%88%EC%A0%84%EB%93%9C)\n",
      "https://namu.wiki/w/%EC%B5%9C%EC%9A%B4%EA%B5%90(%EB%B0%B0%EC%9A%B0)\n",
      "https://namu.wiki/w/%EB%82%B4%EA%B0%80%20%ED%9E%88%ED%8B%80%EB%9F%AC%EB%9D%BC%EB%8B%88!\n",
      "https://namu.wiki/w/%EA%B0%90%EC%9E%90%ED%8A%80%EA%B9%80%EC%BF%B5%EC%95%BC\n",
      "https://namu.wiki/w/%EB%B2%84%EB%8B%9D%EA%B7%B8%EB%9D%BC%EC%9A%B4%EB%93%9C/%EC%9C%A0%EB%8B%9B%20%EB%AA%A9%EB%A1%9D/%EA%B8%B0%ED%83%80%20%EC%9C%A0%EB%8B%9B\n",
      "https://namu.wiki/w/%EC%B0%B0%EB%A6%AC%20%EB%94%94%EB%B0%80%EB%A6%AC%EC%98%A4\n",
      "https://namu.wiki/w/%EC%9C%A0%ED%8A%9C%EB%B8%8C/%EC%82%AC%EA%B1%B4%20%EB%B0%8F%20%EC%82%AC%EA%B3%A0\n",
      "https://namu.wiki/w/ASEAN\n",
      "https://namu.wiki/w/Adopt%20Me!/%EC%97%90%EA%B7%B8\n",
      "https://namu.wiki/w/Xbox%20Series%20X\n",
      "https://namu.wiki/w/%EA%B5%AD%EC%A0%9C%EC%88%98%ED%95%99%EC%98%AC%EB%A6%BC%ED%94%BC%EC%95%84%EB%93%9C\n",
      "https://namu.wiki/w/%EB%B0%98%20%EA%B3%A0%ED%9D%90(Fate%20%EC%8B%9C%EB%A6%AC%EC%A6%88)\n",
      "https://namu.wiki/w/%EB%8C%80%ED%86%B5%EB%A0%B9%EA%B2%BD%ED%98%B8%EC%B2%98\n",
      "https://namu.wiki/w/%EC%97%90%EC%9D%B4%EB%B3%B4%EB%A5%B4\n",
      "https://namu.wiki/w/%EC%84%9C%EB%AF%BC(%EA%B5%90%EC%88%98)\n",
      "https://namu.wiki/w/Adopt%20Me!\n",
      "https://namu.wiki/w/%EC%8A%A4%ED%83%80%ED%8A%B8%EC%97%85(%EB%93%9C%EB%9D%BC%EB%A7%88)/%EB%93%B1%EC%9E%A5%EC%9D%B8%EB%AC%BC\n",
      "https://namu.wiki/w/%EC%9D%B4%EC%83%81%EB%AF%BC(%EB%A3%B0%EB%9D%BC)\n",
      "https://namu.wiki/w/%EB%AA%A9%EC%86%8C%EB%A6%AC%EC%9D%98%ED%98%95%ED%83%9C\n",
      "https://namu.wiki/w/%EC%8B%B8%EC%9A%B8%EC%95%84%EB%B9%84%20%EB%A3%AC\n",
      "https://namu.wiki/w/Werewolf%20Online/%EC%A7%81%EC%97%85\n",
      "https://namu.wiki/w/%EB%8B%A4%ED%95%AD%ED%95%A8%EC%88%98/%EC%B6%94%EB%A1%A0%20%EB%B0%8F%20%EA%B3%B5%EC%8B%9D\n",
      "https://namu.wiki/w/%ED%95%98%EB%B9%95%20%EB%88%84%EB%A5%B4%EB%A7%88%EA%B3%A0%EB%A9%94%EB%8F%84%ED%94%84\n",
      "https://namu.wiki/w/%EC%84%AC%EB%82%98%EB%9D%BC\n",
      "https://namu.wiki/w/%EC%8A%A4%ED%8A%B8%EB%9D%BC%EC%9D%B4%ED%81%AC%20%EC%9C%84%EC%B9%98%EC%8A%A4\n",
      "https://namu.wiki/w/%EC%9D%B4%EB%8F%84%EC%9B%90\n",
      "https://namu.wiki/w/%EB%8B%A4%EC%9D%B4%EB%A7%A5%EC%8A%A4%20%EC%96%B4%EB%93%9C%EB%B2%A4%EC%B2%98\n",
      "https://namu.wiki/w/%EC%8A%A4%EB%82%B5%EB%B6%81\n",
      "https://namu.wiki/w/%EC%8A%A4%EC%99%84%ED%95%98%EB%8D%B4%20%EB%B8%94%EB%9E%80%EC%B9%98\n",
      "https://namu.wiki/w/%EC%A4%91%EA%B5%AD-%EB%9F%AC%EC%8B%9C%EC%95%84-%EB%A7%8C%EC%A3%BC%20%EA%B4%80%EA%B3%84\n",
      "https://namu.wiki/w/%EB%A1%AF%EB%8D%B0%20%EC%9E%90%EC%9D%B4%EC%96%B8%EC%B8%A0/2020%EB%85%84/5%EC%9B%94\n",
      "https://namu.wiki/w/%EC%88%98%EC%9B%90%20%EB%B2%84%EC%8A%A4%2062-1\n",
      "https://namu.wiki/w/%EA%B5%AD%ED%83%9C%EC%A0%95\n",
      "https://namu.wiki/w/%EB%8B%A4%EB%B9%84%EB%93%9C%20%EB%8D%B0%ED%97%A4%EC%95%84/%ED%81%B4%EB%9F%BD%20%EA%B2%BD%EB%A0%A5\n",
      "https://namu.wiki/w/iPhone%2012/%EB%85%BC%EB%9E%80%20%EB%B0%8F%20%EB%AC%B8%EC%A0%9C%EC%A0%90\n",
      "https://namu.wiki/w/Among%20Us/%EA%B7%9C%EC%B9%99\n"
     ]
    }
   ],
   "source": [
    "# a태그의 href 속성을 리스트로 추출하여, 크롤링 할 페이지 리스트를 생성합니다.\n",
    "page_url_base = \"https://namu.wiki\"\n",
    "page_urls = []\n",
    "for index in range(0, len(table_rows)):\n",
    "    first_td = table_rows[index].find_all('td')[0]    # 첫번째 td 추출 \n",
    "    td_url = first_td.find_all('a')                   # 모든 a 태그 추출 \n",
    "    if len(td_url) > 0:\n",
    "        page_url = page_url_base + td_url[0].get('href')\n",
    "        if 'png' not in page_url:\n",
    "            page_urls.append(page_url)\n",
    "            \n",
    "# 중복 url을 제거합니다.\n",
    "page_urls = list(set(page_urls))\n",
    "for page in page_urls:\n",
    "    print(page)"
   ]
  },
  {
   "cell_type": "code",
   "execution_count": null,
   "metadata": {},
   "outputs": [],
   "source": []
  }
 ],
 "metadata": {
  "kernelspec": {
   "display_name": "Python 3",
   "language": "python",
   "name": "python3"
  },
  "language_info": {
   "codemirror_mode": {
    "name": "ipython",
    "version": 3
   },
   "file_extension": ".py",
   "mimetype": "text/x-python",
   "name": "python",
   "nbconvert_exporter": "python",
   "pygments_lexer": "ipython3",
   "version": "3.8.6"
  }
 },
 "nbformat": 4,
 "nbformat_minor": 4
}
