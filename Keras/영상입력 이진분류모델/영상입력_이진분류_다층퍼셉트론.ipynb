{
 "cells": [
  {
   "cell_type": "markdown",
   "metadata": {},
   "source": [
    "# 영상 입력 다층 퍼셉트론 \n",
    "* 영상을 입력해서 이진 분류할 수 있는 모델 생성 \n",
    "* MNIST를 이용하여 홀수 / 짝수 구분 "
   ]
  },
  {
   "cell_type": "markdown",
   "metadata": {},
   "source": [
    "### 사용할 패키지 선언 "
   ]
  },
  {
   "cell_type": "code",
   "execution_count": 11,
   "metadata": {},
   "outputs": [],
   "source": [
    "import matplotlib.pyplot as plt\n",
    "from tensorflow.keras.datasets import mnist\n",
    "from tensorflow.keras.models import Sequential\n",
    "from tensorflow.keras.layers import Dense, Activation"
   ]
  },
  {
   "cell_type": "markdown",
   "metadata": {},
   "source": [
    "* 이미지 크기 "
   ]
  },
  {
   "cell_type": "code",
   "execution_count": 2,
   "metadata": {},
   "outputs": [],
   "source": [
    "width = 28\n",
    "height = 28"
   ]
  },
  {
   "cell_type": "markdown",
   "metadata": {},
   "source": [
    "### 1. 데이터셋 생성하기\n",
    "- 초기 라벨값은 0에서 9까지 정수로 지정\n",
    "- 데이터 정규화를 위해서 255.0으로 나눔"
   ]
  },
  {
   "cell_type": "markdown",
   "metadata": {},
   "source": [
    "#### 훈련셋과 시험셋 불러오기"
   ]
  },
  {
   "cell_type": "code",
   "execution_count": 4,
   "metadata": {},
   "outputs": [],
   "source": [
    "(x_train, y_train), (x_test, y_test) = mnist.load_data()\n",
    "x_train = x_train.reshape(60000, width*height).astype('float32') / 255.0\n",
    "x_test = x_test.reshape(10000, width*height).astype('float32') / 255.0"
   ]
  },
  {
   "cell_type": "markdown",
   "metadata": {},
   "source": [
    "#### 훈련셋과 검증셋 분리"
   ]
  },
  {
   "cell_type": "code",
   "execution_count": 5,
   "metadata": {},
   "outputs": [],
   "source": [
    "x_train = x_train[:50000]\n",
    "y_train = y_train[:50000]\n",
    "x_val = x_train[50000:]\n",
    "y_val = y_train[50000:]"
   ]
  },
  {
   "cell_type": "markdown",
   "metadata": {},
   "source": [
    "#### 데이터셋 전처리 : 홀수는 1, 짝수는 0으로 변환"
   ]
  },
  {
   "cell_type": "code",
   "execution_count": 6,
   "metadata": {},
   "outputs": [],
   "source": [
    "y_train = y_train % 2\n",
    "y_val = y_val % 2\n",
    "y_test = y_test % 2"
   ]
  },
  {
   "cell_type": "markdown",
   "metadata": {},
   "source": [
    "### 2. 모델 구성하기"
   ]
  },
  {
   "cell_type": "code",
   "execution_count": 8,
   "metadata": {},
   "outputs": [
    {
     "name": "stdout",
     "output_type": "stream",
     "text": [
      "Model: \"sequential\"\n",
      "_________________________________________________________________\n",
      "Layer (type)                 Output Shape              Param #   \n",
      "=================================================================\n",
      "dense (Dense)                (None, 256)               200960    \n",
      "_________________________________________________________________\n",
      "dense_1 (Dense)              (None, 256)               65792     \n",
      "_________________________________________________________________\n",
      "dense_2 (Dense)              (None, 256)               65792     \n",
      "_________________________________________________________________\n",
      "dense_3 (Dense)              (None, 1)                 257       \n",
      "=================================================================\n",
      "Total params: 332,801\n",
      "Trainable params: 332,801\n",
      "Non-trainable params: 0\n",
      "_________________________________________________________________\n"
     ]
    }
   ],
   "source": [
    "model = Sequential()\n",
    "model.add(Dense(256, input_dim=width*height, activation='relu'))\n",
    "model.add(Dense(256, activation='relu'))\n",
    "model.add(Dense(256, activation='relu'))\n",
    "model.add(Dense(1, activation='sigmoid'))\n",
    "model.summary()"
   ]
  },
  {
   "cell_type": "markdown",
   "metadata": {},
   "source": [
    "### 3. 모델 학습과정 설정하기"
   ]
  },
  {
   "cell_type": "code",
   "execution_count": 9,
   "metadata": {},
   "outputs": [],
   "source": [
    "model.compile(loss='binary_crossentropy', optimizer='sgd', metrics=['accuracy'])"
   ]
  },
  {
   "cell_type": "markdown",
   "metadata": {},
   "source": [
    "### 4.모델 학습시키기"
   ]
  },
  {
   "cell_type": "code",
   "execution_count": 10,
   "metadata": {},
   "outputs": [
    {
     "name": "stdout",
     "output_type": "stream",
     "text": [
      "Epoch 1/30\n",
      "1563/1563 [==============================] - 2s 1ms/step - loss: 0.2950 - accuracy: 0.8821 - val_loss: 0.1536 - val_accuracy: 0.9491\n",
      "Epoch 2/30\n",
      "1563/1563 [==============================] - 2s 1ms/step - loss: 0.1256 - accuracy: 0.9548 - val_loss: 0.1009 - val_accuracy: 0.9662\n",
      "Epoch 3/30\n",
      "1563/1563 [==============================] - 2s 1ms/step - loss: 0.0883 - accuracy: 0.9688 - val_loss: 0.0807 - val_accuracy: 0.9736\n",
      "Epoch 4/30\n",
      "1563/1563 [==============================] - 2s 1ms/step - loss: 0.0708 - accuracy: 0.9751 - val_loss: 0.0731 - val_accuracy: 0.9743\n",
      "Epoch 5/30\n",
      "1563/1563 [==============================] - 2s 1ms/step - loss: 0.0591 - accuracy: 0.9791 - val_loss: 0.0656 - val_accuracy: 0.9770\n",
      "Epoch 6/30\n",
      "1563/1563 [==============================] - 2s 1ms/step - loss: 0.0503 - accuracy: 0.9832 - val_loss: 0.0639 - val_accuracy: 0.9775\n",
      "Epoch 7/30\n",
      "1563/1563 [==============================] - 2s 1ms/step - loss: 0.0441 - accuracy: 0.9851 - val_loss: 0.0620 - val_accuracy: 0.9784\n",
      "Epoch 8/30\n",
      "1563/1563 [==============================] - 2s 1ms/step - loss: 0.0379 - accuracy: 0.9875 - val_loss: 0.0673 - val_accuracy: 0.9785\n",
      "Epoch 9/30\n",
      "1563/1563 [==============================] - 2s 1ms/step - loss: 0.0335 - accuracy: 0.9886 - val_loss: 0.0582 - val_accuracy: 0.9807\n",
      "Epoch 10/30\n",
      "1563/1563 [==============================] - 2s 1ms/step - loss: 0.0301 - accuracy: 0.9901 - val_loss: 0.0564 - val_accuracy: 0.9804\n",
      "Epoch 11/30\n",
      "1563/1563 [==============================] - 2s 1ms/step - loss: 0.0260 - accuracy: 0.9915 - val_loss: 0.0552 - val_accuracy: 0.9820\n",
      "Epoch 12/30\n",
      "1563/1563 [==============================] - 2s 1ms/step - loss: 0.0220 - accuracy: 0.9931 - val_loss: 0.0557 - val_accuracy: 0.9829\n",
      "Epoch 13/30\n",
      "1563/1563 [==============================] - 2s 1ms/step - loss: 0.0194 - accuracy: 0.9940 - val_loss: 0.0609 - val_accuracy: 0.9799\n",
      "Epoch 14/30\n",
      "1563/1563 [==============================] - 2s 1ms/step - loss: 0.0168 - accuracy: 0.9951 - val_loss: 0.0575 - val_accuracy: 0.9823\n",
      "Epoch 15/30\n",
      "1563/1563 [==============================] - 2s 1ms/step - loss: 0.0144 - accuracy: 0.9960 - val_loss: 0.0568 - val_accuracy: 0.9816\n",
      "Epoch 16/30\n",
      "1563/1563 [==============================] - 2s 1ms/step - loss: 0.0127 - accuracy: 0.9964 - val_loss: 0.0565 - val_accuracy: 0.9823\n",
      "Epoch 17/30\n",
      "1563/1563 [==============================] - 2s 1ms/step - loss: 0.0103 - accuracy: 0.9975 - val_loss: 0.0590 - val_accuracy: 0.9824\n",
      "Epoch 18/30\n",
      "1563/1563 [==============================] - 2s 1ms/step - loss: 0.0086 - accuracy: 0.9981 - val_loss: 0.0612 - val_accuracy: 0.9826\n",
      "Epoch 19/30\n",
      "1563/1563 [==============================] - 2s 1ms/step - loss: 0.0071 - accuracy: 0.9984 - val_loss: 0.0616 - val_accuracy: 0.9824\n",
      "Epoch 20/30\n",
      "1563/1563 [==============================] - 2s 1ms/step - loss: 0.0056 - accuracy: 0.9991 - val_loss: 0.0622 - val_accuracy: 0.9829\n",
      "Epoch 21/30\n",
      "1563/1563 [==============================] - 2s 1ms/step - loss: 0.0046 - accuracy: 0.9994 - val_loss: 0.0654 - val_accuracy: 0.9817\n",
      "Epoch 22/30\n",
      "1563/1563 [==============================] - 2s 1ms/step - loss: 0.0042 - accuracy: 0.9994 - val_loss: 0.0697 - val_accuracy: 0.9825\n",
      "Epoch 23/30\n",
      "1563/1563 [==============================] - 2s 1ms/step - loss: 0.0034 - accuracy: 0.9997 - val_loss: 0.0650 - val_accuracy: 0.9827\n",
      "Epoch 24/30\n",
      "1563/1563 [==============================] - 2s 1ms/step - loss: 0.0025 - accuracy: 0.9998 - val_loss: 0.0663 - val_accuracy: 0.9834\n",
      "Epoch 25/30\n",
      "1563/1563 [==============================] - 2s 1ms/step - loss: 0.0020 - accuracy: 0.9999 - val_loss: 0.0676 - val_accuracy: 0.9833\n",
      "Epoch 26/30\n",
      "1563/1563 [==============================] - 2s 1ms/step - loss: 0.0016 - accuracy: 1.0000 - val_loss: 0.0679 - val_accuracy: 0.9837\n",
      "Epoch 27/30\n",
      "1563/1563 [==============================] - 2s 1ms/step - loss: 0.0014 - accuracy: 1.0000 - val_loss: 0.0690 - val_accuracy: 0.9836\n",
      "Epoch 28/30\n",
      "1563/1563 [==============================] - 2s 1ms/step - loss: 0.0012 - accuracy: 1.0000 - val_loss: 0.0697 - val_accuracy: 0.9838\n",
      "Epoch 29/30\n",
      "1563/1563 [==============================] - 2s 1ms/step - loss: 0.0011 - accuracy: 1.0000 - val_loss: 0.0713 - val_accuracy: 0.9836\n",
      "Epoch 30/30\n",
      "1563/1563 [==============================] - 2s 1ms/step - loss: 9.8823e-04 - accuracy: 1.0000 - val_loss: 0.0713 - val_accuracy: 0.9840\n"
     ]
    }
   ],
   "source": [
    "hist = model.fit(x_train, y_train, epochs=30, batch_size=32, validation_data=(x_val, y_val))"
   ]
  },
  {
   "cell_type": "markdown",
   "metadata": {},
   "source": [
    "### 5. 학습과정 살펴보기"
   ]
  },
  {
   "cell_type": "code",
   "execution_count": 26,
   "metadata": {},
   "outputs": [
    {
     "data": {
      "image/png": "[encoded data removed]",
      "text/plain": [
       "<Figure size 432x288 with 2 Axes>"
      ]
     },
     "metadata": {
      "needs_background": "light"
     },
     "output_type": "display_data"
    }
   ],
   "source": [
    "%matplotlib inline\n",
    "\n",
    "fig, loss_ax = plt.subplots()\n",
    "acc_ax = loss_ax.twinx()                                        # loss_ax와 함께 acc_ax 그래프 같이 표현 \n",
    "\n",
    "# loss 에 대한 그래프 \n",
    "loss_ax.plot(hist.history['loss'], 'y', label='train loss')     # 노란색 선 \n",
    "loss_ax.plot(hist.history['val_loss'], 'r', label='val loss')   # 빨간색 선 \n",
    "loss_ax.set_ylim([0.0, 0.5])                                    # Y축 값 \n",
    "\n",
    "# acc 에 대한 그래프 \n",
    "acc_ax.plot(hist.history['accuracy'], 'b', label='train acc')   # 파란색 선 \n",
    "acc_ax.plot(hist.history['val_accuracy'], 'g', label='val acc') # 녹색 선 \n",
    "acc_ax.set_ylim([0.8, 1.0])\n",
    "\n",
    "# x, y 축에 라벨 붙이기 \n",
    "loss_ax.set_xlabel('epoch')\n",
    "loss_ax.set_ylabel('loss')\n",
    "acc_ax.set_ylabel('accuray')\n",
    "\n",
    "# 범례 보이기 \n",
    "loss_ax.legend(loc='upper left')\n",
    "acc_ax.legend(loc='lower left')\n",
    "\n",
    "plt.show()"
   ]
  },
  {
   "cell_type": "markdown",
   "metadata": {},
   "source": [
    "### 6. 모델 평가하기"
   ]
  },
  {
   "cell_type": "code",
   "execution_count": 33,
   "metadata": {},
   "outputs": [
    {
     "name": "stdout",
     "output_type": "stream",
     "text": [
      "313/313 [==============================] - 0s 679us/step - loss: 0.0608 - accuracy: 0.9860\n",
      "loss :  0.06078178808093071\n",
      "metrics :  0.9860000014305115\n"
     ]
    }
   ],
   "source": [
    "loss, metrics = model.evaluate(x_test, y_test, batch_size=32)\n",
    "print('loss : ', loss)\n",
    "print('metrics : ', metrics)"
   ]
  },
  {
   "cell_type": "markdown",
   "metadata": {},
   "source": [
    "### 7. 모델 사용하기"
   ]
  },
  {
   "cell_type": "code",
   "execution_count": 34,
   "metadata": {},
   "outputs": [],
   "source": [
    "yhat_test = model.predict(x_test, batch_size=32)"
   ]
  },
  {
   "cell_type": "markdown",
   "metadata": {},
   "source": [
    "### 데이터 셋 일부 확인하기 "
   ]
  },
  {
   "cell_type": "code",
   "execution_count": 44,
   "metadata": {},
   "outputs": [
    {
     "data": {
      "image/png": "[encoded data removed]",
      "text/plain": [
       "<Figure size 720x720 with 25 Axes>"
      ]
     },
     "metadata": {
      "needs_background": "light"
     },
     "output_type": "display_data"
    }
   ],
   "source": [
    "%matplotlib inline\n",
    "plt_row = 5\n",
    "plt_col = 5\n",
    "\n",
    "plt.rcParams[\"figure.figsize\"] = (10,10)\n",
    "\n",
    "f, axarr = plt.subplots(plt_row, plt_col)\n",
    "\n",
    "for i in range(plt_row*plt_col):\n",
    "    sub_plt = axarr[i//plt_row, i%plt_col]\n",
    "    sub_plt.axis('off')\n",
    "    sub_plt.imshow(x_test[i].reshape(width, height))\n",
    "    \n",
    "    # 실제 값 \n",
    "    sub_plt_title = 'R: '\n",
    "    \n",
    "    if y_test[i] :\n",
    "        sub_plt_title += 'odd '\n",
    "    else:\n",
    "        sub_plt_title += 'even '\n",
    "\n",
    "    # 예측 값 \n",
    "    sub_plt_title += 'P: '\n",
    "    \n",
    "    if yhat_test[i] >= 0.5 :\n",
    "        sub_plt_title += 'odd '\n",
    "    else:\n",
    "        sub_plt_title += 'even '  \n",
    "        \n",
    "    sub_plt.set_title(sub_plt_title)\n",
    "    \n",
    "plt.show()"
   ]
  },
  {
   "cell_type": "code",
   "execution_count": null,
   "metadata": {},
   "outputs": [],
   "source": []
  }
 ],
 "metadata": {
  "kernelspec": {
   "display_name": "Python 3",
   "language": "python",
   "name": "python3"
  },
  "language_info": {
   "codemirror_mode": {
    "name": "ipython",
    "version": 3
   },
   "file_extension": ".py",
   "mimetype": "text/x-python",
   "name": "python",
   "nbconvert_exporter": "python",
   "pygments_lexer": "ipython3",
   "version": "3.7.6"
  }
 },
 "nbformat": 4,
 "nbformat_minor": 4
}
