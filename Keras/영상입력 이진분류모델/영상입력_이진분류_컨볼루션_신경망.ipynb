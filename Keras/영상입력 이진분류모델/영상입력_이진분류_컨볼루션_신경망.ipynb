{
 "cells": [
  {
   "cell_type": "markdown",
   "metadata": {},
   "source": [
    "# 영상입력 이진분류 컨볼루션 신경망\n",
    "* 영상을 입력해서 이진 분류할 수 있는 모델 생성 \n",
    "* MNIST를 이용하여 홀수 / 짝수 구분 "
   ]
  },
  {
   "cell_type": "markdown",
   "metadata": {},
   "source": [
    "### 사용할 패키지 선언 "
   ]
  },
  {
   "cell_type": "code",
   "execution_count": 1,
   "metadata": {},
   "outputs": [],
   "source": [
    "import matplotlib.pyplot as plt\n",
    "from tensorflow.keras.datasets import mnist\n",
    "from tensorflow.keras.models import Sequential\n",
    "from tensorflow.keras.layers import Dense, Activation\n",
    "from tensorflow.keras.layers import Conv2D, MaxPooling2D, Flatten\n",
    "from tensorflow.keras import utils"
   ]
  },
  {
   "cell_type": "markdown",
   "metadata": {},
   "source": [
    "* 이미지 크기 "
   ]
  },
  {
   "cell_type": "code",
   "execution_count": 2,
   "metadata": {},
   "outputs": [],
   "source": [
    "width = 28\n",
    "height = 28"
   ]
  },
  {
   "cell_type": "markdown",
   "metadata": {},
   "source": [
    "### 1. 데이터셋 생성하기\n",
    "- 초기 라벨값은 0에서 9까지 정수로 지정\n",
    "- 데이터 정규화를 위해서 255.0으로 나눔"
   ]
  },
  {
   "cell_type": "markdown",
   "metadata": {},
   "source": [
    "#### 훈련셋과 시험셋 불러오기\n",
    "- 컨볼루션 신경망 모델에 입력하기 위해 데이터셋 생성\n",
    "- 샘플수, 너비, 높이, 채널수로 총 4차원 배열로 구성"
   ]
  },
  {
   "cell_type": "code",
   "execution_count": 3,
   "metadata": {},
   "outputs": [],
   "source": [
    "(x_train, y_train), (x_test, y_test) = mnist.load_data()\n",
    "x_train = x_train.reshape(60000, width, height, 1).astype('float32') / 255.0\n",
    "x_test = x_test.reshape(10000, width, height, 1).astype('float32') / 255.0"
   ]
  },
  {
   "cell_type": "markdown",
   "metadata": {},
   "source": [
    "#### 훈련셋과 검증셋 분리"
   ]
  },
  {
   "cell_type": "code",
   "execution_count": 4,
   "metadata": {},
   "outputs": [],
   "source": [
    "x_val = x_train[50000:]\n",
    "y_val = y_train[50000:]\n",
    "x_train = x_train[:50000]\n",
    "y_train = y_train[:50000]"
   ]
  },
  {
   "cell_type": "markdown",
   "metadata": {},
   "source": [
    "#### 데이터셋 전처리 : 홀수는 1, 짝수는 0으로 변환"
   ]
  },
  {
   "cell_type": "code",
   "execution_count": 5,
   "metadata": {},
   "outputs": [],
   "source": [
    "y_train = y_train % 2\n",
    "y_val = y_val % 2\n",
    "y_test = y_test % 2"
   ]
  },
  {
   "cell_type": "markdown",
   "metadata": {},
   "source": [
    "### 2. 모델 구성하기(CNN 적용)"
   ]
  },
  {
   "cell_type": "code",
   "execution_count": 6,
   "metadata": {},
   "outputs": [
    {
     "name": "stdout",
     "output_type": "stream",
     "text": [
      "Model: \"sequential\"\n",
      "_________________________________________________________________\n",
      "Layer (type)                 Output Shape              Param #   \n",
      "=================================================================\n",
      "conv2d (Conv2D)              (None, 26, 26, 32)        320       \n",
      "_________________________________________________________________\n",
      "max_pooling2d (MaxPooling2D) (None, 13, 13, 32)        0         \n",
      "_________________________________________________________________\n",
      "conv2d_1 (Conv2D)            (None, 11, 11, 32)        9248      \n",
      "_________________________________________________________________\n",
      "max_pooling2d_1 (MaxPooling2 (None, 5, 5, 32)          0         \n",
      "_________________________________________________________________\n",
      "flatten (Flatten)            (None, 800)               0         \n",
      "_________________________________________________________________\n",
      "dense (Dense)                (None, 256)               205056    \n",
      "_________________________________________________________________\n",
      "dense_1 (Dense)              (None, 1)                 257       \n",
      "=================================================================\n",
      "Total params: 214,881\n",
      "Trainable params: 214,881\n",
      "Non-trainable params: 0\n",
      "_________________________________________________________________\n"
     ]
    }
   ],
   "source": [
    "model = Sequential()\n",
    "model.add(Conv2D(32, (3, 3), activation='relu', input_shape=(width, height, 1)))\n",
    "model.add(MaxPooling2D(pool_size=(2, 2)))\n",
    "model.add(Conv2D(32, (3, 3), activation='relu'))\n",
    "model.add(MaxPooling2D(pool_size=(2, 2)))\n",
    "model.add(Flatten())\n",
    "model.add(Dense(256, activation='relu'))\n",
    "model.add(Dense(1, activation='sigmoid'))\n",
    "model.summary()"
   ]
  },
  {
   "cell_type": "markdown",
   "metadata": {},
   "source": [
    "### 3. 모델 학습과정 설정하기"
   ]
  },
  {
   "cell_type": "code",
   "execution_count": 7,
   "metadata": {},
   "outputs": [],
   "source": [
    "model.compile(loss='binary_crossentropy', optimizer='sgd', metrics=['accuracy'])"
   ]
  },
  {
   "cell_type": "markdown",
   "metadata": {},
   "source": [
    "### 4.모델 학습시키기"
   ]
  },
  {
   "cell_type": "code",
   "execution_count": 8,
   "metadata": {},
   "outputs": [
    {
     "name": "stdout",
     "output_type": "stream",
     "text": [
      "Train on 50000 samples, validate on 10000 samples\n",
      "Epoch 1/30\n",
      "50000/50000 [==============================] - 7s 135us/sample - loss: 0.3292 - accuracy: 0.8574 - val_loss: 0.1549 - val_accuracy: 0.9463\n",
      "Epoch 2/30\n",
      "50000/50000 [==============================] - 5s 93us/sample - loss: 0.1340 - accuracy: 0.9510 - val_loss: 0.0883 - val_accuracy: 0.9698\n",
      "Epoch 3/30\n",
      "50000/50000 [==============================] - 5s 96us/sample - loss: 0.0879 - accuracy: 0.9686 - val_loss: 0.0679 - val_accuracy: 0.9756\n",
      "Epoch 4/30\n",
      "50000/50000 [==============================] - 5s 96us/sample - loss: 0.0689 - accuracy: 0.9753 - val_loss: 0.0614 - val_accuracy: 0.9797\n",
      "Epoch 5/30\n",
      "50000/50000 [==============================] - 5s 96us/sample - loss: 0.0589 - accuracy: 0.9799 - val_loss: 0.0641 - val_accuracy: 0.9774\n",
      "Epoch 6/30\n",
      "50000/50000 [==============================] - 5s 96us/sample - loss: 0.0512 - accuracy: 0.9821 - val_loss: 0.0457 - val_accuracy: 0.9862\n",
      "Epoch 7/30\n",
      "50000/50000 [==============================] - 5s 96us/sample - loss: 0.0468 - accuracy: 0.9836 - val_loss: 0.0444 - val_accuracy: 0.9859\n",
      "Epoch 8/30\n",
      "50000/50000 [==============================] - 5s 96us/sample - loss: 0.0425 - accuracy: 0.9850 - val_loss: 0.0485 - val_accuracy: 0.9839\n",
      "Epoch 9/30\n",
      "50000/50000 [==============================] - 5s 96us/sample - loss: 0.0395 - accuracy: 0.9861 - val_loss: 0.0452 - val_accuracy: 0.9855\n",
      "Epoch 10/30\n",
      "50000/50000 [==============================] - 5s 96us/sample - loss: 0.0369 - accuracy: 0.9871 - val_loss: 0.0382 - val_accuracy: 0.9874\n",
      "Epoch 11/30\n",
      "50000/50000 [==============================] - 5s 96us/sample - loss: 0.0345 - accuracy: 0.9881 - val_loss: 0.0367 - val_accuracy: 0.9875\n",
      "Epoch 12/30\n",
      "50000/50000 [==============================] - 5s 96us/sample - loss: 0.0321 - accuracy: 0.9891 - val_loss: 0.0469 - val_accuracy: 0.9836\n",
      "Epoch 13/30\n",
      "50000/50000 [==============================] - 5s 96us/sample - loss: 0.0297 - accuracy: 0.9897 - val_loss: 0.0349 - val_accuracy: 0.9894\n",
      "Epoch 14/30\n",
      "50000/50000 [==============================] - 5s 96us/sample - loss: 0.0282 - accuracy: 0.9905 - val_loss: 0.0331 - val_accuracy: 0.9896\n",
      "Epoch 15/30\n",
      "50000/50000 [==============================] - 5s 96us/sample - loss: 0.0267 - accuracy: 0.9909 - val_loss: 0.0326 - val_accuracy: 0.9896\n",
      "Epoch 16/30\n",
      "50000/50000 [==============================] - 5s 96us/sample - loss: 0.0248 - accuracy: 0.9913 - val_loss: 0.0345 - val_accuracy: 0.9891\n",
      "Epoch 17/30\n",
      "50000/50000 [==============================] - 5s 97us/sample - loss: 0.0233 - accuracy: 0.9927 - val_loss: 0.0342 - val_accuracy: 0.9892\n",
      "Epoch 18/30\n",
      "50000/50000 [==============================] - 5s 98us/sample - loss: 0.0217 - accuracy: 0.9924 - val_loss: 0.0321 - val_accuracy: 0.9902\n",
      "Epoch 19/30\n",
      "50000/50000 [==============================] - 5s 98us/sample - loss: 0.0207 - accuracy: 0.9927 - val_loss: 0.0438 - val_accuracy: 0.9870\n",
      "Epoch 20/30\n",
      "50000/50000 [==============================] - 5s 99us/sample - loss: 0.0196 - accuracy: 0.9934 - val_loss: 0.0324 - val_accuracy: 0.9899\n",
      "Epoch 21/30\n",
      "50000/50000 [==============================] - 5s 97us/sample - loss: 0.0182 - accuracy: 0.9937 - val_loss: 0.0302 - val_accuracy: 0.9909\n",
      "Epoch 22/30\n",
      "50000/50000 [==============================] - 5s 101us/sample - loss: 0.0181 - accuracy: 0.9937 - val_loss: 0.0292 - val_accuracy: 0.9915\n",
      "Epoch 23/30\n",
      "50000/50000 [==============================] - 5s 99us/sample - loss: 0.0164 - accuracy: 0.9946 - val_loss: 0.0307 - val_accuracy: 0.9901\n",
      "Epoch 24/30\n",
      "50000/50000 [==============================] - 5s 98us/sample - loss: 0.0156 - accuracy: 0.9949 - val_loss: 0.0302 - val_accuracy: 0.9905\n",
      "Epoch 25/30\n",
      "50000/50000 [==============================] - 5s 96us/sample - loss: 0.0145 - accuracy: 0.9949 - val_loss: 0.0302 - val_accuracy: 0.9906\n",
      "Epoch 26/30\n",
      "50000/50000 [==============================] - 5s 98us/sample - loss: 0.0141 - accuracy: 0.9949 - val_loss: 0.0297 - val_accuracy: 0.9911\n",
      "Epoch 27/30\n",
      "50000/50000 [==============================] - 5s 98us/sample - loss: 0.0131 - accuracy: 0.9956 - val_loss: 0.0319 - val_accuracy: 0.9910\n",
      "Epoch 28/30\n",
      "50000/50000 [==============================] - 5s 96us/sample - loss: 0.0121 - accuracy: 0.9960 - val_loss: 0.0297 - val_accuracy: 0.9904\n",
      "Epoch 29/30\n",
      "50000/50000 [==============================] - 5s 96us/sample - loss: 0.0119 - accuracy: 0.9962 - val_loss: 0.0306 - val_accuracy: 0.9911\n",
      "Epoch 30/30\n",
      "50000/50000 [==============================] - 5s 96us/sample - loss: 0.0111 - accuracy: 0.9963 - val_loss: 0.0331 - val_accuracy: 0.9897\n"
     ]
    }
   ],
   "source": [
    "hist = model.fit(x_train, y_train, epochs=30, batch_size=32, validation_data=(x_val, y_val))"
   ]
  },
  {
   "cell_type": "markdown",
   "metadata": {},
   "source": [
    "### 5. 학습과정 살펴보기"
   ]
  },
  {
   "cell_type": "code",
   "execution_count": 9,
   "metadata": {},
   "outputs": [
    {
     "data": {
      "image/png": "[encoded data removed]",
      "text/plain": [
       "<Figure size 432x288 with 2 Axes>"
      ]
     },
     "metadata": {
      "needs_background": "light"
     },
     "output_type": "display_data"
    }
   ],
   "source": [
    "%matplotlib inline\n",
    "\n",
    "fig, loss_ax = plt.subplots()\n",
    "acc_ax = loss_ax.twinx()                                        # loss_ax와 함께 acc_ax 그래프 같이 표현 \n",
    "\n",
    "# loss 에 대한 그래프 \n",
    "loss_ax.plot(hist.history['loss'], 'y', label='train loss')     # 노란색 선 \n",
    "loss_ax.plot(hist.history['val_loss'], 'r', label='val loss')   # 빨간색 선 \n",
    "loss_ax.set_ylim([0.0, 0.5])                                    # Y축 값 \n",
    "\n",
    "# acc 에 대한 그래프 \n",
    "acc_ax.plot(hist.history['accuracy'], 'b', label='train acc')   # 파란색 선 \n",
    "acc_ax.plot(hist.history['val_accuracy'], 'g', label='val acc') # 녹색 선 \n",
    "acc_ax.set_ylim([0.8, 1.0])\n",
    "\n",
    "# x, y 축에 라벨 붙이기 \n",
    "loss_ax.set_xlabel('epoch')\n",
    "loss_ax.set_ylabel('loss')\n",
    "acc_ax.set_ylabel('accuray')\n",
    "\n",
    "# 범례 보이기 \n",
    "loss_ax.legend(loc='upper left')\n",
    "acc_ax.legend(loc='lower left')\n",
    "\n",
    "plt.show()"
   ]
  },
  {
   "cell_type": "markdown",
   "metadata": {},
   "source": [
    "### 6. 모델 평가하기"
   ]
  },
  {
   "cell_type": "code",
   "execution_count": 10,
   "metadata": {},
   "outputs": [
    {
     "name": "stdout",
     "output_type": "stream",
     "text": [
      "10000/10000 [==============================] - 0s 49us/sample - loss: 0.0219 - accuracy: 0.9931\n",
      "loss :  0.021896534882100242\n",
      "metrics :  0.9931\n"
     ]
    }
   ],
   "source": [
    "loss, metrics = model.evaluate(x_test, y_test, batch_size=32)\n",
    "print('loss : ', loss)\n",
    "print('metrics : ', metrics)"
   ]
  },
  {
   "cell_type": "markdown",
   "metadata": {},
   "source": [
    "### 7. 모델 사용하기"
   ]
  },
  {
   "cell_type": "code",
   "execution_count": 11,
   "metadata": {},
   "outputs": [],
   "source": [
    "yhat_test = model.predict(x_test, batch_size=32)"
   ]
  },
  {
   "cell_type": "markdown",
   "metadata": {},
   "source": [
    "### 데이터 셋 일부 확인하기 "
   ]
  },
  {
   "cell_type": "code",
   "execution_count": 12,
   "metadata": {},
   "outputs": [
    {
     "data": {
      "image/png": "[encoded data removed]",
      "text/plain": [
       "<Figure size 720x720 with 25 Axes>"
      ]
     },
     "metadata": {
      "needs_background": "light"
     },
     "output_type": "display_data"
    }
   ],
   "source": [
    "%matplotlib inline\n",
    "plt_row = 5\n",
    "plt_col = 5\n",
    "\n",
    "plt.rcParams[\"figure.figsize\"] = (10,10)\n",
    "\n",
    "f, axarr = plt.subplots(plt_row, plt_col)\n",
    "\n",
    "for i in range(plt_row*plt_col):\n",
    "    sub_plt = axarr[i//plt_row, i%plt_col]\n",
    "    sub_plt.axis('off')\n",
    "    sub_plt.imshow(x_test[i].reshape(width, height))\n",
    "    \n",
    "    # 실제 값 \n",
    "    sub_plt_title = 'R: '\n",
    "    \n",
    "    if y_test[i] :\n",
    "        sub_plt_title += 'odd '\n",
    "    else:\n",
    "        sub_plt_title += 'even '\n",
    "\n",
    "    # 예측 값 \n",
    "    sub_plt_title += 'P: '\n",
    "    \n",
    "    if yhat_test[i] >= 0.5 :\n",
    "        sub_plt_title += 'odd '\n",
    "    else:\n",
    "        sub_plt_title += 'even '  \n",
    "        \n",
    "    sub_plt.set_title(sub_plt_title)\n",
    "    \n",
    "plt.show()"
   ]
  },
  {
   "cell_type": "code",
   "execution_count": null,
   "metadata": {},
   "outputs": [],
   "source": []
  }
 ],
 "metadata": {
  "kernelspec": {
   "display_name": "Python 3",
   "language": "python",
   "name": "python3"
  },
  "language_info": {
   "codemirror_mode": {
    "name": "ipython",
    "version": 3
   },
   "file_extension": ".py",
   "mimetype": "text/x-python",
   "name": "python",
   "nbconvert_exporter": "python",
   "pygments_lexer": "ipython3",
   "version": "3.7.6"
  }
 },
 "nbformat": 4,
 "nbformat_minor": 4
}
