{
 "cells": [
  {
   "cell_type": "markdown",
   "metadata": {},
   "source": [
    "# 다중 클래스 분류 모델(컨볼루션 신경망 모델)"
   ]
  },
  {
   "cell_type": "markdown",
   "metadata": {},
   "source": [
    "# 0. 사용할 패키지 불러오기"
   ]
  },
  {
   "cell_type": "code",
   "execution_count": 1,
   "metadata": {},
   "outputs": [],
   "source": [
    "from tensorflow.keras.datasets import reuters\n",
    "from tensorflow.keras.preprocessing import sequence\n",
    "from tensorflow.keras.models import Sequential\n",
    "from tensorflow.keras.layers import Dense\n",
    "from tensorflow.keras.layers import Flatten\n",
    "from tensorflow.keras.layers import Embedding\n",
    "from tensorflow.keras.layers import LSTM\n",
    "from tensorflow.keras.layers import Dropout\n",
    "from tensorflow.keras.layers import Conv1D\n",
    "from tensorflow.keras.layers import GlobalMaxPooling1D\n",
    "from tensorflow.keras.utils import to_categorical\n",
    "import matplotlib.pyplot as plt"
   ]
  },
  {
   "cell_type": "markdown",
   "metadata": {},
   "source": [
    "### 데이터 셋 준비 \n",
    "- 로이터에서 제공하는 뉴스와이어 데이터셋을 이용\n",
    "- 이 데이터셋은 총 11,228개의 샘플로 구성\n",
    "- 라벨은 46개 주제로 지정되어 0에서 45의 값을 가지고 있음\n",
    "- 데이터셋은 이미 정수로 인코딩되어 있으며, 정수값은 단어의 빈도수를 나타냄 \n",
    "- 모든 단어를 고려할 수 없으므로 빈도수가 높은 단어를 위주로 데이터셋을 생성\n",
    "- 15,000번째로 많이 사용하는 단어까지만 데이터셋으로 만들고 싶다면, num_words 인자에 15000이라고 지정하면 됨"
   ]
  },
  {
   "cell_type": "code",
   "execution_count": 2,
   "metadata": {},
   "outputs": [],
   "source": [
    "max_features = 15000  # 15,000 번째로 많이 사용하는 단어까지  \n",
    "text_max_words = 120  # 최대 워드 갯수 "
   ]
  },
  {
   "cell_type": "markdown",
   "metadata": {},
   "source": [
    "### 1. 데이터셋 생성하기\n",
    "#### 훈련셋과 시험셋 불러오기"
   ]
  },
  {
   "cell_type": "code",
   "execution_count": 3,
   "metadata": {},
   "outputs": [
    {
     "name": "stdout",
     "output_type": "stream",
     "text": [
      "(8982,)\n",
      "(8982,)\n",
      "(2246,)\n",
      "(2246,)\n"
     ]
    }
   ],
   "source": [
    "(x_train, y_train), (x_test, y_test) = reuters.load_data(num_words=max_features)\n",
    "print(x_train.shape)\n",
    "print(y_train.shape)\n",
    "print(x_test.shape)\n",
    "print(y_test.shape)"
   ]
  },
  {
   "cell_type": "markdown",
   "metadata": {},
   "source": [
    "#### 훈련셋과 검증셋 분리\n",
    "- 훈련셋 8,982개와 시험셋 2,246개로 구성된 총 11,228개 샘플이 로딩\n",
    "- 훈련셋과 시험셋의 비율은 load_data() 함수의 test_split 인자로 조절 가능 함\n",
    "- 각 샘플은 뉴스 한 건을 의미하며, 단어의 인덱스로 구성되어 있습니다. \n",
    "- num_words=15000으로 지정했기 때문에 빈도수가 15,000을 넘는 단어는 로딩되지 않음\n",
    "- 훈련셋 8,982개 중 다시 7,000개을 훈련셋으로 나머지를 검증셋으로 분리"
   ]
  },
  {
   "cell_type": "code",
   "execution_count": 4,
   "metadata": {},
   "outputs": [],
   "source": [
    "x_val = x_train[7000:]\n",
    "y_val = y_train[7000:]\n",
    "x_train = x_train[:7000]\n",
    "y_train = y_train[:7000]"
   ]
  },
  {
   "cell_type": "markdown",
   "metadata": {},
   "source": [
    "#### 데이터셋 전처리 : 문장 길이 맞추기\n",
    "- 각 샘플의 길이가 달라서 모델의 입력으로 사용하기 위해 케라스에서 제공되는 전처리 함수인 sequence의 pad_sequences() 함수를 사용\n",
    "- 이 함수는 두 가지 역할을 수행함\n",
    "    - 문장의 길이를 maxlen 인자로 맞춰줌 \n",
    "    - 예를 들어 120으로 지정했다면 120보다 짧은 문장은 0으로 채워서 120단어로 맞춰주고 120보다 긴 문장은 120단어까지만 잘라냄\n",
    "    - (num_samples, num_timesteps)으로 2차원의 numpy 배열로 만들어줍니다. \n",
    "    - maxlen을 120으로 지정하였다면, num_timesteps도 120이 됩니다."
   ]
  },
  {
   "cell_type": "code",
   "execution_count": 5,
   "metadata": {},
   "outputs": [],
   "source": [
    "x_train = sequence.pad_sequences(x_train, maxlen=text_max_words)\n",
    "x_val = sequence.pad_sequences(x_val, maxlen=text_max_words)\n",
    "x_test = sequence.pad_sequences(x_test, maxlen=text_max_words)"
   ]
  },
  {
   "cell_type": "markdown",
   "metadata": {},
   "source": [
    "#### one-hot 인코딩"
   ]
  },
  {
   "cell_type": "code",
   "execution_count": 6,
   "metadata": {},
   "outputs": [],
   "source": [
    "y_train = to_categorical(y_train)\n",
    "y_val = to_categorical(y_val)\n",
    "y_test = to_categorical(y_test)"
   ]
  },
  {
   "cell_type": "markdown",
   "metadata": {},
   "source": [
    "### 2. 모델 구성하기(다층퍼셉트론 신경망 모델)\n",
    "- 임베딩 레이어는 0에서 45의 정수값으로 지정된 단어를 128벡터로 인코딩합니다. \n",
    "- 문장의 길이가 120이므로 임베딩 레이어는 128 속성을 가진 벡터를 120개 반환합니다. \n",
    "- 이를 Flatten 레이어를 통해 1차원 벡터로 만든 뒤 전결합층으로 전달합니다. \n",
    "- 46개 주제를 분류해야 하므로 출력층의 활성화 함수로 ‘softmax’를 사용하였습니다.)"
   ]
  },
  {
   "cell_type": "code",
   "execution_count": 7,
   "metadata": {},
   "outputs": [
    {
     "name": "stdout",
     "output_type": "stream",
     "text": [
      "Model: \"sequential\"\n",
      "_________________________________________________________________\n",
      "Layer (type)                 Output Shape              Param #   \n",
      "=================================================================\n",
      "embedding (Embedding)        (None, 120, 128)          1920000   \n",
      "_________________________________________________________________\n",
      "dropout (Dropout)            (None, 120, 128)          0         \n",
      "_________________________________________________________________\n",
      "conv1d (Conv1D)              (None, 118, 256)          98560     \n",
      "_________________________________________________________________\n",
      "global_max_pooling1d (Global (None, 256)               0         \n",
      "_________________________________________________________________\n",
      "dense (Dense)                (None, 128)               32896     \n",
      "_________________________________________________________________\n",
      "dropout_1 (Dropout)          (None, 128)               0         \n",
      "_________________________________________________________________\n",
      "dense_1 (Dense)              (None, 46)                5934      \n",
      "=================================================================\n",
      "Total params: 2,057,390\n",
      "Trainable params: 2,057,390\n",
      "Non-trainable params: 0\n",
      "_________________________________________________________________\n"
     ]
    }
   ],
   "source": [
    "model = Sequential()\n",
    "model.add(Embedding(max_features, 128, input_length=text_max_words))\n",
    "model.add(Dropout(0.2))\n",
    "model.add(Conv1D(256,\n",
    "                 3,\n",
    "                 padding='valid',\n",
    "                 activation='relu',\n",
    "                 strides=1))\n",
    "model.add(GlobalMaxPooling1D())\n",
    "model.add(Dense(128, activation='relu'))\n",
    "model.add(Dropout(0.2))\n",
    "model.add(Dense(46, activation='softmax'))\n",
    "model.summary()"
   ]
  },
  {
   "cell_type": "markdown",
   "metadata": {},
   "source": [
    "### 3. 모델 학습과정 설정하기"
   ]
  },
  {
   "cell_type": "code",
   "execution_count": 8,
   "metadata": {},
   "outputs": [],
   "source": [
    "model.compile(loss='categorical_crossentropy', optimizer='adam', metrics=['accuracy'])"
   ]
  },
  {
   "cell_type": "markdown",
   "metadata": {},
   "source": [
    "### 4. 모델 학습시키기"
   ]
  },
  {
   "cell_type": "code",
   "execution_count": 9,
   "metadata": {},
   "outputs": [
    {
     "name": "stdout",
     "output_type": "stream",
     "text": [
      "Epoch 1/10\n",
      "110/110 [==============================] - 3s 25ms/step - loss: 2.2757 - accuracy: 0.4470 - val_loss: 1.7393 - val_accuracy: 0.5434\n",
      "Epoch 2/10\n",
      "110/110 [==============================] - 3s 24ms/step - loss: 1.5813 - accuracy: 0.6227 - val_loss: 1.3407 - val_accuracy: 0.6902\n",
      "Epoch 3/10\n",
      "110/110 [==============================] - 3s 23ms/step - loss: 1.2340 - accuracy: 0.7069 - val_loss: 1.1986 - val_accuracy: 0.7134\n",
      "Epoch 4/10\n",
      "110/110 [==============================] - 3s 23ms/step - loss: 0.9920 - accuracy: 0.7657 - val_loss: 1.0962 - val_accuracy: 0.7432\n",
      "Epoch 5/10\n",
      "110/110 [==============================] - 3s 23ms/step - loss: 0.7713 - accuracy: 0.8109 - val_loss: 1.0582 - val_accuracy: 0.7563\n",
      "Epoch 6/10\n",
      "110/110 [==============================] - 3s 23ms/step - loss: 0.5927 - accuracy: 0.8510 - val_loss: 1.0729 - val_accuracy: 0.7568\n",
      "Epoch 7/10\n",
      "110/110 [==============================] - 3s 24ms/step - loss: 0.4447 - accuracy: 0.8876 - val_loss: 1.1138 - val_accuracy: 0.7619\n",
      "Epoch 8/10\n",
      "110/110 [==============================] - 3s 24ms/step - loss: 0.3411 - accuracy: 0.9141 - val_loss: 1.1492 - val_accuracy: 0.7608\n",
      "Epoch 9/10\n",
      "110/110 [==============================] - 3s 23ms/step - loss: 0.2709 - accuracy: 0.9339 - val_loss: 1.2118 - val_accuracy: 0.7543\n",
      "Epoch 10/10\n",
      "110/110 [==============================] - 3s 23ms/step - loss: 0.2232 - accuracy: 0.9433 - val_loss: 1.2336 - val_accuracy: 0.7588\n"
     ]
    }
   ],
   "source": [
    "hist = model.fit(x_train, y_train, epochs=10, batch_size=64, validation_data=(x_val, y_val))"
   ]
  },
  {
   "cell_type": "markdown",
   "metadata": {},
   "source": [
    "### 5. 학습과정 살펴보기"
   ]
  },
  {
   "cell_type": "code",
   "execution_count": 10,
   "metadata": {},
   "outputs": [
    {
     "data": {
      "image/png": "[encoded data removed]",
      "text/plain": [
       "<Figure size 432x288 with 2 Axes>"
      ]
     },
     "metadata": {
      "needs_background": "light"
     },
     "output_type": "display_data"
    }
   ],
   "source": [
    "%matplotlib inline\n",
    "\n",
    "fig, loss_ax = plt.subplots()\n",
    "\n",
    "acc_ax = loss_ax.twinx()\n",
    "\n",
    "loss_ax.plot(hist.history['loss'], 'y', label='train loss')\n",
    "loss_ax.plot(hist.history['val_loss'], 'r', label='val loss')\n",
    "loss_ax.set_ylim([0.0, 3.0])\n",
    "\n",
    "acc_ax.plot(hist.history['accuracy'], 'b', label='train acc')\n",
    "acc_ax.plot(hist.history['val_accuracy'], 'g', label='val acc')\n",
    "acc_ax.set_ylim([0.0, 1.0])\n",
    "\n",
    "loss_ax.set_xlabel('epoch')\n",
    "loss_ax.set_ylabel('loss')\n",
    "acc_ax.set_ylabel('accuray')\n",
    "\n",
    "loss_ax.legend(loc='upper left')\n",
    "acc_ax.legend(loc='lower left')\n",
    "\n",
    "plt.show()"
   ]
  },
  {
   "cell_type": "markdown",
   "metadata": {},
   "source": [
    "### 6. 모델 평가하기"
   ]
  },
  {
   "cell_type": "code",
   "execution_count": 11,
   "metadata": {},
   "outputs": [
    {
     "name": "stdout",
     "output_type": "stream",
     "text": [
      "36/36 [==============================] - 0s 4ms/step - loss: 1.2586 - accuracy: 0.7511\n",
      "## evaluation loss and_metrics ##\n",
      "[1.2585772275924683, 0.7511131167411804]\n"
     ]
    }
   ],
   "source": [
    "loss_and_metrics = model.evaluate(x_test, y_test, batch_size=64)\n",
    "print('## evaluation loss and_metrics ##')\n",
    "print(loss_and_metrics)"
   ]
  },
  {
   "cell_type": "code",
   "execution_count": null,
   "metadata": {},
   "outputs": [],
   "source": []
  }
 ],
 "metadata": {
  "kernelspec": {
   "display_name": "Python 3",
   "language": "python",
   "name": "python3"
  },
  "language_info": {
   "codemirror_mode": {
    "name": "ipython",
    "version": 3
   },
   "file_extension": ".py",
   "mimetype": "text/x-python",
   "name": "python",
   "nbconvert_exporter": "python",
   "pygments_lexer": "ipython3",
   "version": "3.7.6"
  }
 },
 "nbformat": 4,
 "nbformat_minor": 4
}
