{
 "cells": [
  {
   "cell_type": "markdown",
   "metadata": {},
   "source": [
    "# 학습 모델 만들기 "
   ]
  },
  {
   "cell_type": "markdown",
   "metadata": {},
   "source": [
    "## 0. 사용할 패키지 불러오기"
   ]
  },
  {
   "cell_type": "code",
   "execution_count": 1,
   "metadata": {},
   "outputs": [],
   "source": [
    "from tensorflow.keras.utils import to_categorical\n",
    "from tensorflow.keras.datasets import mnist\n",
    "from tensorflow.keras.models import Sequential\n",
    "from tensorflow.keras.layers import Dense, Activation\n",
    "import numpy as np\n",
    "from numpy import argmax\n",
    "\n",
    "np.random.seed(3)"
   ]
  },
  {
   "cell_type": "markdown",
   "metadata": {},
   "source": [
    "## 1. 데이터셋 생성하기\n",
    "* 원본 데이터를 불러오거나 시뮬레이션을 통해 데이터를 생성합니다.\n",
    "* 데이터로부터 훈련셋, 검증셋, 시험셋을 생성합니다.\n",
    "* 이 때 딥러닝 모델의 학습 및 평가를 할 수 있도록 포맷 변환을 합니다."
   ]
  },
  {
   "cell_type": "markdown",
   "metadata": {},
   "source": [
    "### 1.1 훈련셋과 시험셋 로딩"
   ]
  },
  {
   "cell_type": "code",
   "execution_count": 2,
   "metadata": {},
   "outputs": [],
   "source": [
    "(x_train, y_train), (x_test, y_test) = mnist.load_data()"
   ]
  },
  {
   "cell_type": "markdown",
   "metadata": {},
   "source": [
    "### 1.2 데이터셋 전처리"
   ]
  },
  {
   "cell_type": "code",
   "execution_count": 3,
   "metadata": {},
   "outputs": [],
   "source": [
    "x_train = x_train.reshape(60000, 784).astype('float32') / 255.0\n",
    "x_test = x_test.reshape(10000, 784).astype('float32') / 255.0"
   ]
  },
  {
   "cell_type": "markdown",
   "metadata": {},
   "source": [
    "### 1.3 원핫인코딩 (one-hot encoding) 처리"
   ]
  },
  {
   "cell_type": "code",
   "execution_count": 4,
   "metadata": {},
   "outputs": [],
   "source": [
    "y_train = to_categorical(y_train)\n",
    "y_test = to_categorical(y_test)"
   ]
  },
  {
   "cell_type": "markdown",
   "metadata": {},
   "source": [
    "### 1.4 훈련셋과 검증셋 분리"
   ]
  },
  {
   "cell_type": "code",
   "execution_count": 5,
   "metadata": {},
   "outputs": [],
   "source": [
    "x_val = x_train[:42000] # 훈련셋의 30%를 검증셋으로 사용\n",
    "x_train = x_train[42000:]\n",
    "y_val = y_train[:42000] # 훈련셋의 30%를 검증셋으로 사용\n",
    "y_train = y_train[42000:]"
   ]
  },
  {
   "cell_type": "markdown",
   "metadata": {},
   "source": [
    "## 2. 모델 구성하기\n",
    "* 시퀀스 모델을 생성한 뒤 필요한 레이어를 추가하여 구성합니다.\n",
    "* 좀 더 복잡한 모델이 필요할 때는 케라스 함수 API를 사용합니다."
   ]
  },
  {
   "cell_type": "code",
   "execution_count": 6,
   "metadata": {},
   "outputs": [
    {
     "name": "stdout",
     "output_type": "stream",
     "text": [
      "Model: \"sequential\"\n",
      "_________________________________________________________________\n",
      "Layer (type)                 Output Shape              Param #   \n",
      "=================================================================\n",
      "dense (Dense)                (None, 64)                50240     \n",
      "_________________________________________________________________\n",
      "dense_1 (Dense)              (None, 10)                650       \n",
      "=================================================================\n",
      "Total params: 50,890\n",
      "Trainable params: 50,890\n",
      "Non-trainable params: 0\n",
      "_________________________________________________________________\n"
     ]
    }
   ],
   "source": [
    "model = Sequential()\n",
    "model.add(Dense(units=64, input_dim=28*28, activation='relu'))\n",
    "model.add(Dense(units=10, activation='softmax'))\n",
    "model.summary()"
   ]
  },
  {
   "cell_type": "markdown",
   "metadata": {},
   "source": [
    "## 3. 모델 학습과정 설정하기\n",
    "* 학습하기 전에 학습에 대한 설정을 수행합니다.\n",
    "* 손실 함수 및 최적화 방법을 정의합니다.\n",
    "* 케라스에서는 compile() 함수를 사용합니다."
   ]
  },
  {
   "cell_type": "code",
   "execution_count": 7,
   "metadata": {},
   "outputs": [],
   "source": [
    "model.compile(loss='categorical_crossentropy', optimizer='sgd', metrics=['accuracy'])"
   ]
  },
  {
   "cell_type": "markdown",
   "metadata": {},
   "source": [
    "## 4. 모델 학습시키기\n",
    "* 훈련셋을 이용하여 구성한 모델로 학습시킵니다.\n",
    "* 케라스에서는 fit() 함수를 사용합니다.\n",
    "### 4.1 배치사이즈\n",
    "* 몇 개를 처리하고 해답을 맞추는지를 의미함\n",
    "    * 100 : 100개를 처리하고 해답을 맞춤\n",
    "    * 1: 1개를 처리하고 해답을 맞춤\n",
    "* 배치사이즈가 작을수록 갱신이 자주 발생함\n",
    "### 4.2 에폭\n",
    "* 같은 데이터셋으로 반복적으로 가중치를 갱신하면서 학습\n",
    "* 서로 다른 20문제를 1번 푸는 경우보다 같은 1문제를 20번 푸는 경우 정확도가 높다."
   ]
  },
  {
   "cell_type": "code",
   "execution_count": 8,
   "metadata": {},
   "outputs": [
    {
     "name": "stdout",
     "output_type": "stream",
     "text": [
      "Train on 18000 samples, validate on 42000 samples\n",
      "Epoch 1/10\n",
      "18000/18000 [==============================] - 3s 174us/sample - loss: 1.1262 - accuracy: 0.7234 - val_loss: 0.6417 - val_accuracy: 0.8418\n",
      "Epoch 2/10\n",
      "18000/18000 [==============================] - 3s 149us/sample - loss: 0.5091 - accuracy: 0.8707 - val_loss: 0.4685 - val_accuracy: 0.8749\n",
      "Epoch 3/10\n",
      "18000/18000 [==============================] - 3s 146us/sample - loss: 0.4091 - accuracy: 0.8895 - val_loss: 0.4090 - val_accuracy: 0.8867\n",
      "Epoch 4/10\n",
      "18000/18000 [==============================] - 3s 146us/sample - loss: 0.3656 - accuracy: 0.8982 - val_loss: 0.3786 - val_accuracy: 0.8937\n",
      "Epoch 5/10\n",
      "18000/18000 [==============================] - 3s 145us/sample - loss: 0.3390 - accuracy: 0.9049 - val_loss: 0.3586 - val_accuracy: 0.8979\n",
      "Epoch 6/10\n",
      "18000/18000 [==============================] - 3s 146us/sample - loss: 0.3199 - accuracy: 0.9101 - val_loss: 0.3431 - val_accuracy: 0.9031\n",
      "Epoch 7/10\n",
      "18000/18000 [==============================] - 3s 146us/sample - loss: 0.3050 - accuracy: 0.9151 - val_loss: 0.3312 - val_accuracy: 0.9058\n",
      "Epoch 8/10\n",
      "18000/18000 [==============================] - 3s 145us/sample - loss: 0.2926 - accuracy: 0.9179 - val_loss: 0.3232 - val_accuracy: 0.9087\n",
      "Epoch 9/10\n",
      "18000/18000 [==============================] - 3s 145us/sample - loss: 0.2815 - accuracy: 0.9211 - val_loss: 0.3122 - val_accuracy: 0.9111\n",
      "Epoch 10/10\n",
      "18000/18000 [==============================] - 3s 145us/sample - loss: 0.2719 - accuracy: 0.9248 - val_loss: 0.3071 - val_accuracy: 0.9125\n"
     ]
    }
   ],
   "source": [
    "hist = model.fit(x_train, y_train, epochs=10, batch_size=32, validation_data=(x_val, y_val))"
   ]
  },
  {
   "cell_type": "markdown",
   "metadata": {},
   "source": [
    "## 5. 학습과정 그래프로 확인\n",
    "* 히스토리 객체 생성\n",
    "    * 매 에포크 마다의 훈련 손실값 (loss)\n",
    "    * 매 에포크 마다의 훈련 정확도 (acc)\n",
    "    * 에포크 마다의 검증 손실값 (val_loss)\n",
    "    * 에포크 마다의 검증 정확도 (val_acc)"
   ]
  },
  {
   "cell_type": "code",
   "execution_count": 9,
   "metadata": {},
   "outputs": [
    {
     "data": {
      "image/png": "[encoded data removed]",
      "text/plain": [
       "<Figure size 432x288 with 2 Axes>"
      ]
     },
     "metadata": {
      "needs_background": "light"
     },
     "output_type": "display_data"
    }
   ],
   "source": [
    "import matplotlib.pyplot as plt\n",
    "\n",
    "fig, loss_ax = plt.subplots()\n",
    "\n",
    "acc_ax = loss_ax.twinx()\n",
    "\n",
    "loss_ax.plot(hist.history['loss'], 'y', label='train loss')\n",
    "loss_ax.plot(hist.history['val_loss'], 'r', label='val loss')\n",
    "\n",
    "acc_ax.plot(hist.history['accuracy'], 'b', label='train acc')\n",
    "acc_ax.plot(hist.history['val_accuracy'], 'g', label='val acc')\n",
    "\n",
    "loss_ax.set_xlabel('epoch')\n",
    "loss_ax.set_ylabel('loss')\n",
    "acc_ax.set_ylabel('accuray')\n",
    "\n",
    "loss_ax.legend(loc='upper left')\n",
    "acc_ax.legend(loc='lower left')\n",
    "\n",
    "plt.show()"
   ]
  },
  {
   "cell_type": "markdown",
   "metadata": {},
   "source": [
    "## 6. 모델 평가하기\n",
    "* 준비된 시험셋으로 학습한 모델을 평가합니다.\n",
    "* 케라스에서는 evaluate() 함수를 사용합니다."
   ]
  },
  {
   "cell_type": "code",
   "execution_count": 10,
   "metadata": {},
   "outputs": [
    {
     "name": "stdout",
     "output_type": "stream",
     "text": [
      "10000/10000 [==============================] - 0s 40us/sample - loss: 0.2848 - accuracy: 0.9197\n",
      "\n",
      "loss_and_metrics : [0.2847642801702023, 0.9197]\n"
     ]
    }
   ],
   "source": [
    "loss_and_metrics = model.evaluate(x_test, y_test, batch_size=32)\n",
    "print('')\n",
    "print('loss_and_metrics : ' + str(loss_and_metrics))"
   ]
  },
  {
   "cell_type": "markdown",
   "metadata": {},
   "source": [
    "## 6-1 모델 저장하기\n",
    "* 모델에는 다음과 같은 정보가 저장 \n",
    "    * 나중에 모델을 재구성하기 위한 모델의 구성 정보\n",
    "    * 모델를 구성하는 각 뉴런들의 가중치\n",
    "    * 손실함수, 최적하기 등의 학습 설정\n",
    "    * 재학습을 할 수 있도록 마지막 학습 상태"
   ]
  },
  {
   "cell_type": "code",
   "execution_count": 11,
   "metadata": {},
   "outputs": [],
   "source": [
    "from tensorflow.keras.models import load_model\n",
    "model.save('mnist_mlp_model2.h5')"
   ]
  },
  {
   "cell_type": "markdown",
   "metadata": {},
   "source": [
    "## 7. 모델 사용하기\n",
    "* 임의의 입력으로 모델의 출력을 얻습니다.\n",
    "* 케라스에서는 predict() 함수를 사용합니다."
   ]
  },
  {
   "cell_type": "code",
   "execution_count": 12,
   "metadata": {},
   "outputs": [
    {
     "name": "stdout",
     "output_type": "stream",
     "text": [
      "True : 6, Predict : 6\n",
      "True : 6, Predict : 6\n",
      "True : 7, Predict : 7\n",
      "True : 5, Predict : 5\n",
      "True : 0, Predict : 6\n"
     ]
    }
   ],
   "source": [
    "xhat_idx = np.random.choice(x_test.shape[0], 5)\n",
    "xhat = x_test[xhat_idx]\n",
    "yhat = model.predict_classes(xhat)\n",
    "\n",
    "for i in range(5):\n",
    "    print('True : ' + str(argmax(y_test[xhat_idx[i]])) + ', Predict : ' + str(yhat[i]))"
   ]
  },
  {
   "cell_type": "code",
   "execution_count": null,
   "metadata": {},
   "outputs": [],
   "source": []
  }
 ],
 "metadata": {
  "kernelspec": {
   "display_name": "Python 3",
   "language": "python",
   "name": "python3"
  },
  "language_info": {
   "codemirror_mode": {
    "name": "ipython",
    "version": 3
   },
   "file_extension": ".py",
   "mimetype": "text/x-python",
   "name": "python",
   "nbconvert_exporter": "python",
   "pygments_lexer": "ipython3",
   "version": "3.7.6"
  }
 },
 "nbformat": 4,
 "nbformat_minor": 4
}
