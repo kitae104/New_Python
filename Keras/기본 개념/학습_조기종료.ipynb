{
 "cells": [
  {
   "cell_type": "markdown",
   "metadata": {},
   "source": [
    "# 기본 케라스 구조 및 학습 조기 종료"
   ]
  },
  {
   "cell_type": "markdown",
   "metadata": {},
   "source": [
    "### 0. 사용할 패키지 불러오기"
   ]
  },
  {
   "cell_type": "code",
   "execution_count": 1,
   "metadata": {},
   "outputs": [],
   "source": [
    "from tensorflow.keras.utils import to_categorical\n",
    "from tensorflow.keras.datasets import mnist\n",
    "from tensorflow.keras.models import Sequential\n",
    "from tensorflow.keras.layers import Dense, Activation\n",
    "import numpy as np\n",
    "import tensorflow as tf\n",
    "\n",
    "np.random.seed(3)"
   ]
  },
  {
   "cell_type": "markdown",
   "metadata": {},
   "source": [
    "### 1. 데이터셋 생성하기\n",
    "* 원본 데이터를 불러오거나 시뮬레이션을 통해 데이터를 생성합니다.\n",
    "* 데이터로부터 훈련셋, 검증셋, 시험셋을 생성합니다.\n",
    "* 이 때 딥러닝 모델의 학습 및 평가를 할 수 있도록 포맷 변환을 합니다."
   ]
  },
  {
   "cell_type": "markdown",
   "metadata": {},
   "source": [
    "#### 1.1 훈련셋과 시험셋 로딩"
   ]
  },
  {
   "cell_type": "code",
   "execution_count": 2,
   "metadata": {},
   "outputs": [
    {
     "name": "stdout",
     "output_type": "stream",
     "text": [
      "X_train (50000, 28, 28)\n",
      "X_train (50000,)\n",
      "X_train (10000, 28, 28)\n",
      "X_train (10000,)\n"
     ]
    }
   ],
   "source": [
    "(X_train, Y_train), (X_test, Y_test) = mnist.load_data()\n",
    "\n",
    "# 훈련셋과 검증셋 분리\n",
    "X_val = X_train[50000:]        \n",
    "Y_val = Y_train[50000:]\n",
    "X_train = X_train[:50000]\n",
    "Y_train = Y_train[:50000]\n",
    "print('X_train', X_train.shape)\n",
    "print('X_train', Y_train.shape)\n",
    "print('X_train', X_val.shape)\n",
    "print('X_train', Y_val.shape)\n",
    "\n",
    "X_train = X_train.reshape(50000, 784).astype('float32') / 255.0\n",
    "X_val = X_val.reshape(10000, 784).astype('float32') / 255.0\n",
    "X_test = X_test.reshape(10000, 784).astype('float32') / 255.0"
   ]
  },
  {
   "cell_type": "markdown",
   "metadata": {},
   "source": [
    "#### 1.2 훈련셋, 검증셋 고르기"
   ]
  },
  {
   "cell_type": "code",
   "execution_count": 3,
   "metadata": {},
   "outputs": [],
   "source": [
    "train_rand_idxs = np.random.choice(50000, 700)\n",
    "val_rand_idxs = np.random.choice(10000, 300)\n",
    "\n",
    "X_train = X_train[train_rand_idxs]\n",
    "Y_train = Y_train[train_rand_idxs]\n",
    "X_val = X_val[val_rand_idxs]\n",
    "Y_val = Y_val[val_rand_idxs]"
   ]
  },
  {
   "cell_type": "markdown",
   "metadata": {},
   "source": [
    "#### 1.3 라벨 데이터 원핫인코딩 처리"
   ]
  },
  {
   "cell_type": "code",
   "execution_count": 4,
   "metadata": {},
   "outputs": [],
   "source": [
    "Y_train = to_categorical(Y_train)\n",
    "Y_val = to_categorical(Y_val)\n",
    "Y_test = to_categorical(Y_test)"
   ]
  },
  {
   "cell_type": "markdown",
   "metadata": {},
   "source": [
    "### 2. 모델 구성하기\n",
    "* 시퀀스 모델을 생성한 뒤 필요한 레이어를 추가하여 구성합니다.\n",
    "* 좀 더 복잡한 모델이 필요할 때는 케라스 함수 API를 사용합니다."
   ]
  },
  {
   "cell_type": "code",
   "execution_count": 5,
   "metadata": {},
   "outputs": [
    {
     "name": "stdout",
     "output_type": "stream",
     "text": [
      "Model: \"sequential\"\n",
      "_________________________________________________________________\n",
      "Layer (type)                 Output Shape              Param #   \n",
      "=================================================================\n",
      "dense (Dense)                (None, 64)                50240     \n",
      "_________________________________________________________________\n",
      "dense_1 (Dense)              (None, 10)                650       \n",
      "=================================================================\n",
      "Total params: 50,890\n",
      "Trainable params: 50,890\n",
      "Non-trainable params: 0\n",
      "_________________________________________________________________\n"
     ]
    }
   ],
   "source": [
    "model = Sequential()\n",
    "model.add(Dense(units=64, input_dim=28*28, activation='relu'))\n",
    "model.add(Dense(units=10, activation='softmax'))\n",
    "model.summary()"
   ]
  },
  {
   "cell_type": "markdown",
   "metadata": {},
   "source": [
    "### 3. 모델 학습과정 설정하기\n",
    "* 학습하기 전에 학습에 대한 설정을 수행합니다.\n",
    "* 손실 함수 및 최적화 방법을 정의합니다.\n",
    "* 케라스에서는 compile() 함수를 사용합니다."
   ]
  },
  {
   "cell_type": "code",
   "execution_count": 6,
   "metadata": {},
   "outputs": [],
   "source": [
    "model.compile(loss='categorical_crossentropy', optimizer='sgd', metrics=['accuracy'])"
   ]
  },
  {
   "cell_type": "markdown",
   "metadata": {},
   "source": [
    "### 4. 모델 학습시키기\n",
    "* 훈련셋을 이용하여 구성한 모델로 학습시킵니다.\n",
    "* 케라스에서는 fit() 함수를 사용합니다.\n",
    "#### 4.1 배치사이즈\n",
    "* 몇 개를  처리하고 해답을 맞추는지를 의미함 \n",
    "    * 100 : 100개를 처리하고 해답을 맞춤\n",
    "    * 1: 1개를 처리하고 해답을 맞춤\n",
    "* 배치사이즈가 작을수록 갱신이 자주 발생함 \n",
    "#### 4.2 에폭\n",
    "* 같은 데이터셋으로 반복적으로 가중치를 갱신하면서 학습\n",
    "* 서로 다른 20문제를 1번 푸는 경우보다 같은 1문제를 20번 푸는 경우 정확도가 높다."
   ]
  },
  {
   "cell_type": "code",
   "execution_count": 7,
   "metadata": {},
   "outputs": [
    {
     "name": "stdout",
     "output_type": "stream",
     "text": [
      "Train on 700 samples, validate on 300 samples\n",
      "Epoch 1/3000\n",
      "700/700 [==============================] - 1s 815us/sample - loss: 2.0419 - accuracy: 0.3129 - val_loss: 1.8210 - val_accuracy: 0.5333\n",
      "Epoch 2/3000\n",
      "700/700 [==============================] - 0s 182us/sample - loss: 1.5409 - accuracy: 0.6786 - val_loss: 1.3969 - val_accuracy: 0.7200\n",
      "Epoch 3/3000\n",
      "700/700 [==============================] - 0s 187us/sample - loss: 1.1772 - accuracy: 0.7900 - val_loss: 1.1068 - val_accuracy: 0.7733\n",
      "Epoch 4/3000\n",
      "700/700 [==============================] - 0s 194us/sample - loss: 0.9411 - accuracy: 0.8214 - val_loss: 0.9285 - val_accuracy: 0.8000\n",
      "Epoch 5/3000\n",
      "700/700 [==============================] - 0s 189us/sample - loss: 0.7842 - accuracy: 0.8457 - val_loss: 0.8042 - val_accuracy: 0.8300\n",
      "Epoch 6/3000\n",
      "700/700 [==============================] - 0s 185us/sample - loss: 0.6788 - accuracy: 0.8614 - val_loss: 0.7365 - val_accuracy: 0.8133\n",
      "Epoch 7/3000\n",
      "700/700 [==============================] - 0s 185us/sample - loss: 0.6046 - accuracy: 0.8757 - val_loss: 0.6683 - val_accuracy: 0.8267\n",
      "Epoch 8/3000\n",
      "700/700 [==============================] - 0s 183us/sample - loss: 0.5469 - accuracy: 0.8800 - val_loss: 0.6257 - val_accuracy: 0.8333\n",
      "Epoch 9/3000\n",
      "700/700 [==============================] - 0s 180us/sample - loss: 0.4994 - accuracy: 0.8929 - val_loss: 0.5964 - val_accuracy: 0.8367\n",
      "Epoch 10/3000\n",
      "700/700 [==============================] - 0s 180us/sample - loss: 0.4653 - accuracy: 0.8971 - val_loss: 0.5717 - val_accuracy: 0.8433\n",
      "Epoch 11/3000\n",
      "700/700 [==============================] - 0s 177us/sample - loss: 0.4339 - accuracy: 0.9043 - val_loss: 0.5559 - val_accuracy: 0.8433\n",
      "Epoch 12/3000\n",
      "700/700 [==============================] - 0s 197us/sample - loss: 0.4055 - accuracy: 0.9086 - val_loss: 0.5413 - val_accuracy: 0.8400\n",
      "Epoch 13/3000\n",
      "700/700 [==============================] - 0s 182us/sample - loss: 0.3818 - accuracy: 0.9114 - val_loss: 0.5225 - val_accuracy: 0.8433\n",
      "Epoch 14/3000\n",
      "700/700 [==============================] - 0s 178us/sample - loss: 0.3599 - accuracy: 0.9300 - val_loss: 0.5138 - val_accuracy: 0.8533\n",
      "Epoch 15/3000\n",
      "700/700 [==============================] - 0s 182us/sample - loss: 0.3430 - accuracy: 0.9329 - val_loss: 0.5007 - val_accuracy: 0.8433\n",
      "Epoch 16/3000\n",
      "700/700 [==============================] - 0s 187us/sample - loss: 0.3243 - accuracy: 0.9386 - val_loss: 0.4940 - val_accuracy: 0.8500\n",
      "Epoch 17/3000\n",
      "700/700 [==============================] - 0s 185us/sample - loss: 0.3099 - accuracy: 0.9386 - val_loss: 0.4970 - val_accuracy: 0.8467\n",
      "Epoch 18/3000\n",
      "700/700 [==============================] - 0s 184us/sample - loss: 0.2957 - accuracy: 0.9471 - val_loss: 0.4834 - val_accuracy: 0.8467\n",
      "Epoch 19/3000\n",
      "700/700 [==============================] - 0s 195us/sample - loss: 0.2833 - accuracy: 0.9486 - val_loss: 0.4844 - val_accuracy: 0.8500\n",
      "Epoch 20/3000\n",
      "700/700 [==============================] - 0s 182us/sample - loss: 0.2710 - accuracy: 0.9500 - val_loss: 0.4834 - val_accuracy: 0.8467\n",
      "Epoch 21/3000\n",
      "700/700 [==============================] - 0s 178us/sample - loss: 0.2596 - accuracy: 0.9543 - val_loss: 0.4727 - val_accuracy: 0.8433\n",
      "Epoch 22/3000\n",
      "700/700 [==============================] - 0s 178us/sample - loss: 0.2501 - accuracy: 0.9529 - val_loss: 0.4751 - val_accuracy: 0.8467\n",
      "Epoch 23/3000\n",
      "700/700 [==============================] - 0s 186us/sample - loss: 0.2382 - accuracy: 0.9543 - val_loss: 0.4749 - val_accuracy: 0.8367\n",
      "Epoch 24/3000\n",
      "700/700 [==============================] - 0s 180us/sample - loss: 0.2308 - accuracy: 0.9543 - val_loss: 0.4693 - val_accuracy: 0.8433\n",
      "Epoch 25/3000\n",
      "700/700 [==============================] - 0s 184us/sample - loss: 0.2212 - accuracy: 0.9571 - val_loss: 0.4645 - val_accuracy: 0.8433\n",
      "Epoch 26/3000\n",
      "700/700 [==============================] - 0s 177us/sample - loss: 0.2132 - accuracy: 0.9600 - val_loss: 0.4645 - val_accuracy: 0.8467\n",
      "Epoch 27/3000\n",
      "700/700 [==============================] - 0s 184us/sample - loss: 0.2063 - accuracy: 0.9629 - val_loss: 0.4608 - val_accuracy: 0.8533\n",
      "Epoch 28/3000\n",
      "700/700 [==============================] - 0s 181us/sample - loss: 0.1989 - accuracy: 0.9614 - val_loss: 0.4622 - val_accuracy: 0.8433\n",
      "Epoch 29/3000\n",
      "700/700 [==============================] - 0s 180us/sample - loss: 0.1913 - accuracy: 0.9700 - val_loss: 0.4621 - val_accuracy: 0.8467\n",
      "Epoch 30/3000\n",
      "700/700 [==============================] - 0s 180us/sample - loss: 0.1845 - accuracy: 0.9700 - val_loss: 0.4593 - val_accuracy: 0.8500\n",
      "Epoch 31/3000\n",
      "700/700 [==============================] - 0s 188us/sample - loss: 0.1786 - accuracy: 0.9686 - val_loss: 0.4628 - val_accuracy: 0.8433\n",
      "Epoch 32/3000\n",
      "700/700 [==============================] - 0s 180us/sample - loss: 0.1723 - accuracy: 0.9671 - val_loss: 0.4585 - val_accuracy: 0.8467\n",
      "Epoch 33/3000\n",
      "700/700 [==============================] - 0s 184us/sample - loss: 0.1655 - accuracy: 0.9700 - val_loss: 0.4600 - val_accuracy: 0.8400\n",
      "Epoch 34/3000\n",
      "700/700 [==============================] - 0s 183us/sample - loss: 0.1603 - accuracy: 0.9757 - val_loss: 0.4544 - val_accuracy: 0.8500\n",
      "Epoch 35/3000\n",
      "700/700 [==============================] - 0s 178us/sample - loss: 0.1556 - accuracy: 0.9771 - val_loss: 0.4536 - val_accuracy: 0.8500\n",
      "Epoch 36/3000\n",
      "700/700 [==============================] - 0s 178us/sample - loss: 0.1509 - accuracy: 0.9771 - val_loss: 0.4589 - val_accuracy: 0.8533\n",
      "Epoch 37/3000\n",
      "700/700 [==============================] - 0s 182us/sample - loss: 0.1454 - accuracy: 0.9757 - val_loss: 0.4647 - val_accuracy: 0.8467\n",
      "Epoch 38/3000\n",
      "700/700 [==============================] - 0s 180us/sample - loss: 0.1406 - accuracy: 0.9771 - val_loss: 0.4564 - val_accuracy: 0.8533\n",
      "Epoch 39/3000\n",
      "700/700 [==============================] - 0s 189us/sample - loss: 0.1375 - accuracy: 0.9800 - val_loss: 0.4646 - val_accuracy: 0.8400\n",
      "Epoch 40/3000\n",
      "700/700 [==============================] - 0s 182us/sample - loss: 0.1324 - accuracy: 0.9800 - val_loss: 0.4661 - val_accuracy: 0.8433\n",
      "Epoch 41/3000\n",
      "700/700 [==============================] - 0s 187us/sample - loss: 0.1286 - accuracy: 0.9829 - val_loss: 0.4609 - val_accuracy: 0.8467\n",
      "Epoch 42/3000\n",
      "700/700 [==============================] - 0s 182us/sample - loss: 0.1246 - accuracy: 0.9843 - val_loss: 0.4686 - val_accuracy: 0.8433\n",
      "Epoch 43/3000\n",
      "700/700 [==============================] - 0s 182us/sample - loss: 0.1209 - accuracy: 0.9843 - val_loss: 0.4651 - val_accuracy: 0.8467\n",
      "Epoch 44/3000\n",
      "700/700 [==============================] - 0s 183us/sample - loss: 0.1174 - accuracy: 0.9843 - val_loss: 0.4637 - val_accuracy: 0.8500\n",
      "Epoch 45/3000\n",
      "700/700 [==============================] - 0s 183us/sample - loss: 0.1151 - accuracy: 0.9843 - val_loss: 0.4643 - val_accuracy: 0.8500\n",
      "Epoch 46/3000\n",
      "700/700 [==============================] - 0s 183us/sample - loss: 0.1111 - accuracy: 0.9871 - val_loss: 0.4646 - val_accuracy: 0.8467\n",
      "Epoch 47/3000\n",
      "700/700 [==============================] - 0s 186us/sample - loss: 0.1082 - accuracy: 0.9857 - val_loss: 0.4632 - val_accuracy: 0.8500\n",
      "Epoch 48/3000\n",
      "700/700 [==============================] - 0s 185us/sample - loss: 0.1050 - accuracy: 0.9871 - val_loss: 0.4673 - val_accuracy: 0.8533\n",
      "Epoch 49/3000\n",
      "700/700 [==============================] - 0s 181us/sample - loss: 0.1020 - accuracy: 0.9886 - val_loss: 0.4675 - val_accuracy: 0.8533\n",
      "Epoch 50/3000\n",
      "700/700 [==============================] - 0s 187us/sample - loss: 0.0995 - accuracy: 0.9886 - val_loss: 0.4712 - val_accuracy: 0.8467\n",
      "Epoch 51/3000\n",
      "700/700 [==============================] - 0s 189us/sample - loss: 0.0968 - accuracy: 0.9943 - val_loss: 0.4728 - val_accuracy: 0.8467\n",
      "Epoch 52/3000\n",
      "700/700 [==============================] - 0s 182us/sample - loss: 0.0938 - accuracy: 0.9929 - val_loss: 0.4764 - val_accuracy: 0.8400\n",
      "Epoch 53/3000\n",
      "700/700 [==============================] - 0s 180us/sample - loss: 0.0921 - accuracy: 0.9943 - val_loss: 0.4709 - val_accuracy: 0.8533\n",
      "Epoch 54/3000\n",
      "700/700 [==============================] - 0s 195us/sample - loss: 0.0892 - accuracy: 0.9943 - val_loss: 0.4723 - val_accuracy: 0.8467\n",
      "Epoch 55/3000\n",
      "700/700 [==============================] - 0s 217us/sample - loss: 0.0868 - accuracy: 0.9929 - val_loss: 0.4804 - val_accuracy: 0.8433\n"
     ]
    }
   ],
   "source": [
    "from tensorflow.keras.callbacks import EarlyStopping\n",
    "early_stopping = EarlyStopping(patience = 20)          # 조기종료 콜백함수 정의\n",
    "hist = model.fit(X_train, Y_train, epochs=3000, batch_size=10, validation_data=(X_val, Y_val), callbacks=[early_stopping])"
   ]
  },
  {
   "cell_type": "markdown",
   "metadata": {},
   "source": [
    "### 5. 학습과정 그래프로 확인 \n",
    "* 히스토리 객체 생성 \n",
    "    * 매 에포크 마다의 훈련 손실값 (loss)\n",
    "    * 매 에포크 마다의 훈련 정확도 (acc)\n",
    "    * 에포크 마다의 검증 손실값 (val_loss)\n",
    "    * 에포크 마다의 검증 정확도 (val_acc)"
   ]
  },
  {
   "cell_type": "code",
   "execution_count": 8,
   "metadata": {},
   "outputs": [
    {
     "data": {
      "image/png": "[encoded data removed]",
      "text/plain": [
       "<Figure size 432x288 with 2 Axes>"
      ]
     },
     "metadata": {
      "needs_background": "light"
     },
     "output_type": "display_data"
    }
   ],
   "source": [
    "%matplotlib inline\n",
    "import matplotlib.pyplot as plt\n",
    "\n",
    "fig, loss_ax = plt.subplots()\n",
    "\n",
    "acc_ax = loss_ax.twinx()\n",
    "\n",
    "loss_ax.plot(hist.history['loss'], 'y', label='train loss')\n",
    "loss_ax.plot(hist.history['val_loss'], 'r', label='val loss')\n",
    "\n",
    "acc_ax.plot(hist.history['accuracy'], 'b', label='train acc')\n",
    "acc_ax.plot(hist.history['val_accuracy'], 'g', label='val acc')\n",
    "\n",
    "loss_ax.set_xlabel('epoch')\n",
    "loss_ax.set_ylabel('loss')\n",
    "acc_ax.set_ylabel('accuray')\n",
    "\n",
    "loss_ax.legend(loc='upper left')\n",
    "acc_ax.legend(loc='lower left')\n",
    "\n",
    "plt.show()"
   ]
  },
  {
   "cell_type": "markdown",
   "metadata": {},
   "source": [
    "### 6. 학습과정 살펴보기\n",
    "* 모델 학습 시 훈련셋, 검증셋의 손실 및 정확도를 측정합니다.\n",
    "* 반복횟수에 따른 손실 및 정확도 추이를 보면서 학습 상황을 판단합니다."
   ]
  },
  {
   "cell_type": "code",
   "execution_count": 9,
   "metadata": {},
   "outputs": [
    {
     "name": "stdout",
     "output_type": "stream",
     "text": [
      "## training loss and accuracy ##\n",
      "[2.0419211881501336, 1.5409253665379115, 1.1771854221820832, 0.9410809934139251, 0.7841743243592126, 0.6788169511726925, 0.6045727116721017, 0.5468997001647949, 0.4994056367448398, 0.4653066309435027, 0.4338944137096405, 0.4055074259638786, 0.381782277567046, 0.35985985643097335, 0.34295848714453836, 0.32433042845555715, 0.30987360190067975, 0.29571038857102394, 0.2832924458597388, 0.27103595499481475, 0.25960704343659535, 0.2500637164073331, 0.23822095984859126, 0.23081263112170355, 0.22120115011930466, 0.21322909205087592, 0.20634417033621244, 0.19885411805340222, 0.19132203592785768, 0.18454416830624853, 0.17862763713513102, 0.17228798467133727, 0.16551255988223212, 0.16026490264173066, 0.15561421875442777, 0.15091095731726714, 0.1453756115266255, 0.14064619498593467, 0.1374890526756644, 0.13236010032040732, 0.1286182037421635, 0.12462563512048551, 0.12093820183404855, 0.11740979113216911, 0.11507339770240443, 0.11105127796264631, 0.10815800014617187, 0.10497469404446227, 0.10204301001504064, 0.09953351880290678, 0.09681675136089325, 0.0937716618180275, 0.09213573424411671, 0.08918252981134824, 0.0867899821006826]\n",
      "[0.31285715, 0.6785714, 0.79, 0.8214286, 0.8457143, 0.86142856, 0.8757143, 0.88, 0.89285713, 0.8971428, 0.9042857, 0.9085714, 0.9114286, 0.93, 0.93285716, 0.93857145, 0.93857145, 0.94714284, 0.94857144, 0.95, 0.95428574, 0.95285714, 0.95428574, 0.95428574, 0.95714283, 0.96, 0.9628571, 0.9614286, 0.97, 0.97, 0.9685714, 0.9671429, 0.97, 0.97571427, 0.9771429, 0.9771429, 0.97571427, 0.9771429, 0.98, 0.98, 0.98285717, 0.9842857, 0.9842857, 0.9842857, 0.9842857, 0.98714286, 0.98571426, 0.98714286, 0.9885714, 0.9885714, 0.9942857, 0.99285716, 0.9942857, 0.9942857, 0.99285716]\n"
     ]
    }
   ],
   "source": [
    "print('## training loss and accuracy ##')\n",
    "print(hist.history['loss'])\n",
    "print(hist.history['accuracy'])"
   ]
  },
  {
   "cell_type": "markdown",
   "metadata": {},
   "source": [
    "### 7. 모델 평가하기\n",
    "* 준비된 시험셋으로 학습한 모델을 평가합니다.\n",
    "* 케라스에서는 evaluate() 함수를 사용합니다."
   ]
  },
  {
   "cell_type": "code",
   "execution_count": 10,
   "metadata": {},
   "outputs": [
    {
     "name": "stdout",
     "output_type": "stream",
     "text": [
      "10000/10000 [==============================] - 0s 45us/sample - loss: 0.4099 - accuracy: 0.8765\n",
      "## evaluation loss and_metrics ##\n",
      "loss : 0.40992161306738856\n",
      "accuracy : 0.8765\n"
     ]
    }
   ],
   "source": [
    "loss_and_metrics = model.evaluate(X_test, Y_test, batch_size=32)\n",
    "print('## evaluation loss and_metrics ##')\n",
    "print('loss : ' + str(loss_and_metrics[0]))\n",
    "print('accuracy : ' + str(loss_and_metrics[1]))"
   ]
  },
  {
   "cell_type": "markdown",
   "metadata": {},
   "source": [
    "### 8. 모델 사용하기\n",
    "* 임의의 입력으로 모델의 출력을 얻습니다.\n",
    "* 케라스에서는 predict() 함수를 사용합니다."
   ]
  },
  {
   "cell_type": "code",
   "execution_count": 11,
   "metadata": {},
   "outputs": [
    {
     "name": "stdout",
     "output_type": "stream",
     "text": [
      "## yhat ##\n",
      "[[4.7322857e-05 3.1801980e-07 9.2279763e-05 5.7126595e-05 1.9433016e-06\n",
      "  2.4763335e-06 1.6186391e-07 9.9790311e-01 1.9174853e-05 1.8761606e-03]]\n"
     ]
    }
   ],
   "source": [
    "xhat = X_test[0:1]\n",
    "yhat = model.predict(xhat)\n",
    "print('## yhat ##')\n",
    "print(yhat)"
   ]
  },
  {
   "cell_type": "markdown",
   "metadata": {},
   "source": [
    "### 9. 러닝 모델 가시화 기능 확인"
   ]
  },
  {
   "cell_type": "code",
   "execution_count": 12,
   "metadata": {},
   "outputs": [
    {
     "data": {
      "image/svg+xml": [
       "<svg height=\"295pt\" viewBox=\"0.00 0.00 284.00 221.00\" width=\"379pt\" xmlns=\"http://www.w3.org/2000/svg\" xmlns:xlink=\"http://www.w3.org/1999/xlink\">\n",
       "<g class=\"graph\" id=\"graph0\" transform=\"scale(1.33333 1.33333) rotate(0) translate(4 217)\">\n",
       "<title>G</title>\n",
       "<polygon fill=\"white\" points=\"-4,4 -4,-217 280,-217 280,4 -4,4\" stroke=\"none\"/>\n",
       "<!-- 1931101048264 -->\n",
       "<g class=\"node\" id=\"node1\"><title>1931101048264</title>\n",
       "<polygon fill=\"none\" points=\"0,-166.5 0,-212.5 276,-212.5 276,-166.5 0,-166.5\" stroke=\"black\"/>\n",
       "<text font-family=\"Times New Roman,serif\" font-size=\"14.00\" text-anchor=\"middle\" x=\"76\" y=\"-185.8\">dense_input: InputLayer</text>\n",
       "<polyline fill=\"none\" points=\"152,-166.5 152,-212.5 \" stroke=\"black\"/>\n",
       "<text font-family=\"Times New Roman,serif\" font-size=\"14.00\" text-anchor=\"middle\" x=\"180\" y=\"-197.3\">input:</text>\n",
       "<polyline fill=\"none\" points=\"152,-189.5 208,-189.5 \" stroke=\"black\"/>\n",
       "<text font-family=\"Times New Roman,serif\" font-size=\"14.00\" text-anchor=\"middle\" x=\"180\" y=\"-174.3\">output:</text>\n",
       "<polyline fill=\"none\" points=\"208,-166.5 208,-212.5 \" stroke=\"black\"/>\n",
       "<text font-family=\"Times New Roman,serif\" font-size=\"14.00\" text-anchor=\"middle\" x=\"242\" y=\"-197.3\">[(?, 784)]</text>\n",
       "<polyline fill=\"none\" points=\"208,-189.5 276,-189.5 \" stroke=\"black\"/>\n",
       "<text font-family=\"Times New Roman,serif\" font-size=\"14.00\" text-anchor=\"middle\" x=\"242\" y=\"-174.3\">[(?, 784)]</text>\n",
       "</g>\n",
       "<!-- 1931392549000 -->\n",
       "<g class=\"node\" id=\"node2\"><title>1931392549000</title>\n",
       "<polygon fill=\"none\" points=\"35.5,-83.5 35.5,-129.5 240.5,-129.5 240.5,-83.5 35.5,-83.5\" stroke=\"black\"/>\n",
       "<text font-family=\"Times New Roman,serif\" font-size=\"14.00\" text-anchor=\"middle\" x=\"80.5\" y=\"-102.8\">dense: Dense</text>\n",
       "<polyline fill=\"none\" points=\"125.5,-83.5 125.5,-129.5 \" stroke=\"black\"/>\n",
       "<text font-family=\"Times New Roman,serif\" font-size=\"14.00\" text-anchor=\"middle\" x=\"153.5\" y=\"-114.3\">input:</text>\n",
       "<polyline fill=\"none\" points=\"125.5,-106.5 181.5,-106.5 \" stroke=\"black\"/>\n",
       "<text font-family=\"Times New Roman,serif\" font-size=\"14.00\" text-anchor=\"middle\" x=\"153.5\" y=\"-91.3\">output:</text>\n",
       "<polyline fill=\"none\" points=\"181.5,-83.5 181.5,-129.5 \" stroke=\"black\"/>\n",
       "<text font-family=\"Times New Roman,serif\" font-size=\"14.00\" text-anchor=\"middle\" x=\"211\" y=\"-114.3\">(?, 784)</text>\n",
       "<polyline fill=\"none\" points=\"181.5,-106.5 240.5,-106.5 \" stroke=\"black\"/>\n",
       "<text font-family=\"Times New Roman,serif\" font-size=\"14.00\" text-anchor=\"middle\" x=\"211\" y=\"-91.3\">(?, 64)</text>\n",
       "</g>\n",
       "<!-- 1931101048264&#45;&gt;1931392549000 -->\n",
       "<g class=\"edge\" id=\"edge1\"><title>1931101048264-&gt;1931392549000</title>\n",
       "<path d=\"M138,-166.366C138,-158.152 138,-148.658 138,-139.725\" fill=\"none\" stroke=\"black\"/>\n",
       "<polygon fill=\"black\" points=\"141.5,-139.607 138,-129.607 134.5,-139.607 141.5,-139.607\" stroke=\"black\"/>\n",
       "</g>\n",
       "<!-- 1931392552008 -->\n",
       "<g class=\"node\" id=\"node3\"><title>1931392552008</title>\n",
       "<polygon fill=\"none\" points=\"31.5,-0.5 31.5,-46.5 244.5,-46.5 244.5,-0.5 31.5,-0.5\" stroke=\"black\"/>\n",
       "<text font-family=\"Times New Roman,serif\" font-size=\"14.00\" text-anchor=\"middle\" x=\"83.5\" y=\"-19.8\">dense_1: Dense</text>\n",
       "<polyline fill=\"none\" points=\"135.5,-0.5 135.5,-46.5 \" stroke=\"black\"/>\n",
       "<text font-family=\"Times New Roman,serif\" font-size=\"14.00\" text-anchor=\"middle\" x=\"163.5\" y=\"-31.3\">input:</text>\n",
       "<polyline fill=\"none\" points=\"135.5,-23.5 191.5,-23.5 \" stroke=\"black\"/>\n",
       "<text font-family=\"Times New Roman,serif\" font-size=\"14.00\" text-anchor=\"middle\" x=\"163.5\" y=\"-8.3\">output:</text>\n",
       "<polyline fill=\"none\" points=\"191.5,-0.5 191.5,-46.5 \" stroke=\"black\"/>\n",
       "<text font-family=\"Times New Roman,serif\" font-size=\"14.00\" text-anchor=\"middle\" x=\"218\" y=\"-31.3\">(?, 64)</text>\n",
       "<polyline fill=\"none\" points=\"191.5,-23.5 244.5,-23.5 \" stroke=\"black\"/>\n",
       "<text font-family=\"Times New Roman,serif\" font-size=\"14.00\" text-anchor=\"middle\" x=\"218\" y=\"-8.3\">(?, 10)</text>\n",
       "</g>\n",
       "<!-- 1931392549000&#45;&gt;1931392552008 -->\n",
       "<g class=\"edge\" id=\"edge2\"><title>1931392549000-&gt;1931392552008</title>\n",
       "<path d=\"M138,-83.3664C138,-75.1516 138,-65.6579 138,-56.7252\" fill=\"none\" stroke=\"black\"/>\n",
       "<polygon fill=\"black\" points=\"141.5,-56.6068 138,-46.6068 134.5,-56.6069 141.5,-56.6068\" stroke=\"black\"/>\n",
       "</g>\n",
       "</g>\n",
       "</svg>"
      ],
      "text/plain": [
       "<IPython.core.display.SVG object>"
      ]
     },
     "execution_count": 12,
     "metadata": {},
     "output_type": "execute_result"
    }
   ],
   "source": [
    "import pydot\n",
    "import graphviz\n",
    "from IPython.display import SVG\n",
    "from tensorflow.keras.utils import model_to_dot\n",
    "import os\n",
    "os.environ[\"PATH\"] += os.pathsep + \"C:/Program Files (x86)/Graphviz2.38/bin\"\n",
    "\n",
    "SVG(model_to_dot(model, show_shapes=True).create(prog='dot', format='svg'))"
   ]
  },
  {
   "cell_type": "markdown",
   "metadata": {},
   "source": [
    "### 10. 모델 저장과 모델 로딩 "
   ]
  },
  {
   "cell_type": "code",
   "execution_count": 13,
   "metadata": {},
   "outputs": [],
   "source": [
    "from tensorflow.keras.models import load_model\n",
    "\n",
    "model.save('mnist_mlp_model.h5')\n",
    "model = load_model('mnist_mlp_model.h5')"
   ]
  }
 ],
 "metadata": {
  "kernelspec": {
   "display_name": "Python 3",
   "language": "python",
   "name": "python3"
  },
  "language_info": {
   "codemirror_mode": {
    "name": "ipython",
    "version": 3
   },
   "file_extension": ".py",
   "mimetype": "text/x-python",
   "name": "python",
   "nbconvert_exporter": "python",
   "pygments_lexer": "ipython3",
   "version": "3.7.6"
  }
 },
 "nbformat": 4,
 "nbformat_minor": 4
}
