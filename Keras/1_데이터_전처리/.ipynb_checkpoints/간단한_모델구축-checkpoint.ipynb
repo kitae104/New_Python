{
 "cells": [
  {
   "cell_type": "markdown",
   "metadata": {},
   "source": [
    "# 모델 구축 "
   ]
  },
  {
   "cell_type": "code",
   "execution_count": 1,
   "metadata": {},
   "outputs": [],
   "source": [
    "import pandas as pd\n",
    "feats = pd.read_csv('data/bank_data_feats_e3.csv', index_col=0)\n",
    "target = pd.read_csv('data/bank_data_target_e2.csv', index_col=0)"
   ]
  },
  {
   "cell_type": "code",
   "execution_count": 2,
   "metadata": {},
   "outputs": [],
   "source": [
    "from sklearn.model_selection import train_test_split\n",
    "test_size = 0.2\n",
    "random_state = 42\n",
    "X_train, X_test, y_train, y_test = train_test_split(feats, target, test_size=test_size, random_state=random_state)"
   ]
  },
  {
   "cell_type": "code",
   "execution_count": 3,
   "metadata": {},
   "outputs": [
    {
     "name": "stdout",
     "output_type": "stream",
     "text": [
      "Shape of X_train: (3616, 32)\n",
      "Shape of X_test: (905, 32)\n",
      "Shape of y_train: (3616, 1)\n",
      "Shape of y_test: (905, 1)\n"
     ]
    },
    {
     "data": {
      "text/html": [
       "<div>\n",
       "<style scoped>\n",
       "    .dataframe tbody tr th:only-of-type {\n",
       "        vertical-align: middle;\n",
       "    }\n",
       "\n",
       "    .dataframe tbody tr th {\n",
       "        vertical-align: top;\n",
       "    }\n",
       "\n",
       "    .dataframe thead th {\n",
       "        text-align: right;\n",
       "    }\n",
       "</style>\n",
       "<table border=\"1\" class=\"dataframe\">\n",
       "  <thead>\n",
       "    <tr style=\"text-align: right;\">\n",
       "      <th></th>\n",
       "      <th>y</th>\n",
       "    </tr>\n",
       "  </thead>\n",
       "  <tbody>\n",
       "    <tr>\n",
       "      <th>978</th>\n",
       "      <td>0</td>\n",
       "    </tr>\n",
       "    <tr>\n",
       "      <th>251</th>\n",
       "      <td>0</td>\n",
       "    </tr>\n",
       "    <tr>\n",
       "      <th>3139</th>\n",
       "      <td>0</td>\n",
       "    </tr>\n",
       "    <tr>\n",
       "      <th>1822</th>\n",
       "      <td>1</td>\n",
       "    </tr>\n",
       "    <tr>\n",
       "      <th>4445</th>\n",
       "      <td>0</td>\n",
       "    </tr>\n",
       "  </tbody>\n",
       "</table>\n",
       "</div>"
      ],
      "text/plain": [
       "      y\n",
       "978   0\n",
       "251   0\n",
       "3139  0\n",
       "1822  1\n",
       "4445  0"
      ]
     },
     "execution_count": 3,
     "metadata": {},
     "output_type": "execute_result"
    }
   ],
   "source": [
    "print(f'Shape of X_train: {X_train.shape}')\n",
    "print(f'Shape of X_test: {X_test.shape}')\n",
    "print(f'Shape of y_train: {y_train.shape}')\n",
    "print(f'Shape of y_test: {y_test.shape}')\n",
    "y_train.head()"
   ]
  },
  {
   "cell_type": "code",
   "execution_count": 4,
   "metadata": {},
   "outputs": [],
   "source": [
    "# 모델 생성 \n",
    "from sklearn.linear_model import LogisticRegression\n",
    "model = LogisticRegression(max_iter=1000)"
   ]
  },
  {
   "cell_type": "code",
   "execution_count": 5,
   "metadata": {},
   "outputs": [
    {
     "data": {
      "text/plain": [
       "LogisticRegression(max_iter=1000)"
      ]
     },
     "execution_count": 5,
     "metadata": {},
     "output_type": "execute_result"
    }
   ],
   "source": [
    "model.fit(X_train, y_train['y'])"
   ]
  },
  {
   "cell_type": "code",
   "execution_count": 6,
   "metadata": {},
   "outputs": [],
   "source": [
    "y_pred = model.predict(X_test)"
   ]
  },
  {
   "cell_type": "code",
   "execution_count": 7,
   "metadata": {},
   "outputs": [
    {
     "name": "stdout",
     "output_type": "stream",
     "text": [
      "모델의 정확도 : 89.6133%\n"
     ]
    }
   ],
   "source": [
    "from sklearn import metrics\n",
    "accuracy = metrics.accuracy_score(y_pred=y_pred, y_true=y_test)\n",
    "print(f'모델의 정확도 : {accuracy * 100:.4f}%')"
   ]
  },
  {
   "cell_type": "code",
   "execution_count": 9,
   "metadata": {},
   "outputs": [
    {
     "name": "stdout",
     "output_type": "stream",
     "text": [
      "정밀도(Precision): 0.5435\n",
      "재현율(Recall): 0.2551\n",
      "F-스코어(fscore): 0.3472\n"
     ]
    }
   ],
   "source": [
    "precision, recall, fscore, _ = metrics.precision_recall_fscore_support(y_pred=y_pred, y_true=y_test, average='binary')\n",
    "print(f'정밀도(Precision): {precision:.4f}\\n재현율(Recall): {recall:.4f}\\nF-스코어(fscore): {fscore:.4f}')"
   ]
  },
  {
   "cell_type": "code",
   "execution_count": 12,
   "metadata": {},
   "outputs": [
    {
     "name": "stdout",
     "output_type": "stream",
     "text": [
      "is_loan: -0.8402193810688392\n",
      "poutcome_failure: -0.7601336151279187\n",
      "marital_married: -0.7047073064296053\n",
      "is_housing: -0.6987574179933094\n",
      "job_blue-collar: -0.6711587480155615\n",
      "marital_single: -0.6661525562327703\n",
      "education_primary: -0.44652971236780065\n",
      "job_entrepreneur: -0.4278036471487579\n",
      "job_technician: -0.37040383692351814\n",
      "education_secondary: -0.3596391428678069\n",
      "job_services: -0.34100366919612596\n",
      "job_unemployed: -0.30227321732881524\n",
      "job_self-employed: -0.20898842741781154\n",
      "education_tertiary: -0.18946239241961302\n",
      "job_housemaid: -0.08951493314984235\n",
      "campaign: -0.07528456819054165\n",
      "month: -0.046616547056366496\n",
      "previous: -0.03306626681160444\n",
      "age: -0.016628250378628622\n",
      "day: -0.005503599449921543\n",
      "balance: 2.5854136440337693e-06\n",
      "duration: 0.004051950032253373\n",
      "job_management: 0.008289395953463775\n",
      "job_admin.: 0.026706745313672668\n",
      "job_student: 0.04766881681651766\n",
      "poutcome_other: 0.08979904403900765\n",
      "is_default: 0.10402354579205897\n",
      "contact_telephone: 0.36191167029021626\n",
      "job_retired: 0.7714476541395296\n",
      "contact_cellular: 0.7859215094456666\n",
      "was_contacted: 1.056253441698811\n",
      "poutcome_success: 1.7265880128041726\n"
     ]
    }
   ],
   "source": [
    "# 모델 계수 출력 \n",
    "coef_list = [f'{feature}: {coef}' for coef, feature in sorted(zip(model.coef_[0], X_train.columns.values.tolist()))]\n",
    "for item in coef_list:\n",
    "    print(item)"
   ]
  },
  {
   "cell_type": "code",
   "execution_count": null,
   "metadata": {},
   "outputs": [],
   "source": []
  }
 ],
 "metadata": {
  "kernelspec": {
   "display_name": "Python 3",
   "language": "python",
   "name": "python3"
  },
  "language_info": {
   "codemirror_mode": {
    "name": "ipython",
    "version": 3
   },
   "file_extension": ".py",
   "mimetype": "text/x-python",
   "name": "python",
   "nbconvert_exporter": "python",
   "pygments_lexer": "ipython3",
   "version": "3.8.6"
  }
 },
 "nbformat": 4,
 "nbformat_minor": 4
}
