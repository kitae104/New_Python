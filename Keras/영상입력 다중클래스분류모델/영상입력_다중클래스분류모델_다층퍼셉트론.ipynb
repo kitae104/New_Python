{
 "cells": [
  {
   "cell_type": "markdown",
   "metadata": {},
   "source": [
    "# 영상입력 다중클래스분류모델(다층퍼셉트론 신경말 모델)\n",
    "- 영상을 입력해서 다중클래스를 분류할 수 있는 모델 생성. \n",
    "- 숫자 손글씨 데이터셋인 MNIST을 이용하여 다층퍼셉트론 및 컨볼루션 신경망 모델을 구성\n",
    "- 적용 분야 \n",
    "    - 동양인 얼굴 사진으로 한국인, 일본인, 중국인 구분\n",
    "    - 현미경 촬영 영상으로부터 다양한 균 구분\n",
    "    - 스마트폰으로 찍은 식물 종류 구분\n",
    "    - 기상위성영상으로부터 태풍 타입 분류"
   ]
  },
  {
   "cell_type": "markdown",
   "metadata": {},
   "source": [
    "### 사용할 패키지 선언 "
   ]
  },
  {
   "cell_type": "code",
   "execution_count": 1,
   "metadata": {},
   "outputs": [],
   "source": [
    "import numpy as np\n",
    "import matplotlib.pyplot as plt\n",
    "\n",
    "from tensorflow.keras.utils import to_categorical\n",
    "from tensorflow.keras.datasets import mnist\n",
    "from tensorflow.keras.models import Sequential\n",
    "from tensorflow.keras.layers import Dense, Activation"
   ]
  },
  {
   "cell_type": "markdown",
   "metadata": {},
   "source": [
    "* 이미지 크기"
   ]
  },
  {
   "cell_type": "code",
   "execution_count": 2,
   "metadata": {},
   "outputs": [],
   "source": [
    "width = 28\n",
    "height = 28"
   ]
  },
  {
   "cell_type": "markdown",
   "metadata": {},
   "source": [
    "### 1. 데이터셋 생성하기\n",
    "- 초기 라벨값은 0에서 9까지 정수로 지정\n",
    "- 데이터 정규화를 위해서 255.0으로 나눔"
   ]
  },
  {
   "cell_type": "markdown",
   "metadata": {},
   "source": [
    "#### 훈련셋과 시험셋 불러오기"
   ]
  },
  {
   "cell_type": "code",
   "execution_count": 3,
   "metadata": {},
   "outputs": [],
   "source": [
    "(x_train, y_train), (x_test, y_test) = mnist.load_data()\n",
    "x_train = x_train.reshape(60000, width*height).astype('float32') / 255.0\n",
    "x_test = x_test.reshape(10000, width*height).astype('float32') / 255.0"
   ]
  },
  {
   "cell_type": "markdown",
   "metadata": {},
   "source": [
    "#### 훈련셋과 검증셋 분리"
   ]
  },
  {
   "cell_type": "code",
   "execution_count": 4,
   "metadata": {},
   "outputs": [],
   "source": [
    "x_val = x_train[50000:]\n",
    "y_val = y_train[50000:]\n",
    "x_train = x_train[:50000]\n",
    "y_train = y_train[:50000]"
   ]
  },
  {
   "cell_type": "markdown",
   "metadata": {},
   "source": [
    "#### 데이터셋 전처리 : one-hot 인코딩 "
   ]
  },
  {
   "cell_type": "code",
   "execution_count": 5,
   "metadata": {},
   "outputs": [],
   "source": [
    "y_train = to_categorical(y_train)\n",
    "y_val = to_categorical(y_val)\n",
    "y_test = to_categorical(y_test)"
   ]
  },
  {
   "cell_type": "markdown",
   "metadata": {},
   "source": [
    "### 2. 모델 구성하기"
   ]
  },
  {
   "cell_type": "code",
   "execution_count": 6,
   "metadata": {},
   "outputs": [
    {
     "name": "stdout",
     "output_type": "stream",
     "text": [
      "Model: \"sequential\"\n",
      "_________________________________________________________________\n",
      "Layer (type)                 Output Shape              Param #   \n",
      "=================================================================\n",
      "dense (Dense)                (None, 256)               200960    \n",
      "_________________________________________________________________\n",
      "dense_1 (Dense)              (None, 256)               65792     \n",
      "_________________________________________________________________\n",
      "dense_2 (Dense)              (None, 256)               65792     \n",
      "_________________________________________________________________\n",
      "dense_3 (Dense)              (None, 10)                2570      \n",
      "=================================================================\n",
      "Total params: 335,114\n",
      "Trainable params: 335,114\n",
      "Non-trainable params: 0\n",
      "_________________________________________________________________\n"
     ]
    }
   ],
   "source": [
    "model = Sequential()\n",
    "model.add(Dense(256, input_dim=width*height, activation='relu'))\n",
    "model.add(Dense(256, activation='relu'))\n",
    "model.add(Dense(256, activation='relu'))\n",
    "model.add(Dense(10, activation='softmax'))    # 10개의 결과중에 하나를 선택하는 경우 \n",
    "model.summary()"
   ]
  },
  {
   "cell_type": "markdown",
   "metadata": {},
   "source": [
    "### 3. 모델 학습과정 설정하기"
   ]
  },
  {
   "cell_type": "code",
   "execution_count": 8,
   "metadata": {},
   "outputs": [],
   "source": [
    "model.compile(loss='categorical_crossentropy', optimizer='sgd', metrics=['accuracy'])"
   ]
  },
  {
   "cell_type": "markdown",
   "metadata": {},
   "source": [
    "### 4.모델 학습시키기"
   ]
  },
  {
   "cell_type": "code",
   "execution_count": 9,
   "metadata": {},
   "outputs": [
    {
     "name": "stdout",
     "output_type": "stream",
     "text": [
      "Epoch 1/30\n",
      "1563/1563 [==============================] - 3s 2ms/step - loss: 0.6886 - accuracy: 0.8224 - val_loss: 0.3014 - val_accuracy: 0.9113\n",
      "Epoch 2/30\n",
      "1563/1563 [==============================] - 3s 2ms/step - loss: 0.2766 - accuracy: 0.9201 - val_loss: 0.2169 - val_accuracy: 0.9364\n",
      "Epoch 3/30\n",
      "1563/1563 [==============================] - 3s 2ms/step - loss: 0.2186 - accuracy: 0.9359 - val_loss: 0.1861 - val_accuracy: 0.9471\n",
      "Epoch 4/30\n",
      "1563/1563 [==============================] - 3s 2ms/step - loss: 0.1819 - accuracy: 0.9476 - val_loss: 0.1576 - val_accuracy: 0.9548\n",
      "Epoch 5/30\n",
      "1563/1563 [==============================] - 3s 2ms/step - loss: 0.1541 - accuracy: 0.9546 - val_loss: 0.1425 - val_accuracy: 0.9616\n",
      "Epoch 6/30\n",
      "1563/1563 [==============================] - 3s 2ms/step - loss: 0.1343 - accuracy: 0.9608 - val_loss: 0.1299 - val_accuracy: 0.9629\n",
      "Epoch 7/30\n",
      "1563/1563 [==============================] - 3s 2ms/step - loss: 0.1178 - accuracy: 0.9657 - val_loss: 0.1165 - val_accuracy: 0.9670\n",
      "Epoch 8/30\n",
      "1563/1563 [==============================] - 3s 2ms/step - loss: 0.1036 - accuracy: 0.9697 - val_loss: 0.1109 - val_accuracy: 0.9684\n",
      "Epoch 9/30\n",
      "1563/1563 [==============================] - 3s 2ms/step - loss: 0.0927 - accuracy: 0.9733 - val_loss: 0.1077 - val_accuracy: 0.9684\n",
      "Epoch 10/30\n",
      "1563/1563 [==============================] - 3s 2ms/step - loss: 0.0842 - accuracy: 0.9759 - val_loss: 0.0977 - val_accuracy: 0.9713\n",
      "Epoch 11/30\n",
      "1563/1563 [==============================] - 3s 2ms/step - loss: 0.0751 - accuracy: 0.9783 - val_loss: 0.0938 - val_accuracy: 0.9725\n",
      "Epoch 12/30\n",
      "1563/1563 [==============================] - 3s 2ms/step - loss: 0.0682 - accuracy: 0.9806 - val_loss: 0.0994 - val_accuracy: 0.9718\n",
      "Epoch 13/30\n",
      "1563/1563 [==============================] - 3s 2ms/step - loss: 0.0615 - accuracy: 0.9824 - val_loss: 0.0903 - val_accuracy: 0.9744\n",
      "Epoch 14/30\n",
      "1563/1563 [==============================] - 3s 2ms/step - loss: 0.0557 - accuracy: 0.9841 - val_loss: 0.0879 - val_accuracy: 0.9738\n",
      "Epoch 15/30\n",
      "1563/1563 [==============================] - 3s 2ms/step - loss: 0.0511 - accuracy: 0.9858 - val_loss: 0.0931 - val_accuracy: 0.9722\n",
      "Epoch 16/30\n",
      "1563/1563 [==============================] - 3s 2ms/step - loss: 0.0466 - accuracy: 0.9871 - val_loss: 0.0935 - val_accuracy: 0.9719\n",
      "Epoch 17/30\n",
      "1563/1563 [==============================] - 3s 2ms/step - loss: 0.0424 - accuracy: 0.9884 - val_loss: 0.0850 - val_accuracy: 0.9753\n",
      "Epoch 18/30\n",
      "1563/1563 [==============================] - 3s 2ms/step - loss: 0.0386 - accuracy: 0.9899 - val_loss: 0.0833 - val_accuracy: 0.9763\n",
      "Epoch 19/30\n",
      "1563/1563 [==============================] - 3s 2ms/step - loss: 0.0352 - accuracy: 0.9909 - val_loss: 0.0819 - val_accuracy: 0.9747\n",
      "Epoch 20/30\n",
      "1563/1563 [==============================] - 3s 2ms/step - loss: 0.0319 - accuracy: 0.9918 - val_loss: 0.0789 - val_accuracy: 0.9772\n",
      "Epoch 21/30\n",
      "1563/1563 [==============================] - 3s 2ms/step - loss: 0.0288 - accuracy: 0.9930 - val_loss: 0.0812 - val_accuracy: 0.9777\n",
      "Epoch 22/30\n",
      "1563/1563 [==============================] - 3s 2ms/step - loss: 0.0259 - accuracy: 0.9938 - val_loss: 0.0818 - val_accuracy: 0.9784\n",
      "Epoch 23/30\n",
      "1563/1563 [==============================] - 3s 2ms/step - loss: 0.0240 - accuracy: 0.9944 - val_loss: 0.0831 - val_accuracy: 0.9773\n",
      "Epoch 24/30\n",
      "1563/1563 [==============================] - 3s 2ms/step - loss: 0.0215 - accuracy: 0.9955 - val_loss: 0.0762 - val_accuracy: 0.9791\n",
      "Epoch 25/30\n",
      "1563/1563 [==============================] - 3s 2ms/step - loss: 0.0195 - accuracy: 0.9958 - val_loss: 0.0781 - val_accuracy: 0.9791\n",
      "Epoch 26/30\n",
      "1563/1563 [==============================] - 3s 2ms/step - loss: 0.0179 - accuracy: 0.9965 - val_loss: 0.0779 - val_accuracy: 0.9792\n",
      "Epoch 27/30\n",
      "1563/1563 [==============================] - 3s 2ms/step - loss: 0.0163 - accuracy: 0.9968 - val_loss: 0.0783 - val_accuracy: 0.9798\n",
      "Epoch 28/30\n",
      "1563/1563 [==============================] - 3s 2ms/step - loss: 0.0147 - accuracy: 0.9975 - val_loss: 0.0800 - val_accuracy: 0.9786\n",
      "Epoch 29/30\n",
      "1563/1563 [==============================] - 3s 2ms/step - loss: 0.0131 - accuracy: 0.9982 - val_loss: 0.0793 - val_accuracy: 0.9795\n",
      "Epoch 30/30\n",
      "1563/1563 [==============================] - 3s 2ms/step - loss: 0.0122 - accuracy: 0.9982 - val_loss: 0.0812 - val_accuracy: 0.9792\n"
     ]
    }
   ],
   "source": [
    "hist = model.fit(x_train, y_train, epochs=30, batch_size=32, validation_data=(x_val, y_val))"
   ]
  },
  {
   "cell_type": "markdown",
   "metadata": {},
   "source": [
    "### 5. 학습과정 살펴보기"
   ]
  },
  {
   "cell_type": "code",
   "execution_count": 10,
   "metadata": {},
   "outputs": [
    {
     "data": {
      "image/png": "[encoded data removed]",
      "text/plain": [
       "<Figure size 432x288 with 2 Axes>"
      ]
     },
     "metadata": {
      "needs_background": "light"
     },
     "output_type": "display_data"
    }
   ],
   "source": [
    "%matplotlib inline\n",
    "\n",
    "fig, loss_ax = plt.subplots()\n",
    "acc_ax = loss_ax.twinx()                                        # loss_ax와 함께 acc_ax 그래프 같이 표현 \n",
    "\n",
    "# loss 에 대한 그래프 \n",
    "loss_ax.plot(hist.history['loss'], 'y', label='train loss')     # 노란색 선 \n",
    "loss_ax.plot(hist.history['val_loss'], 'r', label='val loss')   # 빨간색 선 \n",
    "loss_ax.set_ylim([0.0, 0.5])                                    # Y축 값 \n",
    "\n",
    "# acc 에 대한 그래프 \n",
    "acc_ax.plot(hist.history['accuracy'], 'b', label='train acc')   # 파란색 선 \n",
    "acc_ax.plot(hist.history['val_accuracy'], 'g', label='val acc') # 녹색 선 \n",
    "acc_ax.set_ylim([0.8, 1.0])\n",
    "\n",
    "# x, y 축에 라벨 붙이기 \n",
    "loss_ax.set_xlabel('epoch')\n",
    "loss_ax.set_ylabel('loss')\n",
    "acc_ax.set_ylabel('accuray')\n",
    "\n",
    "# 범례 보이기 \n",
    "loss_ax.legend(loc='upper left')\n",
    "acc_ax.legend(loc='lower left')\n",
    "\n",
    "plt.show()"
   ]
  },
  {
   "cell_type": "markdown",
   "metadata": {},
   "source": [
    "### 6. 모델 평가하기"
   ]
  },
  {
   "cell_type": "code",
   "execution_count": 11,
   "metadata": {},
   "outputs": [
    {
     "name": "stdout",
     "output_type": "stream",
     "text": [
      "313/313 [==============================] - 0s 1ms/step - loss: 0.0758 - accuracy: 0.9788\n",
      "loss :  0.07575663179159164\n",
      "metrics :  0.9787999987602234\n"
     ]
    }
   ],
   "source": [
    "loss, metrics = model.evaluate(x_test, y_test, batch_size=32)\n",
    "print('loss : ', loss)\n",
    "print('metrics : ', metrics)"
   ]
  },
  {
   "cell_type": "markdown",
   "metadata": {},
   "source": [
    "### 7. 모델 사용하기"
   ]
  },
  {
   "cell_type": "code",
   "execution_count": 12,
   "metadata": {},
   "outputs": [],
   "source": [
    "yhat_test = model.predict(x_test, batch_size=32)"
   ]
  },
  {
   "cell_type": "markdown",
   "metadata": {},
   "source": [
    "#### 데이터 셋 일부 확인하기"
   ]
  },
  {
   "cell_type": "code",
   "execution_count": 22,
   "metadata": {},
   "outputs": [
    {
     "data": {
      "image/png": "[encoded data removed]",
      "text/plain": [
       "<Figure size 720x720 with 25 Axes>"
      ]
     },
     "metadata": {
      "needs_background": "light"
     },
     "output_type": "display_data"
    }
   ],
   "source": [
    "%matplotlib inline\n",
    "plt_row = 5\n",
    "plt_col = 5\n",
    "\n",
    "plt.rcParams[\"figure.figsize\"] = (10,10)\n",
    "f, axarr = plt.subplots(plt_row, plt_col)\n",
    "\n",
    "cnt = 0\n",
    "i = 0\n",
    "\n",
    "while cnt < (plt_row * plt_col):\n",
    "    \n",
    "    if np.argmax(y_test[i]) == np.argmax(yhat_test[i]):\n",
    "        i += 1\n",
    "        continue\n",
    "     \n",
    "    sub_plt = axarr[cnt//plt_row, cnt%plt_col]\n",
    "    sub_plt.axis('off')\n",
    "    sub_plt.imshow(x_test[i].reshape(width, height))\n",
    "    sub_plt_title = 'R: ' + str(np.argmax(y_test[i])) + ' P: ' + str(np.argmax(yhat_test[i]))\n",
    "    sub_plt.set_title(sub_plt_title)\n",
    "    \n",
    "    i += 1\n",
    "    cnt += 1\n",
    "    \n",
    "plt.show()"
   ]
  },
  {
   "cell_type": "code",
   "execution_count": null,
   "metadata": {},
   "outputs": [],
   "source": []
  }
 ],
 "metadata": {
  "kernelspec": {
   "display_name": "Python 3",
   "language": "python",
   "name": "python3"
  },
  "language_info": {
   "codemirror_mode": {
    "name": "ipython",
    "version": 3
   },
   "file_extension": ".py",
   "mimetype": "text/x-python",
   "name": "python",
   "nbconvert_exporter": "python",
   "pygments_lexer": "ipython3",
   "version": "3.7.6"
  }
 },
 "nbformat": 4,
 "nbformat_minor": 4
}
