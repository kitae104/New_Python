{
 "cells": [
  {
   "cell_type": "markdown",
   "metadata": {},
   "source": [
    "# 영상입력 다중클래스분류모델(컨볼루션 신경망 모델)\n",
    "- 영상을 입력해서 다중클래스를 분류할 수 있는 모델 생성. \n",
    "- 숫자 손글씨 데이터셋인 MNIST을 이용하여 다층퍼셉트론 및 컨볼루션 신경망 모델을 구성\n",
    "- 적용 분야 \n",
    "    - 동양인 얼굴 사진으로 한국인, 일본인, 중국인 구분\n",
    "    - 현미경 촬영 영상으로부터 다양한 균 구분\n",
    "    - 스마트폰으로 찍은 식물 종류 구분\n",
    "    - 기상위성영상으로부터 태풍 타입 분류"
   ]
  },
  {
   "cell_type": "markdown",
   "metadata": {},
   "source": [
    "### 사용할 패키지 선언 "
   ]
  },
  {
   "cell_type": "code",
   "execution_count": 1,
   "metadata": {},
   "outputs": [],
   "source": [
    "import numpy as np\n",
    "import matplotlib.pyplot as plt\n",
    "\n",
    "from tensorflow.keras.utils import to_categorical\n",
    "from tensorflow.keras.datasets import mnist\n",
    "from tensorflow.keras.models import Sequential\n",
    "from tensorflow.keras.layers import Dense, Activation\n",
    "from tensorflow.keras.layers import Conv2D, MaxPooling2D, Flatten"
   ]
  },
  {
   "cell_type": "markdown",
   "metadata": {},
   "source": [
    "* 이미지 크기"
   ]
  },
  {
   "cell_type": "code",
   "execution_count": 2,
   "metadata": {},
   "outputs": [],
   "source": [
    "width = 28\n",
    "height = 28"
   ]
  },
  {
   "cell_type": "markdown",
   "metadata": {},
   "source": [
    "### 1. 데이터셋 생성하기\n",
    "- 초기 라벨값은 0에서 9까지 정수로 지정\n",
    "- 데이터 정규화를 위해서 255.0으로 나눔"
   ]
  },
  {
   "cell_type": "markdown",
   "metadata": {},
   "source": [
    "#### 훈련셋과 시험셋 불러오기\n",
    "- 컨볼루션 신경망 모델에 입력하기 위해 데이터셋 생성\n",
    "- 샘플수, 너비, 높이, 채널수로 총 4차원 배열로 구성"
   ]
  },
  {
   "cell_type": "code",
   "execution_count": 3,
   "metadata": {},
   "outputs": [],
   "source": [
    "(x_train, y_train), (x_test, y_test) = mnist.load_data()\n",
    "x_train = x_train.reshape(60000, width, height, 1).astype('float32') / 255.0\n",
    "x_test = x_test.reshape(10000, width, height, 1).astype('float32') / 255.0"
   ]
  },
  {
   "cell_type": "markdown",
   "metadata": {},
   "source": [
    "#### 훈련셋과 검증셋 분리"
   ]
  },
  {
   "cell_type": "code",
   "execution_count": 4,
   "metadata": {},
   "outputs": [],
   "source": [
    "x_val = x_train[50000:]\n",
    "y_val = y_train[50000:]\n",
    "x_train = x_train[:50000]\n",
    "y_train = y_train[:50000]"
   ]
  },
  {
   "cell_type": "markdown",
   "metadata": {},
   "source": [
    "#### 데이터셋 전처리 : one-hot 인코딩 "
   ]
  },
  {
   "cell_type": "code",
   "execution_count": 5,
   "metadata": {},
   "outputs": [],
   "source": [
    "y_train = to_categorical(y_train)\n",
    "y_val = to_categorical(y_val)\n",
    "y_test = to_categorical(y_test)"
   ]
  },
  {
   "cell_type": "markdown",
   "metadata": {},
   "source": [
    "### 2. 모델 구성하기"
   ]
  },
  {
   "cell_type": "code",
   "execution_count": 6,
   "metadata": {},
   "outputs": [
    {
     "name": "stdout",
     "output_type": "stream",
     "text": [
      "Model: \"sequential\"\n",
      "_________________________________________________________________\n",
      "Layer (type)                 Output Shape              Param #   \n",
      "=================================================================\n",
      "conv2d (Conv2D)              (None, 26, 26, 32)        320       \n",
      "_________________________________________________________________\n",
      "max_pooling2d (MaxPooling2D) (None, 13, 13, 32)        0         \n",
      "_________________________________________________________________\n",
      "conv2d_1 (Conv2D)            (None, 11, 11, 32)        9248      \n",
      "_________________________________________________________________\n",
      "max_pooling2d_1 (MaxPooling2 (None, 5, 5, 32)          0         \n",
      "_________________________________________________________________\n",
      "flatten (Flatten)            (None, 800)               0         \n",
      "_________________________________________________________________\n",
      "dense (Dense)                (None, 256)               205056    \n",
      "_________________________________________________________________\n",
      "dense_1 (Dense)              (None, 10)                2570      \n",
      "=================================================================\n",
      "Total params: 217,194\n",
      "Trainable params: 217,194\n",
      "Non-trainable params: 0\n",
      "_________________________________________________________________\n"
     ]
    }
   ],
   "source": [
    "model = Sequential()\n",
    "model.add(Conv2D(32, (3, 3), activation='relu', input_shape=(width, height, 1)))\n",
    "model.add(MaxPooling2D(pool_size=(2, 2)))\n",
    "model.add(Conv2D(32, (3, 3), activation='relu'))\n",
    "model.add(MaxPooling2D(pool_size=(2, 2)))\n",
    "model.add(Flatten())\n",
    "model.add(Dense(256, activation='relu'))\n",
    "model.add(Dense(10, activation='softmax'))\n",
    "model.summary()"
   ]
  },
  {
   "cell_type": "markdown",
   "metadata": {},
   "source": [
    "### 3. 모델 학습과정 설정하기"
   ]
  },
  {
   "cell_type": "code",
   "execution_count": 7,
   "metadata": {},
   "outputs": [],
   "source": [
    "model.compile(loss='categorical_crossentropy', optimizer='sgd', metrics=['accuracy'])"
   ]
  },
  {
   "cell_type": "markdown",
   "metadata": {},
   "source": [
    "### 4.모델 학습시키기"
   ]
  },
  {
   "cell_type": "code",
   "execution_count": 8,
   "metadata": {},
   "outputs": [
    {
     "name": "stdout",
     "output_type": "stream",
     "text": [
      "Epoch 1/30\n",
      "1563/1563 [==============================] - 4s 3ms/step - loss: 0.5884 - accuracy: 0.8347 - val_loss: 0.1991 - val_accuracy: 0.9410\n",
      "Epoch 2/30\n",
      "1563/1563 [==============================] - 4s 3ms/step - loss: 0.1592 - accuracy: 0.9514 - val_loss: 0.1159 - val_accuracy: 0.9685\n",
      "Epoch 3/30\n",
      "1563/1563 [==============================] - 4s 2ms/step - loss: 0.1114 - accuracy: 0.9653 - val_loss: 0.0943 - val_accuracy: 0.9722\n",
      "Epoch 4/30\n",
      "1563/1563 [==============================] - 4s 2ms/step - loss: 0.0893 - accuracy: 0.9726 - val_loss: 0.0864 - val_accuracy: 0.9764\n",
      "Epoch 5/30\n",
      "1563/1563 [==============================] - 4s 3ms/step - loss: 0.0757 - accuracy: 0.9763 - val_loss: 0.0953 - val_accuracy: 0.9701\n",
      "Epoch 6/30\n",
      "1563/1563 [==============================] - 4s 3ms/step - loss: 0.0666 - accuracy: 0.9792 - val_loss: 0.0785 - val_accuracy: 0.9755\n",
      "Epoch 7/30\n",
      "1563/1563 [==============================] - 4s 3ms/step - loss: 0.0586 - accuracy: 0.9823 - val_loss: 0.0618 - val_accuracy: 0.9814\n",
      "Epoch 8/30\n",
      "1563/1563 [==============================] - 4s 3ms/step - loss: 0.0528 - accuracy: 0.9840 - val_loss: 0.0603 - val_accuracy: 0.9828\n",
      "Epoch 9/30\n",
      "1563/1563 [==============================] - 4s 3ms/step - loss: 0.0492 - accuracy: 0.9848 - val_loss: 0.0560 - val_accuracy: 0.9842\n",
      "Epoch 10/30\n",
      "1563/1563 [==============================] - 4s 2ms/step - loss: 0.0441 - accuracy: 0.9861 - val_loss: 0.0688 - val_accuracy: 0.9796\n",
      "Epoch 11/30\n",
      "1563/1563 [==============================] - 4s 2ms/step - loss: 0.0408 - accuracy: 0.9873 - val_loss: 0.0535 - val_accuracy: 0.9852\n",
      "Epoch 12/30\n",
      "1563/1563 [==============================] - 4s 3ms/step - loss: 0.0373 - accuracy: 0.9880 - val_loss: 0.0550 - val_accuracy: 0.9843\n",
      "Epoch 13/30\n",
      "1563/1563 [==============================] - 4s 2ms/step - loss: 0.0352 - accuracy: 0.9894 - val_loss: 0.0502 - val_accuracy: 0.9856\n",
      "Epoch 14/30\n",
      "1563/1563 [==============================] - 4s 2ms/step - loss: 0.0323 - accuracy: 0.9898 - val_loss: 0.0551 - val_accuracy: 0.9839\n",
      "Epoch 15/30\n",
      "1563/1563 [==============================] - 4s 2ms/step - loss: 0.0299 - accuracy: 0.9908 - val_loss: 0.0484 - val_accuracy: 0.9873\n",
      "Epoch 16/30\n",
      "1563/1563 [==============================] - 4s 3ms/step - loss: 0.0279 - accuracy: 0.9914 - val_loss: 0.0485 - val_accuracy: 0.9855\n",
      "Epoch 17/30\n",
      "1563/1563 [==============================] - 4s 2ms/step - loss: 0.0262 - accuracy: 0.9921 - val_loss: 0.0465 - val_accuracy: 0.9874\n",
      "Epoch 18/30\n",
      "1563/1563 [==============================] - 4s 2ms/step - loss: 0.0242 - accuracy: 0.9924 - val_loss: 0.0493 - val_accuracy: 0.9860\n",
      "Epoch 19/30\n",
      "1563/1563 [==============================] - 4s 2ms/step - loss: 0.0231 - accuracy: 0.9931 - val_loss: 0.0466 - val_accuracy: 0.9873\n",
      "Epoch 20/30\n",
      "1563/1563 [==============================] - 4s 2ms/step - loss: 0.0210 - accuracy: 0.9930 - val_loss: 0.0467 - val_accuracy: 0.9861\n",
      "Epoch 21/30\n",
      "1563/1563 [==============================] - 4s 2ms/step - loss: 0.0199 - accuracy: 0.9940 - val_loss: 0.0458 - val_accuracy: 0.9879\n",
      "Epoch 22/30\n",
      "1563/1563 [==============================] - 4s 2ms/step - loss: 0.0177 - accuracy: 0.9946 - val_loss: 0.0493 - val_accuracy: 0.9869\n",
      "Epoch 23/30\n",
      "1563/1563 [==============================] - 4s 3ms/step - loss: 0.0166 - accuracy: 0.9951 - val_loss: 0.0475 - val_accuracy: 0.9874\n",
      "Epoch 24/30\n",
      "1563/1563 [==============================] - 4s 3ms/step - loss: 0.0162 - accuracy: 0.9949 - val_loss: 0.0462 - val_accuracy: 0.9872\n",
      "Epoch 25/30\n",
      "1563/1563 [==============================] - 4s 2ms/step - loss: 0.0146 - accuracy: 0.9960 - val_loss: 0.0474 - val_accuracy: 0.9862\n",
      "Epoch 26/30\n",
      "1563/1563 [==============================] - 4s 3ms/step - loss: 0.0141 - accuracy: 0.9954 - val_loss: 0.0474 - val_accuracy: 0.9866\n",
      "Epoch 27/30\n",
      "1563/1563 [==============================] - 4s 3ms/step - loss: 0.0127 - accuracy: 0.9961 - val_loss: 0.0475 - val_accuracy: 0.9870\n",
      "Epoch 28/30\n",
      "1563/1563 [==============================] - 4s 3ms/step - loss: 0.0125 - accuracy: 0.9961 - val_loss: 0.0446 - val_accuracy: 0.9879\n",
      "Epoch 29/30\n",
      "1563/1563 [==============================] - 4s 3ms/step - loss: 0.0108 - accuracy: 0.9969 - val_loss: 0.0545 - val_accuracy: 0.9851\n",
      "Epoch 30/30\n",
      "1563/1563 [==============================] - 4s 3ms/step - loss: 0.0105 - accuracy: 0.9969 - val_loss: 0.0483 - val_accuracy: 0.9875\n"
     ]
    }
   ],
   "source": [
    "hist = model.fit(x_train, y_train, epochs=30, batch_size=32, validation_data=(x_val, y_val))"
   ]
  },
  {
   "cell_type": "markdown",
   "metadata": {},
   "source": [
    "### 5. 학습과정 살펴보기"
   ]
  },
  {
   "cell_type": "code",
   "execution_count": 9,
   "metadata": {},
   "outputs": [
    {
     "data": {
      "image/png": "[encoded data removed]",
      "text/plain": [
       "<Figure size 432x288 with 2 Axes>"
      ]
     },
     "metadata": {
      "needs_background": "light"
     },
     "output_type": "display_data"
    }
   ],
   "source": [
    "%matplotlib inline\n",
    "\n",
    "fig, loss_ax = plt.subplots()\n",
    "acc_ax = loss_ax.twinx()                                        # loss_ax와 함께 acc_ax 그래프 같이 표현 \n",
    "\n",
    "# loss 에 대한 그래프 \n",
    "loss_ax.plot(hist.history['loss'], 'y', label='train loss')     # 노란색 선 \n",
    "loss_ax.plot(hist.history['val_loss'], 'r', label='val loss')   # 빨간색 선 \n",
    "loss_ax.set_ylim([0.0, 0.5])                                    # Y축 값 \n",
    "\n",
    "# acc 에 대한 그래프 \n",
    "acc_ax.plot(hist.history['accuracy'], 'b', label='train acc')   # 파란색 선 \n",
    "acc_ax.plot(hist.history['val_accuracy'], 'g', label='val acc') # 녹색 선 \n",
    "acc_ax.set_ylim([0.8, 1.0])\n",
    "\n",
    "# x, y 축에 라벨 붙이기 \n",
    "loss_ax.set_xlabel('epoch')\n",
    "loss_ax.set_ylabel('loss')\n",
    "acc_ax.set_ylabel('accuray')\n",
    "\n",
    "# 범례 보이기 \n",
    "loss_ax.legend(loc='upper left')\n",
    "acc_ax.legend(loc='lower left')\n",
    "\n",
    "plt.show()"
   ]
  },
  {
   "cell_type": "markdown",
   "metadata": {},
   "source": [
    "### 6. 모델 평가하기"
   ]
  },
  {
   "cell_type": "code",
   "execution_count": 10,
   "metadata": {},
   "outputs": [
    {
     "name": "stdout",
     "output_type": "stream",
     "text": [
      "313/313 [==============================] - 0s 1ms/step - loss: 0.0397 - accuracy: 0.9877\n",
      "loss :  0.039738476276397705\n",
      "metrics :  0.9876999855041504\n"
     ]
    }
   ],
   "source": [
    "loss, metrics = model.evaluate(x_test, y_test, batch_size=32)\n",
    "print('loss : ', loss)\n",
    "print('metrics : ', metrics)"
   ]
  },
  {
   "cell_type": "markdown",
   "metadata": {},
   "source": [
    "### 7. 모델 사용하기"
   ]
  },
  {
   "cell_type": "code",
   "execution_count": 11,
   "metadata": {},
   "outputs": [],
   "source": [
    "yhat_test = model.predict(x_test, batch_size=32)"
   ]
  },
  {
   "cell_type": "markdown",
   "metadata": {},
   "source": [
    "#### 데이터 셋 일부 확인하기"
   ]
  },
  {
   "cell_type": "code",
   "execution_count": 12,
   "metadata": {},
   "outputs": [
    {
     "data": {
      "image/png": "[encoded data removed]",
      "text/plain": [
       "<Figure size 720x720 with 25 Axes>"
      ]
     },
     "metadata": {
      "needs_background": "light"
     },
     "output_type": "display_data"
    }
   ],
   "source": [
    "%matplotlib inline\n",
    "plt_row = 5\n",
    "plt_col = 5\n",
    "\n",
    "plt.rcParams[\"figure.figsize\"] = (10,10)\n",
    "f, axarr = plt.subplots(plt_row, plt_col)\n",
    "\n",
    "cnt = 0\n",
    "i = 0\n",
    "\n",
    "while cnt < (plt_row * plt_col):\n",
    "    \n",
    "    if np.argmax(y_test[i]) == np.argmax(yhat_test[i]):\n",
    "        i += 1\n",
    "        continue\n",
    "     \n",
    "    sub_plt = axarr[cnt//plt_row, cnt%plt_col]\n",
    "    sub_plt.axis('off')\n",
    "    sub_plt.imshow(x_test[i].reshape(width, height))\n",
    "    sub_plt_title = 'R: ' + str(np.argmax(y_test[i])) + ' P: ' + str(np.argmax(yhat_test[i]))\n",
    "    sub_plt.set_title(sub_plt_title)\n",
    "    \n",
    "    i += 1\n",
    "    cnt += 1\n",
    "    \n",
    "plt.show()"
   ]
  },
  {
   "cell_type": "code",
   "execution_count": null,
   "metadata": {},
   "outputs": [],
   "source": []
  }
 ],
 "metadata": {
  "kernelspec": {
   "display_name": "Python 3",
   "language": "python",
   "name": "python3"
  },
  "language_info": {
   "codemirror_mode": {
    "name": "ipython",
    "version": 3
   },
   "file_extension": ".py",
   "mimetype": "text/x-python",
   "name": "python",
   "nbconvert_exporter": "python",
   "pygments_lexer": "ipython3",
   "version": "3.7.6"
  }
 },
 "nbformat": 4,
 "nbformat_minor": 4
}
