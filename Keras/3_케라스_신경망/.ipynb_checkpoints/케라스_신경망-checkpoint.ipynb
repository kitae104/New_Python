{
 "cells": [
  {
   "cell_type": "markdown",
   "metadata": {},
   "source": [
    "# 케라스를 이용한 신경망 구축 "
   ]
  },
  {
   "cell_type": "code",
   "execution_count": 1,
   "metadata": {},
   "outputs": [],
   "source": [
    "import numpy as np\n",
    "from sklearn.datasets import make_classification"
   ]
  },
  {
   "cell_type": "markdown",
   "metadata": {},
   "source": [
    "### 1. 데이터 준비 "
   ]
  },
  {
   "cell_type": "code",
   "execution_count": 2,
   "metadata": {},
   "outputs": [
    {
     "name": "stdout",
     "output_type": "stream",
     "text": [
      "Number of Examples in the Dataset =  200\n",
      "Number of Features for each example =  10\n",
      "Possible Output Classes =  [0 1]\n"
     ]
    }
   ],
   "source": [
    "X, y = make_classification(n_samples=200, n_features=10, n_classes=2)  # 이진 분류 \n",
    "print(\"Number of Examples in the Dataset = \", X.shape[0])\n",
    "print(\"Number of Features for each example = \", X.shape[1]) \n",
    "print(\"Possible Output Classes = \", np.unique(y))"
   ]
  },
  {
   "cell_type": "code",
   "execution_count": 3,
   "metadata": {},
   "outputs": [
    {
     "data": {
      "text/plain": [
       "(200, 10)"
      ]
     },
     "execution_count": 3,
     "metadata": {},
     "output_type": "execute_result"
    }
   ],
   "source": [
    "X.shape"
   ]
  },
  {
   "cell_type": "code",
   "execution_count": 4,
   "metadata": {},
   "outputs": [
    {
     "data": {
      "text/plain": [
       "(200,)"
      ]
     },
     "execution_count": 4,
     "metadata": {},
     "output_type": "execute_result"
    }
   ],
   "source": [
    "y.shape"
   ]
  },
  {
   "cell_type": "markdown",
   "metadata": {},
   "source": [
    "### 2. 모델 구축 및 훈련 "
   ]
  },
  {
   "cell_type": "code",
   "execution_count": 5,
   "metadata": {},
   "outputs": [],
   "source": [
    "from tensorflow.keras.models import Sequential\n",
    "from tensorflow.keras.layers import Dense, Activation"
   ]
  },
  {
   "cell_type": "code",
   "execution_count": 6,
   "metadata": {},
   "outputs": [
    {
     "name": "stdout",
     "output_type": "stream",
     "text": [
      "Model: \"sequential\"\n",
      "_________________________________________________________________\n",
      "Layer (type)                 Output Shape              Param #   \n",
      "=================================================================\n",
      "dense (Dense)                (None, 10)                110       \n",
      "_________________________________________________________________\n",
      "dense_1 (Dense)              (None, 5)                 55        \n",
      "_________________________________________________________________\n",
      "dense_2 (Dense)              (None, 1)                 6         \n",
      "=================================================================\n",
      "Total params: 171\n",
      "Trainable params: 171\n",
      "Non-trainable params: 0\n",
      "_________________________________________________________________\n"
     ]
    }
   ],
   "source": [
    "model = Sequential()\n",
    "model.add(Dense(10, activation='tanh', input_dim=10))\n",
    "model.add(Dense(5, activation='tanh'))\n",
    "model.add(Dense(1, activation='sigmoid'))\n",
    "model.summary()"
   ]
  },
  {
   "cell_type": "code",
   "execution_count": 7,
   "metadata": {},
   "outputs": [],
   "source": [
    "model.compile(optimizer='sgd', loss='binary_crossentropy', metrics=['accuracy'])"
   ]
  },
  {
   "cell_type": "code",
   "execution_count": 8,
   "metadata": {},
   "outputs": [
    {
     "name": "stdout",
     "output_type": "stream",
     "text": [
      "Epoch 1/100\n",
      "WARNING:tensorflow:Callbacks method `on_train_batch_end` is slow compared to the batch time (batch time: 0.0000s vs `on_train_batch_end` time: 0.0010s). Check your callbacks.\n",
      "40/40 - 0s - loss: 0.7890 - accuracy: 0.4550\n",
      "Epoch 2/100\n",
      "40/40 - 0s - loss: 0.6949 - accuracy: 0.5850\n",
      "Epoch 3/100\n",
      "40/40 - 0s - loss: 0.6302 - accuracy: 0.6750\n",
      "Epoch 4/100\n",
      "40/40 - 0s - loss: 0.5789 - accuracy: 0.7600\n",
      "Epoch 5/100\n",
      "40/40 - 0s - loss: 0.5340 - accuracy: 0.8050\n",
      "Epoch 6/100\n",
      "40/40 - 0s - loss: 0.4927 - accuracy: 0.8350\n",
      "Epoch 7/100\n",
      "40/40 - 0s - loss: 0.4541 - accuracy: 0.8550\n",
      "Epoch 8/100\n",
      "40/40 - 0s - loss: 0.4187 - accuracy: 0.8750\n",
      "Epoch 9/100\n",
      "40/40 - 0s - loss: 0.3870 - accuracy: 0.8750\n",
      "Epoch 10/100\n",
      "40/40 - 0s - loss: 0.3591 - accuracy: 0.8800\n",
      "Epoch 11/100\n",
      "40/40 - 0s - loss: 0.3356 - accuracy: 0.8850\n",
      "Epoch 12/100\n",
      "40/40 - 0s - loss: 0.3153 - accuracy: 0.8950\n",
      "Epoch 13/100\n",
      "40/40 - 0s - loss: 0.2976 - accuracy: 0.8950\n",
      "Epoch 14/100\n",
      "40/40 - 0s - loss: 0.2826 - accuracy: 0.8950\n",
      "Epoch 15/100\n",
      "40/40 - 0s - loss: 0.2698 - accuracy: 0.8900\n",
      "Epoch 16/100\n",
      "40/40 - 0s - loss: 0.2589 - accuracy: 0.8950\n",
      "Epoch 17/100\n",
      "40/40 - 0s - loss: 0.2495 - accuracy: 0.9150\n",
      "Epoch 18/100\n",
      "40/40 - 0s - loss: 0.2417 - accuracy: 0.9100\n",
      "Epoch 19/100\n",
      "40/40 - 0s - loss: 0.2342 - accuracy: 0.9200\n",
      "Epoch 20/100\n",
      "40/40 - 0s - loss: 0.2284 - accuracy: 0.9150\n",
      "Epoch 21/100\n",
      "40/40 - 0s - loss: 0.2227 - accuracy: 0.9150\n",
      "Epoch 22/100\n",
      "40/40 - 0s - loss: 0.2181 - accuracy: 0.9250\n",
      "Epoch 23/100\n",
      "40/40 - 0s - loss: 0.2143 - accuracy: 0.9200\n",
      "Epoch 24/100\n",
      "40/40 - 0s - loss: 0.2103 - accuracy: 0.9200\n",
      "Epoch 25/100\n",
      "40/40 - 0s - loss: 0.2066 - accuracy: 0.9250\n",
      "Epoch 26/100\n",
      "40/40 - 0s - loss: 0.2036 - accuracy: 0.9250\n",
      "Epoch 27/100\n",
      "40/40 - 0s - loss: 0.2011 - accuracy: 0.9250\n",
      "Epoch 28/100\n",
      "40/40 - 0s - loss: 0.1979 - accuracy: 0.9250\n",
      "Epoch 29/100\n",
      "40/40 - 0s - loss: 0.1957 - accuracy: 0.9250\n",
      "Epoch 30/100\n",
      "40/40 - 0s - loss: 0.1934 - accuracy: 0.9250\n",
      "Epoch 31/100\n",
      "40/40 - 0s - loss: 0.1912 - accuracy: 0.9350\n",
      "Epoch 32/100\n",
      "40/40 - 0s - loss: 0.1889 - accuracy: 0.9300\n",
      "Epoch 33/100\n",
      "40/40 - 0s - loss: 0.1869 - accuracy: 0.9350\n",
      "Epoch 34/100\n",
      "40/40 - 0s - loss: 0.1850 - accuracy: 0.9350\n",
      "Epoch 35/100\n",
      "40/40 - 0s - loss: 0.1831 - accuracy: 0.9350\n",
      "Epoch 36/100\n",
      "40/40 - 0s - loss: 0.1815 - accuracy: 0.9300\n",
      "Epoch 37/100\n",
      "40/40 - 0s - loss: 0.1794 - accuracy: 0.9350\n",
      "Epoch 38/100\n",
      "40/40 - 0s - loss: 0.1771 - accuracy: 0.9350\n",
      "Epoch 39/100\n",
      "40/40 - 0s - loss: 0.1754 - accuracy: 0.9350\n",
      "Epoch 40/100\n",
      "40/40 - 0s - loss: 0.1742 - accuracy: 0.9400\n",
      "Epoch 41/100\n",
      "40/40 - 0s - loss: 0.1722 - accuracy: 0.9400\n",
      "Epoch 42/100\n",
      "40/40 - 0s - loss: 0.1705 - accuracy: 0.9450\n",
      "Epoch 43/100\n",
      "40/40 - 0s - loss: 0.1689 - accuracy: 0.9400\n",
      "Epoch 44/100\n",
      "40/40 - 0s - loss: 0.1675 - accuracy: 0.9400\n",
      "Epoch 45/100\n",
      "40/40 - 0s - loss: 0.1652 - accuracy: 0.9450\n",
      "Epoch 46/100\n",
      "40/40 - 0s - loss: 0.1636 - accuracy: 0.9400\n",
      "Epoch 47/100\n",
      "40/40 - 0s - loss: 0.1621 - accuracy: 0.9450\n",
      "Epoch 48/100\n",
      "40/40 - 0s - loss: 0.1603 - accuracy: 0.9450\n",
      "Epoch 49/100\n",
      "40/40 - 0s - loss: 0.1587 - accuracy: 0.9450\n",
      "Epoch 50/100\n",
      "40/40 - 0s - loss: 0.1566 - accuracy: 0.9500\n",
      "Epoch 51/100\n",
      "40/40 - 0s - loss: 0.1552 - accuracy: 0.9450\n",
      "Epoch 52/100\n",
      "40/40 - 0s - loss: 0.1533 - accuracy: 0.9500\n",
      "Epoch 53/100\n",
      "40/40 - 0s - loss: 0.1515 - accuracy: 0.9450\n",
      "Epoch 54/100\n",
      "40/40 - 0s - loss: 0.1503 - accuracy: 0.9500\n",
      "Epoch 55/100\n",
      "40/40 - 0s - loss: 0.1481 - accuracy: 0.9500\n",
      "Epoch 56/100\n",
      "40/40 - 0s - loss: 0.1469 - accuracy: 0.9500\n",
      "Epoch 57/100\n",
      "40/40 - 0s - loss: 0.1450 - accuracy: 0.9500\n",
      "Epoch 58/100\n",
      "40/40 - 0s - loss: 0.1431 - accuracy: 0.9500\n",
      "Epoch 59/100\n",
      "40/40 - 0s - loss: 0.1417 - accuracy: 0.9550\n",
      "Epoch 60/100\n",
      "40/40 - 0s - loss: 0.1400 - accuracy: 0.9550\n",
      "Epoch 61/100\n",
      "40/40 - 0s - loss: 0.1386 - accuracy: 0.9550\n",
      "Epoch 62/100\n",
      "40/40 - 0s - loss: 0.1370 - accuracy: 0.9550\n",
      "Epoch 63/100\n",
      "40/40 - 0s - loss: 0.1355 - accuracy: 0.9550\n",
      "Epoch 64/100\n",
      "40/40 - 0s - loss: 0.1341 - accuracy: 0.9600\n",
      "Epoch 65/100\n",
      "40/40 - 0s - loss: 0.1323 - accuracy: 0.9650\n",
      "Epoch 66/100\n",
      "40/40 - 0s - loss: 0.1312 - accuracy: 0.9650\n",
      "Epoch 67/100\n",
      "40/40 - 0s - loss: 0.1298 - accuracy: 0.9700\n",
      "Epoch 68/100\n",
      "40/40 - 0s - loss: 0.1281 - accuracy: 0.9650\n",
      "Epoch 69/100\n",
      "40/40 - 0s - loss: 0.1266 - accuracy: 0.9700\n",
      "Epoch 70/100\n",
      "40/40 - 0s - loss: 0.1254 - accuracy: 0.9700\n",
      "Epoch 71/100\n",
      "40/40 - 0s - loss: 0.1241 - accuracy: 0.9700\n",
      "Epoch 72/100\n",
      "40/40 - 0s - loss: 0.1221 - accuracy: 0.9700\n",
      "Epoch 73/100\n",
      "40/40 - 0s - loss: 0.1213 - accuracy: 0.9700\n",
      "Epoch 74/100\n",
      "40/40 - 0s - loss: 0.1199 - accuracy: 0.9700\n",
      "Epoch 75/100\n",
      "40/40 - 0s - loss: 0.1186 - accuracy: 0.9700\n",
      "Epoch 76/100\n",
      "40/40 - 0s - loss: 0.1166 - accuracy: 0.9700\n",
      "Epoch 77/100\n",
      "40/40 - 0s - loss: 0.1153 - accuracy: 0.9700\n",
      "Epoch 78/100\n",
      "40/40 - 0s - loss: 0.1147 - accuracy: 0.9750\n",
      "Epoch 79/100\n",
      "40/40 - 0s - loss: 0.1128 - accuracy: 0.9750\n",
      "Epoch 80/100\n",
      "40/40 - 0s - loss: 0.1113 - accuracy: 0.9700\n",
      "Epoch 81/100\n",
      "40/40 - 0s - loss: 0.1098 - accuracy: 0.9700\n",
      "Epoch 82/100\n",
      "40/40 - 0s - loss: 0.1086 - accuracy: 0.9700\n",
      "Epoch 83/100\n",
      "40/40 - 0s - loss: 0.1078 - accuracy: 0.9750\n",
      "Epoch 84/100\n",
      "40/40 - 0s - loss: 0.1063 - accuracy: 0.9750\n",
      "Epoch 85/100\n",
      "40/40 - 0s - loss: 0.1048 - accuracy: 0.9750\n",
      "Epoch 86/100\n",
      "40/40 - 0s - loss: 0.1039 - accuracy: 0.9750\n",
      "Epoch 87/100\n",
      "40/40 - 0s - loss: 0.1025 - accuracy: 0.9750\n",
      "Epoch 88/100\n",
      "40/40 - 0s - loss: 0.1013 - accuracy: 0.9750\n",
      "Epoch 89/100\n",
      "40/40 - 0s - loss: 0.1000 - accuracy: 0.9750\n",
      "Epoch 90/100\n",
      "40/40 - 0s - loss: 0.0987 - accuracy: 0.9750\n",
      "Epoch 91/100\n",
      "40/40 - 0s - loss: 0.0974 - accuracy: 0.9750\n",
      "Epoch 92/100\n",
      "40/40 - 0s - loss: 0.0965 - accuracy: 0.9750\n",
      "Epoch 93/100\n",
      "40/40 - 0s - loss: 0.0952 - accuracy: 0.9750\n",
      "Epoch 94/100\n",
      "40/40 - 0s - loss: 0.0943 - accuracy: 0.9750\n",
      "Epoch 95/100\n",
      "40/40 - 0s - loss: 0.0929 - accuracy: 0.9750\n",
      "Epoch 96/100\n",
      "40/40 - 0s - loss: 0.0916 - accuracy: 0.9750\n",
      "Epoch 97/100\n",
      "40/40 - 0s - loss: 0.0905 - accuracy: 0.9750\n",
      "Epoch 98/100\n",
      "40/40 - 0s - loss: 0.0895 - accuracy: 0.9750\n",
      "Epoch 99/100\n",
      "40/40 - 0s - loss: 0.0880 - accuracy: 0.9750\n",
      "Epoch 100/100\n",
      "40/40 - 0s - loss: 0.0871 - accuracy: 0.9750\n"
     ]
    }
   ],
   "source": [
    "hist = model.fit(X, y, epochs=100, batch_size=5, verbose=2)"
   ]
  },
  {
   "cell_type": "code",
   "execution_count": 9,
   "metadata": {},
   "outputs": [
    {
     "data": {
      "image/png": "[encoded data removed]",
      "text/plain": [
       "<Figure size 432x288 with 2 Axes>"
      ]
     },
     "metadata": {
      "needs_background": "light"
     },
     "output_type": "display_data"
    }
   ],
   "source": [
    "import matplotlib.pyplot as plt\n",
    "%matplotlib inline\n",
    "\n",
    "fig, loss_ax = plt.subplots()\n",
    "\n",
    "acc_ax = loss_ax.twinx()\n",
    "\n",
    "loss_ax.plot(hist.history['loss'], 'y', label='train loss')\n",
    "#loss_ax.plot(hist.history['val_loss'], 'r', label='val loss')\n",
    "\n",
    "acc_ax.plot(hist.history['accuracy'], 'b', label='train acc')\n",
    "#acc_ax.plot(hist.history['val_accuracy'], 'g', label='val acc')\n",
    "\n",
    "loss_ax.set_xlabel('epoch')\n",
    "loss_ax.set_ylabel('loss')\n",
    "acc_ax.set_ylabel('accuray')\n",
    "\n",
    "loss_ax.legend(loc='upper left')\n",
    "acc_ax.legend(loc='lower left')\n",
    "\n",
    "plt.show()"
   ]
  },
  {
   "cell_type": "code",
   "execution_count": 10,
   "metadata": {},
   "outputs": [],
   "source": [
    "y_predicted = model.predict(X[0:10, :])"
   ]
  },
  {
   "cell_type": "code",
   "execution_count": 11,
   "metadata": {},
   "outputs": [
    {
     "name": "stdout",
     "output_type": "stream",
     "text": [
      "Predicted probability for each of the examples belonging to class 1: \n",
      "[[0.9951363 ]\n",
      " [0.12490765]\n",
      " [0.9400394 ]\n",
      " [0.0199018 ]\n",
      " [0.9932399 ]\n",
      " [0.01495999]\n",
      " [0.00772438]\n",
      " [0.2646901 ]\n",
      " [0.16421182]\n",
      " [0.9825095 ]]\n",
      "Predicted class label for each of the examples: \n",
      "[[1.]\n",
      " [0.]\n",
      " [1.]\n",
      " [0.]\n",
      " [1.]\n",
      " [0.]\n",
      " [0.]\n",
      " [0.]\n",
      " [0.]\n",
      " [1.]]\n"
     ]
    }
   ],
   "source": [
    "print(\"Predicted probability for each of the examples belonging to class 1: \"),\n",
    "print(y_predicted)\n",
    "print(\"Predicted class label for each of the examples: \"), \n",
    "print(np.round(y_predicted))"
   ]
  },
  {
   "cell_type": "code",
   "execution_count": null,
   "metadata": {},
   "outputs": [],
   "source": []
  }
 ],
 "metadata": {
  "kernelspec": {
   "display_name": "Python 3",
   "language": "python",
   "name": "python3"
  },
  "language_info": {
   "codemirror_mode": {
    "name": "ipython",
    "version": 3
   },
   "file_extension": ".py",
   "mimetype": "text/x-python",
   "name": "python",
   "nbconvert_exporter": "python",
   "pygments_lexer": "ipython3",
   "version": "3.7.6"
  }
 },
 "nbformat": 4,
 "nbformat_minor": 4
}
