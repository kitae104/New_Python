{
 "cells": [
  {
   "cell_type": "markdown",
   "metadata": {},
   "source": [
    "# 레이어"
   ]
  },
  {
   "cell_type": "code",
   "execution_count": 1,
   "metadata": {},
   "outputs": [],
   "source": [
    "from tensorflow.keras.models import Sequential\n",
    "from tensorflow.keras.layers import Dense"
   ]
  },
  {
   "cell_type": "code",
   "execution_count": 2,
   "metadata": {},
   "outputs": [
    {
     "name": "stdout",
     "output_type": "stream",
     "text": [
      "Model: \"sequential\"\n",
      "_________________________________________________________________\n",
      "Layer (type)                 Output Shape              Param #   \n",
      "=================================================================\n",
      "dense (Dense)                (None, 8)                 40        \n",
      "_________________________________________________________________\n",
      "dense_1 (Dense)              (None, 6)                 54        \n",
      "_________________________________________________________________\n",
      "dense_2 (Dense)              (None, 1)                 7         \n",
      "=================================================================\n",
      "Total params: 101\n",
      "Trainable params: 101\n",
      "Non-trainable params: 0\n",
      "_________________________________________________________________\n"
     ]
    }
   ],
   "source": [
    "model = Sequential()\n",
    "model.add(Dense(8, input_dim=4, activation='relu'))\n",
    "model.add(Dense(6, activation='relu'))\n",
    "model.add(Dense(1, activation='sigmoid'))\n",
    "model.summary()"
   ]
  },
  {
   "cell_type": "code",
   "execution_count": 3,
   "metadata": {
    "scrolled": true
   },
   "outputs": [
    {
     "data": {
      "image/svg+xml": [
       "<svg height=\"296pt\" viewBox=\"0.00 0.00 196.00 304.00\" width=\"191pt\" xmlns=\"http://www.w3.org/2000/svg\" xmlns:xlink=\"http://www.w3.org/1999/xlink\">\n",
       "<g class=\"graph\" id=\"graph0\" transform=\"scale(0.972222 0.972222) rotate(0) translate(4 300)\">\n",
       "<title>G</title>\n",
       "<polygon fill=\"white\" points=\"-4,4 -4,-300 192,-300 192,4 -4,4\" stroke=\"none\"/>\n",
       "<!-- 2534971522888 -->\n",
       "<g class=\"node\" id=\"node1\"><title>2534971522888</title>\n",
       "<polygon fill=\"none\" points=\"0,-249.5 0,-295.5 188,-295.5 188,-249.5 0,-249.5\" stroke=\"black\"/>\n",
       "<text font-family=\"Times New Roman,serif\" font-size=\"14.00\" text-anchor=\"middle\" x=\"38.5\" y=\"-268.8\">InputLayer</text>\n",
       "<polyline fill=\"none\" points=\"77,-249.5 77,-295.5 \" stroke=\"black\"/>\n",
       "<text font-family=\"Times New Roman,serif\" font-size=\"14.00\" text-anchor=\"middle\" x=\"105\" y=\"-280.3\">input:</text>\n",
       "<polyline fill=\"none\" points=\"77,-272.5 133,-272.5 \" stroke=\"black\"/>\n",
       "<text font-family=\"Times New Roman,serif\" font-size=\"14.00\" text-anchor=\"middle\" x=\"105\" y=\"-257.3\">output:</text>\n",
       "<polyline fill=\"none\" points=\"133,-249.5 133,-295.5 \" stroke=\"black\"/>\n",
       "<text font-family=\"Times New Roman,serif\" font-size=\"14.00\" text-anchor=\"middle\" x=\"160.5\" y=\"-280.3\">[(?, 4)]</text>\n",
       "<polyline fill=\"none\" points=\"133,-272.5 188,-272.5 \" stroke=\"black\"/>\n",
       "<text font-family=\"Times New Roman,serif\" font-size=\"14.00\" text-anchor=\"middle\" x=\"160.5\" y=\"-257.3\">[(?, 4)]</text>\n",
       "</g>\n",
       "<!-- 2534680167112 -->\n",
       "<g class=\"node\" id=\"node2\"><title>2534680167112</title>\n",
       "<polygon fill=\"none\" points=\"17.5,-166.5 17.5,-212.5 170.5,-212.5 170.5,-166.5 17.5,-166.5\" stroke=\"black\"/>\n",
       "<text font-family=\"Times New Roman,serif\" font-size=\"14.00\" text-anchor=\"middle\" x=\"43\" y=\"-185.8\">Dense</text>\n",
       "<polyline fill=\"none\" points=\"68.5,-166.5 68.5,-212.5 \" stroke=\"black\"/>\n",
       "<text font-family=\"Times New Roman,serif\" font-size=\"14.00\" text-anchor=\"middle\" x=\"96.5\" y=\"-197.3\">input:</text>\n",
       "<polyline fill=\"none\" points=\"68.5,-189.5 124.5,-189.5 \" stroke=\"black\"/>\n",
       "<text font-family=\"Times New Roman,serif\" font-size=\"14.00\" text-anchor=\"middle\" x=\"96.5\" y=\"-174.3\">output:</text>\n",
       "<polyline fill=\"none\" points=\"124.5,-166.5 124.5,-212.5 \" stroke=\"black\"/>\n",
       "<text font-family=\"Times New Roman,serif\" font-size=\"14.00\" text-anchor=\"middle\" x=\"147.5\" y=\"-197.3\">(?, 4)</text>\n",
       "<polyline fill=\"none\" points=\"124.5,-189.5 170.5,-189.5 \" stroke=\"black\"/>\n",
       "<text font-family=\"Times New Roman,serif\" font-size=\"14.00\" text-anchor=\"middle\" x=\"147.5\" y=\"-174.3\">(?, 8)</text>\n",
       "</g>\n",
       "<!-- 2534971522888&#45;&gt;2534680167112 -->\n",
       "<g class=\"edge\" id=\"edge1\"><title>2534971522888-&gt;2534680167112</title>\n",
       "<path d=\"M94,-249.366C94,-241.152 94,-231.658 94,-222.725\" fill=\"none\" stroke=\"black\"/>\n",
       "<polygon fill=\"black\" points=\"97.5001,-222.607 94,-212.607 90.5001,-222.607 97.5001,-222.607\" stroke=\"black\"/>\n",
       "</g>\n",
       "<!-- 2534680060680 -->\n",
       "<g class=\"node\" id=\"node3\"><title>2534680060680</title>\n",
       "<polygon fill=\"none\" points=\"17.5,-83.5 17.5,-129.5 170.5,-129.5 170.5,-83.5 17.5,-83.5\" stroke=\"black\"/>\n",
       "<text font-family=\"Times New Roman,serif\" font-size=\"14.00\" text-anchor=\"middle\" x=\"43\" y=\"-102.8\">Dense</text>\n",
       "<polyline fill=\"none\" points=\"68.5,-83.5 68.5,-129.5 \" stroke=\"black\"/>\n",
       "<text font-family=\"Times New Roman,serif\" font-size=\"14.00\" text-anchor=\"middle\" x=\"96.5\" y=\"-114.3\">input:</text>\n",
       "<polyline fill=\"none\" points=\"68.5,-106.5 124.5,-106.5 \" stroke=\"black\"/>\n",
       "<text font-family=\"Times New Roman,serif\" font-size=\"14.00\" text-anchor=\"middle\" x=\"96.5\" y=\"-91.3\">output:</text>\n",
       "<polyline fill=\"none\" points=\"124.5,-83.5 124.5,-129.5 \" stroke=\"black\"/>\n",
       "<text font-family=\"Times New Roman,serif\" font-size=\"14.00\" text-anchor=\"middle\" x=\"147.5\" y=\"-114.3\">(?, 8)</text>\n",
       "<polyline fill=\"none\" points=\"124.5,-106.5 170.5,-106.5 \" stroke=\"black\"/>\n",
       "<text font-family=\"Times New Roman,serif\" font-size=\"14.00\" text-anchor=\"middle\" x=\"147.5\" y=\"-91.3\">(?, 6)</text>\n",
       "</g>\n",
       "<!-- 2534680167112&#45;&gt;2534680060680 -->\n",
       "<g class=\"edge\" id=\"edge2\"><title>2534680167112-&gt;2534680060680</title>\n",
       "<path d=\"M94,-166.366C94,-158.152 94,-148.658 94,-139.725\" fill=\"none\" stroke=\"black\"/>\n",
       "<polygon fill=\"black\" points=\"97.5001,-139.607 94,-129.607 90.5001,-139.607 97.5001,-139.607\" stroke=\"black\"/>\n",
       "</g>\n",
       "<!-- 2534971912008 -->\n",
       "<g class=\"node\" id=\"node4\"><title>2534971912008</title>\n",
       "<polygon fill=\"none\" points=\"17.5,-0.5 17.5,-46.5 170.5,-46.5 170.5,-0.5 17.5,-0.5\" stroke=\"black\"/>\n",
       "<text font-family=\"Times New Roman,serif\" font-size=\"14.00\" text-anchor=\"middle\" x=\"43\" y=\"-19.8\">Dense</text>\n",
       "<polyline fill=\"none\" points=\"68.5,-0.5 68.5,-46.5 \" stroke=\"black\"/>\n",
       "<text font-family=\"Times New Roman,serif\" font-size=\"14.00\" text-anchor=\"middle\" x=\"96.5\" y=\"-31.3\">input:</text>\n",
       "<polyline fill=\"none\" points=\"68.5,-23.5 124.5,-23.5 \" stroke=\"black\"/>\n",
       "<text font-family=\"Times New Roman,serif\" font-size=\"14.00\" text-anchor=\"middle\" x=\"96.5\" y=\"-8.3\">output:</text>\n",
       "<polyline fill=\"none\" points=\"124.5,-0.5 124.5,-46.5 \" stroke=\"black\"/>\n",
       "<text font-family=\"Times New Roman,serif\" font-size=\"14.00\" text-anchor=\"middle\" x=\"147.5\" y=\"-31.3\">(?, 6)</text>\n",
       "<polyline fill=\"none\" points=\"124.5,-23.5 170.5,-23.5 \" stroke=\"black\"/>\n",
       "<text font-family=\"Times New Roman,serif\" font-size=\"14.00\" text-anchor=\"middle\" x=\"147.5\" y=\"-8.3\">(?, 1)</text>\n",
       "</g>\n",
       "<!-- 2534680060680&#45;&gt;2534971912008 -->\n",
       "<g class=\"edge\" id=\"edge3\"><title>2534680060680-&gt;2534971912008</title>\n",
       "<path d=\"M94,-83.3664C94,-75.1516 94,-65.6579 94,-56.7252\" fill=\"none\" stroke=\"black\"/>\n",
       "<polygon fill=\"black\" points=\"97.5001,-56.6068 94,-46.6068 90.5001,-56.6069 97.5001,-56.6068\" stroke=\"black\"/>\n",
       "</g>\n",
       "</g>\n",
       "</svg>"
      ],
      "text/plain": [
       "<IPython.core.display.SVG object>"
      ]
     },
     "metadata": {},
     "output_type": "display_data"
    }
   ],
   "source": [
    "from IPython.display import SVG, display\n",
    "from tensorflow.keras.utils import model_to_dot\n",
    "from tensorflow.keras.utils import plot_model\n",
    "import os\n",
    "\n",
    "os.environ[\"PATH\"] += os.pathsep + \"C:/Program Files (x86)/Graphviz2.38/bin\"\n",
    "\n",
    "%matplotlib inline\n",
    "\n",
    "iv1_dot = model_to_dot(model, show_shapes=True, show_layer_names=False, dpi=70)   # 사이즈 변경하기 \n",
    "plot_model(model, to_file='model.png')\n",
    "display(SVG(iv1_dot.create(prog=['dot'], format='svg')))"
   ]
  },
  {
   "cell_type": "code",
   "execution_count": null,
   "metadata": {},
   "outputs": [],
   "source": []
  }
 ],
 "metadata": {
  "kernelspec": {
   "display_name": "Python 3",
   "language": "python",
   "name": "python3"
  },
  "language_info": {
   "codemirror_mode": {
    "name": "ipython",
    "version": 3
   },
   "file_extension": ".py",
   "mimetype": "text/x-python",
   "name": "python",
   "nbconvert_exporter": "python",
   "pygments_lexer": "ipython3",
   "version": "3.7.6"
  }
 },
 "nbformat": 4,
 "nbformat_minor": 4
}
