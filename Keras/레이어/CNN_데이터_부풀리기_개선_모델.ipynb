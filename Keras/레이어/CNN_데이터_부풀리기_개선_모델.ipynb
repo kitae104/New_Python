{
 "cells": [
  {
   "cell_type": "markdown",
   "metadata": {},
   "source": [
    "# CNN 데이터 부풀리기 개선 모델 "
   ]
  },
  {
   "cell_type": "markdown",
   "metadata": {},
   "source": [
    "## 1. 문제 정의하기\n",
    "* 문제 형태 : 다중 클래스 분류\n",
    "* 입력 : 손으로 그린 삼각형, 사각형, 원 이미지\n",
    "* 출력 : 삼각형, 사각형, 원일 확률을 나타내는 벡터"
   ]
  },
  {
   "cell_type": "markdown",
   "metadata": {},
   "source": [
    "### 1.1 필요한 패키지 불러오기 "
   ]
  },
  {
   "cell_type": "code",
   "execution_count": 1,
   "metadata": {},
   "outputs": [],
   "source": [
    "import numpy as np\n",
    "from tensorflow.keras.models import Sequential\n",
    "from tensorflow.keras.layers import Dense\n",
    "from tensorflow.keras.layers import Flatten\n",
    "from tensorflow.keras.layers import Conv2D\n",
    "from tensorflow.keras.layers import MaxPooling2D\n",
    "from tensorflow.keras.preprocessing.image import ImageDataGenerator\n",
    "\n",
    "# 랜덤시드 고정시키기\n",
    "np.random.seed(3)"
   ]
  },
  {
   "cell_type": "markdown",
   "metadata": {},
   "source": [
    "## 2 데이터셋 생성하기\n",
    "ImageDataGenerator 클래스를 이용하여 객체를 생성한 뒤 flow_from_directory() 함수를 호출하여 제네레이터(generator)를 생성합니다. flow_from_directory() 함수의 주요인자는 다음과 같습니다.\n",
    "\n",
    "* 첫번재 인자 : 이미지 경로를 지정합니다.\n",
    "* target_size : 패치 이미지 크기를 지정합니다. 폴더에 있는 원본 이미지 크기가 다르더라도 target_size에 지정된 크기로 자동 조절됩니다.\n",
    "* batch_size : 배치 크기를 지정합니다.\n",
    "* class_mode : 분류 방식에 대해서 지정합니다.\n",
    "    * categorical : 2D one-hot 부호화된 라벨이 반환됩니다.\n",
    "    * binary : 1D 이진 라벨이 반환됩니다.\n",
    "    * sparse : 1D 정수 라벨이 반환됩니다.\n",
    "    * None : 라벨이 반환되지 않습니다."
   ]
  },
  {
   "cell_type": "code",
   "execution_count": 2,
   "metadata": {},
   "outputs": [
    {
     "name": "stdout",
     "output_type": "stream",
     "text": [
      "Found 45 images belonging to 3 classes.\n",
      "Found 15 images belonging to 3 classes.\n"
     ]
    }
   ],
   "source": [
    "#train_datagen = ImageDataGenerator(rescale=1./255)\n",
    "train_datagen = ImageDataGenerator(rescale= 1./255,\n",
    "                                   rotation_range=10, \n",
    "                                   width_shift_range=0.2,\n",
    "                                   height_shift_range=0.2,\n",
    "                                   shear_range=0.7,\n",
    "                                   zoom_range=[0.9, 2.2],\n",
    "                                   horizontal_flip=True,\n",
    "                                   vertical_flip=True,\n",
    "                                   fill_mode='nearest')\n",
    "                                   \n",
    "train_generator = train_datagen.flow_from_directory(\n",
    "        './train',\n",
    "        target_size=(24, 24),\n",
    "        batch_size=3,\n",
    "        class_mode='categorical')\n",
    "\n",
    "test_datagen = ImageDataGenerator(rescale=1./255)\n",
    "test_generator = test_datagen.flow_from_directory(\n",
    "        './test',\n",
    "        target_size=(24, 24),    \n",
    "        batch_size=3,\n",
    "        class_mode='categorical')"
   ]
  },
  {
   "cell_type": "markdown",
   "metadata": {},
   "source": [
    "## 3. 모델 구성하기\n",
    "영상 분류에 높은 성능을 보이고 있는 컨볼루션 신경망 모델을 구성해보겠습니다. \n",
    "\n",
    "* 컨볼루션 레이어 : 입력 이미지 크기 24 x 24, 입력 이미지 채널 3개, 필터 크기 3 x 3, 필터 수 32개, 활성화 함수 ‘relu’\n",
    "* 컨볼루션 레이어 : 필터 크기 3 x 3, 필터 수 64개, 활성화 함수 ‘relu’\n",
    "* 맥스풀링 레이어 : 풀 크기 2 x 2\n",
    "* 플래튼 레이어\n",
    "* 댄스 레이어 : 출력 뉴런 수 128개, 활성화 함수 ‘relu’\n",
    "* 댄스 레이어 : 출력 뉴런 수 3개, 활성화 함수 ‘softmax’"
   ]
  },
  {
   "cell_type": "code",
   "execution_count": 3,
   "metadata": {},
   "outputs": [
    {
     "name": "stdout",
     "output_type": "stream",
     "text": [
      "Model: \"sequential\"\n",
      "_________________________________________________________________\n",
      "Layer (type)                 Output Shape              Param #   \n",
      "=================================================================\n",
      "conv2d (Conv2D)              (None, 22, 22, 32)        896       \n",
      "_________________________________________________________________\n",
      "conv2d_1 (Conv2D)            (None, 20, 20, 64)        18496     \n",
      "_________________________________________________________________\n",
      "max_pooling2d (MaxPooling2D) (None, 10, 10, 64)        0         \n",
      "_________________________________________________________________\n",
      "flatten (Flatten)            (None, 6400)              0         \n",
      "_________________________________________________________________\n",
      "dense (Dense)                (None, 128)               819328    \n",
      "_________________________________________________________________\n",
      "dense_1 (Dense)              (None, 3)                 387       \n",
      "=================================================================\n",
      "Total params: 839,107\n",
      "Trainable params: 839,107\n",
      "Non-trainable params: 0\n",
      "_________________________________________________________________\n"
     ]
    }
   ],
   "source": [
    "model = Sequential()\n",
    "model.add(Conv2D(32, kernel_size=(3, 3),\n",
    "                 activation='relu',\n",
    "                 input_shape=(24,24,3)))\n",
    "model.add(Conv2D(64, (3, 3), activation='relu'))\n",
    "model.add(MaxPooling2D(pool_size=(2, 2)))\n",
    "model.add(Flatten())\n",
    "model.add(Dense(128, activation='relu'))\n",
    "model.add(Dense(3, activation='softmax'))\n",
    "model.summary()"
   ]
  },
  {
   "cell_type": "markdown",
   "metadata": {},
   "source": [
    "## 4. 모델 구성 확인"
   ]
  },
  {
   "cell_type": "code",
   "execution_count": 4,
   "metadata": {},
   "outputs": [
    {
     "data": {
      "image/svg+xml": [
       "<svg height=\"538pt\" viewBox=\"0.00 0.00 260.00 553.00\" width=\"253pt\" xmlns=\"http://www.w3.org/2000/svg\" xmlns:xlink=\"http://www.w3.org/1999/xlink\">\n",
       "<g class=\"graph\" id=\"graph0\" transform=\"scale(0.972222 0.972222) rotate(0) translate(4 549)\">\n",
       "<title>G</title>\n",
       "<polygon fill=\"white\" points=\"-4,4 -4,-549 256,-549 256,4 -4,4\" stroke=\"none\"/>\n",
       "<!-- 1995965857864 -->\n",
       "<g class=\"node\" id=\"node1\"><title>1995965857864</title>\n",
       "<polygon fill=\"none\" points=\"11,-498.5 11,-544.5 241,-544.5 241,-498.5 11,-498.5\" stroke=\"black\"/>\n",
       "<text font-family=\"Times New Roman,serif\" font-size=\"14.00\" text-anchor=\"middle\" x=\"49.5\" y=\"-517.8\">InputLayer</text>\n",
       "<polyline fill=\"none\" points=\"88,-498.5 88,-544.5 \" stroke=\"black\"/>\n",
       "<text font-family=\"Times New Roman,serif\" font-size=\"14.00\" text-anchor=\"middle\" x=\"116\" y=\"-529.3\">input:</text>\n",
       "<polyline fill=\"none\" points=\"88,-521.5 144,-521.5 \" stroke=\"black\"/>\n",
       "<text font-family=\"Times New Roman,serif\" font-size=\"14.00\" text-anchor=\"middle\" x=\"116\" y=\"-506.3\">output:</text>\n",
       "<polyline fill=\"none\" points=\"144,-498.5 144,-544.5 \" stroke=\"black\"/>\n",
       "<text font-family=\"Times New Roman,serif\" font-size=\"14.00\" text-anchor=\"middle\" x=\"192.5\" y=\"-529.3\">[(?, 24, 24, 3)]</text>\n",
       "<polyline fill=\"none\" points=\"144,-521.5 241,-521.5 \" stroke=\"black\"/>\n",
       "<text font-family=\"Times New Roman,serif\" font-size=\"14.00\" text-anchor=\"middle\" x=\"192.5\" y=\"-506.3\">[(?, 24, 24, 3)]</text>\n",
       "</g>\n",
       "<!-- 1995965704072 -->\n",
       "<g class=\"node\" id=\"node2\"><title>1995965704072</title>\n",
       "<polygon fill=\"none\" points=\"18.5,-415.5 18.5,-461.5 233.5,-461.5 233.5,-415.5 18.5,-415.5\" stroke=\"black\"/>\n",
       "<text font-family=\"Times New Roman,serif\" font-size=\"14.00\" text-anchor=\"middle\" x=\"50.5\" y=\"-434.8\">Conv2D</text>\n",
       "<polyline fill=\"none\" points=\"82.5,-415.5 82.5,-461.5 \" stroke=\"black\"/>\n",
       "<text font-family=\"Times New Roman,serif\" font-size=\"14.00\" text-anchor=\"middle\" x=\"110.5\" y=\"-446.3\">input:</text>\n",
       "<polyline fill=\"none\" points=\"82.5,-438.5 138.5,-438.5 \" stroke=\"black\"/>\n",
       "<text font-family=\"Times New Roman,serif\" font-size=\"14.00\" text-anchor=\"middle\" x=\"110.5\" y=\"-423.3\">output:</text>\n",
       "<polyline fill=\"none\" points=\"138.5,-415.5 138.5,-461.5 \" stroke=\"black\"/>\n",
       "<text font-family=\"Times New Roman,serif\" font-size=\"14.00\" text-anchor=\"middle\" x=\"186\" y=\"-446.3\">(?, 24, 24, 3)</text>\n",
       "<polyline fill=\"none\" points=\"138.5,-438.5 233.5,-438.5 \" stroke=\"black\"/>\n",
       "<text font-family=\"Times New Roman,serif\" font-size=\"14.00\" text-anchor=\"middle\" x=\"186\" y=\"-423.3\">(?, 22, 22, 32)</text>\n",
       "</g>\n",
       "<!-- 1995965857864&#45;&gt;1995965704072 -->\n",
       "<g class=\"edge\" id=\"edge1\"><title>1995965857864-&gt;1995965704072</title>\n",
       "<path d=\"M126,-498.366C126,-490.152 126,-480.658 126,-471.725\" fill=\"none\" stroke=\"black\"/>\n",
       "<polygon fill=\"black\" points=\"129.5,-471.607 126,-461.607 122.5,-471.607 129.5,-471.607\" stroke=\"black\"/>\n",
       "</g>\n",
       "<!-- 1995965913800 -->\n",
       "<g class=\"node\" id=\"node3\"><title>1995965913800</title>\n",
       "<polygon fill=\"none\" points=\"18.5,-332.5 18.5,-378.5 233.5,-378.5 233.5,-332.5 18.5,-332.5\" stroke=\"black\"/>\n",
       "<text font-family=\"Times New Roman,serif\" font-size=\"14.00\" text-anchor=\"middle\" x=\"50.5\" y=\"-351.8\">Conv2D</text>\n",
       "<polyline fill=\"none\" points=\"82.5,-332.5 82.5,-378.5 \" stroke=\"black\"/>\n",
       "<text font-family=\"Times New Roman,serif\" font-size=\"14.00\" text-anchor=\"middle\" x=\"110.5\" y=\"-363.3\">input:</text>\n",
       "<polyline fill=\"none\" points=\"82.5,-355.5 138.5,-355.5 \" stroke=\"black\"/>\n",
       "<text font-family=\"Times New Roman,serif\" font-size=\"14.00\" text-anchor=\"middle\" x=\"110.5\" y=\"-340.3\">output:</text>\n",
       "<polyline fill=\"none\" points=\"138.5,-332.5 138.5,-378.5 \" stroke=\"black\"/>\n",
       "<text font-family=\"Times New Roman,serif\" font-size=\"14.00\" text-anchor=\"middle\" x=\"186\" y=\"-363.3\">(?, 22, 22, 32)</text>\n",
       "<polyline fill=\"none\" points=\"138.5,-355.5 233.5,-355.5 \" stroke=\"black\"/>\n",
       "<text font-family=\"Times New Roman,serif\" font-size=\"14.00\" text-anchor=\"middle\" x=\"186\" y=\"-340.3\">(?, 20, 20, 64)</text>\n",
       "</g>\n",
       "<!-- 1995965704072&#45;&gt;1995965913800 -->\n",
       "<g class=\"edge\" id=\"edge2\"><title>1995965704072-&gt;1995965913800</title>\n",
       "<path d=\"M126,-415.366C126,-407.152 126,-397.658 126,-388.725\" fill=\"none\" stroke=\"black\"/>\n",
       "<polygon fill=\"black\" points=\"129.5,-388.607 126,-378.607 122.5,-388.607 129.5,-388.607\" stroke=\"black\"/>\n",
       "</g>\n",
       "<!-- 1995968265160 -->\n",
       "<g class=\"node\" id=\"node4\"><title>1995968265160</title>\n",
       "<polygon fill=\"none\" points=\"0,-249.5 0,-295.5 252,-295.5 252,-249.5 0,-249.5\" stroke=\"black\"/>\n",
       "<text font-family=\"Times New Roman,serif\" font-size=\"14.00\" text-anchor=\"middle\" x=\"50.5\" y=\"-268.8\">MaxPooling2D</text>\n",
       "<polyline fill=\"none\" points=\"101,-249.5 101,-295.5 \" stroke=\"black\"/>\n",
       "<text font-family=\"Times New Roman,serif\" font-size=\"14.00\" text-anchor=\"middle\" x=\"129\" y=\"-280.3\">input:</text>\n",
       "<polyline fill=\"none\" points=\"101,-272.5 157,-272.5 \" stroke=\"black\"/>\n",
       "<text font-family=\"Times New Roman,serif\" font-size=\"14.00\" text-anchor=\"middle\" x=\"129\" y=\"-257.3\">output:</text>\n",
       "<polyline fill=\"none\" points=\"157,-249.5 157,-295.5 \" stroke=\"black\"/>\n",
       "<text font-family=\"Times New Roman,serif\" font-size=\"14.00\" text-anchor=\"middle\" x=\"204.5\" y=\"-280.3\">(?, 20, 20, 64)</text>\n",
       "<polyline fill=\"none\" points=\"157,-272.5 252,-272.5 \" stroke=\"black\"/>\n",
       "<text font-family=\"Times New Roman,serif\" font-size=\"14.00\" text-anchor=\"middle\" x=\"204.5\" y=\"-257.3\">(?, 10, 10, 64)</text>\n",
       "</g>\n",
       "<!-- 1995965913800&#45;&gt;1995968265160 -->\n",
       "<g class=\"edge\" id=\"edge3\"><title>1995965913800-&gt;1995968265160</title>\n",
       "<path d=\"M126,-332.366C126,-324.152 126,-314.658 126,-305.725\" fill=\"none\" stroke=\"black\"/>\n",
       "<polygon fill=\"black\" points=\"129.5,-305.607 126,-295.607 122.5,-305.607 129.5,-305.607\" stroke=\"black\"/>\n",
       "</g>\n",
       "<!-- 1995968329160 -->\n",
       "<g class=\"node\" id=\"node5\"><title>1995968329160</title>\n",
       "<polygon fill=\"none\" points=\"23.5,-166.5 23.5,-212.5 228.5,-212.5 228.5,-166.5 23.5,-166.5\" stroke=\"black\"/>\n",
       "<text font-family=\"Times New Roman,serif\" font-size=\"14.00\" text-anchor=\"middle\" x=\"50.5\" y=\"-185.8\">Flatten</text>\n",
       "<polyline fill=\"none\" points=\"77.5,-166.5 77.5,-212.5 \" stroke=\"black\"/>\n",
       "<text font-family=\"Times New Roman,serif\" font-size=\"14.00\" text-anchor=\"middle\" x=\"105.5\" y=\"-197.3\">input:</text>\n",
       "<polyline fill=\"none\" points=\"77.5,-189.5 133.5,-189.5 \" stroke=\"black\"/>\n",
       "<text font-family=\"Times New Roman,serif\" font-size=\"14.00\" text-anchor=\"middle\" x=\"105.5\" y=\"-174.3\">output:</text>\n",
       "<polyline fill=\"none\" points=\"133.5,-166.5 133.5,-212.5 \" stroke=\"black\"/>\n",
       "<text font-family=\"Times New Roman,serif\" font-size=\"14.00\" text-anchor=\"middle\" x=\"181\" y=\"-197.3\">(?, 10, 10, 64)</text>\n",
       "<polyline fill=\"none\" points=\"133.5,-189.5 228.5,-189.5 \" stroke=\"black\"/>\n",
       "<text font-family=\"Times New Roman,serif\" font-size=\"14.00\" text-anchor=\"middle\" x=\"181\" y=\"-174.3\">(?, 6400)</text>\n",
       "</g>\n",
       "<!-- 1995968265160&#45;&gt;1995968329160 -->\n",
       "<g class=\"edge\" id=\"edge4\"><title>1995968265160-&gt;1995968329160</title>\n",
       "<path d=\"M126,-249.366C126,-241.152 126,-231.658 126,-222.725\" fill=\"none\" stroke=\"black\"/>\n",
       "<polygon fill=\"black\" points=\"129.5,-222.607 126,-212.607 122.5,-222.607 129.5,-222.607\" stroke=\"black\"/>\n",
       "</g>\n",
       "<!-- 1995675810696 -->\n",
       "<g class=\"node\" id=\"node6\"><title>1995675810696</title>\n",
       "<polygon fill=\"none\" points=\"39.5,-83.5 39.5,-129.5 212.5,-129.5 212.5,-83.5 39.5,-83.5\" stroke=\"black\"/>\n",
       "<text font-family=\"Times New Roman,serif\" font-size=\"14.00\" text-anchor=\"middle\" x=\"65\" y=\"-102.8\">Dense</text>\n",
       "<polyline fill=\"none\" points=\"90.5,-83.5 90.5,-129.5 \" stroke=\"black\"/>\n",
       "<text font-family=\"Times New Roman,serif\" font-size=\"14.00\" text-anchor=\"middle\" x=\"118.5\" y=\"-114.3\">input:</text>\n",
       "<polyline fill=\"none\" points=\"90.5,-106.5 146.5,-106.5 \" stroke=\"black\"/>\n",
       "<text font-family=\"Times New Roman,serif\" font-size=\"14.00\" text-anchor=\"middle\" x=\"118.5\" y=\"-91.3\">output:</text>\n",
       "<polyline fill=\"none\" points=\"146.5,-83.5 146.5,-129.5 \" stroke=\"black\"/>\n",
       "<text font-family=\"Times New Roman,serif\" font-size=\"14.00\" text-anchor=\"middle\" x=\"179.5\" y=\"-114.3\">(?, 6400)</text>\n",
       "<polyline fill=\"none\" points=\"146.5,-106.5 212.5,-106.5 \" stroke=\"black\"/>\n",
       "<text font-family=\"Times New Roman,serif\" font-size=\"14.00\" text-anchor=\"middle\" x=\"179.5\" y=\"-91.3\">(?, 128)</text>\n",
       "</g>\n",
       "<!-- 1995968329160&#45;&gt;1995675810696 -->\n",
       "<g class=\"edge\" id=\"edge5\"><title>1995968329160-&gt;1995675810696</title>\n",
       "<path d=\"M126,-166.366C126,-158.152 126,-148.658 126,-139.725\" fill=\"none\" stroke=\"black\"/>\n",
       "<polygon fill=\"black\" points=\"129.5,-139.607 126,-129.607 122.5,-139.607 129.5,-139.607\" stroke=\"black\"/>\n",
       "</g>\n",
       "<!-- 1995968318984 -->\n",
       "<g class=\"node\" id=\"node7\"><title>1995968318984</title>\n",
       "<polygon fill=\"none\" points=\"43,-0.5 43,-46.5 209,-46.5 209,-0.5 43,-0.5\" stroke=\"black\"/>\n",
       "<text font-family=\"Times New Roman,serif\" font-size=\"14.00\" text-anchor=\"middle\" x=\"68.5\" y=\"-19.8\">Dense</text>\n",
       "<polyline fill=\"none\" points=\"94,-0.5 94,-46.5 \" stroke=\"black\"/>\n",
       "<text font-family=\"Times New Roman,serif\" font-size=\"14.00\" text-anchor=\"middle\" x=\"122\" y=\"-31.3\">input:</text>\n",
       "<polyline fill=\"none\" points=\"94,-23.5 150,-23.5 \" stroke=\"black\"/>\n",
       "<text font-family=\"Times New Roman,serif\" font-size=\"14.00\" text-anchor=\"middle\" x=\"122\" y=\"-8.3\">output:</text>\n",
       "<polyline fill=\"none\" points=\"150,-0.5 150,-46.5 \" stroke=\"black\"/>\n",
       "<text font-family=\"Times New Roman,serif\" font-size=\"14.00\" text-anchor=\"middle\" x=\"179.5\" y=\"-31.3\">(?, 128)</text>\n",
       "<polyline fill=\"none\" points=\"150,-23.5 209,-23.5 \" stroke=\"black\"/>\n",
       "<text font-family=\"Times New Roman,serif\" font-size=\"14.00\" text-anchor=\"middle\" x=\"179.5\" y=\"-8.3\">(?, 3)</text>\n",
       "</g>\n",
       "<!-- 1995675810696&#45;&gt;1995968318984 -->\n",
       "<g class=\"edge\" id=\"edge6\"><title>1995675810696-&gt;1995968318984</title>\n",
       "<path d=\"M126,-83.3664C126,-75.1516 126,-65.6579 126,-56.7252\" fill=\"none\" stroke=\"black\"/>\n",
       "<polygon fill=\"black\" points=\"129.5,-56.6068 126,-46.6068 122.5,-56.6069 129.5,-56.6068\" stroke=\"black\"/>\n",
       "</g>\n",
       "</g>\n",
       "</svg>"
      ],
      "text/plain": [
       "<IPython.core.display.SVG object>"
      ]
     },
     "metadata": {},
     "output_type": "display_data"
    }
   ],
   "source": [
    "from IPython.display import SVG, display\n",
    "from tensorflow.keras.utils import model_to_dot\n",
    "from tensorflow.keras.utils import plot_model\n",
    "import os\n",
    "\n",
    "os.environ[\"PATH\"] += os.pathsep + \"C:/Program Files (x86)/Graphviz2.38/bin\"\n",
    "\n",
    "%matplotlib inline\n",
    "\n",
    "iv1_dot = model_to_dot(model, show_shapes=True, show_layer_names=False, dpi=70)   # 사이즈 변경하기 \n",
    "plot_model(model, to_file='model.png')\n",
    "display(SVG(iv1_dot.create(prog=['dot'], format='svg')))"
   ]
  },
  {
   "cell_type": "markdown",
   "metadata": {},
   "source": [
    "## 5. 모델 학습과정 설정하기\n",
    "모델을 정의했다면 모델을 손실함수와 최적화 알고리즘으로 엮어봅니다.\n",
    "\n",
    "* loss : 현재 가중치 세트를 평가하는 데 사용한 손실 함수 입니다. 다중 클래스 문제이므로 ‘categorical_crossentropy’으로 지정합니다.\n",
    "* optimizer : 최적의 가중치를 검색하는 데 사용되는 최적화 알고리즘으로 효율적인 경사 하강법 알고리즘 중 하나인 ‘adam’을 사용합니다.\n",
    "* metrics : 평가 척도를 나타내며 분류 문제에서는 일반적으로 ‘accuracy’으로 지정합니다."
   ]
  },
  {
   "cell_type": "code",
   "execution_count": 5,
   "metadata": {},
   "outputs": [],
   "source": [
    "model.compile(loss='categorical_crossentropy', optimizer='adam', metrics=['accuracy'])"
   ]
  },
  {
   "cell_type": "markdown",
   "metadata": {},
   "source": [
    "## 6. 모델 학습시키기 \n",
    "케라스에서는 모델을 학습시킬 때 주로 fit() 함수를 사용하지만 제네레이터로 생성된 배치로 학습시킬 경우에는 fit_generator() 함수를 사용합니다.\n",
    "ImageDataGenerator라는 제네레이터로 이미지를 담고 있는 배치로 학습시키기 때문에 fit_generator() 함수를 사용\n",
    "\n",
    "* 첫번째 인자 : 훈련데이터셋을 제공할 제네레이터를 지정합니다. 앞서 생성한 train_generator으로 지정합니다.\n",
    "* steps_per_epoch : 한 epoch에 사용한 스텝 수를 지정합니다. 총 45개의 훈련 샘플이 있고 배치사이즈가 3이므로 15 스텝으로 지정합니다.\n",
    "* epochs : 전체 훈련 데이터셋에 대해 학습 반복 횟수를 지정합니다. 50번을 반복적으로 학습시켜 보겠습니다.\n",
    "* validation_data : 검증데이터셋을 제공할 제네레이터를 지정합니다. 본 예제에서는 앞서 생성한 validation_generator으로 지정합니다.\n",
    "* validation_steps : 한 epoch 종료 시 마다 검증할 때 사용되는 검증 스텝 수를 지정합니다. 홍 15개의 검증 샘플이 있고 배치사이즈가 3이므로 5 스텝으로 지정합니다."
   ]
  },
  {
   "cell_type": "code",
   "execution_count": 6,
   "metadata": {},
   "outputs": [
    {
     "name": "stdout",
     "output_type": "stream",
     "text": [
      "Epoch 1/50\n",
      "1500/1500 [==============================] - 12s 8ms/step - loss: 0.1957 - accuracy: 0.9218 - val_loss: 0.0392 - val_accuracy: 1.0000\n",
      "Epoch 2/50\n",
      "1500/1500 [==============================] - 12s 8ms/step - loss: 0.0408 - accuracy: 0.9851 - val_loss: 4.5934e-06 - val_accuracy: 1.0000\n",
      "Epoch 3/50\n",
      "1500/1500 [==============================] - 12s 8ms/step - loss: 0.0336 - accuracy: 0.9900 - val_loss: 4.5299e-07 - val_accuracy: 1.0000\n",
      "Epoch 4/50\n",
      "1500/1500 [==============================] - 12s 8ms/step - loss: 0.0248 - accuracy: 0.9920 - val_loss: 2.7677e-04 - val_accuracy: 1.0000\n",
      "Epoch 5/50\n",
      "1500/1500 [==============================] - 12s 8ms/step - loss: 0.0204 - accuracy: 0.9947 - val_loss: 1.9746e-05 - val_accuracy: 1.0000\n",
      "Epoch 6/50\n",
      "1500/1500 [==============================] - 12s 8ms/step - loss: 0.0196 - accuracy: 0.9944 - val_loss: 7.9473e-09 - val_accuracy: 1.0000\n",
      "Epoch 7/50\n",
      "1500/1500 [==============================] - 12s 8ms/step - loss: 0.0144 - accuracy: 0.9951 - val_loss: 1.8517e-06 - val_accuracy: 1.0000\n",
      "Epoch 8/50\n",
      "1500/1500 [==============================] - ETA: 0s - loss: 0.0153 - accuracy: 0.99 - 12s 8ms/step - loss: 0.0153 - accuracy: 0.9951 - val_loss: 1.4305e-07 - val_accuracy: 1.0000\n",
      "Epoch 9/50\n",
      "1500/1500 [==============================] - 12s 8ms/step - loss: 0.0108 - accuracy: 0.9978 - val_loss: 1.0808e-06 - val_accuracy: 1.0000\n",
      "Epoch 10/50\n",
      "1500/1500 [==============================] - 12s 8ms/step - loss: 0.0204 - accuracy: 0.9944 - val_loss: 0.0000e+00 - val_accuracy: 1.0000\n",
      "Epoch 11/50\n",
      "1500/1500 [==============================] - 12s 8ms/step - loss: 0.0176 - accuracy: 0.9958 - val_loss: 0.0000e+00 - val_accuracy: 1.0000\n",
      "Epoch 12/50\n",
      "1500/1500 [==============================] - 12s 8ms/step - loss: 0.0116 - accuracy: 0.9962 - val_loss: 0.0000e+00 - val_accuracy: 1.0000\n",
      "Epoch 13/50\n",
      "1500/1500 [==============================] - 12s 8ms/step - loss: 0.0066 - accuracy: 0.9978 - val_loss: 0.0000e+00 - val_accuracy: 1.0000\n",
      "Epoch 14/50\n",
      "1500/1500 [==============================] - 12s 8ms/step - loss: 0.0197 - accuracy: 0.9949 - val_loss: 0.0000e+00 - val_accuracy: 1.0000\n",
      "Epoch 15/50\n",
      "1500/1500 [==============================] - 12s 8ms/step - loss: 0.0015 - accuracy: 0.9996 - val_loss: 0.0000e+00 - val_accuracy: 1.0000\n",
      "Epoch 16/50\n",
      "1500/1500 [==============================] - 13s 9ms/step - loss: 0.0202 - accuracy: 0.9958 - val_loss: 0.0000e+00 - val_accuracy: 1.0000\n",
      "Epoch 17/50\n",
      "1500/1500 [==============================] - 12s 8ms/step - loss: 0.0110 - accuracy: 0.9971 - val_loss: 0.0000e+00 - val_accuracy: 1.0000\n",
      "Epoch 18/50\n",
      "1500/1500 [==============================] - 12s 8ms/step - loss: 8.1559e-04 - accuracy: 0.9998 - val_loss: 0.0000e+00 - val_accuracy: 1.0000\n",
      "Epoch 19/50\n",
      "1500/1500 [==============================] - 12s 8ms/step - loss: 0.0072 - accuracy: 0.9984 - val_loss: 0.0000e+00 - val_accuracy: 1.0000\n",
      "Epoch 20/50\n",
      "1500/1500 [==============================] - 12s 8ms/step - loss: 0.0328 - accuracy: 0.9929 - val_loss: 0.0000e+00 - val_accuracy: 1.0000\n",
      "Epoch 21/50\n",
      "1500/1500 [==============================] - 11s 8ms/step - loss: 0.0128 - accuracy: 0.9973 - val_loss: 0.0000e+00 - val_accuracy: 1.0000\n",
      "Epoch 22/50\n",
      "1500/1500 [==============================] - 11s 8ms/step - loss: 0.0135 - accuracy: 0.9960 - val_loss: 0.0000e+00 - val_accuracy: 1.0000\n",
      "Epoch 23/50\n",
      "1500/1500 [==============================] - 11s 8ms/step - loss: 0.0118 - accuracy: 0.9971 - val_loss: 0.0000e+00 - val_accuracy: 1.0000\n",
      "Epoch 24/50\n",
      "1500/1500 [==============================] - 11s 8ms/step - loss: 0.0090 - accuracy: 0.9976 - val_loss: 0.0000e+00 - val_accuracy: 1.0000\n",
      "Epoch 25/50\n",
      "1500/1500 [==============================] - 11s 8ms/step - loss: 0.0069 - accuracy: 0.9989 - val_loss: 0.0000e+00 - val_accuracy: 1.0000\n",
      "Epoch 26/50\n",
      "1500/1500 [==============================] - 12s 8ms/step - loss: 0.0118 - accuracy: 0.9964 - val_loss: 0.0000e+00 - val_accuracy: 1.0000\n",
      "Epoch 27/50\n",
      "1500/1500 [==============================] - 12s 8ms/step - loss: 0.0176 - accuracy: 0.9953 - val_loss: 0.0000e+00 - val_accuracy: 1.0000\n",
      "Epoch 28/50\n",
      "1500/1500 [==============================] - 11s 8ms/step - loss: 0.0096 - accuracy: 0.9989 - val_loss: 0.0000e+00 - val_accuracy: 1.0000\n",
      "Epoch 29/50\n",
      "1500/1500 [==============================] - 11s 8ms/step - loss: 0.0154 - accuracy: 0.9962 - val_loss: 0.0000e+00 - val_accuracy: 1.0000\n",
      "Epoch 30/50\n",
      "1500/1500 [==============================] - 11s 8ms/step - loss: 0.0130 - accuracy: 0.9967 - val_loss: 0.0000e+00 - val_accuracy: 1.0000\n",
      "Epoch 31/50\n",
      "1500/1500 [==============================] - 11s 7ms/step - loss: 1.8555e-04 - accuracy: 1.0000 - val_loss: 0.0000e+00 - val_accuracy: 1.0000\n",
      "Epoch 32/50\n",
      "1500/1500 [==============================] - 11s 8ms/step - loss: 0.0094 - accuracy: 0.9980 - val_loss: 0.0000e+00 - val_accuracy: 1.0000\n",
      "Epoch 33/50\n",
      "1500/1500 [==============================] - 11s 7ms/step - loss: 0.0057 - accuracy: 0.9984 - val_loss: 0.8565 - val_accuracy: 0.9333\n",
      "Epoch 34/50\n",
      "1500/1500 [==============================] - 11s 7ms/step - loss: 0.0143 - accuracy: 0.9978 - val_loss: 0.0000e+00 - val_accuracy: 1.0000\n",
      "Epoch 35/50\n",
      "1500/1500 [==============================] - 11s 7ms/step - loss: 0.0086 - accuracy: 0.9982 - val_loss: 0.0000e+00 - val_accuracy: 1.0000\n",
      "Epoch 36/50\n",
      "1500/1500 [==============================] - 11s 7ms/step - loss: 0.0095 - accuracy: 0.9980 - val_loss: 0.0000e+00 - val_accuracy: 1.0000\n",
      "Epoch 37/50\n",
      "1500/1500 [==============================] - 11s 8ms/step - loss: 0.0038 - accuracy: 0.9993 - val_loss: 0.0000e+00 - val_accuracy: 1.0000\n",
      "Epoch 38/50\n",
      "1500/1500 [==============================] - 11s 8ms/step - loss: 0.0023 - accuracy: 0.9993 - val_loss: 0.0000e+00 - val_accuracy: 1.0000\n",
      "Epoch 39/50\n",
      "1500/1500 [==============================] - 11s 7ms/step - loss: 0.0035 - accuracy: 0.9993 - val_loss: 0.0000e+00 - val_accuracy: 1.0000\n",
      "Epoch 40/50\n",
      "1500/1500 [==============================] - 11s 8ms/step - loss: 0.0119 - accuracy: 0.9991 - val_loss: 0.0000e+00 - val_accuracy: 1.0000\n",
      "Epoch 41/50\n",
      "1500/1500 [==============================] - 11s 8ms/step - loss: 0.0203 - accuracy: 0.9971 - val_loss: 0.0000e+00 - val_accuracy: 1.0000\n",
      "Epoch 42/50\n",
      "1500/1500 [==============================] - 11s 7ms/step - loss: 0.0064 - accuracy: 0.9993 - val_loss: 0.0000e+00 - val_accuracy: 1.0000\n",
      "Epoch 43/50\n",
      "1500/1500 [==============================] - 11s 8ms/step - loss: 2.5634e-04 - accuracy: 1.0000 - val_loss: 0.0000e+00 - val_accuracy: 1.0000\n",
      "Epoch 44/50\n",
      "1500/1500 [==============================] - 11s 8ms/step - loss: 0.0117 - accuracy: 0.9973 - val_loss: 0.0000e+00 - val_accuracy: 1.0000\n",
      "Epoch 45/50\n",
      "1500/1500 [==============================] - 11s 8ms/step - loss: 0.0104 - accuracy: 0.9982 - val_loss: 0.0000e+00 - val_accuracy: 1.0000\n",
      "Epoch 46/50\n",
      "1500/1500 [==============================] - 11s 8ms/step - loss: 7.6151e-04 - accuracy: 0.9998 - val_loss: 0.0000e+00 - val_accuracy: 1.0000\n",
      "Epoch 47/50\n",
      "1500/1500 [==============================] - 11s 7ms/step - loss: 4.8014e-04 - accuracy: 1.0000 - val_loss: 0.0000e+00 - val_accuracy: 1.0000\n",
      "Epoch 48/50\n",
      "1500/1500 [==============================] - 11s 8ms/step - loss: 0.0188 - accuracy: 0.9982 - val_loss: 0.0000e+00 - val_accuracy: 1.0000\n",
      "Epoch 49/50\n",
      "1500/1500 [==============================] - 11s 8ms/step - loss: 0.0106 - accuracy: 0.9982 - val_loss: 0.0000e+00 - val_accuracy: 1.0000\n",
      "Epoch 50/50\n",
      "1500/1500 [==============================] - 11s 7ms/step - loss: 0.0066 - accuracy: 0.9984 - val_loss: 0.0000e+00 - val_accuracy: 1.0000\n"
     ]
    },
    {
     "data": {
      "text/plain": [
       "<tensorflow.python.keras.callbacks.History at 0x1d0baebc288>"
      ]
     },
     "execution_count": 6,
     "metadata": {},
     "output_type": "execute_result"
    }
   ],
   "source": [
    "model.fit(\n",
    "    train_generator,\n",
    "    steps_per_epoch=15 * 100,\n",
    "    epochs=50,\n",
    "    validation_data=test_generator,\n",
    "    validation_steps=5)"
   ]
  },
  {
   "cell_type": "markdown",
   "metadata": {},
   "source": [
    "## 7. 모델 평가하기 "
   ]
  },
  {
   "cell_type": "code",
   "execution_count": 7,
   "metadata": {},
   "outputs": [
    {
     "name": "stdout",
     "output_type": "stream",
     "text": [
      "-- Evaluate --\n",
      "5/5 [==============================] - 0s 2ms/step - loss: 0.0000e+00 - accuracy: 1.0000\n",
      "accuracy: 100.00%\n"
     ]
    }
   ],
   "source": [
    "print(\"-- Evaluate --\")\n",
    "scores = model.evaluate(test_generator, steps=5)\n",
    "print(\"%s: %.2f%%\" %(model.metrics_names[1], scores[1]*100))"
   ]
  },
  {
   "cell_type": "markdown",
   "metadata": {},
   "source": [
    "## 8. 모델 사용하기"
   ]
  },
  {
   "cell_type": "code",
   "execution_count": 8,
   "metadata": {},
   "outputs": [
    {
     "name": "stdout",
     "output_type": "stream",
     "text": [
      "-- Predict --\n",
      "{'circle': 0, 'rectangle': 1, 'triangle': 2}\n",
      "[[0.000 0.000 1.000]\n",
      " [0.000 0.000 1.000]\n",
      " [0.000 0.000 1.000]\n",
      " [0.000 1.000 0.000]\n",
      " [1.000 0.000 0.000]\n",
      " [0.000 1.000 0.000]\n",
      " [1.000 0.000 0.000]\n",
      " [0.000 1.000 0.000]\n",
      " [0.000 1.000 0.000]\n",
      " [1.000 0.000 0.000]\n",
      " [1.000 0.000 0.000]\n",
      " [0.000 1.000 0.000]\n",
      " [0.000 0.000 1.000]\n",
      " [0.000 1.000 0.000]\n",
      " [0.000 0.000 1.000]]\n"
     ]
    }
   ],
   "source": [
    "print(\"-- Predict --\")\n",
    "output = model.predict(test_generator, steps=5)\n",
    "np.set_printoptions(formatter={'float': lambda x: \"{0:0.3f}\".format(x)})\n",
    "print(test_generator.class_indices)\n",
    "print(output)"
   ]
  },
  {
   "cell_type": "code",
   "execution_count": null,
   "metadata": {},
   "outputs": [],
   "source": []
  }
 ],
 "metadata": {
  "kernelspec": {
   "display_name": "Python 3",
   "language": "python",
   "name": "python3"
  },
  "language_info": {
   "codemirror_mode": {
    "name": "ipython",
    "version": 3
   },
   "file_extension": ".py",
   "mimetype": "text/x-python",
   "name": "python",
   "nbconvert_exporter": "python",
   "pygments_lexer": "ipython3",
   "version": "3.7.6"
  }
 },
 "nbformat": 4,
 "nbformat_minor": 4
}
