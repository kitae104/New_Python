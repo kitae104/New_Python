{
 "cells": [
  {
   "cell_type": "markdown",
   "metadata": {},
   "source": [
    "# 퍼셉트론 신경망 모델"
   ]
  },
  {
   "cell_type": "code",
   "execution_count": 1,
   "metadata": {},
   "outputs": [],
   "source": [
    "import numpy as np\n",
    "from tensorflow.keras.models import Sequential\n",
    "from tensorflow.keras.layers import Dense\n",
    "import random"
   ]
  },
  {
   "cell_type": "code",
   "execution_count": 2,
   "metadata": {},
   "outputs": [],
   "source": [
    "# 1. 데이터셋 생성하기\n",
    "x_train = np.random.random((1000, 1))\n",
    "y_train = x_train * 2 + np.random.random((1000, 1)) / 3.0\n",
    "x_test = np.random.random((100, 1))\n",
    "y_test = x_test * 2 + np.random.random((100, 1)) / 3.0"
   ]
  },
  {
   "cell_type": "code",
   "execution_count": 3,
   "metadata": {},
   "outputs": [
    {
     "name": "stdout",
     "output_type": "stream",
     "text": [
      "Model: \"sequential\"\n",
      "_________________________________________________________________\n",
      "Layer (type)                 Output Shape              Param #   \n",
      "=================================================================\n",
      "dense (Dense)                (None, 1)                 2         \n",
      "=================================================================\n",
      "Total params: 2\n",
      "Trainable params: 2\n",
      "Non-trainable params: 0\n",
      "_________________________________________________________________\n"
     ]
    }
   ],
   "source": [
    "# 2. 모델 구성하기\n",
    "model = Sequential()\n",
    "model.add(Dense(1, input_dim=1))\n",
    "model.summary()"
   ]
  },
  {
   "cell_type": "code",
   "execution_count": 4,
   "metadata": {},
   "outputs": [],
   "source": [
    "# 3. 모델 학습과정 설정하기\n",
    "model.compile(optimizer='rmsprop', loss='mse')"
   ]
  },
  {
   "cell_type": "code",
   "execution_count": 5,
   "metadata": {},
   "outputs": [
    {
     "name": "stdout",
     "output_type": "stream",
     "text": [
      "Epoch 1/50\n",
      "16/16 [==============================] - 0s 497us/step - loss: 0.5197\n",
      "Epoch 2/50\n",
      "16/16 [==============================] - 0s 563us/step - loss: 0.4806\n",
      "Epoch 3/50\n",
      "16/16 [==============================] - 0s 497us/step - loss: 0.4482\n",
      "Epoch 4/50\n",
      "16/16 [==============================] - 0s 561us/step - loss: 0.4175\n",
      "Epoch 5/50\n",
      "16/16 [==============================] - 0s 623us/step - loss: 0.3884\n",
      "Epoch 6/50\n",
      "16/16 [==============================] - 0s 499us/step - loss: 0.3603\n",
      "Epoch 7/50\n",
      "16/16 [==============================] - 0s 559us/step - loss: 0.3334\n",
      "Epoch 8/50\n",
      "16/16 [==============================] - 0s 500us/step - loss: 0.3077\n",
      "Epoch 9/50\n",
      "16/16 [==============================] - 0s 623us/step - loss: 0.2832\n",
      "Epoch 10/50\n",
      "16/16 [==============================] - 0s 561us/step - loss: 0.2599\n",
      "Epoch 11/50\n",
      "16/16 [==============================] - 0s 498us/step - loss: 0.2377\n",
      "Epoch 12/50\n",
      "16/16 [==============================] - 0s 561us/step - loss: 0.2169\n",
      "Epoch 13/50\n",
      "16/16 [==============================] - 0s 561us/step - loss: 0.1969\n",
      "Epoch 14/50\n",
      "16/16 [==============================] - 0s 499us/step - loss: 0.1782\n",
      "Epoch 15/50\n",
      "16/16 [==============================] - 0s 622us/step - loss: 0.1608\n",
      "Epoch 16/50\n",
      "16/16 [==============================] - 0s 624us/step - loss: 0.1444\n",
      "Epoch 17/50\n",
      "16/16 [==============================] - 0s 561us/step - loss: 0.1293\n",
      "Epoch 18/50\n",
      "16/16 [==============================] - 0s 559us/step - loss: 0.1152\n",
      "Epoch 19/50\n",
      "16/16 [==============================] - 0s 561us/step - loss: 0.1023\n",
      "Epoch 20/50\n",
      "16/16 [==============================] - 0s 561us/step - loss: 0.0905\n",
      "Epoch 21/50\n",
      "16/16 [==============================] - 0s 622us/step - loss: 0.0799\n",
      "Epoch 22/50\n",
      "16/16 [==============================] - 0s 497us/step - loss: 0.0704\n",
      "Epoch 23/50\n",
      "16/16 [==============================] - 0s 561us/step - loss: 0.0619\n",
      "Epoch 24/50\n",
      "16/16 [==============================] - 0s 561us/step - loss: 0.0546\n",
      "Epoch 25/50\n",
      "16/16 [==============================] - 0s 500us/step - loss: 0.0485\n",
      "Epoch 26/50\n",
      "16/16 [==============================] - 0s 622us/step - loss: 0.0434\n",
      "Epoch 27/50\n",
      "16/16 [==============================] - 0s 497us/step - loss: 0.0392\n",
      "Epoch 28/50\n",
      "16/16 [==============================] - 0s 499us/step - loss: 0.0360\n",
      "Epoch 29/50\n",
      "16/16 [==============================] - 0s 499us/step - loss: 0.0337\n",
      "Epoch 30/50\n",
      "16/16 [==============================] - 0s 499us/step - loss: 0.0321\n",
      "Epoch 31/50\n",
      "16/16 [==============================] - 0s 499us/step - loss: 0.0309\n",
      "Epoch 32/50\n",
      "16/16 [==============================] - 0s 499us/step - loss: 0.0297\n",
      "Epoch 33/50\n",
      "16/16 [==============================] - 0s 436us/step - loss: 0.0286\n",
      "Epoch 34/50\n",
      "16/16 [==============================] - 0s 563us/step - loss: 0.0274\n",
      "Epoch 35/50\n",
      "16/16 [==============================] - 0s 497us/step - loss: 0.0264\n",
      "Epoch 36/50\n",
      "16/16 [==============================] - 0s 561us/step - loss: 0.0253\n",
      "Epoch 37/50\n",
      "16/16 [==============================] - 0s 561us/step - loss: 0.0243\n",
      "Epoch 38/50\n",
      "16/16 [==============================] - 0s 559us/step - loss: 0.0233\n",
      "Epoch 39/50\n",
      "16/16 [==============================] - 0s 563us/step - loss: 0.0223\n",
      "Epoch 40/50\n",
      "16/16 [==============================] - 0s 559us/step - loss: 0.0214\n",
      "Epoch 41/50\n",
      "16/16 [==============================] - 0s 559us/step - loss: 0.0205\n",
      "Epoch 42/50\n",
      "16/16 [==============================] - 0s 561us/step - loss: 0.0197\n",
      "Epoch 43/50\n",
      "16/16 [==============================] - 0s 499us/step - loss: 0.0189\n",
      "Epoch 44/50\n",
      "16/16 [==============================] - 0s 562us/step - loss: 0.0181\n",
      "Epoch 45/50\n",
      "16/16 [==============================] - 0s 561us/step - loss: 0.0173\n",
      "Epoch 46/50\n",
      "16/16 [==============================] - 0s 499us/step - loss: 0.0166\n",
      "Epoch 47/50\n",
      "16/16 [==============================] - 0s 499us/step - loss: 0.0159\n",
      "Epoch 48/50\n",
      "16/16 [==============================] - 0s 499us/step - loss: 0.0153\n",
      "Epoch 49/50\n",
      "16/16 [==============================] - 0s 559us/step - loss: 0.0147\n",
      "Epoch 50/50\n",
      "16/16 [==============================] - 0s 559us/step - loss: 0.0141\n",
      "w = [[1.7539701]]\n",
      "b = [0.30096996]\n"
     ]
    }
   ],
   "source": [
    "# 4. 모델 학습시키기\n",
    "hist = model.fit(x_train, y_train, epochs=50, batch_size=64)\n",
    "w, b = model.get_weights()\n",
    "print ('w =', w)\n",
    "print ('b =', b)"
   ]
  },
  {
   "cell_type": "code",
   "execution_count": 6,
   "metadata": {},
   "outputs": [
    {
     "data": {
      "image/png": "[encoded data removed]",
      "text/plain": [
       "<Figure size 432x288 with 1 Axes>"
      ]
     },
     "metadata": {
      "needs_background": "light"
     },
     "output_type": "display_data"
    }
   ],
   "source": [
    "# 5. 학습과정 살펴보기\n",
    "%matplotlib inline\n",
    "import matplotlib.pyplot as plt\n",
    "\n",
    "plt.plot(hist.history['loss'])\n",
    "plt.ylim(0.0, 1.5)\n",
    "plt.ylabel('loss')\n",
    "plt.xlabel('epoch')\n",
    "plt.legend(['train'], loc='upper left')\n",
    "plt.show()"
   ]
  },
  {
   "cell_type": "code",
   "execution_count": 7,
   "metadata": {},
   "outputs": [
    {
     "name": "stdout",
     "output_type": "stream",
     "text": [
      "4/4 [==============================] - 0s 748us/step - loss: 0.0175\n",
      "loss : 0.017522376030683517\n"
     ]
    }
   ],
   "source": [
    "# 6. 모델 평가하기\n",
    "loss = model.evaluate(x_test, y_test, batch_size=32)\n",
    "print('loss : ' + str(loss))"
   ]
  },
  {
   "cell_type": "code",
   "execution_count": null,
   "metadata": {},
   "outputs": [],
   "source": []
  }
 ],
 "metadata": {
  "kernelspec": {
   "display_name": "Python 3",
   "language": "python",
   "name": "python3"
  },
  "language_info": {
   "codemirror_mode": {
    "name": "ipython",
    "version": 3
   },
   "file_extension": ".py",
   "mimetype": "text/x-python",
   "name": "python",
   "nbconvert_exporter": "python",
   "pygments_lexer": "ipython3",
   "version": "3.7.6"
  }
 },
 "nbformat": 4,
 "nbformat_minor": 4
}
