{
 "cells": [
  {
   "cell_type": "markdown",
   "metadata": {},
   "source": [
    "# 다층 퍼셉트론 신경망 모델"
   ]
  },
  {
   "cell_type": "code",
   "execution_count": 1,
   "metadata": {},
   "outputs": [],
   "source": [
    "import numpy as np\n",
    "from tensorflow.keras.models import Sequential\n",
    "from tensorflow.keras.layers import Dense\n",
    "import random"
   ]
  },
  {
   "cell_type": "markdown",
   "metadata": {},
   "source": [
    "## 1. 데이터셋 생성하기"
   ]
  },
  {
   "cell_type": "code",
   "execution_count": 2,
   "metadata": {},
   "outputs": [],
   "source": [
    "x_train = np.random.random((1000, 1))\n",
    "y_train = x_train * 2 + np.random.random((1000, 1)) / 3.0\n",
    "x_test = np.random.random((100, 1))\n",
    "y_test = x_test * 2 + np.random.random((100, 1)) / 3.0"
   ]
  },
  {
   "cell_type": "markdown",
   "metadata": {},
   "source": [
    "## 2. 모델 구성하기"
   ]
  },
  {
   "cell_type": "code",
   "execution_count": 3,
   "metadata": {},
   "outputs": [
    {
     "name": "stdout",
     "output_type": "stream",
     "text": [
      "Model: \"sequential\"\n",
      "_________________________________________________________________\n",
      "Layer (type)                 Output Shape              Param #   \n",
      "=================================================================\n",
      "dense (Dense)                (None, 64)                128       \n",
      "_________________________________________________________________\n",
      "dense_1 (Dense)              (None, 1)                 65        \n",
      "=================================================================\n",
      "Total params: 193\n",
      "Trainable params: 193\n",
      "Non-trainable params: 0\n",
      "_________________________________________________________________\n"
     ]
    }
   ],
   "source": [
    "model = Sequential()\n",
    "model.add(Dense(64, input_dim=1, activation='relu'))\n",
    "model.add(Dense(1))\n",
    "model.summary()"
   ]
  },
  {
   "cell_type": "markdown",
   "metadata": {},
   "source": [
    "## 3. 모델 학습과정 설정하기"
   ]
  },
  {
   "cell_type": "code",
   "execution_count": 4,
   "metadata": {},
   "outputs": [],
   "source": [
    "model.compile(optimizer='rmsprop', loss='mse')"
   ]
  },
  {
   "cell_type": "markdown",
   "metadata": {},
   "source": [
    "## 4. 모델 학습시키기"
   ]
  },
  {
   "cell_type": "code",
   "execution_count": 5,
   "metadata": {},
   "outputs": [
    {
     "name": "stdout",
     "output_type": "stream",
     "text": [
      "Epoch 1/50\n",
      "16/16 [==============================] - 0s 561us/step - loss: 1.4323\n",
      "Epoch 2/50\n",
      "16/16 [==============================] - 0s 561us/step - loss: 0.9804\n",
      "Epoch 3/50\n",
      "16/16 [==============================] - 0s 624us/step - loss: 0.6766\n",
      "Epoch 4/50\n",
      "16/16 [==============================] - 0s 623us/step - loss: 0.4436\n",
      "Epoch 5/50\n",
      "16/16 [==============================] - 0s 623us/step - loss: 0.2685\n",
      "Epoch 6/50\n",
      "16/16 [==============================] - 0s 626us/step - loss: 0.1522\n",
      "Epoch 7/50\n",
      "16/16 [==============================] - 0s 559us/step - loss: 0.0873\n",
      "Epoch 8/50\n",
      "16/16 [==============================] - 0s 623us/step - loss: 0.0612\n",
      "Epoch 9/50\n",
      "16/16 [==============================] - 0s 623us/step - loss: 0.0497\n",
      "Epoch 10/50\n",
      "16/16 [==============================] - 0s 561us/step - loss: 0.0387\n",
      "Epoch 11/50\n",
      "16/16 [==============================] - 0s 625us/step - loss: 0.0286\n",
      "Epoch 12/50\n",
      "16/16 [==============================] - 0s 623us/step - loss: 0.0205\n",
      "Epoch 13/50\n",
      "16/16 [==============================] - 0s 561us/step - loss: 0.0146\n",
      "Epoch 14/50\n",
      "16/16 [==============================] - 0s 623us/step - loss: 0.0112\n",
      "Epoch 15/50\n",
      "16/16 [==============================] - 0s 623us/step - loss: 0.0098\n",
      "Epoch 16/50\n",
      "16/16 [==============================] - 0s 559us/step - loss: 0.0094\n",
      "Epoch 17/50\n",
      "16/16 [==============================] - 0s 561us/step - loss: 0.0093\n",
      "Epoch 18/50\n",
      "16/16 [==============================] - 0s 623us/step - loss: 0.0093\n",
      "Epoch 19/50\n",
      "16/16 [==============================] - 0s 561us/step - loss: 0.0092\n",
      "Epoch 20/50\n",
      "16/16 [==============================] - 0s 561us/step - loss: 0.0093\n",
      "Epoch 21/50\n",
      "16/16 [==============================] - 0s 561us/step - loss: 0.0093\n",
      "Epoch 22/50\n",
      "16/16 [==============================] - 0s 561us/step - loss: 0.0093\n",
      "Epoch 23/50\n",
      "16/16 [==============================] - 0s 625us/step - loss: 0.0093\n",
      "Epoch 24/50\n",
      "16/16 [==============================] - 0s 623us/step - loss: 0.0093\n",
      "Epoch 25/50\n",
      "16/16 [==============================] - 0s 625us/step - loss: 0.0092\n",
      "Epoch 26/50\n",
      "16/16 [==============================] - 0s 623us/step - loss: 0.0093\n",
      "Epoch 27/50\n",
      "16/16 [==============================] - 0s 625us/step - loss: 0.0092\n",
      "Epoch 28/50\n",
      "16/16 [==============================] - 0s 563us/step - loss: 0.0092\n",
      "Epoch 29/50\n",
      "16/16 [==============================] - 0s 563us/step - loss: 0.0092\n",
      "Epoch 30/50\n",
      "16/16 [==============================] - 0s 561us/step - loss: 0.0094\n",
      "Epoch 31/50\n",
      "16/16 [==============================] - 0s 684us/step - loss: 0.0092\n",
      "Epoch 32/50\n",
      "16/16 [==============================] - 0s 559us/step - loss: 0.0093\n",
      "Epoch 33/50\n",
      "16/16 [==============================] - 0s 563us/step - loss: 0.0094\n",
      "Epoch 34/50\n",
      "16/16 [==============================] - 0s 625us/step - loss: 0.0093\n",
      "Epoch 35/50\n",
      "16/16 [==============================] - 0s 561us/step - loss: 0.0093\n",
      "Epoch 36/50\n",
      "16/16 [==============================] - 0s 499us/step - loss: 0.0092\n",
      "Epoch 37/50\n",
      "16/16 [==============================] - 0s 623us/step - loss: 0.0092\n",
      "Epoch 38/50\n",
      "16/16 [==============================] - 0s 622us/step - loss: 0.0093\n",
      "Epoch 39/50\n",
      "16/16 [==============================] - 0s 561us/step - loss: 0.0093\n",
      "Epoch 40/50\n",
      "16/16 [==============================] - 0s 686us/step - loss: 0.0092\n",
      "Epoch 41/50\n",
      "16/16 [==============================] - 0s 622us/step - loss: 0.0093\n",
      "Epoch 42/50\n",
      "16/16 [==============================] - 0s 563us/step - loss: 0.0092\n",
      "Epoch 43/50\n",
      "16/16 [==============================] - 0s 623us/step - loss: 0.0094\n",
      "Epoch 44/50\n",
      "16/16 [==============================] - 0s 623us/step - loss: 0.0093\n",
      "Epoch 45/50\n",
      "16/16 [==============================] - 0s 561us/step - loss: 0.0092\n",
      "Epoch 46/50\n",
      "16/16 [==============================] - 0s 623us/step - loss: 0.0092\n",
      "Epoch 47/50\n",
      "16/16 [==============================] - 0s 623us/step - loss: 0.0093\n",
      "Epoch 48/50\n",
      "16/16 [==============================] - 0s 560us/step - loss: 0.0093\n",
      "Epoch 49/50\n",
      "16/16 [==============================] - 0s 561us/step - loss: 0.0093\n",
      "Epoch 50/50\n",
      "16/16 [==============================] - 0s 561us/step - loss: 0.0092\n"
     ]
    }
   ],
   "source": [
    "hist = model.fit(x_train, y_train, epochs=50, batch_size=64)"
   ]
  },
  {
   "cell_type": "markdown",
   "metadata": {},
   "source": [
    "## 5. 학습과정 살펴보기"
   ]
  },
  {
   "cell_type": "code",
   "execution_count": 6,
   "metadata": {},
   "outputs": [
    {
     "data": {
      "image/png": "[encoded data removed]",
      "text/plain": [
       "<Figure size 432x288 with 1 Axes>"
      ]
     },
     "metadata": {
      "needs_background": "light"
     },
     "output_type": "display_data"
    }
   ],
   "source": [
    "%matplotlib inline\n",
    "import matplotlib.pyplot as plt\n",
    "\n",
    "plt.plot(hist.history['loss'])\n",
    "plt.ylim(0.0, 1.5)\n",
    "plt.ylabel('loss')\n",
    "plt.xlabel('epoch')\n",
    "plt.legend(['train'], loc='upper left')\n",
    "plt.show()"
   ]
  },
  {
   "cell_type": "markdown",
   "metadata": {},
   "source": [
    "## 6. 모델 평가하기"
   ]
  },
  {
   "cell_type": "code",
   "execution_count": 7,
   "metadata": {},
   "outputs": [
    {
     "name": "stdout",
     "output_type": "stream",
     "text": [
      "4/4 [==============================] - 0s 498us/step - loss: 0.0094\n",
      "loss : 0.009359931573271751\n"
     ]
    }
   ],
   "source": [
    "loss = model.evaluate(x_test, y_test, batch_size=32)\n",
    "print('loss : ' + str(loss))"
   ]
  },
  {
   "cell_type": "code",
   "execution_count": null,
   "metadata": {},
   "outputs": [],
   "source": []
  }
 ],
 "metadata": {
  "kernelspec": {
   "display_name": "Python 3",
   "language": "python",
   "name": "python3"
  },
  "language_info": {
   "codemirror_mode": {
    "name": "ipython",
    "version": 3
   },
   "file_extension": ".py",
   "mimetype": "text/x-python",
   "name": "python",
   "nbconvert_exporter": "python",
   "pygments_lexer": "ipython3",
   "version": "3.7.6"
  }
 },
 "nbformat": 4,
 "nbformat_minor": 4
}
