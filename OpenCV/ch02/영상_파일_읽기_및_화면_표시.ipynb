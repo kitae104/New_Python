{
 "cells": [
  {
   "cell_type": "markdown",
   "metadata": {},
   "source": [
    "# 영상 파일 읽기 및 화면 표시\n",
    "* imread 사용 "
   ]
  },
  {
   "cell_type": "code",
   "execution_count": 1,
   "metadata": {},
   "outputs": [],
   "source": [
    "import cv2"
   ]
  },
  {
   "cell_type": "markdown",
   "metadata": {},
   "source": [
    "* cv2.IMREAD_COLOR : 컬러 \n",
    "* cv2.IMREAD_GRAYSCALE : 그래이 스케일"
   ]
  },
  {
   "cell_type": "code",
   "execution_count": 2,
   "metadata": {},
   "outputs": [],
   "source": [
    "imageFile = \"../data/lena.jpg\"\n",
    "img = cv2.imread(imageFile, cv2.IMREAD_COLOR)   \n",
    "img2 = cv2.imread(imageFile, 0)                 "
   ]
  },
  {
   "cell_type": "code",
   "execution_count": 3,
   "metadata": {},
   "outputs": [],
   "source": [
    "cv2.imshow('Lena Color', img)\n",
    "cv2.imshow('Lena Grayscale', img2)"
   ]
  },
  {
   "cell_type": "code",
   "execution_count": 4,
   "metadata": {},
   "outputs": [],
   "source": [
    "cv2.waitKey()                       # 키보드 입력 대기\n",
    "cv2.destroyAllWindows()             # 모든 윈도우 파괴"
   ]
  },
  {
   "cell_type": "markdown",
   "metadata": {},
   "source": [
    "# 영상 파일 저장\n",
    "* imwrite 사용"
   ]
  },
  {
   "cell_type": "code",
   "execution_count": 5,
   "metadata": {},
   "outputs": [
    {
     "data": {
      "text/plain": [
       "True"
      ]
     },
     "execution_count": 5,
     "metadata": {},
     "output_type": "execute_result"
    }
   ],
   "source": [
    "cv2.imwrite('../result/Lena.bmp', img)\n",
    "cv2.imwrite('../result/Lena.png', img)\n",
    "# 압축률 9의 png 파일로 생성, 디폴트는 3\n",
    "cv2.imwrite('../result/Lena2.png', img, [cv2.IMWRITE_PNG_COMPRESSION, 9])\n",
    "\n",
    "# 90%의 품질을 갖는 jpg 파일 생성, 품질범위 [0, 100] 높을 수록 좋다.\n",
    "cv2.imwrite('../result/Lena2.jpg', img, [cv2.IMWRITE_JPEG_QUALITY, 90])"
   ]
  },
  {
   "cell_type": "code",
   "execution_count": null,
   "metadata": {},
   "outputs": [],
   "source": []
  }
 ],
 "metadata": {
  "kernelspec": {
   "display_name": "Python 3",
   "language": "python",
   "name": "python3"
  },
  "language_info": {
   "codemirror_mode": {
    "name": "ipython",
    "version": 3
   },
   "file_extension": ".py",
   "mimetype": "text/x-python",
   "name": "python",
   "nbconvert_exporter": "python",
   "pygments_lexer": "ipython3",
   "version": "3.7.6"
  }
 },
 "nbformat": 4,
 "nbformat_minor": 4
}
