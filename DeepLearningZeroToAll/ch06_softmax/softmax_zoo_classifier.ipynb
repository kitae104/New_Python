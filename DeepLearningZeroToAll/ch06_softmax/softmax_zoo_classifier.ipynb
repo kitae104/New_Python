{
 "cells": [
  {
   "cell_type": "markdown",
   "metadata": {},
   "source": [
    "# Softmax_Zoo_Classifier\n",
    "* softmax를 사용하여 zoo 데이터를 분류 \n",
    "* 동물 데이터는 7개의 클래스로 구분한다. "
   ]
  },
  {
   "cell_type": "code",
   "execution_count": 3,
   "metadata": {},
   "outputs": [],
   "source": [
    "import tensorflow as tf\n",
    "import numpy as np\n",
    "\n",
    "tf.random.set_seed(555)"
   ]
  },
  {
   "cell_type": "markdown",
   "metadata": {},
   "source": [
    "#### 동물 종류를 분류할 모델 작성 "
   ]
  },
  {
   "cell_type": "code",
   "execution_count": 20,
   "metadata": {},
   "outputs": [],
   "source": [
    "class Softmax_Zoo_Classifer(tf.keras.Model):\n",
    "    \n",
    "    # 생성자에서 W와 b에 대한 초기화 수행 \n",
    "    def __init__(self, input_num, nb_classes):\n",
    "        super(Softmax_Zoo_Classifer, self).__init__()\n",
    "        self.W = tf.Variable(tf.random.normal((input_num, nb_classes)), name='weight')\n",
    "        self.b = tf.Variable(tf.random.normal((nb_classes,)), name='bias')\n",
    "        self.vars = [self.W, self.b]\n",
    "        print(self.W.shape)\n",
    "    \n",
    "    #  로지스틱 함수\n",
    "    def logit_fn(self, X):\n",
    "        return tf.matmul(X, self.W) + self.b\n",
    "    \n",
    "    # 가설 함수 \n",
    "    def hypothesis(self, X):\n",
    "        return tf.nn.softmax(self.logit_fn(X))\n",
    "    \n",
    "    # 비용 함수 \n",
    "    # - categorical_crossentropy 을 이용하여 비용 계산 \n",
    "    def cost_fn(self, X, Y):\n",
    "        logits = self.logit_fn(X)  # x에 대한 가설값 \n",
    "        cost_i = tf.keras.losses.categorical_crossentropy(y_true=Y, y_pred=logits, from_logits=True)\n",
    "        cost = tf.reduce_mean(cost_i)\n",
    "        return cost\n",
    "    \n",
    "    # 기울기 함수 \n",
    "    def grad_fn(self, X, Y):\n",
    "        with tf.GradientTape() as tape:\n",
    "            cost = self.cost_fn(X, Y)\n",
    "            grads = tape.gradient(cost, self.vars)            # [W, b]\n",
    "            return grads\n",
    "        \n",
    "    # 예측 함수 \n",
    "    def prediction(self, X, Y):\n",
    "        pred = tf.argmax(self.hypothesis(X), 1)                   # 행에서 가장 큰 숫자의 위치 반환 \n",
    "        accuracy = tf.reduce_mean(tf.cast(tf.equal(pred, tf.argmax(Y, 1)), dtype=tf.float32))\n",
    "        return accuracy\n",
    "    \n",
    "    # 학습 함수 \n",
    "    def fit(self, X, Y, epochs=1000, verbose=100):\n",
    "        optimizer =  tf.keras.optimizers.SGD(learning_rate=0.1)\n",
    "\n",
    "        for i in range(epochs):\n",
    "            grads = self.grad_fn(X, Y)\n",
    "            optimizer.apply_gradients(zip(grads, self.vars))  # [W, b]\n",
    "            if (i==0) | ((i+1)%verbose==0):\n",
    "                acc = self.prediction(X, Y).numpy()\n",
    "                loss = self.cost_fn(X, Y).numpy()\n",
    "                print('Steps: {} Loss: {}, Acc: {}'.format(i+1, loss, acc))"
   ]
  },
  {
   "cell_type": "markdown",
   "metadata": {},
   "source": [
    "#### 사용할 데이터 입력 "
   ]
  },
  {
   "cell_type": "code",
   "execution_count": 21,
   "metadata": {},
   "outputs": [
    {
     "name": "stdout",
     "output_type": "stream",
     "text": [
      "(101, 16) (101, 1)\n"
     ]
    }
   ],
   "source": [
    "xy = np.loadtxt('../datas/data-04-zoo.csv', delimiter=',', dtype=np.float32)\n",
    "x_data = xy[:, :-1]      # 16종류의 데이터 읽어 오기 \n",
    "y_data = xy[:, [-1]]     # 마지막 데이터 읽어오기(정답)\n",
    "print(x_data.shape, y_data.shape)"
   ]
  },
  {
   "cell_type": "markdown",
   "metadata": {},
   "source": [
    "#### softmax 처리를 하기위해 y_data를 one_hot으로 변경 "
   ]
  },
  {
   "cell_type": "code",
   "execution_count": 26,
   "metadata": {},
   "outputs": [
    {
     "name": "stdout",
     "output_type": "stream",
     "text": [
      "(101, 1, 7)\n",
      "(101, 7)\n"
     ]
    }
   ],
   "source": [
    "nb_classes = 7  # 동물에 대한 클래스 분류 0 ~ 6\n",
    "Y_one_hot = tf.one_hot(y_data.astype(np.int32), nb_classes)\n",
    "print(Y_one_hot.shape)\n",
    "Y_one_hot = tf.reshape(Y_one_hot, [-1, nb_classes])\n",
    "print(Y_one_hot.shape)"
   ]
  },
  {
   "cell_type": "code",
   "execution_count": 27,
   "metadata": {},
   "outputs": [
    {
     "name": "stdout",
     "output_type": "stream",
     "text": [
      "(16, 7)\n"
     ]
    }
   ],
   "source": [
    "model = Softmax_Zoo_Classifer(16, nb_classes)"
   ]
  },
  {
   "cell_type": "code",
   "execution_count": 29,
   "metadata": {},
   "outputs": [
    {
     "name": "stdout",
     "output_type": "stream",
     "text": [
      "Steps: 1 Loss: 0.11865100264549255, Acc: 0.9900990128517151\n",
      "Steps: 100 Loss: 0.10821477323770523, Acc: 0.9900990128517151\n",
      "Steps: 200 Loss: 0.09925895184278488, Acc: 0.9900990128517151\n",
      "Steps: 300 Loss: 0.09156828373670578, Acc: 0.9900990128517151\n",
      "Steps: 400 Loss: 0.08490054309368134, Acc: 0.9900990128517151\n",
      "Steps: 500 Loss: 0.07907363027334213, Acc: 1.0\n",
      "Steps: 600 Loss: 0.07394677400588989, Acc: 1.0\n",
      "Steps: 700 Loss: 0.06940881907939911, Acc: 1.0\n",
      "Steps: 800 Loss: 0.06537053734064102, Acc: 1.0\n",
      "Steps: 900 Loss: 0.06175912171602249, Acc: 1.0\n",
      "Steps: 1000 Loss: 0.058514486998319626, Acc: 1.0\n"
     ]
    }
   ],
   "source": [
    "model.fit(x_data, Y_one_hot)"
   ]
  }
 ],
 "metadata": {
  "kernelspec": {
   "display_name": "Python 3",
   "language": "python",
   "name": "python3"
  },
  "language_info": {
   "codemirror_mode": {
    "name": "ipython",
    "version": 3
   },
   "file_extension": ".py",
   "mimetype": "text/x-python",
   "name": "python",
   "nbconvert_exporter": "python",
   "pygments_lexer": "ipython3",
   "version": "3.7.6"
  }
 },
 "nbformat": 4,
 "nbformat_minor": 4
}
