{
 "cells": [
  {
   "cell_type": "markdown",
   "metadata": {},
   "source": [
    "# softmax_classifer 클래스를 이용하여 학습하기 \n",
    "* 기존에 사용하던 내용을 클래스로 모아서 처리한다. "
   ]
  },
  {
   "cell_type": "code",
   "execution_count": 1,
   "metadata": {},
   "outputs": [],
   "source": [
    "import tensorflow as tf\n",
    "import numpy as np"
   ]
  },
  {
   "cell_type": "code",
   "execution_count": 2,
   "metadata": {},
   "outputs": [],
   "source": [
    "class softmax_classifer(tf.keras.Model):\n",
    "    \n",
    "    def __init__(self, nb_classes):\n",
    "        super(softmax_classifer, self).__init__()\n",
    "        self.W = tf.Variable(tf.random.normal((4, nb_classes)), name='weight')\n",
    "        self.b = tf.Variable(tf.random.normal((nb_classes,)), name='bias')\n",
    "        self.vars = [self.W, self.b]\n",
    "        print(self.W.shape)\n",
    "        \n",
    "    def softmax_regression(self, X):\n",
    "        return tf.nn.softmax(tf.matmul(X, self.W) + self.b)\n",
    "    \n",
    "    def cost_fn(self, X, Y):\n",
    "        logits = self.softmax_regression(X)  # x에 대한 가설값 \n",
    "        cost = tf.reduce_mean(-tf.reduce_sum(Y * tf.math.log(logits), axis=1))  # 각 행에 대해 비용을 구한 후 함계 반환 -> 평균 \n",
    "        return cost\n",
    "    \n",
    "    def grad_fn(self, X, Y):\n",
    "        with tf.GradientTape() as tape:\n",
    "            cost = self.cost_fn(X, Y)\n",
    "            grads = tape.gradient(cost, self.vars)            # [W, b]\n",
    "            return grads\n",
    "        \n",
    "    def fit(self, X, Y, epochs=2000, verbose=100):\n",
    "        optimizer =  tf.keras.optimizers.SGD(learning_rate=0.1)\n",
    "\n",
    "        for i in range(epochs):\n",
    "            grads = self.grad_fn(X, Y)\n",
    "            optimizer.apply_gradients(zip(grads, self.vars))  # [W, b]\n",
    "            if (i==0) | ((i+1)%verbose==0):\n",
    "                print('Loss at epoch %d: %f' %(i+1, self.cost_fn(X, Y).numpy()))"
   ]
  },
  {
   "cell_type": "code",
   "execution_count": 3,
   "metadata": {},
   "outputs": [],
   "source": [
    "# 1 데이터 \n",
    "x_data = [[1, 2, 1, 1],\n",
    "          [2, 1, 3, 2],\n",
    "          [3, 1, 3, 4],\n",
    "          [4, 1, 5, 5],\n",
    "          [1, 7, 5, 5],\n",
    "          [1, 2, 5, 6],\n",
    "          [1, 6, 6, 6],\n",
    "          [1, 7, 7, 7]]\n",
    "\n",
    "# one-hot encoding\n",
    "y_data = [[0, 0, 1],\n",
    "          [0, 0, 1],\n",
    "          [0, 0, 1],\n",
    "          [0, 1, 0],\n",
    "          [0, 1, 0],\n",
    "          [0, 1, 0],\n",
    "          [1, 0, 0],\n",
    "          [1, 0, 0]]\n",
    "\n",
    "x_data = np.asarray(x_data, dtype=np.float32)\n",
    "y_data = np.asarray(y_data, dtype=np.float32)\n",
    "\n",
    "nb_classes = 3"
   ]
  },
  {
   "cell_type": "code",
   "execution_count": 4,
   "metadata": {},
   "outputs": [
    {
     "name": "stdout",
     "output_type": "stream",
     "text": [
      "(4, 3)\n"
     ]
    }
   ],
   "source": [
    "model = softmax_classifer(nb_classes)"
   ]
  },
  {
   "cell_type": "code",
   "execution_count": 5,
   "metadata": {},
   "outputs": [
    {
     "data": {
      "text/plain": [
       "<tf.Tensor: shape=(8, 3), dtype=float32, numpy=\n",
       "array([[6.1106874e-04, 5.0358929e-02, 9.4902998e-01],\n",
       "       [4.1489478e-05, 2.9441500e-02, 9.7051710e-01],\n",
       "       [3.1519960e-06, 2.7947465e-03, 9.9720216e-01],\n",
       "       [1.9422943e-08, 4.7825437e-04, 9.9952173e-01],\n",
       "       [1.3190551e-13, 5.9269351e-10, 1.0000000e+00],\n",
       "       [7.8297093e-09, 2.6317453e-08, 1.0000000e+00],\n",
       "       [1.0550820e-13, 9.2418455e-11, 1.0000000e+00],\n",
       "       [7.2360251e-16, 1.2852279e-12, 1.0000000e+00]], dtype=float32)>"
      ]
     },
     "execution_count": 5,
     "metadata": {},
     "output_type": "execute_result"
    }
   ],
   "source": [
    "model.softmax_regression(x_data)"
   ]
  },
  {
   "cell_type": "code",
   "execution_count": 6,
   "metadata": {},
   "outputs": [
    {
     "data": {
      "text/plain": [
       "<tf.Tensor: shape=(), dtype=float32, numpy=13.896508>"
      ]
     },
     "execution_count": 6,
     "metadata": {},
     "output_type": "execute_result"
    }
   ],
   "source": [
    "model.cost_fn(x_data, y_data)"
   ]
  },
  {
   "cell_type": "code",
   "execution_count": 7,
   "metadata": {},
   "outputs": [
    {
     "data": {
      "text/plain": [
       "ListWrapper([<tf.Tensor: shape=(4, 3), dtype=float32, numpy=\n",
       "array([[-0.24991205, -0.7350576 ,  0.9849697 ],\n",
       "       [-1.6248417 , -1.233321  ,  2.8581626 ],\n",
       "       [-1.6249068 , -1.8563176 ,  3.4812245 ],\n",
       "       [-1.6249115 , -1.9846485 ,  3.6095603 ]], dtype=float32)>, <tf.Tensor: shape=(3,), dtype=float32, numpy=array([-0.24991803, -0.36461583,  0.6145339 ], dtype=float32)>])"
      ]
     },
     "execution_count": 7,
     "metadata": {},
     "output_type": "execute_result"
    }
   ],
   "source": [
    "model.grad_fn(x_data, y_data)"
   ]
  },
  {
   "cell_type": "code",
   "execution_count": 8,
   "metadata": {},
   "outputs": [
    {
     "name": "stdout",
     "output_type": "stream",
     "text": [
      "Loss at epoch 1: 8.846265\n",
      "Loss at epoch 100: 0.688531\n",
      "Loss at epoch 200: 0.590216\n",
      "Loss at epoch 300: 0.533905\n",
      "Loss at epoch 400: 0.488768\n",
      "Loss at epoch 500: 0.448979\n",
      "Loss at epoch 600: 0.412208\n",
      "Loss at epoch 700: 0.377038\n",
      "Loss at epoch 800: 0.342338\n",
      "Loss at epoch 900: 0.307141\n",
      "Loss at epoch 1000: 0.271166\n",
      "Loss at epoch 1100: 0.241261\n",
      "Loss at epoch 1200: 0.228160\n",
      "Loss at epoch 1300: 0.217385\n",
      "Loss at epoch 1400: 0.207537\n",
      "Loss at epoch 1500: 0.198504\n",
      "Loss at epoch 1600: 0.190189\n",
      "Loss at epoch 1700: 0.182513\n",
      "Loss at epoch 1800: 0.175406\n",
      "Loss at epoch 1900: 0.168809\n",
      "Loss at epoch 2000: 0.162670\n"
     ]
    }
   ],
   "source": [
    "model.fit(x_data, y_data)"
   ]
  },
  {
   "cell_type": "code",
   "execution_count": null,
   "metadata": {},
   "outputs": [],
   "source": []
  }
 ],
 "metadata": {
  "kernelspec": {
   "display_name": "Python 3",
   "language": "python",
   "name": "python3"
  },
  "language_info": {
   "codemirror_mode": {
    "name": "ipython",
    "version": 3
   },
   "file_extension": ".py",
   "mimetype": "text/x-python",
   "name": "python",
   "nbconvert_exporter": "python",
   "pygments_lexer": "ipython3",
   "version": "3.7.6"
  }
 },
 "nbformat": 4,
 "nbformat_minor": 4
}
