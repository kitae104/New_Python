{
 "cells": [
  {
   "cell_type": "markdown",
   "metadata": {},
   "source": [
    "# softmax_classifer 클래스를 이용하여 학습하기 \n",
    "* 기존에 사용하던 내용을 클래스로 모아서 처리한다. "
   ]
  },
  {
   "cell_type": "code",
   "execution_count": 1,
   "metadata": {},
   "outputs": [],
   "source": [
    "import tensorflow as tf\n",
    "import numpy as np"
   ]
  },
  {
   "cell_type": "code",
   "execution_count": 2,
   "metadata": {},
   "outputs": [],
   "source": [
    "class softmax_classifer(tf.keras.Model):\n",
    "    \n",
    "    def __init__(self, nb_classes):\n",
    "        super(softmax_classifer, self).__init__()\n",
    "        self.W = tf.Variable(tf.random.normal((4, nb_classes)), name='weight')\n",
    "        self.b = tf.Variable(tf.random.normal((nb_classes,)), name='bias')\n",
    "        self.var = [self.W, self.b]\n",
    "        print(self.W.shape)\n",
    "        \n",
    "    def softmax_regression(self, X):\n",
    "        return tf.nn.softmax(tf.matmul(X, self.W) + self.b)\n",
    "    \n",
    "    def cost_fn(self, X, Y):\n",
    "        logits = self.softmax_regression(X)  # x에 대한 가설값 \n",
    "        cost = tf.reduce_mean(-tf.reduce_sum(Y * tf.math.log(logits), axis=1))  # 각 행에 대해 비용을 구한 후 함계 반환 -> 평균 \n",
    "        return cost\n",
    "    \n",
    "    def grad_fn(self, X, Y):\n",
    "        with tf.GradientTape() as tape:\n",
    "            cost = self.cost_fn(X, Y)\n",
    "            grads = tape.gradient(cost, self.var)            \n",
    "            return grads\n",
    "        \n",
    "    def fit(self, X, Y, epochs=2000, verbose=100):\n",
    "        optimizer =  tf.keras.optimizers.SGD(learning_rate=0.1)\n",
    "\n",
    "        for i in range(epochs):\n",
    "            grads = self.grad_fn(X, Y)\n",
    "            optimizer.apply_gradients(zip(grads, self.var))\n",
    "            if (i==0) | ((i+1)%verbose==0):\n",
    "                print('Loss at epoch %d: %f' %(i+1, self.cost_fn(X, Y).numpy()))"
   ]
  },
  {
   "cell_type": "code",
   "execution_count": 3,
   "metadata": {},
   "outputs": [],
   "source": [
    "# 1 데이터 \n",
    "x_data = [[1, 2, 1, 1],\n",
    "          [2, 1, 3, 2],\n",
    "          [3, 1, 3, 4],\n",
    "          [4, 1, 5, 5],\n",
    "          [1, 7, 5, 5],\n",
    "          [1, 2, 5, 6],\n",
    "          [1, 6, 6, 6],\n",
    "          [1, 7, 7, 7]]\n",
    "\n",
    "# one-hot encoding\n",
    "y_data = [[0, 0, 1],\n",
    "          [0, 0, 1],\n",
    "          [0, 0, 1],\n",
    "          [0, 1, 0],\n",
    "          [0, 1, 0],\n",
    "          [0, 1, 0],\n",
    "          [1, 0, 0],\n",
    "          [1, 0, 0]]\n",
    "\n",
    "x_data = np.asarray(x_data, dtype=np.float32)\n",
    "y_data = np.asarray(y_data, dtype=np.float32)\n",
    "\n",
    "nb_classes = 3"
   ]
  },
  {
   "cell_type": "code",
   "execution_count": 4,
   "metadata": {},
   "outputs": [
    {
     "name": "stdout",
     "output_type": "stream",
     "text": [
      "(4, 3)\n"
     ]
    }
   ],
   "source": [
    "model = softmax_classifer(nb_classes)"
   ]
  },
  {
   "cell_type": "code",
   "execution_count": 5,
   "metadata": {},
   "outputs": [
    {
     "data": {
      "text/plain": [
       "<tf.Tensor: shape=(8, 3), dtype=float32, numpy=\n",
       "array([[4.6104848e-01, 2.8236478e-03, 5.3612787e-01],\n",
       "       [9.8282880e-01, 1.7377192e-03, 1.5433442e-02],\n",
       "       [9.9955648e-01, 2.6865685e-04, 1.7482902e-04],\n",
       "       [9.9995792e-01, 2.9699895e-05, 1.2454701e-05],\n",
       "       [5.8755869e-01, 5.8864766e-09, 4.1244128e-01],\n",
       "       [9.9997830e-01, 3.2764964e-07, 2.1332591e-05],\n",
       "       [9.8552924e-01, 3.0639584e-09, 1.4470778e-02],\n",
       "       [9.9153143e-01, 1.4015847e-10, 8.4684817e-03]], dtype=float32)>"
      ]
     },
     "execution_count": 5,
     "metadata": {},
     "output_type": "execute_result"
    }
   ],
   "source": [
    "model.softmax_regression(x_data)"
   ]
  },
  {
   "cell_type": "code",
   "execution_count": 6,
   "metadata": {},
   "outputs": [
    {
     "data": {
      "text/plain": [
       "<tf.Tensor: shape=(), dtype=float32, numpy=7.2219605>"
      ]
     },
     "execution_count": 6,
     "metadata": {},
     "output_type": "execute_result"
    }
   ],
   "source": [
    "model.cost_fn(x_data, y_data)"
   ]
  },
  {
   "cell_type": "code",
   "execution_count": 7,
   "metadata": {},
   "outputs": [
    {
     "data": {
      "text/plain": [
       "ListWrapper([<tf.Tensor: shape=(4, 3), dtype=float32, numpy=\n",
       "array([[ 1.3737255 , -0.74909693, -0.62462866],\n",
       "       [ 1.2339004 , -1.2490395 ,  0.015139  ],\n",
       "       [ 2.3999467 , -1.8738759 , -0.5260709 ],\n",
       "       [ 2.527035  , -1.9990594 , -0.5279756 ]], dtype=float32)>, <tf.Tensor: shape=(3,), dtype=float32, numpy=array([ 0.6259987 , -0.3743925 , -0.25160623], dtype=float32)>])"
      ]
     },
     "execution_count": 7,
     "metadata": {},
     "output_type": "execute_result"
    }
   ],
   "source": [
    "model.grad_fn(x_data, y_data)"
   ]
  },
  {
   "cell_type": "code",
   "execution_count": 8,
   "metadata": {},
   "outputs": [
    {
     "name": "stdout",
     "output_type": "stream",
     "text": [
      "Loss at epoch 1: 5.001781\n",
      "Loss at epoch 100: 0.726391\n",
      "Loss at epoch 200: 0.652538\n",
      "Loss at epoch 300: 0.598256\n",
      "Loss at epoch 400: 0.549861\n",
      "Loss at epoch 500: 0.503884\n",
      "Loss at epoch 600: 0.458934\n",
      "Loss at epoch 700: 0.414318\n",
      "Loss at epoch 800: 0.369649\n",
      "Loss at epoch 900: 0.324814\n",
      "Loss at epoch 1000: 0.280519\n",
      "Loss at epoch 1100: 0.243080\n",
      "Loss at epoch 1200: 0.227534\n",
      "Loss at epoch 1300: 0.216782\n",
      "Loss at epoch 1400: 0.206956\n",
      "Loss at epoch 1500: 0.197942\n",
      "Loss at epoch 1600: 0.189645\n",
      "Loss at epoch 1700: 0.181987\n",
      "Loss at epoch 1800: 0.174896\n",
      "Loss at epoch 1900: 0.168315\n",
      "Loss at epoch 2000: 0.162191\n"
     ]
    }
   ],
   "source": [
    "model.fit(x_data, y_data)"
   ]
  },
  {
   "cell_type": "code",
   "execution_count": null,
   "metadata": {},
   "outputs": [],
   "source": []
  }
 ],
 "metadata": {
  "kernelspec": {
   "display_name": "Python 3",
   "language": "python",
   "name": "python3"
  },
  "language_info": {
   "codemirror_mode": {
    "name": "ipython",
    "version": 3
   },
   "file_extension": ".py",
   "mimetype": "text/x-python",
   "name": "python",
   "nbconvert_exporter": "python",
   "pygments_lexer": "ipython3",
   "version": "3.7.6"
  }
 },
 "nbformat": 4,
 "nbformat_minor": 4
}
