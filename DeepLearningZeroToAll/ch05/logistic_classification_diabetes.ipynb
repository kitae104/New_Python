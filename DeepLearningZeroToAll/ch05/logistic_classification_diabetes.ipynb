{
 "cells": [
  {
   "cell_type": "markdown",
   "metadata": {},
   "source": [
    "# 당뇨병 판단하기 (logistic_classification)"
   ]
  },
  {
   "cell_type": "code",
   "execution_count": 1,
   "metadata": {},
   "outputs": [
    {
     "data": {
      "text/plain": [
       "'2.1.0'"
      ]
     },
     "execution_count": 1,
     "metadata": {},
     "output_type": "execute_result"
    }
   ],
   "source": [
    "import numpy as np\n",
    "import matplotlib.pyplot as plt \n",
    "import tensorflow as tf\n",
    "\n",
    "tf.random.set_seed(777)\n",
    "tf.__version__"
   ]
  },
  {
   "cell_type": "markdown",
   "metadata": {},
   "source": [
    "#### 데이터 확인 "
   ]
  },
  {
   "cell_type": "code",
   "execution_count": 2,
   "metadata": {},
   "outputs": [
    {
     "name": "stdout",
     "output_type": "stream",
     "text": [
      "(759, 8) (759, 1)\n",
      "[[-0.294118   0.487437   0.180328  ... -0.53117   -0.0333333  0.       ]\n",
      " [-0.882353  -0.145729   0.0819672 ... -0.766866  -0.666667   1.       ]\n",
      " [-0.0588235  0.839196   0.0491803 ... -0.492741  -0.633333   0.       ]\n",
      " ...\n",
      " [-0.411765   0.21608    0.180328  ... -0.857387  -0.7        1.       ]\n",
      " [-0.882353   0.266332  -0.0163934 ... -0.768574  -0.133333   0.       ]\n",
      " [-0.882353  -0.0653266  0.147541  ... -0.797609  -0.933333   1.       ]]\n"
     ]
    }
   ],
   "source": [
    "xy = np.loadtxt('../datas/data-03-diabetes.csv', delimiter=',', dtype=np.float32)\n",
    "x_train = xy[:, 0:-1]\n",
    "y_train = xy[:, [-1]]\n",
    "\n",
    "print(x_train.shape, y_train.shape)\n",
    "print(xy)"
   ]
  },
  {
   "cell_type": "markdown",
   "metadata": {},
   "source": [
    "#### 데이터 셋 만들기 \n",
    "* Tensorflow data API를 통해 학습시킬 값들을 담는다 (Batch Size는 한번에 학습시킬 Size로 정한다)"
   ]
  },
  {
   "cell_type": "code",
   "execution_count": 3,
   "metadata": {},
   "outputs": [],
   "source": [
    "dataset = tf.data.Dataset.from_tensor_slices((x_train, y_train)).batch(len(x_train))  # 한번에 759개씩 읽어서 처리 "
   ]
  },
  {
   "cell_type": "markdown",
   "metadata": {},
   "source": [
    "#### 모델 생성 \n",
    "* W1 = tf.Variable(tf.random.normal([8, 1]), name=\"weight\")은 아래와 동일한 표현 \n",
    "* b1 = tf.Variable(tf.random.normal([1]), name='bias')         "
   ]
  },
  {
   "cell_type": "code",
   "execution_count": 4,
   "metadata": {},
   "outputs": [
    {
     "name": "stdout",
     "output_type": "stream",
     "text": [
      "<tf.Variable 'weight:0' shape=(8, 1) dtype=float32, numpy=\n",
      "array([[ 0.77064806],\n",
      "       [ 0.37335405],\n",
      "       [-0.05576323],\n",
      "       [ 0.00358377],\n",
      "       [-0.5898363 ],\n",
      "       [ 1.5702795 ],\n",
      "       [ 0.2460895 ],\n",
      "       [-0.09918973]], dtype=float32)> <tf.Variable 'bias:0' shape=(1,) dtype=float32, numpy=array([-1.3080608], dtype=float32)>\n"
     ]
    }
   ],
   "source": [
    "W = tf.Variable(tf.random.normal((8, 1)), name=\"weight\")    # 8 X 1 \n",
    "b = tf.Variable(tf.random.normal((1,)), name='bias')        # , 조심 -> 출력 형태와 동일 \n",
    "print(W, b)"
   ]
  },
  {
   "cell_type": "markdown",
   "metadata": {},
   "source": [
    "#### 필요한 함수 \n",
    "* sigmoid\n",
    "* cost \n",
    "* acc\n",
    "* grad "
   ]
  },
  {
   "cell_type": "code",
   "execution_count": 10,
   "metadata": {},
   "outputs": [],
   "source": [
    "# 1. Sigmoid 함수를 가설로 선언\n",
    "def logistic_regression(x):\n",
    "    hypothesis = tf.divide(1., 1. + tf.exp(tf.matmul(x, W) + b))\n",
    "    return hypothesis\n",
    "\n",
    "# 2. 가설을 검증할 Cost 함수를 정의¶\n",
    "def loss_fn(hypothesis, x, y):\n",
    "    cost = -tf.reduce_mean(y * tf.math.log(logistic_regression(x)) + (1 - y) * tf.math.log(1-hypothesis))\n",
    "    return cost\n",
    "\n",
    "# 3. 정확도를 계산할 Accuracy 함수 정의\n",
    "def accuracy_fn(hypothesis, y):\n",
    "    predicted = tf.cast(hypothesis > 0.5, dtype=tf.float32)\n",
    "    accuracy = tf.reduce_mean(tf.cast(tf.equal(predicted, y), dtype=tf.int32))\n",
    "    return accuracy\n",
    "\n",
    "# 4. GradientTape를 통한 Grad(경사값 계산) 함수\n",
    "def grad(hypothesis, x, y):\n",
    "    with tf.GradientTape() as tape:\n",
    "        loss_value = loss_fn(logistic_regression(x), x, y)\n",
    "    return tape.gradient(loss_value, [W, b])"
   ]
  },
  {
   "cell_type": "markdown",
   "metadata": {},
   "source": [
    "#### 최적화기 설정 "
   ]
  },
  {
   "cell_type": "code",
   "execution_count": 11,
   "metadata": {},
   "outputs": [],
   "source": [
    "optimizer = tf.keras.optimizers.SGD(learning_rate=0.01)"
   ]
  },
  {
   "cell_type": "markdown",
   "metadata": {},
   "source": [
    "#### 학습을 실행합니다."
   ]
  },
  {
   "cell_type": "code",
   "execution_count": 15,
   "metadata": {},
   "outputs": [
    {
     "name": "stdout",
     "output_type": "stream",
     "text": [
      "step : 0, Loss : 0.6542\n",
      "step : 100, Loss : 0.6180\n",
      "step : 200, Loss : 0.5975\n",
      "step : 300, Loss : 0.5851\n",
      "step : 400, Loss : 0.5767\n",
      "step : 500, Loss : 0.5702\n",
      "step : 600, Loss : 0.5647\n",
      "step : 700, Loss : 0.5598\n",
      "step : 800, Loss : 0.5553\n",
      "step : 900, Loss : 0.5512\n",
      "step : 1000, Loss : 0.5474\n"
     ]
    }
   ],
   "source": [
    "EPOCHS = 1001\n",
    "\n",
    "for step in range(EPOCHS):\n",
    "    for X, Y in iter (dataset):\n",
    "        grads = grad(logistic_regression(X), X, Y)\n",
    "        optimizer.apply_gradients(grads_and_vars=zip(grads, [W, b]))\n",
    "        if step % 100 == 0:\n",
    "            print('step : {}, Loss : {:.4f}'.format(step, loss_fn(logistic_regression(X), X, Y)))"
   ]
  },
  {
   "cell_type": "code",
   "execution_count": null,
   "metadata": {},
   "outputs": [],
   "source": []
  }
 ],
 "metadata": {
  "kernelspec": {
   "display_name": "Python 3",
   "language": "python",
   "name": "python3"
  },
  "language_info": {
   "codemirror_mode": {
    "name": "ipython",
    "version": 3
   },
   "file_extension": ".py",
   "mimetype": "text/x-python",
   "name": "python",
   "nbconvert_exporter": "python",
   "pygments_lexer": "ipython3",
   "version": "3.7.6"
  }
 },
 "nbformat": 4,
 "nbformat_minor": 4
}
