{
 "cells": [
  {
   "cell_type": "markdown",
   "metadata": {},
   "source": [
    "# 하나의 셀과 2개의 히든 사이즈를 사용하는 경우"
   ]
  },
  {
   "cell_type": "code",
   "execution_count": 1,
   "metadata": {},
   "outputs": [
    {
     "data": {
      "text/plain": [
       "'2.1.0'"
      ]
     },
     "execution_count": 1,
     "metadata": {},
     "output_type": "execute_result"
    }
   ],
   "source": [
    "import numpy as np\n",
    "import tensorflow as tf\n",
    "tf.__version__"
   ]
  },
  {
   "cell_type": "markdown",
   "metadata": {},
   "source": [
    "#### 원-핫 인코딩 'hello'\n",
    "* 각 문자마다 원-핫 방식으로 인코딩한다."
   ]
  },
  {
   "cell_type": "code",
   "execution_count": 2,
   "metadata": {},
   "outputs": [],
   "source": [
    "h = [1, 0, 0, 0]\n",
    "e = [0, 1, 0, 0]\n",
    "l = [0, 0, 1, 0]\n",
    "o = [0, 0, 0, 1]"
   ]
  },
  {
   "cell_type": "markdown",
   "metadata": {},
   "source": [
    "#### One cell: 4 (input_dim) in 2 (hidden_size)\n",
    "![One cell: 4 (input_dim) in 2 (hidden_size)](../imgs/a.png)"
   ]
  },
  {
   "cell_type": "markdown",
   "metadata": {},
   "source": [
    "#### one cell RNN 입력 차수 (4) --> 출력차수 (2)"
   ]
  },
  {
   "cell_type": "code",
   "execution_count": 3,
   "metadata": {},
   "outputs": [],
   "source": [
    "x_data = np.array([[h]], dtype=np.float32)\n",
    "\n",
    "hidden_size = 2\n",
    "\n",
    "#cell = tf.keras.layers.SimpleRNNCell(units=hidden_size)\n",
    "#rnn = tf.keras.layers.RNN(cell, return_sequences=True, return_state=True)\n",
    "rnn = tf.keras.layers.SimpleRNN(units=hidden_size, return_sequences=True, return_state=True)\n",
    "outputs, states = rnn(x_data)"
   ]
  },
  {
   "cell_type": "markdown",
   "metadata": {},
   "source": [
    "#### 값 출력 \n",
    "* outputs과 states는 같은 값을 갖지만 쉐이프는 다름\n",
    "* outputs : 전체 시퀀스에 대한 히든 스테이트 값을 가짐 \n",
    "* states : 시퀀스의 마지막 히든 스테이트의 값을 가짐"
   ]
  },
  {
   "cell_type": "code",
   "execution_count": 4,
   "metadata": {},
   "outputs": [
    {
     "name": "stdout",
     "output_type": "stream",
     "text": [
      "x_data : [[[1. 0. 0. 0.]]], shape : (1, 1, 4)\n",
      "outputs : [[[-0.75151503 -0.26314512]]], shape : (1, 1, 2)\n",
      "states : [[-0.75151503 -0.26314512]], shape : (1, 2)\n"
     ]
    }
   ],
   "source": [
    "print('x_data : {}, shape : {}'.format(x_data, x_data.shape))\n",
    "print('outputs : {}, shape : {}'.format(outputs, outputs.shape))\n",
    "print('states : {}, shape : {}'.format(states, states.shape))"
   ]
  },
  {
   "cell_type": "code",
   "execution_count": null,
   "metadata": {},
   "outputs": [],
   "source": []
  }
 ],
 "metadata": {
  "kernelspec": {
   "display_name": "Python 3",
   "language": "python",
   "name": "python3"
  },
  "language_info": {
   "codemirror_mode": {
    "name": "ipython",
    "version": 3
   },
   "file_extension": ".py",
   "mimetype": "text/x-python",
   "name": "python",
   "nbconvert_exporter": "python",
   "pygments_lexer": "ipython3",
   "version": "3.7.6"
  }
 },
 "nbformat": 4,
 "nbformat_minor": 4
}
