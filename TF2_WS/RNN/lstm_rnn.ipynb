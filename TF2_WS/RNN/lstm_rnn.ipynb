{
 "cells": [
  {
   "cell_type": "markdown",
   "metadata": {},
   "source": [
    "# LSTM(Long Short Term Memory)\n",
    "* LSTM : 장기의존성 문제 해결을 위한 구조 \n",
    "    * RNN에 비해 복잡한 구조를 가짐\n",
    "    * 가장 큰 특징은 출력외에 LSTM 셀 사이에서만 공유되는 셀 상태(cell state)를 가짐\n",
    "    * 타임스텝을 가로지르며 셀 상태가 보존되기 때문에 장기의존성 문제를 해결\n",
    "* tanh/sigmoid : LSTM의 활성화 함수 "
   ]
  },
  {
   "cell_type": "markdown",
   "metadata": {},
   "source": [
    "## 곱셈 문제 \n",
    "* 고려해야 할 실수의 범위가 100개이고 그중에서 2개의 숫자만 곱하는 문제 "
   ]
  },
  {
   "cell_type": "markdown",
   "metadata": {},
   "source": [
    "### SimpleRNN 레이어를 이용해 문제 풀기 "
   ]
  },
  {
   "cell_type": "code",
   "execution_count": 1,
   "metadata": {},
   "outputs": [],
   "source": [
    "import tensorflow as tf\n",
    "import numpy as np\n",
    "import matplotlib.pyplot as plt"
   ]
  },
  {
   "cell_type": "markdown",
   "metadata": {},
   "source": [
    "* np.random.rand(100) : 0~1 사이의 랜덤한 숫자 100 개를 만듭니다.\n",
    "* np.random.choice(100, 2, replace=False) : 100중 2개를 추출하는데 중복없이 추출 \n",
    "* np.zeros(100) : 100개의 0을 가진 배열 생성 \n",
    "* zeros[idx] = 1 : 리스트중에 마킹 인덱스(idx)가 저장된 부분만 1로 설정해 원-핫 인코딩 벡터를 만듭니다.\n",
    "* list(zip(zeros, lst)) : list(zip([1, 2, 3], [4, 5, 6])) --> [(1, 4), (2, 5), (3, 6)]\n",
    "* np.prod(lst[idx]) : 리스트의 각 항목 곱하기 수행 b = array([1, 2, 3, 4]) --> np.prod(b)  # 1*2*3*4 --> 24m"
   ]
  },
  {
   "cell_type": "code",
   "execution_count": 2,
   "metadata": {},
   "outputs": [
    {
     "name": "stdout",
     "output_type": "stream",
     "text": [
      "100\n",
      "[[0.         0.85265963]\n",
      " [0.         0.92366239]\n",
      " [0.         0.33875788]\n",
      " [0.         0.63821996]\n",
      " [0.         0.9942555 ]\n",
      " [0.         0.32615177]\n",
      " [0.         0.94567131]\n",
      " [0.         0.73042496]\n",
      " [0.         0.80717876]\n",
      " [0.         0.36678179]\n",
      " [0.         0.14694767]\n",
      " [0.         0.58666322]\n",
      " [0.         0.83548502]\n",
      " [0.         0.18257659]\n",
      " [0.         0.3840895 ]\n",
      " [0.         0.44428367]\n",
      " [0.         0.9443953 ]\n",
      " [0.         0.12393103]\n",
      " [0.         0.67121453]\n",
      " [0.         0.75836777]\n",
      " [0.         0.67955626]\n",
      " [0.         0.99661686]\n",
      " [0.         0.73774398]\n",
      " [0.         0.33464618]\n",
      " [0.         0.69549235]\n",
      " [0.         0.58988761]\n",
      " [0.         0.65519904]\n",
      " [0.         0.53510701]\n",
      " [0.         0.69968767]\n",
      " [0.         0.22890044]\n",
      " [0.         0.72459548]\n",
      " [0.         0.48739886]\n",
      " [0.         0.94550033]\n",
      " [0.         0.58459693]\n",
      " [0.         0.85958197]\n",
      " [0.         0.40084757]\n",
      " [0.         0.40880709]\n",
      " [0.         0.86021816]\n",
      " [0.         0.22806064]\n",
      " [0.         0.51466433]\n",
      " [0.         0.05039917]\n",
      " [0.         0.46606484]\n",
      " [0.         0.08023653]\n",
      " [0.         0.73451767]\n",
      " [0.         0.71524093]\n",
      " [0.         0.90900046]\n",
      " [0.         0.72555959]\n",
      " [0.         0.45494742]\n",
      " [0.         0.19060743]\n",
      " [0.         0.87447669]\n",
      " [0.         0.98012911]\n",
      " [0.         0.59836392]\n",
      " [1.         0.12515412]\n",
      " [0.         0.45936136]\n",
      " [0.         0.96715118]\n",
      " [0.         0.12178893]\n",
      " [0.         0.61029501]\n",
      " [0.         0.65017206]\n",
      " [0.         0.79302271]\n",
      " [0.         0.69666876]\n",
      " [0.         0.5872132 ]\n",
      " [0.         0.36243978]\n",
      " [0.         0.63334682]\n",
      " [0.         0.19074044]\n",
      " [0.         0.41362083]\n",
      " [0.         0.65518087]\n",
      " [0.         0.22772727]\n",
      " [0.         0.6221606 ]\n",
      " [0.         0.84739951]\n",
      " [0.         0.52974423]\n",
      " [0.         0.90489493]\n",
      " [0.         0.04022072]\n",
      " [0.         0.37577944]\n",
      " [0.         0.151124  ]\n",
      " [0.         0.19904716]\n",
      " [0.         0.21103766]\n",
      " [0.         0.10429967]\n",
      " [0.         0.29992516]\n",
      " [0.         0.56340516]\n",
      " [0.         0.9418893 ]\n",
      " [0.         0.78013024]\n",
      " [0.         0.81080704]\n",
      " [0.         0.48006389]\n",
      " [0.         0.95377217]\n",
      " [0.         0.43882576]\n",
      " [0.         0.22538572]\n",
      " [0.         0.85227751]\n",
      " [0.         0.70005892]\n",
      " [0.         0.21023475]\n",
      " [0.         0.90199439]\n",
      " [0.         0.09280784]\n",
      " [1.         0.15138633]\n",
      " [0.         0.24709444]\n",
      " [0.         0.70041563]\n",
      " [0.         0.74320135]\n",
      " [0.         0.80918447]\n",
      " [0.         0.48545541]\n",
      " [0.         0.25726412]\n",
      " [0.         0.64550982]\n",
      " [0.         0.577864  ]]\n",
      "0.018946623317003725\n"
     ]
    }
   ],
   "source": [
    "X = []   # 입력 데이터 리스트 \n",
    "Y = []   # 결과 리스트 \n",
    "\n",
    "for i in range(3000):\n",
    "    lst = np.random.rand(100)    \n",
    "    idx = np.random.choice(100, 2, replace=False)  \n",
    "    zeros = np.zeros(100)  \n",
    "    zeros[idx] = 1  \n",
    "    \n",
    "    X.append(np.array(list(zip(zeros, lst))))  \n",
    "    Y.append(np.prod(lst[idx]))   \n",
    "\n",
    "print(len(X[0]))\n",
    "print(X[0])\n",
    "print(Y[0])"
   ]
  },
  {
   "cell_type": "markdown",
   "metadata": {},
   "source": [
    "#### 모델 설정 & 컴파일 \n",
    "* 기존의 문제보다 복잡하기 때문에 뉴런의 수도 늘리고 SimpleRNN레이어를 2층으로 겹친 모델 구조 사용\n",
    "* __return_sequences=True__ : 레이어의 출력을 다음 레이어로 그대로 넘겨줌\n",
    "    * RNN 레이어를 겹치기 위해서는 return_sequences를 True로 설정한다. "
   ]
  },
  {
   "cell_type": "code",
   "execution_count": 3,
   "metadata": {},
   "outputs": [
    {
     "name": "stdout",
     "output_type": "stream",
     "text": [
      "Model: \"sequential\"\n",
      "_________________________________________________________________\n",
      "Layer (type)                 Output Shape              Param #   \n",
      "=================================================================\n",
      "simple_rnn (SimpleRNN)       (None, 100, 30)           990       \n",
      "_________________________________________________________________\n",
      "simple_rnn_1 (SimpleRNN)     (None, 30)                1830      \n",
      "_________________________________________________________________\n",
      "dense (Dense)                (None, 1)                 31        \n",
      "=================================================================\n",
      "Total params: 2,851\n",
      "Trainable params: 2,851\n",
      "Non-trainable params: 0\n",
      "_________________________________________________________________\n"
     ]
    }
   ],
   "source": [
    "model = tf.keras.models.Sequential([\n",
    "    tf.keras.layers.SimpleRNN(units = 30, return_sequences=True, input_shape=[100, 2]),\n",
    "    tf.keras.layers.SimpleRNN(units = 30),\n",
    "    tf.keras.layers.Dense(units=1)\n",
    "])\n",
    "\n",
    "model.compile(optimizer = 'adam', loss='mse')\n",
    "\n",
    "model.summary()"
   ]
  },
  {
   "cell_type": "markdown",
   "metadata": {},
   "source": [
    "#### SimpleRNN 네트워크 학습\n",
    "* list인 자료형을 numpy.ndarray으로 변환해야 한다. \n",
    "* 2560개의 데이터만 학습시킵니다. validation 데이터는 20% 로 지정합니다."
   ]
  },
  {
   "cell_type": "code",
   "execution_count": 4,
   "metadata": {},
   "outputs": [
    {
     "name": "stdout",
     "output_type": "stream",
     "text": [
      "Train on 2048 samples, validate on 512 samples\n",
      "Epoch 1/100\n",
      "2048/2048 [==============================] - 5s 2ms/sample - loss: 0.1042 - val_loss: 0.0539\n",
      "Epoch 2/100\n",
      "2048/2048 [==============================] - 4s 2ms/sample - loss: 0.0484 - val_loss: 0.0509\n",
      "Epoch 3/100\n",
      "2048/2048 [==============================] - 4s 2ms/sample - loss: 0.0475 - val_loss: 0.0509\n",
      "Epoch 4/100\n",
      "2048/2048 [==============================] - 4s 2ms/sample - loss: 0.0468 - val_loss: 0.0505\n",
      "Epoch 5/100\n",
      "2048/2048 [==============================] - 4s 2ms/sample - loss: 0.0487 - val_loss: 0.0548\n",
      "Epoch 6/100\n",
      "2048/2048 [==============================] - 4s 2ms/sample - loss: 0.0477 - val_loss: 0.0504\n",
      "Epoch 7/100\n",
      "2048/2048 [==============================] - 4s 2ms/sample - loss: 0.0474 - val_loss: 0.0500\n",
      "Epoch 8/100\n",
      "2048/2048 [==============================] - 4s 2ms/sample - loss: 0.0472 - val_loss: 0.0511\n",
      "Epoch 9/100\n",
      "2048/2048 [==============================] - 4s 2ms/sample - loss: 0.0479 - val_loss: 0.0518\n",
      "Epoch 10/100\n",
      "2048/2048 [==============================] - 4s 2ms/sample - loss: 0.0481 - val_loss: 0.0499\n",
      "Epoch 11/100\n",
      "2048/2048 [==============================] - 4s 2ms/sample - loss: 0.0483 - val_loss: 0.0707\n",
      "Epoch 12/100\n",
      "2048/2048 [==============================] - 4s 2ms/sample - loss: 0.0485 - val_loss: 0.0502\n",
      "Epoch 13/100\n",
      "2048/2048 [==============================] - 4s 2ms/sample - loss: 0.0470 - val_loss: 0.0520\n",
      "Epoch 14/100\n",
      "2048/2048 [==============================] - 4s 2ms/sample - loss: 0.0465 - val_loss: 0.0509\n",
      "Epoch 15/100\n",
      "2048/2048 [==============================] - 4s 2ms/sample - loss: 0.0467 - val_loss: 0.0531\n",
      "Epoch 16/100\n",
      "2048/2048 [==============================] - 4s 2ms/sample - loss: 0.0489 - val_loss: 0.0518\n",
      "Epoch 17/100\n",
      "2048/2048 [==============================] - 4s 2ms/sample - loss: 0.0472 - val_loss: 0.0501\n",
      "Epoch 18/100\n",
      "2048/2048 [==============================] - 4s 2ms/sample - loss: 0.0481 - val_loss: 0.0504\n",
      "Epoch 19/100\n",
      "2048/2048 [==============================] - 4s 2ms/sample - loss: 0.0481 - val_loss: 0.0514\n",
      "Epoch 20/100\n",
      "2048/2048 [==============================] - 4s 2ms/sample - loss: 0.0465 - val_loss: 0.0495\n",
      "Epoch 21/100\n",
      "2048/2048 [==============================] - 4s 2ms/sample - loss: 0.0458 - val_loss: 0.0503\n",
      "Epoch 22/100\n",
      "2048/2048 [==============================] - 4s 2ms/sample - loss: 0.0464 - val_loss: 0.0493\n",
      "Epoch 23/100\n",
      "2048/2048 [==============================] - 4s 2ms/sample - loss: 0.0460 - val_loss: 0.0501\n",
      "Epoch 24/100\n",
      "2048/2048 [==============================] - 4s 2ms/sample - loss: 0.0465 - val_loss: 0.0502\n",
      "Epoch 25/100\n",
      "2048/2048 [==============================] - 4s 2ms/sample - loss: 0.0454 - val_loss: 0.0488\n",
      "Epoch 26/100\n",
      "2048/2048 [==============================] - 4s 2ms/sample - loss: 0.0459 - val_loss: 0.0490\n",
      "Epoch 27/100\n",
      "2048/2048 [==============================] - 4s 2ms/sample - loss: 0.0457 - val_loss: 0.0514\n",
      "Epoch 28/100\n",
      "2048/2048 [==============================] - 4s 2ms/sample - loss: 0.0455 - val_loss: 0.0512\n",
      "Epoch 29/100\n",
      "2048/2048 [==============================] - 4s 2ms/sample - loss: 0.0470 - val_loss: 0.0494\n",
      "Epoch 30/100\n",
      "2048/2048 [==============================] - 4s 2ms/sample - loss: 0.0457 - val_loss: 0.0492\n",
      "Epoch 31/100\n",
      "2048/2048 [==============================] - 4s 2ms/sample - loss: 0.0447 - val_loss: 0.0507\n",
      "Epoch 32/100\n",
      "2048/2048 [==============================] - 4s 2ms/sample - loss: 0.0448 - val_loss: 0.0502\n",
      "Epoch 33/100\n",
      "2048/2048 [==============================] - 4s 2ms/sample - loss: 0.0449 - val_loss: 0.0491\n",
      "Epoch 34/100\n",
      "2048/2048 [==============================] - 4s 2ms/sample - loss: 0.0446 - val_loss: 0.0496\n",
      "Epoch 35/100\n",
      "2048/2048 [==============================] - 4s 2ms/sample - loss: 0.0456 - val_loss: 0.0522\n",
      "Epoch 36/100\n",
      "2048/2048 [==============================] - 4s 2ms/sample - loss: 0.0453 - val_loss: 0.0523\n",
      "Epoch 37/100\n",
      "2048/2048 [==============================] - 4s 2ms/sample - loss: 0.0437 - val_loss: 0.0512\n",
      "Epoch 38/100\n",
      "2048/2048 [==============================] - 4s 2ms/sample - loss: 0.0444 - val_loss: 0.0491\n",
      "Epoch 39/100\n",
      "2048/2048 [==============================] - 4s 2ms/sample - loss: 0.0444 - val_loss: 0.0529\n",
      "Epoch 40/100\n",
      "2048/2048 [==============================] - 4s 2ms/sample - loss: 0.0435 - val_loss: 0.0501\n",
      "Epoch 41/100\n",
      "2048/2048 [==============================] - 4s 2ms/sample - loss: 0.0433 - val_loss: 0.0498\n",
      "Epoch 42/100\n",
      "2048/2048 [==============================] - 4s 2ms/sample - loss: 0.0438 - val_loss: 0.0555\n",
      "Epoch 43/100\n",
      "2048/2048 [==============================] - 4s 2ms/sample - loss: 0.0443 - val_loss: 0.0515\n",
      "Epoch 44/100\n",
      "2048/2048 [==============================] - 4s 2ms/sample - loss: 0.0431 - val_loss: 0.0488\n",
      "Epoch 45/100\n",
      "2048/2048 [==============================] - 4s 2ms/sample - loss: 0.0423 - val_loss: 0.0509\n",
      "Epoch 46/100\n",
      "2048/2048 [==============================] - 4s 2ms/sample - loss: 0.0428 - val_loss: 0.0538\n",
      "Epoch 47/100\n",
      "2048/2048 [==============================] - 4s 2ms/sample - loss: 0.0439 - val_loss: 0.0546\n",
      "Epoch 48/100\n",
      "2048/2048 [==============================] - 4s 2ms/sample - loss: 0.0433 - val_loss: 0.0490\n",
      "Epoch 49/100\n",
      "2048/2048 [==============================] - 4s 2ms/sample - loss: 0.0433 - val_loss: 0.0507\n",
      "Epoch 50/100\n",
      "2048/2048 [==============================] - 4s 2ms/sample - loss: 0.0424 - val_loss: 0.0552\n",
      "Epoch 51/100\n",
      "2048/2048 [==============================] - 4s 2ms/sample - loss: 0.0421 - val_loss: 0.0511\n",
      "Epoch 52/100\n",
      "2048/2048 [==============================] - 4s 2ms/sample - loss: 0.0420 - val_loss: 0.0534\n",
      "Epoch 53/100\n",
      "2048/2048 [==============================] - 4s 2ms/sample - loss: 0.0412 - val_loss: 0.0530\n",
      "Epoch 54/100\n",
      "2048/2048 [==============================] - 4s 2ms/sample - loss: 0.0416 - val_loss: 0.0536\n",
      "Epoch 55/100\n",
      "2048/2048 [==============================] - 4s 2ms/sample - loss: 0.0417 - val_loss: 0.0533\n",
      "Epoch 56/100\n",
      "2048/2048 [==============================] - 4s 2ms/sample - loss: 0.0409 - val_loss: 0.0510\n",
      "Epoch 57/100\n",
      "2048/2048 [==============================] - 4s 2ms/sample - loss: 0.0411 - val_loss: 0.0507\n",
      "Epoch 58/100\n",
      "2048/2048 [==============================] - 4s 2ms/sample - loss: 0.0407 - val_loss: 0.0521\n",
      "Epoch 59/100\n",
      "2048/2048 [==============================] - 4s 2ms/sample - loss: 0.0404 - val_loss: 0.0539\n",
      "Epoch 60/100\n",
      "2048/2048 [==============================] - 4s 2ms/sample - loss: 0.0400 - val_loss: 0.0529\n",
      "Epoch 61/100\n",
      "2048/2048 [==============================] - 4s 2ms/sample - loss: 0.0413 - val_loss: 0.0518\n",
      "Epoch 62/100\n",
      "2048/2048 [==============================] - 4s 2ms/sample - loss: 0.0405 - val_loss: 0.0528\n",
      "Epoch 63/100\n",
      "2048/2048 [==============================] - 4s 2ms/sample - loss: 0.0405 - val_loss: 0.0529\n",
      "Epoch 64/100\n",
      "2048/2048 [==============================] - 4s 2ms/sample - loss: 0.0395 - val_loss: 0.0532\n",
      "Epoch 65/100\n",
      "2048/2048 [==============================] - 4s 2ms/sample - loss: 0.0398 - val_loss: 0.0585\n",
      "Epoch 66/100\n",
      "2048/2048 [==============================] - 4s 2ms/sample - loss: 0.0388 - val_loss: 0.0537\n",
      "Epoch 67/100\n",
      "2048/2048 [==============================] - 4s 2ms/sample - loss: 0.0389 - val_loss: 0.0554\n",
      "Epoch 68/100\n",
      "2048/2048 [==============================] - 4s 2ms/sample - loss: 0.0384 - val_loss: 0.0521\n",
      "Epoch 69/100\n",
      "2048/2048 [==============================] - 4s 2ms/sample - loss: 0.0382 - val_loss: 0.0574\n",
      "Epoch 70/100\n",
      "2048/2048 [==============================] - 4s 2ms/sample - loss: 0.0396 - val_loss: 0.0576 - lo\n",
      "Epoch 71/100\n",
      "2048/2048 [==============================] - 4s 2ms/sample - loss: 0.0383 - val_loss: 0.0566\n",
      "Epoch 72/100\n",
      "2048/2048 [==============================] - 4s 2ms/sample - loss: 0.0378 - val_loss: 0.0535\n",
      "Epoch 73/100\n",
      "2048/2048 [==============================] - 4s 2ms/sample - loss: 0.0370 - val_loss: 0.0534\n",
      "Epoch 74/100\n",
      "2048/2048 [==============================] - 4s 2ms/sample - loss: 0.0380 - val_loss: 0.0634\n",
      "Epoch 75/100\n",
      "2048/2048 [==============================] - 4s 2ms/sample - loss: 0.0380 - val_loss: 0.0543\n",
      "Epoch 76/100\n",
      "2048/2048 [==============================] - 4s 2ms/sample - loss: 0.0363 - val_loss: 0.0525\n",
      "Epoch 77/100\n"
     ]
    },
    {
     "name": "stdout",
     "output_type": "stream",
     "text": [
      "2048/2048 [==============================] - 4s 2ms/sample - loss: 0.0360 - val_loss: 0.0554\n",
      "Epoch 78/100\n",
      "2048/2048 [==============================] - 4s 2ms/sample - loss: 0.0367 - val_loss: 0.0581\n",
      "Epoch 79/100\n",
      "2048/2048 [==============================] - 4s 2ms/sample - loss: 0.0360 - val_loss: 0.0567\n",
      "Epoch 80/100\n",
      "2048/2048 [==============================] - 4s 2ms/sample - loss: 0.0362 - val_loss: 0.0557\n",
      "Epoch 81/100\n",
      "2048/2048 [==============================] - 4s 2ms/sample - loss: 0.0358 - val_loss: 0.0576\n",
      "Epoch 82/100\n",
      "2048/2048 [==============================] - 4s 2ms/sample - loss: 0.0365 - val_loss: 0.0584\n",
      "Epoch 83/100\n",
      "2048/2048 [==============================] - 4s 2ms/sample - loss: 0.0356 - val_loss: 0.0563\n",
      "Epoch 84/100\n",
      "2048/2048 [==============================] - 4s 2ms/sample - loss: 0.0341 - val_loss: 0.0560\n",
      "Epoch 85/100\n",
      "2048/2048 [==============================] - 4s 2ms/sample - loss: 0.0344 - val_loss: 0.0583\n",
      "Epoch 86/100\n",
      "2048/2048 [==============================] - 4s 2ms/sample - loss: 0.0347 - val_loss: 0.0600\n",
      "Epoch 87/100\n",
      "2048/2048 [==============================] - 4s 2ms/sample - loss: 0.0334 - val_loss: 0.0571\n",
      "Epoch 88/100\n",
      "2048/2048 [==============================] - 4s 2ms/sample - loss: 0.0347 - val_loss: 0.0568\n",
      "Epoch 89/100\n",
      "2048/2048 [==============================] - 4s 2ms/sample - loss: 0.0329 - val_loss: 0.0581\n",
      "Epoch 90/100\n",
      "2048/2048 [==============================] - 4s 2ms/sample - loss: 0.0326 - val_loss: 0.0602\n",
      "Epoch 91/100\n",
      "2048/2048 [==============================] - 4s 2ms/sample - loss: 0.0336 - val_loss: 0.0591\n",
      "Epoch 92/100\n",
      "2048/2048 [==============================] - 4s 2ms/sample - loss: 0.0321 - val_loss: 0.0612\n",
      "Epoch 93/100\n",
      "2048/2048 [==============================] - 4s 2ms/sample - loss: 0.0323 - val_loss: 0.0592\n",
      "Epoch 94/100\n",
      "2048/2048 [==============================] - 4s 2ms/sample - loss: 0.0319 - val_loss: 0.0595\n",
      "Epoch 95/100\n",
      "2048/2048 [==============================] - 4s 2ms/sample - loss: 0.0320 - val_loss: 0.0589\n",
      "Epoch 96/100\n",
      "2048/2048 [==============================] - 4s 2ms/sample - loss: 0.0319 - val_loss: 0.0600\n",
      "Epoch 97/100\n",
      "2048/2048 [==============================] - 4s 2ms/sample - loss: 0.0319 - val_loss: 0.0599\n",
      "Epoch 98/100\n",
      "2048/2048 [==============================] - 4s 2ms/sample - loss: 0.0311 - val_loss: 0.0587\n",
      "Epoch 99/100\n",
      "2048/2048 [==============================] - 4s 2ms/sample - loss: 0.0301 - val_loss: 0.0594\n",
      "Epoch 100/100\n",
      "2048/2048 [==============================] - 4s 2ms/sample - loss: 0.0303 - val_loss: 0.0591\n"
     ]
    }
   ],
   "source": [
    "X = np.array(X)\n",
    "Y = np.array(Y)\n",
    "history = model.fit(X[:2560], Y[:2560], epochs=100, validation_split=0.2)"
   ]
  },
  {
   "cell_type": "markdown",
   "metadata": {},
   "source": [
    "#### 그래프로 비교하기 "
   ]
  },
  {
   "cell_type": "code",
   "execution_count": 5,
   "metadata": {},
   "outputs": [
    {
     "data": {
      "image/png": "[encoded data removed]",
      "text/plain": [
       "<Figure size 432x288 with 1 Axes>"
      ]
     },
     "metadata": {
      "needs_background": "light"
     },
     "output_type": "display_data"
    }
   ],
   "source": [
    "plt.plot(history.history['loss'], 'b-', label='loss')\n",
    "plt.plot(history.history['val_loss'], 'r--', label='val_loss')\n",
    "plt.xlabel('Epoch')\n",
    "plt.legend()\n",
    "plt.show()"
   ]
  },
  {
   "cell_type": "markdown",
   "metadata": {},
   "source": [
    "####  모델 평가하기"
   ]
  },
  {
   "cell_type": "code",
   "execution_count": 6,
   "metadata": {},
   "outputs": [
    {
     "name": "stdout",
     "output_type": "stream",
     "text": [
      "440/440 [==============================] - 0s 748us/sample - loss: 0.0571\n"
     ]
    },
    {
     "data": {
      "text/plain": [
       "0.05709744651209225"
      ]
     },
     "execution_count": 6,
     "metadata": {},
     "output_type": "execute_result"
    }
   ],
   "source": [
    "model.evaluate(X[2560:], Y[2560:])"
   ]
  },
  {
   "cell_type": "markdown",
   "metadata": {},
   "source": [
    "#### 예측하고 정확도 측정하기\n",
    "* 오차가 0.04 이상이면 오답으로 처리\n",
    "* (lambda i : \"오답\" if abs(prediction[i][0] - Y[2560+i]) > 0.04 else \"정답\")(i)"
   ]
  },
  {
   "cell_type": "code",
   "execution_count": 7,
   "metadata": {},
   "outputs": [
    {
     "name": "stdout",
     "output_type": "stream",
     "text": [
      "0.009417791336498045 \t 0.30178005 \tdiff: 0.29236225369600316 \t 오답\n",
      "0.6548937886537675 \t 0.19472584 \tdiff: 0.46016794736996924 \t 오답\n",
      "0.5644796207629784 \t 0.2819862 \tdiff: 0.2824934139930352 \t 오답\n",
      "0.2634345672137859 \t 0.24056967 \tdiff: 0.02286490118576312 \t 정답\n",
      "0.21979869126607546 \t 0.049721282 \tdiff: 0.17007740929056772 \t 오답\n",
      "correctness: 15.0 %\n"
     ]
    }
   ],
   "source": [
    "prediction = model.predict(X[2560:2560+5])\n",
    "\n",
    "# 5개 테스트 데이터에 대한 예측을 표시합니다.\n",
    "for i in range(5):\n",
    "    print(Y[2560+i], '\\t', prediction[i][0], '\\tdiff:', abs(prediction[i][0] - Y[2560+i]),\"\\t\", (lambda i : \"오답\" if abs(prediction[i][0] - Y[2560+i]) > 0.04 else \"정답\")(i)  )\n",
    "    \n",
    "prediction = model.predict(X[2560:])\n",
    "fail = 0\n",
    "for i in range(len(prediction)):\n",
    "    # 오차가 0.04 이상이면 오답입니다.\n",
    "    if abs(prediction[i][0] - Y[2560+i]) > 0.04:\n",
    "        fail += 1\n",
    "print('correctness:', (440 - fail) / 440 * 100, '%')"
   ]
  },
  {
   "cell_type": "markdown",
   "metadata": {},
   "source": [
    "### LSTM 레이어 사용하기 \n",
    "#### LSTM 레이어를 사용한 곱셈 문제 모델 정의"
   ]
  },
  {
   "cell_type": "code",
   "execution_count": 8,
   "metadata": {},
   "outputs": [
    {
     "name": "stdout",
     "output_type": "stream",
     "text": [
      "Model: \"sequential\"\n",
      "_________________________________________________________________\n",
      "Layer (type)                 Output Shape              Param #   \n",
      "=================================================================\n",
      "lstm (LSTM)                  (None, 100, 30)           3960      \n",
      "_________________________________________________________________\n",
      "lstm_1 (LSTM)                (None, 30)                7320      \n",
      "_________________________________________________________________\n",
      "dense (Dense)                (None, 1)                 31        \n",
      "=================================================================\n",
      "Total params: 11,311\n",
      "Trainable params: 11,311\n",
      "Non-trainable params: 0\n",
      "_________________________________________________________________\n"
     ]
    }
   ],
   "source": [
    "tf.keras.backend.clear_session()\n",
    "\n",
    "model = tf.keras.models.Sequential([\n",
    "    tf.keras.layers.LSTM(units = 30, return_sequences=True, input_shape=[100, 2]),\n",
    "    tf.keras.layers.LSTM(units = 30),\n",
    "    tf.keras.layers.Dense(units=1)\n",
    "])\n",
    "\n",
    "model.compile(optimizer = 'adam', loss='mse')\n",
    "\n",
    "model.summary()"
   ]
  },
  {
   "cell_type": "markdown",
   "metadata": {},
   "source": [
    "#### 학습 "
   ]
  },
  {
   "cell_type": "code",
   "execution_count": 9,
   "metadata": {},
   "outputs": [
    {
     "name": "stdout",
     "output_type": "stream",
     "text": [
      "Train on 2048 samples, validate on 512 samples\n",
      "Epoch 1/100\n",
      "2048/2048 [==============================] - 3s 2ms/sample - loss: 0.0473 - val_loss: 0.0500\n",
      "Epoch 2/100\n",
      "2048/2048 [==============================] - 0s 237us/sample - loss: 0.0467 - val_loss: 0.0498\n",
      "Epoch 3/100\n",
      "2048/2048 [==============================] - 1s 252us/sample - loss: 0.0468 - val_loss: 0.0502\n",
      "Epoch 4/100\n",
      "2048/2048 [==============================] - 0s 243us/sample - loss: 0.0463 - val_loss: 0.0499\n",
      "Epoch 5/100\n",
      "2048/2048 [==============================] - 0s 238us/sample - loss: 0.0464 - val_loss: 0.0502\n",
      "Epoch 6/100\n",
      "2048/2048 [==============================] - 1s 253us/sample - loss: 0.0463 - val_loss: 0.0499\n",
      "Epoch 7/100\n",
      "2048/2048 [==============================] - 1s 285us/sample - loss: 0.0464 - val_loss: 0.0500\n",
      "Epoch 8/100\n",
      "2048/2048 [==============================] - 1s 250us/sample - loss: 0.0466 - val_loss: 0.0501\n",
      "Epoch 9/100\n",
      "2048/2048 [==============================] - 0s 241us/sample - loss: 0.0465 - val_loss: 0.0496\n",
      "Epoch 10/100\n",
      "2048/2048 [==============================] - 0s 239us/sample - loss: 0.0463 - val_loss: 0.0503\n",
      "Epoch 11/100\n",
      "2048/2048 [==============================] - 0s 239us/sample - loss: 0.0464 - val_loss: 0.0506\n",
      "Epoch 12/100\n",
      "2048/2048 [==============================] - 0s 241us/sample - loss: 0.0464 - val_loss: 0.0501\n",
      "Epoch 13/100\n",
      "2048/2048 [==============================] - 0s 236us/sample - loss: 0.0461 - val_loss: 0.0499\n",
      "Epoch 14/100\n",
      "2048/2048 [==============================] - 0s 236us/sample - loss: 0.0464 - val_loss: 0.0505\n",
      "Epoch 15/100\n",
      "2048/2048 [==============================] - 0s 237us/sample - loss: 0.0462 - val_loss: 0.0494\n",
      "Epoch 16/100\n",
      "2048/2048 [==============================] - 0s 239us/sample - loss: 0.0460 - val_loss: 0.0495\n",
      "Epoch 17/100\n",
      "2048/2048 [==============================] - 0s 238us/sample - loss: 0.0459 - val_loss: 0.0491\n",
      "Epoch 18/100\n",
      "2048/2048 [==============================] - 0s 239us/sample - loss: 0.0458 - val_loss: 0.0530\n",
      "Epoch 19/100\n",
      "2048/2048 [==============================] - 0s 242us/sample - loss: 0.0462 - val_loss: 0.0502\n",
      "Epoch 20/100\n",
      "2048/2048 [==============================] - 1s 245us/sample - loss: 0.0458 - val_loss: 0.0502\n",
      "Epoch 21/100\n",
      "2048/2048 [==============================] - 1s 247us/sample - loss: 0.0460 - val_loss: 0.0506\n",
      "Epoch 22/100\n",
      "2048/2048 [==============================] - 0s 237us/sample - loss: 0.0463 - val_loss: 0.0490\n",
      "Epoch 23/100\n",
      "2048/2048 [==============================] - 0s 239us/sample - loss: 0.0457 - val_loss: 0.0497\n",
      "Epoch 24/100\n",
      "2048/2048 [==============================] - 0s 239us/sample - loss: 0.0458 - val_loss: 0.0490\n",
      "Epoch 25/100\n",
      "2048/2048 [==============================] - 0s 238us/sample - loss: 0.0454 - val_loss: 0.0480\n",
      "Epoch 26/100\n",
      "2048/2048 [==============================] - 1s 244us/sample - loss: 0.0445 - val_loss: 0.0494\n",
      "Epoch 27/100\n",
      "2048/2048 [==============================] - 1s 262us/sample - loss: 0.0446 - val_loss: 0.0493\n",
      "Epoch 28/100\n",
      "2048/2048 [==============================] - 1s 257us/sample - loss: 0.0411 - val_loss: 0.0311\n",
      "Epoch 29/100\n",
      "2048/2048 [==============================] - 0s 237us/sample - loss: 0.0314 - val_loss: 0.0555\n",
      "Epoch 30/100\n",
      "2048/2048 [==============================] - 0s 235us/sample - loss: 0.0221 - val_loss: 0.0111\n",
      "Epoch 31/100\n",
      "2048/2048 [==============================] - 0s 238us/sample - loss: 0.0102 - val_loss: 0.0112\n",
      "Epoch 32/100\n",
      "2048/2048 [==============================] - 0s 241us/sample - loss: 0.0072 - val_loss: 0.0062\n",
      "Epoch 33/100\n",
      "2048/2048 [==============================] - 0s 239us/sample - loss: 0.0041 - val_loss: 0.0045\n",
      "Epoch 34/100\n",
      "2048/2048 [==============================] - 1s 245us/sample - loss: 0.0034 - val_loss: 0.0077\n",
      "Epoch 35/100\n",
      "2048/2048 [==============================] - 0s 238us/sample - loss: 0.0034 - val_loss: 0.0035\n",
      "Epoch 36/100\n",
      "2048/2048 [==============================] - 0s 242us/sample - loss: 0.0026 - val_loss: 0.0046\n",
      "Epoch 37/100\n",
      "2048/2048 [==============================] - 1s 247us/sample - loss: 0.0023 - val_loss: 0.0034\n",
      "Epoch 38/100\n",
      "2048/2048 [==============================] - 0s 241us/sample - loss: 0.0020 - val_loss: 0.0029\n",
      "Epoch 39/100\n",
      "2048/2048 [==============================] - 0s 240us/sample - loss: 0.0024 - val_loss: 0.0023\n",
      "Epoch 40/100\n",
      "2048/2048 [==============================] - 0s 238us/sample - loss: 0.0018 - val_loss: 0.0020\n",
      "Epoch 41/100\n",
      "2048/2048 [==============================] - 0s 240us/sample - loss: 0.0016 - val_loss: 0.0018\n",
      "Epoch 42/100\n",
      "2048/2048 [==============================] - 0s 237us/sample - loss: 0.0015 - val_loss: 0.0018\n",
      "Epoch 43/100\n",
      "2048/2048 [==============================] - 0s 243us/sample - loss: 0.0014 - val_loss: 0.0018\n",
      "Epoch 44/100\n",
      "2048/2048 [==============================] - 0s 242us/sample - loss: 0.0013 - val_loss: 0.0022\n",
      "Epoch 45/100\n",
      "2048/2048 [==============================] - 0s 238us/sample - loss: 0.0014 - val_loss: 0.0020\n",
      "Epoch 46/100\n",
      "2048/2048 [==============================] - 0s 241us/sample - loss: 0.0015 - val_loss: 0.0022\n",
      "Epoch 47/100\n",
      "2048/2048 [==============================] - 0s 235us/sample - loss: 0.0012 - val_loss: 0.0014\n",
      "Epoch 48/100\n",
      "2048/2048 [==============================] - 0s 237us/sample - loss: 0.0012 - val_loss: 0.0018\n",
      "Epoch 49/100\n",
      "2048/2048 [==============================] - 0s 238us/sample - loss: 0.0010 - val_loss: 0.0018\n",
      "Epoch 50/100\n",
      "2048/2048 [==============================] - 0s 237us/sample - loss: 0.0012 - val_loss: 0.0013\n",
      "Epoch 51/100\n",
      "2048/2048 [==============================] - 0s 235us/sample - loss: 0.0013 - val_loss: 0.0011\n",
      "Epoch 52/100\n",
      "2048/2048 [==============================] - 0s 241us/sample - loss: 0.0010 - val_loss: 0.0013\n",
      "Epoch 53/100\n",
      "2048/2048 [==============================] - 1s 247us/sample - loss: 9.2446e-04 - val_loss: 9.7206e-04\n",
      "Epoch 54/100\n",
      "2048/2048 [==============================] - 0s 242us/sample - loss: 8.7573e-04 - val_loss: 0.0011\n",
      "Epoch 55/100\n",
      "2048/2048 [==============================] - 0s 243us/sample - loss: 8.9602e-04 - val_loss: 0.0011\n",
      "Epoch 56/100\n",
      "2048/2048 [==============================] - 0s 243us/sample - loss: 9.0512e-04 - val_loss: 9.4963e-04\n",
      "Epoch 57/100\n",
      "2048/2048 [==============================] - 1s 244us/sample - loss: 7.5968e-04 - val_loss: 9.7533e-04\n",
      "Epoch 58/100\n",
      "2048/2048 [==============================] - 0s 237us/sample - loss: 7.5881e-04 - val_loss: 0.0013\n",
      "Epoch 59/100\n",
      "2048/2048 [==============================] - 0s 237us/sample - loss: 7.1834e-04 - val_loss: 0.0018\n",
      "Epoch 60/100\n",
      "2048/2048 [==============================] - 0s 241us/sample - loss: 6.3543e-04 - val_loss: 7.6409e-04\n",
      "Epoch 61/100\n",
      "2048/2048 [==============================] - 0s 243us/sample - loss: 5.6227e-04 - val_loss: 8.9060e-04\n",
      "Epoch 62/100\n",
      "2048/2048 [==============================] - 0s 235us/sample - loss: 7.2504e-04 - val_loss: 8.0280e-04\n",
      "Epoch 63/100\n",
      "2048/2048 [==============================] - 0s 236us/sample - loss: 6.8977e-04 - val_loss: 7.1262e-04\n",
      "Epoch 64/100\n",
      "2048/2048 [==============================] - 0s 239us/sample - loss: 5.7015e-04 - val_loss: 7.8416e-04\n",
      "Epoch 65/100\n",
      "2048/2048 [==============================] - 0s 237us/sample - loss: 5.4150e-04 - val_loss: 7.3185e-04\n",
      "Epoch 66/100\n",
      "2048/2048 [==============================] - 0s 240us/sample - loss: 4.6768e-04 - val_loss: 8.2243e-04\n",
      "Epoch 67/100\n",
      "2048/2048 [==============================] - 0s 242us/sample - loss: 4.7043e-04 - val_loss: 5.5713e-04\n",
      "Epoch 68/100\n",
      "2048/2048 [==============================] - 0s 238us/sample - loss: 6.5211e-04 - val_loss: 6.2263e-04\n",
      "Epoch 69/100\n",
      "2048/2048 [==============================] - 0s 241us/sample - loss: 9.1362e-04 - val_loss: 0.0012\n",
      "Epoch 70/100\n",
      "2048/2048 [==============================] - 1s 248us/sample - loss: 6.6294e-04 - val_loss: 7.3301e-04\n",
      "Epoch 71/100\n",
      "2048/2048 [==============================] - 1s 247us/sample - loss: 4.1689e-04 - val_loss: 4.8655e-04\n",
      "Epoch 72/100\n",
      "2048/2048 [==============================] - 0s 242us/sample - loss: 4.1603e-04 - val_loss: 6.2365e-04\n",
      "Epoch 73/100\n",
      "2048/2048 [==============================] - 0s 243us/sample - loss: 5.6057e-04 - val_loss: 6.0185e-04\n",
      "Epoch 74/100\n",
      "2048/2048 [==============================] - 1s 247us/sample - loss: 3.9353e-04 - val_loss: 6.1975e-04\n",
      "Epoch 75/100\n"
     ]
    },
    {
     "name": "stdout",
     "output_type": "stream",
     "text": [
      "2048/2048 [==============================] - 0s 242us/sample - loss: 5.0146e-04 - val_loss: 6.7365e-04\n",
      "Epoch 76/100\n",
      "2048/2048 [==============================] - 1s 246us/sample - loss: 3.8314e-04 - val_loss: 4.3657e-04\n",
      "Epoch 77/100\n",
      "2048/2048 [==============================] - 0s 240us/sample - loss: 4.7120e-04 - val_loss: 0.0011\n",
      "Epoch 78/100\n",
      "2048/2048 [==============================] - 0s 239us/sample - loss: 4.4991e-04 - val_loss: 5.1085e-04\n",
      "Epoch 79/100\n",
      "2048/2048 [==============================] - 0s 237us/sample - loss: 4.5133e-04 - val_loss: 4.0353e-04\n",
      "Epoch 80/100\n",
      "2048/2048 [==============================] - 0s 239us/sample - loss: 3.8486e-04 - val_loss: 4.8426e-04\n",
      "Epoch 81/100\n",
      "2048/2048 [==============================] - 0s 238us/sample - loss: 5.3493e-04 - val_loss: 3.7655e-04\n",
      "Epoch 82/100\n",
      "2048/2048 [==============================] - 0s 240us/sample - loss: 2.8338e-04 - val_loss: 3.2893e-04\n",
      "Epoch 83/100\n",
      "2048/2048 [==============================] - 0s 236us/sample - loss: 3.8448e-04 - val_loss: 6.4309e-04\n",
      "Epoch 84/100\n",
      "2048/2048 [==============================] - 0s 238us/sample - loss: 3.0958e-04 - val_loss: 3.2389e-04\n",
      "Epoch 85/100\n",
      "2048/2048 [==============================] - 0s 238us/sample - loss: 2.9984e-04 - val_loss: 3.4089e-04\n",
      "Epoch 86/100\n",
      "2048/2048 [==============================] - 0s 237us/sample - loss: 2.8150e-04 - val_loss: 3.8803e-04\n",
      "Epoch 87/100\n",
      "2048/2048 [==============================] - 0s 238us/sample - loss: 3.2893e-04 - val_loss: 3.4566e-04\n",
      "Epoch 88/100\n",
      "2048/2048 [==============================] - 0s 238us/sample - loss: 3.5325e-04 - val_loss: 4.4140e-04\n",
      "Epoch 89/100\n",
      "2048/2048 [==============================] - 0s 238us/sample - loss: 4.1711e-04 - val_loss: 3.0301e-04\n",
      "Epoch 90/100\n",
      "2048/2048 [==============================] - 0s 242us/sample - loss: 4.2054e-04 - val_loss: 7.8174e-04\n",
      "Epoch 91/100\n",
      "2048/2048 [==============================] - 1s 244us/sample - loss: 3.6859e-04 - val_loss: 3.3985e-04\n",
      "Epoch 92/100\n",
      "2048/2048 [==============================] - 0s 243us/sample - loss: 2.9182e-04 - val_loss: 4.6298e-04\n",
      "Epoch 93/100\n",
      "2048/2048 [==============================] - 0s 235us/sample - loss: 3.4768e-04 - val_loss: 3.9504e-04\n",
      "Epoch 94/100\n",
      "2048/2048 [==============================] - 0s 239us/sample - loss: 4.2959e-04 - val_loss: 7.0586e-04\n",
      "Epoch 95/100\n",
      "2048/2048 [==============================] - 0s 236us/sample - loss: 2.9456e-04 - val_loss: 5.4750e-04\n",
      "Epoch 96/100\n",
      "2048/2048 [==============================] - 0s 233us/sample - loss: 4.8370e-04 - val_loss: 5.6383e-04\n",
      "Epoch 97/100\n",
      "2048/2048 [==============================] - 0s 236us/sample - loss: 3.2820e-04 - val_loss: 2.9658e-04\n",
      "Epoch 98/100\n",
      "2048/2048 [==============================] - 0s 241us/sample - loss: 2.3145e-04 - val_loss: 2.9502e-04\n",
      "Epoch 99/100\n",
      "2048/2048 [==============================] - 0s 244us/sample - loss: 2.3628e-04 - val_loss: 2.2500e-04\n",
      "Epoch 100/100\n",
      "2048/2048 [==============================] - 1s 247us/sample - loss: 2.9482e-04 - val_loss: 4.6948e-04\n"
     ]
    }
   ],
   "source": [
    "X = np.array(X)\n",
    "Y = np.array(Y)\n",
    "history = model.fit(X[:2560], Y[:2560], epochs=100, validation_split=0.2)"
   ]
  },
  {
   "cell_type": "markdown",
   "metadata": {},
   "source": [
    "#### 그래프로 비교하기 "
   ]
  },
  {
   "cell_type": "code",
   "execution_count": 10,
   "metadata": {},
   "outputs": [
    {
     "data": {
      "image/png": "[encoded data removed]",
      "text/plain": [
       "<Figure size 432x288 with 1 Axes>"
      ]
     },
     "metadata": {
      "needs_background": "light"
     },
     "output_type": "display_data"
    }
   ],
   "source": [
    "plt.plot(history.history['loss'], 'b-', label='loss')\n",
    "plt.plot(history.history['val_loss'], 'r--', label='val_loss')\n",
    "plt.xlabel('Epoch')\n",
    "plt.legend()\n",
    "plt.show()"
   ]
  },
  {
   "cell_type": "markdown",
   "metadata": {},
   "source": [
    "#### 모델 평가하기"
   ]
  },
  {
   "cell_type": "code",
   "execution_count": 11,
   "metadata": {},
   "outputs": [
    {
     "name": "stdout",
     "output_type": "stream",
     "text": [
      "440/440 [==============================] - 0s 907us/sample - loss: 5.2292e-04\n"
     ]
    },
    {
     "data": {
      "text/plain": [
       "0.0005229192362590269"
      ]
     },
     "execution_count": 11,
     "metadata": {},
     "output_type": "execute_result"
    }
   ],
   "source": [
    "model.evaluate(X[2560:], Y[2560:])"
   ]
  },
  {
   "cell_type": "markdown",
   "metadata": {},
   "source": [
    "#### 예측하고 정확도 측정하기"
   ]
  },
  {
   "cell_type": "code",
   "execution_count": 12,
   "metadata": {},
   "outputs": [
    {
     "name": "stdout",
     "output_type": "stream",
     "text": [
      "0.009417791336498045 \t 0.010211308 \tdiff: 0.0007935162189390433 \t 정답\n",
      "0.6548937886537675 \t 0.67399883 \tdiff: 0.019105044048869257 \t 정답\n",
      "0.5644796207629784 \t 0.5649611 \tdiff: 0.00048145501979746097 \t 정답\n",
      "0.2634345672137859 \t 0.27749836 \tdiff: 0.014063797234761477 \t 정답\n",
      "0.21979869126607546 \t 0.24794164 \tdiff: 0.02814295173357359 \t 정답\n",
      "correctness: 93.18181818181817 %\n"
     ]
    }
   ],
   "source": [
    "prediction = model.predict(X[2560:2560+5])\n",
    "\n",
    "# 5개 테스트 데이터에 대한 예측을 표시합니다.\n",
    "for i in range(5):\n",
    "    print(Y[2560+i], '\\t', prediction[i][0], '\\tdiff:', abs(prediction[i][0] - Y[2560+i]),\"\\t\", (lambda i : \"오답\" if abs(prediction[i][0] - Y[2560+i]) > 0.04 else \"정답\")(i)  )\n",
    "    \n",
    "prediction = model.predict(X[2560:])\n",
    "fail = 0\n",
    "for i in range(len(prediction)):\n",
    "    # 오차가 0.04 이상이면 오답입니다.\n",
    "    if abs(prediction[i][0] - Y[2560+i]) > 0.04:\n",
    "        fail += 1\n",
    "print('correctness:', (440 - fail) / 440 * 100, '%')"
   ]
  }
 ],
 "metadata": {
  "kernelspec": {
   "display_name": "Python 3",
   "language": "python",
   "name": "python3"
  },
  "language_info": {
   "codemirror_mode": {
    "name": "ipython",
    "version": 3
   },
   "file_extension": ".py",
   "mimetype": "text/x-python",
   "name": "python",
   "nbconvert_exporter": "python",
   "pygments_lexer": "ipython3",
   "version": "3.7.6"
  }
 },
 "nbformat": 4,
 "nbformat_minor": 4
}
