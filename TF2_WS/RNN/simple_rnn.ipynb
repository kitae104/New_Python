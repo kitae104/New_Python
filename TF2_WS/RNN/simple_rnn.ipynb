{
 "cells": [
  {
   "cell_type": "markdown",
   "metadata": {},
   "source": [
    "# SimpleRNN\n",
    "* 현재의 답을 얻기위해 과거의 정보를 사용하는 방식 \n",
    "* 활성화 함수 : tanh / relu 사용\n",
    "* tanh 함수 : 실수를 입력받아 -1 ~ 1 사이의 출력값을 반환하는 활성화 함수\n",
    "* __장기의존성(Long-Term Dependency) 문제__ : 입력 데이터가 길어질수록, 즉 테이터의 타임스텝이 커질수록 학습 능력이 떨어진다. \n",
    "    * 입력 데이터와 출력 사이의 길이가 멀어질 수록 연관 관계가 적어진다. "
   ]
  },
  {
   "cell_type": "markdown",
   "metadata": {},
   "source": [
    "## 시퀀스 예측 모델 만들기 "
   ]
  },
  {
   "cell_type": "markdown",
   "metadata": {},
   "source": [
    "#### 시퀀스 예측 데이터 생성"
   ]
  },
  {
   "cell_type": "code",
   "execution_count": 3,
   "metadata": {},
   "outputs": [],
   "source": [
    "import tensorflow as tf\n",
    "import numpy as np "
   ]
  },
  {
   "cell_type": "markdown",
   "metadata": {},
   "source": [
    "#### 시퀀스 예측 데이터 생성\n",
    "* 위에서 구한 시퀀스의 숫자들을 각각 10으로 나눈 다음 저장합니다.\n",
    "* SimpleRNN 에 각 타임스텝에 하나씩 숫자가 들어가기 때문에 여기서도 하나씩 분리해서 배열에 저장합니다."
   ]
  },
  {
   "cell_type": "code",
   "execution_count": 14,
   "metadata": {},
   "outputs": [],
   "source": [
    "X = []   # 학습 데이터 \n",
    "Y = []   # 정답 \n",
    "\n",
    "for i in range(6):\n",
    "    lst = list(range(i, i+4))\n",
    "    \n",
    "    X.append(list(map(lambda c : [c/10], lst)))  # 데이터를 추출해서 10으로 나누고 그 값을 리스트로 만들어 추가함 \n",
    "    Y.append((i+4)/10)                            # 정답 \n",
    "\n",
    "# 행렬로 변경 \n",
    "X = np.array(X)      \n",
    "Y = np.array(Y)"
   ]
  },
  {
   "cell_type": "markdown",
   "metadata": {},
   "source": [
    "#### 시퀀스 예측 모델 정의\n",
    "* input_shape=[4, 1] : 4는 timesteps, 1은 input_dim을 나타냄.\n",
    "* timesteps : 순환 신경망이 입력에 대해 계산을 반복하는 횟수 \n",
    "* input_dim : 입력 벡터의 크기 "
   ]
  },
  {
   "cell_type": "code",
   "execution_count": 16,
   "metadata": {},
   "outputs": [
    {
     "name": "stdout",
     "output_type": "stream",
     "text": [
      "Model: \"sequential_1\"\n",
      "_________________________________________________________________\n",
      "Layer (type)                 Output Shape              Param #   \n",
      "=================================================================\n",
      "simple_rnn_1 (SimpleRNN)     (None, 10)                120       \n",
      "_________________________________________________________________\n",
      "dense_1 (Dense)              (None, 1)                 11        \n",
      "=================================================================\n",
      "Total params: 131\n",
      "Trainable params: 131\n",
      "Non-trainable params: 0\n",
      "_________________________________________________________________\n"
     ]
    }
   ],
   "source": [
    "model = tf.keras.models.Sequential([\n",
    "    tf.keras.layers.SimpleRNN(units = 10, return_sequences=False, input_shape=[4, 1]),\n",
    "    tf.keras.layers.Dense(units=1)\n",
    "])\n",
    "\n",
    "# 모델 컴파일 \n",
    "model.compile(optimizer='adam', loss='mse')\n",
    "\n",
    "# 모델 확인 \n",
    "model.summary()"
   ]
  },
  {
   "cell_type": "markdown",
   "metadata": {},
   "source": [
    "#### 네트워크 훈련 "
   ]
  },
  {
   "cell_type": "code",
   "execution_count": 17,
   "metadata": {},
   "outputs": [
    {
     "data": {
      "text/plain": [
       "<tensorflow.python.keras.callbacks.History at 0x1831a8b4f88>"
      ]
     },
     "execution_count": 17,
     "metadata": {},
     "output_type": "execute_result"
    }
   ],
   "source": [
    "model.fit(X, Y, epochs=100, verbose=0)"
   ]
  },
  {
   "cell_type": "markdown",
   "metadata": {},
   "source": [
    "#### 예측 확인 "
   ]
  },
  {
   "cell_type": "code",
   "execution_count": 18,
   "metadata": {},
   "outputs": [
    {
     "data": {
      "text/plain": [
       "array([[0.3797544 ],\n",
       "       [0.5198148 ],\n",
       "       [0.63566065],\n",
       "       [0.7263008 ],\n",
       "       [0.79400545],\n",
       "       [0.84218764]], dtype=float32)"
      ]
     },
     "execution_count": 18,
     "metadata": {},
     "output_type": "execute_result"
    }
   ],
   "source": [
    "model.predict(X)"
   ]
  },
  {
   "cell_type": "markdown",
   "metadata": {},
   "source": [
    "#### 학습되지 않은 시퀀스에 대한 예측 결과"
   ]
  },
  {
   "cell_type": "code",
   "execution_count": 19,
   "metadata": {},
   "outputs": [
    {
     "name": "stdout",
     "output_type": "stream",
     "text": [
      "[[0.87426335]]\n",
      "[[0.2219337]]\n"
     ]
    }
   ],
   "source": [
    "print(model.predict(np.array([[[0.6],[0.7],[0.8],[0.9]]])))\n",
    "print(model.predict(np.array([[[-0.1],[0.0],[0.1],[0.2]]])))"
   ]
  },
  {
   "cell_type": "code",
   "execution_count": null,
   "metadata": {},
   "outputs": [],
   "source": []
  }
 ],
 "metadata": {
  "kernelspec": {
   "display_name": "Python 3",
   "language": "python",
   "name": "python3"
  },
  "language_info": {
   "codemirror_mode": {
    "name": "ipython",
    "version": 3
   },
   "file_extension": ".py",
   "mimetype": "text/x-python",
   "name": "python",
   "nbconvert_exporter": "python",
   "pygments_lexer": "ipython3",
   "version": "3.7.6"
  }
 },
 "nbformat": 4,
 "nbformat_minor": 4
}
