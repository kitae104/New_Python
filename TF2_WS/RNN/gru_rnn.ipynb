{
 "cells": [
  {
   "cell_type": "markdown",
   "metadata": {},
   "source": [
    "# GRU 레이어 사용하기 "
   ]
  },
  {
   "cell_type": "markdown",
   "metadata": {},
   "source": [
    "#### 데이터 생성"
   ]
  },
  {
   "cell_type": "code",
   "execution_count": 1,
   "metadata": {},
   "outputs": [],
   "source": [
    "import tensorflow as tf\n",
    "import numpy as np\n",
    "import matplotlib.pyplot as plt"
   ]
  },
  {
   "cell_type": "markdown",
   "metadata": {},
   "source": [
    "* np.random.rand(100) : 0~1 사이의 랜덤한 숫자 100 개를 만듭니다.\n",
    "* np.random.choice(100, 2, replace=False) : 100중 2개를 추출하는데 중복없이 추출\n",
    "* np.zeros(100) : 100개의 0을 가진 배열 생성\n",
    "* zeros[idx] = 1 : 리스트중에 마킹 인덱스(idx)가 저장된 부분만 1로 설정해 원-핫 인코딩 벡터를 만듭니다.\n",
    "* list(zip(zeros, lst)) : list(zip([1, 2, 3], [4, 5, 6])) --> [(1, 4), (2, 5), (3, 6)]\n",
    "* np.prod(lst[idx]) : 리스트의 각 항목 곱하기 수행 b = array([1, 2, 3, 4]) --> np.prod(b) # 123*4 --> 24m"
   ]
  },
  {
   "cell_type": "code",
   "execution_count": 2,
   "metadata": {},
   "outputs": [
    {
     "name": "stdout",
     "output_type": "stream",
     "text": [
      "100\n",
      "[[0.         0.41756098]\n",
      " [0.         0.09956395]\n",
      " [0.         0.32879244]\n",
      " [0.         0.64176105]\n",
      " [0.         0.26842916]\n",
      " [0.         0.13842666]\n",
      " [0.         0.8944894 ]\n",
      " [0.         0.62032686]\n",
      " [0.         0.38305916]\n",
      " [0.         0.68130043]\n",
      " [0.         0.34426264]\n",
      " [0.         0.43402292]\n",
      " [0.         0.52795718]\n",
      " [0.         0.51890523]\n",
      " [0.         0.06847761]\n",
      " [0.         0.64590954]\n",
      " [0.         0.19327971]\n",
      " [0.         0.7546314 ]\n",
      " [0.         0.74800374]\n",
      " [0.         0.20723881]\n",
      " [0.         0.1875694 ]\n",
      " [0.         0.21445341]\n",
      " [0.         0.88867603]\n",
      " [0.         0.11633233]\n",
      " [0.         0.69789233]\n",
      " [0.         0.77930922]\n",
      " [0.         0.1322977 ]\n",
      " [1.         0.79006155]\n",
      " [0.         0.09808603]\n",
      " [0.         0.57595428]\n",
      " [0.         0.56373601]\n",
      " [0.         0.95534903]\n",
      " [0.         0.28024304]\n",
      " [0.         0.8767781 ]\n",
      " [0.         0.37387341]\n",
      " [0.         0.3774568 ]\n",
      " [0.         0.86854563]\n",
      " [0.         0.9698596 ]\n",
      " [0.         0.02918907]\n",
      " [0.         0.12338232]\n",
      " [0.         0.24455709]\n",
      " [0.         0.44288364]\n",
      " [0.         0.19584242]\n",
      " [0.         0.23040661]\n",
      " [0.         0.27608704]\n",
      " [0.         0.83192049]\n",
      " [0.         0.56607226]\n",
      " [0.         0.4578265 ]\n",
      " [0.         0.24426381]\n",
      " [0.         0.19893562]\n",
      " [0.         0.20359167]\n",
      " [0.         0.842199  ]\n",
      " [0.         0.15350467]\n",
      " [0.         0.92165309]\n",
      " [0.         0.46310773]\n",
      " [0.         0.05032561]\n",
      " [0.         0.34075966]\n",
      " [0.         0.63889177]\n",
      " [0.         0.10268394]\n",
      " [0.         0.55218722]\n",
      " [0.         0.69381695]\n",
      " [0.         0.13420875]\n",
      " [0.         0.95174792]\n",
      " [0.         0.06389247]\n",
      " [0.         0.987519  ]\n",
      " [0.         0.46086363]\n",
      " [0.         0.96448544]\n",
      " [0.         0.1605774 ]\n",
      " [0.         0.26341547]\n",
      " [0.         0.71875609]\n",
      " [0.         0.97150339]\n",
      " [0.         0.75408598]\n",
      " [0.         0.74808069]\n",
      " [0.         0.87735297]\n",
      " [0.         0.53365649]\n",
      " [0.         0.99670394]\n",
      " [0.         0.73538069]\n",
      " [0.         0.19058076]\n",
      " [0.         0.81467058]\n",
      " [0.         0.61118476]\n",
      " [0.         0.54469008]\n",
      " [0.         0.79593211]\n",
      " [0.         0.7443749 ]\n",
      " [0.         0.49538036]\n",
      " [0.         0.37010794]\n",
      " [0.         0.61181172]\n",
      " [0.         0.64493008]\n",
      " [0.         0.05069921]\n",
      " [0.         0.63403182]\n",
      " [0.         0.7899798 ]\n",
      " [0.         0.30741372]\n",
      " [0.         0.11503851]\n",
      " [0.         0.5937955 ]\n",
      " [0.         0.23827299]\n",
      " [0.         0.03395898]\n",
      " [0.         0.03206698]\n",
      " [1.         0.45367173]\n",
      " [0.         0.86337271]\n",
      " [0.         0.68764601]\n",
      " [0.         0.15882942]]\n",
      "0.35842858853685006\n"
     ]
    }
   ],
   "source": [
    "X = []   # 입력 데이터 리스트 \n",
    "Y = []   # 결과 리스트 \n",
    "\n",
    "for i in range(3000):\n",
    "    lst = np.random.rand(100)    \n",
    "    idx = np.random.choice(100, 2, replace=False)  \n",
    "    zeros = np.zeros(100)  \n",
    "    zeros[idx] = 1  \n",
    "    \n",
    "    X.append(np.array(list(zip(zeros, lst))))  \n",
    "    Y.append(np.prod(lst[idx]))   \n",
    "\n",
    "print(len(X[0]))\n",
    "print(X[0])\n",
    "print(Y[0])"
   ]
  },
  {
   "cell_type": "markdown",
   "metadata": {},
   "source": [
    "#### GRU 레이어를 사용한 곱셈 문제 모델 정의"
   ]
  },
  {
   "cell_type": "code",
   "execution_count": 3,
   "metadata": {},
   "outputs": [
    {
     "name": "stdout",
     "output_type": "stream",
     "text": [
      "Model: \"sequential\"\n",
      "_________________________________________________________________\n",
      "Layer (type)                 Output Shape              Param #   \n",
      "=================================================================\n",
      "gru (GRU)                    (None, 100, 30)           3060      \n",
      "_________________________________________________________________\n",
      "gru_1 (GRU)                  (None, 30)                5580      \n",
      "_________________________________________________________________\n",
      "dense (Dense)                (None, 1)                 31        \n",
      "=================================================================\n",
      "Total params: 8,671\n",
      "Trainable params: 8,671\n",
      "Non-trainable params: 0\n",
      "_________________________________________________________________\n"
     ]
    }
   ],
   "source": [
    "model = tf.keras.Sequential([\n",
    "    tf.keras.layers.GRU(units=30, return_sequences=True, input_shape=[100,2]),\n",
    "    tf.keras.layers.GRU(units=30),\n",
    "    tf.keras.layers.Dense(1)\n",
    "])\n",
    "\n",
    "model.compile(optimizer='adam', loss='mse')\n",
    "model.summary()"
   ]
  },
  {
   "cell_type": "markdown",
   "metadata": {},
   "source": [
    "#### GRU 네트워크 학습"
   ]
  },
  {
   "cell_type": "code",
   "execution_count": 4,
   "metadata": {},
   "outputs": [
    {
     "name": "stdout",
     "output_type": "stream",
     "text": [
      "Train on 2048 samples, validate on 512 samples\n",
      "Epoch 1/100\n",
      "2048/2048 [==============================] - 3s 2ms/sample - loss: 0.0505 - val_loss: 0.0486\n",
      "Epoch 2/100\n",
      "2048/2048 [==============================] - 0s 220us/sample - loss: 0.0484 - val_loss: 0.0475\n",
      "Epoch 3/100\n",
      "2048/2048 [==============================] - 0s 223us/sample - loss: 0.0480 - val_loss: 0.0473\n",
      "Epoch 4/100\n",
      "2048/2048 [==============================] - 0s 228us/sample - loss: 0.0484 - val_loss: 0.0481\n",
      "Epoch 5/100\n",
      "2048/2048 [==============================] - 0s 223us/sample - loss: 0.0485 - val_loss: 0.0481\n",
      "Epoch 6/100\n",
      "2048/2048 [==============================] - 0s 225us/sample - loss: 0.0482 - val_loss: 0.0475\n",
      "Epoch 7/100\n",
      "2048/2048 [==============================] - 0s 224us/sample - loss: 0.0480 - val_loss: 0.0471\n",
      "Epoch 8/100\n",
      "2048/2048 [==============================] - 0s 222us/sample - loss: 0.0479 - val_loss: 0.0472\n",
      "Epoch 9/100\n",
      "2048/2048 [==============================] - 0s 224us/sample - loss: 0.0487 - val_loss: 0.0471\n",
      "Epoch 10/100\n",
      "2048/2048 [==============================] - 0s 222us/sample - loss: 0.0476 - val_loss: 0.0473\n",
      "Epoch 11/100\n",
      "2048/2048 [==============================] - 0s 223us/sample - loss: 0.0478 - val_loss: 0.0473\n",
      "Epoch 12/100\n",
      "2048/2048 [==============================] - 0s 230us/sample - loss: 0.0478 - val_loss: 0.0474\n",
      "Epoch 13/100\n",
      "2048/2048 [==============================] - 0s 231us/sample - loss: 0.0478 - val_loss: 0.0468\n",
      "Epoch 14/100\n",
      "2048/2048 [==============================] - 0s 227us/sample - loss: 0.0476 - val_loss: 0.0470\n",
      "Epoch 15/100\n",
      "2048/2048 [==============================] - 0s 224us/sample - loss: 0.0474 - val_loss: 0.0469\n",
      "Epoch 16/100\n",
      "2048/2048 [==============================] - 0s 227us/sample - loss: 0.0475 - val_loss: 0.0471\n",
      "Epoch 17/100\n",
      "2048/2048 [==============================] - 0s 225us/sample - loss: 0.0471 - val_loss: 0.0460\n",
      "Epoch 18/100\n",
      "2048/2048 [==============================] - 0s 226us/sample - loss: 0.0470 - val_loss: 0.0456\n",
      "Epoch 19/100\n",
      "2048/2048 [==============================] - 0s 224us/sample - loss: 0.0442 - val_loss: 0.0255\n",
      "Epoch 20/100\n",
      "2048/2048 [==============================] - 0s 225us/sample - loss: 0.0076 - val_loss: 0.0033\n",
      "Epoch 21/100\n",
      "2048/2048 [==============================] - 0s 223us/sample - loss: 0.0026 - val_loss: 0.0017\n",
      "Epoch 22/100\n",
      "2048/2048 [==============================] - 0s 223us/sample - loss: 0.0021 - val_loss: 0.0015\n",
      "Epoch 23/100\n",
      "2048/2048 [==============================] - 0s 222us/sample - loss: 0.0015 - val_loss: 0.0012\n",
      "Epoch 24/100\n",
      "2048/2048 [==============================] - 0s 228us/sample - loss: 0.0014 - val_loss: 0.0013\n",
      "Epoch 25/100\n",
      "2048/2048 [==============================] - 0s 228us/sample - loss: 0.0013 - val_loss: 0.0011\n",
      "Epoch 26/100\n",
      "2048/2048 [==============================] - 0s 224us/sample - loss: 0.0011 - val_loss: 0.0010\n",
      "Epoch 27/100\n",
      "2048/2048 [==============================] - 0s 226us/sample - loss: 0.0010 - val_loss: 8.3041e-04\n",
      "Epoch 28/100\n",
      "2048/2048 [==============================] - 0s 222us/sample - loss: 0.0012 - val_loss: 0.0019\n",
      "Epoch 29/100\n",
      "2048/2048 [==============================] - 0s 223us/sample - loss: 0.0011 - val_loss: 0.0010\n",
      "Epoch 30/100\n",
      "2048/2048 [==============================] - 0s 226us/sample - loss: 8.3464e-04 - val_loss: 7.1787e-04\n",
      "Epoch 31/100\n",
      "2048/2048 [==============================] - 0s 221us/sample - loss: 8.9075e-04 - val_loss: 7.3959e-04\n",
      "Epoch 32/100\n",
      "2048/2048 [==============================] - 0s 222us/sample - loss: 7.7395e-04 - val_loss: 7.1015e-04\n",
      "Epoch 33/100\n",
      "2048/2048 [==============================] - 0s 224us/sample - loss: 7.1550e-04 - val_loss: 8.5966e-04\n",
      "Epoch 34/100\n",
      "2048/2048 [==============================] - 0s 223us/sample - loss: 7.7196e-04 - val_loss: 7.6454e-04\n",
      "Epoch 35/100\n",
      "2048/2048 [==============================] - 0s 225us/sample - loss: 7.1415e-04 - val_loss: 6.3713e-04\n",
      "Epoch 36/100\n",
      "2048/2048 [==============================] - 0s 222us/sample - loss: 7.1977e-04 - val_loss: 6.5540e-04\n",
      "Epoch 37/100\n",
      "2048/2048 [==============================] - 0s 223us/sample - loss: 6.2185e-04 - val_loss: 5.8982e-04\n",
      "Epoch 38/100\n",
      "2048/2048 [==============================] - 0s 225us/sample - loss: 6.1793e-04 - val_loss: 5.1916e-04\n",
      "Epoch 39/100\n",
      "2048/2048 [==============================] - 0s 226us/sample - loss: 5.9984e-04 - val_loss: 6.3555e-04\n",
      "Epoch 40/100\n",
      "2048/2048 [==============================] - 0s 224us/sample - loss: 6.3567e-04 - val_loss: 4.9106e-04\n",
      "Epoch 41/100\n",
      "2048/2048 [==============================] - 0s 225us/sample - loss: 5.2347e-04 - val_loss: 4.3675e-04\n",
      "Epoch 42/100\n",
      "2048/2048 [==============================] - 0s 224us/sample - loss: 5.5307e-04 - val_loss: 4.5710e-04\n",
      "Epoch 43/100\n",
      "2048/2048 [==============================] - 0s 226us/sample - loss: 4.8366e-04 - val_loss: 4.0431e-04\n",
      "Epoch 44/100\n",
      "2048/2048 [==============================] - 0s 223us/sample - loss: 4.5731e-04 - val_loss: 3.8610e-04\n",
      "Epoch 45/100\n",
      "2048/2048 [==============================] - 0s 226us/sample - loss: 4.5624e-04 - val_loss: 3.8380e-04\n",
      "Epoch 46/100\n",
      "2048/2048 [==============================] - 0s 224us/sample - loss: 4.4299e-04 - val_loss: 8.2367e-04\n",
      "Epoch 47/100\n",
      "2048/2048 [==============================] - 0s 224us/sample - loss: 5.3849e-04 - val_loss: 3.9451e-04\n",
      "Epoch 48/100\n",
      "2048/2048 [==============================] - 0s 225us/sample - loss: 4.4949e-04 - val_loss: 3.6288e-04\n",
      "Epoch 49/100\n",
      "2048/2048 [==============================] - 0s 224us/sample - loss: 4.0349e-04 - val_loss: 4.0463e-04\n",
      "Epoch 50/100\n",
      "2048/2048 [==============================] - 0s 226us/sample - loss: 4.5028e-04 - val_loss: 7.7813e-04\n",
      "Epoch 51/100\n",
      "2048/2048 [==============================] - 0s 223us/sample - loss: 4.6253e-04 - val_loss: 4.3946e-04\n",
      "Epoch 52/100\n",
      "2048/2048 [==============================] - 0s 225us/sample - loss: 3.5826e-04 - val_loss: 2.8944e-04\n",
      "Epoch 53/100\n",
      "2048/2048 [==============================] - 0s 223us/sample - loss: 3.6776e-04 - val_loss: 3.1924e-04\n",
      "Epoch 54/100\n",
      "2048/2048 [==============================] - 0s 221us/sample - loss: 3.6850e-04 - val_loss: 2.8390e-04\n",
      "Epoch 55/100\n",
      "2048/2048 [==============================] - 0s 222us/sample - loss: 2.9925e-04 - val_loss: 3.3801e-04\n",
      "Epoch 56/100\n",
      "2048/2048 [==============================] - 0s 227us/sample - loss: 3.2710e-04 - val_loss: 3.7623e-04\n",
      "Epoch 57/100\n",
      "2048/2048 [==============================] - 0s 224us/sample - loss: 3.1543e-04 - val_loss: 2.4908e-04\n",
      "Epoch 58/100\n",
      "2048/2048 [==============================] - 0s 227us/sample - loss: 2.9289e-04 - val_loss: 2.8329e-04\n",
      "Epoch 59/100\n",
      "2048/2048 [==============================] - 0s 225us/sample - loss: 3.0280e-04 - val_loss: 2.8289e-04\n",
      "Epoch 60/100\n",
      "2048/2048 [==============================] - 0s 224us/sample - loss: 3.2312e-04 - val_loss: 2.2880e-04\n",
      "Epoch 61/100\n",
      "2048/2048 [==============================] - 0s 226us/sample - loss: 3.2836e-04 - val_loss: 2.4796e-04\n",
      "Epoch 62/100\n",
      "2048/2048 [==============================] - 0s 224us/sample - loss: 2.6031e-04 - val_loss: 3.1465e-04\n",
      "Epoch 63/100\n",
      "2048/2048 [==============================] - 0s 224us/sample - loss: 2.9968e-04 - val_loss: 2.5598e-04\n",
      "Epoch 64/100\n",
      "2048/2048 [==============================] - 0s 223us/sample - loss: 2.6885e-04 - val_loss: 2.4767e-04\n",
      "Epoch 65/100\n",
      "2048/2048 [==============================] - 0s 223us/sample - loss: 2.8480e-04 - val_loss: 2.1467e-04\n",
      "Epoch 66/100\n",
      "2048/2048 [==============================] - 0s 220us/sample - loss: 2.3692e-04 - val_loss: 3.1747e-04\n",
      "Epoch 67/100\n",
      "2048/2048 [==============================] - 0s 223us/sample - loss: 2.6789e-04 - val_loss: 2.1076e-04\n",
      "Epoch 68/100\n",
      "2048/2048 [==============================] - 0s 224us/sample - loss: 2.6692e-04 - val_loss: 6.9230e-04\n",
      "Epoch 69/100\n",
      "2048/2048 [==============================] - 0s 225us/sample - loss: 2.8591e-04 - val_loss: 1.8832e-04\n",
      "Epoch 70/100\n",
      "2048/2048 [==============================] - 0s 224us/sample - loss: 2.2232e-04 - val_loss: 2.2226e-04\n",
      "Epoch 71/100\n",
      "2048/2048 [==============================] - 0s 222us/sample - loss: 2.8165e-04 - val_loss: 1.7507e-04\n",
      "Epoch 72/100\n",
      "2048/2048 [==============================] - 0s 223us/sample - loss: 2.2318e-04 - val_loss: 1.7834e-04\n",
      "Epoch 73/100\n"
     ]
    },
    {
     "name": "stdout",
     "output_type": "stream",
     "text": [
      "2048/2048 [==============================] - 0s 221us/sample - loss: 2.1471e-04 - val_loss: 1.9245e-04\n",
      "Epoch 74/100\n",
      "2048/2048 [==============================] - 0s 224us/sample - loss: 2.3475e-04 - val_loss: 4.5893e-04\n",
      "Epoch 75/100\n",
      "2048/2048 [==============================] - 0s 223us/sample - loss: 2.9003e-04 - val_loss: 2.6799e-04\n",
      "Epoch 76/100\n",
      "2048/2048 [==============================] - 0s 225us/sample - loss: 2.2809e-04 - val_loss: 1.7746e-04\n",
      "Epoch 77/100\n",
      "2048/2048 [==============================] - 0s 222us/sample - loss: 1.8275e-04 - val_loss: 1.5493e-04\n",
      "Epoch 78/100\n",
      "2048/2048 [==============================] - 0s 224us/sample - loss: 1.7064e-04 - val_loss: 1.5257e-04\n",
      "Epoch 79/100\n",
      "2048/2048 [==============================] - 0s 225us/sample - loss: 1.9514e-04 - val_loss: 2.0901e-04\n",
      "Epoch 80/100\n",
      "2048/2048 [==============================] - 0s 224us/sample - loss: 2.1328e-04 - val_loss: 1.9041e-04\n",
      "Epoch 81/100\n",
      "2048/2048 [==============================] - 0s 225us/sample - loss: 1.5972e-04 - val_loss: 1.5140e-04\n",
      "Epoch 82/100\n",
      "2048/2048 [==============================] - 0s 224us/sample - loss: 1.7101e-04 - val_loss: 1.3795e-04\n",
      "Epoch 83/100\n",
      "2048/2048 [==============================] - 0s 224us/sample - loss: 1.6045e-04 - val_loss: 1.5571e-04\n",
      "Epoch 84/100\n",
      "2048/2048 [==============================] - 0s 224us/sample - loss: 1.8270e-04 - val_loss: 1.9778e-04\n",
      "Epoch 85/100\n",
      "2048/2048 [==============================] - 0s 223us/sample - loss: 1.8628e-04 - val_loss: 2.0188e-04\n",
      "Epoch 86/100\n",
      "2048/2048 [==============================] - 0s 224us/sample - loss: 1.6895e-04 - val_loss: 2.9246e-04\n",
      "Epoch 87/100\n",
      "2048/2048 [==============================] - 0s 223us/sample - loss: 1.8871e-04 - val_loss: 1.9135e-04\n",
      "Epoch 88/100\n",
      "2048/2048 [==============================] - 0s 222us/sample - loss: 1.8069e-04 - val_loss: 1.4230e-04\n",
      "Epoch 89/100\n",
      "2048/2048 [==============================] - 0s 222us/sample - loss: 1.4598e-04 - val_loss: 1.6099e-04\n",
      "Epoch 90/100\n",
      "2048/2048 [==============================] - 0s 221us/sample - loss: 1.4909e-04 - val_loss: 1.5258e-04\n",
      "Epoch 91/100\n",
      "2048/2048 [==============================] - 0s 224us/sample - loss: 1.3952e-04 - val_loss: 1.7376e-04\n",
      "Epoch 92/100\n",
      "2048/2048 [==============================] - 0s 226us/sample - loss: 1.4361e-04 - val_loss: 1.5192e-04\n",
      "Epoch 93/100\n",
      "2048/2048 [==============================] - 0s 223us/sample - loss: 1.4680e-04 - val_loss: 1.4276e-04\n",
      "Epoch 94/100\n",
      "2048/2048 [==============================] - 0s 226us/sample - loss: 1.8699e-04 - val_loss: 2.9175e-04\n",
      "Epoch 95/100\n",
      "2048/2048 [==============================] - 0s 223us/sample - loss: 1.7992e-04 - val_loss: 5.3784e-04\n",
      "Epoch 96/100\n",
      "2048/2048 [==============================] - 0s 228us/sample - loss: 1.9286e-04 - val_loss: 1.9165e-04\n",
      "Epoch 97/100\n",
      "2048/2048 [==============================] - 0s 225us/sample - loss: 1.9748e-04 - val_loss: 1.2929e-04\n",
      "Epoch 98/100\n",
      "2048/2048 [==============================] - 0s 225us/sample - loss: 1.7077e-04 - val_loss: 2.5148e-04\n",
      "Epoch 99/100\n",
      "2048/2048 [==============================] - 0s 224us/sample - loss: 1.5781e-04 - val_loss: 2.9751e-04\n",
      "Epoch 100/100\n",
      "2048/2048 [==============================] - 0s 227us/sample - loss: 1.5823e-04 - val_loss: 1.4006e-04\n"
     ]
    }
   ],
   "source": [
    "X = np.array(X)\n",
    "Y = np.array(Y)\n",
    "history = model.fit(X[:2560], Y[:2560], epochs=100, validation_split=0.2)"
   ]
  },
  {
   "cell_type": "markdown",
   "metadata": {},
   "source": [
    "#### 그래프로 비교하기 "
   ]
  },
  {
   "cell_type": "code",
   "execution_count": 5,
   "metadata": {},
   "outputs": [
    {
     "data": {
      "image/png": "[encoded data removed]",
      "text/plain": [
       "<Figure size 432x288 with 1 Axes>"
      ]
     },
     "metadata": {
      "needs_background": "light"
     },
     "output_type": "display_data"
    }
   ],
   "source": [
    "plt.plot(history.history['loss'], 'b-', label='loss')\n",
    "plt.plot(history.history['val_loss'], 'r--', label='val_loss')\n",
    "plt.xlabel('Epoch')\n",
    "plt.legend()\n",
    "plt.show()"
   ]
  },
  {
   "cell_type": "markdown",
   "metadata": {},
   "source": [
    "#### 모델 평가하기"
   ]
  },
  {
   "cell_type": "code",
   "execution_count": 6,
   "metadata": {},
   "outputs": [
    {
     "name": "stdout",
     "output_type": "stream",
     "text": [
      "440/440 [==============================] - 0s 841us/sample - loss: 1.6736e-04\n"
     ]
    },
    {
     "data": {
      "text/plain": [
       "0.0001673627314051952"
      ]
     },
     "execution_count": 6,
     "metadata": {},
     "output_type": "execute_result"
    }
   ],
   "source": [
    "model.evaluate(X[2560:], Y[2560:])"
   ]
  },
  {
   "cell_type": "markdown",
   "metadata": {},
   "source": [
    "#### 예측하고 정확도 측정하기"
   ]
  },
  {
   "cell_type": "code",
   "execution_count": 7,
   "metadata": {},
   "outputs": [
    {
     "name": "stdout",
     "output_type": "stream",
     "text": [
      "0.17555552034565405 \t 0.16293754 \tdiff: 0.012617983509983582 \t 정답\n",
      "0.19768719414968244 \t 0.18540321 \tdiff: 0.012283981244752329 \t 정답\n",
      "0.15216611782430678 \t 0.14741081 \tdiff: 0.004755307830562883 \t 정답\n",
      "0.24321189653244973 \t 0.23448738 \tdiff: 0.008724511974725735 \t 정답\n",
      "0.33314158628776325 \t 0.3301228 \tdiff: 0.003018787606504092 \t 정답\n",
      "correctness: 97.95454545454545 %\n"
     ]
    }
   ],
   "source": [
    "prediction = model.predict(X[2560:2560+5])\n",
    "\n",
    "# 5개 테스트 데이터에 대한 예측을 표시합니다.\n",
    "for i in range(5):\n",
    "    print(Y[2560+i], '\\t', prediction[i][0], '\\tdiff:', abs(prediction[i][0] - Y[2560+i]),\"\\t\", (lambda i : \"오답\" if abs(prediction[i][0] - Y[2560+i]) > 0.04 else \"정답\")(i)  )\n",
    "    \n",
    "prediction = model.predict(X[2560:])\n",
    "fail = 0\n",
    "for i in range(len(prediction)):\n",
    "    # 오차가 0.04 이상이면 오답입니다.\n",
    "    if abs(prediction[i][0] - Y[2560+i]) > 0.04:\n",
    "        fail += 1\n",
    "print('correctness:', (440 - fail) / 440 * 100, '%')"
   ]
  },
  {
   "cell_type": "markdown",
   "metadata": {},
   "source": [
    "* 정확도 97.9 %란 상당히 높은 성능을 보인다."
   ]
  }
 ],
 "metadata": {
  "kernelspec": {
   "display_name": "Python 3",
   "language": "python",
   "name": "python3"
  },
  "language_info": {
   "codemirror_mode": {
    "name": "ipython",
    "version": 3
   },
   "file_extension": ".py",
   "mimetype": "text/x-python",
   "name": "python",
   "nbconvert_exporter": "python",
   "pygments_lexer": "ipython3",
   "version": "3.7.6"
  }
 },
 "nbformat": 4,
 "nbformat_minor": 4
}
