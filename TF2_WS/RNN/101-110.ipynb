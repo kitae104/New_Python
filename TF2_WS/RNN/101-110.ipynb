{
 "cells": [
  {
   "cell_type": "code",
   "execution_count": 1,
   "metadata": {},
   "outputs": [],
   "source": [
    "from tensorflow.keras.models import Sequential\n",
    "from tensorflow.keras.layers import Dense\n",
    "import numpy as np "
   ]
  },
  {
   "cell_type": "code",
   "execution_count": 2,
   "metadata": {},
   "outputs": [],
   "source": [
    "x_train = np.array([1,2,3,4,5,6,7,8,9,10])\n",
    "y_train = np.array([1,2,3,4,5,6,7,8,9,10])\n",
    "x_test = np.array([101,102,103,104,105,106,107,108,109,110])\n",
    "y_test = np.array([101,102,103,104,105,106,107,108,109,110])"
   ]
  },
  {
   "cell_type": "code",
   "execution_count": 3,
   "metadata": {},
   "outputs": [
    {
     "name": "stdout",
     "output_type": "stream",
     "text": [
      "Model: \"sequential\"\n",
      "_________________________________________________________________\n",
      "Layer (type)                 Output Shape              Param #   \n",
      "=================================================================\n",
      "dense (Dense)                (None, 5)                 10        \n",
      "_________________________________________________________________\n",
      "dense_1 (Dense)              (None, 3)                 18        \n",
      "_________________________________________________________________\n",
      "dense_2 (Dense)              (None, 1)                 4         \n",
      "=================================================================\n",
      "Total params: 32\n",
      "Trainable params: 32\n",
      "Non-trainable params: 0\n",
      "_________________________________________________________________\n"
     ]
    }
   ],
   "source": [
    "model = Sequential()\n",
    "model.add(Dense(5, input_dim=1, activation='relu'))\n",
    "model.add(Dense(3))\n",
    "model.add(Dense(1, activation='relu'))\n",
    "model.summary()"
   ]
  },
  {
   "cell_type": "code",
   "execution_count": 4,
   "metadata": {},
   "outputs": [
    {
     "name": "stdout",
     "output_type": "stream",
     "text": [
      "Train on 10 samples, validate on 10 samples\n",
      "Epoch 1/100\n",
      "10/10 [==============================] - 0s 42ms/sample - loss: 7.7076 - accuracy: 0.1000 - val_loss: 2018.9705 - val_accuracy: 0.0000e+00\n",
      "Epoch 2/100\n",
      "10/10 [==============================] - 0s 2ms/sample - loss: 6.2111 - accuracy: 0.1000 - val_loss: 1503.6380 - val_accuracy: 0.0000e+00\n",
      "Epoch 3/100\n",
      "10/10 [==============================] - 0s 2ms/sample - loss: 4.4229 - accuracy: 0.1000 - val_loss: 1119.6328 - val_accuracy: 0.0000e+00\n",
      "Epoch 4/100\n",
      "10/10 [==============================] - 0s 2ms/sample - loss: 3.0756 - accuracy: 0.1000 - val_loss: 817.4328 - val_accuracy: 0.0000e+00\n",
      "Epoch 5/100\n",
      "10/10 [==============================] - 0s 2ms/sample - loss: 2.0364 - accuracy: 0.1000 - val_loss: 586.1801 - val_accuracy: 0.0000e+00\n",
      "Epoch 6/100\n",
      "10/10 [==============================] - 0s 2ms/sample - loss: 1.3109 - accuracy: 0.1000 - val_loss: 405.3469 - val_accuracy: 0.0000e+00\n",
      "Epoch 7/100\n",
      "10/10 [==============================] - 0s 2ms/sample - loss: 0.7991 - accuracy: 0.1000 - val_loss: 270.6135 - val_accuracy: 0.0000e+00\n",
      "Epoch 8/100\n",
      "10/10 [==============================] - 0s 2ms/sample - loss: 0.4711 - accuracy: 0.1000 - val_loss: 172.9047 - val_accuracy: 0.0000e+00\n",
      "Epoch 9/100\n",
      "10/10 [==============================] - 0s 2ms/sample - loss: 0.2371 - accuracy: 0.1000 - val_loss: 113.5759 - val_accuracy: 0.0000e+00\n",
      "Epoch 10/100\n",
      "10/10 [==============================] - 0s 2ms/sample - loss: 0.1190 - accuracy: 0.1000 - val_loss: 76.9335 - val_accuracy: 0.0000e+00\n",
      "Epoch 11/100\n",
      "10/10 [==============================] - 0s 2ms/sample - loss: 0.0756 - accuracy: 0.1000 - val_loss: 49.9192 - val_accuracy: 0.0000e+00\n",
      "Epoch 12/100\n",
      "10/10 [==============================] - 0s 2ms/sample - loss: 0.0374 - accuracy: 0.1000 - val_loss: 36.9536 - val_accuracy: 0.0000e+00\n",
      "Epoch 13/100\n",
      "10/10 [==============================] - 0s 2ms/sample - loss: 0.0266 - accuracy: 0.1000 - val_loss: 29.5882 - val_accuracy: 0.0000e+00\n",
      "Epoch 14/100\n",
      "10/10 [==============================] - ETA: 0s - loss: 0.0303 - accuracy: 0.0000e+ - 0s 2ms/sample - loss: 0.0239 - accuracy: 0.1000 - val_loss: 24.5646 - val_accuracy: 0.0000e+00\n",
      "Epoch 15/100\n",
      "10/10 [==============================] - 0s 2ms/sample - loss: 0.0229 - accuracy: 0.1000 - val_loss: 21.5439 - val_accuracy: 0.0000e+00\n",
      "Epoch 16/100\n",
      "10/10 [==============================] - 0s 2ms/sample - loss: 0.0218 - accuracy: 0.1000 - val_loss: 20.7148 - val_accuracy: 0.0000e+00\n",
      "Epoch 17/100\n",
      "10/10 [==============================] - 0s 2ms/sample - loss: 0.0213 - accuracy: 0.1000 - val_loss: 20.0288 - val_accuracy: 0.0000e+00\n",
      "Epoch 18/100\n",
      "10/10 [==============================] - 0s 2ms/sample - loss: 0.0208 - accuracy: 0.1000 - val_loss: 19.9233 - val_accuracy: 0.0000e+00\n",
      "Epoch 19/100\n",
      "10/10 [==============================] - 0s 2ms/sample - loss: 0.0208 - accuracy: 0.1000 - val_loss: 20.4296 - val_accuracy: 0.0000e+00\n",
      "Epoch 20/100\n",
      "10/10 [==============================] - 0s 2ms/sample - loss: 0.0202 - accuracy: 0.1000 - val_loss: 19.9608 - val_accuracy: 0.0000e+00\n",
      "Epoch 21/100\n",
      "10/10 [==============================] - 0s 2ms/sample - loss: 0.0198 - accuracy: 0.1000 - val_loss: 19.3953 - val_accuracy: 0.0000e+00\n",
      "Epoch 22/100\n",
      "10/10 [==============================] - 0s 2ms/sample - loss: 0.0194 - accuracy: 0.1000 - val_loss: 18.3377 - val_accuracy: 0.0000e+00\n",
      "Epoch 23/100\n",
      "10/10 [==============================] - 0s 2ms/sample - loss: 0.0190 - accuracy: 0.1000 - val_loss: 17.9449 - val_accuracy: 0.0000e+00\n",
      "Epoch 24/100\n",
      "10/10 [==============================] - 0s 2ms/sample - loss: 0.0188 - accuracy: 0.1000 - val_loss: 17.4693 - val_accuracy: 0.0000e+00\n",
      "Epoch 25/100\n",
      "10/10 [==============================] - 0s 2ms/sample - loss: 0.0184 - accuracy: 0.1000 - val_loss: 17.6403 - val_accuracy: 0.0000e+00\n",
      "Epoch 26/100\n",
      "10/10 [==============================] - 0s 2ms/sample - loss: 0.0179 - accuracy: 0.1000 - val_loss: 17.5431 - val_accuracy: 0.0000e+00\n",
      "Epoch 27/100\n",
      "10/10 [==============================] - 0s 2ms/sample - loss: 0.0177 - accuracy: 0.1000 - val_loss: 16.1005 - val_accuracy: 0.0000e+00\n",
      "Epoch 28/100\n",
      "10/10 [==============================] - 0s 2ms/sample - loss: 0.0172 - accuracy: 0.1000 - val_loss: 15.5420 - val_accuracy: 0.0000e+00\n",
      "Epoch 29/100\n",
      "10/10 [==============================] - 0s 2ms/sample - loss: 0.0170 - accuracy: 0.1000 - val_loss: 16.3835 - val_accuracy: 0.0000e+00\n",
      "Epoch 30/100\n",
      "10/10 [==============================] - 0s 2ms/sample - loss: 0.0165 - accuracy: 0.1000 - val_loss: 15.3071 - val_accuracy: 0.0000e+00\n",
      "Epoch 31/100\n",
      "10/10 [==============================] - 0s 2ms/sample - loss: 0.0160 - accuracy: 0.1000 - val_loss: 15.5545 - val_accuracy: 0.0000e+00\n",
      "Epoch 32/100\n",
      "10/10 [==============================] - 0s 2ms/sample - loss: 0.0155 - accuracy: 0.1000 - val_loss: 14.7868 - val_accuracy: 0.0000e+00\n",
      "Epoch 33/100\n",
      "10/10 [==============================] - 0s 2ms/sample - loss: 0.0152 - accuracy: 0.1000 - val_loss: 14.6294 - val_accuracy: 0.0000e+00\n",
      "Epoch 34/100\n",
      "10/10 [==============================] - 0s 2ms/sample - loss: 0.0148 - accuracy: 0.1000 - val_loss: 13.8829 - val_accuracy: 0.0000e+00\n",
      "Epoch 35/100\n",
      "10/10 [==============================] - 0s 2ms/sample - loss: 0.0145 - accuracy: 0.1000 - val_loss: 13.9094 - val_accuracy: 0.0000e+00\n",
      "Epoch 36/100\n",
      "10/10 [==============================] - 0s 2ms/sample - loss: 0.0142 - accuracy: 0.1000 - val_loss: 13.0122 - val_accuracy: 0.0000e+00\n",
      "Epoch 37/100\n",
      "10/10 [==============================] - 0s 2ms/sample - loss: 0.0138 - accuracy: 0.1000 - val_loss: 13.2724 - val_accuracy: 0.0000e+00\n",
      "Epoch 38/100\n",
      "10/10 [==============================] - 0s 2ms/sample - loss: 0.0133 - accuracy: 0.1000 - val_loss: 12.8746 - val_accuracy: 0.0000e+00\n",
      "Epoch 39/100\n",
      "10/10 [==============================] - 0s 2ms/sample - loss: 0.0130 - accuracy: 0.1000 - val_loss: 12.0758 - val_accuracy: 0.0000e+00\n",
      "Epoch 40/100\n",
      "10/10 [==============================] - 0s 2ms/sample - loss: 0.0125 - accuracy: 0.1000 - val_loss: 11.8112 - val_accuracy: 0.0000e+00\n",
      "Epoch 41/100\n",
      "10/10 [==============================] - 0s 2ms/sample - loss: 0.0122 - accuracy: 0.1000 - val_loss: 11.7359 - val_accuracy: 0.0000e+00\n",
      "Epoch 42/100\n",
      "10/10 [==============================] - 0s 2ms/sample - loss: 0.0119 - accuracy: 0.1000 - val_loss: 11.0898 - val_accuracy: 0.0000e+00\n",
      "Epoch 43/100\n",
      "10/10 [==============================] - 0s 2ms/sample - loss: 0.0115 - accuracy: 0.1000 - val_loss: 11.0530 - val_accuracy: 0.0000e+00\n",
      "Epoch 44/100\n",
      "10/10 [==============================] - 0s 2ms/sample - loss: 0.0112 - accuracy: 0.1000 - val_loss: 10.7303 - val_accuracy: 0.0000e+00\n",
      "Epoch 45/100\n",
      "10/10 [==============================] - 0s 2ms/sample - loss: 0.0109 - accuracy: 0.1000 - val_loss: 10.6877 - val_accuracy: 0.0000e+00\n",
      "Epoch 46/100\n",
      "10/10 [==============================] - 0s 2ms/sample - loss: 0.0106 - accuracy: 0.1000 - val_loss: 9.7965 - val_accuracy: 0.0000e+00\n",
      "Epoch 47/100\n",
      "10/10 [==============================] - 0s 2ms/sample - loss: 0.0102 - accuracy: 0.1000 - val_loss: 9.6077 - val_accuracy: 0.0000e+00\n",
      "Epoch 48/100\n",
      "10/10 [==============================] - 0s 2ms/sample - loss: 0.0101 - accuracy: 0.1000 - val_loss: 9.8016 - val_accuracy: 0.0000e+00\n",
      "Epoch 49/100\n",
      "10/10 [==============================] - 0s 2ms/sample - loss: 0.0095 - accuracy: 0.1000 - val_loss: 9.3002 - val_accuracy: 0.0000e+00\n",
      "Epoch 50/100\n",
      "10/10 [==============================] - 0s 2ms/sample - loss: 0.0094 - accuracy: 0.1000 - val_loss: 8.3481 - val_accuracy: 0.0000e+00\n",
      "Epoch 51/100\n",
      "10/10 [==============================] - 0s 2ms/sample - loss: 0.0090 - accuracy: 0.1000 - val_loss: 8.2916 - val_accuracy: 0.0000e+00\n",
      "Epoch 52/100\n",
      "10/10 [==============================] - 0s 2ms/sample - loss: 0.0087 - accuracy: 0.1000 - val_loss: 8.0209 - val_accuracy: 0.0000e+00\n",
      "Epoch 53/100\n",
      "10/10 [==============================] - 0s 2ms/sample - loss: 0.0084 - accuracy: 0.1000 - val_loss: 8.0011 - val_accuracy: 0.0000e+00\n",
      "Epoch 54/100\n",
      "10/10 [==============================] - 0s 2ms/sample - loss: 0.0083 - accuracy: 0.1000 - val_loss: 8.0813 - val_accuracy: 0.0000e+00\n",
      "Epoch 55/100\n"
     ]
    },
    {
     "name": "stdout",
     "output_type": "stream",
     "text": [
      "10/10 [==============================] - 0s 2ms/sample - loss: 0.0079 - accuracy: 0.1000 - val_loss: 7.8119 - val_accuracy: 0.0000e+00\n",
      "Epoch 56/100\n",
      "10/10 [==============================] - 0s 2ms/sample - loss: 0.0076 - accuracy: 0.1000 - val_loss: 7.4614 - val_accuracy: 0.0000e+00\n",
      "Epoch 57/100\n",
      "10/10 [==============================] - 0s 2ms/sample - loss: 0.0073 - accuracy: 0.1000 - val_loss: 6.8900 - val_accuracy: 0.0000e+00\n",
      "Epoch 58/100\n",
      "10/10 [==============================] - 0s 2ms/sample - loss: 0.0071 - accuracy: 0.1000 - val_loss: 6.0654 - val_accuracy: 0.0000e+00\n",
      "Epoch 59/100\n",
      "10/10 [==============================] - 0s 2ms/sample - loss: 0.0069 - accuracy: 0.1000 - val_loss: 6.2333 - val_accuracy: 0.0000e+00\n",
      "Epoch 60/100\n",
      "10/10 [==============================] - 0s 2ms/sample - loss: 0.0066 - accuracy: 0.1000 - val_loss: 6.1101 - val_accuracy: 0.0000e+00\n",
      "Epoch 61/100\n",
      "10/10 [==============================] - 0s 2ms/sample - loss: 0.0063 - accuracy: 0.1000 - val_loss: 5.7994 - val_accuracy: 0.0000e+00\n",
      "Epoch 62/100\n",
      "10/10 [==============================] - 0s 2ms/sample - loss: 0.0061 - accuracy: 0.1000 - val_loss: 5.9345 - val_accuracy: 0.0000e+00\n",
      "Epoch 63/100\n",
      "10/10 [==============================] - 0s 2ms/sample - loss: 0.0059 - accuracy: 0.1000 - val_loss: 5.3883 - val_accuracy: 0.0000e+00\n",
      "Epoch 64/100\n",
      "10/10 [==============================] - 0s 2ms/sample - loss: 0.0056 - accuracy: 0.1000 - val_loss: 5.1506 - val_accuracy: 0.0000e+00\n",
      "Epoch 65/100\n",
      "10/10 [==============================] - 0s 2ms/sample - loss: 0.0055 - accuracy: 0.1000 - val_loss: 5.3405 - val_accuracy: 0.0000e+00\n",
      "Epoch 66/100\n",
      "10/10 [==============================] - 0s 2ms/sample - loss: 0.0054 - accuracy: 0.1000 - val_loss: 5.3394 - val_accuracy: 0.0000e+00\n",
      "Epoch 67/100\n",
      "10/10 [==============================] - 0s 2ms/sample - loss: 0.0051 - accuracy: 0.1000 - val_loss: 4.4152 - val_accuracy: 0.0000e+00\n",
      "Epoch 68/100\n",
      "10/10 [==============================] - 0s 2ms/sample - loss: 0.0048 - accuracy: 0.1000 - val_loss: 4.1609 - val_accuracy: 0.0000e+00\n",
      "Epoch 69/100\n",
      "10/10 [==============================] - 0s 2ms/sample - loss: 0.0047 - accuracy: 0.1000 - val_loss: 4.3974 - val_accuracy: 0.0000e+00\n",
      "Epoch 70/100\n",
      "10/10 [==============================] - 0s 2ms/sample - loss: 0.0044 - accuracy: 0.1000 - val_loss: 4.2623 - val_accuracy: 0.0000e+00\n",
      "Epoch 71/100\n",
      "10/10 [==============================] - 0s 2ms/sample - loss: 0.0043 - accuracy: 0.1000 - val_loss: 3.9108 - val_accuracy: 0.0000e+00\n",
      "Epoch 72/100\n",
      "10/10 [==============================] - 0s 2ms/sample - loss: 0.0041 - accuracy: 0.1000 - val_loss: 3.7004 - val_accuracy: 0.0000e+00\n",
      "Epoch 73/100\n",
      "10/10 [==============================] - 0s 2ms/sample - loss: 0.0039 - accuracy: 0.1000 - val_loss: 3.7475 - val_accuracy: 0.0000e+00\n",
      "Epoch 74/100\n",
      "10/10 [==============================] - 0s 2ms/sample - loss: 0.0038 - accuracy: 0.1000 - val_loss: 3.4480 - val_accuracy: 0.0000e+00\n",
      "Epoch 75/100\n",
      "10/10 [==============================] - 0s 2ms/sample - loss: 0.0037 - accuracy: 0.1000 - val_loss: 3.6395 - val_accuracy: 0.0000e+00\n",
      "Epoch 76/100\n",
      "10/10 [==============================] - 0s 2ms/sample - loss: 0.0034 - accuracy: 0.1000 - val_loss: 3.4680 - val_accuracy: 0.0000e+00\n",
      "Epoch 77/100\n",
      "10/10 [==============================] - 0s 2ms/sample - loss: 0.0033 - accuracy: 0.1000 - val_loss: 3.0756 - val_accuracy: 0.0000e+00\n",
      "Epoch 78/100\n",
      "10/10 [==============================] - 0s 2ms/sample - loss: 0.0033 - accuracy: 0.1000 - val_loss: 2.5411 - val_accuracy: 0.0000e+00\n",
      "Epoch 79/100\n",
      "10/10 [==============================] - 0s 2ms/sample - loss: 0.0030 - accuracy: 0.1000 - val_loss: 2.6392 - val_accuracy: 0.0000e+00\n",
      "Epoch 80/100\n",
      "10/10 [==============================] - 0s 2ms/sample - loss: 0.0029 - accuracy: 0.1000 - val_loss: 2.6898 - val_accuracy: 0.0000e+00\n",
      "Epoch 81/100\n",
      "10/10 [==============================] - 0s 2ms/sample - loss: 0.0027 - accuracy: 0.1000 - val_loss: 2.5580 - val_accuracy: 0.0000e+00\n",
      "Epoch 82/100\n",
      "10/10 [==============================] - 0s 2ms/sample - loss: 0.0027 - accuracy: 0.1000 - val_loss: 2.6617 - val_accuracy: 0.0000e+00\n",
      "Epoch 83/100\n",
      "10/10 [==============================] - 0s 2ms/sample - loss: 0.0025 - accuracy: 0.1000 - val_loss: 2.3123 - val_accuracy: 0.0000e+00\n",
      "Epoch 84/100\n",
      "10/10 [==============================] - 0s 2ms/sample - loss: 0.0024 - accuracy: 0.1000 - val_loss: 2.1330 - val_accuracy: 0.0000e+00\n",
      "Epoch 85/100\n",
      "10/10 [==============================] - 0s 2ms/sample - loss: 0.0023 - accuracy: 0.1000 - val_loss: 2.0096 - val_accuracy: 0.0000e+00\n",
      "Epoch 86/100\n",
      "10/10 [==============================] - 0s 2ms/sample - loss: 0.0022 - accuracy: 0.1000 - val_loss: 2.1580 - val_accuracy: 0.0000e+00\n",
      "Epoch 87/100\n",
      "10/10 [==============================] - 0s 2ms/sample - loss: 0.0021 - accuracy: 0.1000 - val_loss: 1.9772 - val_accuracy: 0.0000e+00\n",
      "Epoch 88/100\n",
      "10/10 [==============================] - 0s 2ms/sample - loss: 0.0020 - accuracy: 0.1000 - val_loss: 1.7370 - val_accuracy: 0.0000e+00\n",
      "Epoch 89/100\n",
      "10/10 [==============================] - 0s 2ms/sample - loss: 0.0020 - accuracy: 0.1000 - val_loss: 1.8560 - val_accuracy: 0.0000e+00\n",
      "Epoch 90/100\n",
      "10/10 [==============================] - 0s 2ms/sample - loss: 0.0018 - accuracy: 0.1000 - val_loss: 1.7354 - val_accuracy: 0.0000e+00\n",
      "Epoch 91/100\n",
      "10/10 [==============================] - 0s 2ms/sample - loss: 0.0017 - accuracy: 0.1000 - val_loss: 1.4340 - val_accuracy: 0.0000e+00\n",
      "Epoch 92/100\n",
      "10/10 [==============================] - 0s 2ms/sample - loss: 0.0016 - accuracy: 0.1000 - val_loss: 1.4146 - val_accuracy: 0.0000e+00\n",
      "Epoch 93/100\n",
      "10/10 [==============================] - 0s 2ms/sample - loss: 0.0016 - accuracy: 0.1000 - val_loss: 1.4899 - val_accuracy: 0.0000e+00\n",
      "Epoch 94/100\n",
      "10/10 [==============================] - 0s 2ms/sample - loss: 0.0014 - accuracy: 0.1000 - val_loss: 1.3467 - val_accuracy: 0.0000e+00\n",
      "Epoch 95/100\n",
      "10/10 [==============================] - 0s 2ms/sample - loss: 0.0014 - accuracy: 0.1000 - val_loss: 1.2955 - val_accuracy: 0.0000e+00\n",
      "Epoch 96/100\n",
      "10/10 [==============================] - 0s 2ms/sample - loss: 0.0013 - accuracy: 0.1000 - val_loss: 1.2560 - val_accuracy: 0.0000e+00\n",
      "Epoch 97/100\n",
      "10/10 [==============================] - 0s 2ms/sample - loss: 0.0012 - accuracy: 0.1000 - val_loss: 1.1426 - val_accuracy: 0.0000e+00\n",
      "Epoch 98/100\n",
      "10/10 [==============================] - 0s 2ms/sample - loss: 0.0012 - accuracy: 0.1000 - val_loss: 1.1006 - val_accuracy: 0.0000e+00\n",
      "Epoch 99/100\n",
      "10/10 [==============================] - 0s 2ms/sample - loss: 0.0011 - accuracy: 0.1000 - val_loss: 0.9906 - val_accuracy: 0.0000e+00\n",
      "Epoch 100/100\n",
      "10/10 [==============================] - 0s 2ms/sample - loss: 0.0010 - accuracy: 0.1000 - val_loss: 0.9544 - val_accuracy: 0.0000e+00\n"
     ]
    }
   ],
   "source": [
    "model.compile(optimizer='adam',loss='mse', metrics=['accuracy'])\n",
    "hist = model.fit(x_train, y_train, epochs=100, batch_size=1,validation_data = (x_test, y_test))"
   ]
  },
  {
   "cell_type": "code",
   "execution_count": 5,
   "metadata": {},
   "outputs": [
    {
     "data": {
      "image/png": "[encoded data removed]",
      "text/plain": [
       "<Figure size 432x288 with 1 Axes>"
      ]
     },
     "metadata": {
      "needs_background": "light"
     },
     "output_type": "display_data"
    }
   ],
   "source": [
    "import matplotlib.pyplot as plt\n",
    "\n",
    "plt.plot(hist.history['loss'])\n",
    "plt.plot(hist.history['accuracy'])\n",
    "plt.plot(hist.history['val_loss'])\n",
    "plt.plot(hist.history['val_accuracy'])\n",
    "#plt.ylim(0.0, 1.5)\n",
    "plt.ylabel('loss')\n",
    "plt.xlabel('epoch')\n",
    "plt.legend(['loss', 'accuracy', 'val_loss', 'val_accuracy'], loc='upper right')\n",
    "plt.show()"
   ]
  },
  {
   "cell_type": "code",
   "execution_count": 8,
   "metadata": {},
   "outputs": [
    {
     "name": "stdout",
     "output_type": "stream",
     "text": [
      "10/10 [==============================] - 0s 3ms/sample - loss: 0.9544 - accuracy: 0.0000e+00\n",
      "loss : 0.9543961226940155\n",
      "acc : 0.0\n"
     ]
    }
   ],
   "source": [
    "loss, acc = model.evaluate(x_test, y_test,batch_size=1)\n",
    "print(\"loss :\", loss)\n",
    "print(\"acc :\", acc)"
   ]
  },
  {
   "cell_type": "code",
   "execution_count": 9,
   "metadata": {},
   "outputs": [
    {
     "name": "stdout",
     "output_type": "stream",
     "text": [
      "결과물 : \n",
      " [[100.068054]\n",
      " [101.05816 ]\n",
      " [102.04826 ]\n",
      " [103.038345]\n",
      " [104.028435]\n",
      " [105.01852 ]\n",
      " [106.00863 ]\n",
      " [106.99872 ]\n",
      " [107.9888  ]\n",
      " [108.978905]]\n"
     ]
    }
   ],
   "source": [
    "output = model.predict(x_test)\n",
    "print(\"결과물 : \\n\", output)"
   ]
  },
  {
   "cell_type": "code",
   "execution_count": null,
   "metadata": {},
   "outputs": [],
   "source": []
  }
 ],
 "metadata": {
  "kernelspec": {
   "display_name": "Python 3",
   "language": "python",
   "name": "python3"
  },
  "language_info": {
   "codemirror_mode": {
    "name": "ipython",
    "version": 3
   },
   "file_extension": ".py",
   "mimetype": "text/x-python",
   "name": "python",
   "nbconvert_exporter": "python",
   "pygments_lexer": "ipython3",
   "version": "3.7.6"
  }
 },
 "nbformat": 4,
 "nbformat_minor": 4
}
