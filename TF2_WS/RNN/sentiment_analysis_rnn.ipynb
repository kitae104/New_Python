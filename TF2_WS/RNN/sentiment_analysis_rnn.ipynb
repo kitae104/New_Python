{
 "cells": [
  {
   "cell_type": "markdown",
   "metadata": {},
   "source": [
    "# 긍정, 부정 감성 분석(Sentiment Analysis)\n",
    "* 감성 분석 : 입력된 자연어 안의 주관적 의견, 감정 등을 찾아내는 문제 \n",
    "* 극성(polarity) 감성 분석 : 문장의 긍적/부정이나 긍정/중립/부정을 분류\n",
    "* 영화 리뷰나 음식점 리뷰는 데이터의 양이 많고 별점을 함께 달기 때문에 긍정/중립/부정 라벨링이 쉬워서 극성 감성 분석에 쉽게 적용됨  "
   ]
  },
  {
   "cell_type": "code",
   "execution_count": 1,
   "metadata": {},
   "outputs": [],
   "source": [
    "import tensorflow as tf\n",
    "import numpy as np\n",
    "import matplotlib.pyplot as plt"
   ]
  },
  {
   "cell_type": "markdown",
   "metadata": {},
   "source": [
    "#### 감성 데이터 불러오기 "
   ]
  },
  {
   "cell_type": "code",
   "execution_count": 2,
   "metadata": {},
   "outputs": [],
   "source": [
    "path_to_train_file = tf.keras.utils.get_file('train.txt', 'https://raw.githubusercontent.com/e9t/nsmc/master/ratings_train.txt')\n",
    "path_to_test_file = tf.keras.utils.get_file('test.txt', 'https://raw.githubusercontent.com/e9t/nsmc/master/ratings_test.txt')"
   ]
  },
  {
   "cell_type": "markdown",
   "metadata": {},
   "source": [
    "#### 데이터 로드 및 확인\n",
    "* 데이터의 각 행은 \\t로 구분\n",
    "* id : 각 데이터의 고유한 번호\n",
    "* document : 실제 리뷰 내용\n",
    "* label : 0은 부정, 1은 긍정"
   ]
  },
  {
   "cell_type": "code",
   "execution_count": 3,
   "metadata": {},
   "outputs": [
    {
     "name": "stdout",
     "output_type": "stream",
     "text": [
      "Length of text: 6937271 characters\n",
      "Length of text: 2318260 characters\n",
      "\n",
      "id\tdocument\tlabel\n",
      "9976970\t아 더빙.. 진짜 짜증나네요 목소리\t0\n",
      "3819312\t흠...포스터보고 초딩영화줄....오버연기조차 가볍지 않구나\t1\n",
      "10265843\t너무재밓었다그래서보는것을추천한다\t0\n",
      "9045019\t교도소 이야기구먼 ..솔직히 재미는 없다..평점 조정\t0\n",
      "6483659\t사이몬페그의 익살스런 연기가 돋보였던 영화!스파이더맨에서 늙어보이기만 했던 커스틴 던스트가 너무나도 이뻐보였다\t1\n",
      "5403919\t막 걸음마 뗀 3세부터 초등학교 1학년생인 8살용영화.ㅋㅋㅋ...별반개도 아까움.\t0\n",
      "7797314\t원작의\n"
     ]
    }
   ],
   "source": [
    "train_text = open(path_to_train_file, 'rb').read().decode(encoding='utf-8')\n",
    "test_text = open(path_to_test_file, 'rb').read().decode(encoding='utf-8')\n",
    "\n",
    "# 텍스트가 총 몇 자인지 확인합니다.\n",
    "print('Length of text: {} characters'.format(len(train_text)))\n",
    "print('Length of text: {} characters'.format(len(test_text)))\n",
    "print()\n",
    "\n",
    "print(train_text[:300])  # 300자 출력하기 "
   ]
  },
  {
   "cell_type": "markdown",
   "metadata": {},
   "source": [
    "#### 학습을 위한 정답 데이터(Y) 만들기\n",
    "* 정답은 0 / 1 만 존재\n",
    "* 첫번째 줄과 두번째 줄은 먼저 각 텍스트를 \\n으로 분리한 다음, 헤더에 해당하는 부분을 제외한 나머지([1:])에 대해 각 행을 처리한다. \n",
    "* 각 행은 \\t로 나눠진 후 2번째 원소를 정수로 변환해서 저장\n",
    "* 마지막엔 np.array로 결과 리스트를 감싸서 네트워크에 입력하기 쉽게 만들어냄 "
   ]
  },
  {
   "cell_type": "code",
   "execution_count": 4,
   "metadata": {},
   "outputs": [
    {
     "name": "stdout",
     "output_type": "stream",
     "text": [
      "(150000, 1) (50000, 1)\n",
      "[[0]\n",
      " [1]\n",
      " [0]\n",
      " [0]\n",
      " [1]]\n"
     ]
    }
   ],
   "source": [
    "train_Y = np.array([[int(row.split('\\t')[2])] for row in train_text.split('\\n')[1:] if row.count('\\t') > 0])\n",
    "test_Y = np.array([[int(row.split('\\t')[2])] for row in test_text.split('\\n')[1:] if row.count('\\t') > 0])\n",
    "print(train_Y.shape, test_Y.shape)\n",
    "print(train_Y[:5])"
   ]
  },
  {
   "cell_type": "markdown",
   "metadata": {},
   "source": [
    "#### 훈련 데이터 정제\n",
    "* 입력으로 사용할 자연어를 토큰화(Tokenization)하고 정제(Cleaning) 해야한다.\n",
    "* 토큰화 : 자연어를 처리 가능한 작은 단위로 나눈는 것 --> 띄어쓰기 단위로 나눔 \n",
    "* 정제 : 원하지 않는 입력이나 불필요한 기호 등을 제거"
   ]
  },
  {
   "cell_type": "markdown",
   "metadata": {},
   "source": [
    "* __clean_str(string)__ : 정규 표현식을 사용해서 내용을 정제해주는 함수 사용 \n",
    "    * re.sub(r\"[^가-힣A-Za-z0-9(),!?\\'\\`]\", \" \", string)\n",
    "    * 첫번째 인수를 찾아서 두번째 인수로 변경 \n",
    "    * ^은 not의 의미로 한글, 영문, 숫자, 괄호, 쉽표, 느낌표, 물음표, 작은 따옴표, 역따옴표를 제외한 나머지를 모두 찾아 공백으로 바꾼다는 의미 \n",
    "* 기호는 삭제되고 단어 단위로 나눠진 데이터 반환 "
   ]
  },
  {
   "cell_type": "code",
   "execution_count": 5,
   "metadata": {},
   "outputs": [],
   "source": [
    "import re\n",
    "\n",
    "def clean_str(string):\n",
    "    string = re.sub(r\"[^가-힣A-Za-z0-9(),!?\\'\\`]\", \" \", string)\n",
    "    string = re.sub(r\"\\'s\", \" \\'s\", string)\n",
    "    string = re.sub(r\"\\'ve\", \" \\'ve\", string)\n",
    "    string = re.sub(r\"n\\'t\", \" n\\'t\", string)\n",
    "    string = re.sub(r\"\\'re\", \" \\'re\", string)\n",
    "    string = re.sub(r\"\\'d\", \" \\'d\", string)\n",
    "    string = re.sub(r\"\\'ll\", \" \\'ll\", string)\n",
    "    string = re.sub(r\",\", \" , \", string)\n",
    "    string = re.sub(r\"!\", \" ! \", string)\n",
    "    string = re.sub(r\"\\(\", \" \\( \", string)\n",
    "    string = re.sub(r\"\\)\", \" \\) \", string)\n",
    "    string = re.sub(r\"\\?\", \" \\? \", string)\n",
    "    string = re.sub(r\"\\s{2,}\", \" \", string)\n",
    "    string = re.sub(r\"\\'{2,}\", \"\\'\", string)\n",
    "    string = re.sub(r\"\\'\", \"\", string)\n",
    "\n",
    "    return string.lower()"
   ]
  },
  {
   "cell_type": "markdown",
   "metadata": {},
   "source": [
    "#### 학습을 위한 X 데이터 만들기\n",
    "* 읽어온 데이터 중에 [1]에 해당하는 실제 리뷰 부분을 가져온다. \n",
    "* clean_str()을 이용하여 불필요한 부분을 제거한다. "
   ]
  },
  {
   "cell_type": "code",
   "execution_count": 9,
   "metadata": {},
   "outputs": [
    {
     "name": "stdout",
     "output_type": "stream",
     "text": [
      "['아', '더빙', '진짜', '짜증나네요', '목소리']\n",
      "['흠', '포스터보고', '초딩영화줄', '오버연기조차', '가볍지', '않구나']\n",
      "['너무재밓었다그래서보는것을추천한다']\n",
      "['교도소', '이야기구먼', '솔직히', '재미는', '없다', '평점', '조정']\n",
      "['사이몬페그의', '익살스런', '연기가', '돋보였던', '영화', '!', '스파이더맨에서', '늙어보이기만', '했던', '커스틴', '던스트가', '너무나도', '이뻐보였다']\n"
     ]
    }
   ],
   "source": [
    "train_text_X = np.array([row.split('\\t')[1] for row in train_text.split('\\n')[1:] if row.count('\\t') > 0])\n",
    "train_text_X = [clean_str(sentence) for sentence in train_text_X]  # 불필요한 기호 생략\n",
    "\n",
    "# 문장을 띄어쓰기 단위로 단어 분리 \n",
    "sentences = [sentence.split(' ') for sentence in train_text_X]\n",
    "\n",
    "for i in range(5):\n",
    "    print(sentences[i])"
   ]
  },
  {
   "cell_type": "markdown",
   "metadata": {},
   "source": [
    "#### 각 문장의 길이 확인 "
   ]
  },
  {
   "cell_type": "code",
   "execution_count": 13,
   "metadata": {},
   "outputs": [
    {
     "data": {
      "image/png": "[encoded data removed]",
      "text/plain": [
       "<Figure size 432x288 with 1 Axes>"
      ]
     },
     "metadata": {
      "needs_background": "light"
     },
     "output_type": "display_data"
    },
    {
     "name": "stdout",
     "output_type": "stream",
     "text": [
      "전체 :  150000\n",
      "25단어 이하 :  142587\n"
     ]
    }
   ],
   "source": [
    "sentence_len = [len(sentence) for sentence in sentences]\n",
    "sentence_len.sort()\n",
    "plt.plot(sentence_len)\n",
    "plt.show()\n",
    "\n",
    "print(\"전체 : \", len(sentence_len))\n",
    "print(\"25단어 이하 : \", sum([int(l <= 25) for l in sentence_len]))"
   ]
  },
  {
   "cell_type": "markdown",
   "metadata": {},
   "source": [
    "#### 단어 정제 및 문장 길이 줄임\n",
    "* [word[:5] for word in sentence][:25]\n",
    "    * 각 문장의 단어는 25개([:25]) 까지 가져옴\n",
    "    * 각 단어의 길이는 5([:5])까지 가져옴 "
   ]
  },
  {
   "cell_type": "code",
   "execution_count": 14,
   "metadata": {},
   "outputs": [
    {
     "name": "stdout",
     "output_type": "stream",
     "text": [
      "['아', '더빙', '진짜', '짜증나네요', '목소리']\n",
      "['흠', '포스터보고', '초딩영화줄', '오버연기조', '가볍지', '않구나']\n",
      "['너무재밓었']\n",
      "['교도소', '이야기구먼', '솔직히', '재미는', '없다', '평점', '조정']\n",
      "['사이몬페그', '익살스런', '연기가', '돋보였던', '영화', '!', '스파이더맨', '늙어보이기', '했던', '커스틴', '던스트가', '너무나도', '이뻐보였다']\n"
     ]
    }
   ],
   "source": [
    "sentences_new = []  # 새로운 리스트 생성 \n",
    "\n",
    "for sentence in sentences:\n",
    "    sentences_new.append([word[:5] for word in sentence][:25])\n",
    "    \n",
    "sentences = sentences_new   # 새로운 형태로 변환된 것을 설정 \n",
    "\n",
    "# 문장 확인 \n",
    "for i in range(5):\n",
    "    print(sentences[i])"
   ]
  },
  {
   "cell_type": "markdown",
   "metadata": {},
   "source": [
    "#### Tokenizer와 pad_sequences를 사용한 문장 전처리\n",
    "* pad_sequences : 짧은 문장을 같은 길이의 문장(25단어)으로 바꾸기 위한 패딩을 넣는다. \n",
    "    * pad_sequences(train_X, padding='post') : 입력된 데이터에 패딩을 더한다. \n",
    "    * 'post' : 뒷쪽에 패닝을 넣는다. \n",
    "* Tokenizer : 모든 단어를 사용하지 않고 출현 빈도가 가장 높은 일부 단어만 사용하기 위해 사용\n",
    "    * 데이터에 출현하는 모든 단어의 개수를 세고 빈도 수로 정렬해서 num_words에 지정된 만큼만 숫자로 반환하고, 나머지는 0으로 반환\n",
    "    * fit_on_texts(sentences) : Tokenizer에 데이터를 실제로 입력 \n",
    "    * texts_to_sequences(sentences) : 문장을 입력 받아 숫자로 반환 \n",
    "* 전처리된 문장 \n",
    "    * 아 --> 25, 더빙 --> 884 등 5개 단어가 숫자로 변경 \n",
    "    * 나머지 없는 부분은 0으로 설정 \n",
    "    * 특정 단어는 빈도 수에서 상위 20,000에 들지 못해 0로 처리된다. "
   ]
  },
  {
   "cell_type": "code",
   "execution_count": 15,
   "metadata": {},
   "outputs": [
    {
     "name": "stdout",
     "output_type": "stream",
     "text": [
      "[[   25   884     8  5795  1111     0     0     0     0     0     0     0\n",
      "      0     0     0     0     0     0     0     0     0     0     0     0\n",
      "      0]\n",
      " [  588  5796  6697     0     0     0     0     0     0     0     0     0\n",
      "      0     0     0     0     0     0     0     0     0     0     0     0\n",
      "      0]\n",
      " [    0     0     0     0     0     0     0     0     0     0     0     0\n",
      "      0     0     0     0     0     0     0     0     0     0     0     0\n",
      "      0]\n",
      " [   71   346    31    35 10468     0     0     0     0     0     0     0\n",
      "      0     0     0     0     0     0     0     0     0     0     0     0\n",
      "      0]\n",
      " [  106  5338     4     2  2169   869   573     0     0     0     0     0\n",
      "      0     0     0     0     0     0     0     0     0     0     0     0\n",
      "      0]]\n"
     ]
    }
   ],
   "source": [
    "from tensorflow.keras.preprocessing.text import Tokenizer\n",
    "from tensorflow.keras.preprocessing.sequence import pad_sequences\n",
    "\n",
    "tokenizer = Tokenizer(num_words=20000)\n",
    "tokenizer.fit_on_texts(sentences)\n",
    "train_X = tokenizer.texts_to_sequences(sentences)\n",
    "train_X = pad_sequences(train_X, padding='post')\n",
    "\n",
    "print(train_X[:5])"
   ]
  },
  {
   "cell_type": "markdown",
   "metadata": {},
   "source": [
    "#### 감성 분석을 위한 모델 정의\n",
    "* input_length=25 : 각 문장에 들어있는 25개 단어의 길이를 300의 임베딩 벡터로 변환 \n",
    "* sparse_categorical_crossentropy : 여러 개의 정답 중에 하나를 맞추는 분류 문제일 경우 사용 "
   ]
  },
  {
   "cell_type": "code",
   "execution_count": 16,
   "metadata": {},
   "outputs": [
    {
     "name": "stdout",
     "output_type": "stream",
     "text": [
      "Model: \"sequential\"\n",
      "_________________________________________________________________\n",
      "Layer (type)                 Output Shape              Param #   \n",
      "=================================================================\n",
      "embedding (Embedding)        (None, 25, 300)           6000000   \n",
      "_________________________________________________________________\n",
      "lstm (LSTM)                  (None, 50)                70200     \n",
      "_________________________________________________________________\n",
      "dense (Dense)                (None, 2)                 102       \n",
      "=================================================================\n",
      "Total params: 6,070,302\n",
      "Trainable params: 6,070,302\n",
      "Non-trainable params: 0\n",
      "_________________________________________________________________\n"
     ]
    }
   ],
   "source": [
    "model = tf.keras.models.Sequential([\n",
    "    tf.keras.layers.Embedding(20000, 300, input_length=25),\n",
    "    tf.keras.layers.LSTM(units=50),\n",
    "    tf.keras.layers.Dense(units=2, activation='softmax')\n",
    "])\n",
    "\n",
    "model.compile(optimizer='adam', loss='sparse_categorical_crossentropy', metrics=['accuracy'])\n",
    "model.summary()"
   ]
  },
  {
   "cell_type": "markdown",
   "metadata": {},
   "source": [
    "#### 감성 분석 모델 학습 "
   ]
  },
  {
   "cell_type": "code",
   "execution_count": 17,
   "metadata": {},
   "outputs": [
    {
     "name": "stdout",
     "output_type": "stream",
     "text": [
      "Train on 120000 samples, validate on 30000 samples\n",
      "Epoch 1/5\n",
      "120000/120000 [==============================] - 68s 568us/sample - loss: 0.4343 - accuracy: 0.7855 - val_loss: 0.3801 - val_accuracy: 0.8216\n",
      "Epoch 2/5\n",
      "120000/120000 [==============================] - 65s 545us/sample - loss: 0.3250 - accuracy: 0.8471 - val_loss: 0.3842 - val_accuracy: 0.8165\n",
      "Epoch 3/5\n",
      "120000/120000 [==============================] - 66s 552us/sample - loss: 0.2734 - accuracy: 0.8681 - val_loss: 0.4191 - val_accuracy: 0.8103\n",
      "Epoch 4/5\n",
      "120000/120000 [==============================] - 66s 546us/sample - loss: 0.2307 - accuracy: 0.8874 - val_loss: 0.4863 - val_accuracy: 0.8094\n",
      "Epoch 5/5\n",
      "120000/120000 [==============================] - 65s 545us/sample - loss: 0.1965 - accuracy: 0.9033 - val_loss: 0.5584 - val_accuracy: 0.8048\n"
     ]
    }
   ],
   "source": [
    "history = model.fit(train_X, train_Y, epochs=5, batch_size=128, validation_split=0.2)"
   ]
  },
  {
   "cell_type": "markdown",
   "metadata": {},
   "source": [
    "#### 감성 분석 모델 학습 결과 확인"
   ]
  },
  {
   "cell_type": "code",
   "execution_count": 18,
   "metadata": {},
   "outputs": [
    {
     "data": {
      "image/png": "[encoded data removed]",
      "text/plain": [
       "<Figure size 864x288 with 2 Axes>"
      ]
     },
     "metadata": {
      "needs_background": "light"
     },
     "output_type": "display_data"
    }
   ],
   "source": [
    "plt.figure(figsize=(12, 4))\n",
    "\n",
    "plt.subplot(1, 2, 1)\n",
    "plt.plot(history.history['loss'], 'b-', label='loss')\n",
    "plt.plot(history.history['val_loss'], 'r--', label='val_loss')\n",
    "plt.xlabel('Epoch')\n",
    "plt.legend()\n",
    "\n",
    "plt.subplot(1, 2, 2)\n",
    "plt.plot(history.history['accuracy'], 'g-', label='accuracy')\n",
    "plt.plot(history.history['val_accuracy'], 'k--', label='val_accuracy')\n",
    "plt.xlabel('Epoch')\n",
    "plt.ylim(0.7, 1)\n",
    "plt.legend()\n",
    "\n",
    "plt.show()"
   ]
  },
  {
   "cell_type": "markdown",
   "metadata": {},
   "source": [
    "#### 테스트 데이터 준비(학습 데이터와 동일한 방법으로 작성)"
   ]
  },
  {
   "cell_type": "code",
   "execution_count": 22,
   "metadata": {},
   "outputs": [
    {
     "name": "stdout",
     "output_type": "stream",
     "text": [
      "['굳', '']\n",
      "['gdnto']\n",
      "['뭐야', '이', '평점들은', '나쁘진', '않지만', '10점', '짜리는', '더더욱', '아니잖아']\n",
      "['지루하지는', '않은데', '완전', '막장임', '돈주고', '보기에는', '']\n",
      "['3d만', '아니었어도', '별', '다섯', '개', '줬을텐데', '왜', '3d로', '나와서', '제', '심기를', '불편하게', '하죠', '\\\\?', '\\\\?', '']\n",
      "[[  594     1     0     0     0     0     0     0     0     0     0     0\n",
      "      0     0     0     0     0     0     0     0     0     0     0     0\n",
      "      0]\n",
      " [    0     0     0     0     0     0     0     0     0     0     0     0\n",
      "      0     0     0     0     0     0     0     0     0     0     0     0\n",
      "      0]\n",
      " [  357     9  4626   990    69  3348  2773     0     0     0     0     0\n",
      "      0     0     0     0     0     0     0     0     0     0     0     0\n",
      "      0]\n",
      " [ 2110    32 12562   506  1450     1     0     0     0     0     0     0\n",
      "      0     0     0     0     0     0     0     0     0     0     0     0\n",
      "      0]\n",
      " [17856   109 12074   244 18890    11  3365   348   468 12715     5     5\n",
      "      1     0     0     0     0     0     0     0     0     0     0     0\n",
      "      0]]\n"
     ]
    }
   ],
   "source": [
    "test_text_X = np.array([row.split('\\t')[1] for row in test_text.split('\\n')[1:] if row.count('\\t') > 0])\n",
    "test_text_X = [clean_str(sentence) for sentence in test_text_X]  # 불필요한 기호 생략\n",
    "\n",
    "# 문장을 띄어쓰기 단위로 단어 분리 \n",
    "sentences = [sentence.split(' ') for sentence in test_text_X]\n",
    "\n",
    "sentences_new = []  # 새로운 리스트 생성 \n",
    "\n",
    "for sentence in sentences:\n",
    "    sentences_new.append([word[:5] for word in sentence][:25])\n",
    "    \n",
    "sentences = sentences_new   # 새로운 형태로 변환된 것을 설정 \n",
    "\n",
    "# 문장 확인 \n",
    "for i in range(5):\n",
    "    print(sentences[i])\n",
    "\n",
    "test_X = tokenizer.texts_to_sequences(sentences)\n",
    "test_X = pad_sequences(test_X, padding='post')\n",
    "\n",
    "print(test_X[:5])"
   ]
  },
  {
   "cell_type": "markdown",
   "metadata": {},
   "source": [
    "#### 모델 평가 "
   ]
  },
  {
   "cell_type": "code",
   "execution_count": 23,
   "metadata": {},
   "outputs": [
    {
     "name": "stdout",
     "output_type": "stream",
     "text": [
      "50000/50000 [==============================] - 4s 80us/sample - loss: 0.5729 - accuracy: 0.7991\n"
     ]
    },
    {
     "data": {
      "text/plain": [
       "[0.5729142402315139, 0.79914]"
      ]
     },
     "execution_count": 23,
     "metadata": {},
     "output_type": "execute_result"
    }
   ],
   "source": [
    "model.evaluate(test_X, test_Y)"
   ]
  },
  {
   "cell_type": "markdown",
   "metadata": {},
   "source": [
    "#### 임의의 문장 감성 분석 결과 확인"
   ]
  },
  {
   "cell_type": "code",
   "execution_count": 33,
   "metadata": {},
   "outputs": [
    {
     "name": "stdout",
     "output_type": "stream",
     "text": [
      "[['재미있을'], ['재미있을', '줄'], ['재미있을', '줄', '알았는데'], ['재미있을', '줄', '알았는데', '완전'], ['재미있을', '줄', '알았는데', '완전', '실망했다.'], ['재미있을', '줄', '알았는데', '완전', '실망했다.', '너무'], ['재미있을', '줄', '알았는데', '완전', '실망했다.', '너무', '졸리고'], ['재미있을', '줄', '알았는데', '완전', '실망했다.', '너무', '졸리고', '돈이'], ['재미있을', '줄', '알았는데', '완전', '실망했다.', '너무', '졸리고', '돈이', '아까웠다.']]\n",
      "[[ 4696     0     0     0     0     0     0     0     0     0     0     0\n",
      "      0     0     0     0     0     0     0     0     0     0     0     0\n",
      "      0]\n",
      " [ 4696   194     0     0     0     0     0     0     0     0     0     0\n",
      "      0     0     0     0     0     0     0     0     0     0     0     0\n",
      "      0]\n",
      " [ 4696   194   523     0     0     0     0     0     0     0     0     0\n",
      "      0     0     0     0     0     0     0     0     0     0     0     0\n",
      "      0]\n",
      " [ 4696   194   523    32     0     0     0     0     0     0     0     0\n",
      "      0     0     0     0     0     0     0     0     0     0     0     0\n",
      "      0]\n",
      " [ 4696   194   523    32     0     0     0     0     0     0     0     0\n",
      "      0     0     0     0     0     0     0     0     0     0     0     0\n",
      "      0]\n",
      " [ 4696   194   523    32     6     0     0     0     0     0     0     0\n",
      "      0     0     0     0     0     0     0     0     0     0     0     0\n",
      "      0]\n",
      " [ 4696   194   523    32     6 12386     0     0     0     0     0     0\n",
      "      0     0     0     0     0     0     0     0     0     0     0     0\n",
      "      0]\n",
      " [ 4696   194   523    32     6 12386   514     0     0     0     0     0\n",
      "      0     0     0     0     0     0     0     0     0     0     0     0\n",
      "      0]\n",
      " [ 4696   194   523    32     6 12386   514     0     0     0     0     0\n",
      "      0     0     0     0     0     0     0     0     0     0     0     0\n",
      "      0]]\n"
     ]
    }
   ],
   "source": [
    "test_sentence = '재미있을 줄 알았는데 완전 실망했다. 너무 졸리고 돈이 아까웠다.'\n",
    "test_sentence = test_sentence.split(' ')\n",
    "\n",
    "test_sentences = []\n",
    "now_sentence = []\n",
    "\n",
    "for word in test_sentence:\n",
    "    now_sentence.append(word)\n",
    "    test_sentences.append(now_sentence[:])   # 단어를 늘려감 \n",
    "    \n",
    "print(test_sentences)\n",
    "    \n",
    "test_X_1 = tokenizer.texts_to_sequences(test_sentences)\n",
    "test_X_1 = pad_sequences(test_X_1, padding='post', maxlen=25)\n",
    "print(test_X_1)"
   ]
  },
  {
   "cell_type": "code",
   "execution_count": 35,
   "metadata": {},
   "outputs": [
    {
     "name": "stdout",
     "output_type": "stream",
     "text": [
      "0 ['재미있을'] [0.1858438  0.81415623]\n",
      "1 ['재미있을', '줄'] [0.23971862 0.7602814 ]\n",
      "2 ['재미있을', '줄', '알았는데'] [0.3608457  0.63915426]\n",
      "3 ['재미있을', '줄', '알았는데', '완전'] [0.46016777 0.53983223]\n",
      "4 ['재미있을', '줄', '알았는데', '완전', '실망했다.'] [0.46016777 0.53983223]\n",
      "5 ['재미있을', '줄', '알았는데', '완전', '실망했다.', '너무'] [0.63687277 0.36312726]\n",
      "6 ['재미있을', '줄', '알았는데', '완전', '실망했다.', '너무', '졸리고'] [0.9971956  0.00280439]\n",
      "7 ['재미있을', '줄', '알았는데', '완전', '실망했다.', '너무', '졸리고', '돈이'] [0.99775654 0.00224346]\n",
      "8 ['재미있을', '줄', '알았는데', '완전', '실망했다.', '너무', '졸리고', '돈이', '아까웠다.'] [0.99775654 0.00224346]\n"
     ]
    }
   ],
   "source": [
    "prediction = model.predict(test_X_1)  # 2가지 경우에 대한 확률 출력 \n",
    "\n",
    "for idx, sentence in enumerate(test_sentences):\n",
    "    print(idx, sentence, prediction[idx])"
   ]
  },
  {
   "cell_type": "markdown",
   "metadata": {},
   "source": [
    "* 진행하면서 확률이 긍정에서 부정의 의미로 99.7%로 예측함."
   ]
  },
  {
   "cell_type": "code",
   "execution_count": null,
   "metadata": {},
   "outputs": [],
   "source": []
  }
 ],
 "metadata": {
  "kernelspec": {
   "display_name": "Python 3",
   "language": "python",
   "name": "python3"
  },
  "language_info": {
   "codemirror_mode": {
    "name": "ipython",
    "version": 3
   },
   "file_extension": ".py",
   "mimetype": "text/x-python",
   "name": "python",
   "nbconvert_exporter": "python",
   "pygments_lexer": "ipython3",
   "version": "3.7.6"
  }
 },
 "nbformat": 4,
 "nbformat_minor": 4
}
