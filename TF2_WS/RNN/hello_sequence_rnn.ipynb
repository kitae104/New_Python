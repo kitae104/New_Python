{
 "cells": [
  {
   "cell_type": "markdown",
   "metadata": {},
   "source": [
    "# 폴딩하지 않은 5개의 시쿼스 처리"
   ]
  },
  {
   "cell_type": "code",
   "execution_count": 1,
   "metadata": {},
   "outputs": [
    {
     "name": "stdout",
     "output_type": "stream",
     "text": [
      "2.1.0\n"
     ]
    }
   ],
   "source": [
    "import numpy as np \n",
    "import tensorflow as tf\n",
    "from tensorflow import keras\n",
    "from tensorflow.keras import layers\n",
    "\n",
    "print(tf.__version__)"
   ]
  },
  {
   "cell_type": "markdown",
   "metadata": {},
   "source": [
    "#### 데이터 셋 준비 \n",
    "* 원-핫 인코딩"
   ]
  },
  {
   "cell_type": "code",
   "execution_count": 3,
   "metadata": {},
   "outputs": [],
   "source": [
    "h = [1, 0, 0, 0]\n",
    "e = [0, 1, 0, 0]\n",
    "l = [0, 0, 1, 0]\n",
    "o = [0, 0, 0, 1]"
   ]
  },
  {
   "cell_type": "markdown",
   "metadata": {},
   "source": [
    "#### Unfolding to n sequences\n",
    "![Unfolding to n sequences](../imgs/unfolding_n_sequence.png)"
   ]
  },
  {
   "cell_type": "markdown",
   "metadata": {},
   "source": [
    "####  하나의 RNN셀의 입력 차수(4) -> 출력 차수(2). 시퀀스 : 5"
   ]
  },
  {
   "cell_type": "code",
   "execution_count": 5,
   "metadata": {},
   "outputs": [
    {
     "name": "stdout",
     "output_type": "stream",
     "text": [
      "x_data: [[[1. 0. 0. 0.]\n",
      "  [0. 1. 0. 0.]\n",
      "  [0. 0. 1. 0.]\n",
      "  [0. 0. 1. 0.]\n",
      "  [0. 0. 0. 1.]]], shape: (1, 5, 4) \n",
      "\n",
      "outputs: [[[-0.49528572  0.66285276]\n",
      "  [-0.15525122 -0.3787176 ]\n",
      "  [ 0.6214603  -0.82296324]\n",
      "  [-0.16466856 -0.83746773]\n",
      "  [-0.39773878 -0.4874155 ]]], shape: (1, 5, 2) \n",
      "\n",
      "states: [[-0.39773878 -0.4874155 ]], shape: (1, 2)\n"
     ]
    }
   ],
   "source": [
    "x_data = np.array([[h,e,l,l,o]], dtype=np.float32)\n",
    "\n",
    "hidden_size = 2\n",
    "\n",
    "rnn = layers.SimpleRNN(units=2, return_sequences=True, return_state=True)\n",
    "outputs, states = rnn(x_data)\n",
    "\n",
    "print('x_data: {}, shape: {} \\n'.format(x_data, x_data.shape))\n",
    "print('outputs: {}, shape: {} \\n'.format(outputs, outputs.shape))\n",
    "print('states: {}, shape: {}'.format(states, states.shape))"
   ]
  },
  {
   "cell_type": "markdown",
   "metadata": {},
   "source": [
    "#### 하나의 RNN셀의 입력 차수(4) -> 출력 차수(2). 시퀀스 : 5, 배치 3"
   ]
  },
  {
   "cell_type": "code",
   "execution_count": 7,
   "metadata": {},
   "outputs": [
    {
     "name": "stdout",
     "output_type": "stream",
     "text": [
      "x_data: [[[1. 0. 0. 0.]\n",
      "  [0. 1. 0. 0.]\n",
      "  [0. 0. 1. 0.]\n",
      "  [0. 0. 1. 0.]\n",
      "  [0. 0. 0. 1.]]\n",
      "\n",
      " [[0. 1. 0. 0.]\n",
      "  [0. 0. 0. 1.]\n",
      "  [0. 0. 1. 0.]\n",
      "  [0. 0. 1. 0.]\n",
      "  [0. 0. 1. 0.]]\n",
      "\n",
      " [[0. 0. 1. 0.]\n",
      "  [0. 0. 1. 0.]\n",
      "  [0. 1. 0. 0.]\n",
      "  [0. 1. 0. 0.]\n",
      "  [0. 0. 1. 0.]]], shape: (3, 5, 4) \n",
      "\n",
      "outputs: [[[-0.74553126  0.6438534 ]\n",
      "  [ 0.69540524  0.50212955]\n",
      "  [ 0.14907522 -0.03410923]\n",
      "  [-0.35649675  0.48142436]\n",
      "  [ 0.6687258  -0.489257  ]]\n",
      "\n",
      " [[ 0.19439693 -0.17596893]\n",
      "  [ 0.13722315 -0.7895167 ]\n",
      "  [-0.81025714  0.5040308 ]\n",
      "  [ 0.185808    0.89978075]\n",
      "  [ 0.50788987  0.43483973]]\n",
      "\n",
      " [[-0.32319725  0.5869868 ]\n",
      "  [ 0.253652    0.75400263]\n",
      "  [ 0.73734856 -0.4213858 ]\n",
      "  [-0.23732962 -0.71868145]\n",
      "  [-0.78104013  0.729404  ]]], shape: (3, 5, 2) \n",
      "\n",
      "states: [[ 0.6687258  -0.489257  ]\n",
      " [ 0.50788987  0.43483973]\n",
      " [-0.78104013  0.729404  ]], shape: (3, 2)\n"
     ]
    }
   ],
   "source": [
    "x_data = np.array([[h, e, l, l, o],\n",
    "                   [e, o, l, l, l],\n",
    "                   [l, l, e, e, l]], dtype=np.float32)\n",
    "\n",
    "hidden_size = 2\n",
    "\n",
    "rnn = layers.SimpleRNN(units=2, return_sequences=True, return_state=True)\n",
    "outputs, states = rnn(x_data)\n",
    "\n",
    "print('x_data: {}, shape: {} \\n'.format(x_data, x_data.shape))\n",
    "print('outputs: {}, shape: {} \\n'.format(outputs, outputs.shape))\n",
    "print('states: {}, shape: {}'.format(states, states.shape))"
   ]
  },
  {
   "cell_type": "markdown",
   "metadata": {},
   "source": [
    "* outputs의 마지막 데이터와 states의 데이터가 동일"
   ]
  },
  {
   "cell_type": "code",
   "execution_count": null,
   "metadata": {},
   "outputs": [],
   "source": []
  }
 ],
 "metadata": {
  "kernelspec": {
   "display_name": "Python 3",
   "language": "python",
   "name": "python3"
  },
  "language_info": {
   "codemirror_mode": {
    "name": "ipython",
    "version": 3
   },
   "file_extension": ".py",
   "mimetype": "text/x-python",
   "name": "python",
   "nbconvert_exporter": "python",
   "pygments_lexer": "ipython3",
   "version": "3.7.6"
  }
 },
 "nbformat": 4,
 "nbformat_minor": 4
}
