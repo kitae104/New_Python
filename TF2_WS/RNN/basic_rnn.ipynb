{
 "cells": [
  {
   "cell_type": "markdown",
   "metadata": {},
   "source": [
    "# RNN (Recurrent Neural Network : 순환 신경망)"
   ]
  },
  {
   "cell_type": "markdown",
   "metadata": {},
   "source": [
    "## 순환 신경망\n",
    "* 순환 신경망은 순서가 있는 데이터를 입력 받고, 같은 네트워크를 이용해 변화하는 입력에 대한 출력을 얻는다. \n",
    "* 순서가 있는 데이터는 음악, 자연어, 날씨, 주가 등 시간의 흐름에 따라 변화하고 그 변화가 의미를 갖는 데이터이다. \n",
    "* 순환 신경망은 입력과 출력의 길이에 제한이 없다는 특징 있음. "
   ]
  },
  {
   "cell_type": "markdown",
   "metadata": {},
   "source": [
    "## 1. 순환 신경망 주요 레이어\n",
    "* SimpleRNN 레이어 : 가장 간단한 형태의 RNN 레이어 "
   ]
  },
  {
   "cell_type": "markdown",
   "metadata": {},
   "source": [
    "## * SimpleRNN"
   ]
  },
  {
   "cell_type": "markdown",
   "metadata": {},
   "source": [
    "## * LSTM"
   ]
  },
  {
   "cell_type": "markdown",
   "metadata": {},
   "source": [
    "## * GRU"
   ]
  },
  {
   "cell_type": "markdown",
   "metadata": {},
   "source": [
    "## * 임베딩 레이어(Embedding Layer)\n",
    "* 자연어를 수치화된 정보로 바꾸기 위한 레이어 \n",
    "* __자연어__ : 시간의 흐름에 따라 정보가 연속적으로 이어지는 시퀀스 데이터 \n",
    "* 자연어를 구성하는 단위에 대해 정수 인덱스를 사용하는 방법 \n",
    "    * 단어에 대해 인덱스를 부여 \n",
    "    * 인덱스를 사용하는 원-핫-인코딩 방식의 단점은 사용하는 메모리의 양에 비해 너무 적은 정보량을 표현한다는 것. \n",
    "    * 인덱스에 저장된 단어의 수가 많아질수록 2째 차원의 크기도 그에 비례해서 늘어나 메모리 양이 더욱 늘어난다. \n",
    "* 임베딩 레이어\n",
    "    * 한정된 길이의 벡터로 자연어의 구성 단위인 자소, 문자, 단어, n-gram 등을 표현할 수 있다. \n",
    "    * 이론상 무한대의 단어를 표현할 수 있음 \n",
    "    * 임베팅 차원으로는 200에서 500 사이를 사용 \n",
    "    * 임베딩 레이어는 정수 인덱스를 단어 임베딩으로 바꾸는 역할을 하기 때문에 정수 인덱스는 임베딩 레이어의 입력이 된다. \n",
    "    * 임베딩 레이어의 행과 각 단어 임베딩은 동일한 값을 가짐\n",
    "* 자연어\n",
    "    * 미리 정해놓을 수 없을 정도로 많은 단어가 있기 때문에 보통은 정수 인덱스로 저장하지 않는 단어에 대한 임베딩 값을 별도로 마련함.\n",
    "    * 임베딩 레이어의 행 수가 10,000이라면 9,999는 미리 지정된 단어의 개수이고, 나머지 1은 지정되지 않은 단어를 위한 값(UNK)이다. \n",
    "* 학습 방법 \n",
    "    * Word2Vec, GloVe, FastText, ELMo 등 \n",
    "    * 미리 훈련된 임베딩 레이어의 가중치를 불러와서 사용하면 학습 시간을 절약할 수 있음"
   ]
  },
  {
   "cell_type": "code",
   "execution_count": null,
   "metadata": {},
   "outputs": [],
   "source": []
  }
 ],
 "metadata": {
  "kernelspec": {
   "display_name": "Python 3",
   "language": "python",
   "name": "python3"
  },
  "language_info": {
   "codemirror_mode": {
    "name": "ipython",
    "version": 3
   },
   "file_extension": ".py",
   "mimetype": "text/x-python",
   "name": "python",
   "nbconvert_exporter": "python",
   "pygments_lexer": "ipython3",
   "version": "3.7.6"
  }
 },
 "nbformat": 4,
 "nbformat_minor": 4
}
