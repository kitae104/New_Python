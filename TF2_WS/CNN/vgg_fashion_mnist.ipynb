{
 "cells": [
  {
   "cell_type": "markdown",
   "metadata": {},
   "source": [
    "# VGGNet을 이용한 Fashion MNIST 데이터 분류 모델 \n",
    "* __VGG__ 는 단순한 구조이면서도 성능이 좋기 때문에 미지의 특징 추출을 위한 네트워크에 많이 사용됨"
   ]
  },
  {
   "cell_type": "code",
   "execution_count": 1,
   "metadata": {},
   "outputs": [],
   "source": [
    "import tensorflow as tf\n",
    "import numpy as np\n",
    "import matplotlib.pyplot as plt"
   ]
  },
  {
   "cell_type": "markdown",
   "metadata": {},
   "source": [
    "#### 데이터셋 불러오기와 정규화"
   ]
  },
  {
   "cell_type": "code",
   "execution_count": 2,
   "metadata": {},
   "outputs": [],
   "source": [
    "fashion_mnist = tf.keras.datasets.fashion_mnist\n",
    "(train_X, train_Y), (test_X, test_Y) = fashion_mnist.load_data()\n",
    "train_X = train_X / 255.0\n",
    "test_X = test_X / 255.0"
   ]
  },
  {
   "cell_type": "markdown",
   "metadata": {},
   "source": [
    "#### 데이터를 채널을 가진 이미지 형태(3차원)으로 바꾸기\n",
    "* Conv2D 레이어에서는 채널을 가진 형태가 필요하기 때문에 reshape 로 마지막에 흑백 이미지를 의미하는 1채널을 추가한다."
   ]
  },
  {
   "cell_type": "code",
   "execution_count": 3,
   "metadata": {},
   "outputs": [
    {
     "name": "stdout",
     "output_type": "stream",
     "text": [
      "(60000, 28, 28) (10000, 28, 28)\n",
      "(60000, 28, 28, 1) (10000, 28, 28, 1)\n"
     ]
    }
   ],
   "source": [
    "# 형태 확인하기 \n",
    "print(train_X.shape, test_X.shape)  # 2차원 데이터 \n",
    "\n",
    "# 3차원으로 변형 \n",
    "train_X = train_X.reshape(-1, 28, 28, 1)\n",
    "test_X = test_X.reshape(-1, 28, 28, 1)\n",
    "\n",
    "# 형태 확인하기 \n",
    "print(train_X.shape, test_X.shape)  # 3차원 데이터"
   ]
  },
  {
   "cell_type": "markdown",
   "metadata": {},
   "source": [
    "#### VGGNet 스타일의 Fashion MNIST 분류 컨볼루션 신경망 모델 정의\n",
    "* VGG-19는 특징 추출기의 초반에 컨볼루션 레이어를 2개 겹친 뒤 풀링 레이어를 1개를 사용하는 패턴을 2차례, 그 후 컨볼루션 레이어를 4개 겹친 뒤 풀링 레이어를 1개 사용하는 패턴을 3차례 반복"
   ]
  },
  {
   "cell_type": "code",
   "execution_count": 4,
   "metadata": {},
   "outputs": [
    {
     "name": "stdout",
     "output_type": "stream",
     "text": [
      "Model: \"sequential\"\n",
      "_________________________________________________________________\n",
      "Layer (type)                 Output Shape              Param #   \n",
      "=================================================================\n",
      "conv2d (Conv2D)              (None, 28, 28, 32)        320       \n",
      "_________________________________________________________________\n",
      "conv2d_1 (Conv2D)            (None, 28, 28, 64)        18496     \n",
      "_________________________________________________________________\n",
      "max_pooling2d (MaxPooling2D) (None, 14, 14, 64)        0         \n",
      "_________________________________________________________________\n",
      "dropout (Dropout)            (None, 14, 14, 64)        0         \n",
      "_________________________________________________________________\n",
      "conv2d_2 (Conv2D)            (None, 14, 14, 128)       73856     \n",
      "_________________________________________________________________\n",
      "conv2d_3 (Conv2D)            (None, 12, 12, 256)       295168    \n",
      "_________________________________________________________________\n",
      "max_pooling2d_1 (MaxPooling2 (None, 6, 6, 256)         0         \n",
      "_________________________________________________________________\n",
      "dropout_1 (Dropout)          (None, 6, 6, 256)         0         \n",
      "_________________________________________________________________\n",
      "flatten (Flatten)            (None, 9216)              0         \n",
      "_________________________________________________________________\n",
      "dense (Dense)                (None, 512)               4719104   \n",
      "_________________________________________________________________\n",
      "dropout_2 (Dropout)          (None, 512)               0         \n",
      "_________________________________________________________________\n",
      "dense_1 (Dense)              (None, 256)               131328    \n",
      "_________________________________________________________________\n",
      "dropout_3 (Dropout)          (None, 256)               0         \n",
      "_________________________________________________________________\n",
      "dense_2 (Dense)              (None, 10)                2570      \n",
      "=================================================================\n",
      "Total params: 5,240,842\n",
      "Trainable params: 5,240,842\n",
      "Non-trainable params: 0\n",
      "_________________________________________________________________\n"
     ]
    }
   ],
   "source": [
    "model = tf.keras.models.Sequential([\n",
    "    tf.keras.layers.Conv2D(input_shape=(28,28,1), kernel_size=(3,3), filters=32, padding='same', activation='relu'),\n",
    "    tf.keras.layers.Conv2D(kernel_size=(3,3), filters=64, padding='same', activation='relu'),\n",
    "    tf.keras.layers.MaxPool2D(pool_size=(2,2)),\n",
    "    tf.keras.layers.Dropout(rate=0.5),\n",
    "    \n",
    "    tf.keras.layers.Conv2D(kernel_size=(3,3), filters=128, padding='same', activation='relu'),\n",
    "    tf.keras.layers.Conv2D(kernel_size=(3,3), filters=256, padding='valid', activation='relu'),\n",
    "    tf.keras.layers.MaxPool2D(pool_size=(2,2)),\n",
    "    tf.keras.layers.Dropout(rate=0.5),\n",
    "    \n",
    "    tf.keras.layers.Flatten(),\n",
    "    \n",
    "    tf.keras.layers.Dense(units=512, activation='relu'),\n",
    "    tf.keras.layers.Dropout(rate=0.5),\n",
    "    tf.keras.layers.Dense(units=256, activation='relu'),\n",
    "    tf.keras.layers.Dropout(rate=0.5),\n",
    "    tf.keras.layers.Dense(units=10, activation='softmax')\n",
    "])\n",
    "\n",
    "model.summary()"
   ]
  },
  {
   "cell_type": "markdown",
   "metadata": {},
   "source": [
    "#### 모델 컴파일\n",
    "* __sparse_categorical_crossentropy__ : 기존의 원-핫-인코딩으로 처리해야하는 전처리 없이 희소 행렬을 나타내는 데이터를 정답 행렬로 변환해서 처리한다. 따라서 기존에 정답 데이터에 대해 to_categorical() 함수를 처리하지 않아도 된다.\n",
    "* __Adam()__ : lr을 설정하지 않으면 기본 값인 lr=0.001로 설정된다.\n",
    "\n",
    "__compile(self, optimizer, loss, metrics=None, sample_weight_mode=None)__\n",
    "* optimizer: 문자열(최적화기의 이름) 혹은 최적화기 객체입니다\n",
    "* loss: 문자열(대상 함수의 이름) 혹은 대상 함수입니다\n",
    "* metrics: 훈련과 시험이 진행되는 동안 모델에 의해 평가될 metric의 리스트입니다. 보통 metrics=['accuracy']형태로 사용하게 될 것입니다\n",
    "* sample_weight_mode: 시간 단계별로 샘플에 가중치를 줄 필요가 있을 때(2차원 가중치)에는 \"temporal\"로 설정. 기본값인 \"None\"은 샘플 단위로 가중치를 주도록 합니다.(1차원)"
   ]
  },
  {
   "cell_type": "code",
   "execution_count": 5,
   "metadata": {},
   "outputs": [],
   "source": [
    "model.compile(optimizer = tf.keras.optimizers.Adam(), loss='sparse_categorical_crossentropy', metrics=['accuracy'])"
   ]
  },
  {
   "cell_type": "markdown",
   "metadata": {},
   "source": [
    "#### VGGNet 스타일의 Fashion MNIST 분류 컨볼루션 신경망 모델 학습"
   ]
  },
  {
   "cell_type": "code",
   "execution_count": 7,
   "metadata": {},
   "outputs": [
    {
     "name": "stdout",
     "output_type": "stream",
     "text": [
      "Train on 45000 samples, validate on 15000 samples\n",
      "Epoch 1/25\n",
      "45000/45000 [==============================] - 21s 473us/sample - loss: 0.5757 - accuracy: 0.7920 - val_loss: 0.3266 - val_accuracy: 0.8796\n",
      "Epoch 2/25\n",
      "45000/45000 [==============================] - 18s 409us/sample - loss: 0.3635 - accuracy: 0.8704 - val_loss: 0.2786 - val_accuracy: 0.8953\n",
      "Epoch 3/25\n",
      "45000/45000 [==============================] - 18s 408us/sample - loss: 0.3222 - accuracy: 0.8841 - val_loss: 0.2616 - val_accuracy: 0.9043\n",
      "Epoch 4/25\n",
      "45000/45000 [==============================] - 18s 407us/sample - loss: 0.2953 - accuracy: 0.8938 - val_loss: 0.2337 - val_accuracy: 0.9149\n",
      "Epoch 5/25\n",
      "45000/45000 [==============================] - 18s 407us/sample - loss: 0.2824 - accuracy: 0.8985 - val_loss: 0.2407 - val_accuracy: 0.9120\n",
      "Epoch 6/25\n",
      "45000/45000 [==============================] - 18s 407us/sample - loss: 0.2753 - accuracy: 0.9014 - val_loss: 0.2276 - val_accuracy: 0.9153\n",
      "Epoch 7/25\n",
      "45000/45000 [==============================] - 18s 408us/sample - loss: 0.2641 - accuracy: 0.9061 - val_loss: 0.2311 - val_accuracy: 0.9155\n",
      "Epoch 8/25\n",
      "45000/45000 [==============================] - 18s 408us/sample - loss: 0.2607 - accuracy: 0.9077 - val_loss: 0.2256 - val_accuracy: 0.9181\n",
      "Epoch 9/25\n",
      "45000/45000 [==============================] - 19s 417us/sample - loss: 0.2509 - accuracy: 0.9102 - val_loss: 0.2084 - val_accuracy: 0.9231\n",
      "Epoch 10/25\n",
      "45000/45000 [==============================] - 19s 414us/sample - loss: 0.2457 - accuracy: 0.9140 - val_loss: 0.2091 - val_accuracy: 0.9263\n",
      "Epoch 11/25\n",
      "45000/45000 [==============================] - 18s 409us/sample - loss: 0.2416 - accuracy: 0.9135 - val_loss: 0.2083 - val_accuracy: 0.9265\n",
      "Epoch 12/25\n",
      "45000/45000 [==============================] - 18s 410us/sample - loss: 0.2406 - accuracy: 0.9116 - val_loss: 0.2020 - val_accuracy: 0.9260\n",
      "Epoch 13/25\n",
      "45000/45000 [==============================] - 18s 409us/sample - loss: 0.2388 - accuracy: 0.9139 - val_loss: 0.2198 - val_accuracy: 0.9198\n",
      "Epoch 14/25\n",
      "45000/45000 [==============================] - 18s 409us/sample - loss: 0.2336 - accuracy: 0.9173 - val_loss: 0.2057 - val_accuracy: 0.9262\n",
      "Epoch 15/25\n",
      "45000/45000 [==============================] - 18s 409us/sample - loss: 0.2381 - accuracy: 0.9137 - val_loss: 0.2129 - val_accuracy: 0.9230\n",
      "Epoch 16/25\n",
      "45000/45000 [==============================] - 18s 409us/sample - loss: 0.2305 - accuracy: 0.9171 - val_loss: 0.2029 - val_accuracy: 0.9276\n",
      "Epoch 17/25\n",
      "45000/45000 [==============================] - 18s 409us/sample - loss: 0.2287 - accuracy: 0.9181 - val_loss: 0.2027 - val_accuracy: 0.9281\n",
      "Epoch 18/25\n",
      "45000/45000 [==============================] - 18s 409us/sample - loss: 0.2272 - accuracy: 0.9194 - val_loss: 0.1999 - val_accuracy: 0.9291\n",
      "Epoch 19/25\n",
      "45000/45000 [==============================] - 18s 410us/sample - loss: 0.2328 - accuracy: 0.9158 - val_loss: 0.2060 - val_accuracy: 0.9284\n",
      "Epoch 20/25\n",
      "45000/45000 [==============================] - 18s 409us/sample - loss: 0.2238 - accuracy: 0.9188 - val_loss: 0.2049 - val_accuracy: 0.9268\n",
      "Epoch 21/25\n",
      "45000/45000 [==============================] - 18s 410us/sample - loss: 0.2315 - accuracy: 0.9171 - val_loss: 0.1989 - val_accuracy: 0.9289\n",
      "Epoch 22/25\n",
      "45000/45000 [==============================] - 18s 409us/sample - loss: 0.2274 - accuracy: 0.9183 - val_loss: 0.2140 - val_accuracy: 0.9271\n",
      "Epoch 23/25\n",
      "45000/45000 [==============================] - 18s 409us/sample - loss: 0.2238 - accuracy: 0.9211 - val_loss: 0.1995 - val_accuracy: 0.9295\n",
      "Epoch 24/25\n",
      "45000/45000 [==============================] - 18s 408us/sample - loss: 0.2238 - accuracy: 0.9208 - val_loss: 0.2033 - val_accuracy: 0.9277\n",
      "Epoch 25/25\n",
      "45000/45000 [==============================] - 18s 408us/sample - loss: 0.2165 - accuracy: 0.9236 - val_loss: 0.1980 - val_accuracy: 0.9296\n"
     ]
    }
   ],
   "source": [
    "history = model.fit(train_X, train_Y, epochs=25, validation_split=0.25)"
   ]
  },
  {
   "cell_type": "markdown",
   "metadata": {},
   "source": [
    "#### 모델 평가 \n",
    "evaluate(self, x, y, batch_size=32, verbose=1, sample_weight=None)\n",
    "* x: Numpy 배열 혹은 Numpy 배열의 리스트(복수의 입력을 가진 모델인 경우)이며 입력 데이터입니다.\n",
    "* y: Numpy 배열이며 레이블입니다.\n",
    "* batch_size: 정수이며 매 기울기 업데이트마다의 샘플의 갯수입니다.\n",
    "* verbose: 세부 정보 모드, 0 혹은 1 중 택일합니다.\n",
    "* sample_weight: Numpy 배열이며 샘플의 가중치입니다."
   ]
  },
  {
   "cell_type": "code",
   "execution_count": 10,
   "metadata": {},
   "outputs": [
    {
     "data": {
      "text/plain": [
       "[0.22044731467962264, 0.9244]"
      ]
     },
     "execution_count": 10,
     "metadata": {},
     "output_type": "execute_result"
    }
   ],
   "source": [
    "model.evaluate(test_X, test_Y, verbose=0)"
   ]
  },
  {
   "cell_type": "code",
   "execution_count": 12,
   "metadata": {},
   "outputs": [
    {
     "data": {
      "image/png": "[encoded data removed]",
      "text/plain": [
       "<Figure size 864x288 with 2 Axes>"
      ]
     },
     "metadata": {
      "needs_background": "light"
     },
     "output_type": "display_data"
    }
   ],
   "source": [
    "plt.figure(figsize=(12, 4))\n",
    "\n",
    "plt.subplot(1,2,1)\n",
    "plt.plot(history.history['loss'], 'b-', label='loss')\n",
    "plt.plot(history.history['val_loss'], 'r--', label='val_loss')\n",
    "plt.xlabel('Epoch')\n",
    "plt.legend()\n",
    "\n",
    "plt.subplot(1,2,2)\n",
    "plt.plot(history.history['accuracy'], 'g-', label='accuracy')\n",
    "plt.plot(history.history['val_accuracy'], 'k--', label='val_accuracy')\n",
    "plt.xlabel('Epoch')\n",
    "plt.ylim(0.7, 1)\n",
    "plt.legend()\n",
    "plt.show()"
   ]
  },
  {
   "cell_type": "code",
   "execution_count": null,
   "metadata": {},
   "outputs": [],
   "source": []
  }
 ],
 "metadata": {
  "kernelspec": {
   "display_name": "Python 3",
   "language": "python",
   "name": "python3"
  },
  "language_info": {
   "codemirror_mode": {
    "name": "ipython",
    "version": 3
   },
   "file_extension": ".py",
   "mimetype": "text/x-python",
   "name": "python",
   "nbconvert_exporter": "python",
   "pygments_lexer": "ipython3",
   "version": "3.7.6"
  }
 },
 "nbformat": 4,
 "nbformat_minor": 4
}
