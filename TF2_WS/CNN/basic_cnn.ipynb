{
 "cells": [
  {
   "cell_type": "markdown",
   "metadata": {},
   "source": [
    "# CNN\n",
    "* 컨볼루션 연산(합성곱) : 각 픽셀을 본래 픽셀과 그 주변 픽셀의 조합으로 대체하는 동작 \n",
    "* 필터(filter) 또는 커널(kernel) : 연산에 사용되는 작은 행렬\n",
    "* 딥러닝 기반의 컨볼루션 연산은 네트워크가 특징을 추출하는 필터를 자동으로 생성 \n",
    "* 학습을 계속하면 네트워크를 구성하는 각 뉴런들은 입력한 데이터에 대한 특정 패턴을 잘 추출할 수 있도록 적응됨."
   ]
  },
  {
   "cell_type": "markdown",
   "metadata": {},
   "source": [
    "## 컨볼루션 신경망\n",
    "* 특징 추출기(Feature Extractor)와 분류기(Classifier)가 합쳐져 있는 형태 \n",
    "* 특징 추출기 : Conv 레이어 + Pool 레이어 + Conv 레이어 + Pool 레이어 + Flattten 레이어(다차원을 1차원으로 변환)\n",
    "* 분류기 : Dense 레이어 + 드롭아웃 레이어(과적합 방지 + Dense 레이어 "
   ]
  },
  {
   "cell_type": "markdown",
   "metadata": {},
   "source": [
    "### 컨볼루션 레이어(Convolution Layer)\n",
    "* 컨볼루션 연산을 수행하는 레이어 --> 여기서 사용하는 필터는 사람이 정하는 것이 아니라 네트워크의 학습을 통해 자동으로 추출됨 \n",
    "* 필터의 갯수가 많을 사용될 수록 다양한 특징을 추출함 \n",
    "* 이미지는 원색으로 구성된 채널(Channel) 존재 --> 채널은 각 이미지가 가진 색상에 대한 정보를 분리해서 담아놓는 공간을 의미(흑백 1채널/컬러 3채널)\n",
    "* 새로운 이미지의 차원 수는 필터의 수와 동일 --> 필터의 수가 늘어나기 때문에 이미지의 마지막 차수는 점점 많아짐\n",
    "* conv1 = tf.keras.layers.Conv2D(kernel_size=(3,3), strides=(2,2), padding='valid', filters=16)\n",
    "* kernel_size=(3,3) : 필터 행렬의 크기 \n",
    "* strides=(2,2) : 한 스텝마다 이동하는 크기 --> strides가 달라지면 이미지의 크기에 영향을 준다. \n",
    "* padding='valid' : 컨볼루션 연산 전에 입력 이미지 주변에 빈 값을 넣을지 지정하는 옵셥(valid/same)으로 'valid'는 빈 값을 사용하지 않는다. \n",
    "* filters=16 : 필터의 갯수. --> 필터의 갯수는 네트워크가 얼마나 많은 특징을 추출할 수 있는지 결정하기 때문에 많을수록 좋지만, 너무 많으면 학습 속도가 느려지고 과적합이 발생할 수 있음."
   ]
  },
  {
   "cell_type": "markdown",
   "metadata": {},
   "source": [
    "### 풀링 레이어(Pooling Layer)\n",
    "* 이미지를 구성하는 픽셀 중에 인접한 픽셀들은 비슷한 정보를 포함하기 때문에 이미지 크기를 줄여가며 중요한 정보만 남기는 서브 샘플링 기법 사용\n",
    "* 중요한 정보만 남기는 과정은 효율적인 메모리 사용을 위해서도 좋고, 계산할 정보가 줄어들기 때문에 과적합을 방지하는 효과도 있음.\n",
    "* Max / Average 풀링이 있는데 보통은 Max 풀링 레이어를 많이 사용함.\n",
    "* pool1 = tf.keras.layers.MaxPool2D(pool_size=(2,2), strides=(2,2))\n",
    "* pool_size=(2,2) : 한 번에 연산을 수행할 범위\n",
    "* strides=(2,2) : 한 스탭마다 이동하는 크기 \n",
    "* 풀링 레이어는 가중치가 존재하지 않기 때문에 학습되지 않으며, 네트워크 구조에 따라 생략되기도 함."
   ]
  },
  {
   "cell_type": "markdown",
   "metadata": {},
   "source": [
    "### 드롭아웃 레이어(Dropout Layer)\n",
    "* 네트워크의 과적합을 막기위해 사용하는 레이어 \n",
    "* 학습 과정에서 무작위로 뉴런의 부분집합을 제거함\n",
    "* 네트워크가 학습할 때 같은 레이어에 있는 뉴런들은 결과값에 의해 서로 같은 영향을 받는다. --> 따라서 각 뉴런의 계산 결과를 모두 더해서 나오는 결괏값은 한쪽으로 치우침\n",
    "* 드롭아웃 레이어는 학습 과정에서 확률적으로 일부 뉴런에 대한 연결을 끊고, 테스트할 때는 정상적으로 모든 값을 포함해서 계산함\n",
    "* drop = tf.keras.layers.Dropout(rate=0.3)\n",
    "* rate=0.3 : 제외할 뉴런의 비율\n",
    "* 드롭아웃 레이어도 가중치가 없기 때문에 학습되지 않음"
   ]
  },
  {
   "cell_type": "code",
   "execution_count": 4,
   "metadata": {},
   "outputs": [],
   "source": [
    "import tensorflow as tf\n",
    "import numpy as np"
   ]
  },
  {
   "cell_type": "code",
   "execution_count": 5,
   "metadata": {},
   "outputs": [],
   "source": [
    "conv1 = tf.keras.layers.Conv2D(kernel_size=(3,3), strides=(2,2), padding='valid', filters=16)\n",
    "pool1 = tf.keras.layers.MaxPool2D(pool_size=(2,2), strides=(2,2))\n",
    "drop = tf.keras.layers.Dropout(rate=0.3)"
   ]
  },
  {
   "cell_type": "code",
   "execution_count": null,
   "metadata": {},
   "outputs": [],
   "source": []
  }
 ],
 "metadata": {
  "kernelspec": {
   "display_name": "Python 3",
   "language": "python",
   "name": "python3"
  },
  "language_info": {
   "codemirror_mode": {
    "name": "ipython",
    "version": 3
   },
   "file_extension": ".py",
   "mimetype": "text/x-python",
   "name": "python",
   "nbconvert_exporter": "python",
   "pygments_lexer": "ipython3",
   "version": "3.7.6"
  }
 },
 "nbformat": 4,
 "nbformat_minor": 4
}
