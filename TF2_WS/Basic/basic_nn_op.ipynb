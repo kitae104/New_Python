{
 "cells": [
  {
   "cell_type": "markdown",
   "metadata": {},
   "source": [
    "# 첫번째 신경망 네트워크 : AND"
   ]
  },
  {
   "cell_type": "code",
   "execution_count": 12,
   "metadata": {},
   "outputs": [
    {
     "name": "stdout",
     "output_type": "stream",
     "text": [
      "1\n",
      "0\n"
     ]
    }
   ],
   "source": [
    "print(int(True))\n",
    "print(int(False))"
   ]
  },
  {
   "cell_type": "code",
   "execution_count": 42,
   "metadata": {},
   "outputs": [],
   "source": [
    "import numpy as np\n",
    "import tensorflow as tf\n",
    "from test import sigmoid"
   ]
  },
  {
   "cell_type": "markdown",
   "metadata": {},
   "source": [
    "* x : 입력 \n",
    "* y : 출력(결과)"
   ]
  },
  {
   "cell_type": "code",
   "execution_count": 46,
   "metadata": {},
   "outputs": [],
   "source": [
    "x = np.array([[1,1], [1,0], [0,1], [0,0]])\n",
    "y = np.array([[1], [0], [0], [0]])\n",
    "\n",
    "w = tf.random.normal([2], 0, 1)\n",
    "b = tf.random.normal([1], 0, 1)"
   ]
  },
  {
   "cell_type": "markdown",
   "metadata": {},
   "source": [
    "#### 학습 수행 "
   ]
  },
  {
   "cell_type": "code",
   "execution_count": 48,
   "metadata": {},
   "outputs": [
    {
     "name": "stdout",
     "output_type": "stream",
     "text": [
      "step :     0, error : -1.00783784\n",
      "step :   200, error : -0.11019879\n",
      "step :   400, error : -0.06566636\n",
      "step :   600, error : -0.04665582\n",
      "step :   800, error : -0.03607702\n",
      "step :  1000, error : -0.02935513\n",
      "step :  1200, error : -0.02471592\n",
      "step :  1400, error : -0.02132654\n",
      "step :  1600, error : -0.01874515\n",
      "step :  1800, error : -0.01671474\n",
      "step :  2000, error : -0.01507637\n"
     ]
    }
   ],
   "source": [
    "for i in range(2001):\n",
    "    error_sum = 0\n",
    "    \n",
    "    for j in range(4):\n",
    "        output = sigmoid(np.sum(x[j] * w) + b * 1)\n",
    "        error = y[j][0] - output\n",
    "        w = w + x[j] * 0.1 * error\n",
    "        b = b + 1 * 0.1 * error\n",
    "        error_sum += error\n",
    "        \n",
    "    if i %  200 == 0:\n",
    "        print('step : {0:5}, error : {1:10.8f}'.format(i, error_sum))  # 자릿수 맞춰 출력하기 "
   ]
  },
  {
   "cell_type": "markdown",
   "metadata": {},
   "source": [
    "#### 평가하기 \n",
    "* X : [1 1]로 입력을 넣으면 출력이 거의 1에 가깝에 출력\n",
    "* 나머지 경우는 0에 가까움"
   ]
  },
  {
   "cell_type": "code",
   "execution_count": 51,
   "metadata": {},
   "outputs": [
    {
     "name": "stdout",
     "output_type": "stream",
     "text": [
      "X : [1 1] Y : [1] Output : 0.9648017879221173\n",
      "X : [1 0] Y : [0] Output : 0.024942190515845807\n",
      "X : [0 1] Y : [0] Output : 0.02501861075623774\n",
      "X : [0 0] Y : [0] Output : 2.394656338127391e-05\n"
     ]
    }
   ],
   "source": [
    "for i in range(4):\n",
    "    print('X :', x[i], 'Y :', y[i], 'Output :', sigmoid(np.sum(x[i]*w) + b))"
   ]
  },
  {
   "cell_type": "code",
   "execution_count": null,
   "metadata": {},
   "outputs": [],
   "source": []
  }
 ],
 "metadata": {
  "kernelspec": {
   "display_name": "Python 3",
   "language": "python",
   "name": "python3"
  },
  "language_info": {
   "codemirror_mode": {
    "name": "ipython",
    "version": 3
   },
   "file_extension": ".py",
   "mimetype": "text/x-python",
   "name": "python",
   "nbconvert_exporter": "python",
   "pygments_lexer": "ipython3",
   "version": "3.7.6"
  }
 },
 "nbformat": 4,
 "nbformat_minor": 4
}
