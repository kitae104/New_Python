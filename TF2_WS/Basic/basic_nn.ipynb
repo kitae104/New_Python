{
 "cells": [
  {
   "cell_type": "markdown",
   "metadata": {},
   "source": [
    "### 딥러닝 기초"
   ]
  },
  {
   "cell_type": "code",
   "execution_count": 2,
   "metadata": {},
   "outputs": [],
   "source": [
    "import os \n",
    "os.environ['HDF5_DISABLE_VERSION_CHECK']='2'\n",
    "\n",
    "import math\n",
    "import tensorflow as tf"
   ]
  },
  {
   "cell_type": "markdown",
   "metadata": {},
   "source": [
    "#### 시그모이드 함수 "
   ]
  },
  {
   "cell_type": "code",
   "execution_count": 3,
   "metadata": {},
   "outputs": [],
   "source": [
    "def sigmoid(x):\n",
    "    return 1 / (1 + math.exp(-x))"
   ]
  },
  {
   "cell_type": "code",
   "execution_count": 4,
   "metadata": {},
   "outputs": [
    {
     "name": "stdout",
     "output_type": "stream",
     "text": [
      "0.38814973115091767\n"
     ]
    }
   ],
   "source": [
    "x = 1\n",
    "y = 0\n",
    "w = tf.random.normal([1], 0, 1)\n",
    "output = sigmoid(x * w)\n",
    "print(output)"
   ]
  },
  {
   "cell_type": "markdown",
   "metadata": {},
   "source": [
    "#### 학습하기 \n",
    "* 예측값 계산 \n",
    "* 비용 계산 (예측-실제)\n",
    "* w값 갱신 "
   ]
  },
  {
   "cell_type": "code",
   "execution_count": 14,
   "metadata": {
    "scrolled": true
   },
   "outputs": [
    {
     "name": "stdout",
     "output_type": "stream",
     "text": [
      "step :     0, error : -0.00037088, output : 0.00037088\n",
      "step :   100, error : -0.00036951, output : 0.00036951\n",
      "step :   200, error : -0.00036815, output : 0.00036815\n",
      "step :   300, error : -0.00036681, output : 0.00036681\n",
      "step :   400, error : -0.00036546, output : 0.00036546\n",
      "step :   500, error : -0.00036413, output : 0.00036413\n",
      "step :   600, error : -0.00036281, output : 0.00036281\n",
      "step :   700, error : -0.00036150, output : 0.00036150\n",
      "step :   800, error : -0.00036020, output : 0.00036020\n",
      "step :   900, error : -0.00035891, output : 0.00035891\n",
      "step :  1000, error : -0.00035763, output : 0.00035763\n",
      "step :  1100, error : -0.00035635, output : 0.00035635\n",
      "step :  1200, error : -0.00035508, output : 0.00035508\n",
      "step :  1300, error : -0.00035383, output : 0.00035383\n",
      "step :  1400, error : -0.00035258, output : 0.00035258\n",
      "step :  1500, error : -0.00035134, output : 0.00035134\n",
      "step :  1600, error : -0.00035011, output : 0.00035011\n",
      "step :  1700, error : -0.00034889, output : 0.00034889\n",
      "step :  1800, error : -0.00034768, output : 0.00034768\n",
      "step :  1900, error : -0.00034648, output : 0.00034648\n",
      "step :  2000, error : -0.00034528, output : 0.00034528\n",
      "step :  2100, error : -0.00034409, output : 0.00034409\n",
      "step :  2200, error : -0.00034292, output : 0.00034292\n",
      "step :  2300, error : -0.00034174, output : 0.00034174\n",
      "step :  2400, error : -0.00034057, output : 0.00034057\n",
      "step :  2500, error : -0.00033942, output : 0.00033942\n",
      "step :  2600, error : -0.00033828, output : 0.00033828\n",
      "step :  2700, error : -0.00033713, output : 0.00033713\n",
      "step :  2800, error : -0.00033600, output : 0.00033600\n",
      "step :  2900, error : -0.00033488, output : 0.00033488\n",
      "step :  3000, error : -0.00033376, output : 0.00033376\n",
      "step :  3100, error : -0.00033265, output : 0.00033265\n",
      "step :  3200, error : -0.00033154, output : 0.00033154\n",
      "step :  3300, error : -0.00033044, output : 0.00033044\n",
      "step :  3400, error : -0.00032934, output : 0.00032934\n",
      "step :  3500, error : -0.00032826, output : 0.00032826\n",
      "step :  3600, error : -0.00032720, output : 0.00032720\n",
      "step :  3700, error : -0.00032614, output : 0.00032614\n",
      "step :  3800, error : -0.00032509, output : 0.00032509\n",
      "step :  3900, error : -0.00032403, output : 0.00032403\n",
      "step :  4000, error : -0.00032299, output : 0.00032299\n",
      "step :  4100, error : -0.00032194, output : 0.00032194\n",
      "step :  4200, error : -0.00032090, output : 0.00032090\n",
      "step :  4300, error : -0.00031986, output : 0.00031986\n",
      "step :  4400, error : -0.00031884, output : 0.00031884\n",
      "step :  4500, error : -0.00031784, output : 0.00031784\n",
      "step :  4600, error : -0.00031684, output : 0.00031684\n",
      "step :  4700, error : -0.00031585, output : 0.00031585\n",
      "step :  4800, error : -0.00031486, output : 0.00031486\n",
      "step :  4900, error : -0.00031387, output : 0.00031387\n",
      "step :  5000, error : -0.00031288, output : 0.00031288\n"
     ]
    }
   ],
   "source": [
    "for i in range(5001):\n",
    "    output = sigmoid(x * w)  # 예측값 \n",
    "    error = y - output       # 오차 \n",
    "    w = w + x * 0.1 * error  # 가중치 갱신 \n",
    "    \n",
    "    if i % 100 == 0:\n",
    "        print('step : {0:5}, error : {1:10.8f}, output : {2:10.8f}'.format(i, error, output))  # 자릿수 맞춰 출력하기 "
   ]
  },
  {
   "cell_type": "markdown",
   "metadata": {},
   "source": [
    "#### 입력이 0인 경우 \n",
    "* x =0, y = 1인 경우 \n",
    "* w 값에 변경이 없기 때문에 학습이 이루어 지지 않는다. "
   ]
  },
  {
   "cell_type": "code",
   "execution_count": 17,
   "metadata": {},
   "outputs": [
    {
     "name": "stdout",
     "output_type": "stream",
     "text": [
      "step :     0, error : 0.50000000, output : 0.50000000\n",
      "step :   100, error : 0.50000000, output : 0.50000000\n",
      "step :   200, error : 0.50000000, output : 0.50000000\n",
      "step :   300, error : 0.50000000, output : 0.50000000\n",
      "step :   400, error : 0.50000000, output : 0.50000000\n",
      "step :   500, error : 0.50000000, output : 0.50000000\n",
      "step :   600, error : 0.50000000, output : 0.50000000\n",
      "step :   700, error : 0.50000000, output : 0.50000000\n",
      "step :   800, error : 0.50000000, output : 0.50000000\n",
      "step :   900, error : 0.50000000, output : 0.50000000\n",
      "step :  1000, error : 0.50000000, output : 0.50000000\n"
     ]
    }
   ],
   "source": [
    "x = 0\n",
    "y = 1\n",
    "w = tf.random.normal([1], 0, 1)\n",
    "for i in range(1001):\n",
    "    output = sigmoid(x * w)  # 예측값 \n",
    "    error = y - output       # 오차 \n",
    "    w = w + x * 0.1 * error  # 가중치 갱신 \n",
    "    \n",
    "    if i % 100 == 0:\n",
    "        print('step : {0:5}, error : {1:10.8f}, output : {2:10.8f}'.format(i, error, output))  # 자릿수 맞춰 출력하기 "
   ]
  },
  {
   "cell_type": "markdown",
   "metadata": {},
   "source": [
    "#### 편향을 사용하여 학습 수행 \n",
    "* 입력이 0인 경우에 대비해서 편향 사용\n",
    "* 보통은 한쪽으로 치우친 고정값(1)을 받아서 뉴런이 아무것도 학습 못하는 경우를 방지한다. \n",
    "* 오차는 0에 점점 가까워지고, 출력은 1에 점점 가까워진다. --> 학습이 잘 이루어짐."
   ]
  },
  {
   "cell_type": "code",
   "execution_count": 20,
   "metadata": {},
   "outputs": [
    {
     "name": "stdout",
     "output_type": "stream",
     "text": [
      "step :     0, error : 0.60741765, output : 0.39258235\n",
      "step :   100, error : 0.10877896, output : 0.89122104\n",
      "step :   200, error : 0.05413988, output : 0.94586012\n",
      "step :   300, error : 0.03564522, output : 0.96435478\n",
      "step :   400, error : 0.02648131, output : 0.97351869\n",
      "step :   500, error : 0.02103570, output : 0.97896430\n",
      "step :   600, error : 0.01743491, output : 0.98256509\n",
      "step :   700, error : 0.01488027, output : 0.98511973\n",
      "step :   800, error : 0.01297507, output : 0.98702493\n",
      "step :   900, error : 0.01150022, output : 0.98849978\n",
      "step :  1000, error : 0.01032512, output : 0.98967488\n"
     ]
    }
   ],
   "source": [
    "x = 0\n",
    "y = 1\n",
    "w = tf.random.normal([1], 0, 1)\n",
    "b = tf.random.normal([1], 0, 1)\n",
    "for i in range(1001):\n",
    "    output = sigmoid(x * w + 1 * b)  # 예측값 \n",
    "    error = y - output       # 오차 \n",
    "    w = w + x * 0.1 * error  # 가중치 갱신 \n",
    "    b = b + 1 * 0.1 * error  # 가중치 갱신 \n",
    "    \n",
    "    if i % 100 == 0:\n",
    "        print('step : {0:5}, error : {1:10.8f}, output : {2:10.8f}'.format(i, error, output))  # 자릿수 맞춰 출력하기 "
   ]
  },
  {
   "cell_type": "code",
   "execution_count": null,
   "metadata": {},
   "outputs": [],
   "source": []
  }
 ],
 "metadata": {
  "kernelspec": {
   "display_name": "tf-gpu",
   "language": "python",
   "name": "tf2.0-gpu"
  },
  "language_info": {
   "codemirror_mode": {
    "name": "ipython",
    "version": 3
   },
   "file_extension": ".py",
   "mimetype": "text/x-python",
   "name": "python",
   "nbconvert_exporter": "python",
   "pygments_lexer": "ipython3",
   "version": "3.7.0"
  }
 },
 "nbformat": 4,
 "nbformat_minor": 4
}
