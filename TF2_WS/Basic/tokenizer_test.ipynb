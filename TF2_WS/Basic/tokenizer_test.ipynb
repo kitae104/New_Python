{
 "cells": [
  {
   "cell_type": "markdown",
   "metadata": {},
   "source": [
    "# Tokenizer 테스트 "
   ]
  },
  {
   "cell_type": "code",
   "execution_count": 1,
   "metadata": {},
   "outputs": [],
   "source": [
    "from tensorflow.keras.preprocessing.text import Tokenizer\n",
    "from tensorflow.keras.preprocessing.sequence import pad_sequences"
   ]
  },
  {
   "cell_type": "code",
   "execution_count": 3,
   "metadata": {},
   "outputs": [
    {
     "name": "stdout",
     "output_type": "stream",
     "text": [
      "[[ 1  2  3  4  5  0  0  0  0  0]\n",
      " [ 6  7  8  9 10 11  0  0  0  0]\n",
      " [12  0  0  0  0  0  0  0  0  0]\n",
      " [13 14 15 16 17 18 19  0  0  0]\n",
      " [20 21 22 23 24 25 26 27 28 29]]\n"
     ]
    }
   ],
   "source": [
    "sentences = [\n",
    "    ['아', '더빙', '진짜', '짜증나네요', '목소리'],\n",
    "['흠', '포스터보고', '초딩영화줄', '오버연기조', '가볍지', '않구나'],\n",
    "['너무재밓었'],\n",
    "['교도소', '이야기구먼', '솔직히', '재미는', '없다', '평점', '조정'],\n",
    "['사이몬페그', '익살스런', '연기가', '돋보였던', '영화', '!', '스파이더맨', '늙어보이기', '했던', '커스틴', '던스트가', '너무나도', '이뻐보였다']\n",
    "]\n",
    "\n",
    "tokenizer = Tokenizer(num_words=30)\n",
    "tokenizer.fit_on_texts(sentences)\n",
    "train_X = tokenizer.texts_to_sequences(sentences)\n",
    "train_X = pad_sequences(train_X, padding='post')\n",
    "\n",
    "print(train_X[:5])"
   ]
  },
  {
   "cell_type": "markdown",
   "metadata": {},
   "source": [
    "#### Tokenizer의 동작 확인\n",
    "* num_words=30 부터는 []으로 반환되고 pad_sequences()를 통과하면 0를 반환 "
   ]
  },
  {
   "cell_type": "code",
   "execution_count": 7,
   "metadata": {},
   "outputs": [
    {
     "name": "stdout",
     "output_type": "stream",
     "text": [
      "커스틴\n",
      "던스트가\n",
      "[[], [2], [29], []]\n",
      "[[ 0]\n",
      " [ 2]\n",
      " [29]\n",
      " [ 0]]\n"
     ]
    }
   ],
   "source": [
    "print(tokenizer.index_word[29])\n",
    "print(tokenizer.index_word[30])\n",
    "temp = tokenizer.texts_to_sequences(['#$#$#', '더빙', '커스틴', '던스트가'])\n",
    "print(temp)\n",
    "temp = pad_sequences(temp, padding='post')\n",
    "print(temp)"
   ]
  },
  {
   "cell_type": "code",
   "execution_count": null,
   "metadata": {},
   "outputs": [],
   "source": []
  }
 ],
 "metadata": {
  "kernelspec": {
   "display_name": "Python 3",
   "language": "python",
   "name": "python3"
  },
  "language_info": {
   "codemirror_mode": {
    "name": "ipython",
    "version": 3
   },
   "file_extension": ".py",
   "mimetype": "text/x-python",
   "name": "python",
   "nbconvert_exporter": "python",
   "pygments_lexer": "ipython3",
   "version": "3.7.6"
  }
 },
 "nbformat": 4,
 "nbformat_minor": 4
}
