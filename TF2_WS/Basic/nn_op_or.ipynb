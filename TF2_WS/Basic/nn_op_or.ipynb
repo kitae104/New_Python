{
 "cells": [
  {
   "cell_type": "markdown",
   "metadata": {},
   "source": [
    "# 두번째 신경망 네트워크 : OR"
   ]
  },
  {
   "cell_type": "code",
   "execution_count": 4,
   "metadata": {},
   "outputs": [],
   "source": [
    "import sys, os\n",
    "sys.path.append(os.pardir)      # 부모 디렉토리의 파일을 가져옴\n",
    "\n",
    "import numpy as np\n",
    "import tensorflow as tf\n",
    "from libs.nn_libs import sigmoid"
   ]
  },
  {
   "cell_type": "markdown",
   "metadata": {},
   "source": [
    "#### 데이터 설정 "
   ]
  },
  {
   "cell_type": "code",
   "execution_count": 11,
   "metadata": {},
   "outputs": [
    {
     "name": "stdout",
     "output_type": "stream",
     "text": [
      "tf.Tensor([0.9414601 1.0996442], shape=(2,), dtype=float32) tf.Tensor([-1.536666], shape=(1,), dtype=float32)\n"
     ]
    }
   ],
   "source": [
    "x = np.array([[1,1], [1,0], [0,1], [0,0]])\n",
    "y = np.array([[1], [1], [1], [0]])\n",
    "\n",
    "W = tf.random.normal([2], 0, 1)\n",
    "b = tf.random.normal([1], 0, 1)\n",
    "print(W, b)"
   ]
  },
  {
   "cell_type": "code",
   "execution_count": 13,
   "metadata": {},
   "outputs": [
    {
     "name": "stdout",
     "output_type": "stream",
     "text": [
      "step :     0, error : -0.00335109\n",
      "step :   200, error : -0.04443694\n",
      "step :   400, error : -0.02440155\n",
      "step :   600, error : -0.01670857\n",
      "step :   800, error : -0.01266205\n",
      "step :  1000, error : -0.01017602\n",
      "step :  1200, error : -0.00849765\n",
      "step :  1400, error : -0.00729002\n",
      "step :  1600, error : -0.00638014\n",
      "step :  1800, error : -0.00567117\n",
      "step :  2000, error : -0.00510153\n"
     ]
    }
   ],
   "source": [
    "learning_rate = 0.1\n",
    "\n",
    "for i in range(2001):\n",
    "    error_sum = 0\n",
    "    \n",
    "    for j in range(4):\n",
    "        output = sigmoid(np.sum(x[j] * W) + b * 1)\n",
    "        error = y[j][0] - output\n",
    "        W = W + x[j] * learning_rate * error\n",
    "        b = b + 1 * learning_rate * error\n",
    "        error_sum += error\n",
    "        \n",
    "    if i %  200 == 0:\n",
    "        print('step : {0:5}, error : {1:10.8f}'.format(i, error_sum))  # 자릿수 맞춰 출력하기"
   ]
  },
  {
   "cell_type": "code",
   "execution_count": 10,
   "metadata": {},
   "outputs": [
    {
     "name": "stdout",
     "output_type": "stream",
     "text": [
      "X : [1 1] Y : [1] Output : 0.9999996645322382\n",
      "X : [1 0] Y : [1] Output : 0.994921206433203\n",
      "X : [0 1] Y : [1] Output : 0.9949158305134248\n",
      "X : [0 0] Y : [0] Output : 0.01269683571008358\n"
     ]
    }
   ],
   "source": [
    "for i in range(4):\n",
    "    print('X :', x[i], 'Y :', y[i], 'Output :', sigmoid(np.sum(x[i]*W) + b))"
   ]
  },
  {
   "cell_type": "code",
   "execution_count": null,
   "metadata": {},
   "outputs": [],
   "source": []
  }
 ],
 "metadata": {
  "kernelspec": {
   "display_name": "Python 3",
   "language": "python",
   "name": "python3"
  },
  "language_info": {
   "codemirror_mode": {
    "name": "ipython",
    "version": 3
   },
   "file_extension": ".py",
   "mimetype": "text/x-python",
   "name": "python",
   "nbconvert_exporter": "python",
   "pygments_lexer": "ipython3",
   "version": "3.7.6"
  }
 },
 "nbformat": 4,
 "nbformat_minor": 4
}
