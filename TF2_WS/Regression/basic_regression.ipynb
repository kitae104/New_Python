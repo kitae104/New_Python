{
 "cells": [
  {
   "cell_type": "markdown",
   "metadata": {},
   "source": [
    "# 선형 회귀(Linear Regression)\n",
    "* 데이터의 경향성을 가장 잘 설명하는 하나의 직선을 예측하는 것\n",
    "* 국어 성적과 수학 성적, 키와 몸무게, 치킨 파매량과 맥주 판매량 등 2개의 데이터에 대한 경향성을 예측할 때 사용 "
   ]
  },
  {
   "cell_type": "markdown",
   "metadata": {},
   "source": [
    "### 지역별 인구증가율과 고령인구율 "
   ]
  },
  {
   "cell_type": "markdown",
   "metadata": {},
   "source": [
    "#### 시각화 "
   ]
  },
  {
   "cell_type": "code",
   "execution_count": 42,
   "metadata": {},
   "outputs": [],
   "source": [
    "import tensorflow as tf\n",
    "import numpy as np\n",
    "import matplotlib.pyplot as plt\n",
    "import random"
   ]
  },
  {
   "cell_type": "code",
   "execution_count": 43,
   "metadata": {},
   "outputs": [],
   "source": [
    "# 한글 폰트 깨질 때  \n",
    "from matplotlib import font_manager, rc, use\n",
    "#import tkinter\n",
    "import matplotlib\n",
    "#matplotlib.use('TkAgg')\n",
    "font_path = \"../utils/malgun.ttf\"   #폰트파일의 위치\n",
    "font_name = font_manager.FontProperties(fname=font_path).get_name()\n",
    "rc('font', family=font_name)"
   ]
  },
  {
   "cell_type": "code",
   "execution_count": 44,
   "metadata": {},
   "outputs": [
    {
     "data": {
      "image/png": "[encoded data removed]",
      "text/plain": [
       "<Figure size 432x288 with 1 Axes>"
      ]
     },
     "metadata": {
      "needs_background": "light"
     },
     "output_type": "display_data"
    }
   ],
   "source": [
    "# 인구 증가율 \n",
    "population_inc = [0.3, -0.78, 1.26, 0.03, 1.11, 15.17, 0.24, -0.24, -0.47, -0.77, -0.37, -0.85, -0.41, -0.27, 0.02, -0.76, 2.66]\n",
    "# 고령인구 비율 \n",
    "population_old = [12.27, 14.44, 11.87, 18.75, 17.52, 9.29, 16.37, 19.78, 19.51, 12.65, 14.74, 10.72, 21.94, 12.83, 15.51, 17.14, 14.42]\n",
    "\n",
    "plt.plot(population_inc, population_old, 'bo')    # 파란 둥근점 \n",
    "plt.xlabel('인구 증가율 (%)')\n",
    "plt.ylabel('고령인구 비율 (%)')\n",
    "plt.show()"
   ]
  },
  {
   "cell_type": "markdown",
   "metadata": {},
   "source": [
    "* 위의 그래프는 오른쪽 아래 극단치(outlier)를 하나 가지고 있다. 이는 일반적인 경향에서 벗어나기 때문에 제거한다. "
   ]
  },
  {
   "cell_type": "code",
   "execution_count": 63,
   "metadata": {},
   "outputs": [
    {
     "name": "stderr",
     "output_type": "stream",
     "text": [
      "C:\\Users\\DA0207DYD\\Anaconda3\\lib\\site-packages\\matplotlib\\backends\\backend_agg.py:211: RuntimeWarning: Glyph 8722 missing from current font.\n",
      "  font.set_text(s, 0.0, flags=flags)\n",
      "C:\\Users\\DA0207DYD\\Anaconda3\\lib\\site-packages\\matplotlib\\backends\\backend_agg.py:180: RuntimeWarning: Glyph 8722 missing from current font.\n",
      "  font.set_text(s, 0, flags=flags)\n"
     ]
    },
    {
     "data": {
      "image/png": "[encoded data removed]",
      "text/plain": [
       "<Figure size 432x288 with 1 Axes>"
      ]
     },
     "metadata": {
      "needs_background": "light"
     },
     "output_type": "display_data"
    }
   ],
   "source": [
    "X = population_inc[:5] + population_inc[6:]\n",
    "Y = population_old[:5] + population_old[6:]\n",
    "plt.plot(X, Y, 'bo')    # 파란 둥근점 \n",
    "plt.xlabel('인구 증가율 (%)')\n",
    "plt.ylabel('고령인구 비율 (%)')\n",
    "plt.show()"
   ]
  },
  {
   "cell_type": "markdown",
   "metadata": {},
   "source": [
    "#### 선형 회귀 사용 \n",
    "* 데이터 경향성 : 하나의 직선과 각 데이터의 차이(residual-잔차)\n",
    "* 최소 제곱법(Least Square Method) : 잔차의 제곱을 최소화하는 알고리즘 "
   ]
  },
  {
   "cell_type": "markdown",
   "metadata": {},
   "source": [
    "#### 변수 초기화(W, b)"
   ]
  },
  {
   "cell_type": "code",
   "execution_count": 68,
   "metadata": {},
   "outputs": [
    {
     "name": "stdout",
     "output_type": "stream",
     "text": [
      "[<tf.Variable 'Variable:0' shape=(1,) dtype=float32, numpy=array([-1.0916559], dtype=float32)>, <tf.Variable 'Variable:0' shape=(1,) dtype=float32, numpy=array([-0.5230345], dtype=float32)>]\n"
     ]
    }
   ],
   "source": [
    "W = tf.Variable(tf.random.normal([1]))\n",
    "b = tf.Variable(tf.random.normal([1]))\n",
    "vars = [W, b]\n",
    "print(vars)"
   ]
  },
  {
   "cell_type": "markdown",
   "metadata": {},
   "source": [
    "#### 가설 "
   ]
  },
  {
   "cell_type": "code",
   "execution_count": 76,
   "metadata": {},
   "outputs": [
    {
     "data": {
      "text/plain": [
       "<tf.Tensor: shape=(15,), dtype=float32, numpy=\n",
       "array([-0.8505313 ,  0.328457  , -1.898521  , -0.55578417, -1.7347724 ,\n",
       "       -0.2610371 , -0.00995624,  0.31754047, -0.11912185,  0.404873  ,\n",
       "       -0.07545561, -0.22828743, -0.54486763,  0.30662394, -3.426839  ],\n",
       "      dtype=float32)>"
      ]
     },
     "execution_count": 76,
     "metadata": {},
     "output_type": "execute_result"
    }
   ],
   "source": [
    "def hypothesis(X):\n",
    "    return X * W + b\n",
    "\n",
    "hypothesis(X)"
   ]
  },
  {
   "cell_type": "markdown",
   "metadata": {},
   "source": [
    "#### 비용함수 "
   ]
  },
  {
   "cell_type": "code",
   "execution_count": 96,
   "metadata": {},
   "outputs": [
    {
     "data": {
      "text/plain": [
       "<tf.Tensor: shape=(), dtype=float32, numpy=10.388779>"
      ]
     },
     "execution_count": 96,
     "metadata": {},
     "output_type": "execute_result"
    }
   ],
   "source": [
    "def loss_fn():\n",
    "    loss = tf.reduce_mean(tf.square(Y - hypothesis(X)))\n",
    "    return loss\n",
    "loss_fn()"
   ]
  },
  {
   "cell_type": "markdown",
   "metadata": {},
   "source": [
    "####  최적화 수행 "
   ]
  },
  {
   "cell_type": "code",
   "execution_count": 97,
   "metadata": {},
   "outputs": [],
   "source": [
    "optimizer = tf.optimizers.Adam(lr=0.07)"
   ]
  },
  {
   "cell_type": "markdown",
   "metadata": {},
   "source": [
    "#### 학습 "
   ]
  },
  {
   "cell_type": "code",
   "execution_count": 98,
   "metadata": {},
   "outputs": [
    {
     "name": "stdout",
     "output_type": "stream",
     "text": [
      "0 W: [-0.37355644] b: [15.684737] loss: 10.393329\n",
      "100 W: [-0.36812657] b: [15.6173525] loss: 10.388778\n",
      "200 W: [-0.3683681] b: [15.617295] loss: 10.38878\n",
      "300 W: [-0.36836585] b: [15.617296] loss: 10.388779\n",
      "400 W: [-0.36836594] b: [15.617297] loss: 10.38878\n",
      "500 W: [-0.36836657] b: [15.617297] loss: 10.388778\n",
      "600 W: [-0.36836666] b: [15.617297] loss: 10.388778\n",
      "700 W: [-0.36836675] b: [15.617297] loss: 10.388778\n",
      "800 W: [-0.3683672] b: [15.617297] loss: 10.388778\n",
      "900 W: [-0.36836684] b: [15.617296] loss: 10.388778\n",
      "1000 W: [-0.3683671] b: [15.617297] loss: 10.388778\n"
     ]
    }
   ],
   "source": [
    "for i in range(1001):\n",
    "    optimizer.minimize(loss_fn, var_list = vars)  # vars = [W, b]\n",
    "    loss = loss_fn()\n",
    "    if i % 100 == 0:\n",
    "        print(i, 'W:', W.numpy(), 'b:', b.numpy(), 'loss:', loss.numpy())"
   ]
  },
  {
   "cell_type": "code",
   "execution_count": 99,
   "metadata": {},
   "outputs": [],
   "source": [
    "line_x = np.arange(min(X), max(X), 0.01)\n",
    "line_y = W * line_x + b"
   ]
  },
  {
   "cell_type": "code",
   "execution_count": 100,
   "metadata": {},
   "outputs": [
    {
     "name": "stderr",
     "output_type": "stream",
     "text": [
      "C:\\Users\\DA0207DYD\\Anaconda3\\lib\\site-packages\\matplotlib\\backends\\backend_agg.py:211: RuntimeWarning: Glyph 8722 missing from current font.\n",
      "  font.set_text(s, 0.0, flags=flags)\n",
      "C:\\Users\\DA0207DYD\\Anaconda3\\lib\\site-packages\\matplotlib\\backends\\backend_agg.py:180: RuntimeWarning: Glyph 8722 missing from current font.\n",
      "  font.set_text(s, 0, flags=flags)\n"
     ]
    },
    {
     "data": {
      "image/png": "[encoded data removed]",
      "text/plain": [
       "<Figure size 432x288 with 1 Axes>"
      ]
     },
     "metadata": {
      "needs_background": "light"
     },
     "output_type": "display_data"
    }
   ],
   "source": [
    "plt.plot(line_x,line_y,'r-')      # 빩간색 라인 \n",
    "plt.plot(X,Y,'bo')                # 파란색 점\n",
    "plt.xlabel('인구 증가율 (%)')\n",
    "plt.ylabel('고령인구 비율 (%)')\n",
    "plt.show()"
   ]
  },
  {
   "cell_type": "code",
   "execution_count": null,
   "metadata": {},
   "outputs": [],
   "source": []
  }
 ],
 "metadata": {
  "kernelspec": {
   "display_name": "Python 3",
   "language": "python",
   "name": "python3"
  },
  "language_info": {
   "codemirror_mode": {
    "name": "ipython",
    "version": 3
   },
   "file_extension": ".py",
   "mimetype": "text/x-python",
   "name": "python",
   "nbconvert_exporter": "python",
   "pygments_lexer": "ipython3",
   "version": "3.7.6"
  }
 },
 "nbformat": 4,
 "nbformat_minor": 4
}
