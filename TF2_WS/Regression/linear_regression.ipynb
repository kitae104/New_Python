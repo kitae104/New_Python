{
 "cells": [
  {
   "cell_type": "markdown",
   "metadata": {},
   "source": [
    "# 선형 회귀(Linear Regression)\n",
    "* 데이터의 경향성을 가장 잘 설명하는 하나의 직선을 예측하는 것\n",
    "* 국어 성적과 수학 성적, 키와 몸무게, 치킨 파매량과 맥주 판매량 등 2개의 데이터에 대한 경향성을 예측할 때 사용 "
   ]
  },
  {
   "cell_type": "markdown",
   "metadata": {},
   "source": [
    "### 지역별 인구증가율과 고령인구율 "
   ]
  },
  {
   "cell_type": "markdown",
   "metadata": {},
   "source": [
    "#### 시각화 "
   ]
  },
  {
   "cell_type": "code",
   "execution_count": 6,
   "metadata": {},
   "outputs": [],
   "source": [
    "import tensorflow as tf\n",
    "import numpy as np\n",
    "import matplotlib.pyplot as plt\n",
    "import random"
   ]
  },
  {
   "cell_type": "code",
   "execution_count": 7,
   "metadata": {},
   "outputs": [],
   "source": [
    "# 한글 폰트 깨질 때  \n",
    "from matplotlib import font_manager, rc, use\n",
    "#import tkinter\n",
    "import matplotlib\n",
    "#matplotlib.use('TkAgg')\n",
    "font_path = \"../utils/malgun.ttf\"   #폰트파일의 위치\n",
    "font_name = font_manager.FontProperties(fname=font_path).get_name()\n",
    "rc('font', family=font_name)"
   ]
  },
  {
   "cell_type": "code",
   "execution_count": 8,
   "metadata": {},
   "outputs": [
    {
     "name": "stdout",
     "output_type": "stream",
     "text": [
      "17\n"
     ]
    },
    {
     "data": {
      "image/png": "[encoded data removed]",
      "text/plain": [
       "<Figure size 432x288 with 1 Axes>"
      ]
     },
     "metadata": {
      "needs_background": "light"
     },
     "output_type": "display_data"
    }
   ],
   "source": [
    "# 인구 증가율 \n",
    "population_inc = [0.3, -0.78, 1.26, 0.03, 1.11, 15.17, 0.24, -0.24, -0.47, -0.77, -0.37, -0.85, -0.41, -0.27, 0.02, -0.76, 2.66]\n",
    "# 고령인구 비율 \n",
    "population_old = [12.27, 14.44, 11.87, 18.75, 17.52, 9.29, 16.37, 19.78, 19.51, 12.65, 14.74, 10.72, 21.94, 12.83, 15.51, 17.14, 14.42]\n",
    "\n",
    "print(len(population_inc))\n",
    "plt.plot(population_inc, population_old, 'bo')    # 파란 둥근점 \n",
    "plt.xlabel('인구 증가율 (%)')\n",
    "plt.ylabel('고령인구 비율 (%)')\n",
    "plt.show()"
   ]
  },
  {
   "cell_type": "markdown",
   "metadata": {},
   "source": [
    "* 위의 그래프는 오른쪽 아래 극단치(outlier)를 하나 가지고 있다. 이는 일반적인 경향에서 벗어나기 때문에 제거한다. "
   ]
  },
  {
   "cell_type": "code",
   "execution_count": 9,
   "metadata": {},
   "outputs": [
    {
     "name": "stderr",
     "output_type": "stream",
     "text": [
      "C:\\Users\\pc\\Anaconda3\\envs\\tf2-gpu\\lib\\site-packages\\matplotlib\\backends\\backend_agg.py:211: RuntimeWarning: Glyph 8722 missing from current font.\n",
      "  font.set_text(s, 0.0, flags=flags)\n",
      "C:\\Users\\pc\\Anaconda3\\envs\\tf2-gpu\\lib\\site-packages\\matplotlib\\backends\\backend_agg.py:180: RuntimeWarning: Glyph 8722 missing from current font.\n",
      "  font.set_text(s, 0, flags=flags)\n"
     ]
    },
    {
     "data": {
      "image/png": "[encoded data removed]",
      "text/plain": [
       "<Figure size 432x288 with 1 Axes>"
      ]
     },
     "metadata": {
      "needs_background": "light"
     },
     "output_type": "display_data"
    }
   ],
   "source": [
    "X = population_inc[:5] + population_inc[6:]\n",
    "Y = population_old[:5] + population_old[6:]\n",
    "plt.plot(X, Y, 'bo')    # 파란 둥근점 \n",
    "plt.xlabel('인구 증가율 (%)')\n",
    "plt.ylabel('고령인구 비율 (%)')\n",
    "plt.show()"
   ]
  },
  {
   "cell_type": "markdown",
   "metadata": {},
   "source": [
    "#### 선형 회귀 사용 \n",
    "* 데이터 경향성 : 하나의 직선과 각 데이터의 차이(residual-잔차)\n",
    "* 최소 제곱법(Least Square Method) : 잔차의 제곱을 최소화하는 알고리즘 "
   ]
  },
  {
   "cell_type": "markdown",
   "metadata": {},
   "source": [
    "#### 변수 초기화(W, b)\n",
    "* 가중치 W와 편향 b를 램던한 값으로 초기화 한다 --> random.random()을 사용해도 좋다. "
   ]
  },
  {
   "cell_type": "code",
   "execution_count": 10,
   "metadata": {},
   "outputs": [
    {
     "name": "stdout",
     "output_type": "stream",
     "text": [
      "[<tf.Variable 'Variable:0' shape=(1,) dtype=float32, numpy=array([0.6767765], dtype=float32)>, <tf.Variable 'Variable:0' shape=(1,) dtype=float32, numpy=array([-0.02865576], dtype=float32)>]\n"
     ]
    }
   ],
   "source": [
    "W = tf.Variable(tf.random.normal([1]))\n",
    "b = tf.Variable(tf.random.normal([1]))\n",
    "vars = [W, b]\n",
    "print(vars)"
   ]
  },
  {
   "cell_type": "markdown",
   "metadata": {},
   "source": [
    "#### 가설 \n",
    "* 제공되는 W와 b에 의해서 반환되는 정보를 가설이라 한다. "
   ]
  },
  {
   "cell_type": "code",
   "execution_count": 11,
   "metadata": {},
   "outputs": [
    {
     "data": {
      "text/plain": [
       "<tf.Tensor: shape=(16,), dtype=float32, numpy=\n",
       "array([ 0.17437722, -0.55654144,  0.8240827 , -0.00835246,  0.7225662 ,\n",
       "        0.13377061, -0.19108212, -0.34674072, -0.5497737 , -0.27906308,\n",
       "       -0.6039158 , -0.30613413, -0.21138543, -0.01512023, -0.54300594,\n",
       "        1.7715698 ], dtype=float32)>"
      ]
     },
     "execution_count": 11,
     "metadata": {},
     "output_type": "execute_result"
    }
   ],
   "source": [
    "def hypothesis(X):\n",
    "    return X * W + b\n",
    "\n",
    "hypothesis(X)"
   ]
  },
  {
   "cell_type": "markdown",
   "metadata": {},
   "source": [
    "#### 비용함수 \n",
    "* 전차의 제곱의 평균을 비용으로 계산한다.\n",
    "* Y : 실제 값\n",
    "* y_pred : hypothesis(X)에 의해 계산된 기대 값 "
   ]
  },
  {
   "cell_type": "code",
   "execution_count": 12,
   "metadata": {},
   "outputs": [
    {
     "data": {
      "text/plain": [
       "<tf.Tensor: shape=(), dtype=float32, numpy=255.66864>"
      ]
     },
     "execution_count": 12,
     "metadata": {},
     "output_type": "execute_result"
    }
   ],
   "source": [
    "def loss_fn():\n",
    "    y_pred = hypothesis(X)\n",
    "    loss = tf.reduce_mean(tf.square(Y - y_pred))\n",
    "    return loss\n",
    "loss_fn()"
   ]
  },
  {
   "cell_type": "markdown",
   "metadata": {},
   "source": [
    "####  최적화 수행 \n",
    "* 손실을 최소화 하는 것이 목표 \n",
    "* optimizer는 복잡한 미분과 가중치 업데이트를 자동으로 해주는 편리한 도구 \n",
    "* lr(learning rate-학습률) : 적당한 학습률을 넣으면 안정적이고 효율적으로 학습 수행(보통 0.1 ~ 0.0001 사이의 수 사용)  "
   ]
  },
  {
   "cell_type": "code",
   "execution_count": 13,
   "metadata": {},
   "outputs": [],
   "source": [
    "optimizer = tf.optimizers.Adam(lr=0.07)"
   ]
  },
  {
   "cell_type": "markdown",
   "metadata": {},
   "source": [
    "#### 학습 \n",
    "* optimizer.minimize(loss_fn, var_list = vars)\n",
    "* loss_fn : 최소화할 손실 \n",
    "* var_list = vars : 학습시킬 변수의 리스트 "
   ]
  },
  {
   "cell_type": "code",
   "execution_count": 14,
   "metadata": {},
   "outputs": [
    {
     "name": "stdout",
     "output_type": "stream",
     "text": [
      "0 W: [0.6067751] b: [0.04134633] loss: 253.46255\n",
      "100 W: [0.13547346] b: [6.4216995] loss: 95.10087\n",
      "200 W: [-0.10529115] b: [10.955427] loss: 31.950024\n",
      "300 W: [-0.24839756] b: [13.647846] loss: 13.857673\n",
      "400 W: [-0.31760925] b: [14.950094] loss: 10.296886\n",
      "500 W: [-0.34460646] b: [15.458062] loss: 9.825328\n",
      "600 W: [-0.35312194] b: [15.618289] loss: 9.7834015\n",
      "700 W: [-0.35529897] b: [15.659248] loss: 9.780905\n",
      "800 W: [-0.3557486] b: [15.667713] loss: 9.7808075\n",
      "900 W: [-0.3558236] b: [15.669116] loss: 9.780804\n",
      "1000 W: [-0.35583335] b: [15.669302] loss: 9.780804\n"
     ]
    }
   ],
   "source": [
    "for i in range(1001):\n",
    "    optimizer.minimize(loss_fn, var_list = vars)  # vars = [W, b]\n",
    "    loss = loss_fn()\n",
    "    if i % 100 == 0:\n",
    "        print(i, 'W:', W.numpy(), 'b:', b.numpy(), 'loss:', loss.numpy())"
   ]
  },
  {
   "cell_type": "markdown",
   "metadata": {},
   "source": [
    "#### 그래프 그리기"
   ]
  },
  {
   "cell_type": "code",
   "execution_count": 17,
   "metadata": {},
   "outputs": [],
   "source": [
    "line_x = np.arange(min(X), max(X), 0.01)\n",
    "line_y = W * line_x + b"
   ]
  },
  {
   "cell_type": "code",
   "execution_count": 16,
   "metadata": {},
   "outputs": [
    {
     "name": "stderr",
     "output_type": "stream",
     "text": [
      "C:\\Users\\pc\\Anaconda3\\envs\\tf2-gpu\\lib\\site-packages\\matplotlib\\backends\\backend_agg.py:211: RuntimeWarning: Glyph 8722 missing from current font.\n",
      "  font.set_text(s, 0.0, flags=flags)\n",
      "C:\\Users\\pc\\Anaconda3\\envs\\tf2-gpu\\lib\\site-packages\\matplotlib\\backends\\backend_agg.py:180: RuntimeWarning: Glyph 8722 missing from current font.\n",
      "  font.set_text(s, 0, flags=flags)\n"
     ]
    },
    {
     "data": {
      "image/png": "[encoded data removed]",
      "text/plain": [
       "<Figure size 432x288 with 1 Axes>"
      ]
     },
     "metadata": {
      "needs_background": "light"
     },
     "output_type": "display_data"
    }
   ],
   "source": [
    "plt.plot(line_x,line_y,'r-')      # 빩간색 라인 \n",
    "plt.plot(X,Y,'bo')                # 파란색 점\n",
    "plt.xlabel('인구 증가율 (%)')\n",
    "plt.ylabel('고령인구 비율 (%)')\n",
    "plt.show()"
   ]
  },
  {
   "cell_type": "code",
   "execution_count": null,
   "metadata": {},
   "outputs": [],
   "source": []
  }
 ],
 "metadata": {
  "kernelspec": {
   "display_name": "Python 3",
   "language": "python",
   "name": "python3"
  },
  "language_info": {
   "codemirror_mode": {
    "name": "ipython",
    "version": 3
   },
   "file_extension": ".py",
   "mimetype": "text/x-python",
   "name": "python",
   "nbconvert_exporter": "python",
   "pygments_lexer": "ipython3",
   "version": "3.7.6"
  }
 },
 "nbformat": 4,
 "nbformat_minor": 4
}
