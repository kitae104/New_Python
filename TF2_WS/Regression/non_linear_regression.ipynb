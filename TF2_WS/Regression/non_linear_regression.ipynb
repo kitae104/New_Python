{
 "cells": [
  {
   "cell_type": "markdown",
   "metadata": {},
   "source": [
    "# 비선형 회귀(Nonlinear Regression) - 2차 함수\n",
    "* 선형 회귀로는 표현할 수 없는 데이터의 경향성을 설명하기 위한 회귀\n",
    "* 다항식을 이용한 회귀를 다항 회귀(Polynomial Regression) : 회귀선이 직선이 아닌 2차 함수 3차 함수 등의 곡선으로 표현"
   ]
  },
  {
   "cell_type": "code",
   "execution_count": 2,
   "metadata": {},
   "outputs": [],
   "source": [
    "import tensorflow as tf\n",
    "import numpy as np\n",
    "import matplotlib.pyplot as plt\n",
    "import random"
   ]
  },
  {
   "cell_type": "markdown",
   "metadata": {},
   "source": [
    "#### 데이터 설정 "
   ]
  },
  {
   "cell_type": "code",
   "execution_count": 7,
   "metadata": {},
   "outputs": [
    {
     "name": "stdout",
     "output_type": "stream",
     "text": [
      "16\n",
      "<tf.Variable 'Variable:0' shape=() dtype=float32, numpy=0.20500001> <tf.Variable 'Variable:0' shape=() dtype=float32, numpy=0.741824> <tf.Variable 'Variable:0' shape=() dtype=float32, numpy=0.641805>\n"
     ]
    }
   ],
   "source": [
    "X = [0.3, -0.78, 1.26, 0.03, 1.11, 0.24, -0.24, -0.47, -0.77, -0.37, -0.85, -0.41, -0.27, 0.02, -0.76, 2.66]\n",
    "Y = [12.27, 14.44, 11.87, 18.75, 17.52, 16.37, 19.78, 19.51, 12.65, 14.74, 10.72, 21.94, 12.83, 15.51, 17.14, 14.42]\n",
    "print(len(X))\n",
    "\n",
    "a = tf.Variable(random.random())\n",
    "b = tf.Variable(random.random())\n",
    "c = tf.Variable(random.random())\n",
    "print(a, b, c)"
   ]
  },
  {
   "cell_type": "markdown",
   "metadata": {},
   "source": [
    "#### 가설\n",
    "* 2차 함수에 대한 다항식을 가설로 사용한다. --> 1차 함수인 경우엔 1차 함수를 가설로 사용한다. "
   ]
  },
  {
   "cell_type": "code",
   "execution_count": 10,
   "metadata": {},
   "outputs": [
    {
     "data": {
      "text/plain": [
       "<tf.Tensor: shape=(16,), dtype=float32, numpy=\n",
       "array([0.8828022 , 0.1879043 , 1.9019613 , 0.66424423, 1.7178102 ,\n",
       "       0.83165073, 0.47557524, 0.33843222, 0.19214508, 0.39539462,\n",
       "       0.15936714, 0.37211767, 0.45645702, 0.6567235 , 0.19642681,\n",
       "       4.065555  ], dtype=float32)>"
      ]
     },
     "execution_count": 10,
     "metadata": {},
     "output_type": "execute_result"
    }
   ],
   "source": [
    "def hypothesis(X):\n",
    "    return a * X*X + b * X + c\n",
    "hypothesis(X)"
   ]
  },
  {
   "cell_type": "markdown",
   "metadata": {},
   "source": [
    "#### 비용함수\n",
    "* 전차의 제곱의 평균을 비용으로 계산한다.\n",
    "* Y : 실제 값\n",
    "* y_pred : hypothesis(X)에 의해 계산된 기대 값"
   ]
  },
  {
   "cell_type": "code",
   "execution_count": 11,
   "metadata": {},
   "outputs": [
    {
     "data": {
      "text/plain": [
       "<tf.Tensor: shape=(), dtype=float32, numpy=231.01851>"
      ]
     },
     "execution_count": 11,
     "metadata": {},
     "output_type": "execute_result"
    }
   ],
   "source": [
    "def loss_fn():\n",
    "    y_pred = hypothesis(X)\n",
    "    loss = tf.reduce_mean(tf.square(Y - y_pred))\n",
    "    return loss\n",
    "loss_fn()"
   ]
  },
  {
   "cell_type": "markdown",
   "metadata": {},
   "source": [
    "#### 최적화 수행\n",
    "* 손실을 최소화 하는 것이 목표\n",
    "* optimizer는 복잡한 미분과 가중치 업데이트를 자동으로 해주는 편리한 도구\n",
    "* lr(learning rate-학습률) : 적당한 학습률을 넣으면 안정적이고 효율적으로 학습 수행(보통 0.1 ~ 0.0001 사이의 수 사용)"
   ]
  },
  {
   "cell_type": "code",
   "execution_count": 12,
   "metadata": {},
   "outputs": [],
   "source": [
    "optimizer = tf.optimizers.Adam(lr=0.07)"
   ]
  },
  {
   "cell_type": "markdown",
   "metadata": {},
   "source": [
    "#### 학습\n",
    "* optimizer.minimize(loss_fn, var_list = vars)\n",
    "* loss_fn : 최소화할 손실\n",
    "* var_list = vars : 학습시킬 변수의 리스트"
   ]
  },
  {
   "cell_type": "code",
   "execution_count": 14,
   "metadata": {},
   "outputs": [
    {
     "name": "stdout",
     "output_type": "stream",
     "text": [
      "0 a: 0.2750021 b: 0.6718221 c: 0.7118071 loss: 227.53244\n",
      "100 a: 3.9035072 b: -5.659872 c: 6.616903 loss: 66.72155\n",
      "200 a: 2.7709572 b: -4.521093 c: 10.373099 loss: 30.98228\n",
      "300 a: 1.271767 b: -2.2813091 c: 12.961689 loss: 15.929166\n",
      "400 a: 0.3211404 b: -0.8534574 c: 14.58379 loss: 10.965168\n",
      "500 a: -0.18814991 b: -0.08886545 c: 15.454711 loss: 9.728843\n",
      "600 a: -0.42384803 b: 0.2649542 c: 15.85794 loss: 9.49425\n",
      "700 a: -0.5184178 b: 0.40691775 c: 16.019733 loss: 9.460222\n",
      "800 a: -0.5513636 b: 0.4563731 c: 16.076103 loss: 9.4564495\n",
      "900 a: -0.5613173 b: 0.47131562 c: 16.093132 loss: 9.456131\n",
      "1000 a: -0.5639183 b: 0.47522002 c: 16.097582 loss: 9.456114\n"
     ]
    }
   ],
   "source": [
    "for i in range(1001):\n",
    "    optimizer.minimize(loss_fn, var_list = [a, b, c])  \n",
    "    loss = loss_fn()\n",
    "    if i % 100 == 0:\n",
    "        print(i, 'a:', a.numpy(), 'b:', b.numpy(), 'c:', c.numpy(), 'loss:', loss.numpy())"
   ]
  },
  {
   "cell_type": "markdown",
   "metadata": {},
   "source": [
    "#### 그래프 그리기"
   ]
  },
  {
   "cell_type": "code",
   "execution_count": 15,
   "metadata": {},
   "outputs": [
    {
     "data": {
      "image/png": "[encoded data removed]",
      "text/plain": [
       "<Figure size 432x288 with 1 Axes>"
      ]
     },
     "metadata": {
      "needs_background": "light"
     },
     "output_type": "display_data"
    }
   ],
   "source": [
    "line_x = np.arange(min(X), max(X), 0.01)\n",
    "line_y = hypothesis(line_x)\n",
    "\n",
    "# 그래프를 그립니다.\n",
    "plt.plot(line_x,line_y,'r-')\n",
    "plt.plot(X,Y,'bo')\n",
    "plt.xlabel('Population Growth Rate (%)')\n",
    "plt.ylabel('Elderly Population Rate (%)')\n",
    "plt.show()"
   ]
  },
  {
   "cell_type": "code",
   "execution_count": null,
   "metadata": {},
   "outputs": [],
   "source": []
  }
 ],
 "metadata": {
  "kernelspec": {
   "display_name": "Python 3",
   "language": "python",
   "name": "python3"
  },
  "language_info": {
   "codemirror_mode": {
    "name": "ipython",
    "version": 3
   },
   "file_extension": ".py",
   "mimetype": "text/x-python",
   "name": "python",
   "nbconvert_exporter": "python",
   "pygments_lexer": "ipython3",
   "version": "3.7.6"
  }
 },
 "nbformat": 4,
 "nbformat_minor": 4
}
