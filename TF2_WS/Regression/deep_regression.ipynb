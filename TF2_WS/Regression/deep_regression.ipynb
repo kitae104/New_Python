{
 "cells": [
  {
   "cell_type": "markdown",
   "metadata": {},
   "source": [
    "# 딥러닝 네트워크를 이용한 회귀"
   ]
  },
  {
   "cell_type": "code",
   "execution_count": 1,
   "metadata": {},
   "outputs": [],
   "source": [
    "import tensorflow as tf\n",
    "import numpy as np"
   ]
  },
  {
   "cell_type": "markdown",
   "metadata": {},
   "source": [
    "#### 입력과 출력 데이터 "
   ]
  },
  {
   "cell_type": "code",
   "execution_count": 2,
   "metadata": {},
   "outputs": [],
   "source": [
    "X = [0.3, -0.78, 1.26, 0.03, 1.11, 0.24, -0.24, -0.47, -0.77, -0.37, -0.85, -0.41, -0.27, 0.02, -0.76, 2.66]\n",
    "Y = [12.27, 14.44, 11.87, 18.75, 17.52, 16.37, 19.78, 19.51, 12.65, 14.74, 10.72, 21.94, 12.83, 15.51, 17.14, 14.42]"
   ]
  },
  {
   "cell_type": "markdown",
   "metadata": {},
   "source": [
    "#### 모델 구성 \n",
    "* 활성화 함수로 sigmoid 사용(tanh, relu 도 가능)\n",
    "* 파라미터 계산은 첫번째 레이어는 입력 1과 b가 각각 6개의 뉴런으로 1 X 6 + 1 X 6 = 12, 두번째 레이어는 6개의 뉴런과 1개의 출력 6 X 1 + 1 X 1 = 7 이렇게 계산된다. "
   ]
  },
  {
   "cell_type": "code",
   "execution_count": 3,
   "metadata": {},
   "outputs": [
    {
     "name": "stdout",
     "output_type": "stream",
     "text": [
      "Model: \"sequential\"\n",
      "_________________________________________________________________\n",
      "Layer (type)                 Output Shape              Param #   \n",
      "=================================================================\n",
      "dense (Dense)                (None, 6)                 12        \n",
      "_________________________________________________________________\n",
      "dense_1 (Dense)              (None, 1)                 7         \n",
      "=================================================================\n",
      "Total params: 19\n",
      "Trainable params: 19\n",
      "Non-trainable params: 0\n",
      "_________________________________________________________________\n"
     ]
    }
   ],
   "source": [
    "model = tf.keras.Sequential([\n",
    "    tf.keras.layers.Dense(units=6, activation='sigmoid', input_shape=(1,)),\n",
    "    tf.keras.layers.Dense(units=1)\n",
    "])\n",
    "\n",
    "model.compile(optimizer=tf.keras.optimizers.SGD(lr=0.1), loss='mse')\n",
    "model.summary()"
   ]
  },
  {
   "cell_type": "markdown",
   "metadata": {},
   "source": [
    "#### 딥러닝 학습 "
   ]
  },
  {
   "cell_type": "code",
   "execution_count": 4,
   "metadata": {},
   "outputs": [
    {
     "name": "stdout",
     "output_type": "stream",
     "text": [
      "Train on 16 samples\n",
      "Epoch 1/10\n",
      "16/16 [==============================] - 0s 26ms/sample - loss: 240.1990\n",
      "Epoch 2/10\n",
      "16/16 [==============================] - 0s 312us/sample - loss: 59.0584\n",
      "Epoch 3/10\n",
      "16/16 [==============================] - 0s 374us/sample - loss: 11.6957\n",
      "Epoch 4/10\n",
      "16/16 [==============================] - 0s 374us/sample - loss: 9.7192\n",
      "Epoch 5/10\n",
      "16/16 [==============================] - 0s 374us/sample - loss: 9.6586\n",
      "Epoch 6/10\n",
      "16/16 [==============================] - 0s 374us/sample - loss: 9.6213\n",
      "Epoch 7/10\n",
      "16/16 [==============================] - 0s 374us/sample - loss: 9.5969\n",
      "Epoch 8/10\n",
      "16/16 [==============================] - 0s 312us/sample - loss: 9.5800\n",
      "Epoch 9/10\n",
      "16/16 [==============================] - 0s 374us/sample - loss: 9.5674\n",
      "Epoch 10/10\n",
      "16/16 [==============================] - 0s 312us/sample - loss: 9.5571\n"
     ]
    },
    {
     "data": {
      "text/plain": [
       "<tensorflow.python.keras.callbacks.History at 0x1bbd557f2c8>"
      ]
     },
     "execution_count": 4,
     "metadata": {},
     "output_type": "execute_result"
    }
   ],
   "source": [
    "model.fit(X, Y, epochs=10)"
   ]
  },
  {
   "cell_type": "markdown",
   "metadata": {},
   "source": [
    "#### 예측 "
   ]
  },
  {
   "cell_type": "code",
   "execution_count": 5,
   "metadata": {},
   "outputs": [
    {
     "data": {
      "text/plain": [
       "array([[15.784643],\n",
       "       [15.747105],\n",
       "       [15.338425],\n",
       "       [15.831415],\n",
       "       [15.432238],\n",
       "       [15.798328],\n",
       "       [15.839939],\n",
       "       [15.81764 ],\n",
       "       [15.750065],\n",
       "       [15.830603],\n",
       "       [15.725178],\n",
       "       [15.826014],\n",
       "       [15.838551],\n",
       "       [15.832413],\n",
       "       [15.752979],\n",
       "       [14.335743]], dtype=float32)"
      ]
     },
     "execution_count": 5,
     "metadata": {},
     "output_type": "execute_result"
    }
   ],
   "source": [
    "model.predict(X)"
   ]
  },
  {
   "cell_type": "markdown",
   "metadata": {},
   "source": [
    "#### 그래프 그리기 "
   ]
  },
  {
   "cell_type": "code",
   "execution_count": 6,
   "metadata": {},
   "outputs": [
    {
     "data": {
      "image/png": "[encoded data removed]",
      "text/plain": [
       "<Figure size 432x288 with 1 Axes>"
      ]
     },
     "metadata": {
      "needs_background": "light"
     },
     "output_type": "display_data"
    }
   ],
   "source": [
    "import matplotlib.pyplot as plt\n",
    "\n",
    "line_x = np.arange(min(X), max(X), 0.01)\n",
    "line_y = model.predict(line_x)\n",
    "\n",
    "plt.plot(line_x,line_y,'r-')\n",
    "plt.plot(X,Y,'bo')\n",
    "plt.xlabel('Population Growth Rate (%)')\n",
    "plt.ylabel('Elderly Population Rate (%)')\n",
    "plt.show()"
   ]
  },
  {
   "cell_type": "code",
   "execution_count": null,
   "metadata": {},
   "outputs": [],
   "source": []
  }
 ],
 "metadata": {
  "kernelspec": {
   "display_name": "Python 3",
   "language": "python",
   "name": "python3"
  },
  "language_info": {
   "codemirror_mode": {
    "name": "ipython",
    "version": 3
   },
   "file_extension": ".py",
   "mimetype": "text/x-python",
   "name": "python",
   "nbconvert_exporter": "python",
   "pygments_lexer": "ipython3",
   "version": "3.7.6"
  }
 },
 "nbformat": 4,
 "nbformat_minor": 4
}
