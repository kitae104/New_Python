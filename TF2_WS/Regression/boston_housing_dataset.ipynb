{
 "cells": [
  {
   "cell_type": "markdown",
   "metadata": {},
   "source": [
    "# 보스턴 주택 가격 데이터세트(Boston Housing Dataset)\n",
    "* 13 가지의 데이터를 이용해서 주택가격 예측하기 "
   ]
  },
  {
   "cell_type": "code",
   "execution_count": 12,
   "metadata": {},
   "outputs": [],
   "source": [
    "import tensorflow as tf\n",
    "import numpy as np\n",
    "from tensorflow.keras.datasets import boston_housing"
   ]
  },
  {
   "cell_type": "markdown",
   "metadata": {},
   "source": [
    "#### 데이터 셋 불러와서 학습 데이터와 테스트 데이터 만들기 \n",
    "* 학습 데이터 : 404개 - 13가지 \n",
    "* 테스트 데이터 : 102개 - 1가지 \n",
    "* 각 데이터는 단위가 다름 - 전처리해서 정규화(Standardization)해야 학습 효과가 좋아진다. "
   ]
  },
  {
   "cell_type": "code",
   "execution_count": 7,
   "metadata": {},
   "outputs": [
    {
     "name": "stdout",
     "output_type": "stream",
     "text": [
      "404 102\n",
      "[  1.23247   0.        8.14      0.        0.538     6.142    91.7\n",
      "   3.9769    4.      307.       21.      396.9      18.72   ]\n",
      "15.2\n"
     ]
    }
   ],
   "source": [
    "(train_X, train_Y), (test_X, test_Y) = boston_housing.load_data()\n",
    "print(len(train_X), len(test_X))\n",
    "# 내용 확인하기 \n",
    "print(train_X[0])\n",
    "print(train_Y[0])"
   ]
  },
  {
   "cell_type": "markdown",
   "metadata": {},
   "source": [
    "#### 데이터 전처리 (정규화)\n",
    "* 정규화 : 일반적으로 각 데이터에서 평균값을 뺀 다음 표준편차로 나눈다. --> 데이터의 분포를 정규분포로 옮기는 역할 수행 \n",
    "* numpy.ndarray에 대해 평균(mean())과 표준편차(std()) 적용\n",
    "* 각 항목별로 평균과 표준편차가 구해진다. \n",
    "* 테스트 데이터에 대해서는 평균과 표준편차를 구하기 힘든 경우가 있기 때문에 보통은 학습 데이터의 평균과 표준편차 정보를 이용한다. "
   ]
  },
  {
   "cell_type": "code",
   "execution_count": 10,
   "metadata": {},
   "outputs": [
    {
     "name": "stdout",
     "output_type": "stream",
     "text": [
      "[-0.47482083 -0.48335641 -0.42698208 -0.48335641 -0.47963044 -0.44081941\n",
      "  0.15172056 -0.45581402 -0.45565404  1.64280094 -0.33791894  2.26541184\n",
      " -0.35370929]\n",
      "-0.7821526033779157\n"
     ]
    }
   ],
   "source": [
    "# 입력에 사용할 학습 데이터 평균과 표준편차 구하기\n",
    "x_mean = train_X.mean()\n",
    "x_std = train_X.std()\n",
    "\n",
    "# 데이터를 평균으로 빼고 표준편차로 나누기  \n",
    "train_X -= x_mean\n",
    "train_X /= x_std\n",
    "test_X -= x_mean\n",
    "test_X /= x_std\n",
    "\n",
    "# 정답 데이터 평균과 표준편차 구하기\n",
    "y_mean = train_Y.mean()\n",
    "y_std = train_Y.std()\n",
    "\n",
    "# 데이터를 평균으로 빼고 표준편차로 나누기  \n",
    "train_Y -= y_mean\n",
    "train_Y /= y_std\n",
    "test_Y -= y_mean\n",
    "test_Y /= y_std\n",
    "\n",
    "# 데이터가 정규분포로 이루어짐 \n",
    "print(train_X[0])\n",
    "print(train_Y[0])"
   ]
  },
  {
   "cell_type": "markdown",
   "metadata": {},
   "source": [
    "#### 시퀀스로 구성된 회귀 모델 생성\n",
    "* 4개의 레이어로 구성 --> 레이어의 수와 은닉층의 뉴런의 수를 늘리면 모델의 표현력이 좋아지기 때문에 더 복잡한 내용을 학습시킬 수 있다. \n",
    "* 첫번째 레이어는 13개의 항목과 52개의 뉴런으로 학습 수행 --> 학습에 사용되는 파라미터는 13 X 52 + 1 X 52 = 728 이 된다. \n",
    "* 두번째 레이어는 39개의 뉴런을 사용하는데 앞 레이어서 52개의 뉴런 정보와 b가 넘어온다. --> 학습에 사용되는 파리미터의 갯수는 52 X 39 + 1 X 39 = 2067이 된다. \n",
    "* 나머지 파라미터들은 위의 방법과 동일한 방식으로 계산된다. "
   ]
  },
  {
   "cell_type": "code",
   "execution_count": 13,
   "metadata": {},
   "outputs": [
    {
     "name": "stdout",
     "output_type": "stream",
     "text": [
      "Model: \"sequential\"\n",
      "_________________________________________________________________\n",
      "Layer (type)                 Output Shape              Param #   \n",
      "=================================================================\n",
      "dense (Dense)                (None, 52)                728       \n",
      "_________________________________________________________________\n",
      "dense_1 (Dense)              (None, 39)                2067      \n",
      "_________________________________________________________________\n",
      "dense_2 (Dense)              (None, 26)                1040      \n",
      "_________________________________________________________________\n",
      "dense_3 (Dense)              (None, 1)                 27        \n",
      "=================================================================\n",
      "Total params: 3,862\n",
      "Trainable params: 3,862\n",
      "Non-trainable params: 0\n",
      "_________________________________________________________________\n"
     ]
    }
   ],
   "source": [
    "model = tf.keras.Sequential([\n",
    "    tf.keras.layers.Dense(units=52, activation='relu', input_shape=(13,)),\n",
    "    tf.keras.layers.Dense(units=39, activation='relu'),\n",
    "    tf.keras.layers.Dense(units=26, activation='relu'),\n",
    "    tf.keras.layers.Dense(units=1)    \n",
    "])\n",
    "model.summary()"
   ]
  },
  {
   "cell_type": "markdown",
   "metadata": {},
   "source": [
    "#### 모델 컴파일 "
   ]
  },
  {
   "cell_type": "code",
   "execution_count": 14,
   "metadata": {},
   "outputs": [],
   "source": [
    "model.compile(optimizer=tf.keras.optimizers.Adam(lr=0.07), loss='mse')"
   ]
  },
  {
   "cell_type": "markdown",
   "metadata": {},
   "source": [
    "#### 모델 학습\n",
    "* validation_split : 훈련 데이터의 25% 정도를 검증 데이터로 사용 "
   ]
  },
  {
   "cell_type": "code",
   "execution_count": 19,
   "metadata": {},
   "outputs": [
    {
     "name": "stdout",
     "output_type": "stream",
     "text": [
      "Train on 303 samples, validate on 101 samples\n",
      "Epoch 1/25\n",
      "303/303 [==============================] - 0s 125us/sample - loss: 0.5988 - val_loss: 0.8832\n",
      "Epoch 2/25\n",
      "303/303 [==============================] - 0s 92us/sample - loss: 0.5051 - val_loss: 0.8701\n",
      "Epoch 3/25\n",
      "303/303 [==============================] - 0s 95us/sample - loss: 0.4645 - val_loss: 0.8693\n",
      "Epoch 4/25\n",
      "303/303 [==============================] - 0s 95us/sample - loss: 0.4857 - val_loss: 0.7424\n",
      "Epoch 5/25\n",
      "303/303 [==============================] - 0s 92us/sample - loss: 0.4362 - val_loss: 0.6907\n",
      "Epoch 6/25\n",
      "303/303 [==============================] - 0s 92us/sample - loss: 0.4788 - val_loss: 0.7323\n",
      "Epoch 7/25\n",
      "303/303 [==============================] - 0s 92us/sample - loss: 0.4442 - val_loss: 0.8116\n",
      "Epoch 8/25\n",
      "303/303 [==============================] - 0s 92us/sample - loss: 0.4528 - val_loss: 0.6483\n",
      "Epoch 9/25\n",
      "303/303 [==============================] - 0s 92us/sample - loss: 0.4616 - val_loss: 0.7119\n",
      "Epoch 10/25\n",
      "303/303 [==============================] - 0s 86us/sample - loss: 0.4041 - val_loss: 0.7028\n",
      "Epoch 11/25\n",
      "303/303 [==============================] - 0s 92us/sample - loss: 0.4043 - val_loss: 0.7815\n",
      "Epoch 12/25\n",
      "303/303 [==============================] - 0s 95us/sample - loss: 0.4210 - val_loss: 0.7026\n",
      "Epoch 13/25\n",
      "303/303 [==============================] - 0s 92us/sample - loss: 0.4020 - val_loss: 0.6579\n",
      "Epoch 14/25\n",
      "303/303 [==============================] - 0s 95us/sample - loss: 0.4188 - val_loss: 0.6258\n",
      "Epoch 15/25\n",
      "303/303 [==============================] - 0s 95us/sample - loss: 0.4108 - val_loss: 0.6559\n",
      "Epoch 16/25\n",
      "303/303 [==============================] - 0s 92us/sample - loss: 0.4805 - val_loss: 0.7590\n",
      "Epoch 17/25\n",
      "303/303 [==============================] - 0s 92us/sample - loss: 0.5340 - val_loss: 0.9102\n",
      "Epoch 18/25\n",
      "303/303 [==============================] - 0s 92us/sample - loss: 0.4503 - val_loss: 0.6867\n",
      "Epoch 19/25\n",
      "303/303 [==============================] - 0s 95us/sample - loss: 0.4867 - val_loss: 0.9455\n",
      "Epoch 20/25\n",
      "303/303 [==============================] - 0s 92us/sample - loss: 0.4706 - val_loss: 0.6494\n",
      "Epoch 21/25\n",
      "303/303 [==============================] - 0s 95us/sample - loss: 0.4152 - val_loss: 0.6705\n",
      "Epoch 22/25\n",
      "303/303 [==============================] - 0s 92us/sample - loss: 0.3738 - val_loss: 0.7960\n",
      "Epoch 23/25\n",
      "303/303 [==============================] - 0s 92us/sample - loss: 0.3931 - val_loss: 0.6042\n",
      "Epoch 24/25\n",
      "303/303 [==============================] - 0s 105us/sample - loss: 0.4205 - val_loss: 0.6171\n",
      "Epoch 25/25\n",
      "303/303 [==============================] - 0s 95us/sample - loss: 0.5104 - val_loss: 0.6842\n"
     ]
    },
    {
     "data": {
      "text/plain": [
       "{'loss': [0.5988256112970535,\n",
       "  0.5051413489253608,\n",
       "  0.46448482007476755,\n",
       "  0.4856546953959827,\n",
       "  0.43618202111115156,\n",
       "  0.47877333797637384,\n",
       "  0.44422505604158535,\n",
       "  0.4527577045727091,\n",
       "  0.4616499982356238,\n",
       "  0.4040765001042054,\n",
       "  0.40428913554342666,\n",
       "  0.42099264834580247,\n",
       "  0.40201629388450394,\n",
       "  0.41879858533934794,\n",
       "  0.4108154714697658,\n",
       "  0.4804551685997362,\n",
       "  0.533995977575236,\n",
       "  0.4502628316285193,\n",
       "  0.4866788884003957,\n",
       "  0.4706024406570019,\n",
       "  0.4151974664662931,\n",
       "  0.373813255588607,\n",
       "  0.3931048749992163,\n",
       "  0.42049416732473344,\n",
       "  0.5104311010231672],\n",
       " 'val_loss': [0.8832101048809466,\n",
       "  0.870111549107155,\n",
       "  0.8692812397338376,\n",
       "  0.742446056244397,\n",
       "  0.6906513385843522,\n",
       "  0.7322889901328795,\n",
       "  0.811649709571116,\n",
       "  0.6483221754874333,\n",
       "  0.7119043853760946,\n",
       "  0.7027992275681826,\n",
       "  0.7815154418349266,\n",
       "  0.7025666800465914,\n",
       "  0.657928266295112,\n",
       "  0.6258278896312902,\n",
       "  0.6559370219117344,\n",
       "  0.7589781101387326,\n",
       "  0.9102261874935414,\n",
       "  0.6867482825966165,\n",
       "  0.9455415174217507,\n",
       "  0.6493533048594352,\n",
       "  0.6704656899270445,\n",
       "  0.7960217836322171,\n",
       "  0.6041755776594181,\n",
       "  0.6170746619896134,\n",
       "  0.684155600053249]}"
      ]
     },
     "execution_count": 19,
     "metadata": {},
     "output_type": "execute_result"
    }
   ],
   "source": [
    "history = model.fit(train_X, train_Y, epochs=25, batch_size=32, validation_split=0.25)\n",
    "#history.history    # 학습된 내용 확인 "
   ]
  },
  {
   "cell_type": "markdown",
   "metadata": {},
   "source": [
    "#### 회귀 모델 학습 결과 그래프"
   ]
  },
  {
   "cell_type": "code",
   "execution_count": 16,
   "metadata": {},
   "outputs": [
    {
     "data": {
      "image/png": "[encoded data removed]",
      "text/plain": [
       "<Figure size 432x288 with 1 Axes>"
      ]
     },
     "metadata": {
      "needs_background": "light"
     },
     "output_type": "display_data"
    }
   ],
   "source": [
    "import matplotlib.pyplot as plt\n",
    "\n",
    "plt.plot(history.history['loss'], 'b-', label='loss')\n",
    "plt.plot(history.history['val_loss'], 'r--', label='val_loss')\n",
    "plt.xlabel('Epoch')\n",
    "plt.legend()\n",
    "plt.show()"
   ]
  },
  {
   "cell_type": "markdown",
   "metadata": {},
   "source": [
    "#### 회귀모델 평가(evaluation)\n",
    "* 실제 테스트 데이터를 입력해서 모델을 평가한다."
   ]
  },
  {
   "cell_type": "code",
   "execution_count": 17,
   "metadata": {},
   "outputs": [
    {
     "name": "stdout",
     "output_type": "stream",
     "text": [
      "102/102 [==============================] - 0s 293us/sample - loss: 0.7110\n"
     ]
    },
    {
     "data": {
      "text/plain": [
       "0.7110450197668636"
      ]
     },
     "execution_count": 17,
     "metadata": {},
     "output_type": "execute_result"
    }
   ],
   "source": [
    "model.evaluate(test_X, test_Y)"
   ]
  },
  {
   "cell_type": "code",
   "execution_count": null,
   "metadata": {},
   "outputs": [],
   "source": []
  },
  {
   "cell_type": "code",
   "execution_count": null,
   "metadata": {},
   "outputs": [],
   "source": []
  }
 ],
 "metadata": {
  "kernelspec": {
   "display_name": "Python 3",
   "language": "python",
   "name": "python3"
  },
  "language_info": {
   "codemirror_mode": {
    "name": "ipython",
    "version": 3
   },
   "file_extension": ".py",
   "mimetype": "text/x-python",
   "name": "python",
   "nbconvert_exporter": "python",
   "pygments_lexer": "ipython3",
   "version": "3.7.6"
  }
 },
 "nbformat": 4,
 "nbformat_minor": 4
}
