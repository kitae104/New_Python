{
 "cells": [
  {
   "cell_type": "markdown",
   "metadata": {},
   "source": [
    "# 보스턴 주택 가격 데이터세트(Boston Housing Dataset)\n",
    "* 13 가지의 데이터를 이용해서 주택가격 예측하기 "
   ]
  },
  {
   "cell_type": "code",
   "execution_count": 1,
   "metadata": {},
   "outputs": [],
   "source": [
    "import tensorflow as tf\n",
    "import numpy as np\n",
    "from tensorflow.keras.datasets import boston_housing"
   ]
  },
  {
   "cell_type": "markdown",
   "metadata": {},
   "source": [
    "#### 데이터 셋 불러와서 학습 데이터와 테스트 데이터 만들기 \n",
    "* 학습 데이터 : 404개 - 13가지 \n",
    "* 테스트 데이터 : 102개 - 1가지 \n",
    "* 각 데이터는 단위가 다름 - 전처리해서 정규화(Standardization)해야 학습 효과가 좋아진다. "
   ]
  },
  {
   "cell_type": "code",
   "execution_count": 2,
   "metadata": {},
   "outputs": [
    {
     "name": "stdout",
     "output_type": "stream",
     "text": [
      "404 102\n",
      "[  1.23247   0.        8.14      0.        0.538     6.142    91.7\n",
      "   3.9769    4.      307.       21.      396.9      18.72   ]\n",
      "15.2\n"
     ]
    }
   ],
   "source": [
    "(train_X, train_Y), (test_X, test_Y) = boston_housing.load_data()\n",
    "print(len(train_X), len(test_X))\n",
    "# 내용 확인하기 \n",
    "print(train_X[0])\n",
    "print(train_Y[0])"
   ]
  },
  {
   "cell_type": "markdown",
   "metadata": {},
   "source": [
    "#### 데이터 전처리 (정규화)\n",
    "* 정규화 : 일반적으로 각 데이터에서 평균값을 뺀 다음 표준편차로 나눈다. --> 데이터의 분포를 정규분포로 옮기는 역할 수행 \n",
    "* numpy.ndarray에 대해 평균(mean())과 표준편차(std()) 적용\n",
    "* 각 항목별로 평균과 표준편차가 구해진다. \n",
    "* 테스트 데이터에 대해서는 평균과 표준편차를 구하기 힘든 경우가 있기 때문에 보통은 학습 데이터의 평균과 표준편차 정보를 이용한다. "
   ]
  },
  {
   "cell_type": "code",
   "execution_count": 3,
   "metadata": {},
   "outputs": [
    {
     "name": "stdout",
     "output_type": "stream",
     "text": [
      "[-0.47482083 -0.48335641 -0.42698208 -0.48335641 -0.47963044 -0.44081941\n",
      "  0.15172056 -0.45581402 -0.45565404  1.64280094 -0.33791894  2.26541184\n",
      " -0.35370929]\n",
      "-0.7821526033779157\n"
     ]
    }
   ],
   "source": [
    "# 입력에 사용할 학습 데이터 평균과 표준편차 구하기\n",
    "x_mean = train_X.mean()\n",
    "x_std = train_X.std()\n",
    "\n",
    "# 데이터를 평균으로 빼고 표준편차로 나누기  \n",
    "train_X -= x_mean\n",
    "train_X /= x_std\n",
    "test_X -= x_mean\n",
    "test_X /= x_std\n",
    "\n",
    "# 정답 데이터 평균과 표준편차 구하기\n",
    "y_mean = train_Y.mean()\n",
    "y_std = train_Y.std()\n",
    "\n",
    "# 데이터를 평균으로 빼고 표준편차로 나누기  \n",
    "train_Y -= y_mean\n",
    "train_Y /= y_std\n",
    "test_Y -= y_mean\n",
    "test_Y /= y_std\n",
    "\n",
    "# 데이터가 정규분포로 이루어짐 \n",
    "print(train_X[0])\n",
    "print(train_Y[0])"
   ]
  },
  {
   "cell_type": "markdown",
   "metadata": {},
   "source": [
    "#### 시퀀스로 구성된 회귀 모델 생성\n",
    "* 4개의 레이어로 구성 --> 레이어의 수와 은닉층의 뉴런의 수를 늘리면 모델의 표현력이 좋아지기 때문에 더 복잡한 내용을 학습시킬 수 있다. \n",
    "* 첫번째 레이어는 13개의 항목과 52개의 뉴런으로 학습 수행 --> 학습에 사용되는 파라미터는 13 X 52 + 1 X 52 = 728 이 된다. \n",
    "* 두번째 레이어는 39개의 뉴런을 사용하는데 앞 레이어서 52개의 뉴런 정보와 b가 넘어온다. --> 학습에 사용되는 파리미터의 갯수는 52 X 39 + 1 X 39 = 2067이 된다. \n",
    "* 나머지 파라미터들은 위의 방법과 동일한 방식으로 계산된다. "
   ]
  },
  {
   "cell_type": "code",
   "execution_count": 4,
   "metadata": {},
   "outputs": [
    {
     "name": "stdout",
     "output_type": "stream",
     "text": [
      "Model: \"sequential\"\n",
      "_________________________________________________________________\n",
      "Layer (type)                 Output Shape              Param #   \n",
      "=================================================================\n",
      "dense (Dense)                (None, 52)                728       \n",
      "_________________________________________________________________\n",
      "dense_1 (Dense)              (None, 39)                2067      \n",
      "_________________________________________________________________\n",
      "dense_2 (Dense)              (None, 26)                1040      \n",
      "_________________________________________________________________\n",
      "dense_3 (Dense)              (None, 1)                 27        \n",
      "=================================================================\n",
      "Total params: 3,862\n",
      "Trainable params: 3,862\n",
      "Non-trainable params: 0\n",
      "_________________________________________________________________\n"
     ]
    }
   ],
   "source": [
    "model = tf.keras.Sequential([\n",
    "    tf.keras.layers.Dense(units=52, activation='relu', input_shape=(13,)),\n",
    "    tf.keras.layers.Dense(units=39, activation='relu'),\n",
    "    tf.keras.layers.Dense(units=26, activation='relu'),\n",
    "    tf.keras.layers.Dense(units=1)    \n",
    "])\n",
    "model.summary()"
   ]
  },
  {
   "cell_type": "markdown",
   "metadata": {},
   "source": [
    "#### 모델 컴파일 "
   ]
  },
  {
   "cell_type": "code",
   "execution_count": 5,
   "metadata": {},
   "outputs": [],
   "source": [
    "model.compile(optimizer=tf.keras.optimizers.Adam(lr=0.07), loss='mse')"
   ]
  },
  {
   "cell_type": "markdown",
   "metadata": {},
   "source": [
    "#### 모델 학습\n",
    "* validation_split : 훈련 데이터의 25% 정도를 검증 데이터로 사용 "
   ]
  },
  {
   "cell_type": "code",
   "execution_count": 6,
   "metadata": {},
   "outputs": [
    {
     "name": "stdout",
     "output_type": "stream",
     "text": [
      "Train on 303 samples, validate on 101 samples\n",
      "Epoch 1/25\n",
      "303/303 [==============================] - 1s 2ms/sample - loss: 2.3854 - val_loss: 1.2520\n",
      "Epoch 2/25\n",
      "303/303 [==============================] - 0s 92us/sample - loss: 0.8989 - val_loss: 1.3579\n",
      "Epoch 3/25\n",
      "303/303 [==============================] - 0s 92us/sample - loss: 0.8282 - val_loss: 1.0502\n",
      "Epoch 4/25\n",
      "303/303 [==============================] - 0s 89us/sample - loss: 0.6903 - val_loss: 1.1542\n",
      "Epoch 5/25\n",
      "303/303 [==============================] - 0s 92us/sample - loss: 0.6547 - val_loss: 1.0421\n",
      "Epoch 6/25\n",
      "303/303 [==============================] - 0s 86us/sample - loss: 0.7253 - val_loss: 1.0800\n",
      "Epoch 7/25\n",
      "303/303 [==============================] - 0s 89us/sample - loss: 0.7218 - val_loss: 1.1863\n",
      "Epoch 8/25\n",
      "303/303 [==============================] - 0s 92us/sample - loss: 0.6777 - val_loss: 1.2826\n",
      "Epoch 9/25\n",
      "303/303 [==============================] - 0s 89us/sample - loss: 0.7026 - val_loss: 1.2176\n",
      "Epoch 10/25\n",
      "303/303 [==============================] - 0s 92us/sample - loss: 0.6605 - val_loss: 1.0483\n",
      "Epoch 11/25\n",
      "303/303 [==============================] - 0s 85us/sample - loss: 0.6745 - val_loss: 1.4533\n",
      "Epoch 12/25\n",
      "303/303 [==============================] - 0s 86us/sample - loss: 0.7402 - val_loss: 1.0597\n",
      "Epoch 13/25\n",
      "303/303 [==============================] - 0s 95us/sample - loss: 0.6526 - val_loss: 1.1458\n",
      "Epoch 14/25\n",
      "303/303 [==============================] - 0s 89us/sample - loss: 0.6313 - val_loss: 1.0251\n",
      "Epoch 15/25\n",
      "303/303 [==============================] - 0s 89us/sample - loss: 0.6280 - val_loss: 1.0802\n",
      "Epoch 16/25\n",
      "303/303 [==============================] - 0s 89us/sample - loss: 0.6325 - val_loss: 1.1563\n",
      "Epoch 17/25\n",
      "303/303 [==============================] - 0s 105us/sample - loss: 0.6411 - val_loss: 1.1010\n",
      "Epoch 18/25\n",
      "303/303 [==============================] - 0s 122us/sample - loss: 0.6045 - val_loss: 1.1577\n",
      "Epoch 19/25\n",
      "303/303 [==============================] - 0s 118us/sample - loss: 0.6417 - val_loss: 1.1199\n",
      "Epoch 20/25\n",
      "303/303 [==============================] - 0s 89us/sample - loss: 0.5949 - val_loss: 1.1197\n",
      "Epoch 21/25\n",
      "303/303 [==============================] - 0s 89us/sample - loss: 0.5857 - val_loss: 1.0474\n",
      "Epoch 22/25\n",
      "303/303 [==============================] - 0s 89us/sample - loss: 0.6027 - val_loss: 0.9619\n",
      "Epoch 23/25\n",
      "303/303 [==============================] - 0s 89us/sample - loss: 0.5999 - val_loss: 0.9511\n",
      "Epoch 24/25\n",
      "303/303 [==============================] - 0s 89us/sample - loss: 0.6338 - val_loss: 0.9365\n",
      "Epoch 25/25\n",
      "303/303 [==============================] - 0s 86us/sample - loss: 0.5945 - val_loss: 0.9304\n"
     ]
    }
   ],
   "source": [
    "history = model.fit(train_X, train_Y, epochs=25, batch_size=32, validation_split=0.25)\n",
    "#history.history    # 학습된 내용 확인 "
   ]
  },
  {
   "cell_type": "markdown",
   "metadata": {},
   "source": [
    "#### 회귀 모델 학습 결과 그래프"
   ]
  },
  {
   "cell_type": "code",
   "execution_count": 7,
   "metadata": {},
   "outputs": [
    {
     "data": {
      "image/png": "[encoded data removed]",
      "text/plain": [
       "<Figure size 432x288 with 1 Axes>"
      ]
     },
     "metadata": {
      "needs_background": "light"
     },
     "output_type": "display_data"
    }
   ],
   "source": [
    "import matplotlib.pyplot as plt\n",
    "\n",
    "plt.plot(history.history['loss'], 'b-', label='loss')\n",
    "plt.plot(history.history['val_loss'], 'r--', label='val_loss')\n",
    "plt.xlabel('Epoch')\n",
    "plt.legend()\n",
    "plt.show()"
   ]
  },
  {
   "cell_type": "markdown",
   "metadata": {},
   "source": [
    "#### 회귀모델 평가(evaluation)\n",
    "* 실제 테스트 데이터를 입력해서 모델을 평가한다."
   ]
  },
  {
   "cell_type": "code",
   "execution_count": 8,
   "metadata": {},
   "outputs": [
    {
     "name": "stdout",
     "output_type": "stream",
     "text": [
      "102/102 [==============================] - 0s 117us/sample - loss: 0.6477\n"
     ]
    },
    {
     "data": {
      "text/plain": [
       "0.6477219848071828"
      ]
     },
     "execution_count": 8,
     "metadata": {},
     "output_type": "execute_result"
    }
   ],
   "source": [
    "model.evaluate(test_X, test_Y)"
   ]
  },
  {
   "cell_type": "markdown",
   "metadata": {},
   "source": [
    "#### 실제 주택 가격과 예측 주택 가격 시각화\n",
    "* 실제 주택 가격(test_Y)와 예측 주택 가격(pred_Y)는 비교적 일정한 값에 머물러 있는 형태 \n",
    "* 이상적이라면 그래프의 대각선에 모든 점이 위치해야 됨 \n",
    "* val_loss 가 높지 않으려면 과적합(overfitting)을 막아야 한다. "
   ]
  },
  {
   "cell_type": "code",
   "execution_count": 9,
   "metadata": {},
   "outputs": [
    {
     "data": {
      "image/png": "[encoded data removed]",
      "text/plain": [
       "<Figure size 360x360 with 1 Axes>"
      ]
     },
     "metadata": {
      "needs_background": "light"
     },
     "output_type": "display_data"
    }
   ],
   "source": [
    "pred_Y = model.predict(test_X)\n",
    "\n",
    "# 실제값과 예측값 출력 \n",
    "plt.figure(figsize=(5, 5))\n",
    "plt.plot(test_Y, pred_Y, 'b.')\n",
    "plt.axis([min(test_Y), max(test_Y), min(test_Y), max(test_Y)])\n",
    "\n",
    "# y = x 대각선 \n",
    "plt.plot([min(test_Y), max(test_Y)], [min(test_Y), max(test_Y)], ls='--', c='.9') # c : 색 강도\n",
    "plt.xlabel('test_Y')\n",
    "plt.ylabel('pred_Y')\n",
    "plt.show()"
   ]
  },
  {
   "cell_type": "markdown",
   "metadata": {},
   "source": [
    "#### 모델 재정의 및 학습\n",
    "* 과적합을 막는 방법중에 하나는 위에 작성된 그래프를 확인하고 에폭을 조절해서 수정하면 된다. \n",
    "* callbacks.EarlyStopping : 학습 도중에 끼어들기 위해 콜백(callback) 함수를 사용한다.\n",
    "* 콜백 함수는 모델을 학습할 때 에폭이 끝날 때마다 호출된다. --> 네트워크가 과적합되지 않도록 도중에 학습을 멈춤.\n",
    "* callbacks 인수를 통해 호출 \n",
    "* patience : 몇 번의 에폭을 기준으로 삼을 것인지 설정 \n",
    "* monitor : 어떤 값을 지켜볼 것인지 설정 "
   ]
  },
  {
   "cell_type": "code",
   "execution_count": 10,
   "metadata": {},
   "outputs": [
    {
     "name": "stdout",
     "output_type": "stream",
     "text": [
      "Train on 303 samples, validate on 101 samples\n",
      "Epoch 1/25\n",
      "303/303 [==============================] - 0s 853us/sample - loss: 6.1178 - val_loss: 1.1787\n",
      "Epoch 2/25\n",
      "303/303 [==============================] - 0s 95us/sample - loss: 0.9371 - val_loss: 1.1576\n",
      "Epoch 3/25\n",
      "303/303 [==============================] - 0s 89us/sample - loss: 0.9348 - val_loss: 1.2686\n",
      "Epoch 4/25\n",
      "303/303 [==============================] - 0s 95us/sample - loss: 0.8151 - val_loss: 1.2698\n",
      "Epoch 5/25\n",
      "303/303 [==============================] - 0s 92us/sample - loss: 0.7296 - val_loss: 1.1617\n"
     ]
    }
   ],
   "source": [
    "model = tf.keras.Sequential([\n",
    "    tf.keras.layers.Dense(units=52, activation='relu', input_shape=(13,)),\n",
    "    tf.keras.layers.Dense(units=39, activation='relu'),\n",
    "    tf.keras.layers.Dense(units=26, activation='relu'),\n",
    "    tf.keras.layers.Dense(units=1)\n",
    "])\n",
    "\n",
    "model.compile(optimizer=tf.keras.optimizers.Adam(lr=0.07), loss='mse')\n",
    "\n",
    "history = model.fit(train_X, train_Y, epochs=25, batch_size=32, validation_split=0.25, \n",
    "                   callbacks=[tf.keras.callbacks.EarlyStopping(patience=3, monitor='val_loss')])"
   ]
  },
  {
   "cell_type": "markdown",
   "metadata": {},
   "source": [
    "#### 그래프로 확인 "
   ]
  },
  {
   "cell_type": "code",
   "execution_count": 11,
   "metadata": {},
   "outputs": [
    {
     "data": {
      "image/png": "[encoded data removed]",
      "text/plain": [
       "<Figure size 432x288 with 1 Axes>"
      ]
     },
     "metadata": {
      "needs_background": "light"
     },
     "output_type": "display_data"
    }
   ],
   "source": [
    "plt.plot(history.history['loss'], 'b-', label='loss')\n",
    "plt.plot(history.history['val_loss'], 'r--', label='val_loss')\n",
    "plt.xlabel('Epoch')\n",
    "plt.legend()\n",
    "plt.show()"
   ]
  },
  {
   "cell_type": "markdown",
   "metadata": {},
   "source": [
    "#### 평가"
   ]
  },
  {
   "cell_type": "code",
   "execution_count": 12,
   "metadata": {},
   "outputs": [
    {
     "name": "stdout",
     "output_type": "stream",
     "text": [
      "102/102 [==============================] - 0s 88us/sample - loss: 0.7329\n"
     ]
    },
    {
     "data": {
      "text/plain": [
       "0.7328545743343877"
      ]
     },
     "execution_count": 12,
     "metadata": {},
     "output_type": "execute_result"
    }
   ],
   "source": [
    "model.evaluate(test_X, test_Y)"
   ]
  },
  {
   "cell_type": "markdown",
   "metadata": {},
   "source": [
    "#### 주택가격 확인 "
   ]
  },
  {
   "cell_type": "code",
   "execution_count": 13,
   "metadata": {},
   "outputs": [
    {
     "data": {
      "image/png": "[encoded data removed]",
      "text/plain": [
       "<Figure size 360x360 with 1 Axes>"
      ]
     },
     "metadata": {
      "needs_background": "light"
     },
     "output_type": "display_data"
    }
   ],
   "source": [
    "pred_Y = model.predict(test_X)\n",
    "\n",
    "# 실제값과 예측값 출력 \n",
    "plt.figure(figsize=(5, 5))\n",
    "plt.plot(test_Y, pred_Y, 'b.')\n",
    "plt.axis([min(test_Y), max(test_Y), min(test_Y), max(test_Y)])\n",
    "\n",
    "# y = x 대각선 \n",
    "plt.plot([min(test_Y), max(test_Y)], [min(test_Y), max(test_Y)], ls='--', c='.9') # c : 색 강도\n",
    "plt.xlabel('test_Y')\n",
    "plt.ylabel('pred_Y')\n",
    "plt.show()"
   ]
  },
  {
   "cell_type": "code",
   "execution_count": null,
   "metadata": {},
   "outputs": [],
   "source": []
  }
 ],
 "metadata": {
  "kernelspec": {
   "display_name": "Python 3",
   "language": "python",
   "name": "python3"
  },
  "language_info": {
   "codemirror_mode": {
    "name": "ipython",
    "version": 3
   },
   "file_extension": ".py",
   "mimetype": "text/x-python",
   "name": "python",
   "nbconvert_exporter": "python",
   "pygments_lexer": "ipython3",
   "version": "3.7.6"
  }
 },
 "nbformat": 4,
 "nbformat_minor": 4
}
