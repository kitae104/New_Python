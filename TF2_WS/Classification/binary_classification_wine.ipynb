{
 "cells": [
  {
   "cell_type": "markdown",
   "metadata": {},
   "source": [
    "# 와인 데이터에 대한 2진 분류"
   ]
  },
  {
   "cell_type": "markdown",
   "metadata": {},
   "source": [
    "#### 와인 데이터 불러오기 \n",
    "* 12개의 속성으로 구성 "
   ]
  },
  {
   "cell_type": "code",
   "execution_count": 1,
   "metadata": {},
   "outputs": [
    {
     "name": "stdout",
     "output_type": "stream",
     "text": [
      "   fixed acidity  volatile acidity  citric acid  residual sugar  chlorides  \\\n",
      "0            7.4              0.70         0.00             1.9      0.076   \n",
      "1            7.8              0.88         0.00             2.6      0.098   \n",
      "2            7.8              0.76         0.04             2.3      0.092   \n",
      "3           11.2              0.28         0.56             1.9      0.075   \n",
      "4            7.4              0.70         0.00             1.9      0.076   \n",
      "\n",
      "   free sulfur dioxide  total sulfur dioxide  density    pH  sulphates  \\\n",
      "0                 11.0                  34.0   0.9978  3.51       0.56   \n",
      "1                 25.0                  67.0   0.9968  3.20       0.68   \n",
      "2                 15.0                  54.0   0.9970  3.26       0.65   \n",
      "3                 17.0                  60.0   0.9980  3.16       0.58   \n",
      "4                 11.0                  34.0   0.9978  3.51       0.56   \n",
      "\n",
      "   alcohol  quality  \n",
      "0      9.4        5  \n",
      "1      9.8        5  \n",
      "2      9.8        5  \n",
      "3      9.8        6  \n",
      "4      9.4        5  \n",
      "   fixed acidity  volatile acidity  citric acid  residual sugar  chlorides  \\\n",
      "0            7.0              0.27         0.36            20.7      0.045   \n",
      "1            6.3              0.30         0.34             1.6      0.049   \n",
      "2            8.1              0.28         0.40             6.9      0.050   \n",
      "3            7.2              0.23         0.32             8.5      0.058   \n",
      "4            7.2              0.23         0.32             8.5      0.058   \n",
      "\n",
      "   free sulfur dioxide  total sulfur dioxide  density    pH  sulphates  \\\n",
      "0                 45.0                 170.0   1.0010  3.00       0.45   \n",
      "1                 14.0                 132.0   0.9940  3.30       0.49   \n",
      "2                 30.0                  97.0   0.9951  3.26       0.44   \n",
      "3                 47.0                 186.0   0.9956  3.19       0.40   \n",
      "4                 47.0                 186.0   0.9956  3.19       0.40   \n",
      "\n",
      "   alcohol  quality  \n",
      "0      8.8        6  \n",
      "1      9.5        6  \n",
      "2     10.1        6  \n",
      "3      9.9        6  \n",
      "4      9.9        6  \n"
     ]
    }
   ],
   "source": [
    "import pandas as pd\n",
    "\n",
    "# 인터넷에서 데이터 불러오기 \n",
    "red = pd.read_csv('http://archive.ics.uci.edu/ml/machine-learning-databases/wine-quality/winequality-red.csv', sep=';')\n",
    "white = pd.read_csv('http://archive.ics.uci.edu/ml/machine-learning-databases/wine-quality/winequality-white.csv', sep=';')\n",
    "\n",
    "print(red.head())\n",
    "print(white.head())"
   ]
  },
  {
   "cell_type": "markdown",
   "metadata": {},
   "source": [
    "#### 와인 데이터세트 합치기 "
   ]
  },
  {
   "cell_type": "code",
   "execution_count": 4,
   "metadata": {},
   "outputs": [
    {
     "name": "stdout",
     "output_type": "stream",
     "text": [
      "   fixed acidity  volatile acidity  citric acid  residual sugar  chlorides  \\\n",
      "0            7.4              0.70          0.0             1.9      0.076   \n",
      "1            7.8              0.88          0.0             2.6      0.098   \n",
      "\n",
      "   free sulfur dioxide  total sulfur dioxide  density    pH  sulphates  \\\n",
      "0                 11.0                  34.0   0.9978  3.51       0.56   \n",
      "1                 25.0                  67.0   0.9968  3.20       0.68   \n",
      "\n",
      "   alcohol  quality  type  \n",
      "0      9.4        5     0  \n",
      "1      9.8        5     0  \n",
      "   fixed acidity  volatile acidity  citric acid  residual sugar  chlorides  \\\n",
      "0            7.0              0.27         0.36            20.7      0.045   \n",
      "1            6.3              0.30         0.34             1.6      0.049   \n",
      "\n",
      "   free sulfur dioxide  total sulfur dioxide  density   pH  sulphates  \\\n",
      "0                 45.0                 170.0    1.001  3.0       0.45   \n",
      "1                 14.0                 132.0    0.994  3.3       0.49   \n",
      "\n",
      "   alcohol  quality  type  \n",
      "0      8.8        6     1  \n",
      "1      9.5        6     1  \n",
      "       fixed acidity  volatile acidity  citric acid  residual sugar  \\\n",
      "count    6497.000000       6497.000000  6497.000000     6497.000000   \n",
      "mean        7.215307          0.339666     0.318633        5.443235   \n",
      "std         1.296434          0.164636     0.145318        4.757804   \n",
      "min         3.800000          0.080000     0.000000        0.600000   \n",
      "25%         6.400000          0.230000     0.250000        1.800000   \n",
      "50%         7.000000          0.290000     0.310000        3.000000   \n",
      "75%         7.700000          0.400000     0.390000        8.100000   \n",
      "max        15.900000          1.580000     1.660000       65.800000   \n",
      "\n",
      "         chlorides  free sulfur dioxide  total sulfur dioxide      density  \\\n",
      "count  6497.000000          6497.000000           6497.000000  6497.000000   \n",
      "mean      0.056034            30.525319            115.744574     0.994697   \n",
      "std       0.035034            17.749400             56.521855     0.002999   \n",
      "min       0.009000             1.000000              6.000000     0.987110   \n",
      "25%       0.038000            17.000000             77.000000     0.992340   \n",
      "50%       0.047000            29.000000            118.000000     0.994890   \n",
      "75%       0.065000            41.000000            156.000000     0.996990   \n",
      "max       0.611000           289.000000            440.000000     1.038980   \n",
      "\n",
      "                pH    sulphates      alcohol      quality         type  \n",
      "count  6497.000000  6497.000000  6497.000000  6497.000000  6497.000000  \n",
      "mean      3.218501     0.531268    10.491801     5.818378     0.753886  \n",
      "std       0.160787     0.148806     1.192712     0.873255     0.430779  \n",
      "min       2.720000     0.220000     8.000000     3.000000     0.000000  \n",
      "25%       3.110000     0.430000     9.500000     5.000000     1.000000  \n",
      "50%       3.210000     0.510000    10.300000     6.000000     1.000000  \n",
      "75%       3.320000     0.600000    11.300000     6.000000     1.000000  \n",
      "max       4.010000     2.000000    14.900000     9.000000     1.000000  \n"
     ]
    }
   ],
   "source": [
    "red['type'] = 0  # 컬럼 추가 후 데이터 0으로 설정 \n",
    "white['type'] = 1\n",
    "print(red.head(2))\n",
    "print(white.head(2))\n",
    "\n",
    "# 두 데이터프레임을 합친 새로운 데이터프레임 생성 \n",
    "wine = pd.concat([red, white])\n",
    "\n",
    "# 통계 정보 확인 \n",
    "print(wine.describe())"
   ]
  },
  {
   "cell_type": "markdown",
   "metadata": {},
   "source": [
    "#### 레드 와인과 화이트 와인 type 히스토그램\n",
    "* plt.hist() 로 작성 \n",
    "* value_counts() : 속성에 존재하는 각 항목의 갯수 \n",
    "* 1:3 정도의 비율인데 가능하면 비슷한 비율로 맞춰주는 것이 좋고, 1:3 정도까지는 그냥 사용해도 상관 없다. "
   ]
  },
  {
   "cell_type": "code",
   "execution_count": 8,
   "metadata": {},
   "outputs": [
    {
     "data": {
      "image/png": "[encoded data removed]",
      "text/plain": [
       "<Figure size 432x288 with 1 Axes>"
      ]
     },
     "metadata": {
      "needs_background": "light"
     },
     "output_type": "display_data"
    },
    {
     "name": "stdout",
     "output_type": "stream",
     "text": [
      "1    4898\n",
      "0    1599\n",
      "Name: type, dtype: int64\n"
     ]
    }
   ],
   "source": [
    "import matplotlib.pyplot as plt\n",
    "\n",
    "plt.hist(wine['type'])\n",
    "plt.xticks([0, 1])\n",
    "plt.show()\n",
    "\n",
    "print(wine['type'].value_counts())  # 각 항목에 속하는 갯수 출력 "
   ]
  },
  {
   "cell_type": "markdown",
   "metadata": {},
   "source": [
    "#### 데이터 요약 정보 확인\n",
    "* pandas의 info() 이용 - 데이터프레임을 구성하는 속성들의 정보를 보여줌\n",
    "* 정규화 가정에서 숫자가 아닌 값이 들어가면 오류 발생 \n",
    "* 6497 non-null   float64 : 속성이 6497개의 행에 null 없이 float64 데이터 유형으로 존재한다는 의미"
   ]
  },
  {
   "cell_type": "code",
   "execution_count": 9,
   "metadata": {},
   "outputs": [
    {
     "name": "stdout",
     "output_type": "stream",
     "text": [
      "<class 'pandas.core.frame.DataFrame'>\n",
      "Int64Index: 6497 entries, 0 to 4897\n",
      "Data columns (total 13 columns):\n",
      " #   Column                Non-Null Count  Dtype  \n",
      "---  ------                --------------  -----  \n",
      " 0   fixed acidity         6497 non-null   float64\n",
      " 1   volatile acidity      6497 non-null   float64\n",
      " 2   citric acid           6497 non-null   float64\n",
      " 3   residual sugar        6497 non-null   float64\n",
      " 4   chlorides             6497 non-null   float64\n",
      " 5   free sulfur dioxide   6497 non-null   float64\n",
      " 6   total sulfur dioxide  6497 non-null   float64\n",
      " 7   density               6497 non-null   float64\n",
      " 8   pH                    6497 non-null   float64\n",
      " 9   sulphates             6497 non-null   float64\n",
      " 10  alcohol               6497 non-null   float64\n",
      " 11  quality               6497 non-null   int64  \n",
      " 12  type                  6497 non-null   int64  \n",
      "dtypes: float64(11), int64(2)\n",
      "memory usage: 710.6 KB\n"
     ]
    }
   ],
   "source": [
    "wine.info()"
   ]
  },
  {
   "cell_type": "markdown",
   "metadata": {},
   "source": [
    "#### 데이터 정규화"
   ]
  },
  {
   "cell_type": "code",
   "execution_count": 16,
   "metadata": {},
   "outputs": [
    {
     "name": "stdout",
     "output_type": "stream",
     "text": [
      "   fixed acidity  volatile acidity  citric acid  residual sugar  chlorides  \\\n",
      "0       0.297521          0.413333     0.000000        0.019939   0.111296   \n",
      "1       0.330579          0.533333     0.000000        0.030675   0.147841   \n",
      "2       0.330579          0.453333     0.024096        0.026074   0.137874   \n",
      "3       0.611570          0.133333     0.337349        0.019939   0.109635   \n",
      "4       0.297521          0.413333     0.000000        0.019939   0.111296   \n",
      "\n",
      "   free sulfur dioxide  total sulfur dioxide   density        pH  sulphates  \\\n",
      "0             0.034722              0.064516  0.206092  0.612403   0.191011   \n",
      "1             0.083333              0.140553  0.186813  0.372093   0.258427   \n",
      "2             0.048611              0.110599  0.190669  0.418605   0.241573   \n",
      "3             0.055556              0.124424  0.209948  0.341085   0.202247   \n",
      "4             0.034722              0.064516  0.206092  0.612403   0.191011   \n",
      "\n",
      "    alcohol   quality  type  \n",
      "0  0.202899  0.333333   0.0  \n",
      "1  0.260870  0.333333   0.0  \n",
      "2  0.260870  0.333333   0.0  \n",
      "3  0.260870  0.500000   0.0  \n",
      "4  0.202899  0.333333   0.0  \n",
      "       fixed acidity  volatile acidity  citric acid  residual sugar  \\\n",
      "count    6497.000000       6497.000000  6497.000000     6497.000000   \n",
      "mean        0.282257          0.173111     0.191948        0.074283   \n",
      "std         0.107143          0.109758     0.087541        0.072972   \n",
      "min         0.000000          0.000000     0.000000        0.000000   \n",
      "25%         0.214876          0.100000     0.150602        0.018405   \n",
      "50%         0.264463          0.140000     0.186747        0.036810   \n",
      "75%         0.322314          0.213333     0.234940        0.115031   \n",
      "max         1.000000          1.000000     1.000000        1.000000   \n",
      "\n",
      "         chlorides  free sulfur dioxide  total sulfur dioxide      density  \\\n",
      "count  6497.000000          6497.000000           6497.000000  6497.000000   \n",
      "mean      0.078129             0.102518              0.252868     0.146262   \n",
      "std       0.058195             0.061630              0.130235     0.057811   \n",
      "min       0.000000             0.000000              0.000000     0.000000   \n",
      "25%       0.048173             0.055556              0.163594     0.100829   \n",
      "50%       0.063123             0.097222              0.258065     0.149990   \n",
      "75%       0.093023             0.138889              0.345622     0.190476   \n",
      "max       1.000000             1.000000              1.000000     1.000000   \n",
      "\n",
      "                pH    sulphates      alcohol      quality         type  \n",
      "count  6497.000000  6497.000000  6497.000000  6497.000000  6497.000000  \n",
      "mean      0.386435     0.174870     0.361131     0.469730     0.753886  \n",
      "std       0.124641     0.083599     0.172857     0.145543     0.430779  \n",
      "min       0.000000     0.000000     0.000000     0.000000     0.000000  \n",
      "25%       0.302326     0.117978     0.217391     0.333333     1.000000  \n",
      "50%       0.379845     0.162921     0.333333     0.500000     1.000000  \n",
      "75%       0.465116     0.213483     0.478261     0.500000     1.000000  \n",
      "max       1.000000     1.000000     1.000000     1.000000     1.000000  \n"
     ]
    }
   ],
   "source": [
    "wine_norm = (wine - wine.min()) / (wine.max() - wine.min()) # 정규화 \n",
    "print(wine_norm.head())\n",
    "print(wine_norm.describe())"
   ]
  },
  {
   "cell_type": "markdown",
   "metadata": {},
   "source": [
    "#### 데이터 섞은 후 numpy array로 변환\n",
    "* sample() 함수 : 전체 데이터프레임에서 frac 인수로 지정된 비율만큼 행을 랜덤하게 뽑아서 새로운 데이터프레임 생성 "
   ]
  },
  {
   "cell_type": "code",
   "execution_count": 21,
   "metadata": {},
   "outputs": [
    {
     "name": "stdout",
     "output_type": "stream",
     "text": [
      "      fixed acidity  volatile acidity  citric acid  residual sugar  chlorides  \\\n",
      "1641       0.214876          0.093333     0.295181        0.105828   0.074751   \n",
      "556        0.380165          0.180000     0.427711        0.177914   0.061462   \n",
      "801        0.396694          0.313333     0.054217        0.041411   0.098007   \n",
      "3937       0.223140          0.186667     0.216867        0.093558   0.292359   \n",
      "4640       0.181818          0.106667     0.246988        0.010736   0.044850   \n",
      "\n",
      "      free sulfur dioxide  total sulfur dioxide   density        pH  \\\n",
      "1641             0.142361              0.334101  0.148255  0.426357   \n",
      "556              0.072917              0.354839  0.213804  0.201550   \n",
      "801              0.024306              0.025346  0.197417  0.395349   \n",
      "3937             0.175347              0.334101  0.157509  0.348837   \n",
      "4640             0.142361              0.258065  0.059186  0.248062   \n",
      "\n",
      "      sulphates   alcohol   quality  type  \n",
      "1641   0.168539  0.304348  0.500000   1.0  \n",
      "556    0.241573  0.202899  0.333333   1.0  \n",
      "801    0.123596  0.289855  0.333333   0.0  \n",
      "3937   0.112360  0.188406  0.333333   1.0  \n",
      "4640   0.235955  0.543478  0.500000   1.0  \n"
     ]
    }
   ],
   "source": [
    "import numpy as np\n",
    "\n",
    "wine_suffle = wine_norm.sample(frac=1)\n",
    "print(wine_suffle.head())"
   ]
  },
  {
   "cell_type": "markdown",
   "metadata": {},
   "source": [
    "* 데이터프레임을 넘파이로 변경 "
   ]
  },
  {
   "cell_type": "code",
   "execution_count": 27,
   "metadata": {},
   "outputs": [
    {
     "name": "stdout",
     "output_type": "stream",
     "text": [
      "[[0.21487603 0.09333333 0.29518072 0.10582822 0.07475083 0.14236111\n",
      "  0.33410138 0.14825525 0.42635659 0.16853933 0.30434783 0.5\n",
      "  1.        ]\n",
      " [0.38016529 0.18       0.42771084 0.17791411 0.06146179 0.07291667\n",
      "  0.35483871 0.21380374 0.20155039 0.24157303 0.20289855 0.33333333\n",
      "  1.        ]\n",
      " [0.39669421 0.31333333 0.05421687 0.04141104 0.09800664 0.02430556\n",
      "  0.02534562 0.19741662 0.39534884 0.12359551 0.28985507 0.33333333\n",
      "  0.        ]\n",
      " [0.2231405  0.18666667 0.21686747 0.09355828 0.2923588  0.17534722\n",
      "  0.33410138 0.15750916 0.34883721 0.11235955 0.1884058  0.33333333\n",
      "  1.        ]\n",
      " [0.18181818 0.10666667 0.24698795 0.0107362  0.0448505  0.14236111\n",
      "  0.25806452 0.05918643 0.24806202 0.23595506 0.54347826 0.5\n",
      "  1.        ]]\n"
     ]
    }
   ],
   "source": [
    "wine_np = wine_suffle.to_numpy()\n",
    "print(wine_np[:5])"
   ]
  },
  {
   "cell_type": "markdown",
   "metadata": {},
   "source": [
    "#### train 데이터와 test 데이터로 분리\n",
    "* 전체의 80% : 20% 로 분리 "
   ]
  },
  {
   "cell_type": "code",
   "execution_count": 35,
   "metadata": {},
   "outputs": [
    {
     "data": {
      "text/plain": [
       "5197"
      ]
     },
     "execution_count": 35,
     "metadata": {},
     "output_type": "execute_result"
    }
   ],
   "source": [
    "import tensorflow as tf\n",
    "\n",
    "train_idx = int(len(wine_np) * 0.8)\n",
    "train_idx"
   ]
  },
  {
   "cell_type": "markdown",
   "metadata": {},
   "source": [
    "* 훈련 데이터와 학습 데이터로 분리 \n",
    "* to_categorical() : 결과 데이터는 원-핫-인코딩으로 표현"
   ]
  },
  {
   "cell_type": "code",
   "execution_count": 40,
   "metadata": {},
   "outputs": [
    {
     "name": "stdout",
     "output_type": "stream",
     "text": [
      "[0.38016529 0.18       0.42771084 0.17791411 0.06146179 0.07291667\n",
      " 0.35483871 0.21380374 0.20155039 0.24157303 0.20289855 0.33333333] \n",
      "\n",
      "1.0 \n",
      "\n",
      "[0.23966942 0.25333333 0.14457831 0.01687117 0.11295681 0.05902778\n",
      " 0.06451613 0.14825525 0.51937984 0.21348315 0.37681159 0.5       ] \n",
      "\n",
      "0.0 \n",
      "\n",
      "[0. 1.]\n",
      "[1. 0.]\n"
     ]
    }
   ],
   "source": [
    "train_X, train_Y = wine_np[:train_idx, :-1], wine_np[:train_idx, -1]\n",
    "test_X, test_Y = wine_np[train_idx:, :-1], wine_np[train_idx:, -1]\n",
    "print(train_X[1], '\\n')\n",
    "print(train_Y[1], '\\n')\n",
    "print(test_X[1], '\\n')\n",
    "print(test_Y[1], '\\n')\n",
    "\n",
    "train_Y = tf.keras.utils.to_categorical(train_Y, num_classes=2)\n",
    "test_Y = tf.keras.utils.to_categorical(test_Y, num_classes=2)\n",
    "print(train_Y[1])\n",
    "print(test_Y[1])"
   ]
  },
  {
   "cell_type": "markdown",
   "metadata": {},
   "source": [
    "#### 와인 데이터셋 분류 모델 생성\n",
    "* 12개의 항목에 대해 처리하는 모델 \n",
    "* 마지막 units=2 는 출력 결과가 2종류 0 / 1\n",
    "* softmax : 활성화 함수로 확률로 선택 \n",
    "* softmax는 분류 문제나 언어 RNN에서 다음 토큰을 예측, 강화학습에서 에이전트의 행동 확률을 구하는 등 결과값으로 확률이 필요한 다양한 분야에 사용됨"
   ]
  },
  {
   "cell_type": "code",
   "execution_count": 42,
   "metadata": {},
   "outputs": [
    {
     "name": "stdout",
     "output_type": "stream",
     "text": [
      "Model: \"sequential\"\n",
      "_________________________________________________________________\n",
      "Layer (type)                 Output Shape              Param #   \n",
      "=================================================================\n",
      "dense (Dense)                (None, 48)                624       \n",
      "_________________________________________________________________\n",
      "dense_1 (Dense)              (None, 24)                1176      \n",
      "_________________________________________________________________\n",
      "dense_2 (Dense)              (None, 12)                300       \n",
      "_________________________________________________________________\n",
      "dense_3 (Dense)              (None, 2)                 26        \n",
      "=================================================================\n",
      "Total params: 2,126\n",
      "Trainable params: 2,126\n",
      "Non-trainable params: 0\n",
      "_________________________________________________________________\n"
     ]
    }
   ],
   "source": [
    "model = tf.keras.Sequential([\n",
    "    tf.keras.layers.Dense(units=48, activation='relu', input_shape=(12, )),\n",
    "     tf.keras.layers.Dense(units=24, activation='relu'),\n",
    "    tf.keras.layers.Dense(units=12, activation='relu'),\n",
    "    tf.keras.layers.Dense(units=2, activation='softmax')\n",
    "])\n",
    "\n",
    "model.summary()"
   ]
  },
  {
   "cell_type": "markdown",
   "metadata": {},
   "source": [
    "#### 모델 컴파일 \n",
    "* 손실함수로 categorial_crossentropy를 사용 \n",
    "* Categorical Cross Entropy(CCE) : 모든 범주에 대해 평균을 계산함\n",
    "* 정확도(accuracy) : 분류 문제는 정확도로 퍼포먼스를 측정하기 때문에 정확도를 설정하는 것이 필수 \n",
    "* 학습시에 loss와 accuracy가 함께 저장됨 "
   ]
  },
  {
   "cell_type": "code",
   "execution_count": 44,
   "metadata": {},
   "outputs": [],
   "source": [
    "model.compile(optimizer=tf.keras.optimizers.Adam(lr=0.07), loss='categorical_crossentropy', metrics=['accuracy'])"
   ]
  },
  {
   "cell_type": "markdown",
   "metadata": {},
   "source": [
    "#### 분류 모델 학습 \n",
    "* validation_split : 훈련 데이터의 25% 정도를 검증 데이터로 사용\n",
    "* 분류 모델에서는 loss: 0.0415 - accuracy: 0.9895 - val_loss: 0.0613 - val_accuracy: 0.9746 와 같이 학습 데이터의 accuracy와 검증 데이터의 val_accuracy가 같이 표시된다."
   ]
  },
  {
   "cell_type": "code",
   "execution_count": 48,
   "metadata": {
    "scrolled": true
   },
   "outputs": [
    {
     "name": "stdout",
     "output_type": "stream",
     "text": [
      "Train on 3897 samples, validate on 1300 samples\n",
      "Epoch 1/25\n",
      "3897/3897 [==============================] - 1s 189us/sample - loss: 0.1419 - accuracy: 0.9474 - val_loss: 0.0809 - val_accuracy: 0.9815\n",
      "Epoch 2/25\n",
      "3897/3897 [==============================] - 0s 63us/sample - loss: 0.0615 - accuracy: 0.9831 - val_loss: 0.0706 - val_accuracy: 0.9800\n",
      "Epoch 3/25\n",
      "3897/3897 [==============================] - 0s 64us/sample - loss: 0.0804 - accuracy: 0.9782 - val_loss: 0.0322 - val_accuracy: 0.9885\n",
      "Epoch 4/25\n",
      "3897/3897 [==============================] - 0s 63us/sample - loss: 0.0595 - accuracy: 0.9861 - val_loss: 0.0313 - val_accuracy: 0.9892\n",
      "Epoch 5/25\n",
      "3897/3897 [==============================] - 0s 62us/sample - loss: 0.0517 - accuracy: 0.9887 - val_loss: 0.0457 - val_accuracy: 0.9862\n",
      "Epoch 6/25\n",
      "3897/3897 [==============================] - 0s 65us/sample - loss: 0.0482 - accuracy: 0.9882 - val_loss: 0.0441 - val_accuracy: 0.9885\n",
      "Epoch 7/25\n",
      "3897/3897 [==============================] - 0s 64us/sample - loss: 0.0410 - accuracy: 0.9895 - val_loss: 0.0314 - val_accuracy: 0.9892\n",
      "Epoch 8/25\n",
      "3897/3897 [==============================] - 0s 64us/sample - loss: 0.0508 - accuracy: 0.9856 - val_loss: 0.0359 - val_accuracy: 0.9900\n",
      "Epoch 9/25\n",
      "3897/3897 [==============================] - 0s 64us/sample - loss: 0.0409 - accuracy: 0.9900 - val_loss: 0.0257 - val_accuracy: 0.9892\n",
      "Epoch 10/25\n",
      "3897/3897 [==============================] - 0s 63us/sample - loss: 0.0370 - accuracy: 0.9905 - val_loss: 0.0256 - val_accuracy: 0.9923\n",
      "Epoch 11/25\n",
      "3897/3897 [==============================] - 0s 63us/sample - loss: 0.0452 - accuracy: 0.9895 - val_loss: 0.0622 - val_accuracy: 0.9885\n",
      "Epoch 12/25\n",
      "3897/3897 [==============================] - 0s 62us/sample - loss: 0.0383 - accuracy: 0.9897 - val_loss: 0.0318 - val_accuracy: 0.9923\n",
      "Epoch 13/25\n",
      "3897/3897 [==============================] - 0s 63us/sample - loss: 0.0439 - accuracy: 0.9895 - val_loss: 0.0344 - val_accuracy: 0.9915\n",
      "Epoch 14/25\n",
      "3897/3897 [==============================] - 0s 61us/sample - loss: 0.0408 - accuracy: 0.9900 - val_loss: 0.1698 - val_accuracy: 0.9454\n",
      "Epoch 15/25\n",
      "3897/3897 [==============================] - 0s 63us/sample - loss: 0.0946 - accuracy: 0.9782 - val_loss: 0.0307 - val_accuracy: 0.9892\n",
      "Epoch 16/25\n",
      "3897/3897 [==============================] - 0s 63us/sample - loss: 0.0520 - accuracy: 0.9869 - val_loss: 0.0259 - val_accuracy: 0.9915\n",
      "Epoch 17/25\n",
      "3897/3897 [==============================] - 0s 64us/sample - loss: 0.0350 - accuracy: 0.9897 - val_loss: 0.0264 - val_accuracy: 0.9938\n",
      "Epoch 18/25\n",
      "3897/3897 [==============================] - 0s 63us/sample - loss: 0.0291 - accuracy: 0.9923 - val_loss: 0.0262 - val_accuracy: 0.9923\n",
      "Epoch 19/25\n",
      "3897/3897 [==============================] - 0s 62us/sample - loss: 0.0296 - accuracy: 0.9931 - val_loss: 0.0717 - val_accuracy: 0.9785\n",
      "Epoch 20/25\n",
      "3897/3897 [==============================] - 0s 65us/sample - loss: 0.0476 - accuracy: 0.9890 - val_loss: 0.0248 - val_accuracy: 0.9931\n",
      "Epoch 21/25\n",
      "3897/3897 [==============================] - 0s 65us/sample - loss: 0.0280 - accuracy: 0.9931 - val_loss: 0.0357 - val_accuracy: 0.9923\n",
      "Epoch 22/25\n",
      "3897/3897 [==============================] - 0s 64us/sample - loss: 0.0324 - accuracy: 0.9928 - val_loss: 0.0249 - val_accuracy: 0.9931\n",
      "Epoch 23/25\n",
      "3897/3897 [==============================] - 0s 63us/sample - loss: 0.0429 - accuracy: 0.9877 - val_loss: 0.0312 - val_accuracy: 0.9877\n",
      "Epoch 24/25\n",
      "3897/3897 [==============================] - 0s 64us/sample - loss: 0.0415 - accuracy: 0.9864 - val_loss: 0.0250 - val_accuracy: 0.9946\n",
      "Epoch 25/25\n",
      "3897/3897 [==============================] - 0s 64us/sample - loss: 0.0415 - accuracy: 0.9895 - val_loss: 0.0613 - val_accuracy: 0.9746\n"
     ]
    }
   ],
   "source": [
    "history = model.fit(train_X, train_Y, epochs=25, batch_size=32, validation_split=0.25)"
   ]
  },
  {
   "cell_type": "markdown",
   "metadata": {},
   "source": [
    "#### 분류 모델 학습 결과 시각화"
   ]
  },
  {
   "cell_type": "code",
   "execution_count": 53,
   "metadata": {},
   "outputs": [
    {
     "data": {
      "image/png": "[encoded data removed]",
      "text/plain": [
       "<Figure size 864x288 with 2 Axes>"
      ]
     },
     "metadata": {
      "needs_background": "light"
     },
     "output_type": "display_data"
    }
   ],
   "source": [
    "import matplotlib.pyplot as plt\n",
    "plt.figure(figsize=(12, 4))\n",
    "plt.subplot(1, 2, 1)\n",
    "plt.plot(history.history['loss'], 'b-', label='loss')\n",
    "plt.plot(history.history['val_loss'], 'r--', label='val_loss')\n",
    "plt.xlabel('Epoch')\n",
    "plt.legend()\n",
    "\n",
    "plt.subplot(1, 2, 2)\n",
    "plt.plot(history.history['accuracy'], 'g-', label='accuracy')\n",
    "plt.plot(history.history['val_accuracy'], 'k--', label='val_accuracy')\n",
    "plt.xlabel('Epoch')\n",
    "plt.ylim(0.7, 1)\n",
    "plt.legend()\n",
    "\n",
    "plt.show()"
   ]
  },
  {
   "cell_type": "markdown",
   "metadata": {},
   "source": [
    "#### 분류 모델 평가"
   ]
  },
  {
   "cell_type": "code",
   "execution_count": 54,
   "metadata": {},
   "outputs": [
    {
     "name": "stdout",
     "output_type": "stream",
     "text": [
      "1300/1300 [==============================] - 0s 55us/sample - loss: 0.0742 - accuracy: 0.9754\n"
     ]
    },
    {
     "data": {
      "text/plain": [
       "[0.07419595336684814, 0.9753846]"
      ]
     },
     "execution_count": 54,
     "metadata": {},
     "output_type": "execute_result"
    }
   ],
   "source": [
    "model.evaluate(test_X, test_Y)"
   ]
  },
  {
   "cell_type": "code",
   "execution_count": null,
   "metadata": {},
   "outputs": [],
   "source": []
  }
 ],
 "metadata": {
  "kernelspec": {
   "display_name": "Python 3",
   "language": "python",
   "name": "python3"
  },
  "language_info": {
   "codemirror_mode": {
    "name": "ipython",
    "version": 3
   },
   "file_extension": ".py",
   "mimetype": "text/x-python",
   "name": "python",
   "nbconvert_exporter": "python",
   "pygments_lexer": "ipython3",
   "version": "3.7.6"
  }
 },
 "nbformat": 4,
 "nbformat_minor": 4
}
