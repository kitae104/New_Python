{
 "cells": [
  {
   "cell_type": "markdown",
   "metadata": {},
   "source": [
    "# 와인 데이터에 대한 다항 분류"
   ]
  },
  {
   "cell_type": "markdown",
   "metadata": {},
   "source": [
    "#### 와인 데이터 불러오기 \n",
    "* 12개의 속성으로 구성 \n",
    "* 이중 와인의 품질은 0~10까지 숫자로 구분되기 때문에 다항 분류로 처리 가능"
   ]
  },
  {
   "cell_type": "code",
   "execution_count": 1,
   "metadata": {},
   "outputs": [],
   "source": [
    "import tensorflow as tf\n",
    "import numpy as np\n",
    "import pandas as pd\n",
    "import matplotlib.pyplot as plt"
   ]
  },
  {
   "cell_type": "code",
   "execution_count": 2,
   "metadata": {},
   "outputs": [
    {
     "name": "stdout",
     "output_type": "stream",
     "text": [
      "   fixed acidity  volatile acidity  citric acid  residual sugar  chlorides  \\\n",
      "0            7.4              0.70         0.00             1.9      0.076   \n",
      "1            7.8              0.88         0.00             2.6      0.098   \n",
      "2            7.8              0.76         0.04             2.3      0.092   \n",
      "3           11.2              0.28         0.56             1.9      0.075   \n",
      "4            7.4              0.70         0.00             1.9      0.076   \n",
      "\n",
      "   free sulfur dioxide  total sulfur dioxide  density    pH  sulphates  \\\n",
      "0                 11.0                  34.0   0.9978  3.51       0.56   \n",
      "1                 25.0                  67.0   0.9968  3.20       0.68   \n",
      "2                 15.0                  54.0   0.9970  3.26       0.65   \n",
      "3                 17.0                  60.0   0.9980  3.16       0.58   \n",
      "4                 11.0                  34.0   0.9978  3.51       0.56   \n",
      "\n",
      "   alcohol  quality  \n",
      "0      9.4        5  \n",
      "1      9.8        5  \n",
      "2      9.8        5  \n",
      "3      9.8        6  \n",
      "4      9.4        5  \n",
      "   fixed acidity  volatile acidity  citric acid  residual sugar  chlorides  \\\n",
      "0            7.0              0.27         0.36            20.7      0.045   \n",
      "1            6.3              0.30         0.34             1.6      0.049   \n",
      "2            8.1              0.28         0.40             6.9      0.050   \n",
      "3            7.2              0.23         0.32             8.5      0.058   \n",
      "4            7.2              0.23         0.32             8.5      0.058   \n",
      "\n",
      "   free sulfur dioxide  total sulfur dioxide  density    pH  sulphates  \\\n",
      "0                 45.0                 170.0   1.0010  3.00       0.45   \n",
      "1                 14.0                 132.0   0.9940  3.30       0.49   \n",
      "2                 30.0                  97.0   0.9951  3.26       0.44   \n",
      "3                 47.0                 186.0   0.9956  3.19       0.40   \n",
      "4                 47.0                 186.0   0.9956  3.19       0.40   \n",
      "\n",
      "   alcohol  quality  \n",
      "0      8.8        6  \n",
      "1      9.5        6  \n",
      "2     10.1        6  \n",
      "3      9.9        6  \n",
      "4      9.9        6  \n"
     ]
    }
   ],
   "source": [
    "# 인터넷에서 데이터 불러오기 \n",
    "red = pd.read_csv('http://archive.ics.uci.edu/ml/machine-learning-databases/wine-quality/winequality-red.csv', sep=';')\n",
    "white = pd.read_csv('http://archive.ics.uci.edu/ml/machine-learning-databases/wine-quality/winequality-white.csv', sep=';')\n",
    "\n",
    "print(red.head())\n",
    "print(white.head())"
   ]
  },
  {
   "cell_type": "markdown",
   "metadata": {},
   "source": [
    "#### 와인 데이터세트 합치기 "
   ]
  },
  {
   "cell_type": "code",
   "execution_count": 3,
   "metadata": {},
   "outputs": [
    {
     "name": "stdout",
     "output_type": "stream",
     "text": [
      "   fixed acidity  volatile acidity  citric acid  residual sugar  chlorides  \\\n",
      "0            7.4              0.70         0.00             1.9      0.076   \n",
      "1            7.8              0.88         0.00             2.6      0.098   \n",
      "2            7.8              0.76         0.04             2.3      0.092   \n",
      "3           11.2              0.28         0.56             1.9      0.075   \n",
      "4            7.4              0.70         0.00             1.9      0.076   \n",
      "\n",
      "   free sulfur dioxide  total sulfur dioxide  density    pH  sulphates  \\\n",
      "0                 11.0                  34.0   0.9978  3.51       0.56   \n",
      "1                 25.0                  67.0   0.9968  3.20       0.68   \n",
      "2                 15.0                  54.0   0.9970  3.26       0.65   \n",
      "3                 17.0                  60.0   0.9980  3.16       0.58   \n",
      "4                 11.0                  34.0   0.9978  3.51       0.56   \n",
      "\n",
      "   alcohol  quality  \n",
      "0      9.4        5  \n",
      "1      9.8        5  \n",
      "2      9.8        5  \n",
      "3      9.8        6  \n",
      "4      9.4        5  \n",
      "       fixed acidity  volatile acidity  citric acid  residual sugar  \\\n",
      "count    6497.000000       6497.000000  6497.000000     6497.000000   \n",
      "mean        7.215307          0.339666     0.318633        5.443235   \n",
      "std         1.296434          0.164636     0.145318        4.757804   \n",
      "min         3.800000          0.080000     0.000000        0.600000   \n",
      "25%         6.400000          0.230000     0.250000        1.800000   \n",
      "50%         7.000000          0.290000     0.310000        3.000000   \n",
      "75%         7.700000          0.400000     0.390000        8.100000   \n",
      "max        15.900000          1.580000     1.660000       65.800000   \n",
      "\n",
      "         chlorides  free sulfur dioxide  total sulfur dioxide      density  \\\n",
      "count  6497.000000          6497.000000           6497.000000  6497.000000   \n",
      "mean      0.056034            30.525319            115.744574     0.994697   \n",
      "std       0.035034            17.749400             56.521855     0.002999   \n",
      "min       0.009000             1.000000              6.000000     0.987110   \n",
      "25%       0.038000            17.000000             77.000000     0.992340   \n",
      "50%       0.047000            29.000000            118.000000     0.994890   \n",
      "75%       0.065000            41.000000            156.000000     0.996990   \n",
      "max       0.611000           289.000000            440.000000     1.038980   \n",
      "\n",
      "                pH    sulphates      alcohol      quality  \n",
      "count  6497.000000  6497.000000  6497.000000  6497.000000  \n",
      "mean      3.218501     0.531268    10.491801     5.818378  \n",
      "std       0.160787     0.148806     1.192712     0.873255  \n",
      "min       2.720000     0.220000     8.000000     3.000000  \n",
      "25%       3.110000     0.430000     9.500000     5.000000  \n",
      "50%       3.210000     0.510000    10.300000     6.000000  \n",
      "75%       3.320000     0.600000    11.300000     6.000000  \n",
      "max       4.010000     2.000000    14.900000     9.000000  \n"
     ]
    }
   ],
   "source": [
    "# 두 데이터프레임을 합친 새로운 데이터프레임 생성 \n",
    "wine = pd.concat([red, white])\n",
    "\n",
    "print(wine.head())\n",
    "\n",
    "# 통계 정보 확인 \n",
    "print(wine.describe())"
   ]
  },
  {
   "cell_type": "markdown",
   "metadata": {},
   "source": [
    "#### 품질 데이터 확인 \n",
    "* describe() : 통계 정보 \n",
    "* value_counts() : 항목 갯수 "
   ]
  },
  {
   "cell_type": "code",
   "execution_count": 4,
   "metadata": {},
   "outputs": [
    {
     "name": "stdout",
     "output_type": "stream",
     "text": [
      "count    6497.000000\n",
      "mean        5.818378\n",
      "std         0.873255\n",
      "min         3.000000\n",
      "25%         5.000000\n",
      "50%         6.000000\n",
      "75%         6.000000\n",
      "max         9.000000\n",
      "Name: quality, dtype: float64 \n",
      "\n",
      "6    2836\n",
      "5    2138\n",
      "7    1079\n",
      "4     216\n",
      "8     193\n",
      "3      30\n",
      "9       5\n",
      "Name: quality, dtype: int64\n"
     ]
    }
   ],
   "source": [
    "print(wine['quality'].describe(), '\\n')     \n",
    "print(wine['quality'].value_counts())       "
   ]
  },
  {
   "cell_type": "markdown",
   "metadata": {},
   "source": [
    "####  와인의 품질에 대한 히스토그램\n",
    "* plt.hist() 로 작성 \n",
    "* bins=7 : 몇 개의 바구니로 구분할 것인가. \n",
    "* rwidth=0.8 : 1.0일 경우, 꽉 채움 작아질수록 간격이 생김"
   ]
  },
  {
   "cell_type": "code",
   "execution_count": 5,
   "metadata": {},
   "outputs": [
    {
     "data": {
      "image/png": "[encoded data removed]",
      "text/plain": [
       "<Figure size 432x288 with 1 Axes>"
      ]
     },
     "metadata": {
      "needs_background": "light"
     },
     "output_type": "display_data"
    }
   ],
   "source": [
    "plt.hist(wine['quality'], bins=7, rwidth=0.8)\n",
    "plt.show()"
   ]
  },
  {
   "cell_type": "markdown",
   "metadata": {},
   "source": [
    "#### 품질을 3개의 범주로 재분류\n",
    "* 나쁨 : 3~5\n",
    "* 보통 : 6\n",
    "* 좋음 : 7~9"
   ]
  },
  {
   "cell_type": "code",
   "execution_count": 6,
   "metadata": {},
   "outputs": [],
   "source": [
    "wine.loc[wine['quality'] <= 5, 'new_quality'] = 0\n",
    "wine.loc[wine['quality'] == 6, 'new_quality'] = 1\n",
    "wine.loc[wine['quality'] >= 7, 'new_quality'] = 2"
   ]
  },
  {
   "cell_type": "markdown",
   "metadata": {},
   "source": [
    "#### 변경된 품질 데이터 확인(new_quality)\n",
    "* describe() : 통계 정보\n",
    "* value_counts() : 항목 갯수\n",
    "* 각 항목의 수가 너무 작거나 너무 많으면 분류가 잘 안되기 때문에 어느정도 비슷하게 데이터 양을 맞춰줘야 한다. "
   ]
  },
  {
   "cell_type": "code",
   "execution_count": 7,
   "metadata": {},
   "outputs": [
    {
     "name": "stdout",
     "output_type": "stream",
     "text": [
      "count    6497.000000\n",
      "mean        0.829614\n",
      "std         0.731124\n",
      "min         0.000000\n",
      "25%         0.000000\n",
      "50%         1.000000\n",
      "75%         1.000000\n",
      "max         2.000000\n",
      "Name: new_quality, dtype: float64 \n",
      "\n",
      "1.0    2836\n",
      "0.0    2384\n",
      "2.0    1277\n",
      "Name: new_quality, dtype: int64\n"
     ]
    }
   ],
   "source": [
    "print(wine['new_quality'].describe(), '\\n')      \n",
    "print(wine['new_quality'].value_counts())        "
   ]
  },
  {
   "cell_type": "markdown",
   "metadata": {},
   "source": [
    "#### 데이터 정규화하고 numpy로 변경하기 \n",
    "* 정규화 : (데이터 - 데이터.min()) / (데이터.max() - 데이터.min())\n",
    "* sample() 함수 : 전체 데이터프레임에서 frac 인수로 지정된 비율만큼 행을 랜덤하게 뽑아서 새로운 데이터프레임 생성\n",
    "* to_numpy() : 데이터프레임을 넘파이로 변경"
   ]
  },
  {
   "cell_type": "code",
   "execution_count": 8,
   "metadata": {},
   "outputs": [
    {
     "name": "stdout",
     "output_type": "stream",
     "text": [
      "      fixed acidity  volatile acidity  citric acid  residual sugar  chlorides  \\\n",
      "1591       0.214876          0.026667     0.295181        0.088957   0.054817   \n",
      "2123       0.247934          0.113333     0.162651        0.154908   0.111296   \n",
      "721        0.421488          0.266667     0.144578        0.034509   0.141196   \n",
      "2496       0.396694          0.100000     0.150602        0.164110   0.036545   \n",
      "2512       0.148760          0.063333     0.174699        0.003067   0.056478   \n",
      "\n",
      "      free sulfur dioxide  total sulfur dioxide   density        pH  \\\n",
      "1591             0.166667              0.357143  0.142472  0.480620   \n",
      "2123             0.159722              0.341014  0.184885  0.255814   \n",
      "721              0.118056              0.230415  0.213804  0.294574   \n",
      "2496             0.041667              0.207373  0.180066  0.302326   \n",
      "2512             0.065972              0.140553  0.077309  0.434109   \n",
      "\n",
      "      sulphates   alcohol  new_quality  \n",
      "1591   0.123596  0.347826          0.5  \n",
      "2123   0.089888  0.144928          0.0  \n",
      "721    0.174157  0.173913          0.0  \n",
      "2496   0.101124  0.405797          0.0  \n",
      "2512   0.146067  0.275362          0.5  \n",
      "[[0.21487603 0.02666667 0.29518072 0.08895706 0.05481728 0.16666667\n",
      "  0.35714286 0.14247156 0.48062016 0.12359551 0.34782609 0.5       ]\n",
      " [0.24793388 0.11333333 0.1626506  0.15490798 0.11129568 0.15972222\n",
      "  0.34101382 0.18488529 0.25581395 0.08988764 0.14492754 0.        ]\n",
      " [0.4214876  0.26666667 0.14457831 0.0345092  0.14119601 0.11805556\n",
      "  0.23041475 0.21380374 0.29457364 0.1741573  0.17391304 0.        ]\n",
      " [0.39669421 0.1        0.15060241 0.16411043 0.03654485 0.04166667\n",
      "  0.20737327 0.18006555 0.30232558 0.1011236  0.4057971  0.        ]\n",
      " [0.14876033 0.06333333 0.1746988  0.00306748 0.05647841 0.06597222\n",
      "  0.140553   0.07730866 0.43410853 0.14606742 0.27536232 0.5       ]]\n"
     ]
    }
   ],
   "source": [
    "if 'quality' in wine :        # 해당 컬럼이 데이터프레임에 존재하는 확인\n",
    "    del wine['quality']\n",
    "wine_norm = (wine - wine.min()) / (wine.max() - wine.min())\n",
    "wine_shuffle = wine_norm.sample(frac=1)\n",
    "print(wine_shuffle.head())     # 셔플 확인 \n",
    "wine_np = wine_shuffle.to_numpy()\n",
    "print(wine_np[:5])"
   ]
  },
  {
   "cell_type": "markdown",
   "metadata": {},
   "source": [
    "#### train 데이터와 test 데이터로 분리\n",
    "* 전체의 80% : 20% 로 분리 "
   ]
  },
  {
   "cell_type": "code",
   "execution_count": 9,
   "metadata": {},
   "outputs": [
    {
     "data": {
      "text/plain": [
       "5197"
      ]
     },
     "execution_count": 9,
     "metadata": {},
     "output_type": "execute_result"
    }
   ],
   "source": [
    "train_idx = int(len(wine_np) * 0.8)\n",
    "train_idx"
   ]
  },
  {
   "cell_type": "markdown",
   "metadata": {},
   "source": [
    "* 훈련 데이터와 학습 데이터로 분리 \n",
    "* to_categorical() : 결과 데이터는 원-핫-인코딩으로 표현\n",
    "* num_classes : 분류할 클래스 갯수 --> 해당 갯수만큼 원-핫으로 인코딩이 이루어진다. ex> 2= [0 1], 3= [0 0 1] "
   ]
  },
  {
   "cell_type": "code",
   "execution_count": 10,
   "metadata": {},
   "outputs": [
    {
     "name": "stdout",
     "output_type": "stream",
     "text": [
      "12\n",
      "[0.24793388 0.11333333 0.1626506  0.15490798 0.11129568 0.15972222\n",
      " 0.34101382 0.18488529 0.25581395 0.08988764 0.14492754] \n",
      "\n",
      "11 \n",
      "\n",
      "[0.32231405 0.23333333 0.1686747  0.05981595 0.06146179 0.11111111\n",
      " 0.22119816 0.09041835 0.34108527 0.19101124 0.60869565] \n",
      "\n",
      "1.0 \n",
      "\n",
      "[1. 0. 0.]\n",
      "[1. 0. 0.]\n"
     ]
    }
   ],
   "source": [
    "train_X, train_Y = wine_np[:train_idx, :-1], wine_np[:train_idx, -1]\n",
    "test_X, test_Y = wine_np[train_idx:, :-1], wine_np[train_idx:, -1]\n",
    "print(len(wine_np[0]))\n",
    "print(train_X[1], '\\n')\n",
    "print(len(train_X[1]), '\\n')\n",
    "print(test_X[1], '\\n')\n",
    "print(test_Y[1], '\\n')\n",
    "\n",
    "train_Y = tf.keras.utils.to_categorical(train_Y, num_classes=3)\n",
    "test_Y = tf.keras.utils.to_categorical(test_Y, num_classes=3)\n",
    "print(train_Y[1])\n",
    "print(test_Y[0])"
   ]
  },
  {
   "cell_type": "markdown",
   "metadata": {},
   "source": [
    "#### 와인 데이터셋 다항 분류 모델 생성\n",
    "* 12개의 항목에 대해 처리하는 모델 \n",
    "* 마지막 units=2 는 출력 결과가 2종류 0 / 1\n",
    "* softmax : 활성화 함수로 확률로 선택 \n",
    "* softmax는 분류 문제나 언어 RNN에서 다음 토큰을 예측, 강화학습에서 에이전트의 행동 확률을 구하는 등 결과값으로 확률이 필요한 다양한 분야에 사용됨"
   ]
  },
  {
   "cell_type": "code",
   "execution_count": 11,
   "metadata": {},
   "outputs": [
    {
     "name": "stdout",
     "output_type": "stream",
     "text": [
      "Model: \"sequential\"\n",
      "_________________________________________________________________\n",
      "Layer (type)                 Output Shape              Param #   \n",
      "=================================================================\n",
      "dense (Dense)                (None, 48)                576       \n",
      "_________________________________________________________________\n",
      "dense_1 (Dense)              (None, 24)                1176      \n",
      "_________________________________________________________________\n",
      "dense_2 (Dense)              (None, 12)                300       \n",
      "_________________________________________________________________\n",
      "dense_3 (Dense)              (None, 3)                 39        \n",
      "=================================================================\n",
      "Total params: 2,091\n",
      "Trainable params: 2,091\n",
      "Non-trainable params: 0\n",
      "_________________________________________________________________\n"
     ]
    }
   ],
   "source": [
    "tf.keras.backend.clear_session()\n",
    "\n",
    "model = tf.keras.Sequential([\n",
    "    tf.keras.layers.Dense(units=48, activation='relu', input_shape=(11, )),\n",
    "     tf.keras.layers.Dense(units=24, activation='relu'),\n",
    "    tf.keras.layers.Dense(units=12, activation='relu'),\n",
    "    tf.keras.layers.Dense(units=3, activation='softmax')\n",
    "])\n",
    "\n",
    "model.summary()"
   ]
  },
  {
   "cell_type": "markdown",
   "metadata": {},
   "source": [
    "#### 모델 컴파일 \n",
    "* 손실함수로 categorial_crossentropy를 사용 \n",
    "* Categorical Cross Entropy(CCE) : 모든 범주에 대해 평균을 계산함\n",
    "* 정확도(accuracy) : 분류 문제는 정확도로 퍼포먼스를 측정하기 때문에 정확도를 설정하는 것이 필수 \n",
    "* 학습시에 loss와 accuracy가 함께 저장됨 "
   ]
  },
  {
   "cell_type": "code",
   "execution_count": 12,
   "metadata": {},
   "outputs": [],
   "source": [
    "model.compile(optimizer=tf.keras.optimizers.Adam(lr=0.07), loss='categorical_crossentropy', metrics=['accuracy'])"
   ]
  },
  {
   "cell_type": "markdown",
   "metadata": {},
   "source": [
    "#### 분류 모델 학습 \n",
    "* validation_split : 훈련 데이터의 25% 정도를 검증 데이터로 사용\n",
    "* 분류 모델에서는 loss: 0.0415 - accuracy: 0.9895 - val_loss: 0.0613 - val_accuracy: 0.9746 와 같이 학습 데이터의 accuracy와 검증 데이터의 val_accuracy가 같이 표시된다."
   ]
  },
  {
   "cell_type": "code",
   "execution_count": 13,
   "metadata": {},
   "outputs": [
    {
     "name": "stdout",
     "output_type": "stream",
     "text": [
      "       fixed acidity  volatile acidity  citric acid  residual sugar  \\\n",
      "count    6497.000000       6497.000000  6497.000000     6497.000000   \n",
      "mean        0.282257          0.173111     0.191948        0.074283   \n",
      "std         0.107143          0.109758     0.087541        0.072972   \n",
      "min         0.000000          0.000000     0.000000        0.000000   \n",
      "25%         0.214876          0.100000     0.150602        0.018405   \n",
      "50%         0.264463          0.140000     0.186747        0.036810   \n",
      "75%         0.322314          0.213333     0.234940        0.115031   \n",
      "max         1.000000          1.000000     1.000000        1.000000   \n",
      "\n",
      "         chlorides  free sulfur dioxide  total sulfur dioxide      density  \\\n",
      "count  6497.000000          6497.000000           6497.000000  6497.000000   \n",
      "mean      0.078129             0.102518              0.252868     0.146262   \n",
      "std       0.058195             0.061630              0.130235     0.057811   \n",
      "min       0.000000             0.000000              0.000000     0.000000   \n",
      "25%       0.048173             0.055556              0.163594     0.100829   \n",
      "50%       0.063123             0.097222              0.258065     0.149990   \n",
      "75%       0.093023             0.138889              0.345622     0.190476   \n",
      "max       1.000000             1.000000              1.000000     1.000000   \n",
      "\n",
      "                pH    sulphates      alcohol  new_quality  \n",
      "count  6497.000000  6497.000000  6497.000000  6497.000000  \n",
      "mean      0.386435     0.174870     0.361131     0.414807  \n",
      "std       0.124641     0.083599     0.172857     0.365562  \n",
      "min       0.000000     0.000000     0.000000     0.000000  \n",
      "25%       0.302326     0.117978     0.217391     0.000000  \n",
      "50%       0.379845     0.162921     0.333333     0.500000  \n",
      "75%       0.465116     0.213483     0.478261     0.500000  \n",
      "max       1.000000     1.000000     1.000000     1.000000  \n"
     ]
    }
   ],
   "source": [
    "print(wine_shuffle.describe())"
   ]
  },
  {
   "cell_type": "code",
   "execution_count": 14,
   "metadata": {
    "scrolled": true
   },
   "outputs": [
    {
     "name": "stdout",
     "output_type": "stream",
     "text": [
      "Train on 3897 samples, validate on 1300 samples\n",
      "Epoch 1/25\n",
      "3897/3897 [==============================] - 1s 218us/sample - loss: 0.4810 - accuracy: 0.7911 - val_loss: 0.4204 - val_accuracy: 0.8131\n",
      "Epoch 2/25\n",
      "3897/3897 [==============================] - 0s 78us/sample - loss: 0.4204 - accuracy: 0.8004 - val_loss: 0.4176 - val_accuracy: 0.8062\n",
      "Epoch 3/25\n",
      "3897/3897 [==============================] - 0s 76us/sample - loss: 0.4059 - accuracy: 0.8055 - val_loss: 0.4109 - val_accuracy: 0.8062\n",
      "Epoch 4/25\n",
      "3897/3897 [==============================] - 0s 76us/sample - loss: 0.4053 - accuracy: 0.8070 - val_loss: 0.4023 - val_accuracy: 0.8062\n",
      "Epoch 5/25\n",
      "3897/3897 [==============================] - 0s 76us/sample - loss: 0.4116 - accuracy: 0.8022 - val_loss: 0.4039 - val_accuracy: 0.8000\n",
      "Epoch 6/25\n",
      "3897/3897 [==============================] - 0s 74us/sample - loss: 0.4009 - accuracy: 0.8114 - val_loss: 0.4017 - val_accuracy: 0.8138\n",
      "Epoch 7/25\n",
      "3897/3897 [==============================] - 0s 101us/sample - loss: 0.4061 - accuracy: 0.8101 - val_loss: 0.3962 - val_accuracy: 0.8062\n",
      "Epoch 8/25\n",
      "3897/3897 [==============================] - 0s 80us/sample - loss: 0.4023 - accuracy: 0.8106 - val_loss: 0.4235 - val_accuracy: 0.7731\n",
      "Epoch 9/25\n",
      "3897/3897 [==============================] - 0s 75us/sample - loss: 0.4051 - accuracy: 0.8111 - val_loss: 0.4090 - val_accuracy: 0.7862\n",
      "Epoch 10/25\n",
      "3897/3897 [==============================] - 0s 76us/sample - loss: 0.4034 - accuracy: 0.8075 - val_loss: 0.4070 - val_accuracy: 0.8062\n",
      "Epoch 11/25\n",
      "3897/3897 [==============================] - 0s 74us/sample - loss: 0.4053 - accuracy: 0.8193 - val_loss: 0.4029 - val_accuracy: 0.8108\n",
      "Epoch 12/25\n",
      "3897/3897 [==============================] - 0s 73us/sample - loss: 0.3980 - accuracy: 0.8181 - val_loss: 0.3987 - val_accuracy: 0.8108\n",
      "Epoch 13/25\n",
      "3897/3897 [==============================] - 0s 77us/sample - loss: 0.4034 - accuracy: 0.8122 - val_loss: 0.3930 - val_accuracy: 0.8123\n",
      "Epoch 14/25\n",
      "3897/3897 [==============================] - 0s 93us/sample - loss: 0.4026 - accuracy: 0.8168 - val_loss: 0.3957 - val_accuracy: 0.8131\n",
      "Epoch 15/25\n",
      "3897/3897 [==============================] - 0s 74us/sample - loss: 0.4101 - accuracy: 0.8114 - val_loss: 0.4057 - val_accuracy: 0.8062\n",
      "Epoch 16/25\n",
      "3897/3897 [==============================] - 0s 81us/sample - loss: 0.4003 - accuracy: 0.8122 - val_loss: 0.4003 - val_accuracy: 0.8000\n",
      "Epoch 17/25\n",
      "3897/3897 [==============================] - 0s 79us/sample - loss: 0.4013 - accuracy: 0.8127 - val_loss: 0.3951 - val_accuracy: 0.8062\n",
      "Epoch 18/25\n",
      "3897/3897 [==============================] - 0s 80us/sample - loss: 0.4038 - accuracy: 0.8060 - val_loss: 0.4029 - val_accuracy: 0.8062\n",
      "Epoch 19/25\n",
      "3897/3897 [==============================] - 0s 79us/sample - loss: 0.4081 - accuracy: 0.8037 - val_loss: 0.4038 - val_accuracy: 0.8069\n",
      "Epoch 20/25\n",
      "3897/3897 [==============================] - 0s 101us/sample - loss: 0.3932 - accuracy: 0.8122 - val_loss: 0.3926 - val_accuracy: 0.8154\n",
      "Epoch 21/25\n",
      "3897/3897 [==============================] - 0s 73us/sample - loss: 0.3918 - accuracy: 0.8170 - val_loss: 0.3961 - val_accuracy: 0.8138\n",
      "Epoch 22/25\n",
      "3897/3897 [==============================] - 0s 79us/sample - loss: 0.3907 - accuracy: 0.8193 - val_loss: 0.3899 - val_accuracy: 0.8131\n",
      "Epoch 23/25\n",
      "3897/3897 [==============================] - 0s 73us/sample - loss: 0.3930 - accuracy: 0.8152 - val_loss: 0.4309 - val_accuracy: 0.8192\n",
      "Epoch 24/25\n",
      "3897/3897 [==============================] - ETA: 0s - loss: 0.3982 - accuracy: 0.81 - 0s 72us/sample - loss: 0.3985 - accuracy: 0.8101 - val_loss: 0.4019 - val_accuracy: 0.8177\n",
      "Epoch 25/25\n",
      "3897/3897 [==============================] - 0s 72us/sample - loss: 0.3996 - accuracy: 0.8158 - val_loss: 0.4433 - val_accuracy: 0.8077\n"
     ]
    }
   ],
   "source": [
    "history = model.fit(train_X, train_Y, epochs=25, batch_size=32, validation_split=0.25)"
   ]
  },
  {
   "cell_type": "markdown",
   "metadata": {},
   "source": [
    "#### 다항 분류 모델 학습 결과 시각화"
   ]
  },
  {
   "cell_type": "code",
   "execution_count": 15,
   "metadata": {},
   "outputs": [
    {
     "data": {
      "image/png": "[encoded data removed]",
      "text/plain": [
       "<Figure size 864x288 with 2 Axes>"
      ]
     },
     "metadata": {
      "needs_background": "light"
     },
     "output_type": "display_data"
    }
   ],
   "source": [
    "plt.figure(figsize=(12, 4))\n",
    "plt.subplot(1, 2, 1)\n",
    "plt.plot(history.history['loss'], 'b-', label='loss')\n",
    "plt.plot(history.history['val_loss'], 'r--', label='val_loss')\n",
    "plt.xlabel('Epoch')\n",
    "plt.legend()\n",
    "\n",
    "plt.subplot(1, 2, 2)\n",
    "plt.plot(history.history['accuracy'], 'g-', label='accuracy')\n",
    "plt.plot(history.history['val_accuracy'], 'k--', label='val_accuracy')\n",
    "plt.xlabel('Epoch')\n",
    "plt.ylim(0.7, 1)\n",
    "plt.legend()\n",
    "\n",
    "plt.show()"
   ]
  },
  {
   "cell_type": "markdown",
   "metadata": {},
   "source": [
    "#### 분류 모델 평가"
   ]
  },
  {
   "cell_type": "code",
   "execution_count": 16,
   "metadata": {},
   "outputs": [
    {
     "name": "stdout",
     "output_type": "stream",
     "text": [
      "1300/1300 [==============================] - 0s 45us/sample - loss: 0.4526 - accuracy: 0.8000\n"
     ]
    }
   ],
   "source": [
    "result = model.evaluate(test_X, test_Y)"
   ]
  },
  {
   "cell_type": "markdown",
   "metadata": {},
   "source": [
    "#### 분석 \n",
    "* loss: 0.4938 - accuracy: 0.8068 - val_loss: 0.5015 - val_accuracy: 0.7992\n",
    "* 정확도는 79.7% 정도로 검증 데이터의 정확도와 비슷하게 나온다. \n",
    "* 데이터의 구성이 균일하지 않았기 때문에 이러한 결과가 나온다. \n",
    "* 좋은 성과를 위해서는 네트워크의 크기를 키워보거나 학습률을 조성해보는 등의 시도가 필요함."
   ]
  },
  {
   "cell_type": "code",
   "execution_count": null,
   "metadata": {},
   "outputs": [],
   "source": []
  }
 ],
 "metadata": {
  "kernelspec": {
   "display_name": "Python 3",
   "language": "python",
   "name": "python3"
  },
  "language_info": {
   "codemirror_mode": {
    "name": "ipython",
    "version": 3
   },
   "file_extension": ".py",
   "mimetype": "text/x-python",
   "name": "python",
   "nbconvert_exporter": "python",
   "pygments_lexer": "ipython3",
   "version": "3.7.6"
  }
 },
 "nbformat": 4,
 "nbformat_minor": 4
}
