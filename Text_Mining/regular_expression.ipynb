{
 "cells": [
  {
   "cell_type": "markdown",
   "metadata": {},
   "source": [
    "# 정규표현식 "
   ]
  },
  {
   "cell_type": "code",
   "execution_count": 13,
   "metadata": {},
   "outputs": [],
   "source": [
    "string = \\\n",
    "\"원주시을 지역의 경우 지난 총선에서 유일한 여당 당선자인 민주당 송기헌 의원과 통합당 이강후 후보가 맞붙는다. \" + \\\n",
    "\"춘천 분구가 무산된 후 탄생한 춘천시철원군화천군양구군갑에선 박원순 서울시장 비서실장 출신 민주당 허영 후보와 통합당 김진태 \" + \\\n",
    "\"의원이 재대결한다. 강릉시에선 컷오프에 반발한 통합당 권성동 의원이 무소속 출마했다.지난 총선에서 민주당이 싹쓸이한 제주 권역은 \" + \\\n",
    "\"4선 민주당 강창일 의원이 불출마한 제주시갑에 대통령 국가균형발전위원장 출신 민주당 송재호 후보가 전략공천된 가운데 통합당 \" + \\\n",
    "\"장성철 후보, 정의당 고병수 후보간 3파전이 펼쳐진다.공감언론 뉴시스 (formation@newsis.com)\""
   ]
  },
  {
   "cell_type": "code",
   "execution_count": 14,
   "metadata": {},
   "outputs": [
    {
     "data": {
      "text/plain": [
       "'원주시을 지역의 경우 지난 총선에서 유일한 여당 당선자인 민주당 송기헌 의원과 통합당 이강후 후보가 맞붙는다. 춘천 분구가 무산된 후 탄생한 춘천시철원군화천군양구군갑에선 박원순 서울시장 비서실장 출신 민주당 허영 후보와 통합당 김진태 의원이 재대결한다. 강릉시에선 컷오프에 반발한 통합당 권성동 의원이 무소속 출마했다.지난 총선에서 민주당이 싹쓸이한 제주 권역은 4선 민주당 강창일 의원이 불출마한 제주시갑에 대통령 국가균형발전위원장 출신 민주당 송재호 후보가 전략공천된 가운데 통합당 장성철 후보, 정의당 고병수 후보간 3파전이 펼쳐진다.공감언론 뉴시스 (formation@newsis.com)'"
      ]
     },
     "execution_count": 14,
     "metadata": {},
     "output_type": "execute_result"
    }
   ],
   "source": [
    "string"
   ]
  },
  {
   "cell_type": "markdown",
   "metadata": {},
   "source": [
    "#### 정규표현식을 이용하여 이메일 주소 제거 \n",
    "* *\n",
    "* +\n",
    "* []\n",
    "* ()\n",
    "* .\n",
    "* ^\n",
    "* $\n",
    "* {m}\n",
    "* {m, n}\n",
    "* |\n",
    "* [^]\n",
    "* [A-Za-z0-9\\._+] : 아무거나 1회 이상 "
   ]
  },
  {
   "cell_type": "code",
   "execution_count": 15,
   "metadata": {},
   "outputs": [
    {
     "data": {
      "text/plain": [
       "'원주시을 지역의 경우 지난 총선에서 유일한 여당 당선자인 민주당 송기헌 의원과 통합당 이강후 후보가 맞붙는다. 춘천 분구가 무산된 후 탄생한 춘천시철원군화천군양구군갑에선 박원순 서울시장 비서실장 출신 민주당 허영 후보와 통합당 김진태 의원이 재대결한다. 강릉시에선 컷오프에 반발한 통합당 권성동 의원이 무소속 출마했다.지난 총선에서 민주당이 싹쓸이한 제주 권역은 4선 민주당 강창일 의원이 불출마한 제주시갑에 대통령 국가균형발전위원장 출신 민주당 송재호 후보가 전략공천된 가운데 통합당 장성철 후보, 정의당 고병수 후보간 3파전이 펼쳐진다.공감언론 뉴시스 '"
      ]
     },
     "execution_count": 15,
     "metadata": {},
     "output_type": "execute_result"
    }
   ],
   "source": [
    "import re\n",
    "re.sub(\"\\([A-Za-z0-9\\._+]+@[A-Za-z0-9]+\\.(com|org|edu|net|co.kr|ac.kr)\\)\", \"\", string)"
   ]
  },
  {
   "cell_type": "code",
   "execution_count": null,
   "metadata": {},
   "outputs": [],
   "source": []
  }
 ],
 "metadata": {
  "kernelspec": {
   "display_name": "Python 3",
   "language": "python",
   "name": "python3"
  },
  "language_info": {
   "codemirror_mode": {
    "name": "ipython",
    "version": 3
   },
   "file_extension": ".py",
   "mimetype": "text/x-python",
   "name": "python",
   "nbconvert_exporter": "python",
   "pygments_lexer": "ipython3",
   "version": "3.7.6"
  }
 },
 "nbformat": 4,
 "nbformat_minor": 4
}
