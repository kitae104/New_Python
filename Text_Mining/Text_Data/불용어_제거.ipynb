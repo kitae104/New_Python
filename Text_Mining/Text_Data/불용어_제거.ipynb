{
 "cells": [
  {
   "cell_type": "markdown",
   "metadata": {},
   "source": [
    "# 불용어 제거 \n",
    "* 빈번하게 사용되지만 구체적인 의미를 찾기 어려운 단어를 불용어라 한다. \n",
    "    - the, a, an 과 같은 경우 \n",
    "* 파이썬 텍스트 마이닝 패키지 NLTK는 언어별로 불용어 리스트를 제공 \n",
    "    - 한국어의 불용어 리스트는 특정 패키지에서 지원하지 않음 M"
   ]
  },
  {
   "cell_type": "code",
   "execution_count": 1,
   "metadata": {},
   "outputs": [
    {
     "name": "stderr",
     "output_type": "stream",
     "text": [
      "[nltk_data] Downloading package stopwords to\n",
      "[nltk_data]     C:\\Users\\DA0207DYD\\AppData\\Roaming\\nltk_data...\n",
      "[nltk_data]   Package stopwords is already up-to-date!\n"
     ]
    },
    {
     "data": {
      "text/plain": [
       "True"
      ]
     },
     "execution_count": 1,
     "metadata": {},
     "output_type": "execute_result"
    }
   ],
   "source": [
    "import nltk\n",
    "from nltk.corpus import stopwords\n",
    "nltk.download('stopwords')"
   ]
  },
  {
   "cell_type": "code",
   "execution_count": 2,
   "metadata": {},
   "outputs": [
    {
     "name": "stdout",
     "output_type": "stream",
     "text": [
      "['추석', '연휴', '민족', '대이동', '시작', '늘어', '교통량', '교통사고', '특히', '자동차', '고장', '상당수', '차지', '나타', '것', '기자']\n"
     ]
    },
    {
     "data": {
      "text/plain": [
       "['추석', '연휴', '민족', '대이동', '시작', '교통량', '교통사고', '특히', '자동차', '고장', '상당수', '차지']"
      ]
     },
     "execution_count": 2,
     "metadata": {},
     "output_type": "execute_result"
    }
   ],
   "source": [
    "words_korean = [\"추석\", \"연휴\", \"민족\", \"대이동\", \"시작\", \"늘어\", \"교통량\", \"교통사고\", \"특히\", \"자동차\", \"고장\", \"상당수\", \"차지\", \"나타\", \"것\", \"기자\"]\n",
    "\n",
    "# 불용어 \n",
    "k_stopwords = [\"가다\", \"늘어\", \"나타\", \"것\", \"기자\"]\n",
    "print(words_korean)\n",
    "\n",
    "[i for i in words_korean if i not in k_stopwords]"
   ]
  },
  {
   "cell_type": "code",
   "execution_count": 3,
   "metadata": {},
   "outputs": [
    {
     "name": "stdout",
     "output_type": "stream",
     "text": [
      "['chief', 'justice', 'roberts', ',', 'president', 'carter', ',', 'president', 'clinton', ',', 'president', 'bush', ',', 'presidnet', 'obama', ',', 'fellow', 'americans', 'people', 'world', ',', 'thank', '.']\n"
     ]
    }
   ],
   "source": [
    "words_english = ['chief', 'justice', 'roberts', ',', 'president', 'carter', ',', 'president', 'clinton', ',', 'president', 'bush', ',','presidnet','obama', ',', 'fellow', 'americans', 'and', 'people', 'of','the', 'world',',', 'thank','you', '.']\n",
    "print([w for w in words_english if not w in stopwords.words('english')])"
   ]
  },
  {
   "cell_type": "code",
   "execution_count": null,
   "metadata": {},
   "outputs": [],
   "source": []
  },
  {
   "cell_type": "code",
   "execution_count": null,
   "metadata": {},
   "outputs": [],
   "source": []
  }
 ],
 "metadata": {
  "kernelspec": {
   "display_name": "Python 3",
   "language": "python",
   "name": "python3"
  },
  "language_info": {
   "codemirror_mode": {
    "name": "ipython",
    "version": 3
   },
   "file_extension": ".py",
   "mimetype": "text/x-python",
   "name": "python",
   "nbconvert_exporter": "python",
   "pygments_lexer": "ipython3",
   "version": "3.7.6"
  }
 },
 "nbformat": 4,
 "nbformat_minor": 4
}
