{
 "cells": [
  {
   "cell_type": "markdown",
   "metadata": {},
   "source": [
    "# 품사 분석\n",
    "* POS : 품사 분석을 Part-Of_Speech의 약자로 POS 태깅이라 함 \n",
    "* 텍스트 마이닝 분석은 단어의 언어학적인 기능을 살펴보기 보다는 단어가 대량의 문서에서 의미적으로 어떠한 기능을 하는지 살펴보는 것이기 때문에 언어 또는 분류 기준마다 세부적으로 다른 품사들까지 살펴볼 필요는 없다. \n",
    "* 대부분의 테그슽 마이닝은 단어주머니(bag of words)를 이용해 분석을 수행한다. 즉, 품사와 관계없이 동일한 형태의 단어들을 동일하게 보고 단어주머니를 생성함. \n",
    "* 단어주머니를 이용하면 love 다 같이 하나로 보지만 품사 분석을 통해 동사, 명사로 나누어 love를 바라보면 분석 시 더욱 심층적인 의미를 발견할 수 있음 \n",
    "* 문서 안에서 각 품사별로 단어가 몇 개씩 나왔는지 빈도를 세는 것도 하나의 분석이 될 수 있음\n",
    "* 한국어 품사 분석을 위해서는 KoNLPy 패키지를 사용\n",
    "* 각 클래스(Kkma, Komoran, Hannaum, Twitter, Mecab)마다 품사 분류 기준이 다름 \n",
    "* morphs() : 문장을 형태소 단위로 끊어줌\n",
    "* nouns() : 문장에서 명사만 추출\n",
    "* POS() : 문장에 속한 각 형태소에 품사를 태깅 \n",
    "* Phrases() : 문장을 구 단위로 쪼개줌"
   ]
  },
  {
   "cell_type": "markdown",
   "metadata": {},
   "source": [
    "#### Hannanum"
   ]
  },
  {
   "cell_type": "code",
   "execution_count": 1,
   "metadata": {},
   "outputs": [
    {
     "name": "stdout",
     "output_type": "stream",
     "text": [
      "aaa\n"
     ]
    }
   ],
   "source": [
    "from konlpy.tag import Hannanum\n",
    "hannanum = Hannanum()"
   ]
  },
  {
   "cell_type": "code",
   "execution_count": 3,
   "metadata": {},
   "outputs": [
    {
     "name": "stdout",
     "output_type": "stream",
     "text": [
      "['친척들', '이', '모이', 'ㄴ', '이번', '추석', '차례상', '에서는', '단연', \"'\", '집값', \"'\", '이', '화제', '에', '오르', '아다', '.']\n"
     ]
    }
   ],
   "source": [
    "str = \"친척들이 모인 이번 추석 차례상에서는 단연 '집값'이 화제에 올랐다.\"\n",
    "hannanum_morphs = hannanum.morphs(str)\n",
    "print(hannanum_morphs)"
   ]
  },
  {
   "cell_type": "code",
   "execution_count": 4,
   "metadata": {},
   "outputs": [
    {
     "name": "stdout",
     "output_type": "stream",
     "text": [
      "['친척들', '이번', '추석', '차례상', '집값', '화제']\n"
     ]
    }
   ],
   "source": [
    "hannanum_nouns = hannanum.nouns(str)\n",
    "print(hannanum_nouns)"
   ]
  },
  {
   "cell_type": "code",
   "execution_count": 13,
   "metadata": {},
   "outputs": [
    {
     "name": "stdout",
     "output_type": "stream",
     "text": [
      "[('친척들', 'N'), ('이', 'J'), ('모이', 'P'), ('ㄴ', 'E'), ('이번', 'N'), ('추석', 'N'), ('차례상', 'N'), ('에서는', 'J'), ('단연', 'M'), (\"'\", 'S'), ('집값', 'N'), (\"'\", 'S'), ('이', 'J'), ('화제', 'N'), ('에', 'J'), ('오르', 'P'), ('아다', 'E'), ('.', 'S')]\n"
     ]
    }
   ],
   "source": [
    "hannanum_pos_9 = hannanum.pos(str, ntags=9)\n",
    "print(hannanum_pos_9)"
   ]
  },
  {
   "cell_type": "code",
   "execution_count": 12,
   "metadata": {},
   "outputs": [
    {
     "name": "stdout",
     "output_type": "stream",
     "text": [
      "[('친척들', 'NC'), ('이', 'JC'), ('모이', 'PV'), ('ㄴ', 'ET'), ('이', 'NN'), ('번', 'NB'), ('추석', 'NC'), ('차례상', 'NC'), ('에서', 'JC'), ('는', 'JX'), ('단연', 'MA'), (\"'\", 'SR'), ('집값', 'NC'), (\"'\", 'SR'), ('이', 'JC'), ('화제', 'NC'), ('에', 'JC'), ('오르', 'PV'), ('아', 'EP'), ('다', 'EF'), ('.', 'SF')]\n"
     ]
    }
   ],
   "source": [
    "hannanum_pos_22 = hannanum.pos(str, ntags=22)\n",
    "print(hannanum_pos_22)"
   ]
  },
  {
   "cell_type": "markdown",
   "metadata": {},
   "source": [
    "#### Kkma"
   ]
  },
  {
   "cell_type": "code",
   "execution_count": 8,
   "metadata": {},
   "outputs": [],
   "source": [
    "from konlpy.tag import Kkma\n",
    "kkma = Kkma()"
   ]
  },
  {
   "cell_type": "code",
   "execution_count": 11,
   "metadata": {},
   "outputs": [
    {
     "name": "stdout",
     "output_type": "stream",
     "text": [
      "['친척', '들', '이', '모이', 'ㄴ', '이번', '추석', '차례', '상', '에서', '는', '단연', \"'\", '집', '값', \"'\", '이', '화제', '에', '오르', '았', '다', '.']\n"
     ]
    }
   ],
   "source": [
    "kkma_morphs = kkma.morphs(str)\n",
    "print(kkma_morphs)"
   ]
  },
  {
   "cell_type": "code",
   "execution_count": 10,
   "metadata": {},
   "outputs": [
    {
     "name": "stdout",
     "output_type": "stream",
     "text": [
      "['친척', '이번', '추석', '차례', '차례상', '상', '집', '집값', '값', '화제']\n"
     ]
    }
   ],
   "source": [
    "kkma_nouns = kkma.nouns(str)\n",
    "print(kkma_nouns)"
   ]
  },
  {
   "cell_type": "code",
   "execution_count": 14,
   "metadata": {},
   "outputs": [
    {
     "name": "stdout",
     "output_type": "stream",
     "text": [
      "[('친척', 'NNG'), ('들', 'XSN'), ('이', 'JKS'), ('모이', 'VV'), ('ㄴ', 'ETD'), ('이번', 'NNG'), ('추석', 'NNG'), ('차례', 'NNG'), ('상', 'NNG'), ('에서', 'JKM'), ('는', 'JX'), ('단연', 'MAG'), (\"'\", 'SS'), ('집', 'NNG'), ('값', 'NNG'), (\"'\", 'SS'), ('이', 'MDT'), ('화제', 'NNG'), ('에', 'JKM'), ('오르', 'VV'), ('았', 'EPT'), ('다', 'EFN'), ('.', 'SF')]\n"
     ]
    }
   ],
   "source": [
    "kkma_pos = kkma.pos(str)\n",
    "print(kkma_pos)"
   ]
  },
  {
   "cell_type": "markdown",
   "metadata": {},
   "source": [
    "#### Twitter "
   ]
  },
  {
   "cell_type": "code",
   "execution_count": 16,
   "metadata": {},
   "outputs": [],
   "source": [
    "from konlpy.tag import Okt\n",
    "okt = Okt()"
   ]
  },
  {
   "cell_type": "code",
   "execution_count": 17,
   "metadata": {},
   "outputs": [
    {
     "name": "stdout",
     "output_type": "stream",
     "text": [
      "['친척', '들', '이', '모인', '이번', '추석', '차례상', '에서는', '단연', \"'\", '집값', \"'\", '이', '화제', '에', '올랐다', '.']\n"
     ]
    }
   ],
   "source": [
    "okt_morphs = okt.morphs(str)\n",
    "print(okt_morphs)"
   ]
  },
  {
   "cell_type": "code",
   "execution_count": 18,
   "metadata": {},
   "outputs": [
    {
     "name": "stdout",
     "output_type": "stream",
     "text": [
      "['친척', '이번', '추석', '차례상', '단연', '집값', '이', '화제']\n"
     ]
    }
   ],
   "source": [
    "okt_nouns = okt.nouns(str)\n",
    "print(okt_nouns)"
   ]
  },
  {
   "cell_type": "code",
   "execution_count": 19,
   "metadata": {},
   "outputs": [
    {
     "name": "stdout",
     "output_type": "stream",
     "text": [
      "[('친척', 'Noun'), ('들', 'Suffix'), ('이', 'Josa'), ('모인', 'Verb'), ('이번', 'Noun'), ('추석', 'Noun'), ('차례상', 'Noun'), ('에서는', 'Josa'), ('단연', 'Noun'), (\"'\", 'Punctuation'), ('집값', 'Noun'), (\"'\", 'Punctuation'), ('이', 'Noun'), ('화제', 'Noun'), ('에', 'Josa'), ('올랐다', 'Verb'), ('.', 'Punctuation')]\n"
     ]
    }
   ],
   "source": [
    "okt_pos = okt.pos(str)\n",
    "print(okt_pos)"
   ]
  },
  {
   "cell_type": "code",
   "execution_count": 20,
   "metadata": {},
   "outputs": [
    {
     "name": "stdout",
     "output_type": "stream",
     "text": [
      "['친척들', '이번', '이번 추석', '이번 추석 차례상', '단연', '집값', '이 화제', '추석', '차례상', '화제']\n"
     ]
    }
   ],
   "source": [
    "okt_phrases = okt.phrases(str)\n",
    "print(okt_phrases)"
   ]
  },
  {
   "cell_type": "markdown",
   "metadata": {},
   "source": [
    "#### NLTK 패키지를 이용한 품사 분석 "
   ]
  },
  {
   "cell_type": "code",
   "execution_count": 26,
   "metadata": {},
   "outputs": [
    {
     "name": "stdout",
     "output_type": "stream",
     "text": [
      "['The', 'little', 'yellow', 'dog', 'barked', 'at', 'the', 'Persian', 'cat.']\n",
      "[('The', 'DT'), ('little', 'JJ'), ('yellow', 'JJ'), ('dog', 'NN'), ('barked', 'VBD'), ('at', 'IN'), ('the', 'DT'), ('Persian', 'NNP'), ('cat.', 'NN')]\n"
     ]
    },
    {
     "name": "stderr",
     "output_type": "stream",
     "text": [
      "[nltk_data] Downloading package averaged_perceptron_tagger to\n",
      "[nltk_data]     C:\\Users\\DA0207DYD\\AppData\\Roaming\\nltk_data...\n",
      "[nltk_data]   Package averaged_perceptron_tagger is already up-to-\n",
      "[nltk_data]       date!\n"
     ]
    }
   ],
   "source": [
    "import nltk\n",
    "from nltk import pos_tag\n",
    "nltk.download('averaged_perceptron_tagger')\n",
    "tokens = \"The little yellow dog barked at the Persian cat.\".split()\n",
    "tag_en = pos_tag(tokens)\n",
    "print(tokens)\n",
    "print(tag_en)"
   ]
  },
  {
   "cell_type": "code",
   "execution_count": null,
   "metadata": {},
   "outputs": [],
   "source": []
  }
 ],
 "metadata": {
  "kernelspec": {
   "display_name": "Python 3",
   "language": "python",
   "name": "python3"
  },
  "language_info": {
   "codemirror_mode": {
    "name": "ipython",
    "version": 3
   },
   "file_extension": ".py",
   "mimetype": "text/x-python",
   "name": "python",
   "nbconvert_exporter": "python",
   "pygments_lexer": "ipython3",
   "version": "3.7.6"
  }
 },
 "nbformat": 4,
 "nbformat_minor": 4
}
