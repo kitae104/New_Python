{
 "cells": [
  {
   "cell_type": "markdown",
   "metadata": {},
   "source": [
    "# N-gram\n",
    "* 엔그램이란 n번 연이어 등장하는 단어들의 연쇄를 의미한다. 엔그램은 보통 영어에만 적용됨 \n",
    "* 바이그램 : 2번 연속 \n",
    "* 트라이그램 : 3번 연속 "
   ]
  },
  {
   "cell_type": "code",
   "execution_count": 1,
   "metadata": {},
   "outputs": [],
   "source": [
    "from nltk import ngrams"
   ]
  },
  {
   "cell_type": "code",
   "execution_count": 4,
   "metadata": {},
   "outputs": [
    {
     "name": "stdout",
     "output_type": "stream",
     "text": [
      "Chief Justice Roberts, President Carter, President Clinton, President Bush, President Obama, fellow Americans, and people of the world: thank you.We, the citizens of America, are now joined in a great national effort to rebuild our country and to restore its promise for all of our people.Together, we will determine the course of America and the world for years to come.We will face challenges. We will confront hardships. But we will get the job done.\n"
     ]
    }
   ],
   "source": [
    "sentence = \"Chief Justice Roberts, President Carter, President Clinton, President Bush, President Obama, \" \\\n",
    "            \"fellow Americans, and people of the world: thank you.\" \\\n",
    "            \"We, the citizens of America, are now joined in a great national effort to rebuild our country \" \\\n",
    "            \"and to restore its promise for all of our people.\" \\\n",
    "            \"Together, we will determine the course of America and the world for years to come.\" \\\n",
    "            \"We will face challenges. We will confront hardships. But we will get the job done.\"\n",
    "print(sentence)"
   ]
  },
  {
   "cell_type": "markdown",
   "metadata": {},
   "source": [
    "* ngrams의 2번째 인자에 n을 입력하면 엔그램 적용\n",
    "* 2개의 단어가 연이어 생성되는 바이그램을 추출 "
   ]
  },
  {
   "cell_type": "code",
   "execution_count": 6,
   "metadata": {},
   "outputs": [
    {
     "name": "stdout",
     "output_type": "stream",
     "text": [
      "('Chief', 'Justice') ('Justice', 'Roberts,') ('Roberts,', 'President') ('President', 'Carter,') ('Carter,', 'President') ('President', 'Clinton,') ('Clinton,', 'President') ('President', 'Bush,') ('Bush,', 'President') ('President', 'Obama,') ('Obama,', 'fellow') ('fellow', 'Americans,') ('Americans,', 'and') ('and', 'people') ('people', 'of') ('of', 'the') ('the', 'world:') ('world:', 'thank') ('thank', 'you.We,') ('you.We,', 'the') ('the', 'citizens') ('citizens', 'of') ('of', 'America,') ('America,', 'are') ('are', 'now') ('now', 'joined') ('joined', 'in') ('in', 'a') ('a', 'great') ('great', 'national') ('national', 'effort') ('effort', 'to') ('to', 'rebuild') ('rebuild', 'our') ('our', 'country') ('country', 'and') ('and', 'to') ('to', 'restore') ('restore', 'its') ('its', 'promise') ('promise', 'for') ('for', 'all') ('all', 'of') ('of', 'our') ('our', 'people.Together,') ('people.Together,', 'we') ('we', 'will') ('will', 'determine') ('determine', 'the') ('the', 'course') ('course', 'of') ('of', 'America') ('America', 'and') ('and', 'the') ('the', 'world') ('world', 'for') ('for', 'years') ('years', 'to') ('to', 'come.We') ('come.We', 'will') ('will', 'face') ('face', 'challenges.') ('challenges.', 'We') ('We', 'will') ('will', 'confront') ('confront', 'hardships.') ('hardships.', 'But') ('But', 'we') ('we', 'will') ('will', 'get') ('get', 'the') ('the', 'job') ('job', 'done.') "
     ]
    }
   ],
   "source": [
    "grams = ngrams(sentence.split(), 2)\n",
    "\n",
    "for gram in grams:\n",
    "    print(gram, end=\" \")"
   ]
  },
  {
   "cell_type": "code",
   "execution_count": null,
   "metadata": {},
   "outputs": [],
   "source": []
  }
 ],
 "metadata": {
  "kernelspec": {
   "display_name": "Python 3",
   "language": "python",
   "name": "python3"
  },
  "language_info": {
   "codemirror_mode": {
    "name": "ipython",
    "version": 3
   },
   "file_extension": ".py",
   "mimetype": "text/x-python",
   "name": "python",
   "nbconvert_exporter": "python",
   "pygments_lexer": "ipython3",
   "version": "3.7.6"
  }
 },
 "nbformat": 4,
 "nbformat_minor": 4
}
