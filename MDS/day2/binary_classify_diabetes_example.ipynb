{
 "cells": [
  {
   "cell_type": "markdown",
   "metadata": {},
   "source": [
    "# Diabetes example\n",
    "\n",
    "#### pip install scikit-learn 설치 필요"
   ]
  },
  {
   "cell_type": "code",
   "execution_count": 1,
   "metadata": {},
   "outputs": [
    {
     "name": "stderr",
     "output_type": "stream",
     "text": [
      "Using TensorFlow backend.\n"
     ]
    }
   ],
   "source": [
    "from keras.models import Sequential\n",
    "from keras.layers import Dense\n",
    "from sklearn.model_selection import train_test_split \n",
    "import numpy\n",
    "numpy.random.seed(7)"
   ]
  },
  {
   "cell_type": "code",
   "execution_count": 2,
   "metadata": {},
   "outputs": [
    {
     "name": "stdout",
     "output_type": "stream",
     "text": [
      "[[-0.764706   0.175879   0.47541   ... -0.248882  -0.799317   0.       ]\n",
      " [-0.647059   0.396985  -0.114754  ... -0.23696   -0.723313  -0.966667 ]\n",
      " [ 0.294118   0.366834   0.377049  ... -0.156483  -0.844577  -0.3      ]\n",
      " ...\n",
      " [ 0.529412   0.0653266  0.147541  ...  0.0193741 -0.852263   0.0333333]\n",
      " [-0.764706  -0.165829   0.0819672 ... -0.0402384 -0.642186  -0.966667 ]\n",
      " [-0.764706  -0.145729   0.0655738 ...  0.180328  -0.272417  -0.8      ]] [[-0.647059  -0.175879   0.147541  ... -0.371088  -0.734415  -0.866667 ]\n",
      " [ 0.0588235  0.306533   0.147541  ...  0.0193741 -0.509821  -0.2      ]\n",
      " [-0.882353   0.226131   0.47541   ...  0.481371  -0.789069  -0.666667 ]\n",
      " ...\n",
      " [-0.176471   0.688442   0.442623  ...  0.138599  -0.394535  -0.366667 ]\n",
      " [ 0.529412   0.0452261  0.180328  ... -0.0700447 -0.669513  -0.433333 ]\n",
      " [ 0.         0.477387   0.393443  ...  0.275708  -0.746371  -0.9      ]] [1. 0. 0. 1. 1. 1. 0. 1. 1. 1. 0. 1. 1. 0. 0. 1. 1. 1. 1. 0. 1. 1. 1. 0.\n",
      " 0. 1. 1. 0. 0. 0. 1. 0. 1. 0. 1. 0. 0. 0. 1. 0. 1. 1. 0. 0. 1. 1. 1. 0.\n",
      " 1. 1. 0. 1. 0. 1. 1. 1. 1. 0. 1. 1. 1. 1. 1. 1. 1. 1. 0. 1. 1. 0. 1. 0.\n",
      " 1. 0. 1. 1. 1. 1. 1. 1. 1. 1. 1. 1. 1. 0. 0. 0. 1. 1. 1. 1. 1. 0. 0. 1.\n",
      " 1. 0. 1. 1. 0. 0. 0. 1. 1. 1. 0. 1. 1. 0. 1. 1. 0. 1. 1. 0. 0. 1. 0. 1.\n",
      " 0. 0. 1. 0. 1. 0. 1. 1. 0. 1. 1. 0. 1. 0. 1. 0. 1. 0. 1. 0. 1. 1. 1. 1.\n",
      " 0. 1. 1. 1. 1. 1. 0. 1. 0. 1. 1. 0. 1. 1. 0. 1. 1. 1. 0. 1. 1. 0. 0. 1.\n",
      " 0. 1. 1. 0. 0. 1. 0. 1. 0. 1. 1. 1. 0. 1. 1. 1. 1. 1. 0. 1. 0. 1. 0. 1.\n",
      " 1. 1. 0. 0. 0. 0. 1. 1. 1. 1. 0. 1. 1. 0. 1. 0. 1. 0. 1. 1. 1. 0. 0. 0.\n",
      " 1. 0. 1. 1. 1. 1. 0. 1. 1. 1. 0. 1. 0. 0. 0. 0. 1. 1. 1. 0. 0. 0. 0. 0.\n",
      " 1. 0. 1. 1. 1. 1. 0. 1. 1. 1. 0. 0. 1. 1. 1. 0. 1. 1. 0. 0. 0. 1. 0. 1.\n",
      " 1. 1. 1. 1. 1. 1. 0. 0. 1. 1. 1. 0. 1. 0. 1. 1. 0. 1. 0. 1. 1. 0. 1. 1.\n",
      " 1. 0. 1. 1. 0. 1. 1. 1. 1. 1. 1. 0. 0. 1. 1. 1. 0. 0. 1. 1. 1. 0. 0. 0.\n",
      " 0. 0. 0. 1. 0. 1. 1. 0. 0. 0. 1. 1. 1. 0. 1. 0. 0. 1. 0. 1. 0. 1. 1. 1.\n",
      " 1. 0. 1. 0. 0. 0. 1. 0. 1. 1. 0. 1. 0. 1. 1. 1. 1. 0. 1. 1. 1. 1. 1. 0.\n",
      " 1. 1. 1. 1. 1. 0. 1. 1. 0. 1. 1. 1. 1. 0. 1. 1. 0. 1. 1. 0. 0. 1. 0. 1.\n",
      " 1. 0. 0. 1. 1. 1. 0. 1. 1. 1. 1. 1. 1. 1. 1. 0. 1. 1. 1. 0. 0. 1. 1. 1.\n",
      " 1. 0. 1. 0. 0. 1. 1. 0. 0. 1. 1. 1. 1. 0. 0. 1. 1. 0. 0. 0. 1. 1. 1. 1.\n",
      " 1. 1. 1. 1. 1. 1. 0. 1. 1. 0. 1. 0. 1. 0. 1. 1. 1. 0. 1. 1. 1. 1. 0. 1.\n",
      " 1. 1. 1. 1. 0. 1. 1. 0. 1. 1. 1. 1. 0. 1. 0. 1. 1. 1. 1. 1. 1. 0. 0. 1.\n",
      " 1. 1. 0. 0. 1. 0. 0. 1. 1. 1. 0. 1. 1. 1. 1. 1. 1. 0. 1. 1. 1. 1. 0. 1.\n",
      " 1. 1. 1. 1.] [1. 0. 0. 1. 0. 1. 1. 1. 1. 1. 1. 1. 1. 0. 1. 1. 0. 0. 1. 0. 1. 0. 1. 0.\n",
      " 1. 0. 1. 1. 1. 1. 0. 0. 1. 1. 0. 1. 1. 1. 0. 1. 1. 1. 1. 1. 1. 1. 1. 1.\n",
      " 1. 0. 1. 1. 0. 0. 0. 0. 1. 1. 0. 1. 1. 1. 1. 0. 1. 1. 1. 1. 1. 1. 1. 1.\n",
      " 0. 1. 1. 0. 0. 0. 1. 1. 0. 1. 1. 1. 1. 1. 1. 1. 0. 1. 0. 1. 0. 1. 1. 1.\n",
      " 0. 0. 1. 1. 1. 0. 1. 0. 0. 0. 1. 0. 0. 1. 1. 1. 0. 1. 1. 0. 1. 1. 0. 1.\n",
      " 0. 1. 1. 1. 1. 1. 1. 1. 0. 1. 0. 1. 1. 1. 0. 1. 1. 1. 1. 1. 1. 1. 0. 1.\n",
      " 0. 1. 1. 1. 1. 1. 1. 0. 0. 0. 0. 1. 1. 1. 1. 1. 1. 1. 0. 1. 0. 1. 1. 1.\n",
      " 1. 1. 1. 1. 0. 1. 1. 1. 1. 0. 0. 1. 0. 0. 1. 1. 1. 1. 0. 0. 1. 1. 0. 0.\n",
      " 0. 0. 1. 0. 0. 1. 1. 1. 1. 1. 1. 0. 1. 0. 0. 1. 1. 1. 0. 0. 1. 1. 0. 1.\n",
      " 0. 1. 1. 1. 1. 1. 1. 0. 0. 1. 1. 1. 1. 1. 1. 1. 0. 0. 1. 1. 1. 1. 1. 1.\n",
      " 0. 0. 1. 1. 0. 1. 0. 1. 0. 0. 1.]\n"
     ]
    }
   ],
   "source": [
    "dataset = numpy.loadtxt(\"diabetes.csv\", delimiter=\",\")\n",
    "X = dataset[:,:-1]\n",
    "Y = dataset[:,-1]\n",
    "\n",
    "X_train, X_test, y_train, y_test = train_test_split(X, Y, test_size=0.33, random_state=42)  # 데이터를 나눠줌 \n",
    "print(X_train, X_test, y_train, y_test)"
   ]
  },
  {
   "cell_type": "code",
   "execution_count": 3,
   "metadata": {},
   "outputs": [
    {
     "data": {
      "text/plain": [
       "array([-0.764706,  0.175879,  0.47541 , -0.616162, -0.832151, -0.248882,\n",
       "       -0.799317,  0.      ])"
      ]
     },
     "execution_count": 3,
     "metadata": {},
     "output_type": "execute_result"
    }
   ],
   "source": [
    "X_train.shape\n",
    "X_train[0]"
   ]
  },
  {
   "cell_type": "code",
   "execution_count": 4,
   "metadata": {},
   "outputs": [
    {
     "data": {
      "text/plain": [
       "0.0"
      ]
     },
     "execution_count": 4,
     "metadata": {},
     "output_type": "execute_result"
    }
   ],
   "source": [
    "y_train.shape\n",
    "y_train[1]"
   ]
  },
  {
   "cell_type": "code",
   "execution_count": 5,
   "metadata": {},
   "outputs": [],
   "source": [
    "# 모델링 해보세요. \n",
    "# 3개층 \n",
    "\n",
    "from keras import models\n",
    "from keras import layers \n",
    "\n",
    "model = models.Sequential()\n",
    "model.add(layers.Dense(12, activation='relu', input_shape=(8,)))\n",
    "model.add(layers.Dense(8, activation='relu'))\n",
    "model.add(layers.Dense(1, activation='sigmoid'))\n",
    "\n",
    "model.compile(optimizer='adam', loss='binary_crossentropy', metrics=['accuracy'])"
   ]
  },
  {
   "cell_type": "code",
   "execution_count": 6,
   "metadata": {},
   "outputs": [
    {
     "name": "stdout",
     "output_type": "stream",
     "text": [
      "Train on 508 samples, validate on 100 samples\n",
      "Epoch 1/10\n",
      "508/508 [==============================] - 0s 328us/step - loss: 0.7417 - accuracy: 0.3740 - val_loss: 0.6994 - val_accuracy: 0.4900\n",
      "Epoch 2/10\n",
      "508/508 [==============================] - 0s 100us/step - loss: 0.6918 - accuracy: 0.5906 - val_loss: 0.6834 - val_accuracy: 0.6400\n",
      "Epoch 3/10\n",
      "508/508 [==============================] - 0s 94us/step - loss: 0.6821 - accuracy: 0.6476 - val_loss: 0.6754 - val_accuracy: 0.6900\n",
      "Epoch 4/10\n",
      "508/508 [==============================] - 0s 96us/step - loss: 0.6751 - accuracy: 0.6673 - val_loss: 0.6676 - val_accuracy: 0.6800\n",
      "Epoch 5/10\n",
      "508/508 [==============================] - 0s 90us/step - loss: 0.6690 - accuracy: 0.6752 - val_loss: 0.6600 - val_accuracy: 0.7000\n",
      "Epoch 6/10\n",
      "508/508 [==============================] - 0s 86us/step - loss: 0.6622 - accuracy: 0.6713 - val_loss: 0.6524 - val_accuracy: 0.7100\n",
      "Epoch 7/10\n",
      "508/508 [==============================] - 0s 86us/step - loss: 0.6534 - accuracy: 0.7008 - val_loss: 0.6419 - val_accuracy: 0.7400\n",
      "Epoch 8/10\n",
      "508/508 [==============================] - 0s 99us/step - loss: 0.6409 - accuracy: 0.7165 - val_loss: 0.6255 - val_accuracy: 0.7400\n",
      "Epoch 9/10\n",
      "508/508 [==============================] - 0s 90us/step - loss: 0.6231 - accuracy: 0.7224 - val_loss: 0.6011 - val_accuracy: 0.7500\n",
      "Epoch 10/10\n",
      "508/508 [==============================] - 0s 92us/step - loss: 0.6009 - accuracy: 0.7402 - val_loss: 0.5743 - val_accuracy: 0.7700\n"
     ]
    }
   ],
   "source": [
    "# 학습 시켜 보세요.\n",
    "x_val = X_train[:100]\n",
    "partial_x_train = X_train[100:]\n",
    "\n",
    "y_val = y_train[:100]\n",
    "partial_y_train = y_train[100:]\n",
    "history = model.fit(X_train, y_train, epochs=10, batch_size=10, validation_data=(x_val, y_val))"
   ]
  },
  {
   "cell_type": "code",
   "execution_count": 7,
   "metadata": {},
   "outputs": [
    {
     "name": "stdout",
     "output_type": "stream",
     "text": [
      "251/251 [==============================] - 0s 16us/step\n"
     ]
    },
    {
     "data": {
      "text/plain": [
       "[0.5778898649006726, 0.7729083895683289]"
      ]
     },
     "execution_count": 7,
     "metadata": {},
     "output_type": "execute_result"
    }
   ],
   "source": [
    "# model.evaluate(x값, y값) 함수를 사용하여 모델을 평가해보세요.\n",
    "\n",
    "model.evaluate(X_test, y_test)\n",
    "\n"
   ]
  },
  {
   "cell_type": "code",
   "execution_count": 8,
   "metadata": {},
   "outputs": [
    {
     "data": {
      "text/plain": [
       "array([[1],\n",
       "       [0],\n",
       "       [1],\n",
       "       [1],\n",
       "       [0]])"
      ]
     },
     "execution_count": 8,
     "metadata": {},
     "output_type": "execute_result"
    }
   ],
   "source": [
    "# model.predict(새로운 x값) 을 사용하여 예측해보세요.\n",
    "aa = model.predict(X_test[0:5]) > 0.5  # 1이 일어날 확률 \n",
    "\n",
    "aa = aa.astype('int')\n",
    "aa"
   ]
  },
  {
   "cell_type": "code",
   "execution_count": 9,
   "metadata": {},
   "outputs": [
    {
     "data": {
      "text/plain": [
       "array([1, 0, 0, 1, 0])"
      ]
     },
     "execution_count": 9,
     "metadata": {},
     "output_type": "execute_result"
    }
   ],
   "source": [
    "bb = y_test[0:5]\n",
    "bb = bb.astype('int')\n",
    "bb"
   ]
  }
 ],
 "metadata": {
  "kernelspec": {
   "display_name": "Python 3",
   "language": "python",
   "name": "python3"
  },
  "language_info": {
   "codemirror_mode": {
    "name": "ipython",
    "version": 3
   },
   "file_extension": ".py",
   "mimetype": "text/x-python",
   "name": "python",
   "nbconvert_exporter": "python",
   "pygments_lexer": "ipython3",
   "version": "3.7.3"
  }
 },
 "nbformat": 4,
 "nbformat_minor": 2
}
