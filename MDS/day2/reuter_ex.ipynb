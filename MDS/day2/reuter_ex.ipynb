{
 "cells": [
  {
   "cell_type": "markdown",
   "metadata": {},
   "source": [
    "# Softmax 사용하기"
   ]
  },
  {
   "cell_type": "code",
   "execution_count": 3,
   "metadata": {},
   "outputs": [
    {
     "data": {
      "text/plain": [
       "'2.3.1'"
      ]
     },
     "execution_count": 3,
     "metadata": {},
     "output_type": "execute_result"
    }
   ],
   "source": [
    "import keras\n",
    "from keras.datasets import reuters\n",
    "keras.__version__"
   ]
  },
  {
   "cell_type": "code",
   "execution_count": 4,
   "metadata": {},
   "outputs": [
    {
     "name": "stdout",
     "output_type": "stream",
     "text": [
      "Downloading data from https://s3.amazonaws.com/text-datasets/reuters.npz\n",
      "2113536/2110848 [==============================] - 2s 1us/step\n"
     ]
    }
   ],
   "source": [
    "(train_data, train_labels), (test_data, test_labels) = reuters.load_data(num_words=10000) # 1만개 사용 "
   ]
  },
  {
   "cell_type": "code",
   "execution_count": 24,
   "metadata": {},
   "outputs": [
    {
     "data": {
      "text/plain": [
       "[1,\n",
       " 245,\n",
       " 273,\n",
       " 207,\n",
       " 156,\n",
       " 53,\n",
       " 74,\n",
       " 160,\n",
       " 26,\n",
       " 14,\n",
       " 46,\n",
       " 296,\n",
       " 26,\n",
       " 39,\n",
       " 74,\n",
       " 2979,\n",
       " 3554,\n",
       " 14,\n",
       " 46,\n",
       " 4689,\n",
       " 4329,\n",
       " 86,\n",
       " 61,\n",
       " 3499,\n",
       " 4795,\n",
       " 14,\n",
       " 61,\n",
       " 451,\n",
       " 4329,\n",
       " 17,\n",
       " 12]"
      ]
     },
     "execution_count": 24,
     "metadata": {},
     "output_type": "execute_result"
    }
   ],
   "source": [
    "train_data.shape\n",
    "\n",
    "test_labels.max()\n",
    "\n",
    "train_data[10]"
   ]
  },
  {
   "cell_type": "code",
   "execution_count": 17,
   "metadata": {},
   "outputs": [],
   "source": [
    "word_index = reuters.get_word_index()\n",
    "\n",
    "reverse_word_index = dict([(value, key) for (key, value) in word_index.items()])\n",
    "\n",
    "# 0, 1, 2는 '패딩', '문서 시작', '사전에 없음'을 위한 인덱스이므로 3을 뺍니다\n",
    "decoded_newswire = ' '.join([reverse_word_index.get(i -3, '?') for i in train_data[0]])"
   ]
  },
  {
   "cell_type": "code",
   "execution_count": 19,
   "metadata": {},
   "outputs": [
    {
     "data": {
      "text/plain": [
       "'? ? ? said as a result of its december acquisition of space co it expects earnings per share in 1987 of 1 15 to 1 30 dlrs per share up from 70 cts in 1986 the company said pretax net should rise to nine to 10 mln dlrs from six mln dlrs in 1986 and rental operation revenues to 19 to 22 mln dlrs from 12 5 mln dlrs it said cash flow per share this year should be 2 50 to three dlrs reuter 3'"
      ]
     },
     "execution_count": 19,
     "metadata": {},
     "output_type": "execute_result"
    }
   ],
   "source": [
    "decoded_newswire"
   ]
  },
  {
   "cell_type": "markdown",
   "metadata": {},
   "source": [
    "## x값 변환 "
   ]
  },
  {
   "cell_type": "code",
   "execution_count": 27,
   "metadata": {},
   "outputs": [],
   "source": [
    "import numpy as np\n",
    "def vectorize_sequences(sequences, dimension=10000):\n",
    "    results = np.zeros((len(sequences), dimension))\n",
    "    for i, sequence in enumerate(sequences):\n",
    "        results[i, sequence] = 1. \n",
    "    return results\n",
    "\n",
    "x_train = vectorize_sequences(train_data)\n",
    "x_test = vectorize_sequences(test_data)"
   ]
  },
  {
   "cell_type": "code",
   "execution_count": 29,
   "metadata": {},
   "outputs": [
    {
     "data": {
      "text/plain": [
       "(2246, 10000)"
      ]
     },
     "execution_count": 29,
     "metadata": {},
     "output_type": "execute_result"
    }
   ],
   "source": [
    "x_test.shape"
   ]
  },
  {
   "cell_type": "markdown",
   "metadata": {},
   "source": [
    "## y값 변환 "
   ]
  },
  {
   "cell_type": "code",
   "execution_count": 30,
   "metadata": {},
   "outputs": [],
   "source": [
    "from keras.utils import to_categorical\n",
    "\n",
    "one_hot_train_labels = to_categorical(train_labels)\n",
    "one_hot_test_labels = to_categorical(test_labels)"
   ]
  },
  {
   "cell_type": "markdown",
   "metadata": {},
   "source": [
    "## validation data 분할"
   ]
  },
  {
   "cell_type": "code",
   "execution_count": 31,
   "metadata": {},
   "outputs": [],
   "source": [
    "x_val = x_train[:1000]\n",
    "partial_x_train = x_train[1000:]\n",
    "y_val = one_hot_train_labels[:1000]\n",
    "partial_y_train = one_hot_train_labels[1000:]"
   ]
  },
  {
   "cell_type": "markdown",
   "metadata": {},
   "source": [
    "## 모델링"
   ]
  },
  {
   "cell_type": "code",
   "execution_count": 25,
   "metadata": {},
   "outputs": [],
   "source": [
    "from keras import models, layers\n",
    "\n",
    "model = models.Sequential()\n",
    "model.add(layers.Dense(64, activation='relu', input_shape=(10000, )))\n",
    "model.add(layers.Dense(64, activation='relu'))\n",
    "model.add(layers.Dense(46, activation='softmax'))\n",
    "\n",
    "model.compile(optimizer='rmsprop', loss='categorical_crossentropy', metrics=['accuracy'])"
   ]
  },
  {
   "cell_type": "markdown",
   "metadata": {},
   "source": [
    "### 학습"
   ]
  },
  {
   "cell_type": "code",
   "execution_count": 32,
   "metadata": {},
   "outputs": [
    {
     "name": "stdout",
     "output_type": "stream",
     "text": [
      "Train on 7982 samples, validate on 1000 samples\n",
      "Epoch 1/20\n",
      "7982/7982 [==============================] - 1s 136us/step - loss: 2.6839 - accuracy: 0.4975 - val_loss: 1.7586 - val_accuracy: 0.6280\n",
      "Epoch 2/20\n",
      "7982/7982 [==============================] - 1s 96us/step - loss: 1.4161 - accuracy: 0.7066 - val_loss: 1.2725 - val_accuracy: 0.7240\n",
      "Epoch 3/20\n",
      "7982/7982 [==============================] - 1s 97us/step - loss: 1.0196 - accuracy: 0.7879 - val_loss: 1.0888 - val_accuracy: 0.7560\n",
      "Epoch 4/20\n",
      "7982/7982 [==============================] - 1s 98us/step - loss: 0.7938 - accuracy: 0.8295 - val_loss: 1.0012 - val_accuracy: 0.7720\n",
      "Epoch 5/20\n",
      "7982/7982 [==============================] - 1s 98us/step - loss: 0.6278 - accuracy: 0.8661 - val_loss: 0.9337 - val_accuracy: 0.8010\n",
      "Epoch 6/20\n",
      "7982/7982 [==============================] - 1s 97us/step - loss: 0.5050 - accuracy: 0.8939 - val_loss: 0.8736 - val_accuracy: 0.8200\n",
      "Epoch 7/20\n",
      "7982/7982 [==============================] - 1s 99us/step - loss: 0.4055 - accuracy: 0.9154 - val_loss: 0.8572 - val_accuracy: 0.8200\n",
      "Epoch 8/20\n",
      "7982/7982 [==============================] - 1s 104us/step - loss: 0.3302 - accuracy: 0.9290 - val_loss: 0.8721 - val_accuracy: 0.8210\n",
      "Epoch 9/20\n",
      "7982/7982 [==============================] - 1s 96us/step - loss: 0.2746 - accuracy: 0.9411 - val_loss: 0.8772 - val_accuracy: 0.8160\n",
      "Epoch 10/20\n",
      "7982/7982 [==============================] - 1s 97us/step - loss: 0.2324 - accuracy: 0.9456 - val_loss: 0.9007 - val_accuracy: 0.8150\n",
      "Epoch 11/20\n",
      "7982/7982 [==============================] - 1s 105us/step - loss: 0.2008 - accuracy: 0.9490 - val_loss: 0.9088 - val_accuracy: 0.8140\n",
      "Epoch 12/20\n",
      "7982/7982 [==============================] - 1s 99us/step - loss: 0.1797 - accuracy: 0.9499 - val_loss: 0.9547 - val_accuracy: 0.8050\n",
      "Epoch 13/20\n",
      "7982/7982 [==============================] - 1s 98us/step - loss: 0.1611 - accuracy: 0.9533 - val_loss: 0.9383 - val_accuracy: 0.8140\n",
      "Epoch 14/20\n",
      "7982/7982 [==============================] - 1s 98us/step - loss: 0.1474 - accuracy: 0.9555 - val_loss: 1.0094 - val_accuracy: 0.7950\n",
      "Epoch 15/20\n",
      "7982/7982 [==============================] - 1s 126us/step - loss: 0.1438 - accuracy: 0.9551 - val_loss: 1.0191 - val_accuracy: 0.8010\n",
      "Epoch 16/20\n",
      "7982/7982 [==============================] - 1s 123us/step - loss: 0.1296 - accuracy: 0.9554 - val_loss: 1.0030 - val_accuracy: 0.7970\n",
      "Epoch 17/20\n",
      "7982/7982 [==============================] - 1s 112us/step - loss: 0.1267 - accuracy: 0.9568 - val_loss: 1.0354 - val_accuracy: 0.7960\n",
      "Epoch 18/20\n",
      "7982/7982 [==============================] - 1s 122us/step - loss: 0.1173 - accuracy: 0.9579 - val_loss: 1.0459 - val_accuracy: 0.8020\n",
      "Epoch 19/20\n",
      "7982/7982 [==============================] - 1s 115us/step - loss: 0.1156 - accuracy: 0.9570 - val_loss: 1.0956 - val_accuracy: 0.7910\n",
      "Epoch 20/20\n",
      "7982/7982 [==============================] - 1s 112us/step - loss: 0.1120 - accuracy: 0.9600 - val_loss: 1.0909 - val_accuracy: 0.8000\n"
     ]
    }
   ],
   "source": [
    "history = model.fit(partial_x_train, partial_y_train, epochs=20, batch_size=512, validation_data=(x_val, y_val))"
   ]
  },
  {
   "cell_type": "markdown",
   "metadata": {},
   "source": [
    "## 시각화"
   ]
  },
  {
   "cell_type": "code",
   "execution_count": 34,
   "metadata": {},
   "outputs": [],
   "source": [
    "import matplotlib.pyplot as plt "
   ]
  },
  {
   "cell_type": "code",
   "execution_count": 36,
   "metadata": {},
   "outputs": [],
   "source": [
    "acc = history.history['accuracy']   # train data에 대한 정확도\n",
    "val_acc = history.history['val_accuracy'] # 검증 데이터에 대한 정확도 \n",
    "\n",
    "loss = history.history['loss']  # 학습 데이터에 대한 비용 \n",
    "val_loss = history.history['val_loss']  # 검증 데이터에 대한 비용 "
   ]
  },
  {
   "cell_type": "code",
   "execution_count": 38,
   "metadata": {},
   "outputs": [
    {
     "data": {
      "text/plain": [
       "range(1, 21)"
      ]
     },
     "execution_count": 38,
     "metadata": {},
     "output_type": "execute_result"
    }
   ],
   "source": [
    "epochs = range(1, len(acc) + 1)\n",
    "epochs"
   ]
  },
  {
   "cell_type": "code",
   "execution_count": 41,
   "metadata": {},
   "outputs": [
    {
     "data": {
      "image/png": "[encoded data removed]",
      "text/plain": [
       "<Figure size 432x288 with 1 Axes>"
      ]
     },
     "metadata": {
      "needs_background": "light"
     },
     "output_type": "display_data"
    }
   ],
   "source": [
    "plt.plot(epochs, loss, 'bo', label=\"Train loss\")\n",
    "plt.plot(epochs, val_loss, 'r', label=\"Val loss\")\n",
    "plt.title(\"Loss\")\n",
    "plt.xlabel(\"Epochs\")\n",
    "plt.ylabel(\"Loss\")\n",
    "plt.legend()\n",
    "plt.show()"
   ]
  },
  {
   "cell_type": "code",
   "execution_count": 42,
   "metadata": {},
   "outputs": [
    {
     "data": {
      "image/png": "[encoded data removed]",
      "text/plain": [
       "<Figure size 432x288 with 1 Axes>"
      ]
     },
     "metadata": {
      "needs_background": "light"
     },
     "output_type": "display_data"
    }
   ],
   "source": [
    "plt.plot(epochs, acc, 'bo', color='red', label= \"Train loss\")\n",
    "plt.plot(epochs, val_acc, 'b', label='Validation loss')\n",
    "plt.title(\"Acc\")\n",
    "plt.xlabel(\"Epochs\")\n",
    "plt.ylabel(\"Acc\")\n",
    "plt.legend()\n",
    "plt.show()"
   ]
  },
  {
   "cell_type": "markdown",
   "metadata": {},
   "source": [
    "### 모델 변경(epoch=9)"
   ]
  },
  {
   "cell_type": "code",
   "execution_count": 44,
   "metadata": {},
   "outputs": [
    {
     "name": "stdout",
     "output_type": "stream",
     "text": [
      "Epoch 1/9\n",
      "8982/8982 [==============================] - 1s 97us/step - loss: 2.3887 - accuracy: 0.5562\n",
      "Epoch 2/9\n",
      "8982/8982 [==============================] - 1s 96us/step - loss: 1.3141 - accuracy: 0.7198\n",
      "Epoch 3/9\n",
      "8982/8982 [==============================] - 1s 91us/step - loss: 1.0020 - accuracy: 0.7825\n",
      "Epoch 4/9\n",
      "8982/8982 [==============================] - 1s 89us/step - loss: 0.7870 - accuracy: 0.8293\n",
      "Epoch 5/9\n",
      "8982/8982 [==============================] - 1s 90us/step - loss: 0.6250 - accuracy: 0.8657\n",
      "Epoch 6/9\n",
      "8982/8982 [==============================] - 1s 89us/step - loss: 0.5039 - accuracy: 0.8948\n",
      "Epoch 7/9\n",
      "8982/8982 [==============================] - 1s 88us/step - loss: 0.4096 - accuracy: 0.9169\n",
      "Epoch 8/9\n",
      "8982/8982 [==============================] - 1s 89us/step - loss: 0.3307 - accuracy: 0.9313\n",
      "Epoch 9/9\n",
      "8982/8982 [==============================] - 1s 91us/step - loss: 0.2809 - accuracy: 0.9385\n"
     ]
    },
    {
     "data": {
      "text/plain": [
       "<keras.callbacks.callbacks.History at 0x2b8368cb710>"
      ]
     },
     "execution_count": 44,
     "metadata": {},
     "output_type": "execute_result"
    }
   ],
   "source": [
    "model = models.Sequential()\n",
    "model.add(layers.Dense(64, activation='relu', input_shape=(10000, )))\n",
    "model.add(layers.Dense(64, activation='relu'))\n",
    "model.add(layers.Dense(46, activation='softmax'))\n",
    "\n",
    "model.compile(optimizer='rmsprop', loss='categorical_crossentropy', metrics=['accuracy'])\n",
    "\n",
    "# 실제 데이터 적용 \n",
    "model.fit(x_train, one_hot_train_labels, epochs=9, batch_size=512)"
   ]
  },
  {
   "cell_type": "code",
   "execution_count": 45,
   "metadata": {},
   "outputs": [
    {
     "name": "stdout",
     "output_type": "stream",
     "text": [
      "2246/2246 [==============================] - 0s 128us/step\n"
     ]
    },
    {
     "data": {
      "text/plain": [
       "[0.9531064103568969, 0.7925200462341309]"
      ]
     },
     "execution_count": 45,
     "metadata": {},
     "output_type": "execute_result"
    }
   ],
   "source": [
    "model.evaluate(x_test, one_hot_test_labels)"
   ]
  },
  {
   "cell_type": "markdown",
   "metadata": {},
   "source": [
    "### Prediction"
   ]
  },
  {
   "cell_type": "code",
   "execution_count": 73,
   "metadata": {},
   "outputs": [
    {
     "data": {
      "text/plain": [
       "array([[4.11077126e-05, 3.64091189e-04, 7.82274583e-05, 6.17810071e-01,\n",
       "        3.39594036e-01, 3.33098869e-05, 4.75574372e-04, 1.09249857e-04,\n",
       "        1.53898820e-02, 1.47028011e-04, 1.40204822e-04, 1.90300238e-03,\n",
       "        1.80164134e-04, 2.13723935e-04, 9.79033066e-04, 5.35886735e-04,\n",
       "        1.67651486e-03, 5.93190081e-04, 7.54720299e-04, 9.96097829e-03,\n",
       "        3.66005790e-03, 2.91663746e-04, 1.25461374e-05, 5.84397989e-04,\n",
       "        6.08762675e-05, 2.89925229e-04, 5.34690116e-06, 1.09021610e-04,\n",
       "        1.35904134e-04, 2.07811405e-04, 1.21014287e-04, 6.54395146e-04,\n",
       "        8.37343396e-05, 1.10164270e-04, 8.21591879e-04, 4.08638647e-04,\n",
       "        4.04326478e-04, 2.38892426e-05, 2.07564910e-04, 3.12928925e-04,\n",
       "        7.24899837e-06, 1.82820062e-04, 1.08364475e-05, 2.94484402e-04,\n",
       "        7.69052531e-06, 1.13467440e-05],\n",
       "       [3.68542001e-02, 1.06729835e-01, 4.41174954e-03, 5.78508775e-07,\n",
       "        6.55985088e-04, 9.22343135e-03, 6.56864047e-03, 4.14970273e-05,\n",
       "        5.85787056e-05, 1.10081630e-02, 7.57106900e-01, 3.10150994e-04,\n",
       "        6.86477142e-06, 4.93853644e-04, 1.48831459e-03, 1.24424085e-04,\n",
       "        5.46460273e-04, 2.47398479e-04, 1.86304300e-04, 8.47806688e-03,\n",
       "        9.86725325e-04, 5.93725475e-04, 2.53217790e-04, 1.01383133e-02,\n",
       "        1.84012682e-03, 8.05558346e-04, 2.52149417e-03, 1.30763568e-03,\n",
       "        5.63185103e-03, 4.20974247e-04, 1.19067823e-04, 1.48070347e-03,\n",
       "        5.24520362e-03, 4.99235866e-05, 7.24327629e-06, 4.15678478e-05,\n",
       "        4.70251616e-05, 2.34686886e-03, 1.43546879e-03, 3.40843690e-03,\n",
       "        1.33179976e-02, 2.99779000e-04, 2.49916641e-03, 2.46366282e-04,\n",
       "        1.18763155e-05, 4.02319449e-04],\n",
       "       [2.73807067e-03, 9.39382553e-01, 7.37721857e-04, 4.24340775e-04,\n",
       "        1.04977029e-04, 1.67503837e-03, 1.36291003e-03, 1.37359093e-04,\n",
       "        2.13377552e-05, 7.69236067e-04, 4.88351053e-03, 5.99089405e-03,\n",
       "        4.60979863e-05, 9.92442598e-04, 1.06909487e-03, 8.62986955e-04,\n",
       "        4.53673187e-04, 1.95023709e-03, 3.22754640e-04, 1.60622131e-03,\n",
       "        1.13619876e-03, 2.15814027e-04, 5.72146755e-03, 2.06458979e-04,\n",
       "        5.57499053e-03, 4.87128636e-05, 4.97751927e-04, 2.76348274e-03,\n",
       "        9.21556260e-03, 1.02170496e-04, 4.95859822e-05, 9.05462308e-04,\n",
       "        2.08207895e-03, 8.48141499e-04, 1.09265120e-05, 2.52097489e-05,\n",
       "        1.02227216e-03, 1.19187011e-04, 6.24455977e-04, 2.48402299e-04,\n",
       "        4.83548269e-04, 3.43152846e-04, 1.80520606e-03, 8.34016901e-05,\n",
       "        2.96201441e-04, 3.90005916e-05]], dtype=float32)"
      ]
     },
     "execution_count": 73,
     "metadata": {},
     "output_type": "execute_result"
    }
   ],
   "source": [
    "a = model.predict(x_test[0:3])\n",
    "a"
   ]
  },
  {
   "cell_type": "code",
   "execution_count": 79,
   "metadata": {},
   "outputs": [
    {
     "name": "stdout",
     "output_type": "stream",
     "text": [
      "+-------------+-------------+-------------+-------------+-------------+-------------+-------------+-------------+-------------+-------------+-------------+-------------+-------------+-------------+-------------+-------------+-------------+-------------+-------------+------------+-------------+-------------+-------------+-------------+-------------+-------------+-------------+-------------+-------------+-------------+-------------+-------------+-------------+-------------+-------------+-------------+-------------+-------------+-------------+-------------+-------------+-------------+-------------+-------------+-------------+-------------+\n",
      "| 4.11077e-05 | 0.000364091 | 7.82275e-05 | 0.61781     | 0.339594    | 3.33099e-05 | 0.000475574 | 0.00010925  | 0.0153899   | 0.000147028 | 0.000140205 | 0.001903    | 0.000180164 | 0.000213724 | 0.000979033 | 0.000535887 | 0.00167651  | 0.00059319  | 0.00075472  | 0.00996098 | 0.00366006  | 0.000291664 | 1.25461e-05 | 0.000584398 | 6.08763e-05 | 0.000289925 | 5.3469e-06  | 0.000109022 | 0.000135904 | 0.000207811 | 0.000121014 | 0.000654395 | 8.37343e-05 | 0.000110164 | 0.000821592 | 0.000408639 | 0.000404326 | 2.38892e-05 | 0.000207565 | 0.000312929 | 7.249e-06   | 0.00018282  | 1.08364e-05 | 0.000294484 | 7.69053e-06 | 1.13467e-05 |\n",
      "| 0.0368542   | 0.10673     | 0.00441175  | 5.78509e-07 | 0.000655985 | 0.00922343  | 0.00656864  | 4.1497e-05  | 5.85787e-05 | 0.0110082   | 0.757107    | 0.000310151 | 6.86477e-06 | 0.000493854 | 0.00148831  | 0.000124424 | 0.00054646  | 0.000247398 | 0.000186304 | 0.00847807 | 0.000986725 | 0.000593725 | 0.000253218 | 0.0101383   | 0.00184013  | 0.000805558 | 0.00252149  | 0.00130764  | 0.00563185  | 0.000420974 | 0.000119068 | 0.0014807   | 0.0052452   | 4.99236e-05 | 7.24328e-06 | 4.15678e-05 | 4.70252e-05 | 0.00234687  | 0.00143547  | 0.00340844  | 0.013318    | 0.000299779 | 0.00249917  | 0.000246366 | 1.18763e-05 | 0.000402319 |\n",
      "| 0.00273807  | 0.939383    | 0.000737722 | 0.000424341 | 0.000104977 | 0.00167504  | 0.00136291  | 0.000137359 | 2.13378e-05 | 0.000769236 | 0.00488351  | 0.00599089  | 4.6098e-05  | 0.000992443 | 0.00106909  | 0.000862987 | 0.000453673 | 0.00195024  | 0.000322755 | 0.00160622 | 0.0011362   | 0.000215814 | 0.00572147  | 0.000206459 | 0.00557499  | 4.87129e-05 | 0.000497752 | 0.00276348  | 0.00921556  | 0.00010217  | 4.9586e-05  | 0.000905462 | 0.00208208  | 0.000848141 | 1.09265e-05 | 2.52097e-05 | 0.00102227  | 0.000119187 | 0.000624456 | 0.000248402 | 0.000483548 | 0.000343153 | 0.00180521  | 8.34017e-05 | 0.000296201 | 3.90006e-05 |\n",
      "+-------------+-------------+-------------+-------------+-------------+-------------+-------------+-------------+-------------+-------------+-------------+-------------+-------------+-------------+-------------+-------------+-------------+-------------+-------------+------------+-------------+-------------+-------------+-------------+-------------+-------------+-------------+-------------+-------------+-------------+-------------+-------------+-------------+-------------+-------------+-------------+-------------+-------------+-------------+-------------+-------------+-------------+-------------+-------------+-------------+-------------+\n"
     ]
    }
   ],
   "source": [
    "from tabulate import tabulate\n",
    "print(tabulate(a, tablefmt='psql'))"
   ]
  },
  {
   "cell_type": "code",
   "execution_count": 74,
   "metadata": {},
   "outputs": [
    {
     "data": {
      "text/plain": [
       "array([ 3, 10,  1], dtype=int64)"
      ]
     },
     "execution_count": 74,
     "metadata": {},
     "output_type": "execute_result"
    }
   ],
   "source": [
    "import numpy as np \n",
    "\n",
    "np.argmax(a, axis=1)"
   ]
  },
  {
   "cell_type": "code",
   "execution_count": 75,
   "metadata": {},
   "outputs": [],
   "source": [
    "b = one_hot_test_labels[0:3]"
   ]
  },
  {
   "cell_type": "code",
   "execution_count": 76,
   "metadata": {},
   "outputs": [
    {
     "data": {
      "text/plain": [
       "array([ 3, 10,  1], dtype=int64)"
      ]
     },
     "execution_count": 76,
     "metadata": {},
     "output_type": "execute_result"
    }
   ],
   "source": [
    "np.argmax(b, axis=1)"
   ]
  },
  {
   "cell_type": "code",
   "execution_count": 77,
   "metadata": {},
   "outputs": [
    {
     "data": {
      "text/plain": [
       "array([1.0000002, 1.       , 1.0000002], dtype=float32)"
      ]
     },
     "execution_count": 77,
     "metadata": {},
     "output_type": "execute_result"
    }
   ],
   "source": [
    "np.sum(a, axis=1)"
   ]
  },
  {
   "cell_type": "code",
   "execution_count": null,
   "metadata": {},
   "outputs": [],
   "source": []
  }
 ],
 "metadata": {
  "kernelspec": {
   "display_name": "Python 3",
   "language": "python",
   "name": "python3"
  },
  "language_info": {
   "codemirror_mode": {
    "name": "ipython",
    "version": 3
   },
   "file_extension": ".py",
   "mimetype": "text/x-python",
   "name": "python",
   "nbconvert_exporter": "python",
   "pygments_lexer": "ipython3",
   "version": "3.7.3"
  }
 },
 "nbformat": 4,
 "nbformat_minor": 2
}
