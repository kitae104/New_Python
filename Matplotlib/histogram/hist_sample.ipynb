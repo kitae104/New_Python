{
 "cells": [
  {
   "cell_type": "code",
   "execution_count": 2,
   "metadata": {},
   "outputs": [
    {
     "ename": "NameError",
     "evalue": "name 'BMJUA' is not defined",
     "output_type": "error",
     "traceback": [
      "\u001b[1;31m---------------------------------------------------------------------------\u001b[0m",
      "\u001b[1;31mNameError\u001b[0m                                 Traceback (most recent call last)",
      "\u001b[1;32m<ipython-input-2-7fa6fbf22439>\u001b[0m in \u001b[0;36m<module>\u001b[1;34m\u001b[0m\n\u001b[0;32m     25\u001b[0m     plt.text(x=xs[i]+0.23, y=ys[i]+0.015, \n\u001b[0;32m     26\u001b[0m              \u001b[0ms\u001b[0m\u001b[1;33m=\u001b[0m\u001b[1;34m'{:0>4.1f}%'\u001b[0m\u001b[1;33m.\u001b[0m\u001b[0mformat\u001b[0m\u001b[1;33m(\u001b[0m\u001b[0mys\u001b[0m\u001b[1;33m[\u001b[0m\u001b[0mi\u001b[0m\u001b[1;33m]\u001b[0m\u001b[1;33m*\u001b[0m\u001b[1;36m100\u001b[0m\u001b[1;33m)\u001b[0m\u001b[1;33m,\u001b[0m \u001b[1;31m## 넣을 스트링\u001b[0m\u001b[1;33m\u001b[0m\u001b[1;33m\u001b[0m\u001b[0m\n\u001b[1;32m---> 27\u001b[1;33m              \u001b[0mfontproperties\u001b[0m\u001b[1;33m=\u001b[0m\u001b[0mBMJUA\u001b[0m\u001b[1;33m,\u001b[0m \u001b[1;31m## 문자\u001b[0m\u001b[1;33m\u001b[0m\u001b[1;33m\u001b[0m\u001b[0m\n\u001b[0m\u001b[0;32m     28\u001b[0m              \u001b[0mfontsize\u001b[0m\u001b[1;33m=\u001b[0m\u001b[1;36m20\u001b[0m\u001b[1;33m,\u001b[0m\u001b[1;31m## 크기\u001b[0m\u001b[1;33m\u001b[0m\u001b[1;33m\u001b[0m\u001b[0m\n\u001b[0;32m     29\u001b[0m              \u001b[1;31m## 이유는 모르겠지만, fontsize를 fontproperties보다 먼저 설정하면 값이 안 먹힘\u001b[0m\u001b[1;33m\u001b[0m\u001b[1;33m\u001b[0m\u001b[1;33m\u001b[0m\u001b[0m\n",
      "\u001b[1;31mNameError\u001b[0m: name 'BMJUA' is not defined"
     ]
    },
    {
     "data": {
      "image/png": "[encoded data removed]",
      "text/plain": [
       "<Figure size 720x432 with 1 Axes>"
      ]
     },
     "metadata": {
      "needs_background": "light"
     },
     "output_type": "display_data"
    }
   ],
   "source": [
    "import matplotlib.pyplot as plt \n",
    "import numpy as np\n",
    "## normal분포로 나온 값을 그대로 plt.hist에 넣어줍니다. \n",
    "x = np.random.normal(0, 1, 100)\n",
    "\n",
    "plt.figure(figsize=(10, 6))\n",
    "## histogram의 경우 내가 값 리스트를 넣고, 입력한 bin 개수에 따라 알아서 분류해줌 \n",
    "## ys: y값, \n",
    "## xs: x 값\n",
    "## patches 일단, 필요없듬.\n",
    "ys, xs, patches = plt.hist(x, \n",
    "         bins=5, ## 몇 개의 바구니로 구분할 것인가. \n",
    "         density=True, ## ytick을 퍼센트비율로 표현해줌 \n",
    "         cumulative=False, ## 누적으로 표현하고 싶을 때는 True\n",
    "         histtype='bar',  ## 타입. or step으로 하면 모양이 바뀜.  \n",
    "         orientation='vertical', ## or horizontal\n",
    "         rwidth=0.8, ## 1.0일 경우, 꽉 채움 작아질수록 간격이 생김\n",
    "         color='hotpink', ## bar 색깔\n",
    "        )\n",
    "\n",
    "## figure에 bar의 개별 퍼센트를 보여주고 싶을 때. \n",
    "for i in range(0, len(ys)):\n",
    "    ## 앞에서 plt.hist 가 리턴하는 값이 bar의 x, y좌표이기 때문에 \n",
    "    ## 이 값을 이용해서 글자를 어디에 넣을지 결정해줌. \n",
    "    plt.text(x=xs[i]+0.23, y=ys[i]+0.015, \n",
    "             s='{:0>4.1f}%'.format(ys[i]*100), ## 넣을 스트링\n",
    "             #fontproperties=BMJUA, ## 문자 \n",
    "             fontsize=20,## 크기 \n",
    "             ## 이유는 모르겠지만, fontsize를 fontproperties보다 먼저 설정하면 값이 안 먹힘\n",
    "             color='red',)\n",
    "y_min, y_max = plt.ylim() ## 글자가 안 보이는 경우가 있어서, 위의 길이를 조금 늘려줌 \n",
    "plt.ylim(y_min, y_max+0.05)\n",
    "\n",
    "plt.yticks([])## text로 표시하고 있기 때문에 이 부분은 삭제해줌 \n",
    "## xticks을 변경해줌 \n",
    "plt.xticks([(xs[i]+xs[i+1])/2 for i in range(0, len(xs)-1)], \n",
    "           [\"{:.1f} ~ {:.1f}\".format(xs[i], xs[i+1]) for i in range(0, len(xs)-1)])\n",
    "plt.savefig('./images/plt_histogram.svg')\n",
    "plt.show()"
   ]
  },
  {
   "cell_type": "code",
   "execution_count": null,
   "metadata": {},
   "outputs": [],
   "source": []
  }
 ],
 "metadata": {
  "kernelspec": {
   "display_name": "Python 3",
   "language": "python",
   "name": "python3"
  },
  "language_info": {
   "codemirror_mode": {
    "name": "ipython",
    "version": 3
   },
   "file_extension": ".py",
   "mimetype": "text/x-python",
   "name": "python",
   "nbconvert_exporter": "python",
   "pygments_lexer": "ipython3",
   "version": "3.7.6"
  }
 },
 "nbformat": 4,
 "nbformat_minor": 4
}
