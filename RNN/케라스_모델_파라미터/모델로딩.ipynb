{
 "cells": [
  {
   "cell_type": "markdown",
   "metadata": {},
   "source": [
    "# 모델 로딩 \n",
    "* 기존에 생성한 모델을 재사용하기 위해서 로딩한다. \n",
    "\n",
    "# verbose\n",
    "* model.fit과 predict 에서 사용하는 파라미터 "
   ]
  },
  {
   "cell_type": "markdown",
   "metadata": {},
   "source": [
    "# Earlystopping\n",
    "* 어느 정도 결과값이 나오게 되면 멈추게 하는 기능 \n",
    "* model.fit에서 사용 "
   ]
  },
  {
   "cell_type": "markdown",
   "metadata": {},
   "source": [
    "## 1. 데이터"
   ]
  },
  {
   "cell_type": "code",
   "execution_count": 1,
   "metadata": {},
   "outputs": [],
   "source": [
    "import numpy as np"
   ]
  },
  {
   "cell_type": "code",
   "execution_count": 2,
   "metadata": {},
   "outputs": [
    {
     "name": "stdout",
     "output_type": "stream",
     "text": [
      "x_train.shape :  (3, 5, 1)\n",
      "y_train.shape :  (3,)\n"
     ]
    }
   ],
   "source": [
    "x_train = np.array([[1,2,3,4,5], [2,3,4,5,6], [3,4,5,6,7]])\n",
    "y_train = np.array([6,7,8])\n",
    "x_train = x_train.reshape(x_train.shape[0], x_train.shape[1], 1)\n",
    "print(\"x_train.shape : \", x_train.shape) \n",
    "print(\"y_train.shape : \", y_train.shape) "
   ]
  },
  {
   "cell_type": "markdown",
   "metadata": {},
   "source": [
    "## 2. 모델 구성"
   ]
  },
  {
   "cell_type": "code",
   "execution_count": 5,
   "metadata": {},
   "outputs": [],
   "source": [
    "from tensorflow.keras.models import load_model\n",
    "from tensorflow.keras.layers import Dense"
   ]
  },
  {
   "cell_type": "markdown",
   "metadata": {},
   "source": [
    "* 기존에 존재하는 모델을 로딩해서 사용한다. \n",
    "* 새로운 이름 추가시 유일한 이름을 사용해야 한다."
   ]
  },
  {
   "cell_type": "code",
   "execution_count": 12,
   "metadata": {},
   "outputs": [
    {
     "name": "stdout",
     "output_type": "stream",
     "text": [
      "WARNING:tensorflow:No training configuration found in save file: the model was *not* compiled. Compile it manually.\n",
      "Model: \"sequential\"\n",
      "_________________________________________________________________\n",
      "Layer (type)                 Output Shape              Param #   \n",
      "=================================================================\n",
      "lstm (LSTM)                  (None, 7)                 252       \n",
      "_________________________________________________________________\n",
      "dense (Dense)                (None, 4)                 32        \n",
      "_________________________________________________________________\n",
      "dense_1 (Dense)              (None, 1)                 5         \n",
      "_________________________________________________________________\n",
      "dense_2 (Dense)              (None, 1)                 2         \n",
      "=================================================================\n",
      "Total params: 291\n",
      "Trainable params: 291\n",
      "Non-trainable params: 0\n",
      "_________________________________________________________________\n"
     ]
    }
   ],
   "source": [
    "model = load_model(\"savetest01.h5\")\n",
    "model.add(Dense(1, name='dense_2'))\n",
    "model.summary()"
   ]
  },
  {
   "cell_type": "markdown",
   "metadata": {},
   "source": [
    "## 3. 훈련\n",
    "* loss : 사용할 loss 함수 \n",
    "* metrics : 사용할 측정 방식 \n",
    "    - mes : mean squared error\n",
    "    - accuracy : 정확도\n",
    "    - mae : mean absolute error \n",
    "* verbose : 훈련하는 과정을 보일것이지 결정 \n",
    "    - 0 : 보이지 않음\n",
    "    - 1 : 과정을 보여줌 \n",
    "    - 2 : 과정을 간단히 보여줌 "
   ]
  },
  {
   "cell_type": "code",
   "execution_count": 13,
   "metadata": {},
   "outputs": [],
   "source": [
    "model.compile(loss='mse', optimizer='adam', metrics=['mse'])"
   ]
  },
  {
   "cell_type": "code",
   "execution_count": 14,
   "metadata": {},
   "outputs": [],
   "source": [
    "from tensorflow.keras.callbacks import EarlyStopping, TensorBoard"
   ]
  },
  {
   "cell_type": "markdown",
   "metadata": {},
   "source": [
    "#### EarlyStopping 은 실무에서 많이 사용\n",
    "* monitor는 loss 사용 \n",
    "* patience=10 : 성능이 증가하지 않는 epoch이 10회이상 반복되면 중지 \n",
    "* mode='min' : monitor의 loss 값이 min값, 즉 최솟값일 때 적용"
   ]
  },
  {
   "cell_type": "code",
   "execution_count": 15,
   "metadata": {},
   "outputs": [],
   "source": [
    "tb_hist = TensorBoard(log_dir='./graph', histogram_freq=0,write_graph=True, write_images=True)"
   ]
  },
  {
   "cell_type": "code",
   "execution_count": 16,
   "metadata": {},
   "outputs": [],
   "source": [
    "early_stopping = EarlyStopping(monitor='loss', patience=10, mode='min')"
   ]
  },
  {
   "cell_type": "code",
   "execution_count": 17,
   "metadata": {},
   "outputs": [
    {
     "name": "stdout",
     "output_type": "stream",
     "text": [
      "Train on 3 samples\n",
      "Epoch 1/1000\n",
      "3/3 - 1s - loss: 50.8894 - mse: 50.8894\n",
      "Epoch 2/1000\n",
      "3/3 - 0s - loss: 50.5882 - mse: 50.5882\n",
      "Epoch 3/1000\n",
      "3/3 - 0s - loss: 50.3150 - mse: 50.3150\n",
      "Epoch 4/1000\n",
      "3/3 - 0s - loss: 50.0140 - mse: 50.0140\n",
      "Epoch 5/1000\n",
      "3/3 - 0s - loss: 49.7459 - mse: 49.7459\n",
      "Epoch 6/1000\n",
      "3/3 - 0s - loss: 49.4807 - mse: 49.4807\n",
      "Epoch 7/1000\n",
      "3/3 - 0s - loss: 49.2330 - mse: 49.2330\n",
      "Epoch 8/1000\n",
      "3/3 - 0s - loss: 48.9497 - mse: 48.9496\n",
      "Epoch 9/1000\n",
      "3/3 - 0s - loss: 48.6853 - mse: 48.6853\n",
      "Epoch 10/1000\n",
      "3/3 - 0s - loss: 48.4106 - mse: 48.4106\n",
      "Epoch 11/1000\n",
      "3/3 - 0s - loss: 48.1515 - mse: 48.1515\n",
      "Epoch 12/1000\n",
      "3/3 - 0s - loss: 47.8365 - mse: 47.8365\n",
      "Epoch 13/1000\n",
      "3/3 - 0s - loss: 47.5284 - mse: 47.5284\n",
      "Epoch 14/1000\n",
      "3/3 - 0s - loss: 47.1426 - mse: 47.1426\n",
      "Epoch 15/1000\n",
      "3/3 - 0s - loss: 46.8198 - mse: 46.8198\n",
      "Epoch 16/1000\n",
      "3/3 - 0s - loss: 46.4280 - mse: 46.4280\n",
      "Epoch 17/1000\n",
      "3/3 - 0s - loss: 45.9756 - mse: 45.9756\n",
      "Epoch 18/1000\n",
      "3/3 - 0s - loss: 45.5739 - mse: 45.5739\n",
      "Epoch 19/1000\n",
      "3/3 - 0s - loss: 45.0574 - mse: 45.0574\n",
      "Epoch 20/1000\n",
      "3/3 - 0s - loss: 44.5207 - mse: 44.5207\n",
      "Epoch 21/1000\n",
      "3/3 - 0s - loss: 43.9548 - mse: 43.9548\n",
      "Epoch 22/1000\n",
      "3/3 - 0s - loss: 43.2157 - mse: 43.2157\n",
      "Epoch 23/1000\n",
      "3/3 - 0s - loss: 42.5436 - mse: 42.5436\n",
      "Epoch 24/1000\n",
      "3/3 - 0s - loss: 41.7307 - mse: 41.7307\n",
      "Epoch 25/1000\n",
      "3/3 - 0s - loss: 40.9681 - mse: 40.9681\n",
      "Epoch 26/1000\n",
      "3/3 - 0s - loss: 39.8939 - mse: 39.8939\n",
      "Epoch 27/1000\n",
      "3/3 - 0s - loss: 38.9575 - mse: 38.9575\n",
      "Epoch 28/1000\n",
      "3/3 - 0s - loss: 37.6768 - mse: 37.6768\n",
      "Epoch 29/1000\n",
      "3/3 - 0s - loss: 36.4492 - mse: 36.4492\n",
      "Epoch 30/1000\n",
      "3/3 - 0s - loss: 35.0190 - mse: 35.0190\n",
      "Epoch 31/1000\n",
      "3/3 - 0s - loss: 33.0626 - mse: 33.0626\n",
      "Epoch 32/1000\n",
      "3/3 - 0s - loss: 31.4181 - mse: 31.4181\n",
      "Epoch 33/1000\n",
      "3/3 - 0s - loss: 29.2580 - mse: 29.2580\n",
      "Epoch 34/1000\n",
      "3/3 - 0s - loss: 26.8009 - mse: 26.8009\n",
      "Epoch 35/1000\n",
      "3/3 - 0s - loss: 23.7726 - mse: 23.7726\n",
      "Epoch 36/1000\n",
      "3/3 - 0s - loss: 20.8808 - mse: 20.8808\n",
      "Epoch 37/1000\n",
      "3/3 - 0s - loss: 16.8086 - mse: 16.8086\n",
      "Epoch 38/1000\n",
      "3/3 - 0s - loss: 13.1448 - mse: 13.1448\n",
      "Epoch 39/1000\n",
      "3/3 - 0s - loss: 9.5813 - mse: 9.5813\n",
      "Epoch 40/1000\n",
      "3/3 - 0s - loss: 5.8832 - mse: 5.8832\n",
      "Epoch 41/1000\n",
      "3/3 - 0s - loss: 3.4576 - mse: 3.4576\n",
      "Epoch 42/1000\n",
      "3/3 - 0s - loss: 2.5448 - mse: 2.5448\n",
      "Epoch 43/1000\n",
      "3/3 - 0s - loss: 1.8167 - mse: 1.8167\n",
      "Epoch 44/1000\n",
      "3/3 - 0s - loss: 2.2602 - mse: 2.2602\n",
      "Epoch 45/1000\n",
      "3/3 - 0s - loss: 2.6856 - mse: 2.6856\n",
      "Epoch 46/1000\n",
      "3/3 - 0s - loss: 2.6861 - mse: 2.6861\n",
      "Epoch 47/1000\n",
      "3/3 - 0s - loss: 2.4054 - mse: 2.4054\n",
      "Epoch 48/1000\n",
      "3/3 - 0s - loss: 2.1832 - mse: 2.1832\n",
      "Epoch 49/1000\n",
      "3/3 - 0s - loss: 2.0727 - mse: 2.0727\n",
      "Epoch 50/1000\n",
      "3/3 - 0s - loss: 1.8768 - mse: 1.8768\n",
      "Epoch 51/1000\n",
      "3/3 - 0s - loss: 1.8899 - mse: 1.8899\n",
      "Epoch 52/1000\n",
      "3/3 - 0s - loss: 1.8534 - mse: 1.8534\n",
      "Epoch 53/1000\n",
      "3/3 - 0s - loss: 1.9601 - mse: 1.9601\n"
     ]
    }
   ],
   "source": [
    "hist = model.fit(x_train, y_train, epochs=1000, batch_size=1, verbose=2, callbacks=[early_stopping, tb_hist])"
   ]
  },
  {
   "cell_type": "markdown",
   "metadata": {},
   "source": [
    "## 4. 학습과정확인"
   ]
  },
  {
   "cell_type": "code",
   "execution_count": 18,
   "metadata": {},
   "outputs": [
    {
     "data": {
      "image/png": "[encoded data removed]",
      "text/plain": [
       "<Figure size 432x288 with 1 Axes>"
      ]
     },
     "metadata": {
      "needs_background": "light"
     },
     "output_type": "display_data"
    }
   ],
   "source": [
    "import matplotlib.pyplot as plt\n",
    "# print(hist.history)\n",
    "plt.plot(hist.history['loss'])\n",
    "plt.plot(hist.history['mse'])\n",
    "# #plt.ylim(0.0, 1.5)\n",
    "plt.ylabel('loss')\n",
    "plt.xlabel('epoch')\n",
    "plt.legend(['loss', 'mse'], loc='upper right')\n",
    "plt.show()"
   ]
  },
  {
   "cell_type": "markdown",
   "metadata": {},
   "source": [
    "## 5. 평가 및 예측\n",
    "* 예측값 데이터로 사용하기 위해 모양을 맞춰줘야 한다."
   ]
  },
  {
   "cell_type": "code",
   "execution_count": 19,
   "metadata": {},
   "outputs": [
    {
     "name": "stdout",
     "output_type": "stream",
     "text": [
      "(1, 5)\n",
      "(1, 5, 1)\n"
     ]
    }
   ],
   "source": [
    "x_predict = np.array([[4,5,6,7,8]])\n",
    "print(x_predict.shape) #(1, 5)\n",
    "x_predict = x_predict.reshape(x_predict.shape[0], x_predict.shape[1], 1)\n",
    "print(x_predict.shape)"
   ]
  },
  {
   "cell_type": "code",
   "execution_count": 20,
   "metadata": {},
   "outputs": [
    {
     "name": "stdout",
     "output_type": "stream",
     "text": [
      "예측값 :  [[11.555204]]\n"
     ]
    }
   ],
   "source": [
    "y_predict = model.predict(x_predict)\n",
    "print(\"예측값 : \", y_predict)"
   ]
  },
  {
   "cell_type": "code",
   "execution_count": null,
   "metadata": {},
   "outputs": [],
   "source": []
  }
 ],
 "metadata": {
  "kernelspec": {
   "display_name": "Python 3",
   "language": "python",
   "name": "python3"
  },
  "language_info": {
   "codemirror_mode": {
    "name": "ipython",
    "version": 3
   },
   "file_extension": ".py",
   "mimetype": "text/x-python",
   "name": "python",
   "nbconvert_exporter": "python",
   "pygments_lexer": "ipython3",
   "version": "3.7.6"
  }
 },
 "nbformat": 4,
 "nbformat_minor": 4
}
