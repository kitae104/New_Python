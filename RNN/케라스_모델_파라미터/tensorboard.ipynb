{
 "cells": [
  {
   "cell_type": "markdown",
   "metadata": {},
   "source": [
    "# Tensorboard\n",
    "* tensorboard Test"
   ]
  },
  {
   "cell_type": "markdown",
   "metadata": {},
   "source": [
    "# Earlystopping\n",
    "* 어느 정도 결과값이 나오게 되면 멈추게 하는 기능 \n",
    "* model.fit에서 사용 "
   ]
  },
  {
   "cell_type": "markdown",
   "metadata": {},
   "source": [
    "## 1. 데이터"
   ]
  },
  {
   "cell_type": "code",
   "execution_count": 1,
   "metadata": {},
   "outputs": [],
   "source": [
    "import numpy as np"
   ]
  },
  {
   "cell_type": "code",
   "execution_count": 2,
   "metadata": {},
   "outputs": [
    {
     "name": "stdout",
     "output_type": "stream",
     "text": [
      "x_train.shape :  (3, 5, 1)\n",
      "y_train.shape :  (3,)\n"
     ]
    }
   ],
   "source": [
    "x_train = np.array([[1,2,3,4,5], [2,3,4,5,6], [3,4,5,6,7]])\n",
    "y_train = np.array([6,7,8])\n",
    "x_train = x_train.reshape(x_train.shape[0], x_train.shape[1], 1)\n",
    "print(\"x_train.shape : \", x_train.shape) \n",
    "print(\"y_train.shape : \", y_train.shape) "
   ]
  },
  {
   "cell_type": "markdown",
   "metadata": {},
   "source": [
    "## 2. 모델 구성"
   ]
  },
  {
   "cell_type": "code",
   "execution_count": 3,
   "metadata": {},
   "outputs": [],
   "source": [
    "from tensorflow.keras.models import Sequential\n",
    "from tensorflow.keras.layers import Dense, LSTM"
   ]
  },
  {
   "cell_type": "code",
   "execution_count": 4,
   "metadata": {},
   "outputs": [
    {
     "name": "stdout",
     "output_type": "stream",
     "text": [
      "Model: \"sequential\"\n",
      "_________________________________________________________________\n",
      "Layer (type)                 Output Shape              Param #   \n",
      "=================================================================\n",
      "lstm (LSTM)                  (None, 7)                 252       \n",
      "_________________________________________________________________\n",
      "dense (Dense)                (None, 4)                 32        \n",
      "_________________________________________________________________\n",
      "dense_1 (Dense)              (None, 1)                 5         \n",
      "=================================================================\n",
      "Total params: 289\n",
      "Trainable params: 289\n",
      "Non-trainable params: 0\n",
      "_________________________________________________________________\n"
     ]
    }
   ],
   "source": [
    "model = Sequential()\n",
    "model.add(LSTM(7, input_shape = (5, 1), activation ='relu'))\n",
    "model.add(Dense(4))\n",
    "model.add(Dense(1))\n",
    "model.summary()"
   ]
  },
  {
   "cell_type": "markdown",
   "metadata": {},
   "source": [
    "## 3. 훈련\n",
    "* loss : 사용할 loss 함수 \n",
    "* metrics : 사용할 측정 방식 \n",
    "    - mes : mean squared error\n",
    "    - accuracy : 정확도\n",
    "    - mae : mean absolute error \n",
    "* verbose : 훈련하는 과정을 보일것이지 결정 \n",
    "    - 0 : 보이지 않음\n",
    "    - 1 : 과정을 보여줌 \n",
    "    - 2 : 과정을 간단히 보여줌 "
   ]
  },
  {
   "cell_type": "code",
   "execution_count": 5,
   "metadata": {},
   "outputs": [],
   "source": [
    "model.compile(loss='mse', optimizer='adam', metrics=['mse'])"
   ]
  },
  {
   "cell_type": "code",
   "execution_count": 6,
   "metadata": {},
   "outputs": [],
   "source": [
    "from tensorflow.keras.callbacks import EarlyStopping, TensorBoard"
   ]
  },
  {
   "cell_type": "markdown",
   "metadata": {},
   "source": [
    "#### EarlyStopping 은 실무에서 많이 사용\n",
    "* monitor는 loss 사용 \n",
    "* patience=10 : 성능이 증가하지 않는 epoch이 10회이상 반복되면 중지 \n",
    "* mode='min' : monitor의 loss 값이 min값, 즉 최솟값일 때 적용"
   ]
  },
  {
   "cell_type": "code",
   "execution_count": 10,
   "metadata": {},
   "outputs": [],
   "source": [
    "tb_hist = TensorBoard(\n",
    "log_dir='.\\\\graph', histogram_freq=0,\n",
    "write_graph=True, write_images=True)"
   ]
  },
  {
   "cell_type": "code",
   "execution_count": 11,
   "metadata": {},
   "outputs": [],
   "source": [
    "early_stopping = EarlyStopping(monitor='loss', patience=10, mode='min')"
   ]
  },
  {
   "cell_type": "code",
   "execution_count": 12,
   "metadata": {},
   "outputs": [
    {
     "name": "stdout",
     "output_type": "stream",
     "text": [
      "Train on 3 samples\n",
      "Epoch 1/1000\n",
      "3/3 - 1s - loss: 78.5055 - mse: 78.5055\n",
      "Epoch 2/1000\n",
      "3/3 - 0s - loss: 76.3664 - mse: 76.3664\n",
      "Epoch 3/1000\n",
      "3/3 - 0s - loss: 74.4193 - mse: 74.4193\n",
      "Epoch 4/1000\n",
      "3/3 - 0s - loss: 72.6463 - mse: 72.6463\n",
      "Epoch 5/1000\n",
      "3/3 - 0s - loss: 71.1188 - mse: 71.1188\n",
      "Epoch 6/1000\n",
      "3/3 - 0s - loss: 69.5328 - mse: 69.5328\n",
      "Epoch 7/1000\n",
      "3/3 - 0s - loss: 68.0011 - mse: 68.0011\n",
      "Epoch 8/1000\n",
      "3/3 - 0s - loss: 66.7096 - mse: 66.7096\n",
      "Epoch 9/1000\n",
      "3/3 - 0s - loss: 65.5150 - mse: 65.5150\n",
      "Epoch 10/1000\n",
      "3/3 - 0s - loss: 64.4097 - mse: 64.4097\n",
      "Epoch 11/1000\n",
      "3/3 - 0s - loss: 63.4548 - mse: 63.4548\n",
      "Epoch 12/1000\n",
      "3/3 - 0s - loss: 62.3834 - mse: 62.3834\n",
      "Epoch 13/1000\n",
      "3/3 - 0s - loss: 61.5551 - mse: 61.5551\n",
      "Epoch 14/1000\n",
      "3/3 - 0s - loss: 60.7968 - mse: 60.7968\n",
      "Epoch 15/1000\n",
      "3/3 - 0s - loss: 59.9295 - mse: 59.9295\n",
      "Epoch 16/1000\n",
      "3/3 - 0s - loss: 59.2497 - mse: 59.2497\n",
      "Epoch 17/1000\n",
      "3/3 - 0s - loss: 58.6629 - mse: 58.6629\n",
      "Epoch 18/1000\n",
      "3/3 - 0s - loss: 57.9273 - mse: 57.9273\n",
      "Epoch 19/1000\n",
      "3/3 - 0s - loss: 57.4140 - mse: 57.4140\n",
      "Epoch 20/1000\n",
      "3/3 - 0s - loss: 56.8678 - mse: 56.8678\n",
      "Epoch 21/1000\n",
      "3/3 - 0s - loss: 56.2599 - mse: 56.2599\n",
      "Epoch 22/1000\n",
      "3/3 - 0s - loss: 55.8442 - mse: 55.8442\n",
      "Epoch 23/1000\n",
      "3/3 - 0s - loss: 55.3006 - mse: 55.3006\n",
      "Epoch 24/1000\n",
      "3/3 - 0s - loss: 54.9109 - mse: 54.9109\n",
      "Epoch 25/1000\n",
      "3/3 - 0s - loss: 54.4813 - mse: 54.4813\n",
      "Epoch 26/1000\n",
      "3/3 - 0s - loss: 54.0475 - mse: 54.0475\n",
      "Epoch 27/1000\n",
      "3/3 - 0s - loss: 53.6519 - mse: 53.6519\n",
      "Epoch 28/1000\n",
      "3/3 - 0s - loss: 53.3033 - mse: 53.3033\n",
      "Epoch 29/1000\n",
      "3/3 - 0s - loss: 52.9841 - mse: 52.9841\n",
      "Epoch 30/1000\n",
      "3/3 - 0s - loss: 52.6063 - mse: 52.6063\n",
      "Epoch 31/1000\n",
      "3/3 - 0s - loss: 52.2723 - mse: 52.2723\n",
      "Epoch 32/1000\n",
      "3/3 - 0s - loss: 51.9644 - mse: 51.9644\n",
      "Epoch 33/1000\n",
      "3/3 - 0s - loss: 51.6772 - mse: 51.6772\n",
      "Epoch 34/1000\n",
      "3/3 - 0s - loss: 51.4123 - mse: 51.4123\n",
      "Epoch 35/1000\n",
      "3/3 - 0s - loss: 51.0976 - mse: 51.0976\n",
      "Epoch 36/1000\n",
      "3/3 - 0s - loss: 50.8287 - mse: 50.8287\n",
      "Epoch 37/1000\n",
      "3/3 - 0s - loss: 50.5840 - mse: 50.5840\n",
      "Epoch 38/1000\n",
      "3/3 - 0s - loss: 50.3265 - mse: 50.3265\n",
      "Epoch 39/1000\n",
      "3/3 - 0s - loss: 50.0855 - mse: 50.0855\n",
      "Epoch 40/1000\n",
      "3/3 - 0s - loss: 49.8349 - mse: 49.8349\n",
      "Epoch 41/1000\n",
      "3/3 - 0s - loss: 49.6025 - mse: 49.6025\n",
      "Epoch 42/1000\n",
      "3/3 - 0s - loss: 49.3639 - mse: 49.3639\n",
      "Epoch 43/1000\n",
      "3/3 - 0s - loss: 49.1409 - mse: 49.1409\n",
      "Epoch 44/1000\n",
      "3/3 - 0s - loss: 48.9560 - mse: 48.9560\n",
      "Epoch 45/1000\n",
      "3/3 - 0s - loss: 48.7220 - mse: 48.7220\n",
      "Epoch 46/1000\n",
      "3/3 - 0s - loss: 48.5294 - mse: 48.5294\n",
      "Epoch 47/1000\n",
      "3/3 - 0s - loss: 48.3425 - mse: 48.3425\n",
      "Epoch 48/1000\n",
      "3/3 - 0s - loss: 48.1480 - mse: 48.1480\n",
      "Epoch 49/1000\n",
      "3/3 - 0s - loss: 47.9422 - mse: 47.9422\n",
      "Epoch 50/1000\n",
      "3/3 - 0s - loss: 47.7655 - mse: 47.7655\n",
      "Epoch 51/1000\n",
      "3/3 - 0s - loss: 47.5938 - mse: 47.5938\n",
      "Epoch 52/1000\n",
      "3/3 - 0s - loss: 47.4056 - mse: 47.4056\n",
      "Epoch 53/1000\n",
      "3/3 - 0s - loss: 47.2310 - mse: 47.2310\n",
      "Epoch 54/1000\n",
      "3/3 - 0s - loss: 47.0568 - mse: 47.0568\n",
      "Epoch 55/1000\n",
      "3/3 - 0s - loss: 46.9051 - mse: 46.9051\n",
      "Epoch 56/1000\n",
      "3/3 - 0s - loss: 46.7434 - mse: 46.7434\n",
      "Epoch 57/1000\n",
      "3/3 - 0s - loss: 46.5667 - mse: 46.5667\n",
      "Epoch 58/1000\n",
      "3/3 - 0s - loss: 46.4086 - mse: 46.4086\n",
      "Epoch 59/1000\n",
      "3/3 - 0s - loss: 46.2667 - mse: 46.2667\n",
      "Epoch 60/1000\n",
      "3/3 - 0s - loss: 46.1003 - mse: 46.1003\n",
      "Epoch 61/1000\n",
      "3/3 - 0s - loss: 45.9465 - mse: 45.9465\n",
      "Epoch 62/1000\n",
      "3/3 - 0s - loss: 45.8114 - mse: 45.8114\n",
      "Epoch 63/1000\n",
      "3/3 - 0s - loss: 45.6622 - mse: 45.6622\n",
      "Epoch 64/1000\n",
      "3/3 - 0s - loss: 45.5198 - mse: 45.5198\n",
      "Epoch 65/1000\n",
      "3/3 - 0s - loss: 45.3641 - mse: 45.3641\n",
      "Epoch 66/1000\n",
      "3/3 - 0s - loss: 45.2199 - mse: 45.2199\n",
      "Epoch 67/1000\n",
      "3/3 - 0s - loss: 45.0912 - mse: 45.0912\n",
      "Epoch 68/1000\n",
      "3/3 - 0s - loss: 44.9507 - mse: 44.9507\n",
      "Epoch 69/1000\n",
      "3/3 - 0s - loss: 44.8047 - mse: 44.8047\n",
      "Epoch 70/1000\n",
      "3/3 - 0s - loss: 44.6751 - mse: 44.6751\n",
      "Epoch 71/1000\n",
      "3/3 - 0s - loss: 44.5316 - mse: 44.5316\n",
      "Epoch 72/1000\n",
      "3/3 - 0s - loss: 44.4023 - mse: 44.4023\n",
      "Epoch 73/1000\n",
      "3/3 - 0s - loss: 44.2661 - mse: 44.2661\n",
      "Epoch 74/1000\n",
      "3/3 - 0s - loss: 44.1211 - mse: 44.1211\n",
      "Epoch 75/1000\n",
      "3/3 - 0s - loss: 43.9977 - mse: 43.9977\n",
      "Epoch 76/1000\n",
      "3/3 - 0s - loss: 43.8655 - mse: 43.8655\n",
      "Epoch 77/1000\n",
      "3/3 - 0s - loss: 43.7267 - mse: 43.7267\n",
      "Epoch 78/1000\n",
      "3/3 - 0s - loss: 43.5866 - mse: 43.5866\n",
      "Epoch 79/1000\n",
      "3/3 - 0s - loss: 43.4629 - mse: 43.4629\n",
      "Epoch 80/1000\n",
      "3/3 - 0s - loss: 43.3178 - mse: 43.3177\n",
      "Epoch 81/1000\n",
      "3/3 - 0s - loss: 43.1858 - mse: 43.1858\n",
      "Epoch 82/1000\n",
      "3/3 - 0s - loss: 43.0488 - mse: 43.0488\n",
      "Epoch 83/1000\n",
      "3/3 - 0s - loss: 42.9281 - mse: 42.9281\n",
      "Epoch 84/1000\n",
      "3/3 - 0s - loss: 42.7815 - mse: 42.7815\n",
      "Epoch 85/1000\n",
      "3/3 - 0s - loss: 42.6464 - mse: 42.6464\n",
      "Epoch 86/1000\n",
      "3/3 - 0s - loss: 42.5097 - mse: 42.5097\n",
      "Epoch 87/1000\n",
      "3/3 - 0s - loss: 42.3729 - mse: 42.3730\n",
      "Epoch 88/1000\n",
      "3/3 - 0s - loss: 42.2456 - mse: 42.2456\n",
      "Epoch 89/1000\n",
      "3/3 - 0s - loss: 42.1007 - mse: 42.1007\n",
      "Epoch 90/1000\n",
      "3/3 - 0s - loss: 41.9531 - mse: 41.9531\n",
      "Epoch 91/1000\n",
      "3/3 - 0s - loss: 41.8088 - mse: 41.8088\n",
      "Epoch 92/1000\n",
      "3/3 - 0s - loss: 41.6779 - mse: 41.6779\n",
      "Epoch 93/1000\n",
      "3/3 - 0s - loss: 41.5318 - mse: 41.5318\n",
      "Epoch 94/1000\n",
      "3/3 - 0s - loss: 41.3741 - mse: 41.3741\n",
      "Epoch 95/1000\n",
      "3/3 - 0s - loss: 41.2390 - mse: 41.2390\n",
      "Epoch 96/1000\n",
      "3/3 - 0s - loss: 41.0804 - mse: 41.0804\n",
      "Epoch 97/1000\n",
      "3/3 - 0s - loss: 40.9289 - mse: 40.9289\n",
      "Epoch 98/1000\n",
      "3/3 - 0s - loss: 40.7820 - mse: 40.7820\n",
      "Epoch 99/1000\n",
      "3/3 - 0s - loss: 40.6232 - mse: 40.6232\n",
      "Epoch 100/1000\n",
      "3/3 - 0s - loss: 40.4543 - mse: 40.4543\n",
      "Epoch 101/1000\n",
      "3/3 - 0s - loss: 40.3003 - mse: 40.3003\n",
      "Epoch 102/1000\n",
      "3/3 - 0s - loss: 40.1241 - mse: 40.1241\n",
      "Epoch 103/1000\n",
      "3/3 - 0s - loss: 39.9636 - mse: 39.9636\n",
      "Epoch 104/1000\n",
      "3/3 - 0s - loss: 39.7881 - mse: 39.7881\n",
      "Epoch 105/1000\n",
      "3/3 - 0s - loss: 39.6086 - mse: 39.6086\n",
      "Epoch 106/1000\n",
      "3/3 - 0s - loss: 39.4094 - mse: 39.4094\n",
      "Epoch 107/1000\n",
      "3/3 - 0s - loss: 39.2404 - mse: 39.2404\n",
      "Epoch 108/1000\n",
      "3/3 - 0s - loss: 39.0329 - mse: 39.0329\n",
      "Epoch 109/1000\n",
      "3/3 - 0s - loss: 38.8349 - mse: 38.8349\n",
      "Epoch 110/1000\n",
      "3/3 - 0s - loss: 38.6300 - mse: 38.6300\n",
      "Epoch 111/1000\n",
      "3/3 - 0s - loss: 38.4319 - mse: 38.4319\n",
      "Epoch 112/1000\n",
      "3/3 - 0s - loss: 38.2149 - mse: 38.2149\n",
      "Epoch 113/1000\n",
      "3/3 - 0s - loss: 37.9618 - mse: 37.9618\n",
      "Epoch 114/1000\n",
      "3/3 - 0s - loss: 37.7171 - mse: 37.7171\n",
      "Epoch 115/1000\n",
      "3/3 - 0s - loss: 37.4811 - mse: 37.4811\n",
      "Epoch 116/1000\n",
      "3/3 - 0s - loss: 37.2371 - mse: 37.2371\n",
      "Epoch 117/1000\n",
      "3/3 - 0s - loss: 36.9468 - mse: 36.9468\n",
      "Epoch 118/1000\n",
      "3/3 - 0s - loss: 36.6603 - mse: 36.6603\n",
      "Epoch 119/1000\n",
      "3/3 - 0s - loss: 36.3550 - mse: 36.3549\n",
      "Epoch 120/1000\n",
      "3/3 - 0s - loss: 36.0429 - mse: 36.0429\n",
      "Epoch 121/1000\n",
      "3/3 - 0s - loss: 35.7598 - mse: 35.7598\n",
      "Epoch 122/1000\n",
      "3/3 - 0s - loss: 35.3628 - mse: 35.3628\n",
      "Epoch 123/1000\n",
      "3/3 - 0s - loss: 35.0294 - mse: 35.0294\n",
      "Epoch 124/1000\n",
      "3/3 - 0s - loss: 34.6085 - mse: 34.6085\n",
      "Epoch 125/1000\n",
      "3/3 - 0s - loss: 34.2001 - mse: 34.2001\n",
      "Epoch 126/1000\n",
      "3/3 - 0s - loss: 33.7231 - mse: 33.7231\n",
      "Epoch 127/1000\n",
      "3/3 - 0s - loss: 33.2374 - mse: 33.2374\n",
      "Epoch 128/1000\n",
      "3/3 - 0s - loss: 32.6567 - mse: 32.6567\n",
      "Epoch 129/1000\n",
      "3/3 - 0s - loss: 32.1944 - mse: 32.1944\n",
      "Epoch 130/1000\n",
      "3/3 - 0s - loss: 31.5748 - mse: 31.5748\n",
      "Epoch 131/1000\n",
      "3/3 - 0s - loss: 30.8773 - mse: 30.8773\n",
      "Epoch 132/1000\n",
      "3/3 - 0s - loss: 30.1104 - mse: 30.1104\n",
      "Epoch 133/1000\n",
      "3/3 - 0s - loss: 29.4001 - mse: 29.4001\n",
      "Epoch 134/1000\n",
      "3/3 - 0s - loss: 28.5362 - mse: 28.5362\n",
      "Epoch 135/1000\n",
      "3/3 - 0s - loss: 27.5336 - mse: 27.5336\n",
      "Epoch 136/1000\n",
      "3/3 - 0s - loss: 26.4712 - mse: 26.4712\n",
      "Epoch 137/1000\n",
      "3/3 - 0s - loss: 25.5109 - mse: 25.5109\n",
      "Epoch 138/1000\n",
      "3/3 - 0s - loss: 24.2680 - mse: 24.2680\n",
      "Epoch 139/1000\n",
      "3/3 - 0s - loss: 22.8130 - mse: 22.8130\n",
      "Epoch 140/1000\n",
      "3/3 - 0s - loss: 21.3324 - mse: 21.3324\n",
      "Epoch 141/1000\n",
      "3/3 - 0s - loss: 19.9031 - mse: 19.9031\n",
      "Epoch 142/1000\n",
      "3/3 - 0s - loss: 18.0323 - mse: 18.0323\n",
      "Epoch 143/1000\n",
      "3/3 - 0s - loss: 16.3561 - mse: 16.3561\n",
      "Epoch 144/1000\n",
      "3/3 - 0s - loss: 14.2175 - mse: 14.2175\n",
      "Epoch 145/1000\n",
      "3/3 - 0s - loss: 12.4040 - mse: 12.4040\n",
      "Epoch 146/1000\n",
      "3/3 - 0s - loss: 10.1919 - mse: 10.1919\n",
      "Epoch 147/1000\n",
      "3/3 - 0s - loss: 8.4064 - mse: 8.4064\n",
      "Epoch 148/1000\n",
      "3/3 - 0s - loss: 6.2803 - mse: 6.2803\n",
      "Epoch 149/1000\n",
      "3/3 - 0s - loss: 4.7101 - mse: 4.7101\n",
      "Epoch 150/1000\n",
      "3/3 - 0s - loss: 3.1912 - mse: 3.1912\n",
      "Epoch 151/1000\n",
      "3/3 - 0s - loss: 2.0728 - mse: 2.0728\n"
     ]
    },
    {
     "name": "stdout",
     "output_type": "stream",
     "text": [
      "Epoch 152/1000\n",
      "3/3 - 0s - loss: 1.3280 - mse: 1.3280\n",
      "Epoch 153/1000\n",
      "3/3 - 0s - loss: 1.1735 - mse: 1.1735\n",
      "Epoch 154/1000\n",
      "3/3 - 0s - loss: 0.8388 - mse: 0.8388\n",
      "Epoch 155/1000\n",
      "3/3 - 0s - loss: 0.9246 - mse: 0.9246\n",
      "Epoch 156/1000\n",
      "3/3 - 0s - loss: 1.0657 - mse: 1.0657\n",
      "Epoch 157/1000\n",
      "3/3 - 0s - loss: 1.1036 - mse: 1.1036\n",
      "Epoch 158/1000\n",
      "3/3 - 0s - loss: 1.1269 - mse: 1.1269\n",
      "Epoch 159/1000\n",
      "3/3 - 0s - loss: 1.0954 - mse: 1.0954\n",
      "Epoch 160/1000\n",
      "3/3 - 0s - loss: 1.0470 - mse: 1.0470\n",
      "Epoch 161/1000\n",
      "3/3 - 0s - loss: 0.9507 - mse: 0.9507\n",
      "Epoch 162/1000\n",
      "3/3 - 0s - loss: 0.9321 - mse: 0.9321\n",
      "Epoch 163/1000\n",
      "3/3 - 0s - loss: 0.8992 - mse: 0.8992\n",
      "Epoch 164/1000\n",
      "3/3 - 0s - loss: 0.8862 - mse: 0.8862\n"
     ]
    }
   ],
   "source": [
    "hist = model.fit(x_train, y_train, epochs=1000, batch_size=1, verbose=2, callbacks=[early_stopping, tb_hist])"
   ]
  },
  {
   "cell_type": "markdown",
   "metadata": {},
   "source": [
    "## 4. 학습과정확인"
   ]
  },
  {
   "cell_type": "code",
   "execution_count": 13,
   "metadata": {},
   "outputs": [
    {
     "data": {
      "image/png": "[encoded data removed]",
      "text/plain": [
       "<Figure size 432x288 with 1 Axes>"
      ]
     },
     "metadata": {
      "needs_background": "light"
     },
     "output_type": "display_data"
    }
   ],
   "source": [
    "import matplotlib.pyplot as plt\n",
    "# print(hist.history)\n",
    "plt.plot(hist.history['loss'])\n",
    "plt.plot(hist.history['mse'])\n",
    "# #plt.ylim(0.0, 1.5)\n",
    "plt.ylabel('loss')\n",
    "plt.xlabel('epoch')\n",
    "plt.legend(['loss', 'mse'], loc='upper right')\n",
    "plt.show()"
   ]
  },
  {
   "cell_type": "markdown",
   "metadata": {},
   "source": [
    "## 5. 평가 및 예측\n",
    "* 예측값 데이터로 사용하기 위해 모양을 맞춰줘야 한다."
   ]
  },
  {
   "cell_type": "code",
   "execution_count": 14,
   "metadata": {},
   "outputs": [
    {
     "name": "stdout",
     "output_type": "stream",
     "text": [
      "(1, 5)\n",
      "(1, 5, 1)\n"
     ]
    }
   ],
   "source": [
    "x_predict = np.array([[4,5,6,7,8]])\n",
    "print(x_predict.shape) #(1, 5)\n",
    "x_predict = x_predict.reshape(x_predict.shape[0], x_predict.shape[1], 1)\n",
    "print(x_predict.shape)"
   ]
  },
  {
   "cell_type": "code",
   "execution_count": 15,
   "metadata": {},
   "outputs": [
    {
     "name": "stdout",
     "output_type": "stream",
     "text": [
      "예측값 :  [[11.092284]]\n"
     ]
    }
   ],
   "source": [
    "y_predict = model.predict(x_predict)\n",
    "print(\"예측값 : \", y_predict)"
   ]
  },
  {
   "cell_type": "code",
   "execution_count": null,
   "metadata": {},
   "outputs": [],
   "source": []
  }
 ],
 "metadata": {
  "kernelspec": {
   "display_name": "Python 3",
   "language": "python",
   "name": "python3"
  },
  "language_info": {
   "codemirror_mode": {
    "name": "ipython",
    "version": 3
   },
   "file_extension": ".py",
   "mimetype": "text/x-python",
   "name": "python",
   "nbconvert_exporter": "python",
   "pygments_lexer": "ipython3",
   "version": "3.7.6"
  }
 },
 "nbformat": 4,
 "nbformat_minor": 4
}
