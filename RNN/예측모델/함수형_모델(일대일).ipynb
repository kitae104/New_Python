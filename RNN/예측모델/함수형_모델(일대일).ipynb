{
 "cells": [
  {
   "cell_type": "markdown",
   "metadata": {},
   "source": [
    "# 함수형 모델 \n",
    "* 1 : 1 "
   ]
  },
  {
   "cell_type": "markdown",
   "metadata": {},
   "source": [
    "## 0 사용할 패키지 불러오기 "
   ]
  },
  {
   "cell_type": "code",
   "execution_count": 3,
   "metadata": {},
   "outputs": [],
   "source": [
    "import numpy as np\n",
    "from tensorflow.keras.models import Sequential, Model\n",
    "from tensorflow.keras.layers import Dense, Input\n",
    "import random\n",
    "\n",
    "from sklearn.model_selection import train_test_split  # 데이터 분리를 위해 사용 "
   ]
  },
  {
   "cell_type": "markdown",
   "metadata": {},
   "source": [
    "## 1. 데이터셋 생성하기\n",
    "* 학습 데이터 \n",
    "* __검증 데이터__\n",
    "* 테스트 데이터\n",
    "* 사이킷 런에 잘 구현된 __train_test_split 함수__ 를 이용해서 데이터를 효율적으로 잘라냄 \n",
    "    - test_size=0.4 : 테스트 사이즈가 40%라는 의미 (train : 60%, test : 40%)\n",
    "    - suffle : 데이터를 섞을 것인지 선택 - 일반적으로 shuffule을 사용하면 결과가 더 좋음 \n",
    "* train : val : test - 6:2:2 로 설정  "
   ]
  },
  {
   "cell_type": "code",
   "execution_count": 4,
   "metadata": {},
   "outputs": [],
   "source": [
    "x = np.array(range(1, 101))\n",
    "y = np.array(range(1, 101))\n",
    "\n",
    "# 학습 데이터와 테스트 데이터 분리하기 \n",
    "x_train, x_test, y_train, y_test = train_test_split(x, y, random_state=66, test_size=0.4, shuffle=False)\n",
    "\n",
    "# 검증 데이터와 테스트 데이터 분리하기 \n",
    "x_val, x_test, y_val, y_test = train_test_split(x_test, y_test, random_state=66, test_size=0.5)"
   ]
  },
  {
   "cell_type": "markdown",
   "metadata": {},
   "source": [
    "## 2. 모델 구성하기\n",
    "* Dense 레이어가 두 개인 다층퍼셉트론 모델. \n",
    "* 첫 번째 레이어는 5개의 뉴런을 가진 Dense 레이어\n",
    "    - 오류역전파가 용이한 relu 활성화 함수를 사용.\n",
    "* 두 번째 레이어는 3개의 뉴런을 가진 Dense 레이어 \n",
    "* 출력 레이어인 세 번째 레이어는 하나의 수치값을 예측을 하기 위해서 1개의 뉴런을 가지며, 별도의 활성화 함수는 relu를 사용"
   ]
  },
  {
   "cell_type": "code",
   "execution_count": 5,
   "metadata": {},
   "outputs": [
    {
     "name": "stdout",
     "output_type": "stream",
     "text": [
      "Model: \"model\"\n",
      "_________________________________________________________________\n",
      "Layer (type)                 Output Shape              Param #   \n",
      "=================================================================\n",
      "input_1 (InputLayer)         [(None, 1)]               0         \n",
      "_________________________________________________________________\n",
      "dense (Dense)                (None, 5)                 10        \n",
      "_________________________________________________________________\n",
      "dense_1 (Dense)              (None, 3)                 18        \n",
      "_________________________________________________________________\n",
      "dense_2 (Dense)              (None, 4)                 16        \n",
      "_________________________________________________________________\n",
      "dense_3 (Dense)              (None, 1)                 5         \n",
      "=================================================================\n",
      "Total params: 49\n",
      "Trainable params: 49\n",
      "Non-trainable params: 0\n",
      "_________________________________________________________________\n"
     ]
    }
   ],
   "source": [
    "# model = Sequential()\n",
    "# model.add(Dense(5, input_shape = (1, ), activation ='relu'))\n",
    "input1 = Input(shape=(1,))\n",
    "dense1 = Dense(5, activation='relu')(input1)\n",
    "dense2 = Dense(3)(dense1)\n",
    "dense3 = Dense(4)(dense2)\n",
    "output1 = Dense(1)(dense3)\n",
    "\n",
    "# 전체 레이어를 묶어줌.\n",
    "model = Model(inputs=input1, outputs=output1)\n",
    "model.summary()"
   ]
  },
  {
   "cell_type": "markdown",
   "metadata": {},
   "source": [
    "## 3. 모델 학습과정 설정하기\n",
    "#### 모델 컴파일\n",
    "* 모델을 실행시키지 전에 머신이 이해할 수 있도록 컴파일 시킴\n",
    "* loss : 손실 마수는 어떤 것을 사용할 것인가? --> mse\n",
    "* optimizer : 최적화 함수는? --> adam, rmsprop\n",
    "* metrics : 어떤 방식? --> accuracy, mse(mean squared error) 적용 "
   ]
  },
  {
   "cell_type": "code",
   "execution_count": 6,
   "metadata": {},
   "outputs": [],
   "source": [
    "#model.compile(loss='mse', optimizer='adam', metrics=['accuracy'])\n",
    "model.compile(loss='mse', optimizer='adam', metrics=['mse'])"
   ]
  },
  {
   "cell_type": "markdown",
   "metadata": {},
   "source": [
    "## 4. 모델 학습시키기\n",
    "* epochs : 훈련 횟수\n",
    "* batch_size : 몇 개씩 끊어서 작업을 할 것인가를 의미 \n",
    "    - batch_size를 크게 잡을 경우 속도가 빨라지지만 정확도가 떨어짐\n",
    "    - 작게 잡을 경우 속도는 떨어지지만 정확도는 올라감\n",
    "* valication_data : 검증 데이터 "
   ]
  },
  {
   "cell_type": "code",
   "execution_count": 7,
   "metadata": {},
   "outputs": [
    {
     "name": "stdout",
     "output_type": "stream",
     "text": [
      "Train on 60 samples, validate on 20 samples\n",
      "Epoch 1/100\n",
      "60/60 [==============================] - 1s 17ms/sample - loss: 1296.7235 - mse: 1296.7233 - val_loss: 5585.5464 - val_mse: 5585.5464\n",
      "Epoch 2/100\n",
      "60/60 [==============================] - 0s 2ms/sample - loss: 802.9803 - mse: 802.9803 - val_loss: 3011.7681 - val_mse: 3011.7681\n",
      "Epoch 3/100\n",
      "60/60 [==============================] - 0s 2ms/sample - loss: 344.9458 - mse: 344.9457 - val_loss: 983.8142 - val_mse: 983.8143\n",
      "Epoch 4/100\n",
      "60/60 [==============================] - 0s 2ms/sample - loss: 68.9576 - mse: 68.9576 - val_loss: 95.3708 - val_mse: 95.3708\n",
      "Epoch 5/100\n",
      "60/60 [==============================] - 0s 2ms/sample - loss: 3.6719 - mse: 3.6719 - val_loss: 5.4201 - val_mse: 5.4201\n",
      "Epoch 6/100\n",
      "60/60 [==============================] - 0s 2ms/sample - loss: 0.5627 - mse: 0.5627 - val_loss: 2.2737 - val_mse: 2.2737\n",
      "Epoch 7/100\n",
      "60/60 [==============================] - 0s 2ms/sample - loss: 0.5420 - mse: 0.5420 - val_loss: 2.1949 - val_mse: 2.1949\n",
      "Epoch 8/100\n",
      "60/60 [==============================] - 0s 2ms/sample - loss: 0.5320 - mse: 0.5320 - val_loss: 1.8887 - val_mse: 1.8887\n",
      "Epoch 9/100\n",
      "60/60 [==============================] - 0s 2ms/sample - loss: 0.5167 - mse: 0.5167 - val_loss: 2.2809 - val_mse: 2.2809\n",
      "Epoch 10/100\n",
      "60/60 [==============================] - 0s 2ms/sample - loss: 0.5034 - mse: 0.5034 - val_loss: 2.1063 - val_mse: 2.1063\n",
      "Epoch 11/100\n",
      "60/60 [==============================] - 0s 2ms/sample - loss: 0.4869 - mse: 0.4869 - val_loss: 1.9870 - val_mse: 1.9870\n",
      "Epoch 12/100\n",
      "60/60 [==============================] - 0s 2ms/sample - loss: 0.4690 - mse: 0.4690 - val_loss: 2.1001 - val_mse: 2.1001\n",
      "Epoch 13/100\n",
      "60/60 [==============================] - 0s 2ms/sample - loss: 0.4571 - mse: 0.4571 - val_loss: 2.1387 - val_mse: 2.1387\n",
      "Epoch 14/100\n",
      "60/60 [==============================] - 0s 2ms/sample - loss: 0.4377 - mse: 0.4377 - val_loss: 1.5569 - val_mse: 1.5569\n",
      "Epoch 15/100\n",
      "60/60 [==============================] - 0s 2ms/sample - loss: 0.4273 - mse: 0.4273 - val_loss: 1.6631 - val_mse: 1.6631\n",
      "Epoch 16/100\n",
      "60/60 [==============================] - 0s 2ms/sample - loss: 0.4032 - mse: 0.4032 - val_loss: 1.8016 - val_mse: 1.8016\n",
      "Epoch 17/100\n",
      "60/60 [==============================] - 0s 2ms/sample - loss: 0.3910 - mse: 0.3910 - val_loss: 1.8597 - val_mse: 1.8597\n",
      "Epoch 18/100\n",
      "60/60 [==============================] - 0s 2ms/sample - loss: 0.3720 - mse: 0.3720 - val_loss: 1.3532 - val_mse: 1.3532\n",
      "Epoch 19/100\n",
      "60/60 [==============================] - 0s 2ms/sample - loss: 0.3598 - mse: 0.3598 - val_loss: 1.4951 - val_mse: 1.4951\n",
      "Epoch 20/100\n",
      "60/60 [==============================] - 0s 2ms/sample - loss: 0.3371 - mse: 0.3371 - val_loss: 1.6015 - val_mse: 1.6015\n",
      "Epoch 21/100\n",
      "60/60 [==============================] - 0s 2ms/sample - loss: 0.3227 - mse: 0.3227 - val_loss: 1.5318 - val_mse: 1.5318\n",
      "Epoch 22/100\n",
      "60/60 [==============================] - 0s 2ms/sample - loss: 0.3151 - mse: 0.3151 - val_loss: 1.4526 - val_mse: 1.4526\n",
      "Epoch 23/100\n",
      "60/60 [==============================] - 0s 2ms/sample - loss: 0.2932 - mse: 0.2932 - val_loss: 1.9147 - val_mse: 1.9147\n",
      "Epoch 24/100\n",
      "60/60 [==============================] - 0s 2ms/sample - loss: 0.2718 - mse: 0.2718 - val_loss: 0.5878 - val_mse: 0.5878\n",
      "Epoch 25/100\n",
      "60/60 [==============================] - 0s 2ms/sample - loss: 0.2576 - mse: 0.2576 - val_loss: 1.1728 - val_mse: 1.1728\n",
      "Epoch 26/100\n",
      "60/60 [==============================] - 0s 2ms/sample - loss: 0.2437 - mse: 0.2437 - val_loss: 1.4191 - val_mse: 1.4191\n",
      "Epoch 27/100\n",
      "60/60 [==============================] - 0s 2ms/sample - loss: 0.2290 - mse: 0.2290 - val_loss: 1.1903 - val_mse: 1.1903\n",
      "Epoch 28/100\n",
      "60/60 [==============================] - 0s 2ms/sample - loss: 0.2236 - mse: 0.2236 - val_loss: 1.0361 - val_mse: 1.0361\n",
      "Epoch 29/100\n",
      "60/60 [==============================] - 0s 2ms/sample - loss: 0.1960 - mse: 0.1960 - val_loss: 0.6063 - val_mse: 0.6063\n",
      "Epoch 30/100\n",
      "60/60 [==============================] - 0s 2ms/sample - loss: 0.1855 - mse: 0.1855 - val_loss: 0.3605 - val_mse: 0.3605\n",
      "Epoch 31/100\n",
      "60/60 [==============================] - 0s 2ms/sample - loss: 0.1757 - mse: 0.1757 - val_loss: 0.7787 - val_mse: 0.7787\n",
      "Epoch 32/100\n",
      "60/60 [==============================] - 0s 2ms/sample - loss: 0.1613 - mse: 0.1613 - val_loss: 0.7721 - val_mse: 0.7721\n",
      "Epoch 33/100\n",
      "60/60 [==============================] - 0s 2ms/sample - loss: 0.1458 - mse: 0.1458 - val_loss: 0.4382 - val_mse: 0.4382\n",
      "Epoch 34/100\n",
      "60/60 [==============================] - 0s 2ms/sample - loss: 0.1343 - mse: 0.1343 - val_loss: 0.5421 - val_mse: 0.5421\n",
      "Epoch 35/100\n",
      "60/60 [==============================] - 0s 2ms/sample - loss: 0.1261 - mse: 0.1261 - val_loss: 0.2255 - val_mse: 0.2255\n",
      "Epoch 36/100\n",
      "60/60 [==============================] - 0s 2ms/sample - loss: 0.1140 - mse: 0.1140 - val_loss: 0.3488 - val_mse: 0.3488\n",
      "Epoch 37/100\n",
      "60/60 [==============================] - 0s 2ms/sample - loss: 0.1004 - mse: 0.1004 - val_loss: 0.5613 - val_mse: 0.5613\n",
      "Epoch 38/100\n",
      "60/60 [==============================] - 0s 2ms/sample - loss: 0.0938 - mse: 0.0938 - val_loss: 0.3832 - val_mse: 0.3832\n",
      "Epoch 39/100\n",
      "60/60 [==============================] - 0s 2ms/sample - loss: 0.0839 - mse: 0.0839 - val_loss: 0.4149 - val_mse: 0.4149\n",
      "Epoch 40/100\n",
      "60/60 [==============================] - 0s 2ms/sample - loss: 0.0766 - mse: 0.0766 - val_loss: 0.3734 - val_mse: 0.3734\n",
      "Epoch 41/100\n",
      "60/60 [==============================] - 0s 2ms/sample - loss: 0.0704 - mse: 0.0704 - val_loss: 0.2036 - val_mse: 0.2036\n",
      "Epoch 42/100\n",
      "60/60 [==============================] - 0s 2ms/sample - loss: 0.0620 - mse: 0.0620 - val_loss: 0.1158 - val_mse: 0.1158\n",
      "Epoch 43/100\n",
      "60/60 [==============================] - 0s 2ms/sample - loss: 0.0616 - mse: 0.0616 - val_loss: 0.4027 - val_mse: 0.4027\n",
      "Epoch 44/100\n",
      "60/60 [==============================] - 0s 2ms/sample - loss: 0.0506 - mse: 0.0506 - val_loss: 0.2327 - val_mse: 0.2327\n",
      "Epoch 45/100\n",
      "60/60 [==============================] - 0s 2ms/sample - loss: 0.0446 - mse: 0.0446 - val_loss: 0.1418 - val_mse: 0.1418\n",
      "Epoch 46/100\n",
      "60/60 [==============================] - 0s 2ms/sample - loss: 0.0370 - mse: 0.0370 - val_loss: 0.1038 - val_mse: 0.1038\n",
      "Epoch 47/100\n",
      "60/60 [==============================] - 0s 2ms/sample - loss: 0.0339 - mse: 0.0339 - val_loss: 0.1965 - val_mse: 0.1965\n",
      "Epoch 48/100\n",
      "60/60 [==============================] - 0s 2ms/sample - loss: 0.0291 - mse: 0.0291 - val_loss: 0.0740 - val_mse: 0.0740\n",
      "Epoch 49/100\n",
      "60/60 [==============================] - 0s 2ms/sample - loss: 0.0251 - mse: 0.0251 - val_loss: 0.0517 - val_mse: 0.0517\n",
      "Epoch 50/100\n",
      "60/60 [==============================] - 0s 2ms/sample - loss: 0.0221 - mse: 0.0221 - val_loss: 0.0728 - val_mse: 0.0728\n",
      "Epoch 51/100\n",
      "60/60 [==============================] - 0s 2ms/sample - loss: 0.0188 - mse: 0.0188 - val_loss: 0.0620 - val_mse: 0.0620\n",
      "Epoch 52/100\n",
      "60/60 [==============================] - 0s 2ms/sample - loss: 0.0166 - mse: 0.0166 - val_loss: 0.0772 - val_mse: 0.0772\n",
      "Epoch 53/100\n",
      "60/60 [==============================] - 0s 2ms/sample - loss: 0.0147 - mse: 0.0147 - val_loss: 0.0341 - val_mse: 0.0341\n",
      "Epoch 54/100\n",
      "60/60 [==============================] - 0s 2ms/sample - loss: 0.0118 - mse: 0.0118 - val_loss: 0.0384 - val_mse: 0.0384\n",
      "Epoch 55/100\n",
      "60/60 [==============================] - 0s 2ms/sample - loss: 0.0099 - mse: 0.0099 - val_loss: 0.0284 - val_mse: 0.0284\n",
      "Epoch 56/100\n",
      "60/60 [==============================] - 0s 2ms/sample - loss: 0.0080 - mse: 0.0080 - val_loss: 0.0303 - val_mse: 0.0303\n",
      "Epoch 57/100\n",
      "60/60 [==============================] - 0s 2ms/sample - loss: 0.0072 - mse: 0.0072 - val_loss: 0.0048 - val_mse: 0.0048\n",
      "Epoch 58/100\n",
      "60/60 [==============================] - 0s 2ms/sample - loss: 0.0058 - mse: 0.0058 - val_loss: 0.0111 - val_mse: 0.0111\n",
      "Epoch 59/100\n",
      "60/60 [==============================] - 0s 2ms/sample - loss: 0.0047 - mse: 0.0047 - val_loss: 0.0123 - val_mse: 0.0123\n",
      "Epoch 60/100\n",
      "60/60 [==============================] - 0s 2ms/sample - loss: 0.0042 - mse: 0.0042 - val_loss: 0.0182 - val_mse: 0.0182\n",
      "Epoch 61/100\n"
     ]
    },
    {
     "name": "stdout",
     "output_type": "stream",
     "text": [
      "60/60 [==============================] - 0s 2ms/sample - loss: 0.0033 - mse: 0.0033 - val_loss: 0.0055 - val_mse: 0.0055\n",
      "Epoch 62/100\n",
      "60/60 [==============================] - 0s 2ms/sample - loss: 0.0026 - mse: 0.0026 - val_loss: 0.0206 - val_mse: 0.0206\n",
      "Epoch 63/100\n",
      "60/60 [==============================] - 0s 2ms/sample - loss: 0.0021 - mse: 0.0021 - val_loss: 0.0080 - val_mse: 0.0080\n",
      "Epoch 64/100\n",
      "60/60 [==============================] - 0s 2ms/sample - loss: 0.0017 - mse: 0.0017 - val_loss: 0.0027 - val_mse: 0.0027\n",
      "Epoch 65/100\n",
      "60/60 [==============================] - 0s 2ms/sample - loss: 0.0013 - mse: 0.0013 - val_loss: 0.0034 - val_mse: 0.0034\n",
      "Epoch 66/100\n",
      "60/60 [==============================] - 0s 2ms/sample - loss: 0.0010 - mse: 0.0010 - val_loss: 0.0084 - val_mse: 0.0084\n",
      "Epoch 67/100\n",
      "60/60 [==============================] - 0s 2ms/sample - loss: 8.9456e-04 - mse: 8.9456e-04 - val_loss: 0.0043 - val_mse: 0.0043\n",
      "Epoch 68/100\n",
      "60/60 [==============================] - 0s 2ms/sample - loss: 6.4885e-04 - mse: 6.4885e-04 - val_loss: 0.0014 - val_mse: 0.0014\n",
      "Epoch 69/100\n",
      "60/60 [==============================] - 0s 2ms/sample - loss: 4.7880e-04 - mse: 4.7880e-04 - val_loss: 0.0022 - val_mse: 0.0022\n",
      "Epoch 70/100\n",
      "60/60 [==============================] - 0s 2ms/sample - loss: 3.8574e-04 - mse: 3.8574e-04 - val_loss: 2.9913e-04 - val_mse: 2.9913e-04\n",
      "Epoch 71/100\n",
      "60/60 [==============================] - 0s 2ms/sample - loss: 2.5619e-04 - mse: 2.5619e-04 - val_loss: 0.0020 - val_mse: 0.0020\n",
      "Epoch 72/100\n",
      "60/60 [==============================] - 0s 2ms/sample - loss: 2.1966e-04 - mse: 2.1966e-04 - val_loss: 4.1474e-04 - val_mse: 4.1474e-04\n",
      "Epoch 73/100\n",
      "60/60 [==============================] - 0s 2ms/sample - loss: 1.4873e-04 - mse: 1.4873e-04 - val_loss: 2.8253e-04 - val_mse: 2.8253e-04\n",
      "Epoch 74/100\n",
      "60/60 [==============================] - 0s 2ms/sample - loss: 1.1650e-04 - mse: 1.1650e-04 - val_loss: 3.5714e-05 - val_mse: 3.5714e-05\n",
      "Epoch 75/100\n",
      "60/60 [==============================] - 0s 2ms/sample - loss: 8.8657e-05 - mse: 8.8657e-05 - val_loss: 7.0799e-05 - val_mse: 7.0799e-05\n",
      "Epoch 76/100\n",
      "60/60 [==============================] - 0s 2ms/sample - loss: 5.8002e-05 - mse: 5.8002e-05 - val_loss: 2.4429e-04 - val_mse: 2.4429e-04\n",
      "Epoch 77/100\n",
      "60/60 [==============================] - 0s 2ms/sample - loss: 4.6516e-05 - mse: 4.6516e-05 - val_loss: 2.7386e-05 - val_mse: 2.7386e-05\n",
      "Epoch 78/100\n",
      "60/60 [==============================] - 0s 2ms/sample - loss: 2.7851e-05 - mse: 2.7851e-05 - val_loss: 5.2559e-05 - val_mse: 5.2559e-05\n",
      "Epoch 79/100\n",
      "60/60 [==============================] - 0s 2ms/sample - loss: 1.9545e-05 - mse: 1.9545e-05 - val_loss: 1.0907e-04 - val_mse: 1.0907e-04\n",
      "Epoch 80/100\n",
      "60/60 [==============================] - 0s 2ms/sample - loss: 1.3667e-05 - mse: 1.3667e-05 - val_loss: 7.8099e-05 - val_mse: 7.8099e-05\n",
      "Epoch 81/100\n",
      "60/60 [==============================] - 0s 2ms/sample - loss: 1.0392e-05 - mse: 1.0392e-05 - val_loss: 1.7802e-05 - val_mse: 1.7802e-05\n",
      "Epoch 82/100\n",
      "60/60 [==============================] - 0s 2ms/sample - loss: 7.2251e-06 - mse: 7.2251e-06 - val_loss: 1.0612e-05 - val_mse: 1.0612e-05\n",
      "Epoch 83/100\n",
      "60/60 [==============================] - 0s 2ms/sample - loss: 4.0905e-06 - mse: 4.0905e-06 - val_loss: 4.0640e-07 - val_mse: 4.0640e-07\n",
      "Epoch 84/100\n",
      "60/60 [==============================] - 0s 2ms/sample - loss: 3.5447e-06 - mse: 3.5447e-06 - val_loss: 1.6942e-06 - val_mse: 1.6942e-06\n",
      "Epoch 85/100\n",
      "60/60 [==============================] - 0s 2ms/sample - loss: 2.0197e-06 - mse: 2.0197e-06 - val_loss: 6.1222e-06 - val_mse: 6.1222e-06\n",
      "Epoch 86/100\n",
      "60/60 [==============================] - 0s 2ms/sample - loss: 1.0955e-06 - mse: 1.0955e-06 - val_loss: 3.5172e-06 - val_mse: 3.5172e-06\n",
      "Epoch 87/100\n",
      "60/60 [==============================] - 0s 2ms/sample - loss: 7.3911e-07 - mse: 7.3911e-07 - val_loss: 9.9822e-07 - val_mse: 9.9822e-07\n",
      "Epoch 88/100\n",
      "60/60 [==============================] - 0s 2ms/sample - loss: 4.0505e-07 - mse: 4.0505e-07 - val_loss: 4.1772e-06 - val_mse: 4.1772e-06\n",
      "Epoch 89/100\n",
      "60/60 [==============================] - 0s 2ms/sample - loss: 2.8020e-07 - mse: 2.8020e-07 - val_loss: 3.7099e-06 - val_mse: 3.7099e-06\n",
      "Epoch 90/100\n",
      "60/60 [==============================] - 0s 2ms/sample - loss: 1.8483e-07 - mse: 1.8483e-07 - val_loss: 1.7557e-07 - val_mse: 1.7557e-07\n",
      "Epoch 91/100\n",
      "60/60 [==============================] - 0s 2ms/sample - loss: 9.1739e-08 - mse: 9.1739e-08 - val_loss: 1.7407e-07 - val_mse: 1.7407e-07\n",
      "Epoch 92/100\n",
      "60/60 [==============================] - 0s 2ms/sample - loss: 5.4127e-08 - mse: 5.4127e-08 - val_loss: 9.8281e-08 - val_mse: 9.8281e-08\n",
      "Epoch 93/100\n",
      "60/60 [==============================] - 0s 2ms/sample - loss: 4.8226e-08 - mse: 4.8226e-08 - val_loss: 4.8480e-07 - val_mse: 4.8480e-07\n",
      "Epoch 94/100\n",
      "60/60 [==============================] - 0s 2ms/sample - loss: 2.0101e-08 - mse: 2.0100e-08 - val_loss: 1.5432e-07 - val_mse: 1.5432e-07\n",
      "Epoch 95/100\n",
      "60/60 [==============================] - 0s 2ms/sample - loss: 1.0375e-08 - mse: 1.0375e-08 - val_loss: 3.1608e-08 - val_mse: 3.1608e-08\n",
      "Epoch 96/100\n",
      "60/60 [==============================] - 0s 2ms/sample - loss: 5.3963e-09 - mse: 5.3963e-09 - val_loss: 1.5229e-09 - val_mse: 1.5229e-09\n",
      "Epoch 97/100\n",
      "60/60 [==============================] - 0s 2ms/sample - loss: 3.3842e-09 - mse: 3.3842e-09 - val_loss: 3.7588e-09 - val_mse: 3.7588e-09\n",
      "Epoch 98/100\n",
      "60/60 [==============================] - 0s 2ms/sample - loss: 1.3249e-09 - mse: 1.3249e-09 - val_loss: 2.7503e-09 - val_mse: 2.7503e-09\n",
      "Epoch 99/100\n",
      "60/60 [==============================] - 0s 2ms/sample - loss: 7.2108e-10 - mse: 7.2108e-10 - val_loss: 5.9088e-09 - val_mse: 5.9088e-09\n",
      "Epoch 100/100\n",
      "60/60 [==============================] - 0s 2ms/sample - loss: 3.4382e-10 - mse: 3.4382e-10 - val_loss: 1.0776e-09 - val_mse: 1.0776e-09\n"
     ]
    }
   ],
   "source": [
    "hist = model.fit(x_train, y_train, epochs=100, batch_size=1,validation_data = (x_val, y_val))"
   ]
  },
  {
   "cell_type": "markdown",
   "metadata": {},
   "source": [
    "## 5. 학습과정 살펴보기"
   ]
  },
  {
   "cell_type": "code",
   "execution_count": 8,
   "metadata": {},
   "outputs": [
    {
     "data": {
      "image/png": "[encoded data removed]",
      "text/plain": [
       "<Figure size 432x288 with 1 Axes>"
      ]
     },
     "metadata": {
      "needs_background": "light"
     },
     "output_type": "display_data"
    }
   ],
   "source": [
    "import matplotlib.pyplot as plt\n",
    "\n",
    "plt.plot(hist.history['loss'])\n",
    "plt.plot(hist.history['mse'])\n",
    "plt.plot(hist.history['val_loss'])\n",
    "plt.plot(hist.history['val_mse'])\n",
    "#plt.ylim(0.0, 1.5)\n",
    "plt.ylabel('loss')\n",
    "plt.xlabel('epoch')\n",
    "plt.legend(['loss', 'mse', 'val_loss', 'val_mse'], loc='upper right')\n",
    "plt.show()"
   ]
  },
  {
   "cell_type": "markdown",
   "metadata": {},
   "source": [
    "## 6. 모델 평가하기"
   ]
  },
  {
   "cell_type": "code",
   "execution_count": 9,
   "metadata": {},
   "outputs": [
    {
     "name": "stdout",
     "output_type": "stream",
     "text": [
      "20/20 [==============================] - 0s 3ms/sample - loss: 1.2165e-09 - mse: 1.2165e-09\n",
      "loss :  1.2165400964381235e-09\n",
      "mse :  1.2165401e-09\n"
     ]
    }
   ],
   "source": [
    "loss, mse = model.evaluate(x_test, y_test, batch_size =3)\n",
    "print(\"loss : \", loss)\n",
    "print(\"mse : \", mse )"
   ]
  },
  {
   "cell_type": "markdown",
   "metadata": {},
   "source": [
    "## 7. 예측하기 "
   ]
  },
  {
   "cell_type": "code",
   "execution_count": 10,
   "metadata": {},
   "outputs": [
    {
     "name": "stdout",
     "output_type": "stream",
     "text": [
      "결과물 : \n",
      " [[64.999985]\n",
      " [79.99997 ]\n",
      " [90.99996 ]\n",
      " [65.99997 ]\n",
      " [61.999985]\n",
      " [95.99996 ]\n",
      " [63.999985]\n",
      " [88.99996 ]\n",
      " [91.99996 ]\n",
      " [99.99995 ]\n",
      " [92.99996 ]\n",
      " [85.99996 ]\n",
      " [84.99996 ]\n",
      " [77.99998 ]\n",
      " [69.99997 ]\n",
      " [74.99997 ]\n",
      " [68.999985]\n",
      " [72.99997 ]\n",
      " [83.99996 ]\n",
      " [96.99996 ]]\n"
     ]
    }
   ],
   "source": [
    "y_predict = model.predict(x_test)\n",
    "print(\"결과물 : \\n\", y_predict)"
   ]
  },
  {
   "cell_type": "markdown",
   "metadata": {},
   "source": [
    "#### RMSE 구하기\n",
    "* __평균 제곱근 오차 - RMSE(Root Mean Squared Error)__ \n",
    "    - 회귀 분석을 평가할 때 가장 많이 사용하는 지표 중에 하나\n",
    "    - MSE에 루트를 사용\n",
    "    - 원래 데이터에서 평균을 뺀 값을 제곱하여 모두 더한 뒤 전체 개수로 나눈 값에 루트를 씌운 것\n",
    "    - RMSE는 낮을수록 정밀도가 높음"
   ]
  },
  {
   "cell_type": "code",
   "execution_count": 11,
   "metadata": {},
   "outputs": [
    {
     "name": "stdout",
     "output_type": "stream",
     "text": [
      "RMSE :  3.3211973357664364e-05\n"
     ]
    }
   ],
   "source": [
    "from sklearn.metrics import mean_squared_error\n",
    "def RMSE(y_test, y_predict):\n",
    "    return np.sqrt(mean_squared_error(y_test, y_predict))\n",
    "print(\"RMSE : \", RMSE(y_test, y_predict))"
   ]
  },
  {
   "cell_type": "markdown",
   "metadata": {},
   "source": [
    "#### R2 구하기\n",
    "* __결정 계수(R2)__\n",
    "    - 회귀 분석에서 많이 사용하는 지표 중에 하나\n",
    "    - RMSE와 반대로 높을수록 좋은 지표\n",
    "    - 0~1사이의 수치 - 0.73 정도의 값이 나오면 73%의 설명력을 가진다고 해석 \n",
    "    - 사이킷런에서 r2_score 함수로 제공 \n",
    "    - 만약 R2의 값이 음수가 나오면 학습 시 머신에 뭔가 잘못된 부분이 존재한다는 의미 "
   ]
  },
  {
   "cell_type": "code",
   "execution_count": 12,
   "metadata": {},
   "outputs": [
    {
     "name": "stdout",
     "output_type": "stream",
     "text": [
      "R2 :  0.999999999992193\n"
     ]
    }
   ],
   "source": [
    "from sklearn.metrics import r2_score\n",
    "r2_y_predict = r2_score(y_test, y_predict)\n",
    "print(\"R2 : \", r2_y_predict)"
   ]
  },
  {
   "cell_type": "markdown",
   "metadata": {},
   "source": [
    "#### 새로운 데이터로 예측 수행하기 \n",
    "* x_predict에 새로운 값을 설정한 후 y_predict 값을 출력한다. "
   ]
  },
  {
   "cell_type": "code",
   "execution_count": 13,
   "metadata": {},
   "outputs": [
    {
     "name": "stdout",
     "output_type": "stream",
     "text": [
      "[[100.999954]\n",
      " [101.999954]\n",
      " [102.99995 ]\n",
      " [103.99996 ]\n",
      " [104.99995 ]\n",
      " [105.99995 ]\n",
      " [106.99995 ]\n",
      " [107.99995 ]\n",
      " [108.999954]\n",
      " [109.99994 ]]\n"
     ]
    }
   ],
   "source": [
    "x_predict = np.array(range(101, 111))\n",
    "y_predict = model.predict(x_predict)\n",
    "print(y_predict)"
   ]
  },
  {
   "cell_type": "code",
   "execution_count": null,
   "metadata": {},
   "outputs": [],
   "source": []
  }
 ],
 "metadata": {
  "kernelspec": {
   "display_name": "Python 3",
   "language": "python",
   "name": "python3"
  },
  "language_info": {
   "codemirror_mode": {
    "name": "ipython",
    "version": 3
   },
   "file_extension": ".py",
   "mimetype": "text/x-python",
   "name": "python",
   "nbconvert_exporter": "python",
   "pygments_lexer": "ipython3",
   "version": "3.7.6"
  }
 },
 "nbformat": 4,
 "nbformat_minor": 4
}
