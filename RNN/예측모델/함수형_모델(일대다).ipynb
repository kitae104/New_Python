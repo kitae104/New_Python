{
 "cells": [
  {
   "cell_type": "markdown",
   "metadata": {},
   "source": [
    "# 함수형 모델 (일대다)\n",
    "* 1개의 컬럼이 입력되어 여러개의 컬럼으로 출력되는 경우 \n",
    "* Input과 Output의 shape만 조절하면 가능"
   ]
  },
  {
   "cell_type": "markdown",
   "metadata": {},
   "source": [
    "## 0 사용할 패키지 불러오기 "
   ]
  },
  {
   "cell_type": "code",
   "execution_count": 1,
   "metadata": {},
   "outputs": [],
   "source": [
    "import numpy as np\n",
    "from tensorflow.keras.models import Sequential, Model\n",
    "from tensorflow.keras.layers import Dense, Input\n",
    "import random\n",
    "\n",
    "from sklearn.model_selection import train_test_split  # 데이터 분리를 위해 사용 "
   ]
  },
  {
   "cell_type": "markdown",
   "metadata": {},
   "source": [
    "## 1. 데이터셋 생성하기\n",
    "* 2행 100 열로 된 데이터 --> 100행에 2열 데이터로 변환 \n",
    "* 학습 데이터 \n",
    "* __검증 데이터__\n",
    "* 테스트 데이터\n",
    "* 사이킷 런에 잘 구현된 __train_test_split 함수__ 를 이용해서 데이터를 효율적으로 잘라냄 \n",
    "    - test_size=0.4 : 테스트 사이즈가 40%라는 의미 (train : 60%, test : 40%)\n",
    "    - suffle : 데이터를 섞을 것인지 선택 - 일반적으로 shuffule을 사용하면 결과가 더 좋음 \n",
    "* train : val : test - 6:2:2 로 설정  "
   ]
  },
  {
   "cell_type": "code",
   "execution_count": 2,
   "metadata": {},
   "outputs": [
    {
     "name": "stdout",
     "output_type": "stream",
     "text": [
      "(100,)\n",
      "(100, 2)\n"
     ]
    }
   ],
   "source": [
    "x = np.array(range(100))\n",
    "y = np.array([range(201, 301), range(301, 401)])\n",
    "\n",
    "x = np.transpose(x)\n",
    "y = np.transpose(y)\n",
    "\n",
    "print(x.shape)\n",
    "print(y.shape)\n",
    "\n",
    "# 학습 데이터와 테스트 데이터 분리하기 \n",
    "x_train, x_test, y_train, y_test = train_test_split(x, y, random_state=66, test_size=0.4, shuffle=False)\n",
    "\n",
    "# 검증 데이터와 테스트 데이터 분리하기 \n",
    "x_val, x_test, y_val, y_test = train_test_split(x_test, y_test, random_state=66, test_size=0.5)"
   ]
  },
  {
   "cell_type": "markdown",
   "metadata": {},
   "source": [
    "## 2. 모델 구성하기\n",
    "* Dense 레이어가 두 개인 다층퍼셉트론 모델. \n",
    "* 첫 번째 레이어는 5개의 뉴런을 가진 Dense 레이어\n",
    "    - 오류역전파가 용이한 relu 활성화 함수를 사용.\n",
    "* 두 번째 레이어는 3개의 뉴런을 가진 Dense 레이어 \n",
    "* 출력 레이어인 세 번째 레이어는 하나의 수치값을 예측을 하기 위해서 1개의 뉴런을 가지며, 별도의 활성화 함수는 relu를 사용"
   ]
  },
  {
   "cell_type": "code",
   "execution_count": 3,
   "metadata": {},
   "outputs": [
    {
     "name": "stdout",
     "output_type": "stream",
     "text": [
      "Model: \"sequential\"\n",
      "_________________________________________________________________\n",
      "Layer (type)                 Output Shape              Param #   \n",
      "=================================================================\n",
      "dense (Dense)                (None, 5)                 10        \n",
      "_________________________________________________________________\n",
      "dense_1 (Dense)              (None, 3)                 18        \n",
      "_________________________________________________________________\n",
      "dense_2 (Dense)              (None, 4)                 16        \n",
      "_________________________________________________________________\n",
      "dense_3 (Dense)              (None, 2)                 10        \n",
      "=================================================================\n",
      "Total params: 54\n",
      "Trainable params: 54\n",
      "Non-trainable params: 0\n",
      "_________________________________________________________________\n"
     ]
    }
   ],
   "source": [
    "model = Sequential()\n",
    "\n",
    "model.add(Dense(5, input_shape = (1, ), activation ='relu'))\n",
    "model.add(Dense(3))\n",
    "model.add(Dense(4))\n",
    "model.add(Dense(2))  # 출력 2\n",
    "\n",
    "model.summary()"
   ]
  },
  {
   "cell_type": "markdown",
   "metadata": {},
   "source": [
    "## 3. 모델 학습과정 설정하기\n",
    "#### 모델 컴파일\n",
    "* 모델을 실행시키지 전에 머신이 이해할 수 있도록 컴파일 시킴\n",
    "* loss : 손실 마수는 어떤 것을 사용할 것인가? --> mse\n",
    "* optimizer : 최적화 함수는? --> adam, rmsprop\n",
    "* metrics : 어떤 방식? --> accuracy, mse(mean squared error) 적용 "
   ]
  },
  {
   "cell_type": "code",
   "execution_count": 4,
   "metadata": {},
   "outputs": [],
   "source": [
    "#model.compile(loss='mse', optimizer='adam', metrics=['accuracy'])\n",
    "model.compile(loss='mse', optimizer='adam', metrics=['mse'])"
   ]
  },
  {
   "cell_type": "markdown",
   "metadata": {},
   "source": [
    "## 4. 모델 학습시키기\n",
    "* epochs : 훈련 횟수\n",
    "* batch_size : 몇 개씩 끊어서 작업을 할 것인가를 의미 \n",
    "    - batch_size를 크게 잡을 경우 속도가 빨라지지만 정확도가 떨어짐\n",
    "    - 작게 잡을 경우 속도는 떨어지지만 정확도는 올라감\n",
    "* valication_data : 검증 데이터 "
   ]
  },
  {
   "cell_type": "code",
   "execution_count": 12,
   "metadata": {},
   "outputs": [
    {
     "name": "stdout",
     "output_type": "stream",
     "text": [
      "Train on 60 samples, validate on 20 samples\n",
      "Epoch 1/100\n",
      "60/60 [==============================] - 0s 2ms/sample - loss: 2.9285 - mse: 2.9285 - val_loss: 19.5822 - val_mse: 19.5822\n",
      "Epoch 2/100\n",
      "60/60 [==============================] - 0s 2ms/sample - loss: 2.4529 - mse: 2.4529 - val_loss: 22.3851 - val_mse: 22.3851\n",
      "Epoch 3/100\n",
      "60/60 [==============================] - 0s 2ms/sample - loss: 2.3482 - mse: 2.3482 - val_loss: 15.7636 - val_mse: 15.7636\n",
      "Epoch 4/100\n",
      "60/60 [==============================] - 0s 2ms/sample - loss: 1.9423 - mse: 1.9423 - val_loss: 21.6678 - val_mse: 21.6678\n",
      "Epoch 5/100\n",
      "60/60 [==============================] - 0s 2ms/sample - loss: 1.8771 - mse: 1.8771 - val_loss: 13.4409 - val_mse: 13.4409\n",
      "Epoch 6/100\n",
      "60/60 [==============================] - 0s 2ms/sample - loss: 1.6127 - mse: 1.6127 - val_loss: 11.4858 - val_mse: 11.4858\n",
      "Epoch 7/100\n",
      "60/60 [==============================] - 0s 2ms/sample - loss: 1.4542 - mse: 1.4542 - val_loss: 8.4676 - val_mse: 8.4676\n",
      "Epoch 8/100\n",
      "60/60 [==============================] - 0s 2ms/sample - loss: 1.2438 - mse: 1.2438 - val_loss: 10.6989 - val_mse: 10.6989\n",
      "Epoch 9/100\n",
      "60/60 [==============================] - 0s 2ms/sample - loss: 1.0737 - mse: 1.0737 - val_loss: 12.8525 - val_mse: 12.8525\n",
      "Epoch 10/100\n",
      "60/60 [==============================] - 0s 2ms/sample - loss: 0.8633 - mse: 0.8633 - val_loss: 13.8885 - val_mse: 13.8885\n",
      "Epoch 11/100\n",
      "60/60 [==============================] - 0s 2ms/sample - loss: 2.0338 - mse: 2.0338 - val_loss: 12.4392 - val_mse: 12.4392\n",
      "Epoch 12/100\n",
      "60/60 [==============================] - 0s 2ms/sample - loss: 1.6949 - mse: 1.6949 - val_loss: 16.1143 - val_mse: 16.1143\n",
      "Epoch 13/100\n",
      "60/60 [==============================] - 0s 2ms/sample - loss: 0.4776 - mse: 0.4776 - val_loss: 16.9493 - val_mse: 16.9493\n",
      "Epoch 14/100\n",
      "60/60 [==============================] - 0s 2ms/sample - loss: 0.8449 - mse: 0.8449 - val_loss: 17.7935 - val_mse: 17.7935\n",
      "Epoch 15/100\n",
      "60/60 [==============================] - 0s 2ms/sample - loss: 0.2922 - mse: 0.2922 - val_loss: 19.9218 - val_mse: 19.9218\n",
      "Epoch 16/100\n",
      "60/60 [==============================] - 0s 2ms/sample - loss: 0.2516 - mse: 0.2516 - val_loss: 21.5645 - val_mse: 21.5645\n",
      "Epoch 17/100\n",
      "60/60 [==============================] - 0s 2ms/sample - loss: 0.1936 - mse: 0.1936 - val_loss: 23.5478 - val_mse: 23.5478\n",
      "Epoch 18/100\n",
      "60/60 [==============================] - 0s 2ms/sample - loss: 0.1628 - mse: 0.1628 - val_loss: 25.7388 - val_mse: 25.7388\n",
      "Epoch 19/100\n",
      "60/60 [==============================] - 0s 2ms/sample - loss: 0.1226 - mse: 0.1226 - val_loss: 27.9811 - val_mse: 27.9811\n",
      "Epoch 20/100\n",
      "60/60 [==============================] - 0s 2ms/sample - loss: 0.0981 - mse: 0.0981 - val_loss: 29.7662 - val_mse: 29.7662\n",
      "Epoch 21/100\n",
      "60/60 [==============================] - 0s 2ms/sample - loss: 0.0719 - mse: 0.0719 - val_loss: 31.9940 - val_mse: 31.9940\n",
      "Epoch 22/100\n",
      "60/60 [==============================] - 0s 2ms/sample - loss: 0.0506 - mse: 0.0506 - val_loss: 33.8406 - val_mse: 33.8406\n",
      "Epoch 23/100\n",
      "60/60 [==============================] - 0s 2ms/sample - loss: 0.0378 - mse: 0.0378 - val_loss: 35.5821 - val_mse: 35.5821\n",
      "Epoch 24/100\n",
      "60/60 [==============================] - 0s 2ms/sample - loss: 0.0275 - mse: 0.0275 - val_loss: 38.0226 - val_mse: 38.0226\n",
      "Epoch 25/100\n",
      "60/60 [==============================] - 0s 2ms/sample - loss: 0.2606 - mse: 0.2606 - val_loss: 38.8567 - val_mse: 38.8567\n",
      "Epoch 26/100\n",
      "60/60 [==============================] - 0s 2ms/sample - loss: 0.2117 - mse: 0.2117 - val_loss: 40.6514 - val_mse: 40.6514\n",
      "Epoch 27/100\n",
      "60/60 [==============================] - 0s 2ms/sample - loss: 0.0388 - mse: 0.0388 - val_loss: 40.0120 - val_mse: 40.0120\n",
      "Epoch 28/100\n",
      "60/60 [==============================] - 0s 2ms/sample - loss: 0.0242 - mse: 0.0242 - val_loss: 41.6905 - val_mse: 41.6905\n",
      "Epoch 29/100\n",
      "60/60 [==============================] - 0s 2ms/sample - loss: 0.0073 - mse: 0.0073 - val_loss: 44.3954 - val_mse: 44.3954\n",
      "Epoch 30/100\n",
      "60/60 [==============================] - 0s 2ms/sample - loss: 2.6789 - mse: 2.6789 - val_loss: 38.2703 - val_mse: 38.2703\n",
      "Epoch 31/100\n",
      "60/60 [==============================] - 0s 2ms/sample - loss: 1.9075 - mse: 1.9075 - val_loss: 49.0806 - val_mse: 49.0806\n",
      "Epoch 32/100\n",
      "60/60 [==============================] - 0s 2ms/sample - loss: 0.3067 - mse: 0.3067 - val_loss: 42.3055 - val_mse: 42.3055\n",
      "Epoch 33/100\n",
      "60/60 [==============================] - 0s 2ms/sample - loss: 0.0070 - mse: 0.0070 - val_loss: 43.2061 - val_mse: 43.2061\n",
      "Epoch 34/100\n",
      "60/60 [==============================] - 0s 2ms/sample - loss: 0.0015 - mse: 0.0015 - val_loss: 43.1660 - val_mse: 43.1660\n",
      "Epoch 35/100\n",
      "60/60 [==============================] - 0s 2ms/sample - loss: 9.4264e-04 - mse: 9.4264e-04 - val_loss: 43.4647 - val_mse: 43.4647\n",
      "Epoch 36/100\n",
      "60/60 [==============================] - 0s 2ms/sample - loss: 6.2625e-04 - mse: 6.2625e-04 - val_loss: 43.6951 - val_mse: 43.6951\n",
      "Epoch 37/100\n",
      "60/60 [==============================] - 0s 2ms/sample - loss: 4.8193e-04 - mse: 4.8193e-04 - val_loss: 43.9160 - val_mse: 43.9160\n",
      "Epoch 38/100\n",
      "60/60 [==============================] - 0s 2ms/sample - loss: 2.9970e-04 - mse: 2.9970e-04 - val_loss: 43.9794 - val_mse: 43.9794\n",
      "Epoch 39/100\n",
      "60/60 [==============================] - 0s 2ms/sample - loss: 3.1711e-04 - mse: 3.1711e-04 - val_loss: 44.1368 - val_mse: 44.1368\n",
      "Epoch 40/100\n",
      "60/60 [==============================] - 0s 2ms/sample - loss: 2.2759e-04 - mse: 2.2759e-04 - val_loss: 44.2843 - val_mse: 44.2843\n",
      "Epoch 41/100\n",
      "60/60 [==============================] - 0s 2ms/sample - loss: 1.1992e-04 - mse: 1.1992e-04 - val_loss: 44.4211 - val_mse: 44.4211\n",
      "Epoch 42/100\n",
      "60/60 [==============================] - 0s 2ms/sample - loss: 1.6137e-04 - mse: 1.6137e-04 - val_loss: 44.4225 - val_mse: 44.4225\n",
      "Epoch 43/100\n",
      "60/60 [==============================] - 0s 2ms/sample - loss: 0.0019 - mse: 0.0019 - val_loss: 43.8358 - val_mse: 43.8358\n",
      "Epoch 44/100\n",
      "60/60 [==============================] - 0s 2ms/sample - loss: 0.0600 - mse: 0.0600 - val_loss: 49.1247 - val_mse: 49.1247\n",
      "Epoch 45/100\n",
      "60/60 [==============================] - 0s 2ms/sample - loss: 0.0958 - mse: 0.0958 - val_loss: 44.3152 - val_mse: 44.3152\n",
      "Epoch 46/100\n",
      "60/60 [==============================] - 0s 2ms/sample - loss: 0.0990 - mse: 0.0990 - val_loss: 48.9046 - val_mse: 48.9046\n",
      "Epoch 47/100\n",
      "60/60 [==============================] - 0s 2ms/sample - loss: 0.5735 - mse: 0.5735 - val_loss: 44.4214 - val_mse: 44.4214\n",
      "Epoch 48/100\n",
      "60/60 [==============================] - 0s 2ms/sample - loss: 0.1203 - mse: 0.1203 - val_loss: 45.5999 - val_mse: 45.5999\n",
      "Epoch 49/100\n",
      "60/60 [==============================] - 0s 2ms/sample - loss: 0.0032 - mse: 0.0032 - val_loss: 44.4494 - val_mse: 44.4494\n",
      "Epoch 50/100\n",
      "60/60 [==============================] - 0s 2ms/sample - loss: 3.3565e-04 - mse: 3.3565e-04 - val_loss: 44.5942 - val_mse: 44.5942\n",
      "Epoch 51/100\n",
      "60/60 [==============================] - 0s 2ms/sample - loss: 1.3696e-05 - mse: 1.3696e-05 - val_loss: 44.5726 - val_mse: 44.5726\n",
      "Epoch 52/100\n",
      "60/60 [==============================] - 0s 2ms/sample - loss: 5.1440e-04 - mse: 5.1440e-04 - val_loss: 45.0520 - val_mse: 45.0520\n",
      "Epoch 53/100\n",
      "60/60 [==============================] - 0s 2ms/sample - loss: 0.0092 - mse: 0.0092 - val_loss: 44.6961 - val_mse: 44.6961\n",
      "Epoch 54/100\n",
      "60/60 [==============================] - 0s 2ms/sample - loss: 9.7139e-04 - mse: 9.7139e-04 - val_loss: 44.6488 - val_mse: 44.6488\n",
      "Epoch 55/100\n",
      "60/60 [==============================] - 0s 2ms/sample - loss: 2.9575e-05 - mse: 2.9575e-05 - val_loss: 44.6098 - val_mse: 44.6098\n",
      "Epoch 56/100\n",
      "60/60 [==============================] - 0s 2ms/sample - loss: 1.6614e-04 - mse: 1.6614e-04 - val_loss: 44.3301 - val_mse: 44.3301\n",
      "Epoch 57/100\n",
      "60/60 [==============================] - 0s 2ms/sample - loss: 0.0046 - mse: 0.0046 - val_loss: 44.6207 - val_mse: 44.6206\n",
      "Epoch 58/100\n",
      "60/60 [==============================] - 0s 2ms/sample - loss: 9.6154e-04 - mse: 9.6154e-04 - val_loss: 45.2559 - val_mse: 45.2559\n",
      "Epoch 59/100\n",
      "60/60 [==============================] - 0s 2ms/sample - loss: 0.0097 - mse: 0.0097 - val_loss: 44.4364 - val_mse: 44.4364\n",
      "Epoch 60/100\n"
     ]
    },
    {
     "name": "stdout",
     "output_type": "stream",
     "text": [
      "60/60 [==============================] - 0s 2ms/sample - loss: 0.0125 - mse: 0.0125 - val_loss: 45.2449 - val_mse: 45.2449\n",
      "Epoch 61/100\n",
      "60/60 [==============================] - 0s 2ms/sample - loss: 0.1358 - mse: 0.1358 - val_loss: 41.5844 - val_mse: 41.5844\n",
      "Epoch 62/100\n",
      "60/60 [==============================] - 0s 2ms/sample - loss: 1.1694 - mse: 1.1694 - val_loss: 45.1881 - val_mse: 45.1881\n",
      "Epoch 63/100\n",
      "60/60 [==============================] - 0s 2ms/sample - loss: 0.1797 - mse: 0.1797 - val_loss: 43.2244 - val_mse: 43.2244\n",
      "Epoch 64/100\n",
      "60/60 [==============================] - 0s 2ms/sample - loss: 0.0224 - mse: 0.0224 - val_loss: 44.9433 - val_mse: 44.9433\n",
      "Epoch 65/100\n",
      "60/60 [==============================] - 0s 2ms/sample - loss: 0.1861 - mse: 0.1861 - val_loss: 59.4258 - val_mse: 59.4258\n",
      "Epoch 66/100\n",
      "60/60 [==============================] - 0s 2ms/sample - loss: 0.2542 - mse: 0.2542 - val_loss: 46.6436 - val_mse: 46.6436\n",
      "Epoch 67/100\n",
      "60/60 [==============================] - 0s 2ms/sample - loss: 1.6219 - mse: 1.6219 - val_loss: 38.6158 - val_mse: 38.6158\n",
      "Epoch 68/100\n",
      "60/60 [==============================] - 0s 2ms/sample - loss: 0.7655 - mse: 0.7655 - val_loss: 46.6941 - val_mse: 46.6941\n",
      "Epoch 69/100\n",
      "60/60 [==============================] - 0s 2ms/sample - loss: 0.3266 - mse: 0.3266 - val_loss: 39.6590 - val_mse: 39.6590\n",
      "Epoch 70/100\n",
      "60/60 [==============================] - 0s 2ms/sample - loss: 0.5508 - mse: 0.5508 - val_loss: 44.4283 - val_mse: 44.4283\n",
      "Epoch 71/100\n",
      "60/60 [==============================] - 0s 2ms/sample - loss: 0.0287 - mse: 0.0287 - val_loss: 43.1131 - val_mse: 43.1131\n",
      "Epoch 72/100\n",
      "60/60 [==============================] - 0s 2ms/sample - loss: 3.8083e-04 - mse: 3.8083e-04 - val_loss: 43.2045 - val_mse: 43.2045\n",
      "Epoch 73/100\n",
      "60/60 [==============================] - 0s 2ms/sample - loss: 1.6634e-05 - mse: 1.6634e-05 - val_loss: 43.1623 - val_mse: 43.1623\n",
      "Epoch 74/100\n",
      "60/60 [==============================] - 0s 2ms/sample - loss: 2.8008e-07 - mse: 2.8008e-07 - val_loss: 43.1620 - val_mse: 43.1620\n",
      "Epoch 75/100\n",
      "60/60 [==============================] - 0s 2ms/sample - loss: 1.4489e-07 - mse: 1.4489e-07 - val_loss: 43.1660 - val_mse: 43.1660\n",
      "Epoch 76/100\n",
      "60/60 [==============================] - 0s 2ms/sample - loss: 1.2495e-09 - mse: 1.2495e-09 - val_loss: 43.1659 - val_mse: 43.1659\n",
      "Epoch 77/100\n",
      "60/60 [==============================] - 0s 2ms/sample - loss: 9.2550e-10 - mse: 9.2550e-10 - val_loss: 43.1655 - val_mse: 43.1655\n",
      "Epoch 78/100\n",
      "60/60 [==============================] - 0s 2ms/sample - loss: 6.2030e-09 - mse: 6.2030e-09 - val_loss: 43.1672 - val_mse: 43.1672\n",
      "Epoch 79/100\n",
      "60/60 [==============================] - 0s 2ms/sample - loss: 4.7732e-08 - mse: 4.7732e-08 - val_loss: 43.1674 - val_mse: 43.1674\n",
      "Epoch 80/100\n",
      "60/60 [==============================] - 0s 2ms/sample - loss: 1.0639e-06 - mse: 1.0639e-06 - val_loss: 43.1335 - val_mse: 43.1335\n",
      "Epoch 81/100\n",
      "60/60 [==============================] - 0s 2ms/sample - loss: 2.3059e-06 - mse: 2.3059e-06 - val_loss: 43.1636 - val_mse: 43.1636\n",
      "Epoch 82/100\n",
      "60/60 [==============================] - 0s 2ms/sample - loss: 1.0711e-06 - mse: 1.0711e-06 - val_loss: 43.1714 - val_mse: 43.1714\n",
      "Epoch 83/100\n",
      "60/60 [==============================] - 0s 2ms/sample - loss: 1.8465e-07 - mse: 1.8465e-07 - val_loss: 43.1740 - val_mse: 43.1740\n",
      "Epoch 84/100\n",
      "60/60 [==============================] - 0s 2ms/sample - loss: 2.3274e-05 - mse: 2.3274e-05 - val_loss: 43.2148 - val_mse: 43.2148\n",
      "Epoch 85/100\n",
      "60/60 [==============================] - 0s 2ms/sample - loss: 5.0572e-05 - mse: 5.0572e-05 - val_loss: 43.1835 - val_mse: 43.1835\n",
      "Epoch 86/100\n",
      "60/60 [==============================] - 0s 2ms/sample - loss: 3.8967e-05 - mse: 3.8967e-05 - val_loss: 43.2125 - val_mse: 43.2125\n",
      "Epoch 87/100\n",
      "60/60 [==============================] - 0s 2ms/sample - loss: 0.0368 - mse: 0.0368 - val_loss: 42.7435 - val_mse: 42.7435\n",
      "Epoch 88/100\n",
      "60/60 [==============================] - 0s 2ms/sample - loss: 0.6401 - mse: 0.6401 - val_loss: 51.7153 - val_mse: 51.7153\n",
      "Epoch 89/100\n",
      "60/60 [==============================] - 0s 2ms/sample - loss: 0.3457 - mse: 0.3457 - val_loss: 43.0755 - val_mse: 43.0755\n",
      "Epoch 90/100\n",
      "60/60 [==============================] - 0s 2ms/sample - loss: 0.0636 - mse: 0.0636 - val_loss: 42.3668 - val_mse: 42.3668\n",
      "Epoch 91/100\n",
      "60/60 [==============================] - 0s 2ms/sample - loss: 0.0029 - mse: 0.0029 - val_loss: 42.8615 - val_mse: 42.8615\n",
      "Epoch 92/100\n",
      "60/60 [==============================] - 0s 2ms/sample - loss: 2.5867e-05 - mse: 2.5867e-05 - val_loss: 42.9277 - val_mse: 42.9277\n",
      "Epoch 93/100\n",
      "60/60 [==============================] - 0s 2ms/sample - loss: 1.3322e-05 - mse: 1.3322e-05 - val_loss: 42.9304 - val_mse: 42.9304\n",
      "Epoch 94/100\n",
      "60/60 [==============================] - 0s 2ms/sample - loss: 2.2047e-05 - mse: 2.2047e-05 - val_loss: 42.9165 - val_mse: 42.9165\n",
      "Epoch 95/100\n",
      "60/60 [==============================] - 0s 2ms/sample - loss: 8.5628e-06 - mse: 8.5628e-06 - val_loss: 42.9341 - val_mse: 42.9341\n",
      "Epoch 96/100\n",
      "60/60 [==============================] - 0s 2ms/sample - loss: 8.2092e-06 - mse: 8.2092e-06 - val_loss: 42.9780 - val_mse: 42.9780\n",
      "Epoch 97/100\n",
      "60/60 [==============================] - 0s 2ms/sample - loss: 1.4559e-04 - mse: 1.4559e-04 - val_loss: 43.0676 - val_mse: 43.0676\n",
      "Epoch 98/100\n",
      "60/60 [==============================] - 0s 2ms/sample - loss: 3.7659e-04 - mse: 3.7659e-04 - val_loss: 43.6934 - val_mse: 43.6934\n",
      "Epoch 99/100\n",
      "60/60 [==============================] - 0s 2ms/sample - loss: 0.0116 - mse: 0.0116 - val_loss: 42.8732 - val_mse: 42.8732\n",
      "Epoch 100/100\n",
      "60/60 [==============================] - 0s 2ms/sample - loss: 0.5739 - mse: 0.5739 - val_loss: 48.6256 - val_mse: 48.6256\n"
     ]
    }
   ],
   "source": [
    "hist = model.fit(x_train, y_train, epochs=100, batch_size=1,validation_data = (x_val, y_val))"
   ]
  },
  {
   "cell_type": "markdown",
   "metadata": {},
   "source": [
    "## 5. 학습과정 살펴보기"
   ]
  },
  {
   "cell_type": "code",
   "execution_count": 13,
   "metadata": {},
   "outputs": [
    {
     "data": {
      "image/png": "[encoded data removed]",
      "text/plain": [
       "<Figure size 432x288 with 1 Axes>"
      ]
     },
     "metadata": {
      "needs_background": "light"
     },
     "output_type": "display_data"
    }
   ],
   "source": [
    "import matplotlib.pyplot as plt\n",
    "\n",
    "plt.plot(hist.history['loss'])\n",
    "plt.plot(hist.history['mse'])\n",
    "plt.plot(hist.history['val_loss'])\n",
    "plt.plot(hist.history['val_mse'])\n",
    "#plt.ylim(0.0, 1.5)\n",
    "plt.ylabel('loss')\n",
    "plt.xlabel('epoch')\n",
    "plt.legend(['loss', 'mse', 'val_loss', 'val_mse'], loc='upper right')\n",
    "plt.show()"
   ]
  },
  {
   "cell_type": "markdown",
   "metadata": {},
   "source": [
    "## 6. 모델 평가하기"
   ]
  },
  {
   "cell_type": "code",
   "execution_count": 14,
   "metadata": {},
   "outputs": [
    {
     "name": "stdout",
     "output_type": "stream",
     "text": [
      "20/20 [==============================] - 0s 2ms/sample - loss: 53.5956 - mse: 53.5956\n",
      "loss :  53.595569217205046\n",
      "mse :  53.59557\n"
     ]
    }
   ],
   "source": [
    "loss, mse = model.evaluate(x_test, y_test, batch_size =1)\n",
    "print(\"loss : \", loss)\n",
    "print(\"mse : \", mse )"
   ]
  },
  {
   "cell_type": "markdown",
   "metadata": {},
   "source": [
    "## 7. 예측하기 "
   ]
  },
  {
   "cell_type": "code",
   "execution_count": 15,
   "metadata": {},
   "outputs": [
    {
     "name": "stdout",
     "output_type": "stream",
     "text": [
      "결과물 : \n",
      " [[265.99323 366.4087 ]\n",
      " [281.32214 381.88934]\n",
      " [295.84015 398.2709 ]\n",
      " [267.01517 367.44077]\n",
      " [262.92746 363.3126 ]\n",
      " [306.88995 412.5478 ]\n",
      " [264.97128 365.37668]\n",
      " [291.42023 392.56015]\n",
      " [298.0501  401.12628]\n",
      " [315.72977 423.9693 ]\n",
      " [300.26004 403.98166]\n",
      " [287.45367 388.0816 ]\n",
      " [286.43176 387.04956]\n",
      " [279.27832 379.8253 ]\n",
      " [271.10287 371.56894]\n",
      " [276.2125  376.72913]\n",
      " [270.08093 370.5369 ]\n",
      " [274.16864 374.66504]\n",
      " [285.40982 386.0175 ]\n",
      " [309.09988 415.40314]]\n"
     ]
    }
   ],
   "source": [
    "y_predict = model.predict(x_test)\n",
    "print(\"결과물 : \\n\", y_predict)"
   ]
  },
  {
   "cell_type": "markdown",
   "metadata": {},
   "source": [
    "#### RMSE 구하기\n",
    "* __평균 제곱근 오차 - RMSE(Root Mean Squared Error)__ \n",
    "    - 회귀 분석을 평가할 때 가장 많이 사용하는 지표 중에 하나\n",
    "    - MSE에 루트를 사용\n",
    "    - 원래 데이터에서 평균을 뺀 값을 제곱하여 모두 더한 뒤 전체 개수로 나눈 값에 루트를 씌운 것\n",
    "    - RMSE는 낮을수록 정밀도가 높음"
   ]
  },
  {
   "cell_type": "code",
   "execution_count": 16,
   "metadata": {},
   "outputs": [
    {
     "name": "stdout",
     "output_type": "stream",
     "text": [
      "RMSE :  7.320899458580939\n"
     ]
    }
   ],
   "source": [
    "from sklearn.metrics import mean_squared_error\n",
    "def RMSE(y_test, y_predict):\n",
    "    return np.sqrt(mean_squared_error(y_test, y_predict))\n",
    "print(\"RMSE : \", RMSE(y_test, y_predict))"
   ]
  },
  {
   "cell_type": "markdown",
   "metadata": {},
   "source": [
    "#### R2 구하기\n",
    "* __결정 계수(R2)__\n",
    "    - 회귀 분석에서 많이 사용하는 지표 중에 하나\n",
    "    - RMSE와 반대로 높을수록 좋은 지표\n",
    "    - 0~1사이의 수치 - 0.73 정도의 값이 나오면 73%의 설명력을 가진다고 해석 \n",
    "    - 사이킷런에서 r2_score 함수로 제공 \n",
    "    - 만약 R2의 값이 음수가 나오면 학습 시 머신에 뭔가 잘못된 부분이 존재한다는 의미 "
   ]
  },
  {
   "cell_type": "code",
   "execution_count": 17,
   "metadata": {},
   "outputs": [
    {
     "name": "stdout",
     "output_type": "stream",
     "text": [
      "R2 :  0.6206630531175745\n"
     ]
    }
   ],
   "source": [
    "from sklearn.metrics import r2_score\n",
    "r2_y_predict = r2_score(y_test, y_predict)\n",
    "print(\"R2 : \", r2_y_predict)"
   ]
  },
  {
   "cell_type": "markdown",
   "metadata": {},
   "source": [
    "#### 새로운 데이터로 예측 수행하기 \n",
    "* x_predict에 새로운 값을 설정한 후 y_predict 값을 출력한다. "
   ]
  },
  {
   "cell_type": "code",
   "execution_count": 18,
   "metadata": {},
   "outputs": [
    {
     "name": "stdout",
     "output_type": "stream",
     "text": [
      "(10,)\n",
      "[[1005.23737 1314.8472 ]\n",
      " [1007.4474  1317.7026 ]\n",
      " [1009.6572  1320.5579 ]\n",
      " [1011.8673  1323.4133 ]\n",
      " [1014.0772  1326.2686 ]\n",
      " [1016.28723 1329.124  ]\n",
      " [1018.49713 1331.9795 ]\n",
      " [1020.70703 1334.8347 ]\n",
      " [1022.917   1337.6902 ]\n",
      " [1025.1271  1340.5457 ]]\n"
     ]
    }
   ],
   "source": [
    "x_predict = np.array(range(411, 421))\n",
    "x_predict = np.transpose(x_predict)    # 입력 가능한 형태로 변환 \n",
    "print(x_predict.shape)\n",
    "y_predict = model.predict(x_predict)\n",
    "print(y_predict)"
   ]
  },
  {
   "cell_type": "code",
   "execution_count": null,
   "metadata": {},
   "outputs": [],
   "source": []
  }
 ],
 "metadata": {
  "kernelspec": {
   "display_name": "Python 3",
   "language": "python",
   "name": "python3"
  },
  "language_info": {
   "codemirror_mode": {
    "name": "ipython",
    "version": 3
   },
   "file_extension": ".py",
   "mimetype": "text/x-python",
   "name": "python",
   "nbconvert_exporter": "python",
   "pygments_lexer": "ipython3",
   "version": "3.7.6"
  }
 },
 "nbformat": 4,
 "nbformat_minor": 4
}
