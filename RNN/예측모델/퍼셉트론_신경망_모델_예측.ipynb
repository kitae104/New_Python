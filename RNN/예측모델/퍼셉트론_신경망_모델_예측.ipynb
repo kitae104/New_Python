{
 "cells": [
  {
   "cell_type": "markdown",
   "metadata": {},
   "source": [
    "# 퍼셉트론 신경망 모델을 이용한 예측 모델 "
   ]
  },
  {
   "cell_type": "markdown",
   "metadata": {},
   "source": [
    "#### 0 사용할 패키지 불러오기 "
   ]
  },
  {
   "cell_type": "code",
   "execution_count": 3,
   "metadata": {},
   "outputs": [],
   "source": [
    "import numpy as np\n",
    "from tensorflow.keras.models import Sequential\n",
    "from tensorflow.keras.layers import Dense\n",
    "import random"
   ]
  },
  {
   "cell_type": "markdown",
   "metadata": {},
   "source": [
    "#### 1. 데이터셋 생성하기"
   ]
  },
  {
   "cell_type": "code",
   "execution_count": 5,
   "metadata": {},
   "outputs": [],
   "source": [
    "x_train = np.random.random((1000, 1))\n",
    "y_train = x_train * 2 + np.random.random((1000, 1)) / 3.0\n",
    "x_test = np.random.random((100, 1))\n",
    "y_test = x_test * 2 + np.random.random((100, 1)) / 3.0"
   ]
  },
  {
   "cell_type": "markdown",
   "metadata": {},
   "source": [
    "#### 2. 모델 구성하기"
   ]
  },
  {
   "cell_type": "code",
   "execution_count": 6,
   "metadata": {},
   "outputs": [
    {
     "name": "stdout",
     "output_type": "stream",
     "text": [
      "Model: \"sequential\"\n",
      "_________________________________________________________________\n",
      "Layer (type)                 Output Shape              Param #   \n",
      "=================================================================\n",
      "dense (Dense)                (None, 1)                 2         \n",
      "=================================================================\n",
      "Total params: 2\n",
      "Trainable params: 2\n",
      "Non-trainable params: 0\n",
      "_________________________________________________________________\n"
     ]
    }
   ],
   "source": [
    "model = Sequential()\n",
    "model.add(Dense(1, input_dim=1))\n",
    "model.summary()"
   ]
  },
  {
   "cell_type": "markdown",
   "metadata": {},
   "source": [
    "#### 3. 모델 학습과정 설정하기"
   ]
  },
  {
   "cell_type": "code",
   "execution_count": 8,
   "metadata": {},
   "outputs": [],
   "source": [
    "model.compile(optimizer='rmsprop', loss='mse')"
   ]
  },
  {
   "cell_type": "markdown",
   "metadata": {},
   "source": [
    "#### 4. 모델 학습시키기"
   ]
  },
  {
   "cell_type": "code",
   "execution_count": 9,
   "metadata": {},
   "outputs": [
    {
     "name": "stdout",
     "output_type": "stream",
     "text": [
      "Train on 1000 samples\n",
      "Epoch 1/50\n",
      "1000/1000 [==============================] - 1s 816us/sample - loss: 1.7142\n",
      "Epoch 2/50\n",
      "1000/1000 [==============================] - 0s 24us/sample - loss: 1.6440\n",
      "Epoch 3/50\n",
      "1000/1000 [==============================] - 0s 25us/sample - loss: 1.5840\n",
      "Epoch 4/50\n",
      "1000/1000 [==============================] - 0s 25us/sample - loss: 1.5275\n",
      "Epoch 5/50\n",
      "1000/1000 [==============================] - 0s 26us/sample - loss: 1.4724\n",
      "Epoch 6/50\n",
      "1000/1000 [==============================] - 0s 24us/sample - loss: 1.4177\n",
      "Epoch 7/50\n",
      "1000/1000 [==============================] - 0s 26us/sample - loss: 1.3639\n",
      "Epoch 8/50\n",
      "1000/1000 [==============================] - 0s 35us/sample - loss: 1.3117\n",
      "Epoch 9/50\n",
      "1000/1000 [==============================] - 0s 32us/sample - loss: 1.2607\n",
      "Epoch 10/50\n",
      "1000/1000 [==============================] - 0s 37us/sample - loss: 1.2107\n",
      "Epoch 11/50\n",
      "1000/1000 [==============================] - 0s 26us/sample - loss: 1.1621\n",
      "Epoch 12/50\n",
      "1000/1000 [==============================] - 0s 24us/sample - loss: 1.1148\n",
      "Epoch 13/50\n",
      "1000/1000 [==============================] - 0s 24us/sample - loss: 1.0685\n",
      "Epoch 14/50\n",
      "1000/1000 [==============================] - 0s 24us/sample - loss: 1.0233\n",
      "Epoch 15/50\n",
      "1000/1000 [==============================] - 0s 26us/sample - loss: 0.9794\n",
      "Epoch 16/50\n",
      "1000/1000 [==============================] - 0s 25us/sample - loss: 0.9364\n",
      "Epoch 17/50\n",
      "1000/1000 [==============================] - 0s 24us/sample - loss: 0.8948\n",
      "Epoch 18/50\n",
      "1000/1000 [==============================] - 0s 24us/sample - loss: 0.8540\n",
      "Epoch 19/50\n",
      "1000/1000 [==============================] - 0s 25us/sample - loss: 0.8148\n",
      "Epoch 20/50\n",
      "1000/1000 [==============================] - 0s 25us/sample - loss: 0.7766\n",
      "Epoch 21/50\n",
      "1000/1000 [==============================] - 0s 25us/sample - loss: 0.7395\n",
      "Epoch 22/50\n",
      "1000/1000 [==============================] - 0s 25us/sample - loss: 0.7033\n",
      "Epoch 23/50\n",
      "1000/1000 [==============================] - 0s 24us/sample - loss: 0.6686\n",
      "Epoch 24/50\n",
      "1000/1000 [==============================] - 0s 25us/sample - loss: 0.6351\n",
      "Epoch 25/50\n",
      "1000/1000 [==============================] - 0s 25us/sample - loss: 0.6024\n",
      "Epoch 26/50\n",
      "1000/1000 [==============================] - 0s 25us/sample - loss: 0.5710\n",
      "Epoch 27/50\n",
      "1000/1000 [==============================] - 0s 24us/sample - loss: 0.5408\n",
      "Epoch 28/50\n",
      "1000/1000 [==============================] - 0s 25us/sample - loss: 0.5117\n",
      "Epoch 29/50\n",
      "1000/1000 [==============================] - 0s 24us/sample - loss: 0.4838\n",
      "Epoch 30/50\n",
      "1000/1000 [==============================] - 0s 25us/sample - loss: 0.4570\n",
      "Epoch 31/50\n",
      "1000/1000 [==============================] - 0s 25us/sample - loss: 0.4315\n",
      "Epoch 32/50\n",
      "1000/1000 [==============================] - 0s 26us/sample - loss: 0.4068\n",
      "Epoch 33/50\n",
      "1000/1000 [==============================] - 0s 25us/sample - loss: 0.3835\n",
      "Epoch 34/50\n",
      "1000/1000 [==============================] - 0s 24us/sample - loss: 0.3610\n",
      "Epoch 35/50\n",
      "1000/1000 [==============================] - 0s 24us/sample - loss: 0.3400\n",
      "Epoch 36/50\n",
      "1000/1000 [==============================] - 0s 25us/sample - loss: 0.3202\n",
      "Epoch 37/50\n",
      "1000/1000 [==============================] - 0s 26us/sample - loss: 0.3015\n",
      "Epoch 38/50\n",
      "1000/1000 [==============================] - 0s 24us/sample - loss: 0.2837\n",
      "Epoch 39/50\n",
      "1000/1000 [==============================] - 0s 26us/sample - loss: 0.2673\n",
      "Epoch 40/50\n",
      "1000/1000 [==============================] - 0s 24us/sample - loss: 0.2517\n",
      "Epoch 41/50\n",
      "1000/1000 [==============================] - 0s 25us/sample - loss: 0.2373\n",
      "Epoch 42/50\n",
      "1000/1000 [==============================] - 0s 24us/sample - loss: 0.2239\n",
      "Epoch 43/50\n",
      "1000/1000 [==============================] - 0s 25us/sample - loss: 0.2118\n",
      "Epoch 44/50\n",
      "1000/1000 [==============================] - 0s 25us/sample - loss: 0.2006\n",
      "Epoch 45/50\n",
      "1000/1000 [==============================] - 0s 26us/sample - loss: 0.1906\n",
      "Epoch 46/50\n",
      "1000/1000 [==============================] - 0s 24us/sample - loss: 0.1817\n",
      "Epoch 47/50\n",
      "1000/1000 [==============================] - 0s 25us/sample - loss: 0.1738\n",
      "Epoch 48/50\n",
      "1000/1000 [==============================] - 0s 24us/sample - loss: 0.1669\n",
      "Epoch 49/50\n",
      "1000/1000 [==============================] - 0s 28us/sample - loss: 0.1610\n",
      "Epoch 50/50\n",
      "1000/1000 [==============================] - 0s 26us/sample - loss: 0.1562\n"
     ]
    }
   ],
   "source": [
    "hist = model.fit(x_train, y_train, epochs=50, batch_size=64)"
   ]
  },
  {
   "cell_type": "code",
   "execution_count": 11,
   "metadata": {},
   "outputs": [
    {
     "name": "stdout",
     "output_type": "stream",
     "text": [
      "[[0.7335358]] [0.760011]\n"
     ]
    }
   ],
   "source": [
    "w, b = model.get_weights()\n",
    "print(w, b)"
   ]
  },
  {
   "cell_type": "markdown",
   "metadata": {},
   "source": [
    "#### 5. 학습과정 살펴보기"
   ]
  },
  {
   "cell_type": "code",
   "execution_count": 12,
   "metadata": {},
   "outputs": [
    {
     "data": {
      "image/png": "[encoded data removed]",
      "text/plain": [
       "<Figure size 432x288 with 1 Axes>"
      ]
     },
     "metadata": {
      "needs_background": "light"
     },
     "output_type": "display_data"
    }
   ],
   "source": [
    "import matplotlib.pyplot as plt\n",
    "\n",
    "plt.plot(hist.history['loss'])\n",
    "plt.ylim(0.0, 1.5)\n",
    "plt.ylabel('loss')\n",
    "plt.xlabel('epoch')\n",
    "plt.legend(['train'], loc='upper left')\n",
    "plt.show()"
   ]
  },
  {
   "cell_type": "markdown",
   "metadata": {},
   "source": [
    "#### 6. 모델 평가하기"
   ]
  },
  {
   "cell_type": "code",
   "execution_count": 13,
   "metadata": {},
   "outputs": [
    {
     "name": "stdout",
     "output_type": "stream",
     "text": [
      "100/100 [==============================] - 0s 439us/sample - loss: 0.1549\n",
      "loss : 0.1549164217710495\n"
     ]
    }
   ],
   "source": [
    "loss = model.evaluate(x_test, y_test, batch_size=32)\n",
    "print('loss : ' + str(loss))"
   ]
  },
  {
   "cell_type": "code",
   "execution_count": null,
   "metadata": {},
   "outputs": [],
   "source": []
  }
 ],
 "metadata": {
  "kernelspec": {
   "display_name": "Python 3",
   "language": "python",
   "name": "python3"
  },
  "language_info": {
   "codemirror_mode": {
    "name": "ipython",
    "version": 3
   },
   "file_extension": ".py",
   "mimetype": "text/x-python",
   "name": "python",
   "nbconvert_exporter": "python",
   "pygments_lexer": "ipython3",
   "version": "3.7.6"
  }
 },
 "nbformat": 4,
 "nbformat_minor": 4
}
