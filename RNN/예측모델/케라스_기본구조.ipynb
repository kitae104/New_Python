{
 "cells": [
  {
   "cell_type": "markdown",
   "metadata": {},
   "source": [
    "# 101에서 110까지 구하기\n",
    "## 0. 관련 모듈 불러오기"
   ]
  },
  {
   "cell_type": "code",
   "execution_count": 1,
   "metadata": {},
   "outputs": [],
   "source": [
    "from tensorflow.keras.models import Sequential\n",
    "from tensorflow.keras.layers import Dense\n",
    "import numpy as np"
   ]
  },
  {
   "cell_type": "markdown",
   "metadata": {},
   "source": [
    "## 1. 데이터 준비\n",
    "#### 데이터와 정답(학습과 테스트)"
   ]
  },
  {
   "cell_type": "code",
   "execution_count": 2,
   "metadata": {},
   "outputs": [],
   "source": [
    "x_train = np.array([1,2,3,4,5,6,7,8,9,10])\n",
    "y_train = np.array([1,2,3,4,5,6,7,8,9,10])\n",
    "x_test = np.array([101,102,103,104,105,106,107,108,109,110])\n",
    "y_test = np.array([101,102,103,104,105,106,107,108,109,110])"
   ]
  },
  {
   "cell_type": "markdown",
   "metadata": {},
   "source": [
    "# 2. 모델 구성\n",
    "#### 모델 생성\n",
    "* 얼마나 많은 레이어와 노드를 준비할 것인가 설계\n",
    "* Dense(5, input_dim=1) : 1개의 입력으로 5개의 노드로 출력한다는 의미"
   ]
  },
  {
   "cell_type": "code",
   "execution_count": 10,
   "metadata": {},
   "outputs": [
    {
     "name": "stdout",
     "output_type": "stream",
     "text": [
      "Model: \"sequential_1\"\n",
      "_________________________________________________________________\n",
      "Layer (type)                 Output Shape              Param #   \n",
      "=================================================================\n",
      "dense_3 (Dense)              (None, 5)                 10        \n",
      "_________________________________________________________________\n",
      "dense_4 (Dense)              (None, 3)                 18        \n",
      "_________________________________________________________________\n",
      "dense_5 (Dense)              (None, 1)                 4         \n",
      "=================================================================\n",
      "Total params: 32\n",
      "Trainable params: 32\n",
      "Non-trainable params: 0\n",
      "_________________________________________________________________\n"
     ]
    }
   ],
   "source": [
    "model = Sequential()\n",
    "model.add(Dense(5, input_dim=1, activation='relu'))\n",
    "#model.add(Dense(5, input_dim=1))\n",
    "model.add(Dense(3))\n",
    "model.add(Dense(1, activation='relu'))\n",
    "#model.add(Dense(1))\n",
    "model.summary()"
   ]
  },
  {
   "cell_type": "markdown",
   "metadata": {},
   "source": [
    "## 3. 컴파일 및 훈련\n",
    "#### 모델 컴파일\n",
    "* 모델을 실행시키지 전에 머신이 이해할 수 있도록 컴파일 시킴\n",
    "* loss : 손실 마수는 어떤 것을 사용할 것인가? \n",
    "* optimizer : 최적화 함수는? \n",
    "* metrics : 어떤 방식? "
   ]
  },
  {
   "cell_type": "code",
   "execution_count": 11,
   "metadata": {},
   "outputs": [],
   "source": [
    "model.compile(optimizer='adam',loss='mse', metrics=['accuracy'])"
   ]
  },
  {
   "cell_type": "markdown",
   "metadata": {},
   "source": [
    "#### 모델 실행\n",
    "* epochs : 훈련 횟수\n",
    "* batch_size : 몇 개씩 끊어서 작업을 할 것인가를 의미 \n",
    "    - batch_size를 크게 잡을 경우 속도가 빨라지지만 정확도가 떨어짐\n",
    "    - 작게 잡을 경우 속도는 떨어지지만 정확도는 올라감"
   ]
  },
  {
   "cell_type": "code",
   "execution_count": 12,
   "metadata": {},
   "outputs": [
    {
     "name": "stdout",
     "output_type": "stream",
     "text": [
      "Train on 10 samples, validate on 10 samples\n",
      "Epoch 1/100\n",
      "10/10 [==============================] - 0s 29ms/sample - loss: 32.5383 - accuracy: 0.0000e+00 - val_loss: 8965.1120 - val_accuracy: 0.0000e+00\n",
      "Epoch 2/100\n",
      "10/10 [==============================] - 0s 3ms/sample - loss: 29.2121 - accuracy: 0.0000e+00 - val_loss: 8091.4893 - val_accuracy: 0.0000e+00\n",
      "Epoch 3/100\n",
      "10/10 [==============================] - 0s 3ms/sample - loss: 26.1816 - accuracy: 0.0000e+00 - val_loss: 7278.1504 - val_accuracy: 0.0000e+00\n",
      "Epoch 4/100\n",
      "10/10 [==============================] - 0s 3ms/sample - loss: 22.8252 - accuracy: 0.0000e+00 - val_loss: 6621.4238 - val_accuracy: 0.0000e+00\n",
      "Epoch 5/100\n",
      "10/10 [==============================] - 0s 3ms/sample - loss: 20.4798 - accuracy: 0.0000e+00 - val_loss: 5940.9871 - val_accuracy: 0.0000e+00\n",
      "Epoch 6/100\n",
      "10/10 [==============================] - 0s 3ms/sample - loss: 17.9372 - accuracy: 0.0000e+00 - val_loss: 5338.7465 - val_accuracy: 0.0000e+00\n",
      "Epoch 7/100\n",
      "10/10 [==============================] - 0s 3ms/sample - loss: 15.9723 - accuracy: 0.1000 - val_loss: 4732.9483 - val_accuracy: 0.0000e+00\n",
      "Epoch 8/100\n",
      "10/10 [==============================] - 0s 3ms/sample - loss: 13.7605 - accuracy: 0.1000 - val_loss: 4224.8403 - val_accuracy: 0.0000e+00\n",
      "Epoch 9/100\n",
      "10/10 [==============================] - 0s 3ms/sample - loss: 12.0113 - accuracy: 0.1000 - val_loss: 3744.5794 - val_accuracy: 0.0000e+00\n",
      "Epoch 10/100\n",
      "10/10 [==============================] - 0s 3ms/sample - loss: 10.2004 - accuracy: 0.1000 - val_loss: 3360.3128 - val_accuracy: 0.0000e+00\n",
      "Epoch 11/100\n",
      "10/10 [==============================] - 0s 3ms/sample - loss: 8.8239 - accuracy: 0.1000 - val_loss: 2976.2950 - val_accuracy: 0.0000e+00\n",
      "Epoch 12/100\n",
      "10/10 [==============================] - 0s 3ms/sample - loss: 7.5864 - accuracy: 0.1000 - val_loss: 2602.5484 - val_accuracy: 0.0000e+00\n",
      "Epoch 13/100\n",
      "10/10 [==============================] - 0s 3ms/sample - loss: 6.5027 - accuracy: 0.1000 - val_loss: 2243.9305 - val_accuracy: 0.0000e+00\n",
      "Epoch 14/100\n",
      "10/10 [==============================] - 0s 3ms/sample - loss: 5.3913 - accuracy: 0.1000 - val_loss: 1943.9466 - val_accuracy: 0.0000e+00\n",
      "Epoch 15/100\n",
      "10/10 [==============================] - 0s 3ms/sample - loss: 4.4704 - accuracy: 0.1000 - val_loss: 1681.9110 - val_accuracy: 0.0000e+00\n",
      "Epoch 16/100\n",
      "10/10 [==============================] - 0s 3ms/sample - loss: 3.7098 - accuracy: 0.1000 - val_loss: 1446.4405 - val_accuracy: 0.0000e+00\n",
      "Epoch 17/100\n",
      "10/10 [==============================] - 0s 3ms/sample - loss: 3.0393 - accuracy: 0.1000 - val_loss: 1237.3287 - val_accuracy: 0.0000e+00\n",
      "Epoch 18/100\n",
      "10/10 [==============================] - 0s 3ms/sample - loss: 2.4170 - accuracy: 0.1000 - val_loss: 1068.7160 - val_accuracy: 0.0000e+00\n",
      "Epoch 19/100\n",
      "10/10 [==============================] - 0s 3ms/sample - loss: 1.9601 - accuracy: 0.1000 - val_loss: 916.7952 - val_accuracy: 0.0000e+00\n",
      "Epoch 20/100\n",
      "10/10 [==============================] - 0s 3ms/sample - loss: 1.5874 - accuracy: 0.1000 - val_loss: 779.2045 - val_accuracy: 0.0000e+00\n",
      "Epoch 21/100\n",
      "10/10 [==============================] - 0s 3ms/sample - loss: 1.2341 - accuracy: 0.1000 - val_loss: 669.0264 - val_accuracy: 0.0000e+00\n",
      "Epoch 22/100\n",
      "10/10 [==============================] - 0s 3ms/sample - loss: 0.9525 - accuracy: 0.1000 - val_loss: 582.9682 - val_accuracy: 0.0000e+00\n",
      "Epoch 23/100\n",
      "10/10 [==============================] - 0s 3ms/sample - loss: 0.7804 - accuracy: 0.1000 - val_loss: 496.5692 - val_accuracy: 0.0000e+00\n",
      "Epoch 24/100\n",
      "10/10 [==============================] - 0s 4ms/sample - loss: 0.6029 - accuracy: 0.1000 - val_loss: 428.8704 - val_accuracy: 0.0000e+00\n",
      "Epoch 25/100\n",
      "10/10 [==============================] - 0s 4ms/sample - loss: 0.4678 - accuracy: 0.1000 - val_loss: 375.2349 - val_accuracy: 0.0000e+00\n",
      "Epoch 26/100\n",
      "10/10 [==============================] - 0s 3ms/sample - loss: 0.3878 - accuracy: 0.1000 - val_loss: 323.3227 - val_accuracy: 0.0000e+00\n",
      "Epoch 27/100\n",
      "10/10 [==============================] - 0s 3ms/sample - loss: 0.2978 - accuracy: 0.1000 - val_loss: 288.4126 - val_accuracy: 0.0000e+00\n",
      "Epoch 28/100\n",
      "10/10 [==============================] - 0s 3ms/sample - loss: 0.2538 - accuracy: 0.1000 - val_loss: 253.4263 - val_accuracy: 0.0000e+00\n",
      "Epoch 29/100\n",
      "10/10 [==============================] - 0s 3ms/sample - loss: 0.2150 - accuracy: 0.1000 - val_loss: 224.1672 - val_accuracy: 0.0000e+00\n",
      "Epoch 30/100\n",
      "10/10 [==============================] - 0s 3ms/sample - loss: 0.1887 - accuracy: 0.1000 - val_loss: 199.3695 - val_accuracy: 0.0000e+00\n",
      "Epoch 31/100\n",
      "10/10 [==============================] - 0s 3ms/sample - loss: 0.1614 - accuracy: 0.1000 - val_loss: 182.7379 - val_accuracy: 0.0000e+00\n",
      "Epoch 32/100\n",
      "10/10 [==============================] - 0s 3ms/sample - loss: 0.1479 - accuracy: 0.1000 - val_loss: 168.8249 - val_accuracy: 0.0000e+00\n",
      "Epoch 33/100\n",
      "10/10 [==============================] - 0s 3ms/sample - loss: 0.1374 - accuracy: 0.1000 - val_loss: 158.2223 - val_accuracy: 0.0000e+00\n",
      "Epoch 34/100\n",
      "10/10 [==============================] - 0s 3ms/sample - loss: 0.1318 - accuracy: 0.1000 - val_loss: 147.7744 - val_accuracy: 0.0000e+00\n",
      "Epoch 35/100\n",
      "10/10 [==============================] - 0s 3ms/sample - loss: 0.1260 - accuracy: 0.1000 - val_loss: 140.1340 - val_accuracy: 0.0000e+00\n",
      "Epoch 36/100\n",
      "10/10 [==============================] - 0s 3ms/sample - loss: 0.1210 - accuracy: 0.1000 - val_loss: 136.6077 - val_accuracy: 0.0000e+00\n",
      "Epoch 37/100\n",
      "10/10 [==============================] - 0s 3ms/sample - loss: 0.1196 - accuracy: 0.1000 - val_loss: 129.6591 - val_accuracy: 0.0000e+00\n",
      "Epoch 38/100\n",
      "10/10 [==============================] - 0s 3ms/sample - loss: 0.1163 - accuracy: 0.1000 - val_loss: 125.4421 - val_accuracy: 0.0000e+00\n",
      "Epoch 39/100\n",
      "10/10 [==============================] - 0s 3ms/sample - loss: 0.1150 - accuracy: 0.1000 - val_loss: 121.9469 - val_accuracy: 0.0000e+00\n",
      "Epoch 40/100\n",
      "10/10 [==============================] - 0s 3ms/sample - loss: 0.1129 - accuracy: 0.1000 - val_loss: 118.9941 - val_accuracy: 0.0000e+00\n",
      "Epoch 41/100\n",
      "10/10 [==============================] - 0s 3ms/sample - loss: 0.1120 - accuracy: 0.1000 - val_loss: 115.8967 - val_accuracy: 0.0000e+00\n",
      "Epoch 42/100\n",
      "10/10 [==============================] - 0s 3ms/sample - loss: 0.1109 - accuracy: 0.1000 - val_loss: 111.6217 - val_accuracy: 0.0000e+00\n",
      "Epoch 43/100\n",
      "10/10 [==============================] - 0s 3ms/sample - loss: 0.1097 - accuracy: 0.1000 - val_loss: 108.2574 - val_accuracy: 0.0000e+00\n",
      "Epoch 44/100\n",
      "10/10 [==============================] - 0s 3ms/sample - loss: 0.1081 - accuracy: 0.1000 - val_loss: 106.4612 - val_accuracy: 0.0000e+00\n",
      "Epoch 45/100\n",
      "10/10 [==============================] - 0s 3ms/sample - loss: 0.1068 - accuracy: 0.1000 - val_loss: 105.9211 - val_accuracy: 0.0000e+00\n",
      "Epoch 46/100\n",
      "10/10 [==============================] - 0s 3ms/sample - loss: 0.1065 - accuracy: 0.1000 - val_loss: 106.4783 - val_accuracy: 0.0000e+00\n",
      "Epoch 47/100\n",
      "10/10 [==============================] - 0s 3ms/sample - loss: 0.1047 - accuracy: 0.1000 - val_loss: 103.4763 - val_accuracy: 0.0000e+00\n",
      "Epoch 48/100\n",
      "10/10 [==============================] - 0s 3ms/sample - loss: 0.1035 - accuracy: 0.1000 - val_loss: 102.6869 - val_accuracy: 0.0000e+00\n",
      "Epoch 49/100\n",
      "10/10 [==============================] - 0s 3ms/sample - loss: 0.1032 - accuracy: 0.1000 - val_loss: 99.2384 - val_accuracy: 0.0000e+00\n",
      "Epoch 50/100\n",
      "10/10 [==============================] - 0s 3ms/sample - loss: 0.1024 - accuracy: 0.1000 - val_loss: 100.7978 - val_accuracy: 0.0000e+00\n",
      "Epoch 51/100\n",
      "10/10 [==============================] - 0s 3ms/sample - loss: 0.1002 - accuracy: 0.1000 - val_loss: 98.2608 - val_accuracy: 0.0000e+00\n",
      "Epoch 52/100\n",
      "10/10 [==============================] - 0s 3ms/sample - loss: 0.0992 - accuracy: 0.1000 - val_loss: 96.2920 - val_accuracy: 0.0000e+00\n",
      "Epoch 53/100\n",
      "10/10 [==============================] - 0s 3ms/sample - loss: 0.0981 - accuracy: 0.1000 - val_loss: 94.2442 - val_accuracy: 0.0000e+00\n",
      "Epoch 54/100\n",
      "10/10 [==============================] - 0s 3ms/sample - loss: 0.0968 - accuracy: 0.1000 - val_loss: 92.6690 - val_accuracy: 0.0000e+00\n",
      "Epoch 55/100\n"
     ]
    },
    {
     "name": "stdout",
     "output_type": "stream",
     "text": [
      "10/10 [==============================] - 0s 3ms/sample - loss: 0.0955 - accuracy: 0.1000 - val_loss: 92.7835 - val_accuracy: 0.0000e+00\n",
      "Epoch 56/100\n",
      "10/10 [==============================] - 0s 3ms/sample - loss: 0.0947 - accuracy: 0.1000 - val_loss: 91.4710 - val_accuracy: 0.0000e+00\n",
      "Epoch 57/100\n",
      "10/10 [==============================] - 0s 3ms/sample - loss: 0.0935 - accuracy: 0.1000 - val_loss: 92.0449 - val_accuracy: 0.0000e+00\n",
      "Epoch 58/100\n",
      "10/10 [==============================] - 0s 3ms/sample - loss: 0.0925 - accuracy: 0.1000 - val_loss: 91.0179 - val_accuracy: 0.0000e+00\n",
      "Epoch 59/100\n",
      "10/10 [==============================] - 0s 3ms/sample - loss: 0.0909 - accuracy: 0.1000 - val_loss: 89.2026 - val_accuracy: 0.0000e+00\n",
      "Epoch 60/100\n",
      "10/10 [==============================] - 0s 3ms/sample - loss: 0.0898 - accuracy: 0.1000 - val_loss: 87.5443 - val_accuracy: 0.0000e+00\n",
      "Epoch 61/100\n",
      "10/10 [==============================] - 0s 3ms/sample - loss: 0.0889 - accuracy: 0.1000 - val_loss: 86.8131 - val_accuracy: 0.0000e+00\n",
      "Epoch 62/100\n",
      "10/10 [==============================] - 0s 3ms/sample - loss: 0.0878 - accuracy: 0.1000 - val_loss: 84.5625 - val_accuracy: 0.0000e+00\n",
      "Epoch 63/100\n",
      "10/10 [==============================] - 0s 3ms/sample - loss: 0.0865 - accuracy: 0.1000 - val_loss: 83.5158 - val_accuracy: 0.0000e+00\n",
      "Epoch 64/100\n",
      "10/10 [==============================] - 0s 3ms/sample - loss: 0.0852 - accuracy: 0.1000 - val_loss: 83.0289 - val_accuracy: 0.0000e+00\n",
      "Epoch 65/100\n",
      "10/10 [==============================] - 0s 3ms/sample - loss: 0.0842 - accuracy: 0.1000 - val_loss: 82.1525 - val_accuracy: 0.0000e+00\n",
      "Epoch 66/100\n",
      "10/10 [==============================] - 0s 3ms/sample - loss: 0.0832 - accuracy: 0.1000 - val_loss: 82.3663 - val_accuracy: 0.0000e+00\n",
      "Epoch 67/100\n",
      "10/10 [==============================] - 0s 3ms/sample - loss: 0.0819 - accuracy: 0.1000 - val_loss: 80.0461 - val_accuracy: 0.0000e+00\n",
      "Epoch 68/100\n",
      "10/10 [==============================] - 0s 3ms/sample - loss: 0.0809 - accuracy: 0.1000 - val_loss: 78.3347 - val_accuracy: 0.0000e+00\n",
      "Epoch 69/100\n",
      "10/10 [==============================] - 0s 3ms/sample - loss: 0.0807 - accuracy: 0.1000 - val_loss: 79.4933 - val_accuracy: 0.0000e+00\n",
      "Epoch 70/100\n",
      "10/10 [==============================] - 0s 3ms/sample - loss: 0.0795 - accuracy: 0.1000 - val_loss: 75.3981 - val_accuracy: 0.0000e+00\n",
      "Epoch 71/100\n",
      "10/10 [==============================] - 0s 3ms/sample - loss: 0.0780 - accuracy: 0.1000 - val_loss: 73.2759 - val_accuracy: 0.0000e+00\n",
      "Epoch 72/100\n",
      "10/10 [==============================] - 0s 3ms/sample - loss: 0.0764 - accuracy: 0.1000 - val_loss: 73.3323 - val_accuracy: 0.0000e+00\n",
      "Epoch 73/100\n",
      "10/10 [==============================] - 0s 3ms/sample - loss: 0.0754 - accuracy: 0.1000 - val_loss: 72.0782 - val_accuracy: 0.0000e+00\n",
      "Epoch 74/100\n",
      "10/10 [==============================] - 0s 3ms/sample - loss: 0.0744 - accuracy: 0.1000 - val_loss: 72.8883 - val_accuracy: 0.0000e+00\n",
      "Epoch 75/100\n",
      "10/10 [==============================] - 0s 3ms/sample - loss: 0.0731 - accuracy: 0.1000 - val_loss: 70.9651 - val_accuracy: 0.0000e+00\n",
      "Epoch 76/100\n",
      "10/10 [==============================] - 0s 3ms/sample - loss: 0.0723 - accuracy: 0.1000 - val_loss: 70.6778 - val_accuracy: 0.0000e+00\n",
      "Epoch 77/100\n",
      "10/10 [==============================] - 0s 3ms/sample - loss: 0.0708 - accuracy: 0.1000 - val_loss: 68.9507 - val_accuracy: 0.0000e+00\n",
      "Epoch 78/100\n",
      "10/10 [==============================] - 0s 3ms/sample - loss: 0.0702 - accuracy: 0.1000 - val_loss: 66.6542 - val_accuracy: 0.0000e+00\n",
      "Epoch 79/100\n",
      "10/10 [==============================] - 0s 3ms/sample - loss: 0.0688 - accuracy: 0.1000 - val_loss: 66.6089 - val_accuracy: 0.0000e+00\n",
      "Epoch 80/100\n",
      "10/10 [==============================] - 0s 3ms/sample - loss: 0.0689 - accuracy: 0.1000 - val_loss: 68.1171 - val_accuracy: 0.0000e+00\n",
      "Epoch 81/100\n",
      "10/10 [==============================] - 0s 3ms/sample - loss: 0.0667 - accuracy: 0.1000 - val_loss: 66.9440 - val_accuracy: 0.0000e+00\n",
      "Epoch 82/100\n",
      "10/10 [==============================] - 0s 3ms/sample - loss: 0.0663 - accuracy: 0.1000 - val_loss: 62.7366 - val_accuracy: 0.0000e+00\n",
      "Epoch 83/100\n",
      "10/10 [==============================] - 0s 3ms/sample - loss: 0.0646 - accuracy: 0.1000 - val_loss: 60.9954 - val_accuracy: 0.0000e+00\n",
      "Epoch 84/100\n",
      "10/10 [==============================] - 0s 3ms/sample - loss: 0.0640 - accuracy: 0.1000 - val_loss: 59.7333 - val_accuracy: 0.0000e+00\n",
      "Epoch 85/100\n",
      "10/10 [==============================] - 0s 3ms/sample - loss: 0.0627 - accuracy: 0.1000 - val_loss: 60.1847 - val_accuracy: 0.0000e+00\n",
      "Epoch 86/100\n",
      "10/10 [==============================] - 0s 3ms/sample - loss: 0.0614 - accuracy: 0.1000 - val_loss: 58.9636 - val_accuracy: 0.0000e+00\n",
      "Epoch 87/100\n",
      "10/10 [==============================] - 0s 3ms/sample - loss: 0.0605 - accuracy: 0.1000 - val_loss: 58.7044 - val_accuracy: 0.0000e+00\n",
      "Epoch 88/100\n",
      "10/10 [==============================] - 0s 3ms/sample - loss: 0.0599 - accuracy: 0.1000 - val_loss: 59.2459 - val_accuracy: 0.0000e+00\n",
      "Epoch 89/100\n",
      "10/10 [==============================] - 0s 3ms/sample - loss: 0.0592 - accuracy: 0.1000 - val_loss: 56.0278 - val_accuracy: 0.0000e+00\n",
      "Epoch 90/100\n",
      "10/10 [==============================] - 0s 3ms/sample - loss: 0.0574 - accuracy: 0.1000 - val_loss: 55.4367 - val_accuracy: 0.0000e+00\n",
      "Epoch 91/100\n",
      "10/10 [==============================] - 0s 3ms/sample - loss: 0.0566 - accuracy: 0.1000 - val_loss: 54.7948 - val_accuracy: 0.0000e+00\n",
      "Epoch 92/100\n",
      "10/10 [==============================] - 0s 3ms/sample - loss: 0.0555 - accuracy: 0.1000 - val_loss: 53.9750 - val_accuracy: 0.0000e+00\n",
      "Epoch 93/100\n",
      "10/10 [==============================] - 0s 3ms/sample - loss: 0.0544 - accuracy: 0.1000 - val_loss: 53.3755 - val_accuracy: 0.0000e+00\n",
      "Epoch 94/100\n",
      "10/10 [==============================] - 0s 3ms/sample - loss: 0.0538 - accuracy: 0.1000 - val_loss: 51.4276 - val_accuracy: 0.0000e+00\n",
      "Epoch 95/100\n",
      "10/10 [==============================] - 0s 3ms/sample - loss: 0.0528 - accuracy: 0.1000 - val_loss: 50.5695 - val_accuracy: 0.0000e+00\n",
      "Epoch 96/100\n",
      "10/10 [==============================] - 0s 3ms/sample - loss: 0.0520 - accuracy: 0.1000 - val_loss: 48.9397 - val_accuracy: 0.0000e+00\n",
      "Epoch 97/100\n",
      "10/10 [==============================] - 0s 3ms/sample - loss: 0.0510 - accuracy: 0.1000 - val_loss: 49.7566 - val_accuracy: 0.0000e+00\n",
      "Epoch 98/100\n",
      "10/10 [==============================] - 0s 3ms/sample - loss: 0.0499 - accuracy: 0.1000 - val_loss: 47.8766 - val_accuracy: 0.0000e+00\n",
      "Epoch 99/100\n",
      "10/10 [==============================] - 0s 3ms/sample - loss: 0.0494 - accuracy: 0.1000 - val_loss: 48.1524 - val_accuracy: 0.0000e+00\n",
      "Epoch 100/100\n",
      "10/10 [==============================] - 0s 3ms/sample - loss: 0.0484 - accuracy: 0.1000 - val_loss: 46.2448 - val_accuracy: 0.0000e+00\n"
     ]
    }
   ],
   "source": [
    "hist = model.fit(x_train, y_train, epochs=100, batch_size=1,validation_data = (x_test, y_test))"
   ]
  },
  {
   "cell_type": "markdown",
   "metadata": {},
   "source": [
    "#### 그래프 확인"
   ]
  },
  {
   "cell_type": "code",
   "execution_count": 13,
   "metadata": {},
   "outputs": [
    {
     "data": {
      "image/png": "[encoded data removed]",
      "text/plain": [
       "<Figure size 432x288 with 1 Axes>"
      ]
     },
     "metadata": {
      "needs_background": "light"
     },
     "output_type": "display_data"
    }
   ],
   "source": [
    "import matplotlib.pyplot as plt\n",
    "\n",
    "plt.plot(hist.history['loss'])\n",
    "plt.plot(hist.history['accuracy'])\n",
    "plt.plot(hist.history['val_loss'])\n",
    "plt.plot(hist.history['val_accuracy'])\n",
    "#plt.ylim(0.0, 1.5)\n",
    "plt.ylabel('loss')\n",
    "plt.xlabel('epoch')\n",
    "plt.legend(['loss', 'accuracy', 'val_loss', 'val_accuracy'], loc='upper right')\n",
    "plt.show()"
   ]
  },
  {
   "cell_type": "markdown",
   "metadata": {},
   "source": [
    "## 4. 평가 및 예측"
   ]
  },
  {
   "cell_type": "markdown",
   "metadata": {},
   "source": [
    "#### 모델 평가\n",
    "* loss : 작을수록 좋음\n",
    "* acc : 1에 가까울 수록 좋음"
   ]
  },
  {
   "cell_type": "code",
   "execution_count": 14,
   "metadata": {},
   "outputs": [
    {
     "name": "stdout",
     "output_type": "stream",
     "text": [
      "10/10 [==============================] - 0s 2ms/sample - loss: 46.2448 - accuracy: 0.0000e+00\n",
      "loss : 46.24475784301758\n",
      "acc : 0.0\n"
     ]
    }
   ],
   "source": [
    "loss, acc = model.evaluate(x_test, y_test, batch_size=1)\n",
    "print(\"loss :\", loss)\n",
    "print(\"acc :\", acc)"
   ]
  },
  {
   "cell_type": "markdown",
   "metadata": {},
   "source": [
    "#### 예측하기"
   ]
  },
  {
   "cell_type": "code",
   "execution_count": 15,
   "metadata": {},
   "outputs": [
    {
     "name": "stdout",
     "output_type": "stream",
     "text": [
      "결과물 : \n",
      " [[ 94.51246 ]\n",
      " [ 95.443596]\n",
      " [ 96.37473 ]\n",
      " [ 97.305855]\n",
      " [ 98.236946]\n",
      " [ 99.16808 ]\n",
      " [100.099205]\n",
      " [101.03036 ]\n",
      " [101.961464]\n",
      " [102.892586]]\n"
     ]
    }
   ],
   "source": [
    "output = model.predict(x_test)\n",
    "print(\"결과물 : \\n\", output)"
   ]
  },
  {
   "cell_type": "code",
   "execution_count": null,
   "metadata": {},
   "outputs": [],
   "source": []
  }
 ],
 "metadata": {
  "kernelspec": {
   "display_name": "Python 3",
   "language": "python",
   "name": "python3"
  },
  "language_info": {
   "codemirror_mode": {
    "name": "ipython",
    "version": 3
   },
   "file_extension": ".py",
   "mimetype": "text/x-python",
   "name": "python",
   "nbconvert_exporter": "python",
   "pygments_lexer": "ipython3",
   "version": "3.7.6"
  }
 },
 "nbformat": 4,
 "nbformat_minor": 4
}
