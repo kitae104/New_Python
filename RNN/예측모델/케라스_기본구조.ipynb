{
 "cells": [
  {
   "cell_type": "markdown",
   "metadata": {},
   "source": [
    "# 101에서 110까지 구하기\n",
    "## 0. 관련 모듈 불러오기"
   ]
  },
  {
   "cell_type": "code",
   "execution_count": 1,
   "metadata": {},
   "outputs": [],
   "source": [
    "from tensorflow.keras.models import Sequential\n",
    "from tensorflow.keras.layers import Dense\n",
    "import numpy as np"
   ]
  },
  {
   "cell_type": "markdown",
   "metadata": {},
   "source": [
    "## 1. 데이터 준비\n",
    "#### 데이터와 정답(학습과 테스트)"
   ]
  },
  {
   "cell_type": "code",
   "execution_count": 2,
   "metadata": {},
   "outputs": [],
   "source": [
    "x_train = np.array([1,2,3,4,5,6,7,8,9,10])\n",
    "y_train = np.array([1,2,3,4,5,6,7,8,9,10])\n",
    "x_test = np.array([101,102,103,104,105,106,107,108,109,110])\n",
    "y_test = np.array([101,102,103,104,105,106,107,108,109,110])"
   ]
  },
  {
   "cell_type": "markdown",
   "metadata": {},
   "source": [
    "# 2. 모델 구성\n",
    "#### 모델 생성\n",
    "* 얼마나 많은 레이어와 노드를 준비할 것인가 설계\n",
    "* Dense(5, input_dim=1) : 1개의 입력으로 5개의 노드로 출력한다는 의미"
   ]
  },
  {
   "cell_type": "code",
   "execution_count": 3,
   "metadata": {},
   "outputs": [
    {
     "name": "stdout",
     "output_type": "stream",
     "text": [
      "Model: \"sequential\"\n",
      "_________________________________________________________________\n",
      "Layer (type)                 Output Shape              Param #   \n",
      "=================================================================\n",
      "dense (Dense)                (None, 5)                 10        \n",
      "_________________________________________________________________\n",
      "dense_1 (Dense)              (None, 3)                 18        \n",
      "_________________________________________________________________\n",
      "dense_2 (Dense)              (None, 1)                 4         \n",
      "=================================================================\n",
      "Total params: 32\n",
      "Trainable params: 32\n",
      "Non-trainable params: 0\n",
      "_________________________________________________________________\n"
     ]
    }
   ],
   "source": [
    "model = Sequential()\n",
    "#model.add(Dense(5, input_dim=1, activation='relu'))\n",
    "model.add(Dense(5, input_dim=1))\n",
    "model.add(Dense(3))\n",
    "#model.add(Dense(1, activation='relu'))\n",
    "model.add(Dense(1))\n",
    "model.summary()"
   ]
  },
  {
   "cell_type": "markdown",
   "metadata": {},
   "source": [
    "## 3. 컴파일 및 훈련\n",
    "#### 모델 컴파일\n",
    "* 모델을 실행시키지 전에 머신이 이해할 수 있도록 컴파일 시킴"
   ]
  },
  {
   "cell_type": "code",
   "execution_count": 4,
   "metadata": {},
   "outputs": [],
   "source": [
    "model.compile(optimizer='adam',loss='mse', metrics=['accuracy'])"
   ]
  },
  {
   "cell_type": "markdown",
   "metadata": {},
   "source": [
    "#### 모델 실행"
   ]
  },
  {
   "cell_type": "code",
   "execution_count": 5,
   "metadata": {},
   "outputs": [
    {
     "name": "stdout",
     "output_type": "stream",
     "text": [
      "Train on 10 samples, validate on 10 samples\n",
      "Epoch 1/100\n",
      "10/10 [==============================] - 1s 53ms/sample - loss: 56.1187 - accuracy: 0.0000e+00 - val_loss: 15401.8818 - val_accuracy: 0.0000e+00\n",
      "Epoch 2/100\n",
      "10/10 [==============================] - 0s 3ms/sample - loss: 50.7202 - accuracy: 0.0000e+00 - val_loss: 14011.8236 - val_accuracy: 0.0000e+00\n",
      "Epoch 3/100\n",
      "10/10 [==============================] - 0s 3ms/sample - loss: 45.6910 - accuracy: 0.0000e+00 - val_loss: 12693.2737 - val_accuracy: 0.0000e+00\n",
      "Epoch 4/100\n",
      "10/10 [==============================] - 0s 3ms/sample - loss: 40.6267 - accuracy: 0.0000e+00 - val_loss: 11531.5354 - val_accuracy: 0.0000e+00\n",
      "Epoch 5/100\n",
      "10/10 [==============================] - 0s 3ms/sample - loss: 36.2957 - accuracy: 0.0000e+00 - val_loss: 10422.7247 - val_accuracy: 0.0000e+00\n",
      "Epoch 6/100\n",
      "10/10 [==============================] - 0s 3ms/sample - loss: 32.2122 - accuracy: 0.0000e+00 - val_loss: 9385.0210 - val_accuracy: 0.0000e+00\n",
      "Epoch 7/100\n",
      "10/10 [==============================] - 0s 3ms/sample - loss: 28.6386 - accuracy: 0.0000e+00 - val_loss: 8375.2997 - val_accuracy: 0.0000e+00\n",
      "Epoch 8/100\n",
      "10/10 [==============================] - 0s 3ms/sample - loss: 25.5610 - accuracy: 0.0000e+00 - val_loss: 7379.8689 - val_accuracy: 0.0000e+00\n",
      "Epoch 9/100\n",
      "10/10 [==============================] - 0s 3ms/sample - loss: 21.8218 - accuracy: 0.1000 - val_loss: 6585.6025 - val_accuracy: 0.0000e+00\n",
      "Epoch 10/100\n",
      "10/10 [==============================] - 0s 3ms/sample - loss: 19.2689 - accuracy: 0.1000 - val_loss: 5766.8620 - val_accuracy: 0.0000e+00\n",
      "Epoch 11/100\n",
      "10/10 [==============================] - 0s 3ms/sample - loss: 16.3035 - accuracy: 0.1000 - val_loss: 5088.7232 - val_accuracy: 0.0000e+00\n",
      "Epoch 12/100\n",
      "10/10 [==============================] - 0s 3ms/sample - loss: 14.1864 - accuracy: 0.1000 - val_loss: 4389.6187 - val_accuracy: 0.0000e+00\n",
      "Epoch 13/100\n",
      "10/10 [==============================] - 0s 3ms/sample - loss: 11.6221 - accuracy: 0.1000 - val_loss: 3846.2918 - val_accuracy: 0.0000e+00\n",
      "Epoch 14/100\n",
      "10/10 [==============================] - 0s 3ms/sample - loss: 10.0324 - accuracy: 0.1000 - val_loss: 3252.0110 - val_accuracy: 0.0000e+00\n",
      "Epoch 15/100\n",
      "10/10 [==============================] - 0s 3ms/sample - loss: 8.0811 - accuracy: 0.1000 - val_loss: 2765.1204 - val_accuracy: 0.0000e+00\n",
      "Epoch 16/100\n",
      "10/10 [==============================] - 0s 4ms/sample - loss: 6.5058 - accuracy: 0.1000 - val_loss: 2342.5460 - val_accuracy: 0.0000e+00\n",
      "Epoch 17/100\n",
      "10/10 [==============================] - 0s 4ms/sample - loss: 5.1623 - accuracy: 0.1000 - val_loss: 1977.5787 - val_accuracy: 0.0000e+00\n",
      "Epoch 18/100\n",
      "10/10 [==============================] - 0s 4ms/sample - loss: 4.2000 - accuracy: 0.1000 - val_loss: 1618.2368 - val_accuracy: 0.0000e+00\n",
      "Epoch 19/100\n",
      "10/10 [==============================] - 0s 3ms/sample - loss: 3.1513 - accuracy: 0.1000 - val_loss: 1338.2697 - val_accuracy: 0.0000e+00\n",
      "Epoch 20/100\n",
      "10/10 [==============================] - 0s 3ms/sample - loss: 2.3912 - accuracy: 0.1000 - val_loss: 1099.4576 - val_accuracy: 0.0000e+00\n",
      "Epoch 21/100\n",
      "10/10 [==============================] - 0s 3ms/sample - loss: 1.8285 - accuracy: 0.1000 - val_loss: 888.8700 - val_accuracy: 0.0000e+00\n",
      "Epoch 22/100\n",
      "10/10 [==============================] - 0s 3ms/sample - loss: 1.3690 - accuracy: 0.1000 - val_loss: 712.3038 - val_accuracy: 0.0000e+00\n",
      "Epoch 23/100\n",
      "10/10 [==============================] - 0s 3ms/sample - loss: 0.9414 - accuracy: 0.1000 - val_loss: 591.9485 - val_accuracy: 0.0000e+00\n",
      "Epoch 24/100\n",
      "10/10 [==============================] - 0s 3ms/sample - loss: 0.7115 - accuracy: 0.1000 - val_loss: 485.0534 - val_accuracy: 0.0000e+00\n",
      "Epoch 25/100\n",
      "10/10 [==============================] - 0s 3ms/sample - loss: 0.5231 - accuracy: 0.1000 - val_loss: 400.4504 - val_accuracy: 0.0000e+00\n",
      "Epoch 26/100\n",
      "10/10 [==============================] - 0s 3ms/sample - loss: 0.3789 - accuracy: 0.1000 - val_loss: 339.8301 - val_accuracy: 0.0000e+00\n",
      "Epoch 27/100\n",
      "10/10 [==============================] - 0s 3ms/sample - loss: 0.3134 - accuracy: 0.1000 - val_loss: 282.5961 - val_accuracy: 0.0000e+00\n",
      "Epoch 28/100\n",
      "10/10 [==============================] - 0s 3ms/sample - loss: 0.2316 - accuracy: 0.1000 - val_loss: 247.6514 - val_accuracy: 0.0000e+00\n",
      "Epoch 29/100\n",
      "10/10 [==============================] - 0s 3ms/sample - loss: 0.1998 - accuracy: 0.1000 - val_loss: 217.3775 - val_accuracy: 0.0000e+00\n",
      "Epoch 30/100\n",
      "10/10 [==============================] - 0s 3ms/sample - loss: 0.1737 - accuracy: 0.1000 - val_loss: 195.1575 - val_accuracy: 0.0000e+00\n",
      "Epoch 31/100\n",
      "10/10 [==============================] - 0s 3ms/sample - loss: 0.1569 - accuracy: 0.1000 - val_loss: 179.0260 - val_accuracy: 0.0000e+00\n",
      "Epoch 32/100\n",
      "10/10 [==============================] - 0s 3ms/sample - loss: 0.1487 - accuracy: 0.1000 - val_loss: 165.3330 - val_accuracy: 0.0000e+00\n",
      "Epoch 33/100\n",
      "10/10 [==============================] - 0s 3ms/sample - loss: 0.1429 - accuracy: 0.1000 - val_loss: 154.1624 - val_accuracy: 0.0000e+00\n",
      "Epoch 34/100\n",
      "10/10 [==============================] - 0s 3ms/sample - loss: 0.1377 - accuracy: 0.1000 - val_loss: 151.8667 - val_accuracy: 0.0000e+00\n",
      "Epoch 35/100\n",
      "10/10 [==============================] - 0s 3ms/sample - loss: 0.1358 - accuracy: 0.1000 - val_loss: 142.7348 - val_accuracy: 0.0000e+00\n",
      "Epoch 36/100\n",
      "10/10 [==============================] - 0s 3ms/sample - loss: 0.1333 - accuracy: 0.1000 - val_loss: 140.4674 - val_accuracy: 0.0000e+00\n",
      "Epoch 37/100\n",
      "10/10 [==============================] - 0s 3ms/sample - loss: 0.1313 - accuracy: 0.1000 - val_loss: 135.6013 - val_accuracy: 0.0000e+00\n",
      "Epoch 38/100\n",
      "10/10 [==============================] - 0s 3ms/sample - loss: 0.1302 - accuracy: 0.1000 - val_loss: 130.3962 - val_accuracy: 0.0000e+00\n",
      "Epoch 39/100\n",
      "10/10 [==============================] - 0s 3ms/sample - loss: 0.1289 - accuracy: 0.1000 - val_loss: 126.8602 - val_accuracy: 0.0000e+00\n",
      "Epoch 40/100\n",
      "10/10 [==============================] - 0s 3ms/sample - loss: 0.1276 - accuracy: 0.1000 - val_loss: 126.4647 - val_accuracy: 0.0000e+00\n",
      "Epoch 41/100\n",
      "10/10 [==============================] - 0s 3ms/sample - loss: 0.1268 - accuracy: 0.1000 - val_loss: 123.1483 - val_accuracy: 0.0000e+00\n",
      "Epoch 42/100\n",
      "10/10 [==============================] - 0s 3ms/sample - loss: 0.1259 - accuracy: 0.1000 - val_loss: 123.7816 - val_accuracy: 0.0000e+00\n",
      "Epoch 43/100\n",
      "10/10 [==============================] - 0s 3ms/sample - loss: 0.1244 - accuracy: 0.1000 - val_loss: 121.2761 - val_accuracy: 0.0000e+00\n",
      "Epoch 44/100\n",
      "10/10 [==============================] - 0s 3ms/sample - loss: 0.1233 - accuracy: 0.1000 - val_loss: 118.9989 - val_accuracy: 0.0000e+00\n",
      "Epoch 45/100\n",
      "10/10 [==============================] - ETA: 0s - loss: 0.0166 - accuracy: 0.0000e+ - 0s 3ms/sample - loss: 0.1223 - accuracy: 0.1000 - val_loss: 117.2778 - val_accuracy: 0.0000e+00\n",
      "Epoch 46/100\n",
      "10/10 [==============================] - 0s 3ms/sample - loss: 0.1210 - accuracy: 0.1000 - val_loss: 116.3287 - val_accuracy: 0.0000e+00\n",
      "Epoch 47/100\n",
      "10/10 [==============================] - 0s 3ms/sample - loss: 0.1205 - accuracy: 0.1000 - val_loss: 117.0252 - val_accuracy: 0.0000e+00\n",
      "Epoch 48/100\n",
      "10/10 [==============================] - 0s 3ms/sample - loss: 0.1190 - accuracy: 0.1000 - val_loss: 114.7167 - val_accuracy: 0.0000e+00\n",
      "Epoch 49/100\n",
      "10/10 [==============================] - 0s 3ms/sample - loss: 0.1179 - accuracy: 0.1000 - val_loss: 113.6943 - val_accuracy: 0.0000e+00\n",
      "Epoch 50/100\n",
      "10/10 [==============================] - 0s 3ms/sample - loss: 0.1168 - accuracy: 0.1000 - val_loss: 112.6407 - val_accuracy: 0.0000e+00\n",
      "Epoch 51/100\n",
      "10/10 [==============================] - 0s 3ms/sample - loss: 0.1169 - accuracy: 0.1000 - val_loss: 114.3380 - val_accuracy: 0.0000e+00\n",
      "Epoch 52/100\n",
      "10/10 [==============================] - 0s 3ms/sample - loss: 0.1145 - accuracy: 0.1000 - val_loss: 111.5226 - val_accuracy: 0.0000e+00\n",
      "Epoch 53/100\n",
      "10/10 [==============================] - 0s 3ms/sample - loss: 0.1132 - accuracy: 0.1000 - val_loss: 109.5739 - val_accuracy: 0.0000e+00\n",
      "Epoch 54/100\n"
     ]
    },
    {
     "name": "stdout",
     "output_type": "stream",
     "text": [
      "10/10 [==============================] - 0s 3ms/sample - loss: 0.1129 - accuracy: 0.1000 - val_loss: 106.1517 - val_accuracy: 0.0000e+00\n",
      "Epoch 55/100\n",
      "10/10 [==============================] - 0s 3ms/sample - loss: 0.1113 - accuracy: 0.1000 - val_loss: 107.7167 - val_accuracy: 0.0000e+00\n",
      "Epoch 56/100\n",
      "10/10 [==============================] - 0s 3ms/sample - loss: 0.1103 - accuracy: 0.1000 - val_loss: 106.8679 - val_accuracy: 0.0000e+00\n",
      "Epoch 57/100\n",
      "10/10 [==============================] - 0s 3ms/sample - loss: 0.1088 - accuracy: 0.1000 - val_loss: 104.5029 - val_accuracy: 0.0000e+00\n",
      "Epoch 58/100\n",
      "10/10 [==============================] - 0s 3ms/sample - loss: 0.1078 - accuracy: 0.1000 - val_loss: 104.6913 - val_accuracy: 0.0000e+00\n",
      "Epoch 59/100\n",
      "10/10 [==============================] - 0s 3ms/sample - loss: 0.1068 - accuracy: 0.1000 - val_loss: 101.0577 - val_accuracy: 0.0000e+00\n",
      "Epoch 60/100\n",
      "10/10 [==============================] - 0s 3ms/sample - loss: 0.1060 - accuracy: 0.1000 - val_loss: 102.1148 - val_accuracy: 0.0000e+00\n",
      "Epoch 61/100\n",
      "10/10 [==============================] - 0s 3ms/sample - loss: 0.1041 - accuracy: 0.1000 - val_loss: 101.3539 - val_accuracy: 0.0000e+00\n",
      "Epoch 62/100\n",
      "10/10 [==============================] - 0s 3ms/sample - loss: 0.1029 - accuracy: 0.1000 - val_loss: 100.0062 - val_accuracy: 0.0000e+00\n",
      "Epoch 63/100\n",
      "10/10 [==============================] - 0s 3ms/sample - loss: 0.1027 - accuracy: 0.1000 - val_loss: 96.1780 - val_accuracy: 0.0000e+00\n",
      "Epoch 64/100\n",
      "10/10 [==============================] - ETA: 0s - loss: 0.0361 - accuracy: 0.0000e+ - 0s 3ms/sample - loss: 0.1013 - accuracy: 0.1000 - val_loss: 97.2597 - val_accuracy: 0.0000e+00\n",
      "Epoch 65/100\n",
      "10/10 [==============================] - 0s 3ms/sample - loss: 0.0996 - accuracy: 0.1000 - val_loss: 95.6674 - val_accuracy: 0.0000e+00\n",
      "Epoch 66/100\n",
      "10/10 [==============================] - 0s 3ms/sample - loss: 0.0990 - accuracy: 0.1000 - val_loss: 95.7557 - val_accuracy: 0.0000e+00\n",
      "Epoch 67/100\n",
      "10/10 [==============================] - 0s 3ms/sample - loss: 0.0977 - accuracy: 0.1000 - val_loss: 96.6145 - val_accuracy: 0.0000e+00\n",
      "Epoch 68/100\n",
      "10/10 [==============================] - 0s 3ms/sample - loss: 0.0973 - accuracy: 0.1000 - val_loss: 91.2164 - val_accuracy: 0.0000e+00\n",
      "Epoch 69/100\n",
      "10/10 [==============================] - 0s 3ms/sample - loss: 0.0953 - accuracy: 0.1000 - val_loss: 89.3922 - val_accuracy: 0.0000e+00\n",
      "Epoch 70/100\n",
      "10/10 [==============================] - 0s 3ms/sample - loss: 0.0938 - accuracy: 0.1000 - val_loss: 89.3228 - val_accuracy: 0.0000e+00\n",
      "Epoch 71/100\n",
      "10/10 [==============================] - 0s 3ms/sample - loss: 0.0931 - accuracy: 0.1000 - val_loss: 88.1233 - val_accuracy: 0.0000e+00\n",
      "Epoch 72/100\n",
      "10/10 [==============================] - 0s 3ms/sample - loss: 0.0929 - accuracy: 0.1000 - val_loss: 90.4415 - val_accuracy: 0.0000e+00\n",
      "Epoch 73/100\n",
      "10/10 [==============================] - 0s 3ms/sample - loss: 0.0906 - accuracy: 0.1000 - val_loss: 88.8799 - val_accuracy: 0.0000e+00\n",
      "Epoch 74/100\n",
      "10/10 [==============================] - 0s 3ms/sample - loss: 0.0900 - accuracy: 0.1000 - val_loss: 89.2912 - val_accuracy: 0.0000e+00\n",
      "Epoch 75/100\n",
      "10/10 [==============================] - 0s 3ms/sample - loss: 0.0885 - accuracy: 0.1000 - val_loss: 85.1875 - val_accuracy: 0.0000e+00\n",
      "Epoch 76/100\n",
      "10/10 [==============================] - 0s 3ms/sample - loss: 0.0883 - accuracy: 0.1000 - val_loss: 81.2994 - val_accuracy: 0.0000e+00\n",
      "Epoch 77/100\n",
      "10/10 [==============================] - 0s 3ms/sample - loss: 0.0865 - accuracy: 0.1000 - val_loss: 82.7470 - val_accuracy: 0.0000e+00\n",
      "Epoch 78/100\n",
      "10/10 [==============================] - 0s 3ms/sample - loss: 0.0862 - accuracy: 0.1000 - val_loss: 84.0561 - val_accuracy: 0.0000e+00\n",
      "Epoch 79/100\n",
      "10/10 [==============================] - 0s 3ms/sample - loss: 0.0840 - accuracy: 0.1000 - val_loss: 80.6936 - val_accuracy: 0.0000e+00\n",
      "Epoch 80/100\n",
      "10/10 [==============================] - 0s 3ms/sample - loss: 0.0832 - accuracy: 0.1000 - val_loss: 78.8297 - val_accuracy: 0.0000e+00\n",
      "Epoch 81/100\n",
      "10/10 [==============================] - 0s 3ms/sample - loss: 0.0823 - accuracy: 0.1000 - val_loss: 77.2028 - val_accuracy: 0.0000e+00\n",
      "Epoch 82/100\n",
      "10/10 [==============================] - 0s 3ms/sample - loss: 0.0814 - accuracy: 0.1000 - val_loss: 78.5861 - val_accuracy: 0.0000e+00\n",
      "Epoch 83/100\n",
      "10/10 [==============================] - 0s 3ms/sample - loss: 0.0796 - accuracy: 0.1000 - val_loss: 76.1147 - val_accuracy: 0.0000e+00\n",
      "Epoch 84/100\n",
      "10/10 [==============================] - 0s 3ms/sample - loss: 0.0787 - accuracy: 0.1000 - val_loss: 75.1089 - val_accuracy: 0.0000e+00\n",
      "Epoch 85/100\n",
      "10/10 [==============================] - 0s 3ms/sample - loss: 0.0773 - accuracy: 0.1000 - val_loss: 75.0641 - val_accuracy: 0.0000e+00\n",
      "Epoch 86/100\n",
      "10/10 [==============================] - 0s 3ms/sample - loss: 0.0762 - accuracy: 0.1000 - val_loss: 72.9602 - val_accuracy: 0.0000e+00\n",
      "Epoch 87/100\n",
      "10/10 [==============================] - 0s 3ms/sample - loss: 0.0757 - accuracy: 0.1000 - val_loss: 73.8488 - val_accuracy: 0.0000e+00\n",
      "Epoch 88/100\n",
      "10/10 [==============================] - 0s 3ms/sample - loss: 0.0746 - accuracy: 0.1000 - val_loss: 72.3619 - val_accuracy: 0.0000e+00\n",
      "Epoch 89/100\n",
      "10/10 [==============================] - 0s 3ms/sample - loss: 0.0733 - accuracy: 0.1000 - val_loss: 71.5507 - val_accuracy: 0.0000e+00\n",
      "Epoch 90/100\n",
      "10/10 [==============================] - 0s 3ms/sample - loss: 0.0720 - accuracy: 0.1000 - val_loss: 68.4599 - val_accuracy: 0.0000e+00\n",
      "Epoch 91/100\n",
      "10/10 [==============================] - 0s 3ms/sample - loss: 0.0714 - accuracy: 0.1000 - val_loss: 67.2796 - val_accuracy: 0.0000e+00\n",
      "Epoch 92/100\n",
      "10/10 [==============================] - 0s 3ms/sample - loss: 0.0701 - accuracy: 0.1000 - val_loss: 66.4535 - val_accuracy: 0.0000e+00\n",
      "Epoch 93/100\n",
      "10/10 [==============================] - 0s 3ms/sample - loss: 0.0698 - accuracy: 0.1000 - val_loss: 63.4719 - val_accuracy: 0.0000e+00\n",
      "Epoch 94/100\n",
      "10/10 [==============================] - 0s 3ms/sample - loss: 0.0679 - accuracy: 0.1000 - val_loss: 63.5339 - val_accuracy: 0.0000e+00\n",
      "Epoch 95/100\n",
      "10/10 [==============================] - 0s 3ms/sample - loss: 0.0668 - accuracy: 0.1000 - val_loss: 63.3886 - val_accuracy: 0.0000e+00\n",
      "Epoch 96/100\n",
      "10/10 [==============================] - 0s 3ms/sample - loss: 0.0662 - accuracy: 0.1000 - val_loss: 64.5418 - val_accuracy: 0.0000e+00\n",
      "Epoch 97/100\n",
      "10/10 [==============================] - 0s 3ms/sample - loss: 0.0661 - accuracy: 0.1000 - val_loss: 64.4618 - val_accuracy: 0.0000e+00\n",
      "Epoch 98/100\n",
      "10/10 [==============================] - 0s 3ms/sample - loss: 0.0643 - accuracy: 0.1000 - val_loss: 63.7082 - val_accuracy: 0.0000e+00\n",
      "Epoch 99/100\n",
      "10/10 [==============================] - 0s 3ms/sample - loss: 0.0629 - accuracy: 0.1000 - val_loss: 61.6025 - val_accuracy: 0.0000e+00\n",
      "Epoch 100/100\n",
      "10/10 [==============================] - 0s 3ms/sample - loss: 0.0631 - accuracy: 0.1000 - val_loss: 57.5996 - val_accuracy: 0.0000e+00\n"
     ]
    }
   ],
   "source": [
    "hist = model.fit(x_train, y_train, epochs=100, batch_size=1,validation_data = (x_test, y_test))"
   ]
  },
  {
   "cell_type": "markdown",
   "metadata": {},
   "source": [
    "#### 그래프 확인"
   ]
  },
  {
   "cell_type": "code",
   "execution_count": 6,
   "metadata": {},
   "outputs": [
    {
     "data": {
      "image/png": "[encoded data removed]",
      "text/plain": [
       "<Figure size 432x288 with 1 Axes>"
      ]
     },
     "metadata": {
      "needs_background": "light"
     },
     "output_type": "display_data"
    }
   ],
   "source": [
    "import matplotlib.pyplot as plt\n",
    "\n",
    "plt.plot(hist.history['loss'])\n",
    "plt.plot(hist.history['accuracy'])\n",
    "plt.plot(hist.history['val_loss'])\n",
    "plt.plot(hist.history['val_accuracy'])\n",
    "#plt.ylim(0.0, 1.5)\n",
    "plt.ylabel('loss')\n",
    "plt.xlabel('epoch')\n",
    "plt.legend(['loss', 'accuracy', 'val_loss', 'val_accuracy'], loc='upper right')\n",
    "plt.show()"
   ]
  },
  {
   "cell_type": "markdown",
   "metadata": {},
   "source": [
    "## 4. 평가 및 예측\n",
    "#### 모델 평가"
   ]
  },
  {
   "cell_type": "code",
   "execution_count": 7,
   "metadata": {},
   "outputs": [
    {
     "name": "stdout",
     "output_type": "stream",
     "text": [
      "10/10 [==============================] - 0s 3ms/sample - loss: 57.5996 - accuracy: 0.0000e+00\n",
      "loss : 57.59963760375977\n",
      "acc : 0.0\n"
     ]
    }
   ],
   "source": [
    "loss, acc = model.evaluate(x_test, y_test, batch_size=1)\n",
    "print(\"loss :\", loss)\n",
    "print(\"acc :\", acc)"
   ]
  },
  {
   "cell_type": "markdown",
   "metadata": {},
   "source": [
    "#### 예측하기"
   ]
  },
  {
   "cell_type": "code",
   "execution_count": 8,
   "metadata": {},
   "outputs": [
    {
     "name": "stdout",
     "output_type": "stream",
     "text": [
      "결과물 : \n",
      " [[ 93.76017 ]\n",
      " [ 94.68319 ]\n",
      " [ 95.606224]\n",
      " [ 96.52924 ]\n",
      " [ 97.45226 ]\n",
      " [ 98.3753  ]\n",
      " [ 99.29832 ]\n",
      " [100.22134 ]\n",
      " [101.14436 ]\n",
      " [102.06739 ]]\n"
     ]
    }
   ],
   "source": [
    "output = model.predict(x_test)\n",
    "print(\"결과물 : \\n\", output)"
   ]
  },
  {
   "cell_type": "code",
   "execution_count": null,
   "metadata": {},
   "outputs": [],
   "source": []
  }
 ],
 "metadata": {
  "kernelspec": {
   "display_name": "Python 3",
   "language": "python",
   "name": "python3"
  },
  "language_info": {
   "codemirror_mode": {
    "name": "ipython",
    "version": 3
   },
   "file_extension": ".py",
   "mimetype": "text/x-python",
   "name": "python",
   "nbconvert_exporter": "python",
   "pygments_lexer": "ipython3",
   "version": "3.7.6"
  }
 },
 "nbformat": 4,
 "nbformat_minor": 4
}
