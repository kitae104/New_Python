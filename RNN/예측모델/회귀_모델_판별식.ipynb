{
 "cells": [
  {
   "cell_type": "markdown",
   "metadata": {},
   "source": [
    "# 회귀 모델 판별식\n",
    "* 1 ~ 10까지 데이터로 학습한 후 101 ~ 110까지 예측하기\n",
    "* __평균 제곱근 오차 - RMSE(Root Mean Squared Error)__ \n",
    "    - 회귀 분석을 평가할 때 가장 많이 사용하는 지표 중에 하나\n",
    "    - MSE에 루트를 사용\n",
    "    - 원래 데이터에서 평균을 뺀 값을 제곱하여 모두 더한 뒤 전체 개수로 나눈 값에 루트를 씌운 것\n",
    "    - RMSE는 낮을수록 정밀도가 높음\n",
    "* __결정 계수(R2)__\n",
    "    - 회귀 분석에서 많이 사용하는 지표 중에 하나\n",
    "    - RMSE와 반대로 높을수록 좋은 지표\n",
    "    - 0~1사이의 수치 - 0.73 정도의 값이 나오면 73%의 설명력을 가진다고 해석 \n",
    "    - 사이킷런에서 r2_score 함수로 제공 \n",
    "    - 만약 R2의 값이 음수가 나오면 학습 시 머신에 뭔가 잘못된 부분이 존재한다는 의미 "
   ]
  },
  {
   "cell_type": "markdown",
   "metadata": {},
   "source": [
    "## 0 사용할 패키지 불러오기 "
   ]
  },
  {
   "cell_type": "code",
   "execution_count": 1,
   "metadata": {},
   "outputs": [],
   "source": [
    "import numpy as np\n",
    "from tensorflow.keras.models import Sequential\n",
    "from tensorflow.keras.layers import Dense\n",
    "import random"
   ]
  },
  {
   "cell_type": "markdown",
   "metadata": {},
   "source": [
    "## 1. 데이터셋 생성하기\n",
    "* 학습 데이터 \n",
    "* 테스트 데이터"
   ]
  },
  {
   "cell_type": "code",
   "execution_count": 2,
   "metadata": {},
   "outputs": [],
   "source": [
    "x_train = np.array([1,2,3,4,5,6,7,8,9,10])\n",
    "y_train = np.array([1,2,3,4,5,6,7,8,9,10])\n",
    "x_test = np.array([101,102,103,104,105,106,107,108,109,110])\n",
    "y_test = np.array([101,102,103,104,105,106,107,108,109,110])"
   ]
  },
  {
   "cell_type": "markdown",
   "metadata": {},
   "source": [
    "## 2. 모델 구성하기\n",
    "* Dense 레이어가 두 개인 다층퍼셉트론 모델. \n",
    "* 첫 번째 레이어는 5개의 뉴런을 가진 Dense 레이어\n",
    "    - 오류역전파가 용이한 relu 활성화 함수를 사용.\n",
    "* 두 번째 레이어는 3개의 뉴런을 가진 Dense 레이어 \n",
    "* 출력 레이어인 세 번째 레이어는 하나의 수치값을 예측을 하기 위해서 1개의 뉴런을 가지며, 별도의 활성화 함수는 relu를 사용"
   ]
  },
  {
   "cell_type": "code",
   "execution_count": 3,
   "metadata": {},
   "outputs": [
    {
     "name": "stdout",
     "output_type": "stream",
     "text": [
      "Model: \"sequential\"\n",
      "_________________________________________________________________\n",
      "Layer (type)                 Output Shape              Param #   \n",
      "=================================================================\n",
      "dense (Dense)                (None, 5)                 10        \n",
      "_________________________________________________________________\n",
      "dense_1 (Dense)              (None, 3)                 18        \n",
      "_________________________________________________________________\n",
      "dense_2 (Dense)              (None, 1)                 4         \n",
      "=================================================================\n",
      "Total params: 32\n",
      "Trainable params: 32\n",
      "Non-trainable params: 0\n",
      "_________________________________________________________________\n"
     ]
    }
   ],
   "source": [
    "model = Sequential()\n",
    "model.add(Dense(5, input_dim =1 , activation='relu'))\n",
    "model.add(Dense(3))\n",
    "model.add(Dense(1, activation='relu'))\n",
    "model.summary()"
   ]
  },
  {
   "cell_type": "markdown",
   "metadata": {},
   "source": [
    "## 3. 모델 학습과정 설정하기\n",
    "#### 모델 컴파일\n",
    "* 모델을 실행시키지 전에 머신이 이해할 수 있도록 컴파일 시킴\n",
    "* loss : 손실 마수는 어떤 것을 사용할 것인가? --> mse\n",
    "* optimizer : 최적화 함수는? --> adam, rmsprop\n",
    "* metrics : 어떤 방식? --> accuracy, mse(mean squared error) 적용 "
   ]
  },
  {
   "cell_type": "code",
   "execution_count": 4,
   "metadata": {},
   "outputs": [],
   "source": [
    "model.compile(loss='mse', optimizer='adam', metrics=['mse'])"
   ]
  },
  {
   "cell_type": "markdown",
   "metadata": {},
   "source": [
    "## 4. 모델 학습시키기\n",
    "* epochs : 훈련 횟수\n",
    "* batch_size : 몇 개씩 끊어서 작업을 할 것인가를 의미 \n",
    "    - batch_size를 크게 잡을 경우 속도가 빨라지지만 정확도가 떨어짐\n",
    "    - 작게 잡을 경우 속도는 떨어지지만 정확도는 올라감\n",
    "* valication_data : 검증 데이터 "
   ]
  },
  {
   "cell_type": "code",
   "execution_count": 5,
   "metadata": {},
   "outputs": [
    {
     "name": "stdout",
     "output_type": "stream",
     "text": [
      "Train on 10 samples, validate on 10 samples\n",
      "Epoch 1/100\n",
      "10/10 [==============================] - 1s 54ms/sample - loss: 1.5121 - mse: 1.5121 - val_loss: 331.3703 - val_mse: 331.3703\n",
      "Epoch 2/100\n",
      "10/10 [==============================] - 0s 3ms/sample - loss: 0.7823 - mse: 0.7823 - val_loss: 171.3065 - val_mse: 171.3065\n",
      "Epoch 3/100\n",
      "10/10 [==============================] - 0s 3ms/sample - loss: 0.3044 - mse: 0.3044 - val_loss: 82.3754 - val_mse: 82.3754\n",
      "Epoch 4/100\n",
      "10/10 [==============================] - 0s 3ms/sample - loss: 0.1144 - mse: 0.1144 - val_loss: 33.3586 - val_mse: 33.3586\n",
      "Epoch 5/100\n",
      "10/10 [==============================] - 0s 3ms/sample - loss: 0.0373 - mse: 0.0373 - val_loss: 12.4010 - val_mse: 12.4010\n",
      "Epoch 6/100\n",
      "10/10 [==============================] - 0s 3ms/sample - loss: 0.0080 - mse: 0.0080 - val_loss: 6.4283 - val_mse: 6.4283\n",
      "Epoch 7/100\n",
      "10/10 [==============================] - 0s 3ms/sample - loss: 0.0083 - mse: 0.0083 - val_loss: 4.7243 - val_mse: 4.7243\n",
      "Epoch 8/100\n",
      "10/10 [==============================] - 0s 3ms/sample - loss: 0.0083 - mse: 0.0083 - val_loss: 4.7389 - val_mse: 4.7389\n",
      "Epoch 9/100\n",
      "10/10 [==============================] - 0s 3ms/sample - loss: 0.0076 - mse: 0.0076 - val_loss: 5.5046 - val_mse: 5.5046\n",
      "Epoch 10/100\n",
      "10/10 [==============================] - 0s 3ms/sample - loss: 0.0069 - mse: 0.0069 - val_loss: 6.0601 - val_mse: 6.0601\n",
      "Epoch 11/100\n",
      "10/10 [==============================] - 0s 3ms/sample - loss: 0.0064 - mse: 0.0064 - val_loss: 6.0137 - val_mse: 6.0137\n",
      "Epoch 12/100\n",
      "10/10 [==============================] - 0s 3ms/sample - loss: 0.0064 - mse: 0.0064 - val_loss: 6.4001 - val_mse: 6.4001\n",
      "Epoch 13/100\n",
      "10/10 [==============================] - 0s 3ms/sample - loss: 0.0059 - mse: 0.0059 - val_loss: 5.6680 - val_mse: 5.6680\n",
      "Epoch 14/100\n",
      "10/10 [==============================] - 0s 3ms/sample - loss: 0.0056 - mse: 0.0056 - val_loss: 5.3201 - val_mse: 5.3201\n",
      "Epoch 15/100\n",
      "10/10 [==============================] - 0s 3ms/sample - loss: 0.0054 - mse: 0.0054 - val_loss: 5.1217 - val_mse: 5.1217\n",
      "Epoch 16/100\n",
      "10/10 [==============================] - 0s 3ms/sample - loss: 0.0052 - mse: 0.0052 - val_loss: 4.5241 - val_mse: 4.5241\n",
      "Epoch 17/100\n",
      "10/10 [==============================] - 0s 3ms/sample - loss: 0.0048 - mse: 0.0048 - val_loss: 4.5432 - val_mse: 4.5432\n",
      "Epoch 18/100\n",
      "10/10 [==============================] - 0s 3ms/sample - loss: 0.0045 - mse: 0.0045 - val_loss: 4.3075 - val_mse: 4.3075\n",
      "Epoch 19/100\n",
      "10/10 [==============================] - 0s 3ms/sample - loss: 0.0043 - mse: 0.0043 - val_loss: 4.0901 - val_mse: 4.0901\n",
      "Epoch 20/100\n",
      "10/10 [==============================] - 0s 3ms/sample - loss: 0.0041 - mse: 0.0041 - val_loss: 3.9528 - val_mse: 3.9528\n",
      "Epoch 21/100\n",
      "10/10 [==============================] - 0s 3ms/sample - loss: 0.0040 - mse: 0.0040 - val_loss: 3.9681 - val_mse: 3.9681\n",
      "Epoch 22/100\n",
      "10/10 [==============================] - 0s 3ms/sample - loss: 0.0037 - mse: 0.0037 - val_loss: 3.2502 - val_mse: 3.2502\n",
      "Epoch 23/100\n",
      "10/10 [==============================] - 0s 3ms/sample - loss: 0.0034 - mse: 0.0034 - val_loss: 3.0226 - val_mse: 3.0226\n",
      "Epoch 24/100\n",
      "10/10 [==============================] - 0s 3ms/sample - loss: 0.0032 - mse: 0.0032 - val_loss: 3.0192 - val_mse: 3.0192\n",
      "Epoch 25/100\n",
      "10/10 [==============================] - 0s 3ms/sample - loss: 0.0030 - mse: 0.0030 - val_loss: 3.0042 - val_mse: 3.0042\n",
      "Epoch 26/100\n",
      "10/10 [==============================] - 0s 3ms/sample - loss: 0.0028 - mse: 0.0028 - val_loss: 2.7569 - val_mse: 2.7569\n",
      "Epoch 27/100\n",
      "10/10 [==============================] - 0s 3ms/sample - loss: 0.0027 - mse: 0.0027 - val_loss: 2.2824 - val_mse: 2.2824\n",
      "Epoch 28/100\n",
      "10/10 [==============================] - 0s 3ms/sample - loss: 0.0024 - mse: 0.0024 - val_loss: 2.2255 - val_mse: 2.2255\n",
      "Epoch 29/100\n",
      "10/10 [==============================] - 0s 3ms/sample - loss: 0.0023 - mse: 0.0023 - val_loss: 2.1098 - val_mse: 2.1098\n",
      "Epoch 30/100\n",
      "10/10 [==============================] - 0s 3ms/sample - loss: 0.0021 - mse: 0.0021 - val_loss: 1.8772 - val_mse: 1.8772\n",
      "Epoch 31/100\n",
      "10/10 [==============================] - 0s 3ms/sample - loss: 0.0020 - mse: 0.0020 - val_loss: 1.9042 - val_mse: 1.9042\n",
      "Epoch 32/100\n",
      "10/10 [==============================] - 0s 3ms/sample - loss: 0.0019 - mse: 0.0019 - val_loss: 1.8258 - val_mse: 1.8258\n",
      "Epoch 33/100\n",
      "10/10 [==============================] - 0s 3ms/sample - loss: 0.0017 - mse: 0.0017 - val_loss: 1.6338 - val_mse: 1.6338\n",
      "Epoch 34/100\n",
      "10/10 [==============================] - 0s 3ms/sample - loss: 0.0015 - mse: 0.0015 - val_loss: 1.4278 - val_mse: 1.4278\n",
      "Epoch 35/100\n",
      "10/10 [==============================] - 0s 4ms/sample - loss: 0.0015 - mse: 0.0015 - val_loss: 1.2252 - val_mse: 1.2252\n",
      "Epoch 36/100\n",
      "10/10 [==============================] - 0s 3ms/sample - loss: 0.0013 - mse: 0.0013 - val_loss: 1.1881 - val_mse: 1.1881\n",
      "Epoch 37/100\n",
      "10/10 [==============================] - 0s 3ms/sample - loss: 0.0012 - mse: 0.0012 - val_loss: 1.1598 - val_mse: 1.1598\n",
      "Epoch 38/100\n",
      "10/10 [==============================] - 0s 3ms/sample - loss: 0.0012 - mse: 0.0012 - val_loss: 0.9722 - val_mse: 0.9722\n",
      "Epoch 39/100\n",
      "10/10 [==============================] - 0s 3ms/sample - loss: 0.0010 - mse: 0.0010 - val_loss: 1.0385 - val_mse: 1.0385\n",
      "Epoch 40/100\n",
      "10/10 [==============================] - 0s 3ms/sample - loss: 9.6134e-04 - mse: 9.6134e-04 - val_loss: 0.9192 - val_mse: 0.9192\n",
      "Epoch 41/100\n",
      "10/10 [==============================] - 0s 3ms/sample - loss: 8.8123e-04 - mse: 8.8123e-04 - val_loss: 0.7805 - val_mse: 0.7805\n",
      "Epoch 42/100\n",
      "10/10 [==============================] - 0s 3ms/sample - loss: 8.0929e-04 - mse: 8.0929e-04 - val_loss: 0.6961 - val_mse: 0.6961\n",
      "Epoch 43/100\n",
      "10/10 [==============================] - 0s 3ms/sample - loss: 7.3162e-04 - mse: 7.3162e-04 - val_loss: 0.7131 - val_mse: 0.7131\n",
      "Epoch 44/100\n",
      "10/10 [==============================] - 0s 3ms/sample - loss: 6.6796e-04 - mse: 6.6796e-04 - val_loss: 0.6471 - val_mse: 0.6471\n",
      "Epoch 45/100\n",
      "10/10 [==============================] - 0s 3ms/sample - loss: 6.1188e-04 - mse: 6.1188e-04 - val_loss: 0.5863 - val_mse: 0.5863\n",
      "Epoch 46/100\n",
      "10/10 [==============================] - 0s 3ms/sample - loss: 5.7729e-04 - mse: 5.7729e-04 - val_loss: 0.4366 - val_mse: 0.4366\n",
      "Epoch 47/100\n",
      "10/10 [==============================] - 0s 3ms/sample - loss: 5.1557e-04 - mse: 5.1557e-04 - val_loss: 0.4747 - val_mse: 0.4747\n",
      "Epoch 48/100\n",
      "10/10 [==============================] - 0s 3ms/sample - loss: 4.5623e-04 - mse: 4.5623e-04 - val_loss: 0.4411 - val_mse: 0.4411\n",
      "Epoch 49/100\n",
      "10/10 [==============================] - 0s 3ms/sample - loss: 4.2194e-04 - mse: 4.2194e-04 - val_loss: 0.3511 - val_mse: 0.3511\n",
      "Epoch 50/100\n",
      "10/10 [==============================] - 0s 3ms/sample - loss: 3.7404e-04 - mse: 3.7404e-04 - val_loss: 0.3456 - val_mse: 0.3456\n",
      "Epoch 51/100\n",
      "10/10 [==============================] - 0s 3ms/sample - loss: 3.3944e-04 - mse: 3.3944e-04 - val_loss: 0.3030 - val_mse: 0.3030\n",
      "Epoch 52/100\n",
      "10/10 [==============================] - 0s 3ms/sample - loss: 3.0258e-04 - mse: 3.0258e-04 - val_loss: 0.2638 - val_mse: 0.2638\n",
      "Epoch 53/100\n",
      "10/10 [==============================] - 0s 3ms/sample - loss: 2.6985e-04 - mse: 2.6985e-04 - val_loss: 0.2468 - val_mse: 0.2468\n",
      "Epoch 54/100\n",
      "10/10 [==============================] - 0s 3ms/sample - loss: 2.5108e-04 - mse: 2.5108e-04 - val_loss: 0.2197 - val_mse: 0.2197\n",
      "Epoch 55/100\n",
      "10/10 [==============================] - 0s 3ms/sample - loss: 2.3427e-04 - mse: 2.3427e-04 - val_loss: 0.2115 - val_mse: 0.2115\n",
      "Epoch 56/100\n",
      "10/10 [==============================] - 0s 3ms/sample - loss: 1.9833e-04 - mse: 1.9833e-04 - val_loss: 0.1812 - val_mse: 0.1812\n",
      "Epoch 57/100\n",
      "10/10 [==============================] - 0s 3ms/sample - loss: 1.7715e-04 - mse: 1.7715e-04 - val_loss: 0.1453 - val_mse: 0.1453\n",
      "Epoch 58/100\n",
      "10/10 [==============================] - 0s 3ms/sample - loss: 1.6511e-04 - mse: 1.6511e-04 - val_loss: 0.1320 - val_mse: 0.1320\n",
      "Epoch 59/100\n",
      "10/10 [==============================] - 0s 3ms/sample - loss: 1.6357e-04 - mse: 1.6357e-04 - val_loss: 0.1478 - val_mse: 0.1478\n",
      "Epoch 60/100\n"
     ]
    },
    {
     "name": "stdout",
     "output_type": "stream",
     "text": [
      "10/10 [==============================] - 0s 3ms/sample - loss: 1.2479e-04 - mse: 1.2479e-04 - val_loss: 0.1136 - val_mse: 0.1136\n",
      "Epoch 61/100\n",
      "10/10 [==============================] - 0s 3ms/sample - loss: 1.1088e-04 - mse: 1.1088e-04 - val_loss: 0.0961 - val_mse: 0.0961\n",
      "Epoch 62/100\n",
      "10/10 [==============================] - 0s 3ms/sample - loss: 1.0205e-04 - mse: 1.0205e-04 - val_loss: 0.0828 - val_mse: 0.0828\n",
      "Epoch 63/100\n",
      "10/10 [==============================] - 0s 3ms/sample - loss: 9.1852e-05 - mse: 9.1852e-05 - val_loss: 0.0862 - val_mse: 0.0862\n",
      "Epoch 64/100\n",
      "10/10 [==============================] - 0s 3ms/sample - loss: 8.2607e-05 - mse: 8.2607e-05 - val_loss: 0.0809 - val_mse: 0.0809\n",
      "Epoch 65/100\n",
      "10/10 [==============================] - 0s 3ms/sample - loss: 7.1875e-05 - mse: 7.1875e-05 - val_loss: 0.0614 - val_mse: 0.0614\n",
      "Epoch 66/100\n",
      "10/10 [==============================] - 0s 3ms/sample - loss: 6.3051e-05 - mse: 6.3051e-05 - val_loss: 0.0519 - val_mse: 0.0519\n",
      "Epoch 67/100\n",
      "10/10 [==============================] - 0s 3ms/sample - loss: 5.7251e-05 - mse: 5.7251e-05 - val_loss: 0.0474 - val_mse: 0.0474\n",
      "Epoch 68/100\n",
      "10/10 [==============================] - 0s 3ms/sample - loss: 4.8482e-05 - mse: 4.8482e-05 - val_loss: 0.0488 - val_mse: 0.0488\n",
      "Epoch 69/100\n",
      "10/10 [==============================] - 0s 3ms/sample - loss: 4.9006e-05 - mse: 4.9006e-05 - val_loss: 0.0469 - val_mse: 0.0469\n",
      "Epoch 70/100\n",
      "10/10 [==============================] - 0s 3ms/sample - loss: 4.1021e-05 - mse: 4.1021e-05 - val_loss: 0.0280 - val_mse: 0.0280\n",
      "Epoch 71/100\n",
      "10/10 [==============================] - 0s 3ms/sample - loss: 3.5251e-05 - mse: 3.5251e-05 - val_loss: 0.0275 - val_mse: 0.0275\n",
      "Epoch 72/100\n",
      "10/10 [==============================] - 0s 3ms/sample - loss: 3.1068e-05 - mse: 3.1068e-05 - val_loss: 0.0317 - val_mse: 0.0317\n",
      "Epoch 73/100\n",
      "10/10 [==============================] - 0s 3ms/sample - loss: 2.7257e-05 - mse: 2.7257e-05 - val_loss: 0.0221 - val_mse: 0.0221\n",
      "Epoch 74/100\n",
      "10/10 [==============================] - 0s 3ms/sample - loss: 2.3610e-05 - mse: 2.3610e-05 - val_loss: 0.0179 - val_mse: 0.0179\n",
      "Epoch 75/100\n",
      "10/10 [==============================] - 0s 3ms/sample - loss: 1.9992e-05 - mse: 1.9992e-05 - val_loss: 0.0172 - val_mse: 0.0172\n",
      "Epoch 76/100\n",
      "10/10 [==============================] - 0s 3ms/sample - loss: 1.7216e-05 - mse: 1.7216e-05 - val_loss: 0.0174 - val_mse: 0.0174\n",
      "Epoch 77/100\n",
      "10/10 [==============================] - 0s 3ms/sample - loss: 1.5292e-05 - mse: 1.5292e-05 - val_loss: 0.0153 - val_mse: 0.0153\n",
      "Epoch 78/100\n",
      "10/10 [==============================] - 0s 3ms/sample - loss: 1.3448e-05 - mse: 1.3448e-05 - val_loss: 0.0129 - val_mse: 0.0129\n",
      "Epoch 79/100\n",
      "10/10 [==============================] - 0s 3ms/sample - loss: 1.1465e-05 - mse: 1.1465e-05 - val_loss: 0.0102 - val_mse: 0.0102\n",
      "Epoch 80/100\n",
      "10/10 [==============================] - 0s 3ms/sample - loss: 1.0064e-05 - mse: 1.0064e-05 - val_loss: 0.0078 - val_mse: 0.0078\n",
      "Epoch 81/100\n",
      "10/10 [==============================] - 0s 3ms/sample - loss: 9.2879e-06 - mse: 9.2879e-06 - val_loss: 0.0082 - val_mse: 0.0082\n",
      "Epoch 82/100\n",
      "10/10 [==============================] - 0s 3ms/sample - loss: 7.8087e-06 - mse: 7.8087e-06 - val_loss: 0.0068 - val_mse: 0.0068\n",
      "Epoch 83/100\n",
      "10/10 [==============================] - 0s 3ms/sample - loss: 6.4992e-06 - mse: 6.4992e-06 - val_loss: 0.0062 - val_mse: 0.0062\n",
      "Epoch 84/100\n",
      "10/10 [==============================] - 0s 3ms/sample - loss: 5.7192e-06 - mse: 5.7192e-06 - val_loss: 0.0043 - val_mse: 0.0043\n",
      "Epoch 85/100\n",
      "10/10 [==============================] - 0s 3ms/sample - loss: 4.8835e-06 - mse: 4.8835e-06 - val_loss: 0.0041 - val_mse: 0.0041\n",
      "Epoch 86/100\n",
      "10/10 [==============================] - 0s 3ms/sample - loss: 4.7364e-06 - mse: 4.7364e-06 - val_loss: 0.0044 - val_mse: 0.0044\n",
      "Epoch 87/100\n",
      "10/10 [==============================] - 0s 3ms/sample - loss: 4.0606e-06 - mse: 4.0606e-06 - val_loss: 0.0028 - val_mse: 0.0028\n",
      "Epoch 88/100\n",
      "10/10 [==============================] - 0s 3ms/sample - loss: 3.3766e-06 - mse: 3.3766e-06 - val_loss: 0.0030 - val_mse: 0.0030\n",
      "Epoch 89/100\n",
      "10/10 [==============================] - 0s 3ms/sample - loss: 2.7111e-06 - mse: 2.7111e-06 - val_loss: 0.0021 - val_mse: 0.0021\n",
      "Epoch 90/100\n",
      "10/10 [==============================] - 0s 4ms/sample - loss: 2.2691e-06 - mse: 2.2691e-06 - val_loss: 0.0018 - val_mse: 0.0018\n",
      "Epoch 91/100\n",
      "10/10 [==============================] - 0s 3ms/sample - loss: 1.9147e-06 - mse: 1.9147e-06 - val_loss: 0.0017 - val_mse: 0.0017\n",
      "Epoch 92/100\n",
      "10/10 [==============================] - 0s 3ms/sample - loss: 1.7558e-06 - mse: 1.7558e-06 - val_loss: 0.0018 - val_mse: 0.0018\n",
      "Epoch 93/100\n",
      "10/10 [==============================] - 0s 3ms/sample - loss: 1.4546e-06 - mse: 1.4546e-06 - val_loss: 0.0011 - val_mse: 0.0011\n",
      "Epoch 94/100\n",
      "10/10 [==============================] - 0s 3ms/sample - loss: 1.2455e-06 - mse: 1.2455e-06 - val_loss: 8.6066e-04 - val_mse: 8.6066e-04\n",
      "Epoch 95/100\n",
      "10/10 [==============================] - 0s 3ms/sample - loss: 1.0147e-06 - mse: 1.0147e-06 - val_loss: 9.0923e-04 - val_mse: 9.0923e-04\n",
      "Epoch 96/100\n",
      "10/10 [==============================] - 0s 3ms/sample - loss: 9.4381e-07 - mse: 9.4381e-07 - val_loss: 9.1692e-04 - val_mse: 9.1692e-04\n",
      "Epoch 97/100\n",
      "10/10 [==============================] - 0s 3ms/sample - loss: 7.8810e-07 - mse: 7.8810e-07 - val_loss: 5.4201e-04 - val_mse: 5.4201e-04\n",
      "Epoch 98/100\n",
      "10/10 [==============================] - 0s 3ms/sample - loss: 6.9217e-07 - mse: 6.9217e-07 - val_loss: 4.5469e-04 - val_mse: 4.5469e-04\n",
      "Epoch 99/100\n",
      "10/10 [==============================] - 0s 3ms/sample - loss: 5.5724e-07 - mse: 5.5724e-07 - val_loss: 5.6266e-04 - val_mse: 5.6266e-04\n",
      "Epoch 100/100\n",
      "10/10 [==============================] - 0s 3ms/sample - loss: 4.9292e-07 - mse: 4.9292e-07 - val_loss: 4.3142e-04 - val_mse: 4.3142e-04\n"
     ]
    }
   ],
   "source": [
    "hist = model.fit(x_train, y_train, epochs=100, batch_size=1,validation_data = (x_test, y_test))"
   ]
  },
  {
   "cell_type": "markdown",
   "metadata": {},
   "source": [
    "## 5. 학습과정 살펴보기"
   ]
  },
  {
   "cell_type": "code",
   "execution_count": 11,
   "metadata": {},
   "outputs": [
    {
     "data": {
      "image/png": "[encoded data removed]",
      "text/plain": [
       "<Figure size 432x288 with 1 Axes>"
      ]
     },
     "metadata": {
      "needs_background": "light"
     },
     "output_type": "display_data"
    }
   ],
   "source": [
    "import matplotlib.pyplot as plt\n",
    "\n",
    "plt.plot(hist.history['loss'])\n",
    "plt.plot(hist.history['mse'])\n",
    "#plt.ylim(0.0, 1.5)\n",
    "plt.ylabel('loss')\n",
    "plt.xlabel('epoch')\n",
    "plt.legend(['loss', 'mse'], loc='upper right')\n",
    "plt.show()"
   ]
  },
  {
   "cell_type": "markdown",
   "metadata": {},
   "source": [
    "## 6. 모델 평가하기"
   ]
  },
  {
   "cell_type": "code",
   "execution_count": 7,
   "metadata": {},
   "outputs": [
    {
     "name": "stdout",
     "output_type": "stream",
     "text": [
      "10/10 [==============================] - 0s 1ms/sample - loss: 4.3142e-04 - mse: 4.3142e-04\n",
      "loss :  0.0004314174468163401\n",
      "mse :  0.00043141743\n"
     ]
    }
   ],
   "source": [
    "loss, mse = model.evaluate(x_test, y_test, batch_size =1)\n",
    "print(\"loss : \", loss)\n",
    "print(\"mse : \", mse )"
   ]
  },
  {
   "cell_type": "markdown",
   "metadata": {},
   "source": [
    "## 7. 예측하기 "
   ]
  },
  {
   "cell_type": "code",
   "execution_count": 8,
   "metadata": {},
   "outputs": [
    {
     "name": "stdout",
     "output_type": "stream",
     "text": [
      "결과물 : \n",
      " [[101.01982 ]\n",
      " [102.02002 ]\n",
      " [103.02024 ]\n",
      " [104.020454]\n",
      " [105.02065 ]\n",
      " [106.020874]\n",
      " [107.02107 ]\n",
      " [108.021286]\n",
      " [109.02149 ]\n",
      " [110.021706]]\n"
     ]
    }
   ],
   "source": [
    "y_predict = model.predict(x_test)\n",
    "print(\"결과물 : \\n\", y_predict)"
   ]
  },
  {
   "cell_type": "markdown",
   "metadata": {},
   "source": [
    "#### RMSE 구하기"
   ]
  },
  {
   "cell_type": "code",
   "execution_count": 9,
   "metadata": {},
   "outputs": [
    {
     "name": "stdout",
     "output_type": "stream",
     "text": [
      "RMSE :  0.020770590911583137\n"
     ]
    }
   ],
   "source": [
    "from sklearn.metrics import mean_squared_error\n",
    "def RMSE(y_test, y_predict):\n",
    "    return np.sqrt(mean_squared_error(y_test, y_predict))\n",
    "print(\"RMSE : \", RMSE(y_test, y_predict))"
   ]
  },
  {
   "cell_type": "markdown",
   "metadata": {},
   "source": [
    "#### R2 구하기"
   ]
  },
  {
   "cell_type": "code",
   "execution_count": 10,
   "metadata": {},
   "outputs": [
    {
     "name": "stdout",
     "output_type": "stream",
     "text": [
      "R2 :  0.9999477069761434\n"
     ]
    }
   ],
   "source": [
    "from sklearn.metrics import r2_score\n",
    "r2_y_predict = r2_score(y_test, y_predict)\n",
    "print(\"R2 : \", r2_y_predict)"
   ]
  },
  {
   "cell_type": "code",
   "execution_count": null,
   "metadata": {},
   "outputs": [],
   "source": []
  }
 ],
 "metadata": {
  "kernelspec": {
   "display_name": "Python 3",
   "language": "python",
   "name": "python3"
  },
  "language_info": {
   "codemirror_mode": {
    "name": "ipython",
    "version": 3
   },
   "file_extension": ".py",
   "mimetype": "text/x-python",
   "name": "python",
   "nbconvert_exporter": "python",
   "pygments_lexer": "ipython3",
   "version": "3.7.6"
  }
 },
 "nbformat": 4,
 "nbformat_minor": 4
}
