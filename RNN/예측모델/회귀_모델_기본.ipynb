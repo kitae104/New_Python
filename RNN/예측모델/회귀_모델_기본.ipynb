{
 "cells": [
  {
   "cell_type": "markdown",
   "metadata": {},
   "source": [
    "# 회귀 모델\n",
    "* 1 ~ 10까지 데이터로 학습한 후 101 ~ 110까지 예측하기 "
   ]
  },
  {
   "cell_type": "markdown",
   "metadata": {},
   "source": [
    "## 0 사용할 패키지 불러오기 "
   ]
  },
  {
   "cell_type": "code",
   "execution_count": 1,
   "metadata": {},
   "outputs": [],
   "source": [
    "import numpy as np\n",
    "from tensorflow.keras.models import Sequential\n",
    "from tensorflow.keras.layers import Dense\n",
    "import random"
   ]
  },
  {
   "cell_type": "markdown",
   "metadata": {},
   "source": [
    "## 1. 데이터셋 생성하기\n",
    "* 학습 데이터 \n",
    "* 테스트 데이터"
   ]
  },
  {
   "cell_type": "code",
   "execution_count": 2,
   "metadata": {},
   "outputs": [],
   "source": [
    "x_train = np.array([1,2,3,4,5,6,7,8,9,10])\n",
    "y_train = np.array([1,2,3,4,5,6,7,8,9,10])\n",
    "x_test = np.array([101,102,103,104,105,106,107,108,109,110])\n",
    "y_test = np.array([101,102,103,104,105,106,107,108,109,110])"
   ]
  },
  {
   "cell_type": "markdown",
   "metadata": {},
   "source": [
    "## 2. 모델 구성하기\n",
    "* Dense 레이어가 두 개인 다층퍼셉트론 모델. \n",
    "* 첫 번째 레이어는 5개의 뉴런을 가진 Dense 레이어\n",
    "    - 오류역전파가 용이한 relu 활성화 함수를 사용.\n",
    "* 두 번째 레이어는 3개의 뉴런을 가진 Dense 레이어 \n",
    "* 출력 레이어인 세 번째 레이어는 하나의 수치값을 예측을 하기 위해서 1개의 뉴런을 가지며, 별도의 활성화 함수는 relu를 사용"
   ]
  },
  {
   "cell_type": "code",
   "execution_count": 3,
   "metadata": {},
   "outputs": [
    {
     "name": "stdout",
     "output_type": "stream",
     "text": [
      "Model: \"sequential\"\n",
      "_________________________________________________________________\n",
      "Layer (type)                 Output Shape              Param #   \n",
      "=================================================================\n",
      "dense (Dense)                (None, 5)                 10        \n",
      "_________________________________________________________________\n",
      "dense_1 (Dense)              (None, 3)                 18        \n",
      "_________________________________________________________________\n",
      "dense_2 (Dense)              (None, 1)                 4         \n",
      "=================================================================\n",
      "Total params: 32\n",
      "Trainable params: 32\n",
      "Non-trainable params: 0\n",
      "_________________________________________________________________\n"
     ]
    }
   ],
   "source": [
    "model = Sequential()\n",
    "model.add(Dense(5, input_dim =1 , activation='relu'))\n",
    "model.add(Dense(3))\n",
    "model.add(Dense(1, activation='relu'))\n",
    "model.summary()"
   ]
  },
  {
   "cell_type": "markdown",
   "metadata": {},
   "source": [
    "## 3. 모델 학습과정 설정하기\n",
    "#### 모델 컴파일\n",
    "* 모델을 실행시키지 전에 머신이 이해할 수 있도록 컴파일 시킴\n",
    "* loss : 손실 마수는 어떤 것을 사용할 것인가? --> mse\n",
    "* optimizer : 최적화 함수는? --> adam, rmsprop\n",
    "* metrics : 어떤 방식? --> accuracy, mse(mean squared error) 적용 "
   ]
  },
  {
   "cell_type": "code",
   "execution_count": 4,
   "metadata": {},
   "outputs": [],
   "source": [
    "model.compile(loss='mse', optimizer='adam', metrics=['accuracy'])"
   ]
  },
  {
   "cell_type": "markdown",
   "metadata": {},
   "source": [
    "## 4. 모델 학습시키기\n",
    "* epochs : 훈련 횟수\n",
    "* batch_size : 몇 개씩 끊어서 작업을 할 것인가를 의미 \n",
    "    - batch_size를 크게 잡을 경우 속도가 빨라지지만 정확도가 떨어짐\n",
    "    - 작게 잡을 경우 속도는 떨어지지만 정확도는 올라감\n",
    "* valication_data : 검증 데이터 "
   ]
  },
  {
   "cell_type": "code",
   "execution_count": 5,
   "metadata": {},
   "outputs": [
    {
     "name": "stdout",
     "output_type": "stream",
     "text": [
      "Train on 10 samples, validate on 10 samples\n",
      "Epoch 1/100\n",
      "10/10 [==============================] - 1s 53ms/sample - loss: 1.3564 - accuracy: 0.1000 - val_loss: 320.8551 - val_accuracy: 0.0000e+00\n",
      "Epoch 2/100\n",
      "10/10 [==============================] - 0s 3ms/sample - loss: 0.7829 - accuracy: 0.1000 - val_loss: 196.0735 - val_accuracy: 0.0000e+00\n",
      "Epoch 3/100\n",
      "10/10 [==============================] - 0s 3ms/sample - loss: 0.4118 - accuracy: 0.1000 - val_loss: 105.7481 - val_accuracy: 0.0000e+00\n",
      "Epoch 4/100\n",
      "10/10 [==============================] - 0s 3ms/sample - loss: 0.1862 - accuracy: 0.1000 - val_loss: 50.0622 - val_accuracy: 0.0000e+00\n",
      "Epoch 5/100\n",
      "10/10 [==============================] - 0s 3ms/sample - loss: 0.0644 - accuracy: 0.1000 - val_loss: 21.7566 - val_accuracy: 0.0000e+00\n",
      "Epoch 6/100\n",
      "10/10 [==============================] - 0s 3ms/sample - loss: 0.0150 - accuracy: 0.1000 - val_loss: 10.4026 - val_accuracy: 0.0000e+00\n",
      "Epoch 7/100\n",
      "10/10 [==============================] - 0s 3ms/sample - loss: 0.0060 - accuracy: 0.1000 - val_loss: 6.2602 - val_accuracy: 0.0000e+00\n",
      "Epoch 8/100\n",
      "10/10 [==============================] - 0s 3ms/sample - loss: 0.0070 - accuracy: 0.1000 - val_loss: 4.5246 - val_accuracy: 0.0000e+00\n",
      "Epoch 9/100\n",
      "10/10 [==============================] - 0s 3ms/sample - loss: 0.0068 - accuracy: 0.1000 - val_loss: 4.4875 - val_accuracy: 0.0000e+00\n",
      "Epoch 10/100\n",
      "10/10 [==============================] - 0s 3ms/sample - loss: 0.0065 - accuracy: 0.1000 - val_loss: 5.0552 - val_accuracy: 0.0000e+00\n",
      "Epoch 11/100\n",
      "10/10 [==============================] - 0s 3ms/sample - loss: 0.0059 - accuracy: 0.1000 - val_loss: 5.0617 - val_accuracy: 0.0000e+00\n",
      "Epoch 12/100\n",
      "10/10 [==============================] - 0s 3ms/sample - loss: 0.0057 - accuracy: 0.1000 - val_loss: 5.3727 - val_accuracy: 0.0000e+00\n",
      "Epoch 13/100\n",
      "10/10 [==============================] - 0s 3ms/sample - loss: 0.0054 - accuracy: 0.1000 - val_loss: 5.2332 - val_accuracy: 0.0000e+00\n",
      "Epoch 14/100\n",
      "10/10 [==============================] - 0s 3ms/sample - loss: 0.0052 - accuracy: 0.1000 - val_loss: 5.0039 - val_accuracy: 0.0000e+00\n",
      "Epoch 15/100\n",
      "10/10 [==============================] - 0s 3ms/sample - loss: 0.0050 - accuracy: 0.1000 - val_loss: 4.7319 - val_accuracy: 0.0000e+00\n",
      "Epoch 16/100\n",
      "10/10 [==============================] - 0s 3ms/sample - loss: 0.0048 - accuracy: 0.1000 - val_loss: 4.5439 - val_accuracy: 0.0000e+00\n",
      "Epoch 17/100\n",
      "10/10 [==============================] - 0s 3ms/sample - loss: 0.0046 - accuracy: 0.1000 - val_loss: 4.2331 - val_accuracy: 0.0000e+00\n",
      "Epoch 18/100\n",
      "10/10 [==============================] - 0s 3ms/sample - loss: 0.0044 - accuracy: 0.1000 - val_loss: 4.2257 - val_accuracy: 0.0000e+00\n",
      "Epoch 19/100\n",
      "10/10 [==============================] - 0s 3ms/sample - loss: 0.0042 - accuracy: 0.1000 - val_loss: 4.1215 - val_accuracy: 0.0000e+00\n",
      "Epoch 20/100\n",
      "10/10 [==============================] - 0s 3ms/sample - loss: 0.0040 - accuracy: 0.1000 - val_loss: 3.7618 - val_accuracy: 0.0000e+00\n",
      "Epoch 21/100\n",
      "10/10 [==============================] - 0s 3ms/sample - loss: 0.0038 - accuracy: 0.1000 - val_loss: 3.6478 - val_accuracy: 0.0000e+00\n",
      "Epoch 22/100\n",
      "10/10 [==============================] - 0s 3ms/sample - loss: 0.0036 - accuracy: 0.1000 - val_loss: 3.4955 - val_accuracy: 0.0000e+00\n",
      "Epoch 23/100\n",
      "10/10 [==============================] - 0s 3ms/sample - loss: 0.0034 - accuracy: 0.1000 - val_loss: 3.3461 - val_accuracy: 0.0000e+00\n",
      "Epoch 24/100\n",
      "10/10 [==============================] - 0s 3ms/sample - loss: 0.0033 - accuracy: 0.1000 - val_loss: 3.1678 - val_accuracy: 0.0000e+00\n",
      "Epoch 25/100\n",
      "10/10 [==============================] - 0s 3ms/sample - loss: 0.0031 - accuracy: 0.1000 - val_loss: 2.7704 - val_accuracy: 0.0000e+00\n",
      "Epoch 26/100\n",
      "10/10 [==============================] - 0s 3ms/sample - loss: 0.0029 - accuracy: 0.1000 - val_loss: 2.6327 - val_accuracy: 0.0000e+00\n",
      "Epoch 27/100\n",
      "10/10 [==============================] - 0s 3ms/sample - loss: 0.0028 - accuracy: 0.1000 - val_loss: 2.4984 - val_accuracy: 0.0000e+00\n",
      "Epoch 28/100\n",
      "10/10 [==============================] - 0s 3ms/sample - loss: 0.0026 - accuracy: 0.1000 - val_loss: 2.6418 - val_accuracy: 0.0000e+00\n",
      "Epoch 29/100\n",
      "10/10 [==============================] - 0s 3ms/sample - loss: 0.0025 - accuracy: 0.1000 - val_loss: 2.3213 - val_accuracy: 0.0000e+00\n",
      "Epoch 30/100\n",
      "10/10 [==============================] - 0s 3ms/sample - loss: 0.0023 - accuracy: 0.1000 - val_loss: 2.1533 - val_accuracy: 0.0000e+00\n",
      "Epoch 31/100\n",
      "10/10 [==============================] - 0s 3ms/sample - loss: 0.0022 - accuracy: 0.1000 - val_loss: 1.8869 - val_accuracy: 0.0000e+00\n",
      "Epoch 32/100\n",
      "10/10 [==============================] - 0s 3ms/sample - loss: 0.0020 - accuracy: 0.1000 - val_loss: 1.9002 - val_accuracy: 0.0000e+00\n",
      "Epoch 33/100\n",
      "10/10 [==============================] - 0s 3ms/sample - loss: 0.0019 - accuracy: 0.1000 - val_loss: 1.8307 - val_accuracy: 0.0000e+00\n",
      "Epoch 34/100\n",
      "10/10 [==============================] - 0s 3ms/sample - loss: 0.0018 - accuracy: 0.1000 - val_loss: 1.7512 - val_accuracy: 0.0000e+00\n",
      "Epoch 35/100\n",
      "10/10 [==============================] - 0s 3ms/sample - loss: 0.0016 - accuracy: 0.1000 - val_loss: 1.5437 - val_accuracy: 0.0000e+00\n",
      "Epoch 36/100\n",
      "10/10 [==============================] - 0s 3ms/sample - loss: 0.0016 - accuracy: 0.1000 - val_loss: 1.4165 - val_accuracy: 0.0000e+00\n",
      "Epoch 37/100\n",
      "10/10 [==============================] - 0s 3ms/sample - loss: 0.0015 - accuracy: 0.1000 - val_loss: 1.2925 - val_accuracy: 0.0000e+00\n",
      "Epoch 38/100\n",
      "10/10 [==============================] - 0s 3ms/sample - loss: 0.0014 - accuracy: 0.1000 - val_loss: 1.3735 - val_accuracy: 0.0000e+00\n",
      "Epoch 39/100\n",
      "10/10 [==============================] - 0s 3ms/sample - loss: 0.0013 - accuracy: 0.1000 - val_loss: 1.2003 - val_accuracy: 0.0000e+00\n",
      "Epoch 40/100\n",
      "10/10 [==============================] - 0s 3ms/sample - loss: 0.0012 - accuracy: 0.1000 - val_loss: 1.1133 - val_accuracy: 0.0000e+00\n",
      "Epoch 41/100\n",
      "10/10 [==============================] - 0s 3ms/sample - loss: 0.0011 - accuracy: 0.1000 - val_loss: 0.8884 - val_accuracy: 0.0000e+00\n",
      "Epoch 42/100\n",
      "10/10 [==============================] - 0s 3ms/sample - loss: 0.0010 - accuracy: 0.1000 - val_loss: 0.8557 - val_accuracy: 0.0000e+00\n",
      "Epoch 43/100\n",
      "10/10 [==============================] - 0s 3ms/sample - loss: 9.3242e-04 - accuracy: 0.1000 - val_loss: 0.8657 - val_accuracy: 0.0000e+00\n",
      "Epoch 44/100\n",
      "10/10 [==============================] - 0s 3ms/sample - loss: 8.9887e-04 - accuracy: 0.1000 - val_loss: 0.9018 - val_accuracy: 0.0000e+00\n",
      "Epoch 45/100\n",
      "10/10 [==============================] - 0s 3ms/sample - loss: 8.0685e-04 - accuracy: 0.1000 - val_loss: 0.6946 - val_accuracy: 0.0000e+00\n",
      "Epoch 46/100\n",
      "10/10 [==============================] - 0s 3ms/sample - loss: 7.4562e-04 - accuracy: 0.1000 - val_loss: 0.6789 - val_accuracy: 0.0000e+00\n",
      "Epoch 47/100\n",
      "10/10 [==============================] - 0s 3ms/sample - loss: 6.8414e-04 - accuracy: 0.1000 - val_loss: 0.5816 - val_accuracy: 0.0000e+00\n",
      "Epoch 48/100\n",
      "10/10 [==============================] - 0s 3ms/sample - loss: 6.1610e-04 - accuracy: 0.1000 - val_loss: 0.5866 - val_accuracy: 0.0000e+00\n",
      "Epoch 49/100\n",
      "10/10 [==============================] - 0s 3ms/sample - loss: 5.9228e-04 - accuracy: 0.1000 - val_loss: 0.5272 - val_accuracy: 0.0000e+00\n",
      "Epoch 50/100\n",
      "10/10 [==============================] - 0s 3ms/sample - loss: 5.2694e-04 - accuracy: 0.1000 - val_loss: 0.4863 - val_accuracy: 0.0000e+00\n",
      "Epoch 51/100\n",
      "10/10 [==============================] - 0s 3ms/sample - loss: 4.9747e-04 - accuracy: 0.1000 - val_loss: 0.4082 - val_accuracy: 0.0000e+00\n",
      "Epoch 52/100\n",
      "10/10 [==============================] - 0s 3ms/sample - loss: 4.4652e-04 - accuracy: 0.1000 - val_loss: 0.4035 - val_accuracy: 0.0000e+00\n",
      "Epoch 53/100\n",
      "10/10 [==============================] - 0s 3ms/sample - loss: 4.3530e-04 - accuracy: 0.1000 - val_loss: 0.4462 - val_accuracy: 0.0000e+00\n",
      "Epoch 54/100\n",
      "10/10 [==============================] - 0s 3ms/sample - loss: 3.7545e-04 - accuracy: 0.1000 - val_loss: 0.3788 - val_accuracy: 0.0000e+00\n",
      "Epoch 55/100\n",
      "10/10 [==============================] - 0s 3ms/sample - loss: 3.2439e-04 - accuracy: 0.1000 - val_loss: 0.2734 - val_accuracy: 0.0000e+00\n"
     ]
    },
    {
     "name": "stdout",
     "output_type": "stream",
     "text": [
      "Epoch 56/100\n",
      "10/10 [==============================] - 0s 3ms/sample - loss: 3.1765e-04 - accuracy: 0.1000 - val_loss: 0.2668 - val_accuracy: 0.0000e+00\n",
      "Epoch 57/100\n",
      "10/10 [==============================] - 0s 3ms/sample - loss: 2.7775e-04 - accuracy: 0.1000 - val_loss: 0.2362 - val_accuracy: 0.0000e+00\n",
      "Epoch 58/100\n",
      "10/10 [==============================] - 0s 3ms/sample - loss: 2.6191e-04 - accuracy: 0.1000 - val_loss: 0.2147 - val_accuracy: 0.0000e+00\n",
      "Epoch 59/100\n",
      "10/10 [==============================] - 0s 3ms/sample - loss: 2.2980e-04 - accuracy: 0.1000 - val_loss: 0.2166 - val_accuracy: 0.0000e+00\n",
      "Epoch 60/100\n",
      "10/10 [==============================] - 0s 3ms/sample - loss: 2.1927e-04 - accuracy: 0.1000 - val_loss: 0.2262 - val_accuracy: 0.0000e+00\n",
      "Epoch 61/100\n",
      "10/10 [==============================] - 0s 3ms/sample - loss: 2.0880e-04 - accuracy: 0.1000 - val_loss: 0.1520 - val_accuracy: 0.0000e+00\n",
      "Epoch 62/100\n",
      "10/10 [==============================] - 0s 3ms/sample - loss: 1.7238e-04 - accuracy: 0.1000 - val_loss: 0.1445 - val_accuracy: 0.0000e+00\n",
      "Epoch 63/100\n",
      "10/10 [==============================] - 0s 3ms/sample - loss: 1.5566e-04 - accuracy: 0.1000 - val_loss: 0.1355 - val_accuracy: 0.0000e+00\n",
      "Epoch 64/100\n",
      "10/10 [==============================] - 0s 3ms/sample - loss: 1.3930e-04 - accuracy: 0.1000 - val_loss: 0.1305 - val_accuracy: 0.0000e+00\n",
      "Epoch 65/100\n",
      "10/10 [==============================] - 0s 3ms/sample - loss: 1.3010e-04 - accuracy: 0.1000 - val_loss: 0.1307 - val_accuracy: 0.0000e+00\n",
      "Epoch 66/100\n",
      "10/10 [==============================] - 0s 3ms/sample - loss: 1.1589e-04 - accuracy: 0.1000 - val_loss: 0.0965 - val_accuracy: 0.0000e+00\n",
      "Epoch 67/100\n",
      "10/10 [==============================] - 0s 3ms/sample - loss: 1.0428e-04 - accuracy: 0.1000 - val_loss: 0.0801 - val_accuracy: 0.0000e+00\n",
      "Epoch 68/100\n",
      "10/10 [==============================] - 0s 3ms/sample - loss: 9.5493e-05 - accuracy: 0.1000 - val_loss: 0.0915 - val_accuracy: 0.0000e+00\n",
      "Epoch 69/100\n",
      "10/10 [==============================] - 0s 3ms/sample - loss: 8.1685e-05 - accuracy: 0.1000 - val_loss: 0.0722 - val_accuracy: 0.0000e+00\n",
      "Epoch 70/100\n",
      "10/10 [==============================] - 0s 3ms/sample - loss: 7.4414e-05 - accuracy: 0.1000 - val_loss: 0.0642 - val_accuracy: 0.0000e+00\n",
      "Epoch 71/100\n",
      "10/10 [==============================] - 0s 3ms/sample - loss: 6.5106e-05 - accuracy: 0.1000 - val_loss: 0.0615 - val_accuracy: 0.0000e+00\n",
      "Epoch 72/100\n",
      "10/10 [==============================] - 0s 3ms/sample - loss: 6.6406e-05 - accuracy: 0.1000 - val_loss: 0.0627 - val_accuracy: 0.0000e+00\n",
      "Epoch 73/100\n",
      "10/10 [==============================] - 0s 3ms/sample - loss: 5.7569e-05 - accuracy: 0.1000 - val_loss: 0.0369 - val_accuracy: 0.0000e+00\n",
      "Epoch 74/100\n",
      "10/10 [==============================] - 0s 3ms/sample - loss: 4.9948e-05 - accuracy: 0.1000 - val_loss: 0.0397 - val_accuracy: 0.0000e+00\n",
      "Epoch 75/100\n",
      "10/10 [==============================] - 0s 3ms/sample - loss: 4.4374e-05 - accuracy: 0.1000 - val_loss: 0.0418 - val_accuracy: 0.0000e+00\n",
      "Epoch 76/100\n",
      "10/10 [==============================] - 0s 3ms/sample - loss: 3.7164e-05 - accuracy: 0.1000 - val_loss: 0.0298 - val_accuracy: 0.0000e+00\n",
      "Epoch 77/100\n",
      "10/10 [==============================] - 0s 3ms/sample - loss: 3.4072e-05 - accuracy: 0.1000 - val_loss: 0.0293 - val_accuracy: 0.0000e+00\n",
      "Epoch 78/100\n",
      "10/10 [==============================] - 0s 3ms/sample - loss: 2.8925e-05 - accuracy: 0.1000 - val_loss: 0.0235 - val_accuracy: 0.0000e+00\n",
      "Epoch 79/100\n",
      "10/10 [==============================] - 0s 3ms/sample - loss: 2.5778e-05 - accuracy: 0.1000 - val_loss: 0.0214 - val_accuracy: 0.0000e+00\n",
      "Epoch 80/100\n",
      "10/10 [==============================] - 0s 3ms/sample - loss: 2.3375e-05 - accuracy: 0.1000 - val_loss: 0.0229 - val_accuracy: 0.0000e+00\n",
      "Epoch 81/100\n",
      "10/10 [==============================] - 0s 3ms/sample - loss: 2.0509e-05 - accuracy: 0.1000 - val_loss: 0.0171 - val_accuracy: 0.0000e+00\n",
      "Epoch 82/100\n",
      "10/10 [==============================] - 0s 3ms/sample - loss: 1.8034e-05 - accuracy: 0.1000 - val_loss: 0.0142 - val_accuracy: 0.0000e+00\n",
      "Epoch 83/100\n",
      "10/10 [==============================] - 0s 4ms/sample - loss: 1.5877e-05 - accuracy: 0.1000 - val_loss: 0.0125 - val_accuracy: 0.0000e+00\n",
      "Epoch 84/100\n",
      "10/10 [==============================] - 0s 3ms/sample - loss: 1.5664e-05 - accuracy: 0.1000 - val_loss: 0.0153 - val_accuracy: 0.0000e+00\n",
      "Epoch 85/100\n",
      "10/10 [==============================] - 0s 3ms/sample - loss: 1.2587e-05 - accuracy: 0.1000 - val_loss: 0.0097 - val_accuracy: 0.0000e+00\n",
      "Epoch 86/100\n",
      "10/10 [==============================] - 0s 3ms/sample - loss: 1.0749e-05 - accuracy: 0.1000 - val_loss: 0.0085 - val_accuracy: 0.0000e+00\n",
      "Epoch 87/100\n",
      "10/10 [==============================] - 0s 3ms/sample - loss: 9.3226e-06 - accuracy: 0.1000 - val_loss: 0.0082 - val_accuracy: 0.0000e+00\n",
      "Epoch 88/100\n",
      "10/10 [==============================] - 0s 3ms/sample - loss: 8.1992e-06 - accuracy: 0.1000 - val_loss: 0.0077 - val_accuracy: 0.0000e+00\n",
      "Epoch 89/100\n",
      "10/10 [==============================] - 0s 3ms/sample - loss: 8.3920e-06 - accuracy: 0.1000 - val_loss: 0.0075 - val_accuracy: 0.0000e+00\n",
      "Epoch 90/100\n",
      "10/10 [==============================] - 0s 3ms/sample - loss: 6.6612e-06 - accuracy: 0.1000 - val_loss: 0.0040 - val_accuracy: 0.0000e+00\n",
      "Epoch 91/100\n",
      "10/10 [==============================] - 0s 3ms/sample - loss: 5.8502e-06 - accuracy: 0.1000 - val_loss: 0.0044 - val_accuracy: 0.0000e+00\n",
      "Epoch 92/100\n",
      "10/10 [==============================] - 0s 3ms/sample - loss: 4.7835e-06 - accuracy: 0.1000 - val_loss: 0.0048 - val_accuracy: 0.0000e+00\n",
      "Epoch 93/100\n",
      "10/10 [==============================] - 0s 3ms/sample - loss: 4.4405e-06 - accuracy: 0.1000 - val_loss: 0.0033 - val_accuracy: 0.0000e+00\n",
      "Epoch 94/100\n",
      "10/10 [==============================] - 0s 3ms/sample - loss: 3.6315e-06 - accuracy: 0.1000 - val_loss: 0.0032 - val_accuracy: 0.0000e+00\n",
      "Epoch 95/100\n",
      "10/10 [==============================] - 0s 3ms/sample - loss: 3.1514e-06 - accuracy: 0.1000 - val_loss: 0.0028 - val_accuracy: 0.0000e+00\n",
      "Epoch 96/100\n",
      "10/10 [==============================] - 0s 3ms/sample - loss: 2.6957e-06 - accuracy: 0.1000 - val_loss: 0.0024 - val_accuracy: 0.0000e+00\n",
      "Epoch 97/100\n",
      "10/10 [==============================] - 0s 3ms/sample - loss: 2.4987e-06 - accuracy: 0.1000 - val_loss: 0.0017 - val_accuracy: 0.0000e+00\n",
      "Epoch 98/100\n",
      "10/10 [==============================] - 0s 3ms/sample - loss: 2.0308e-06 - accuracy: 0.1000 - val_loss: 0.0018 - val_accuracy: 0.0000e+00\n",
      "Epoch 99/100\n",
      "10/10 [==============================] - 0s 3ms/sample - loss: 1.7687e-06 - accuracy: 0.1000 - val_loss: 0.0019 - val_accuracy: 0.0000e+00\n",
      "Epoch 100/100\n",
      "10/10 [==============================] - 0s 3ms/sample - loss: 1.6292e-06 - accuracy: 0.1000 - val_loss: 0.0015 - val_accuracy: 0.0000e+00\n"
     ]
    }
   ],
   "source": [
    "hist = model.fit(x_train, y_train, epochs=100, batch_size=1,validation_data = (x_test, y_test))"
   ]
  },
  {
   "cell_type": "markdown",
   "metadata": {},
   "source": [
    "## 5. 학습과정 살펴보기"
   ]
  },
  {
   "cell_type": "code",
   "execution_count": 6,
   "metadata": {},
   "outputs": [
    {
     "data": {
      "image/png": "[encoded data removed]",
      "text/plain": [
       "<Figure size 432x288 with 1 Axes>"
      ]
     },
     "metadata": {
      "needs_background": "light"
     },
     "output_type": "display_data"
    }
   ],
   "source": [
    "import matplotlib.pyplot as plt\n",
    "\n",
    "plt.plot(hist.history['loss'])\n",
    "plt.plot(hist.history['accuracy'])\n",
    "plt.plot(hist.history['val_loss'])\n",
    "plt.plot(hist.history['val_accuracy'])\n",
    "#plt.ylim(0.0, 1.5)\n",
    "plt.ylabel('loss')\n",
    "plt.xlabel('epoch')\n",
    "plt.legend(['loss', 'accuracy', 'val_loss', 'val_accuracy'], loc='upper right')\n",
    "plt.show()"
   ]
  },
  {
   "cell_type": "markdown",
   "metadata": {},
   "source": [
    "## 6. 모델 평가하기"
   ]
  },
  {
   "cell_type": "code",
   "execution_count": 7,
   "metadata": {},
   "outputs": [
    {
     "name": "stdout",
     "output_type": "stream",
     "text": [
      "10/10 [==============================] - 0s 1ms/sample - loss: 0.0015 - accuracy: 0.0000e+00\n",
      "loss :  0.0014701355015859009\n",
      "acc :  0.0\n"
     ]
    }
   ],
   "source": [
    "loss, acc = model.evaluate(x_test, y_test, batch_size =1)\n",
    "print(\"loss : \", loss)\n",
    "print(\"acc : \", acc )"
   ]
  },
  {
   "cell_type": "markdown",
   "metadata": {},
   "source": [
    "## 7. 예측하기 "
   ]
  },
  {
   "cell_type": "code",
   "execution_count": 8,
   "metadata": {},
   "outputs": [
    {
     "name": "stdout",
     "output_type": "stream",
     "text": [
      "결과물 : \n",
      " [[100.96341 ]\n",
      " [101.963036]\n",
      " [102.96264 ]\n",
      " [103.96226 ]\n",
      " [104.96186 ]\n",
      " [105.96148 ]\n",
      " [106.96109 ]\n",
      " [107.96071 ]\n",
      " [108.96032 ]\n",
      " [109.95994 ]]\n"
     ]
    }
   ],
   "source": [
    "y_predict = model.predict(x_test)\n",
    "print(\"결과물 : \\n\", y_predict)"
   ]
  },
  {
   "cell_type": "code",
   "execution_count": null,
   "metadata": {},
   "outputs": [],
   "source": []
  }
 ],
 "metadata": {
  "kernelspec": {
   "display_name": "Python 3",
   "language": "python",
   "name": "python3"
  },
  "language_info": {
   "codemirror_mode": {
    "name": "ipython",
    "version": 3
   },
   "file_extension": ".py",
   "mimetype": "text/x-python",
   "name": "python",
   "nbconvert_exporter": "python",
   "pygments_lexer": "ipython3",
   "version": "3.7.6"
  }
 },
 "nbformat": 4,
 "nbformat_minor": 4
}
