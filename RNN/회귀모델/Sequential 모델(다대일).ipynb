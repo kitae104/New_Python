{
 "cells": [
  {
   "cell_type": "markdown",
   "metadata": {},
   "source": [
    "# Sequential 모델(다대일)\n",
    "* 여러개의 컬럼이 입력되어 하나의 값이 출력되는 모델 \n",
    "* 일반적으로 가장 많이 사용 "
   ]
  },
  {
   "cell_type": "markdown",
   "metadata": {},
   "source": [
    "## 1. 데이터"
   ]
  },
  {
   "cell_type": "code",
   "execution_count": 1,
   "metadata": {},
   "outputs": [],
   "source": [
    "import numpy as np"
   ]
  },
  {
   "cell_type": "code",
   "execution_count": 3,
   "metadata": {},
   "outputs": [
    {
     "name": "stdout",
     "output_type": "stream",
     "text": [
      "x_train.shape :  (2, 7)\n",
      "y_train.shape :  (7,)\n",
      "x_test.shape :  (2, 3)\n",
      "y_test.shape :  (3,)\n",
      "x_predict.shape :  (2, 3)\n"
     ]
    }
   ],
   "source": [
    "x_train = np.array([[1,2,3,4,5,6,7,], [11,12,13,14,15,16,17]])\n",
    "y_train = np.array([1,2,3,4,5,6,7,])\n",
    "x_test = np.array([[8,9,10], [18,19,20]])\n",
    "y_test = np.array([8,9,10])\n",
    "x_predict = np.array([[21,22,23], [31,32,33]])\n",
    "print('x_train.shape : ', x_train.shape)\n",
    "print('y_train.shape : ', y_train.shape)\n",
    "print('x_test.shape : ' , x_test.shape)\n",
    "print('y_test.shape : ' , y_test.shape)\n",
    "print('x_predict.shape : ', x_predict.shape )"
   ]
  },
  {
   "cell_type": "code",
   "execution_count": 4,
   "metadata": {},
   "outputs": [
    {
     "name": "stdout",
     "output_type": "stream",
     "text": [
      "x_train.shape :  (7, 2)\n",
      "y_train.shape :  (7,)\n",
      "x_test.shape :  (3, 2)\n",
      "y_test.shape :  (3,)\n",
      "x_predict.shape :  (3, 2)\n"
     ]
    }
   ],
   "source": [
    "x_train = np.transpose(x_train)\n",
    "x_test = np.transpose(x_test)\n",
    "x_predict = np.transpose(x_predict)\n",
    "print('x_train.shape : ', x_train.shape)\n",
    "print('y_train.shape : ', y_train.shape)\n",
    "print('x_test.shape : ' , x_test.shape)\n",
    "print('y_test.shape : ' , y_test.shape)\n",
    "print('x_predict.shape : ', x_predict.shape )"
   ]
  },
  {
   "cell_type": "markdown",
   "metadata": {},
   "source": [
    "## 2. 모델 구성"
   ]
  },
  {
   "cell_type": "code",
   "execution_count": 6,
   "metadata": {},
   "outputs": [],
   "source": [
    "from tensorflow.keras.models import Sequential\n",
    "from tensorflow.keras.layers import Dense"
   ]
  },
  {
   "cell_type": "code",
   "execution_count": 7,
   "metadata": {},
   "outputs": [
    {
     "name": "stdout",
     "output_type": "stream",
     "text": [
      "Model: \"sequential\"\n",
      "_________________________________________________________________\n",
      "Layer (type)                 Output Shape              Param #   \n",
      "=================================================================\n",
      "dense (Dense)                (None, 100)               300       \n",
      "_________________________________________________________________\n",
      "dense_1 (Dense)              (None, 30)                3030      \n",
      "_________________________________________________________________\n",
      "dense_2 (Dense)              (None, 5)                 155       \n",
      "_________________________________________________________________\n",
      "dense_3 (Dense)              (None, 1)                 6         \n",
      "=================================================================\n",
      "Total params: 3,491\n",
      "Trainable params: 3,491\n",
      "Non-trainable params: 0\n",
      "_________________________________________________________________\n"
     ]
    }
   ],
   "source": [
    "model = Sequential()\n",
    "model.add(Dense(100, input_dim = 2, activation ='relu'))\n",
    "model.add(Dense(30))\n",
    "model.add(Dense(5))\n",
    "model.add(Dense(1))\n",
    "model.summary()"
   ]
  },
  {
   "cell_type": "markdown",
   "metadata": {},
   "source": [
    "## 3. 훈련"
   ]
  },
  {
   "cell_type": "code",
   "execution_count": 8,
   "metadata": {},
   "outputs": [
    {
     "name": "stdout",
     "output_type": "stream",
     "text": [
      "Train on 7 samples\n",
      "Epoch 1/100\n",
      "7/7 [==============================] - 0s 59ms/sample - loss: 4.1897 - mse: 4.1897\n",
      "Epoch 2/100\n",
      "7/7 [==============================] - 0s 1ms/sample - loss: 2.2728 - mse: 2.2728\n",
      "Epoch 3/100\n",
      "7/7 [==============================] - 0s 1ms/sample - loss: 0.8204 - mse: 0.8204\n",
      "Epoch 4/100\n",
      "7/7 [==============================] - 0s 1ms/sample - loss: 1.2957 - mse: 1.2957\n",
      "Epoch 5/100\n",
      "7/7 [==============================] - 0s 1ms/sample - loss: 0.6366 - mse: 0.6366\n",
      "Epoch 6/100\n",
      "7/7 [==============================] - 0s 1ms/sample - loss: 0.6459 - mse: 0.6459\n",
      "Epoch 7/100\n",
      "7/7 [==============================] - 0s 1ms/sample - loss: 0.4426 - mse: 0.4426\n",
      "Epoch 8/100\n",
      "7/7 [==============================] - 0s 1ms/sample - loss: 0.3400 - mse: 0.3400\n",
      "Epoch 9/100\n",
      "7/7 [==============================] - 0s 1ms/sample - loss: 0.3252 - mse: 0.3252\n",
      "Epoch 10/100\n",
      "7/7 [==============================] - 0s 1ms/sample - loss: 0.2121 - mse: 0.2121\n",
      "Epoch 11/100\n",
      "7/7 [==============================] - 0s 1ms/sample - loss: 0.0895 - mse: 0.0895\n",
      "Epoch 12/100\n",
      "7/7 [==============================] - 0s 1ms/sample - loss: 0.1341 - mse: 0.1341\n",
      "Epoch 13/100\n",
      "7/7 [==============================] - 0s 1ms/sample - loss: 0.0729 - mse: 0.0729\n",
      "Epoch 14/100\n",
      "7/7 [==============================] - 0s 1ms/sample - loss: 0.0283 - mse: 0.0283\n",
      "Epoch 15/100\n",
      "7/7 [==============================] - 0s 1ms/sample - loss: 0.0220 - mse: 0.0220\n",
      "Epoch 16/100\n",
      "7/7 [==============================] - 0s 1ms/sample - loss: 0.0131 - mse: 0.0131\n",
      "Epoch 17/100\n",
      "7/7 [==============================] - 0s 1ms/sample - loss: 0.0033 - mse: 0.0033\n",
      "Epoch 18/100\n",
      "7/7 [==============================] - 0s 1ms/sample - loss: 0.0059 - mse: 0.0059\n",
      "Epoch 19/100\n",
      "7/7 [==============================] - 0s 1ms/sample - loss: 0.0048 - mse: 0.0048  \n",
      "Epoch 20/100\n",
      "7/7 [==============================] - 0s 1ms/sample - loss: 0.0025 - mse: 0.0025  \n",
      "Epoch 21/100\n",
      "7/7 [==============================] - 0s 1ms/sample - loss: 0.0030 - mse: 0.0030\n",
      "Epoch 22/100\n",
      "7/7 [==============================] - 0s 1ms/sample - loss: 0.0028 - mse: 0.0028\n",
      "Epoch 23/100\n",
      "7/7 [==============================] - 0s 1ms/sample - loss: 0.0019 - mse: 0.0019\n",
      "Epoch 24/100\n",
      "7/7 [==============================] - 0s 1ms/sample - loss: 0.0025 - mse: 0.0025\n",
      "Epoch 25/100\n",
      "7/7 [==============================] - 0s 1ms/sample - loss: 0.0020 - mse: 0.0020  \n",
      "Epoch 26/100\n",
      "7/7 [==============================] - 0s 1ms/sample - loss: 0.0014 - mse: 0.0014  \n",
      "Epoch 27/100\n",
      "7/7 [==============================] - 0s 1ms/sample - loss: 0.0014 - mse: 0.0014\n",
      "Epoch 28/100\n",
      "7/7 [==============================] - 0s 1ms/sample - loss: 0.0012 - mse: 0.0012\n",
      "Epoch 29/100\n",
      "7/7 [==============================] - 0s 1ms/sample - loss: 0.0012 - mse: 0.0012  \n",
      "Epoch 30/100\n",
      "7/7 [==============================] - 0s 1ms/sample - loss: 0.0012 - mse: 0.0012\n",
      "Epoch 31/100\n",
      "7/7 [==============================] - 0s 1ms/sample - loss: 0.0010 - mse: 0.0010\n",
      "Epoch 32/100\n",
      "7/7 [==============================] - 0s 1ms/sample - loss: 8.8273e-04 - mse: 8.8273e-04\n",
      "Epoch 33/100\n",
      "7/7 [==============================] - 0s 1ms/sample - loss: 0.0014 - mse: 0.0014\n",
      "Epoch 34/100\n",
      "7/7 [==============================] - 0s 1ms/sample - loss: 0.0011 - mse: 0.0011  \n",
      "Epoch 35/100\n",
      "7/7 [==============================] - 0s 1ms/sample - loss: 7.1278e-04 - mse: 7.1278e-04\n",
      "Epoch 36/100\n",
      "7/7 [==============================] - 0s 1ms/sample - loss: 7.8786e-04 - mse: 7.8786e-04\n",
      "Epoch 37/100\n",
      "7/7 [==============================] - 0s 1ms/sample - loss: 0.0012 - mse: 0.0012\n",
      "Epoch 38/100\n",
      "7/7 [==============================] - 0s 1ms/sample - loss: 8.5645e-04 - mse: 8.5645e-04\n",
      "Epoch 39/100\n",
      "7/7 [==============================] - 0s 1ms/sample - loss: 6.0358e-04 - mse: 6.0358e-04\n",
      "Epoch 40/100\n",
      "7/7 [==============================] - 0s 1ms/sample - loss: 4.8702e-04 - mse: 4.8702e-04\n",
      "Epoch 41/100\n",
      "7/7 [==============================] - 0s 1ms/sample - loss: 5.0009e-04 - mse: 5.0009e-04\n",
      "Epoch 42/100\n",
      "7/7 [==============================] - 0s 1ms/sample - loss: 4.1284e-04 - mse: 4.1284e-04\n",
      "Epoch 43/100\n",
      "7/7 [==============================] - 0s 1ms/sample - loss: 4.7344e-04 - mse: 4.7344e-04\n",
      "Epoch 44/100\n",
      "7/7 [==============================] - 0s 1ms/sample - loss: 3.6231e-04 - mse: 3.6231e-04\n",
      "Epoch 45/100\n",
      "7/7 [==============================] - 0s 1ms/sample - loss: 3.9579e-04 - mse: 3.9579e-04\n",
      "Epoch 46/100\n",
      "7/7 [==============================] - 0s 1ms/sample - loss: 6.1722e-04 - mse: 6.1722e-04\n",
      "Epoch 47/100\n",
      "7/7 [==============================] - 0s 1ms/sample - loss: 4.4030e-04 - mse: 4.4030e-04\n",
      "Epoch 48/100\n",
      "7/7 [==============================] - 0s 1ms/sample - loss: 3.7974e-04 - mse: 3.7974e-04\n",
      "Epoch 49/100\n",
      "7/7 [==============================] - 0s 1ms/sample - loss: 3.1520e-04 - mse: 3.1520e-04\n",
      "Epoch 50/100\n",
      "7/7 [==============================] - 0s 1ms/sample - loss: 3.9661e-04 - mse: 3.9661e-04\n",
      "Epoch 51/100\n",
      "7/7 [==============================] - 0s 1ms/sample - loss: 5.0527e-04 - mse: 5.0527e-04\n",
      "Epoch 52/100\n",
      "7/7 [==============================] - 0s 1ms/sample - loss: 7.1878e-04 - mse: 7.1878e-04\n",
      "Epoch 53/100\n",
      "7/7 [==============================] - 0s 1ms/sample - loss: 9.9959e-04 - mse: 9.9959e-04\n",
      "Epoch 54/100\n",
      "7/7 [==============================] - 0s 1ms/sample - loss: 0.0013 - mse: 0.0013\n",
      "Epoch 55/100\n",
      "7/7 [==============================] - 0s 1ms/sample - loss: 8.1763e-04 - mse: 8.1763e-04\n",
      "Epoch 56/100\n",
      "7/7 [==============================] - 0s 1ms/sample - loss: 2.6818e-04 - mse: 2.6818e-04\n",
      "Epoch 57/100\n",
      "7/7 [==============================] - 0s 1ms/sample - loss: 3.4802e-04 - mse: 3.4802e-04\n",
      "Epoch 58/100\n",
      "7/7 [==============================] - 0s 1ms/sample - loss: 6.3026e-04 - mse: 6.3026e-04\n",
      "Epoch 59/100\n",
      "7/7 [==============================] - 0s 1ms/sample - loss: 3.0306e-04 - mse: 3.0306e-04\n",
      "Epoch 60/100\n",
      "7/7 [==============================] - 0s 1ms/sample - loss: 2.6905e-04 - mse: 2.6905e-04\n",
      "Epoch 61/100\n",
      "7/7 [==============================] - 0s 1ms/sample - loss: 2.7474e-04 - mse: 2.7474e-04\n",
      "Epoch 62/100\n",
      "7/7 [==============================] - 0s 1ms/sample - loss: 3.8171e-04 - mse: 3.8171e-04\n",
      "Epoch 63/100\n",
      "7/7 [==============================] - 0s 1ms/sample - loss: 1.7909e-04 - mse: 1.7909e-04\n",
      "Epoch 64/100\n",
      "7/7 [==============================] - 0s 1ms/sample - loss: 2.8820e-04 - mse: 2.8820e-04\n",
      "Epoch 65/100\n",
      "7/7 [==============================] - 0s 1ms/sample - loss: 2.0105e-04 - mse: 2.0105e-04\n",
      "Epoch 66/100\n",
      "7/7 [==============================] - 0s 1ms/sample - loss: 1.4481e-04 - mse: 1.4481e-04\n",
      "Epoch 67/100\n",
      "7/7 [==============================] - 0s 1ms/sample - loss: 2.0825e-04 - mse: 2.0825e-04\n",
      "Epoch 68/100\n",
      "7/7 [==============================] - 0s 1ms/sample - loss: 2.1609e-04 - mse: 2.1609e-04\n",
      "Epoch 69/100\n",
      "7/7 [==============================] - 0s 1ms/sample - loss: 1.1251e-04 - mse: 1.1251e-04\n",
      "Epoch 70/100\n",
      "7/7 [==============================] - 0s 1ms/sample - loss: 1.0155e-04 - mse: 1.0155e-04\n",
      "Epoch 71/100\n",
      "7/7 [==============================] - 0s 1ms/sample - loss: 1.0675e-04 - mse: 1.0675e-04\n",
      "Epoch 72/100\n",
      "7/7 [==============================] - 0s 1ms/sample - loss: 1.2885e-04 - mse: 1.2885e-04\n",
      "Epoch 73/100\n",
      "7/7 [==============================] - ETA: 0s - loss: 5.0761e-05 - mse: 5.0761e-0 - 0s 1ms/sample - loss: 9.0689e-05 - mse: 9.0689e-05\n",
      "Epoch 74/100\n",
      "7/7 [==============================] - 0s 1ms/sample - loss: 8.6532e-05 - mse: 8.6532e-05\n",
      "Epoch 75/100\n",
      "7/7 [==============================] - 0s 1ms/sample - loss: 8.5156e-05 - mse: 8.5156e-05\n",
      "Epoch 76/100\n",
      "7/7 [==============================] - 0s 1ms/sample - loss: 8.7650e-05 - mse: 8.7650e-05\n",
      "Epoch 77/100\n",
      "7/7 [==============================] - 0s 1ms/sample - loss: 1.5259e-04 - mse: 1.5259e-04\n",
      "Epoch 78/100\n",
      "7/7 [==============================] - 0s 1ms/sample - loss: 2.1343e-04 - mse: 2.1343e-04\n",
      "Epoch 79/100\n",
      "7/7 [==============================] - 0s 1ms/sample - loss: 1.0398e-04 - mse: 1.0398e-04\n",
      "Epoch 80/100\n",
      "7/7 [==============================] - 0s 1ms/sample - loss: 1.2237e-04 - mse: 1.2237e-04\n",
      "Epoch 81/100\n",
      "7/7 [==============================] - 0s 1ms/sample - loss: 1.1646e-04 - mse: 1.1646e-04\n",
      "Epoch 82/100\n",
      "7/7 [==============================] - 0s 1ms/sample - loss: 1.1655e-04 - mse: 1.1655e-04\n",
      "Epoch 83/100\n",
      "7/7 [==============================] - 0s 1ms/sample - loss: 1.4502e-04 - mse: 1.4502e-04\n",
      "Epoch 84/100\n",
      "7/7 [==============================] - 0s 1ms/sample - loss: 5.3119e-05 - mse: 5.3119e-05\n",
      "Epoch 85/100\n",
      "7/7 [==============================] - 0s 1ms/sample - loss: 6.3414e-05 - mse: 6.3414e-05\n",
      "Epoch 86/100\n",
      "7/7 [==============================] - 0s 1ms/sample - loss: 4.8248e-05 - mse: 4.8248e-05\n",
      "Epoch 87/100\n",
      "7/7 [==============================] - 0s 1ms/sample - loss: 7.0130e-05 - mse: 7.0130e-05\n",
      "Epoch 88/100\n",
      "7/7 [==============================] - 0s 1ms/sample - loss: 1.4479e-04 - mse: 1.4479e-04\n",
      "Epoch 89/100\n",
      "7/7 [==============================] - 0s 1ms/sample - loss: 1.0069e-04 - mse: 1.0069e-04\n",
      "Epoch 90/100\n",
      "7/7 [==============================] - 0s 1ms/sample - loss: 8.0252e-05 - mse: 8.0252e-05\n",
      "Epoch 91/100\n",
      "7/7 [==============================] - 0s 1ms/sample - loss: 1.6496e-04 - mse: 1.6496e-04\n",
      "Epoch 92/100\n",
      "7/7 [==============================] - 0s 1ms/sample - loss: 4.2320e-05 - mse: 4.2320e-05\n",
      "Epoch 93/100\n",
      "7/7 [==============================] - 0s 1ms/sample - loss: 3.2682e-05 - mse: 3.2682e-05\n",
      "Epoch 94/100\n",
      "7/7 [==============================] - 0s 1ms/sample - loss: 4.5529e-05 - mse: 4.5529e-05\n",
      "Epoch 95/100\n",
      "7/7 [==============================] - 0s 1ms/sample - loss: 4.5932e-05 - mse: 4.5932e-05\n",
      "Epoch 96/100\n",
      "7/7 [==============================] - 0s 1ms/sample - loss: 6.0262e-05 - mse: 6.0262e-05\n",
      "Epoch 97/100\n",
      "7/7 [==============================] - 0s 1ms/sample - loss: 3.8903e-05 - mse: 3.8903e-05\n",
      "Epoch 98/100\n",
      "7/7 [==============================] - 0s 1ms/sample - loss: 5.5504e-05 - mse: 5.5504e-05\n",
      "Epoch 99/100\n",
      "7/7 [==============================] - 0s 1ms/sample - loss: 2.6130e-05 - mse: 2.6130e-05\n",
      "Epoch 100/100\n",
      "7/7 [==============================] - 0s 1ms/sample - loss: 2.0926e-05 - mse: 2.0926e-05\n"
     ]
    },
    {
     "data": {
      "text/plain": [
       "<tensorflow.python.keras.callbacks.History at 0x1b642ac9f08>"
      ]
     },
     "execution_count": 8,
     "metadata": {},
     "output_type": "execute_result"
    }
   ],
   "source": [
    "model.compile(loss='mse', optimizer='adam', metrics=['mse'])\n",
    "model.fit(x_train, y_train, epochs=100, batch_size=1)"
   ]
  },
  {
   "cell_type": "markdown",
   "metadata": {},
   "source": [
    "## 4. 평가 예측"
   ]
  },
  {
   "cell_type": "code",
   "execution_count": 9,
   "metadata": {},
   "outputs": [
    {
     "name": "stdout",
     "output_type": "stream",
     "text": [
      "3/3 [==============================] - 0s 13ms/sample - loss: 0.0091 - mse: 0.0091\n",
      "mse :  0.009091679\n",
      "데이터 : [[21 31]\n",
      " [22 32]\n",
      " [23 33]] 예측값 : \n",
      " [[19.999748]\n",
      " [20.917841]\n",
      " [21.834654]]\n"
     ]
    }
   ],
   "source": [
    "loss, mse = model.evaluate(x_test, y_test, batch_size=1)\n",
    "print(\"mse : \", mse)\n",
    "y_predict = model.predict(x_predict)\n",
    "print(\"데이터 :\",x_predict ,\"예측값 : \\n\", y_predict)"
   ]
  },
  {
   "cell_type": "code",
   "execution_count": null,
   "metadata": {},
   "outputs": [],
   "source": []
  }
 ],
 "metadata": {
  "kernelspec": {
   "display_name": "Python 3",
   "language": "python",
   "name": "python3"
  },
  "language_info": {
   "codemirror_mode": {
    "name": "ipython",
    "version": 3
   },
   "file_extension": ".py",
   "mimetype": "text/x-python",
   "name": "python",
   "nbconvert_exporter": "python",
   "pygments_lexer": "ipython3",
   "version": "3.7.6"
  }
 },
 "nbformat": 4,
 "nbformat_minor": 4
}
