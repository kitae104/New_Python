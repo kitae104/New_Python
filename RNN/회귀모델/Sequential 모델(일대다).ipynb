{
 "cells": [
  {
   "cell_type": "markdown",
   "metadata": {},
   "source": [
    "# Sequential 모델(일대다)\n",
    "* 자주 사용하는 모델은 아님\n",
    "* 1개를 입력으로 사용하고, 2개 이상의 컬럼이 출력되는 모델 "
   ]
  },
  {
   "cell_type": "markdown",
   "metadata": {},
   "source": [
    "## 1. 데이터"
   ]
  },
  {
   "cell_type": "code",
   "execution_count": 1,
   "metadata": {},
   "outputs": [],
   "source": [
    "import numpy as np"
   ]
  },
  {
   "cell_type": "code",
   "execution_count": 2,
   "metadata": {},
   "outputs": [
    {
     "name": "stdout",
     "output_type": "stream",
     "text": [
      "x_train.shape :  (7,)\n",
      "y_train.shape :  (2, 7)\n",
      "x_test.shape :  (3,)\n",
      "y_test.shape :  (2, 3)\n",
      "x_predict.shape :  (3,)\n"
     ]
    }
   ],
   "source": [
    "x_train = np.array([1,2,3,4,5,6,7,])\n",
    "y_train = np.array([[1,2,3,4,5,6,7,], [11,12,13,14,15,16,17]])\n",
    "x_test = np.array([8,9,10])\n",
    "y_test = np.array([[8,9,10], [18,19,20]])\n",
    "x_predict = np.array([11,12,13])\n",
    "print('x_train.shape : ', x_train.shape)\n",
    "print('y_train.shape : ', y_train.shape)\n",
    "print('x_test.shape : ' , x_test.shape)\n",
    "print('y_test.shape : ' , y_test.shape)\n",
    "print('x_predict.shape : ', x_predict.shape )"
   ]
  },
  {
   "cell_type": "code",
   "execution_count": 3,
   "metadata": {},
   "outputs": [
    {
     "name": "stdout",
     "output_type": "stream",
     "text": [
      "x_train.shape :  (7,)\n",
      "y_train.shape :  (7, 2)\n",
      "x_test.shape :  (3,)\n",
      "y_test.shape :  (3, 2)\n",
      "x_predict.shape :  (3,)\n"
     ]
    }
   ],
   "source": [
    "y_train = np.transpose(y_train)\n",
    "y_test = np.transpose(y_test)\n",
    "print('x_train.shape : ', x_train.shape)\n",
    "print('y_train.shape : ', y_train.shape)\n",
    "print('x_test.shape : ' , x_test.shape)\n",
    "print('y_test.shape : ' , y_test.shape)\n",
    "print('x_predict.shape : ', x_predict.shape )"
   ]
  },
  {
   "cell_type": "markdown",
   "metadata": {},
   "source": [
    "## 2. 모델 구성"
   ]
  },
  {
   "cell_type": "code",
   "execution_count": 4,
   "metadata": {},
   "outputs": [],
   "source": [
    "from tensorflow.keras.models import Sequential\n",
    "from tensorflow.keras.layers import Dense"
   ]
  },
  {
   "cell_type": "code",
   "execution_count": 5,
   "metadata": {},
   "outputs": [
    {
     "name": "stdout",
     "output_type": "stream",
     "text": [
      "Model: \"sequential\"\n",
      "_________________________________________________________________\n",
      "Layer (type)                 Output Shape              Param #   \n",
      "=================================================================\n",
      "dense (Dense)                (None, 100)               200       \n",
      "_________________________________________________________________\n",
      "dense_1 (Dense)              (None, 30)                3030      \n",
      "_________________________________________________________________\n",
      "dense_2 (Dense)              (None, 5)                 155       \n",
      "_________________________________________________________________\n",
      "dense_3 (Dense)              (None, 2)                 12        \n",
      "=================================================================\n",
      "Total params: 3,397\n",
      "Trainable params: 3,397\n",
      "Non-trainable params: 0\n",
      "_________________________________________________________________\n"
     ]
    }
   ],
   "source": [
    "model = Sequential()\n",
    "model.add(Dense(100, input_dim = 1, activation ='relu'))\n",
    "model.add(Dense(30))\n",
    "model.add(Dense(5))\n",
    "model.add(Dense(2))\n",
    "model.summary()"
   ]
  },
  {
   "cell_type": "markdown",
   "metadata": {},
   "source": [
    "## 3. 훈련"
   ]
  },
  {
   "cell_type": "code",
   "execution_count": 6,
   "metadata": {},
   "outputs": [
    {
     "name": "stdout",
     "output_type": "stream",
     "text": [
      "Train on 7 samples\n",
      "Epoch 1/100\n",
      "7/7 [==============================] - 0s 57ms/sample - loss: 107.1185 - mse: 107.1185\n",
      "Epoch 2/100\n",
      "7/7 [==============================] - 0s 1ms/sample - loss: 84.0570 - mse: 84.0570\n",
      "Epoch 3/100\n",
      "7/7 [==============================] - 0s 1ms/sample - loss: 65.7724 - mse: 65.7724\n",
      "Epoch 4/100\n",
      "7/7 [==============================] - 0s 1ms/sample - loss: 47.0611 - mse: 47.0611\n",
      "Epoch 5/100\n",
      "7/7 [==============================] - 0s 997us/sample - loss: 32.3859 - mse: 32.3859\n",
      "Epoch 6/100\n",
      "7/7 [==============================] - 0s 1ms/sample - loss: 19.7685 - mse: 19.7685\n",
      "Epoch 7/100\n",
      "7/7 [==============================] - 0s 1ms/sample - loss: 11.8938 - mse: 11.8938\n",
      "Epoch 8/100\n",
      "7/7 [==============================] - 0s 1ms/sample - loss: 9.8426 - mse: 9.8426\n",
      "Epoch 9/100\n",
      "7/7 [==============================] - 0s 1ms/sample - loss: 8.8086 - mse: 8.8086\n",
      "Epoch 10/100\n",
      "7/7 [==============================] - 0s 1ms/sample - loss: 7.9809 - mse: 7.9809\n",
      "Epoch 11/100\n",
      "7/7 [==============================] - 0s 1ms/sample - loss: 7.4105 - mse: 7.4105\n",
      "Epoch 12/100\n",
      "7/7 [==============================] - 0s 1ms/sample - loss: 7.2542 - mse: 7.2542\n",
      "Epoch 13/100\n",
      "7/7 [==============================] - 0s 1ms/sample - loss: 6.9839 - mse: 6.9839\n",
      "Epoch 14/100\n",
      "7/7 [==============================] - 0s 1ms/sample - loss: 6.9685 - mse: 6.9685\n",
      "Epoch 15/100\n",
      "7/7 [==============================] - 0s 1ms/sample - loss: 6.8260 - mse: 6.8260\n",
      "Epoch 16/100\n",
      "7/7 [==============================] - 0s 1ms/sample - loss: 6.6695 - mse: 6.6695\n",
      "Epoch 17/100\n",
      "7/7 [==============================] - 0s 1ms/sample - loss: 6.6679 - mse: 6.6679\n",
      "Epoch 18/100\n",
      "7/7 [==============================] - 0s 1ms/sample - loss: 6.6366 - mse: 6.6366\n",
      "Epoch 19/100\n",
      "7/7 [==============================] - 0s 1ms/sample - loss: 6.4079 - mse: 6.4079\n",
      "Epoch 20/100\n",
      "7/7 [==============================] - 0s 1ms/sample - loss: 6.3892 - mse: 6.3892\n",
      "Epoch 21/100\n",
      "7/7 [==============================] - 0s 1ms/sample - loss: 6.1595 - mse: 6.1595\n",
      "Epoch 22/100\n",
      "7/7 [==============================] - 0s 1ms/sample - loss: 6.0911 - mse: 6.0911\n",
      "Epoch 23/100\n",
      "7/7 [==============================] - 0s 1ms/sample - loss: 5.9409 - mse: 5.9409\n",
      "Epoch 24/100\n",
      "7/7 [==============================] - 0s 1ms/sample - loss: 5.8340 - mse: 5.8340\n",
      "Epoch 25/100\n",
      "7/7 [==============================] - 0s 1ms/sample - loss: 5.8433 - mse: 5.8433\n",
      "Epoch 26/100\n",
      "7/7 [==============================] - 0s 1ms/sample - loss: 5.6648 - mse: 5.6648\n",
      "Epoch 27/100\n",
      "7/7 [==============================] - 0s 1ms/sample - loss: 5.5133 - mse: 5.5133\n",
      "Epoch 28/100\n",
      "7/7 [==============================] - 0s 1ms/sample - loss: 5.7558 - mse: 5.7558\n",
      "Epoch 29/100\n",
      "7/7 [==============================] - 0s 1ms/sample - loss: 5.4102 - mse: 5.4102\n",
      "Epoch 30/100\n",
      "7/7 [==============================] - 0s 1ms/sample - loss: 5.2080 - mse: 5.2080\n",
      "Epoch 31/100\n",
      "7/7 [==============================] - 0s 1ms/sample - loss: 5.1844 - mse: 5.1844\n",
      "Epoch 32/100\n",
      "7/7 [==============================] - 0s 1ms/sample - loss: 5.0035 - mse: 5.0036\n",
      "Epoch 33/100\n",
      "7/7 [==============================] - 0s 1ms/sample - loss: 4.9678 - mse: 4.9678\n",
      "Epoch 34/100\n",
      "7/7 [==============================] - 0s 1ms/sample - loss: 4.8809 - mse: 4.8809\n",
      "Epoch 35/100\n",
      "7/7 [==============================] - 0s 1ms/sample - loss: 4.7234 - mse: 4.7234\n",
      "Epoch 36/100\n",
      "7/7 [==============================] - 0s 1ms/sample - loss: 4.6133 - mse: 4.6133\n",
      "Epoch 37/100\n",
      "7/7 [==============================] - 0s 1ms/sample - loss: 4.5611 - mse: 4.5611\n",
      "Epoch 38/100\n",
      "7/7 [==============================] - 0s 1ms/sample - loss: 4.4833 - mse: 4.4833\n",
      "Epoch 39/100\n",
      "7/7 [==============================] - 0s 1ms/sample - loss: 4.3518 - mse: 4.3518\n",
      "Epoch 40/100\n",
      "7/7 [==============================] - 0s 1ms/sample - loss: 4.4159 - mse: 4.4159\n",
      "Epoch 41/100\n",
      "7/7 [==============================] - 0s 1ms/sample - loss: 4.4228 - mse: 4.4228\n",
      "Epoch 42/100\n",
      "7/7 [==============================] - 0s 1ms/sample - loss: 4.0908 - mse: 4.0908\n",
      "Epoch 43/100\n",
      "7/7 [==============================] - 0s 1ms/sample - loss: 4.0700 - mse: 4.0700\n",
      "Epoch 44/100\n",
      "7/7 [==============================] - 0s 1ms/sample - loss: 3.9513 - mse: 3.9513\n",
      "Epoch 45/100\n",
      "7/7 [==============================] - 0s 1ms/sample - loss: 3.7973 - mse: 3.7973\n",
      "Epoch 46/100\n",
      "7/7 [==============================] - 0s 1ms/sample - loss: 3.6567 - mse: 3.6567\n",
      "Epoch 47/100\n",
      "7/7 [==============================] - 0s 1ms/sample - loss: 3.5540 - mse: 3.5540\n",
      "Epoch 48/100\n",
      "7/7 [==============================] - 0s 1ms/sample - loss: 3.3940 - mse: 3.3940\n",
      "Epoch 49/100\n",
      "7/7 [==============================] - 0s 1ms/sample - loss: 3.3240 - mse: 3.3240\n",
      "Epoch 50/100\n",
      "7/7 [==============================] - 0s 1ms/sample - loss: 3.2522 - mse: 3.2522\n",
      "Epoch 51/100\n",
      "7/7 [==============================] - 0s 1ms/sample - loss: 3.1790 - mse: 3.1790\n",
      "Epoch 52/100\n",
      "7/7 [==============================] - 0s 1ms/sample - loss: 3.0649 - mse: 3.0649\n",
      "Epoch 53/100\n",
      "7/7 [==============================] - 0s 1ms/sample - loss: 2.9557 - mse: 2.9557\n",
      "Epoch 54/100\n",
      "7/7 [==============================] - 0s 1ms/sample - loss: 2.8723 - mse: 2.8723\n",
      "Epoch 55/100\n",
      "7/7 [==============================] - 0s 1ms/sample - loss: 2.7773 - mse: 2.7773\n",
      "Epoch 56/100\n",
      "7/7 [==============================] - 0s 1ms/sample - loss: 2.8489 - mse: 2.8489\n",
      "Epoch 57/100\n",
      "7/7 [==============================] - 0s 1ms/sample - loss: 2.5884 - mse: 2.5884\n",
      "Epoch 58/100\n",
      "7/7 [==============================] - 0s 1ms/sample - loss: 2.4498 - mse: 2.4498\n",
      "Epoch 59/100\n",
      "7/7 [==============================] - 0s 1ms/sample - loss: 2.4027 - mse: 2.4027\n",
      "Epoch 60/100\n",
      "7/7 [==============================] - 0s 1ms/sample - loss: 2.3725 - mse: 2.3725\n",
      "Epoch 61/100\n",
      "7/7 [==============================] - 0s 1ms/sample - loss: 2.2567 - mse: 2.2567\n",
      "Epoch 62/100\n",
      "7/7 [==============================] - 0s 1ms/sample - loss: 2.3656 - mse: 2.3656\n",
      "Epoch 63/100\n",
      "7/7 [==============================] - 0s 1ms/sample - loss: 2.1087 - mse: 2.1087\n",
      "Epoch 64/100\n",
      "7/7 [==============================] - 0s 1ms/sample - loss: 1.9315 - mse: 1.9315\n",
      "Epoch 65/100\n",
      "7/7 [==============================] - 0s 1ms/sample - loss: 1.8620 - mse: 1.8620\n",
      "Epoch 66/100\n",
      "7/7 [==============================] - 0s 1ms/sample - loss: 1.7880 - mse: 1.7880\n",
      "Epoch 67/100\n",
      "7/7 [==============================] - 0s 1ms/sample - loss: 1.6549 - mse: 1.6549\n",
      "Epoch 68/100\n",
      "7/7 [==============================] - 0s 1ms/sample - loss: 1.5882 - mse: 1.5882\n",
      "Epoch 69/100\n",
      "7/7 [==============================] - 0s 1ms/sample - loss: 1.5171 - mse: 1.5171\n",
      "Epoch 70/100\n",
      "7/7 [==============================] - 0s 1ms/sample - loss: 1.4354 - mse: 1.4354\n",
      "Epoch 71/100\n",
      "7/7 [==============================] - 0s 1ms/sample - loss: 1.3480 - mse: 1.3480\n",
      "Epoch 72/100\n",
      "7/7 [==============================] - 0s 1ms/sample - loss: 1.2940 - mse: 1.2940\n",
      "Epoch 73/100\n",
      "7/7 [==============================] - 0s 1ms/sample - loss: 1.2327 - mse: 1.2327\n",
      "Epoch 74/100\n",
      "7/7 [==============================] - 0s 1ms/sample - loss: 1.1436 - mse: 1.1436\n",
      "Epoch 75/100\n",
      "7/7 [==============================] - 0s 1ms/sample - loss: 1.0911 - mse: 1.0911\n",
      "Epoch 76/100\n",
      "7/7 [==============================] - 0s 1ms/sample - loss: 1.0229 - mse: 1.0229\n",
      "Epoch 77/100\n",
      "7/7 [==============================] - 0s 1ms/sample - loss: 0.9500 - mse: 0.9500\n",
      "Epoch 78/100\n",
      "7/7 [==============================] - 0s 1ms/sample - loss: 0.8741 - mse: 0.8741\n",
      "Epoch 79/100\n",
      "7/7 [==============================] - 0s 1ms/sample - loss: 0.8137 - mse: 0.8137\n",
      "Epoch 80/100\n",
      "7/7 [==============================] - 0s 1ms/sample - loss: 0.7589 - mse: 0.7589\n",
      "Epoch 81/100\n",
      "7/7 [==============================] - 0s 1ms/sample - loss: 0.7188 - mse: 0.7188\n",
      "Epoch 82/100\n",
      "7/7 [==============================] - 0s 1ms/sample - loss: 0.7265 - mse: 0.7265\n",
      "Epoch 83/100\n",
      "7/7 [==============================] - 0s 1ms/sample - loss: 0.5783 - mse: 0.5783\n",
      "Epoch 84/100\n",
      "7/7 [==============================] - 0s 1ms/sample - loss: 0.5454 - mse: 0.5454\n",
      "Epoch 85/100\n",
      "7/7 [==============================] - 0s 1ms/sample - loss: 0.5186 - mse: 0.5186\n",
      "Epoch 86/100\n",
      "7/7 [==============================] - 0s 1ms/sample - loss: 0.5152 - mse: 0.5152\n"
     ]
    },
    {
     "name": "stdout",
     "output_type": "stream",
     "text": [
      "Epoch 87/100\n",
      "7/7 [==============================] - 0s 1ms/sample - loss: 0.4922 - mse: 0.4922\n",
      "Epoch 88/100\n",
      "7/7 [==============================] - 0s 1ms/sample - loss: 0.4069 - mse: 0.4069\n",
      "Epoch 89/100\n",
      "7/7 [==============================] - 0s 1ms/sample - loss: 0.3667 - mse: 0.3667\n",
      "Epoch 90/100\n",
      "7/7 [==============================] - 0s 1ms/sample - loss: 0.3467 - mse: 0.3467\n",
      "Epoch 91/100\n",
      "7/7 [==============================] - 0s 1ms/sample - loss: 0.3276 - mse: 0.3276\n",
      "Epoch 92/100\n",
      "7/7 [==============================] - 0s 1ms/sample - loss: 0.2868 - mse: 0.2868\n",
      "Epoch 93/100\n",
      "7/7 [==============================] - 0s 1ms/sample - loss: 0.2697 - mse: 0.2697\n",
      "Epoch 94/100\n",
      "7/7 [==============================] - 0s 1ms/sample - loss: 0.2459 - mse: 0.2459\n",
      "Epoch 95/100\n",
      "7/7 [==============================] - 0s 1ms/sample - loss: 0.2083 - mse: 0.2083\n",
      "Epoch 96/100\n",
      "7/7 [==============================] - 0s 1ms/sample - loss: 0.2163 - mse: 0.2163\n",
      "Epoch 97/100\n",
      "7/7 [==============================] - 0s 1ms/sample - loss: 0.1794 - mse: 0.1794\n",
      "Epoch 98/100\n",
      "7/7 [==============================] - 0s 1ms/sample - loss: 0.1680 - mse: 0.1680\n",
      "Epoch 99/100\n",
      "7/7 [==============================] - 0s 1ms/sample - loss: 0.1504 - mse: 0.1504\n",
      "Epoch 100/100\n",
      "7/7 [==============================] - 0s 1ms/sample - loss: 0.1248 - mse: 0.1248\n"
     ]
    }
   ],
   "source": [
    "model.compile(loss='mse', optimizer='adam', metrics=['mse'])\n",
    "hist = model.fit(x_train, y_train, epochs=100, batch_size=1)"
   ]
  },
  {
   "cell_type": "markdown",
   "metadata": {},
   "source": [
    "## 4. 학습 과정 살펴보기 "
   ]
  },
  {
   "cell_type": "code",
   "execution_count": 7,
   "metadata": {},
   "outputs": [
    {
     "data": {
      "text/plain": [
       "<matplotlib.legend.Legend at 0x2a8919cb9c8>"
      ]
     },
     "execution_count": 7,
     "metadata": {},
     "output_type": "execute_result"
    },
    {
     "data": {
      "image/png": "[encoded data removed]",
      "text/plain": [
       "<Figure size 432x288 with 1 Axes>"
      ]
     },
     "metadata": {
      "needs_background": "light"
     },
     "output_type": "display_data"
    }
   ],
   "source": [
    "import matplotlib.pyplot as plt\n",
    "\n",
    "plt.plot(hist.history['loss'])\n",
    "plt.plot(hist.history['mse'])\n",
    "plt.ylabel('loss')\n",
    "plt.xlabel('epoch')\n",
    "plt.legend(['loss', 'mse'], loc='upper right')"
   ]
  },
  {
   "cell_type": "markdown",
   "metadata": {},
   "source": [
    "## 5. 평가 예측"
   ]
  },
  {
   "cell_type": "code",
   "execution_count": 8,
   "metadata": {},
   "outputs": [
    {
     "name": "stdout",
     "output_type": "stream",
     "text": [
      "3/3 [==============================] - 0s 13ms/sample - loss: 0.4946 - mse: 0.4946\n",
      "mse :  0.49464497\n",
      "데이터 : [11 12 13] 예측값 : \n",
      " [[ 9.823691 21.817692]\n",
      " [10.639908 22.951633]\n",
      " [11.456122 24.085573]]\n"
     ]
    }
   ],
   "source": [
    "loss, mse = model.evaluate(x_test, y_test, batch_size=1)\n",
    "print(\"mse : \", mse)\n",
    "y_predict = model.predict(x_predict)\n",
    "print(\"데이터 :\",x_predict ,\"예측값 : \\n\", y_predict)"
   ]
  },
  {
   "cell_type": "code",
   "execution_count": null,
   "metadata": {},
   "outputs": [],
   "source": []
  }
 ],
 "metadata": {
  "kernelspec": {
   "display_name": "Python 3",
   "language": "python",
   "name": "python3"
  },
  "language_info": {
   "codemirror_mode": {
    "name": "ipython",
    "version": 3
   },
   "file_extension": ".py",
   "mimetype": "text/x-python",
   "name": "python",
   "nbconvert_exporter": "python",
   "pygments_lexer": "ipython3",
   "version": "3.7.6"
  }
 },
 "nbformat": 4,
 "nbformat_minor": 4
}
