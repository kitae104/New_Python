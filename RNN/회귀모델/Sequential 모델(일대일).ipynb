{
 "cells": [
  {
   "cell_type": "markdown",
   "metadata": {},
   "source": [
    "# Sequential 모델(일대일)"
   ]
  },
  {
   "cell_type": "markdown",
   "metadata": {},
   "source": [
    "## 1. 데이터"
   ]
  },
  {
   "cell_type": "code",
   "execution_count": 1,
   "metadata": {},
   "outputs": [],
   "source": [
    "import numpy as np"
   ]
  },
  {
   "cell_type": "code",
   "execution_count": 2,
   "metadata": {},
   "outputs": [],
   "source": [
    "x_train = np.array([1,2,3,4,5,6,7,])\n",
    "y_train = np.array([1,2,3,4,5,6,7,])\n",
    "x_test = np.array([8,9,10])\n",
    "y_test = np.array([8,9,10])\n",
    "x_predict = np.array([11,12,13])"
   ]
  },
  {
   "cell_type": "markdown",
   "metadata": {},
   "source": [
    "## 2. 모델 구성"
   ]
  },
  {
   "cell_type": "code",
   "execution_count": 3,
   "metadata": {},
   "outputs": [],
   "source": [
    "from tensorflow.keras.models import Sequential\n",
    "from tensorflow.keras.layers import Dense"
   ]
  },
  {
   "cell_type": "code",
   "execution_count": 4,
   "metadata": {},
   "outputs": [],
   "source": [
    "model = Sequential()\n",
    "model.add(Dense(100, input_dim = 1, activation ='relu'))\n",
    "model.add(Dense(30))\n",
    "model.add(Dense(5))\n",
    "model.add(Dense(1))"
   ]
  },
  {
   "cell_type": "markdown",
   "metadata": {},
   "source": [
    "## 3. 훈련"
   ]
  },
  {
   "cell_type": "code",
   "execution_count": 5,
   "metadata": {},
   "outputs": [
    {
     "name": "stdout",
     "output_type": "stream",
     "text": [
      "Train on 7 samples\n",
      "Epoch 1/100\n",
      "7/7 [==============================] - 0s 56ms/sample - loss: 6.2324 - mse: 6.2324\n",
      "Epoch 2/100\n",
      "7/7 [==============================] - 0s 1ms/sample - loss: 0.7797 - mse: 0.7797\n",
      "Epoch 3/100\n",
      "7/7 [==============================] - 0s 1ms/sample - loss: 0.3893 - mse: 0.3893\n",
      "Epoch 4/100\n",
      "7/7 [==============================] - 0s 1ms/sample - loss: 0.4824 - mse: 0.4824\n",
      "Epoch 5/100\n",
      "7/7 [==============================] - 0s 1ms/sample - loss: 0.0529 - mse: 0.0529\n",
      "Epoch 6/100\n",
      "7/7 [==============================] - 0s 1ms/sample - loss: 0.0489 - mse: 0.0489\n",
      "Epoch 7/100\n",
      "7/7 [==============================] - 0s 1ms/sample - loss: 0.0597 - mse: 0.0597\n",
      "Epoch 8/100\n",
      "7/7 [==============================] - 0s 1ms/sample - loss: 0.0098 - mse: 0.0098\n",
      "Epoch 9/100\n",
      "7/7 [==============================] - 0s 1ms/sample - loss: 0.0117 - mse: 0.0117\n",
      "Epoch 10/100\n",
      "7/7 [==============================] - 0s 1ms/sample - loss: 0.0119 - mse: 0.0119\n",
      "Epoch 11/100\n",
      "7/7 [==============================] - 0s 1ms/sample - loss: 0.0077 - mse: 0.0077\n",
      "Epoch 12/100\n",
      "7/7 [==============================] - 0s 1ms/sample - loss: 0.0070 - mse: 0.0070\n",
      "Epoch 13/100\n",
      "7/7 [==============================] - 0s 1ms/sample - loss: 0.0056 - mse: 0.0056\n",
      "Epoch 14/100\n",
      "7/7 [==============================] - 0s 1ms/sample - loss: 0.0047 - mse: 0.0047\n",
      "Epoch 15/100\n",
      "7/7 [==============================] - 0s 1ms/sample - loss: 0.0042 - mse: 0.0042\n",
      "Epoch 16/100\n",
      "7/7 [==============================] - 0s 1ms/sample - loss: 0.0037 - mse: 0.0037\n",
      "Epoch 17/100\n",
      "7/7 [==============================] - 0s 1ms/sample - loss: 0.0037 - mse: 0.0037  \n",
      "Epoch 18/100\n",
      "7/7 [==============================] - 0s 1ms/sample - loss: 0.0033 - mse: 0.0033\n",
      "Epoch 19/100\n",
      "7/7 [==============================] - 0s 1ms/sample - loss: 0.0029 - mse: 0.0029  \n",
      "Epoch 20/100\n",
      "7/7 [==============================] - 0s 1ms/sample - loss: 0.0026 - mse: 0.0026\n",
      "Epoch 21/100\n",
      "7/7 [==============================] - 0s 1ms/sample - loss: 0.0022 - mse: 0.0022\n",
      "Epoch 22/100\n",
      "7/7 [==============================] - 0s 1ms/sample - loss: 0.0022 - mse: 0.0022\n",
      "Epoch 23/100\n",
      "7/7 [==============================] - 0s 1ms/sample - loss: 0.0021 - mse: 0.0021  \n",
      "Epoch 24/100\n",
      "7/7 [==============================] - 0s 1ms/sample - loss: 0.0016 - mse: 0.0016  \n",
      "Epoch 25/100\n",
      "7/7 [==============================] - 0s 1ms/sample - loss: 0.0014 - mse: 0.0014\n",
      "Epoch 26/100\n",
      "7/7 [==============================] - 0s 1ms/sample - loss: 0.0012 - mse: 0.0012  \n",
      "Epoch 27/100\n",
      "7/7 [==============================] - 0s 1ms/sample - loss: 0.0011 - mse: 0.0011  \n",
      "Epoch 28/100\n",
      "7/7 [==============================] - 0s 1ms/sample - loss: 9.4029e-04 - mse: 9.4029e-04\n",
      "Epoch 29/100\n",
      "7/7 [==============================] - 0s 1ms/sample - loss: 7.9099e-04 - mse: 7.9099e-04\n",
      "Epoch 30/100\n",
      "7/7 [==============================] - 0s 1ms/sample - loss: 6.6716e-04 - mse: 6.6716e-04\n",
      "Epoch 31/100\n",
      "7/7 [==============================] - 0s 1ms/sample - loss: 6.0689e-04 - mse: 6.0689e-04\n",
      "Epoch 32/100\n",
      "7/7 [==============================] - 0s 1ms/sample - loss: 4.9033e-04 - mse: 4.9033e-04\n",
      "Epoch 33/100\n",
      "7/7 [==============================] - 0s 1ms/sample - loss: 4.5448e-04 - mse: 4.5448e-04\n",
      "Epoch 34/100\n",
      "7/7 [==============================] - 0s 1ms/sample - loss: 3.8105e-04 - mse: 3.8105e-04\n",
      "Epoch 35/100\n",
      "7/7 [==============================] - 0s 1ms/sample - loss: 3.1468e-04 - mse: 3.1468e-04\n",
      "Epoch 36/100\n",
      "7/7 [==============================] - 0s 1ms/sample - loss: 2.6453e-04 - mse: 2.6453e-04\n",
      "Epoch 37/100\n",
      "7/7 [==============================] - 0s 1ms/sample - loss: 2.5748e-04 - mse: 2.5748e-04\n",
      "Epoch 38/100\n",
      "7/7 [==============================] - 0s 1ms/sample - loss: 2.0852e-04 - mse: 2.0852e-04\n",
      "Epoch 39/100\n",
      "7/7 [==============================] - 0s 1ms/sample - loss: 1.6715e-04 - mse: 1.6715e-04\n",
      "Epoch 40/100\n",
      "7/7 [==============================] - 0s 1ms/sample - loss: 1.3587e-04 - mse: 1.3587e-04\n",
      "Epoch 41/100\n",
      "7/7 [==============================] - 0s 1ms/sample - loss: 1.2503e-04 - mse: 1.2503e-04\n",
      "Epoch 42/100\n",
      "7/7 [==============================] - 0s 1ms/sample - loss: 8.7435e-05 - mse: 8.7435e-05\n",
      "Epoch 43/100\n",
      "7/7 [==============================] - 0s 1ms/sample - loss: 7.9349e-05 - mse: 7.9349e-05\n",
      "Epoch 44/100\n",
      "7/7 [==============================] - 0s 997us/sample - loss: 8.0721e-05 - mse: 8.0721e-05\n",
      "Epoch 45/100\n",
      "7/7 [==============================] - 0s 1ms/sample - loss: 5.2322e-05 - mse: 5.2322e-05\n",
      "Epoch 46/100\n",
      "7/7 [==============================] - 0s 1ms/sample - loss: 4.1839e-05 - mse: 4.1839e-05\n",
      "Epoch 47/100\n",
      "7/7 [==============================] - 0s 1ms/sample - loss: 3.3861e-05 - mse: 3.3861e-05\n",
      "Epoch 48/100\n",
      "7/7 [==============================] - 0s 1ms/sample - loss: 3.1026e-05 - mse: 3.1026e-05\n",
      "Epoch 49/100\n",
      "7/7 [==============================] - 0s 1ms/sample - loss: 2.6097e-05 - mse: 2.6097e-05\n",
      "Epoch 50/100\n",
      "7/7 [==============================] - 0s 1ms/sample - loss: 2.1226e-05 - mse: 2.1226e-05\n",
      "Epoch 51/100\n",
      "7/7 [==============================] - 0s 1ms/sample - loss: 1.7711e-05 - mse: 1.7711e-05\n",
      "Epoch 52/100\n",
      "7/7 [==============================] - 0s 1ms/sample - loss: 1.0672e-05 - mse: 1.0672e-05\n",
      "Epoch 53/100\n",
      "7/7 [==============================] - 0s 1ms/sample - loss: 1.3851e-05 - mse: 1.3851e-05\n",
      "Epoch 54/100\n",
      "7/7 [==============================] - 0s 1ms/sample - loss: 6.4303e-06 - mse: 6.4303e-06\n",
      "Epoch 55/100\n",
      "7/7 [==============================] - 0s 1ms/sample - loss: 6.2609e-06 - mse: 6.2609e-06\n",
      "Epoch 56/100\n",
      "7/7 [==============================] - 0s 1ms/sample - loss: 5.2666e-06 - mse: 5.2666e-06\n",
      "Epoch 57/100\n",
      "7/7 [==============================] - 0s 1ms/sample - loss: 3.2661e-06 - mse: 3.2661e-06\n",
      "Epoch 58/100\n",
      "7/7 [==============================] - 0s 1ms/sample - loss: 2.6790e-06 - mse: 2.6790e-06\n",
      "Epoch 59/100\n",
      "7/7 [==============================] - 0s 1ms/sample - loss: 2.2642e-06 - mse: 2.2642e-06\n",
      "Epoch 60/100\n",
      "7/7 [==============================] - 0s 1ms/sample - loss: 1.6442e-06 - mse: 1.6442e-06\n",
      "Epoch 61/100\n",
      "7/7 [==============================] - 0s 1ms/sample - loss: 1.4779e-06 - mse: 1.4779e-06\n",
      "Epoch 62/100\n",
      "7/7 [==============================] - 0s 1ms/sample - loss: 1.3238e-06 - mse: 1.3238e-06\n",
      "Epoch 63/100\n",
      "7/7 [==============================] - 0s 1ms/sample - loss: 8.4180e-07 - mse: 8.4180e-07\n",
      "Epoch 64/100\n",
      "7/7 [==============================] - 0s 1ms/sample - loss: 6.6724e-07 - mse: 6.6724e-07\n",
      "Epoch 65/100\n",
      "7/7 [==============================] - 0s 1ms/sample - loss: 5.3626e-07 - mse: 5.3626e-07\n",
      "Epoch 66/100\n",
      "7/7 [==============================] - 0s 1ms/sample - loss: 3.9412e-07 - mse: 3.9412e-07\n",
      "Epoch 67/100\n",
      "7/7 [==============================] - 0s 1ms/sample - loss: 3.1643e-07 - mse: 3.1643e-07\n",
      "Epoch 68/100\n",
      "7/7 [==============================] - 0s 1ms/sample - loss: 2.4809e-07 - mse: 2.4809e-07\n",
      "Epoch 69/100\n",
      "7/7 [==============================] - 0s 1ms/sample - loss: 2.4561e-07 - mse: 2.4561e-07\n",
      "Epoch 70/100\n",
      "7/7 [==============================] - 0s 1ms/sample - loss: 1.7368e-07 - mse: 1.7368e-07\n",
      "Epoch 71/100\n",
      "7/7 [==============================] - 0s 1ms/sample - loss: 1.5220e-07 - mse: 1.5220e-07\n",
      "Epoch 72/100\n",
      "7/7 [==============================] - 0s 1ms/sample - loss: 8.7675e-08 - mse: 8.7675e-08\n",
      "Epoch 73/100\n",
      "7/7 [==============================] - 0s 1ms/sample - loss: 3.6762e-08 - mse: 3.6762e-08\n",
      "Epoch 74/100\n",
      "7/7 [==============================] - 0s 1ms/sample - loss: 3.4720e-08 - mse: 3.4720e-08\n",
      "Epoch 75/100\n",
      "7/7 [==============================] - 0s 1ms/sample - loss: 4.1324e-08 - mse: 4.1324e-08\n",
      "Epoch 76/100\n",
      "7/7 [==============================] - 0s 1ms/sample - loss: 1.6488e-08 - mse: 1.6488e-08\n",
      "Epoch 77/100\n",
      "7/7 [==============================] - 0s 1ms/sample - loss: 1.3808e-08 - mse: 1.3808e-08\n",
      "Epoch 78/100\n",
      "7/7 [==============================] - 0s 1ms/sample - loss: 1.9230e-08 - mse: 1.9230e-08\n",
      "Epoch 79/100\n",
      "7/7 [==============================] - 0s 1ms/sample - loss: 1.2101e-08 - mse: 1.2101e-08\n",
      "Epoch 80/100\n",
      "7/7 [==============================] - 0s 1ms/sample - loss: 8.5841e-09 - mse: 8.5841e-09\n",
      "Epoch 81/100\n",
      "7/7 [==============================] - 0s 1ms/sample - loss: 4.5253e-09 - mse: 4.5253e-09\n",
      "Epoch 82/100\n"
     ]
    },
    {
     "name": "stdout",
     "output_type": "stream",
     "text": [
      "7/7 [==============================] - 0s 1ms/sample - loss: 2.8139e-09 - mse: 2.8139e-09\n",
      "Epoch 83/100\n",
      "7/7 [==============================] - 0s 1ms/sample - loss: 1.8614e-09 - mse: 1.8614e-09\n",
      "Epoch 84/100\n",
      "7/7 [==============================] - 0s 1ms/sample - loss: 1.7190e-09 - mse: 1.7190e-09\n",
      "Epoch 85/100\n",
      "7/7 [==============================] - 0s 1ms/sample - loss: 1.1854e-09 - mse: 1.1854e-09\n",
      "Epoch 86/100\n",
      "7/7 [==============================] - 0s 1ms/sample - loss: 8.4107e-10 - mse: 8.4107e-10\n",
      "Epoch 87/100\n",
      "7/7 [==============================] - 0s 1ms/sample - loss: 8.6841e-10 - mse: 8.6841e-10\n",
      "Epoch 88/100\n",
      "7/7 [==============================] - 0s 1ms/sample - loss: 5.6523e-10 - mse: 5.6523e-10\n",
      "Epoch 89/100\n",
      "7/7 [==============================] - 0s 1ms/sample - loss: 4.9118e-10 - mse: 4.9118e-10\n",
      "Epoch 90/100\n",
      "7/7 [==============================] - 0s 1ms/sample - loss: 1.2504e-10 - mse: 1.2504e-10\n",
      "Epoch 91/100\n",
      "7/7 [==============================] - 0s 1ms/sample - loss: 1.7559e-10 - mse: 1.7559e-10\n",
      "Epoch 92/100\n",
      "7/7 [==============================] - 0s 1ms/sample - loss: 1.0757e-10 - mse: 1.0757e-10\n",
      "Epoch 93/100\n",
      "7/7 [==============================] - 0s 1ms/sample - loss: 6.5337e-11 - mse: 6.5337e-11\n",
      "Epoch 94/100\n",
      "7/7 [==============================] - 0s 1ms/sample - loss: 5.1494e-11 - mse: 5.1494e-11\n",
      "Epoch 95/100\n",
      "7/7 [==============================] - 0s 1ms/sample - loss: 4.2275e-11 - mse: 4.2275e-11\n",
      "Epoch 96/100\n",
      "7/7 [==============================] - 0s 997us/sample - loss: 2.5005e-11 - mse: 2.5005e-11\n",
      "Epoch 97/100\n",
      "7/7 [==============================] - 0s 997us/sample - loss: 2.0732e-11 - mse: 2.0732e-11\n",
      "Epoch 98/100\n",
      "7/7 [==============================] - 0s 1ms/sample - loss: 1.1970e-11 - mse: 1.1970e-11\n",
      "Epoch 99/100\n",
      "7/7 [==============================] - 0s 1ms/sample - loss: 8.4291e-12 - mse: 8.4291e-12\n",
      "Epoch 100/100\n",
      "7/7 [==============================] - 0s 1ms/sample - loss: 6.1716e-12 - mse: 6.1716e-12\n"
     ]
    },
    {
     "data": {
      "text/plain": [
       "<tensorflow.python.keras.callbacks.History at 0x22f34d93d48>"
      ]
     },
     "execution_count": 5,
     "metadata": {},
     "output_type": "execute_result"
    }
   ],
   "source": [
    "model.compile(loss='mse', optimizer='adam', metrics=['mse'])\n",
    "model.fit(x_train, y_train, epochs=100, batch_size=1)"
   ]
  },
  {
   "cell_type": "markdown",
   "metadata": {},
   "source": [
    "## 4. 평가 예측"
   ]
  },
  {
   "cell_type": "code",
   "execution_count": 6,
   "metadata": {},
   "outputs": [
    {
     "name": "stdout",
     "output_type": "stream",
     "text": [
      "3/3 [==============================] - 0s 13ms/sample - loss: 3.9487e-11 - mse: 3.9487e-11\n",
      "mse :  3.948723e-11\n",
      "데이터 : [11 12 13] 예측값 : \n",
      " [[10.999991]\n",
      " [11.99999 ]\n",
      " [12.999989]]\n"
     ]
    }
   ],
   "source": [
    "loss, mse = model.evaluate(x_test, y_test, batch_size=1)\n",
    "print(\"mse : \", mse)\n",
    "y_predict = model.predict(x_predict)\n",
    "print(\"데이터 :\",x_predict ,\"예측값 : \\n\", y_predict)"
   ]
  },
  {
   "cell_type": "code",
   "execution_count": null,
   "metadata": {},
   "outputs": [],
   "source": []
  }
 ],
 "metadata": {
  "kernelspec": {
   "display_name": "Python 3",
   "language": "python",
   "name": "python3"
  },
  "language_info": {
   "codemirror_mode": {
    "name": "ipython",
    "version": 3
   },
   "file_extension": ".py",
   "mimetype": "text/x-python",
   "name": "python",
   "nbconvert_exporter": "python",
   "pygments_lexer": "ipython3",
   "version": "3.7.6"
  }
 },
 "nbformat": 4,
 "nbformat_minor": 4
}
