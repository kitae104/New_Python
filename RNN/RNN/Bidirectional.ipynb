{
 "cells": [
  {
   "cell_type": "markdown",
   "metadata": {},
   "source": [
    "# Bidirectional\n",
    "* RNN으로 진행한 후 역으로 다시 훈련을 시키는 방법\n",
    "* 1개의 데이터셋으로 2번 훈련 시키는 효과를 누림\n",
    "* LSTM의 2배의 파리미터를 잡기 때문에 약 2배 정도 느려짐.\n",
    "* 아직 하리퍼파라미터 튜닝이 충분히 안되고, 훈련수도 적어서 정확한 결과는 아님"
   ]
  },
  {
   "cell_type": "markdown",
   "metadata": {},
   "source": [
    "## 1. 데이터"
   ]
  },
  {
   "cell_type": "code",
   "execution_count": 1,
   "metadata": {},
   "outputs": [],
   "source": [
    "import numpy as np"
   ]
  },
  {
   "cell_type": "markdown",
   "metadata": {},
   "source": [
    "* x_train의 컬럼과 y_train의 벡터의 크기를 맞추기 위해 x_train을 reshape 한다.\n",
    "* __(행, 열, 피쳐)__ == __(샘플수, 타임스탭, 피쳐)__ 같은 용어!\n",
    "    * x_train : (3행, 5열, 1feature) , y_train : (3, )\n",
    "    * x의 행의 수 = y의 벡터 크기 = 1\n",
    "    * x_train의 행의 수 = y_train 의 벡터 크기 = 3\n",
    "    * [1,2,3,4,5] -> [6] 으로 처리되는 모델 훈련 "
   ]
  },
  {
   "cell_type": "code",
   "execution_count": 2,
   "metadata": {},
   "outputs": [
    {
     "name": "stdout",
     "output_type": "stream",
     "text": [
      "x_train.shape :  (3, 5)\n",
      "x_train.shape :  (3, 5, 1)\n",
      "y_train.shape :  (3,)\n"
     ]
    }
   ],
   "source": [
    "x_train = np.array([[1,2,3,4,5], [2,3,4,5,6], [3,4,5,6,7]])\n",
    "print(\"x_train.shape : \", x_train.shape) \n",
    "y_train = np.array([6,7,8])\n",
    "\n",
    "x_train = x_train.reshape(x_train.shape[0], x_train.shape[1], 1)\n",
    "print(\"x_train.shape : \", x_train.shape) \n",
    "print(\"y_train.shape : \", y_train.shape) "
   ]
  },
  {
   "cell_type": "markdown",
   "metadata": {},
   "source": [
    "## 2. 모델 구성"
   ]
  },
  {
   "cell_type": "code",
   "execution_count": 3,
   "metadata": {},
   "outputs": [],
   "source": [
    "from tensorflow.keras.models import Sequential\n",
    "from tensorflow.keras.layers import Dense, LSTM, Bidirectional"
   ]
  },
  {
   "cell_type": "markdown",
   "metadata": {},
   "source": [
    "* 첫 번째 히든 레이어의 파라미터 수가 LSTM에서 252개 였던것에 비해 정확히 2배 증가 \n",
    "* 출력 노드 수 : 처음 출력 노드 수\n",
    "* __input_shape(5,1)__ : 2 차원 \n",
    "    - 5 : x의 컬럼 수\n",
    "    - 1 : 연산을 할 때 몇 개씩 데이터를 묶어 연산하는지(지금의 경우엔 1개씩)\n",
    "* __(5,1) == (None, 5, 1)__ 같은 의미\n",
    "    - None : 행\n",
    "    - 5 : 열\n",
    "    - 1 : 몇 개씩 잘랐는지.. "
   ]
  },
  {
   "cell_type": "code",
   "execution_count": 4,
   "metadata": {},
   "outputs": [
    {
     "name": "stdout",
     "output_type": "stream",
     "text": [
      "Model: \"sequential\"\n",
      "_________________________________________________________________\n",
      "Layer (type)                 Output Shape              Param #   \n",
      "=================================================================\n",
      "bidirectional (Bidirectional (None, 14)                504       \n",
      "_________________________________________________________________\n",
      "dense (Dense)                (None, 4)                 60        \n",
      "_________________________________________________________________\n",
      "dense_1 (Dense)              (None, 1)                 5         \n",
      "=================================================================\n",
      "Total params: 569\n",
      "Trainable params: 569\n",
      "Non-trainable params: 0\n",
      "_________________________________________________________________\n"
     ]
    }
   ],
   "source": [
    "model = Sequential()\n",
    "model.add(Bidirectional(LSTM(7, activation='relu'), input_shape = (5,1)))  # 7은 output node 수\n",
    "model.add(Dense(4))\n",
    "model.add(Dense(1))\n",
    "model.summary()"
   ]
  },
  {
   "cell_type": "markdown",
   "metadata": {},
   "source": [
    "## 3. 훈련"
   ]
  },
  {
   "cell_type": "code",
   "execution_count": 5,
   "metadata": {},
   "outputs": [
    {
     "name": "stdout",
     "output_type": "stream",
     "text": [
      "Train on 3 samples\n",
      "Epoch 1/100\n",
      "3/3 [==============================] - 1s 375ms/sample - loss: 26.6484 - mse: 26.6484\n",
      "Epoch 2/100\n",
      "3/3 [==============================] - 0s 8ms/sample - loss: 25.1472 - mse: 25.1472\n",
      "Epoch 3/100\n",
      "3/3 [==============================] - 0s 8ms/sample - loss: 23.1717 - mse: 23.1717\n",
      "Epoch 4/100\n",
      "3/3 [==============================] - 0s 7ms/sample - loss: 21.5741 - mse: 21.5741\n",
      "Epoch 5/100\n",
      "3/3 [==============================] - 0s 7ms/sample - loss: 19.6106 - mse: 19.6106\n",
      "Epoch 6/100\n",
      "3/3 [==============================] - 0s 7ms/sample - loss: 17.8127 - mse: 17.8127\n",
      "Epoch 7/100\n",
      "3/3 [==============================] - 0s 7ms/sample - loss: 15.9795 - mse: 15.9795\n",
      "Epoch 8/100\n",
      "3/3 [==============================] - 0s 7ms/sample - loss: 14.2687 - mse: 14.2687\n",
      "Epoch 9/100\n",
      "3/3 [==============================] - 0s 7ms/sample - loss: 12.2951 - mse: 12.2951\n",
      "Epoch 10/100\n",
      "3/3 [==============================] - 0s 7ms/sample - loss: 10.4731 - mse: 10.4731\n",
      "Epoch 11/100\n",
      "3/3 [==============================] - 0s 7ms/sample - loss: 8.9241 - mse: 8.9241\n",
      "Epoch 12/100\n",
      "3/3 [==============================] - 0s 7ms/sample - loss: 7.2538 - mse: 7.2538\n",
      "Epoch 13/100\n",
      "3/3 [==============================] - 0s 7ms/sample - loss: 5.7573 - mse: 5.7573\n",
      "Epoch 14/100\n",
      "3/3 [==============================] - 0s 7ms/sample - loss: 4.5107 - mse: 4.5107\n",
      "Epoch 15/100\n",
      "3/3 [==============================] - 0s 7ms/sample - loss: 3.5085 - mse: 3.5085\n",
      "Epoch 16/100\n",
      "3/3 [==============================] - 0s 7ms/sample - loss: 2.6113 - mse: 2.6113\n",
      "Epoch 17/100\n",
      "3/3 [==============================] - 0s 7ms/sample - loss: 2.3554 - mse: 2.3554\n",
      "Epoch 18/100\n",
      "3/3 [==============================] - 0s 7ms/sample - loss: 1.8701 - mse: 1.8701\n",
      "Epoch 19/100\n",
      "3/3 [==============================] - 0s 7ms/sample - loss: 1.8460 - mse: 1.8460\n",
      "Epoch 20/100\n",
      "3/3 [==============================] - 0s 7ms/sample - loss: 1.8947 - mse: 1.8947\n",
      "Epoch 21/100\n",
      "3/3 [==============================] - 0s 7ms/sample - loss: 2.1013 - mse: 2.1013\n",
      "Epoch 22/100\n",
      "3/3 [==============================] - 0s 7ms/sample - loss: 2.0561 - mse: 2.0561\n",
      "Epoch 23/100\n",
      "3/3 [==============================] - 0s 8ms/sample - loss: 2.0275 - mse: 2.0275\n",
      "Epoch 24/100\n",
      "3/3 [==============================] - 0s 7ms/sample - loss: 1.9794 - mse: 1.9794\n",
      "Epoch 25/100\n",
      "3/3 [==============================] - 0s 7ms/sample - loss: 1.8968 - mse: 1.8968\n",
      "Epoch 26/100\n",
      "3/3 [==============================] - 0s 7ms/sample - loss: 1.8436 - mse: 1.8436\n",
      "Epoch 27/100\n",
      "3/3 [==============================] - 0s 7ms/sample - loss: 1.8779 - mse: 1.8779\n",
      "Epoch 28/100\n",
      "3/3 [==============================] - 0s 7ms/sample - loss: 1.7746 - mse: 1.7746\n",
      "Epoch 29/100\n",
      "3/3 [==============================] - 0s 7ms/sample - loss: 1.7540 - mse: 1.7540\n",
      "Epoch 30/100\n",
      "3/3 [==============================] - 0s 7ms/sample - loss: 1.7258 - mse: 1.7258\n",
      "Epoch 31/100\n",
      "3/3 [==============================] - 0s 7ms/sample - loss: 1.7415 - mse: 1.7415\n",
      "Epoch 32/100\n",
      "3/3 [==============================] - 0s 7ms/sample - loss: 1.7203 - mse: 1.7203\n",
      "Epoch 33/100\n",
      "3/3 [==============================] - 0s 7ms/sample - loss: 1.6975 - mse: 1.6975\n",
      "Epoch 34/100\n",
      "3/3 [==============================] - 0s 7ms/sample - loss: 1.6887 - mse: 1.6887\n",
      "Epoch 35/100\n",
      "3/3 [==============================] - 0s 7ms/sample - loss: 1.6695 - mse: 1.6695\n",
      "Epoch 36/100\n",
      "3/3 [==============================] - 0s 7ms/sample - loss: 1.6288 - mse: 1.6288\n",
      "Epoch 37/100\n",
      "3/3 [==============================] - 0s 7ms/sample - loss: 1.6011 - mse: 1.6011\n",
      "Epoch 38/100\n",
      "3/3 [==============================] - 0s 6ms/sample - loss: 1.5881 - mse: 1.5881\n",
      "Epoch 39/100\n",
      "3/3 [==============================] - 0s 7ms/sample - loss: 1.5671 - mse: 1.5671\n",
      "Epoch 40/100\n",
      "3/3 [==============================] - 0s 7ms/sample - loss: 1.5465 - mse: 1.5465\n",
      "Epoch 41/100\n",
      "3/3 [==============================] - 0s 7ms/sample - loss: 1.5240 - mse: 1.5240\n",
      "Epoch 42/100\n",
      "3/3 [==============================] - 0s 7ms/sample - loss: 1.5161 - mse: 1.5161\n",
      "Epoch 43/100\n",
      "3/3 [==============================] - 0s 7ms/sample - loss: 1.4940 - mse: 1.4940\n",
      "Epoch 44/100\n",
      "3/3 [==============================] - 0s 7ms/sample - loss: 1.4870 - mse: 1.4870\n",
      "Epoch 45/100\n",
      "3/3 [==============================] - 0s 7ms/sample - loss: 1.4623 - mse: 1.4623\n",
      "Epoch 46/100\n",
      "3/3 [==============================] - 0s 7ms/sample - loss: 1.4318 - mse: 1.4318\n",
      "Epoch 47/100\n",
      "3/3 [==============================] - 0s 7ms/sample - loss: 1.4332 - mse: 1.4332\n",
      "Epoch 48/100\n",
      "3/3 [==============================] - 0s 7ms/sample - loss: 1.4007 - mse: 1.4007\n",
      "Epoch 49/100\n",
      "3/3 [==============================] - 0s 7ms/sample - loss: 1.3933 - mse: 1.3933\n",
      "Epoch 50/100\n",
      "3/3 [==============================] - 0s 7ms/sample - loss: 1.3705 - mse: 1.3705\n",
      "Epoch 51/100\n",
      "3/3 [==============================] - 0s 7ms/sample - loss: 1.3416 - mse: 1.3416\n",
      "Epoch 52/100\n",
      "3/3 [==============================] - 0s 7ms/sample - loss: 1.3381 - mse: 1.3381\n",
      "Epoch 53/100\n",
      "3/3 [==============================] - 0s 7ms/sample - loss: 1.2997 - mse: 1.2997\n",
      "Epoch 54/100\n",
      "3/3 [==============================] - 0s 7ms/sample - loss: 1.2923 - mse: 1.2923\n",
      "Epoch 55/100\n",
      "3/3 [==============================] - 0s 7ms/sample - loss: 1.2709 - mse: 1.2709\n",
      "Epoch 56/100\n",
      "3/3 [==============================] - 0s 6ms/sample - loss: 1.2680 - mse: 1.2680\n",
      "Epoch 57/100\n",
      "3/3 [==============================] - 0s 7ms/sample - loss: 1.2355 - mse: 1.2355\n",
      "Epoch 58/100\n",
      "3/3 [==============================] - 0s 6ms/sample - loss: 1.2159 - mse: 1.2159\n",
      "Epoch 59/100\n",
      "3/3 [==============================] - 0s 7ms/sample - loss: 1.1950 - mse: 1.1950\n",
      "Epoch 60/100\n",
      "3/3 [==============================] - 0s 7ms/sample - loss: 1.1749 - mse: 1.1749\n",
      "Epoch 61/100\n",
      "3/3 [==============================] - 0s 8ms/sample - loss: 1.1734 - mse: 1.1734\n",
      "Epoch 62/100\n",
      "3/3 [==============================] - 0s 7ms/sample - loss: 1.1499 - mse: 1.1499\n",
      "Epoch 63/100\n",
      "3/3 [==============================] - 0s 7ms/sample - loss: 1.1276 - mse: 1.1276\n",
      "Epoch 64/100\n",
      "3/3 [==============================] - 0s 6ms/sample - loss: 1.1022 - mse: 1.1022\n",
      "Epoch 65/100\n",
      "3/3 [==============================] - 0s 7ms/sample - loss: 1.0778 - mse: 1.0778\n",
      "Epoch 66/100\n",
      "3/3 [==============================] - 0s 7ms/sample - loss: 1.0681 - mse: 1.0681\n",
      "Epoch 67/100\n",
      "3/3 [==============================] - 0s 7ms/sample - loss: 1.0554 - mse: 1.0554\n",
      "Epoch 68/100\n",
      "3/3 [==============================] - 0s 7ms/sample - loss: 1.0286 - mse: 1.0286\n",
      "Epoch 69/100\n",
      "3/3 [==============================] - 0s 7ms/sample - loss: 1.0264 - mse: 1.0264\n",
      "Epoch 70/100\n",
      "3/3 [==============================] - 0s 7ms/sample - loss: 0.9953 - mse: 0.9953\n",
      "Epoch 71/100\n",
      "3/3 [==============================] - 0s 7ms/sample - loss: 0.9783 - mse: 0.9783\n",
      "Epoch 72/100\n",
      "3/3 [==============================] - 0s 7ms/sample - loss: 0.9691 - mse: 0.9691\n",
      "Epoch 73/100\n",
      "3/3 [==============================] - 0s 7ms/sample - loss: 0.9463 - mse: 0.9463\n",
      "Epoch 74/100\n",
      "3/3 [==============================] - 0s 7ms/sample - loss: 0.9286 - mse: 0.9286\n",
      "Epoch 75/100\n",
      "3/3 [==============================] - 0s 7ms/sample - loss: 0.9113 - mse: 0.9113\n",
      "Epoch 76/100\n",
      "3/3 [==============================] - 0s 7ms/sample - loss: 0.8944 - mse: 0.8944\n",
      "Epoch 77/100\n",
      "3/3 [==============================] - 0s 7ms/sample - loss: 0.8849 - mse: 0.8849\n",
      "Epoch 78/100\n",
      "3/3 [==============================] - 0s 7ms/sample - loss: 0.8679 - mse: 0.8679\n",
      "Epoch 79/100\n",
      "3/3 [==============================] - 0s 7ms/sample - loss: 0.8488 - mse: 0.8488\n",
      "Epoch 80/100\n",
      "3/3 [==============================] - 0s 7ms/sample - loss: 0.8260 - mse: 0.8260\n",
      "Epoch 81/100\n",
      "3/3 [==============================] - 0s 7ms/sample - loss: 0.8184 - mse: 0.8184\n",
      "Epoch 82/100\n",
      "3/3 [==============================] - 0s 7ms/sample - loss: 0.7953 - mse: 0.7953\n",
      "Epoch 83/100\n",
      "3/3 [==============================] - 0s 7ms/sample - loss: 0.7890 - mse: 0.7890\n",
      "Epoch 84/100\n",
      "3/3 [==============================] - 0s 7ms/sample - loss: 0.7792 - mse: 0.7792\n",
      "Epoch 85/100\n",
      "3/3 [==============================] - 0s 7ms/sample - loss: 0.7615 - mse: 0.7615\n",
      "Epoch 86/100\n"
     ]
    },
    {
     "name": "stdout",
     "output_type": "stream",
     "text": [
      "3/3 [==============================] - 0s 7ms/sample - loss: 0.7442 - mse: 0.7442\n",
      "Epoch 87/100\n",
      "3/3 [==============================] - 0s 7ms/sample - loss: 0.7233 - mse: 0.7233\n",
      "Epoch 88/100\n",
      "3/3 [==============================] - 0s 6ms/sample - loss: 0.7086 - mse: 0.7086\n",
      "Epoch 89/100\n",
      "3/3 [==============================] - 0s 7ms/sample - loss: 0.6981 - mse: 0.6981\n",
      "Epoch 90/100\n",
      "3/3 [==============================] - 0s 7ms/sample - loss: 0.6801 - mse: 0.6801\n",
      "Epoch 91/100\n",
      "3/3 [==============================] - 0s 7ms/sample - loss: 0.6836 - mse: 0.6836\n",
      "Epoch 92/100\n",
      "3/3 [==============================] - 0s 7ms/sample - loss: 0.6628 - mse: 0.6628\n",
      "Epoch 93/100\n",
      "3/3 [==============================] - 0s 7ms/sample - loss: 0.6462 - mse: 0.6462\n",
      "Epoch 94/100\n",
      "3/3 [==============================] - 0s 7ms/sample - loss: 0.6368 - mse: 0.6368\n",
      "Epoch 95/100\n",
      "3/3 [==============================] - 0s 7ms/sample - loss: 0.6176 - mse: 0.6176\n",
      "Epoch 96/100\n",
      "3/3 [==============================] - 0s 7ms/sample - loss: 0.6116 - mse: 0.6116\n",
      "Epoch 97/100\n",
      "3/3 [==============================] - 0s 7ms/sample - loss: 0.5985 - mse: 0.5985\n",
      "Epoch 98/100\n",
      "3/3 [==============================] - 0s 6ms/sample - loss: 0.5821 - mse: 0.5821\n",
      "Epoch 99/100\n",
      "3/3 [==============================] - 0s 6ms/sample - loss: 0.5700 - mse: 0.5700\n",
      "Epoch 100/100\n",
      "3/3 [==============================] - 0s 7ms/sample - loss: 0.5662 - mse: 0.5662\n"
     ]
    }
   ],
   "source": [
    "model.compile(loss='mse', optimizer='adam', metrics=['mse'])\n",
    "hist = model.fit(x_train, y_train, epochs=100, batch_size=1)"
   ]
  },
  {
   "cell_type": "markdown",
   "metadata": {},
   "source": [
    "## 4. 학습과정확인"
   ]
  },
  {
   "cell_type": "code",
   "execution_count": 6,
   "metadata": {},
   "outputs": [
    {
     "data": {
      "image/png": "[encoded data removed]",
      "text/plain": [
       "<Figure size 432x288 with 1 Axes>"
      ]
     },
     "metadata": {
      "needs_background": "light"
     },
     "output_type": "display_data"
    }
   ],
   "source": [
    "import matplotlib.pyplot as plt\n",
    "# print(hist.history)\n",
    "plt.plot(hist.history['loss'])\n",
    "plt.plot(hist.history['mse'])\n",
    "# #plt.ylim(0.0, 1.5)\n",
    "plt.ylabel('loss')\n",
    "plt.xlabel('epoch')\n",
    "plt.legend(['loss', 'mse'], loc='upper right')\n",
    "plt.show()"
   ]
  },
  {
   "cell_type": "markdown",
   "metadata": {},
   "source": [
    "## 5. 평가 예측\n",
    "* 예측값 데이터로 사용하기 위해 모양을 맞춰줘야 한다. "
   ]
  },
  {
   "cell_type": "code",
   "execution_count": 7,
   "metadata": {},
   "outputs": [
    {
     "name": "stdout",
     "output_type": "stream",
     "text": [
      "(1, 5)\n",
      "(1, 5, 1)\n"
     ]
    }
   ],
   "source": [
    "x_predict = np.array([[4,5,6,7,8]])\n",
    "print(x_predict.shape) #(1, 5)\n",
    "x_predict = x_predict.reshape(x_predict.shape[0], x_predict.shape[1], 1)\n",
    "print(x_predict.shape)"
   ]
  },
  {
   "cell_type": "code",
   "execution_count": 8,
   "metadata": {},
   "outputs": [
    {
     "name": "stdout",
     "output_type": "stream",
     "text": [
      "예측값 :  [[10.144601]]\n"
     ]
    }
   ],
   "source": [
    "y_predict = model.predict(x_predict)\n",
    "print(\"예측값 : \", y_predict)"
   ]
  },
  {
   "cell_type": "code",
   "execution_count": null,
   "metadata": {},
   "outputs": [],
   "source": []
  }
 ],
 "metadata": {
  "kernelspec": {
   "display_name": "Python 3",
   "language": "python",
   "name": "python3"
  },
  "language_info": {
   "codemirror_mode": {
    "name": "ipython",
    "version": 3
   },
   "file_extension": ".py",
   "mimetype": "text/x-python",
   "name": "python",
   "nbconvert_exporter": "python",
   "pygments_lexer": "ipython3",
   "version": "3.7.6"
  }
 },
 "nbformat": 4,
 "nbformat_minor": 4
}
