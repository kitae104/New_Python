{
 "cells": [
  {
   "cell_type": "markdown",
   "metadata": {},
   "source": [
    "# LSTM\n",
    "* RNN에서 가장 많이 쓰는 모델 \n",
    "* 기존의 SimpleRNN보다 파리미터의 수가 월등이 많아지고 성능이 좋음.\n",
    "* 시간은 상대적으로 느려짐."
   ]
  },
  {
   "cell_type": "markdown",
   "metadata": {},
   "source": [
    "## 1. 데이터"
   ]
  },
  {
   "cell_type": "code",
   "execution_count": 1,
   "metadata": {},
   "outputs": [],
   "source": [
    "import numpy as np"
   ]
  },
  {
   "cell_type": "markdown",
   "metadata": {},
   "source": [
    "* x_train의 컬럼과 y_train의 벡터의 크기를 맞추기 위해 x_train을 reshape 한다.\n",
    "* __(행, 열, 피쳐)__ == __(샘플수, 타임스탭, 피쳐)__ 같은 용어!\n",
    "    * x_train : (3행, 5열, 1feature) , y_train : (3, )\n",
    "    * x의 행의 수 = y의 벡터 크기 = 1\n",
    "    * x_train의 행의 수 = y_train 의 벡터 크기 = 3\n",
    "    * [1,2,3,4,5] -> [6] 으로 처리되는 모델 훈련 "
   ]
  },
  {
   "cell_type": "code",
   "execution_count": 2,
   "metadata": {},
   "outputs": [
    {
     "name": "stdout",
     "output_type": "stream",
     "text": [
      "x_train.shape :  (3, 5)\n",
      "x_train.shape :  (3, 5, 1)\n",
      "y_train.shape :  (3,)\n"
     ]
    }
   ],
   "source": [
    "x_train = np.array([[1,2,3,4,5], [2,3,4,5,6], [3,4,5,6,7]])\n",
    "print(\"x_train.shape : \", x_train.shape) \n",
    "y_train = np.array([6,7,8])\n",
    "\n",
    "x_train = x_train.reshape(x_train.shape[0], x_train.shape[1], 1)\n",
    "print(\"x_train.shape : \", x_train.shape) \n",
    "print(\"y_train.shape : \", y_train.shape) "
   ]
  },
  {
   "cell_type": "markdown",
   "metadata": {},
   "source": [
    "## 2. 모델 구성"
   ]
  },
  {
   "cell_type": "code",
   "execution_count": 3,
   "metadata": {},
   "outputs": [],
   "source": [
    "from tensorflow.keras.models import Sequential\n",
    "from tensorflow.keras.layers import Dense, LSTM"
   ]
  },
  {
   "cell_type": "markdown",
   "metadata": {},
   "source": [
    "* 기존의 SimpleRNN보다 4배 정도 추가 연산 수행 \n",
    "* 출력 노드 수 : 처음 출력 노드 수\n",
    "* __input_shape(5,1)__ : 2 차원 \n",
    "    - 5 : x의 컬럼 수\n",
    "    - 1 : 연산을 할 때 몇 개씩 데이터를 묶어 연산하는지(지금의 경우엔 1개씩)\n",
    "* __(5,1) == (None, 5, 1)__ 같은 의미\n",
    "    - None : 행\n",
    "    - 5 : 열\n",
    "    - 1 : 몇 개씩 잘랐는지.. "
   ]
  },
  {
   "cell_type": "code",
   "execution_count": 4,
   "metadata": {},
   "outputs": [
    {
     "name": "stdout",
     "output_type": "stream",
     "text": [
      "Model: \"sequential\"\n",
      "_________________________________________________________________\n",
      "Layer (type)                 Output Shape              Param #   \n",
      "=================================================================\n",
      "lstm (LSTM)                  (None, 7)                 252       \n",
      "_________________________________________________________________\n",
      "dense (Dense)                (None, 4)                 32        \n",
      "_________________________________________________________________\n",
      "dense_1 (Dense)              (None, 1)                 5         \n",
      "=================================================================\n",
      "Total params: 289\n",
      "Trainable params: 289\n",
      "Non-trainable params: 0\n",
      "_________________________________________________________________\n"
     ]
    }
   ],
   "source": [
    "model = Sequential()\n",
    "model.add(LSTM(7, input_shape = (5,1), activation='relu'))  # 7은 output node 수\n",
    "model.add(Dense(4))\n",
    "model.add(Dense(1))\n",
    "model.summary()"
   ]
  },
  {
   "cell_type": "markdown",
   "metadata": {},
   "source": [
    "## 3. 훈련"
   ]
  },
  {
   "cell_type": "code",
   "execution_count": 5,
   "metadata": {},
   "outputs": [
    {
     "name": "stdout",
     "output_type": "stream",
     "text": [
      "Train on 3 samples\n",
      "Epoch 1/100\n",
      "3/3 [==============================] - 1s 347ms/sample - loss: 51.2102 - mse: 51.2102\n",
      "Epoch 2/100\n",
      "3/3 [==============================] - 0s 4ms/sample - loss: 50.8116 - mse: 50.8116\n",
      "Epoch 3/100\n",
      "3/3 [==============================] - 0s 4ms/sample - loss: 50.3875 - mse: 50.3875\n",
      "Epoch 4/100\n",
      "3/3 [==============================] - 0s 4ms/sample - loss: 49.9972 - mse: 49.9972\n",
      "Epoch 5/100\n",
      "3/3 [==============================] - 0s 4ms/sample - loss: 49.5957 - mse: 49.5957\n",
      "Epoch 6/100\n",
      "3/3 [==============================] - 0s 4ms/sample - loss: 49.1858 - mse: 49.1858\n",
      "Epoch 7/100\n",
      "3/3 [==============================] - 0s 4ms/sample - loss: 48.7627 - mse: 48.7627\n",
      "Epoch 8/100\n",
      "3/3 [==============================] - 0s 4ms/sample - loss: 48.3270 - mse: 48.3271\n",
      "Epoch 9/100\n",
      "3/3 [==============================] - 0s 4ms/sample - loss: 47.9088 - mse: 47.9088\n",
      "Epoch 10/100\n",
      "3/3 [==============================] - 0s 4ms/sample - loss: 47.4450 - mse: 47.4450\n",
      "Epoch 11/100\n",
      "3/3 [==============================] - 0s 4ms/sample - loss: 46.9807 - mse: 46.9807\n",
      "Epoch 12/100\n",
      "3/3 [==============================] - 0s 4ms/sample - loss: 46.4958 - mse: 46.4958\n",
      "Epoch 13/100\n",
      "3/3 [==============================] - 0s 3ms/sample - loss: 45.9783 - mse: 45.9783\n",
      "Epoch 14/100\n",
      "3/3 [==============================] - 0s 4ms/sample - loss: 45.4876 - mse: 45.4876\n",
      "Epoch 15/100\n",
      "3/3 [==============================] - 0s 3ms/sample - loss: 44.8711 - mse: 44.8711\n",
      "Epoch 16/100\n",
      "3/3 [==============================] - 0s 3ms/sample - loss: 44.3272 - mse: 44.3272\n",
      "Epoch 17/100\n",
      "3/3 [==============================] - 0s 4ms/sample - loss: 43.6432 - mse: 43.6432\n",
      "Epoch 18/100\n",
      "3/3 [==============================] - 0s 3ms/sample - loss: 42.9644 - mse: 42.9644\n",
      "Epoch 19/100\n",
      "3/3 [==============================] - 0s 3ms/sample - loss: 42.2361 - mse: 42.2361\n",
      "Epoch 20/100\n",
      "3/3 [==============================] - 0s 3ms/sample - loss: 41.4942 - mse: 41.4942\n",
      "Epoch 21/100\n",
      "3/3 [==============================] - 0s 3ms/sample - loss: 40.6519 - mse: 40.6519\n",
      "Epoch 22/100\n",
      "3/3 [==============================] - 0s 3ms/sample - loss: 39.7498 - mse: 39.7498\n",
      "Epoch 23/100\n",
      "3/3 [==============================] - 0s 4ms/sample - loss: 38.7971 - mse: 38.7971\n",
      "Epoch 24/100\n",
      "3/3 [==============================] - 0s 3ms/sample - loss: 37.6404 - mse: 37.6404\n",
      "Epoch 25/100\n",
      "3/3 [==============================] - 0s 3ms/sample - loss: 36.6096 - mse: 36.6096\n",
      "Epoch 26/100\n",
      "3/3 [==============================] - 0s 3ms/sample - loss: 35.2317 - mse: 35.2317\n",
      "Epoch 27/100\n",
      "3/3 [==============================] - 0s 4ms/sample - loss: 33.9832 - mse: 33.9832\n",
      "Epoch 28/100\n",
      "3/3 [==============================] - 0s 4ms/sample - loss: 32.5077 - mse: 32.5077\n",
      "Epoch 29/100\n",
      "3/3 [==============================] - 0s 4ms/sample - loss: 30.7883 - mse: 30.7883\n",
      "Epoch 30/100\n",
      "3/3 [==============================] - 0s 3ms/sample - loss: 29.2029 - mse: 29.2029\n",
      "Epoch 31/100\n",
      "3/3 [==============================] - 0s 4ms/sample - loss: 27.3236 - mse: 27.3236\n",
      "Epoch 32/100\n",
      "3/3 [==============================] - 0s 3ms/sample - loss: 25.1469 - mse: 25.1469\n",
      "Epoch 33/100\n",
      "3/3 [==============================] - 0s 3ms/sample - loss: 22.8847 - mse: 22.8847\n",
      "Epoch 34/100\n",
      "3/3 [==============================] - 0s 3ms/sample - loss: 20.9754 - mse: 20.9754\n",
      "Epoch 35/100\n",
      "3/3 [==============================] - 0s 4ms/sample - loss: 18.3710 - mse: 18.3710\n",
      "Epoch 36/100\n",
      "3/3 [==============================] - 0s 3ms/sample - loss: 15.9245 - mse: 15.9245\n",
      "Epoch 37/100\n",
      "3/3 [==============================] - 0s 3ms/sample - loss: 13.2839 - mse: 13.2839\n",
      "Epoch 38/100\n",
      "3/3 [==============================] - 0s 4ms/sample - loss: 10.2561 - mse: 10.2561\n",
      "Epoch 39/100\n",
      "3/3 [==============================] - 0s 4ms/sample - loss: 7.9160 - mse: 7.9160\n",
      "Epoch 40/100\n",
      "3/3 [==============================] - 0s 4ms/sample - loss: 5.6118 - mse: 5.6118\n",
      "Epoch 41/100\n",
      "3/3 [==============================] - 0s 4ms/sample - loss: 3.7800 - mse: 3.7800\n",
      "Epoch 42/100\n",
      "3/3 [==============================] - 0s 4ms/sample - loss: 2.3212 - mse: 2.3212\n",
      "Epoch 43/100\n",
      "3/3 [==============================] - 0s 4ms/sample - loss: 1.3207 - mse: 1.3207\n",
      "Epoch 44/100\n",
      "3/3 [==============================] - 0s 4ms/sample - loss: 0.9875 - mse: 0.9875\n",
      "Epoch 45/100\n",
      "3/3 [==============================] - 0s 4ms/sample - loss: 0.9405 - mse: 0.9405\n",
      "Epoch 46/100\n",
      "3/3 [==============================] - 0s 4ms/sample - loss: 0.8267 - mse: 0.8267\n",
      "Epoch 47/100\n",
      "3/3 [==============================] - 0s 3ms/sample - loss: 0.9635 - mse: 0.9635\n",
      "Epoch 48/100\n",
      "3/3 [==============================] - 0s 4ms/sample - loss: 1.0193 - mse: 1.0193\n",
      "Epoch 49/100\n",
      "3/3 [==============================] - 0s 3ms/sample - loss: 0.9706 - mse: 0.9706\n",
      "Epoch 50/100\n",
      "3/3 [==============================] - 0s 3ms/sample - loss: 0.9052 - mse: 0.9052\n",
      "Epoch 51/100\n",
      "3/3 [==============================] - 0s 4ms/sample - loss: 0.8465 - mse: 0.8465\n",
      "Epoch 52/100\n",
      "3/3 [==============================] - 0s 3ms/sample - loss: 0.8247 - mse: 0.8247\n",
      "Epoch 53/100\n",
      "3/3 [==============================] - 0s 3ms/sample - loss: 0.7017 - mse: 0.7017\n",
      "Epoch 54/100\n",
      "3/3 [==============================] - 0s 3ms/sample - loss: 0.7249 - mse: 0.7249\n",
      "Epoch 55/100\n",
      "3/3 [==============================] - 0s 4ms/sample - loss: 0.7075 - mse: 0.7075\n",
      "Epoch 56/100\n",
      "3/3 [==============================] - 0s 3ms/sample - loss: 0.7288 - mse: 0.7288\n",
      "Epoch 57/100\n",
      "3/3 [==============================] - 0s 4ms/sample - loss: 0.7151 - mse: 0.7151\n",
      "Epoch 58/100\n",
      "3/3 [==============================] - 0s 3ms/sample - loss: 0.7129 - mse: 0.7129\n",
      "Epoch 59/100\n",
      "3/3 [==============================] - 0s 3ms/sample - loss: 0.7014 - mse: 0.7014\n",
      "Epoch 60/100\n",
      "3/3 [==============================] - 0s 4ms/sample - loss: 0.7068 - mse: 0.7068\n",
      "Epoch 61/100\n",
      "3/3 [==============================] - 0s 4ms/sample - loss: 0.6874 - mse: 0.6874\n",
      "Epoch 62/100\n",
      "3/3 [==============================] - 0s 3ms/sample - loss: 0.6778 - mse: 0.6778\n",
      "Epoch 63/100\n",
      "3/3 [==============================] - 0s 3ms/sample - loss: 0.6628 - mse: 0.6628\n",
      "Epoch 64/100\n",
      "3/3 [==============================] - 0s 3ms/sample - loss: 0.6573 - mse: 0.6573\n",
      "Epoch 65/100\n",
      "3/3 [==============================] - 0s 3ms/sample - loss: 0.6583 - mse: 0.6583\n",
      "Epoch 66/100\n",
      "3/3 [==============================] - 0s 4ms/sample - loss: 0.6545 - mse: 0.6545\n",
      "Epoch 67/100\n",
      "3/3 [==============================] - 0s 3ms/sample - loss: 0.6403 - mse: 0.6403\n",
      "Epoch 68/100\n",
      "3/3 [==============================] - 0s 3ms/sample - loss: 0.6403 - mse: 0.6403\n",
      "Epoch 69/100\n",
      "3/3 [==============================] - 0s 3ms/sample - loss: 0.6282 - mse: 0.6282\n",
      "Epoch 70/100\n",
      "3/3 [==============================] - 0s 3ms/sample - loss: 0.6300 - mse: 0.6300\n",
      "Epoch 71/100\n",
      "3/3 [==============================] - 0s 3ms/sample - loss: 0.6225 - mse: 0.6225\n",
      "Epoch 72/100\n",
      "3/3 [==============================] - 0s 3ms/sample - loss: 0.6146 - mse: 0.6146\n",
      "Epoch 73/100\n",
      "3/3 [==============================] - 0s 3ms/sample - loss: 0.6122 - mse: 0.6122\n",
      "Epoch 74/100\n",
      "3/3 [==============================] - 0s 4ms/sample - loss: 0.6013 - mse: 0.6013\n",
      "Epoch 75/100\n",
      "3/3 [==============================] - 0s 3ms/sample - loss: 0.5935 - mse: 0.5935\n",
      "Epoch 76/100\n",
      "3/3 [==============================] - 0s 4ms/sample - loss: 0.5900 - mse: 0.5900\n",
      "Epoch 77/100\n",
      "3/3 [==============================] - 0s 4ms/sample - loss: 0.5926 - mse: 0.5926\n",
      "Epoch 78/100\n",
      "3/3 [==============================] - 0s 4ms/sample - loss: 0.5880 - mse: 0.5880\n",
      "Epoch 79/100\n",
      "3/3 [==============================] - 0s 4ms/sample - loss: 0.5774 - mse: 0.5774\n",
      "Epoch 80/100\n",
      "3/3 [==============================] - 0s 4ms/sample - loss: 0.5780 - mse: 0.5780\n",
      "Epoch 81/100\n",
      "3/3 [==============================] - 0s 4ms/sample - loss: 0.5693 - mse: 0.5693\n",
      "Epoch 82/100\n",
      "3/3 [==============================] - 0s 4ms/sample - loss: 0.5613 - mse: 0.5613\n",
      "Epoch 83/100\n",
      "3/3 [==============================] - 0s 4ms/sample - loss: 0.5544 - mse: 0.5544\n",
      "Epoch 84/100\n",
      "3/3 [==============================] - 0s 4ms/sample - loss: 0.5428 - mse: 0.5428\n",
      "Epoch 85/100\n",
      "3/3 [==============================] - 0s 3ms/sample - loss: 0.5436 - mse: 0.5436\n",
      "Epoch 86/100\n"
     ]
    },
    {
     "name": "stdout",
     "output_type": "stream",
     "text": [
      "3/3 [==============================] - 0s 3ms/sample - loss: 0.5354 - mse: 0.5354\n",
      "Epoch 87/100\n",
      "3/3 [==============================] - 0s 4ms/sample - loss: 0.5301 - mse: 0.5301\n",
      "Epoch 88/100\n",
      "3/3 [==============================] - 0s 3ms/sample - loss: 0.5273 - mse: 0.5273\n",
      "Epoch 89/100\n",
      "3/3 [==============================] - 0s 3ms/sample - loss: 0.5175 - mse: 0.5175\n",
      "Epoch 90/100\n",
      "3/3 [==============================] - 0s 4ms/sample - loss: 0.5089 - mse: 0.5089\n",
      "Epoch 91/100\n",
      "3/3 [==============================] - 0s 3ms/sample - loss: 0.5037 - mse: 0.5037\n",
      "Epoch 92/100\n",
      "3/3 [==============================] - 0s 3ms/sample - loss: 0.5026 - mse: 0.5026\n",
      "Epoch 93/100\n",
      "3/3 [==============================] - 0s 4ms/sample - loss: 0.4927 - mse: 0.4927\n",
      "Epoch 94/100\n",
      "3/3 [==============================] - 0s 3ms/sample - loss: 0.4943 - mse: 0.4943\n",
      "Epoch 95/100\n",
      "3/3 [==============================] - 0s 4ms/sample - loss: 0.4876 - mse: 0.4876\n",
      "Epoch 96/100\n",
      "3/3 [==============================] - 0s 3ms/sample - loss: 0.4871 - mse: 0.4871\n",
      "Epoch 97/100\n",
      "3/3 [==============================] - 0s 4ms/sample - loss: 0.4754 - mse: 0.4754\n",
      "Epoch 98/100\n",
      "3/3 [==============================] - 0s 3ms/sample - loss: 0.4691 - mse: 0.4691\n",
      "Epoch 99/100\n",
      "3/3 [==============================] - 0s 4ms/sample - loss: 0.4638 - mse: 0.4638\n",
      "Epoch 100/100\n",
      "3/3 [==============================] - 0s 4ms/sample - loss: 0.4576 - mse: 0.4576\n"
     ]
    }
   ],
   "source": [
    "model.compile(loss='mse', optimizer='adam', metrics=['mse'])\n",
    "hist = model.fit(x_train, y_train, epochs=100, batch_size=1)"
   ]
  },
  {
   "cell_type": "markdown",
   "metadata": {},
   "source": [
    "## 4. 학습과정확인"
   ]
  },
  {
   "cell_type": "code",
   "execution_count": 6,
   "metadata": {},
   "outputs": [
    {
     "data": {
      "image/png": "[encoded data removed]",
      "text/plain": [
       "<Figure size 432x288 with 1 Axes>"
      ]
     },
     "metadata": {
      "needs_background": "light"
     },
     "output_type": "display_data"
    }
   ],
   "source": [
    "import matplotlib.pyplot as plt\n",
    "# print(hist.history)\n",
    "plt.plot(hist.history['loss'])\n",
    "plt.plot(hist.history['mse'])\n",
    "# #plt.ylim(0.0, 1.5)\n",
    "plt.ylabel('loss')\n",
    "plt.xlabel('epoch')\n",
    "plt.legend(['loss', 'mse'], loc='upper right')\n",
    "plt.show()"
   ]
  },
  {
   "cell_type": "markdown",
   "metadata": {},
   "source": [
    "## 5. 평가 예측\n",
    "* 예측값 데이터로 사용하기 위해 모양을 맞춰줘야 한다. "
   ]
  },
  {
   "cell_type": "code",
   "execution_count": 7,
   "metadata": {},
   "outputs": [
    {
     "name": "stdout",
     "output_type": "stream",
     "text": [
      "(1, 5)\n",
      "(1, 5, 1)\n"
     ]
    }
   ],
   "source": [
    "x_predict = np.array([[4,5,6,7,8]])\n",
    "print(x_predict.shape) #(1, 5)\n",
    "x_predict = x_predict.reshape(x_predict.shape[0], x_predict.shape[1], 1)\n",
    "print(x_predict.shape)"
   ]
  },
  {
   "cell_type": "code",
   "execution_count": 8,
   "metadata": {},
   "outputs": [
    {
     "name": "stdout",
     "output_type": "stream",
     "text": [
      "예측값 :  [[9.924123]]\n"
     ]
    }
   ],
   "source": [
    "y_predict = model.predict(x_predict)\n",
    "print(\"예측값 : \", y_predict)"
   ]
  },
  {
   "cell_type": "code",
   "execution_count": null,
   "metadata": {},
   "outputs": [],
   "source": []
  }
 ],
 "metadata": {
  "kernelspec": {
   "display_name": "Python 3",
   "language": "python",
   "name": "python3"
  },
  "language_info": {
   "codemirror_mode": {
    "name": "ipython",
    "version": 3
   },
   "file_extension": ".py",
   "mimetype": "text/x-python",
   "name": "python",
   "nbconvert_exporter": "python",
   "pygments_lexer": "ipython3",
   "version": "3.7.6"
  }
 },
 "nbformat": 4,
 "nbformat_minor": 4
}
