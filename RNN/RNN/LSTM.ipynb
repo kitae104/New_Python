{
 "cells": [
  {
   "cell_type": "markdown",
   "metadata": {},
   "source": [
    "# LSTM\n",
    "* RNN에서 가장 많이 쓰는 모델 \n",
    "* 기존의 SimpleRNN보다 파리미터의 수가 월등이 많아지고 성능이 좋음.\n",
    "* 시간은 상대적으로 느려짐."
   ]
  },
  {
   "cell_type": "markdown",
   "metadata": {},
   "source": [
    "## 1. 데이터"
   ]
  },
  {
   "cell_type": "code",
   "execution_count": 1,
   "metadata": {},
   "outputs": [],
   "source": [
    "import numpy as np"
   ]
  },
  {
   "cell_type": "markdown",
   "metadata": {},
   "source": [
    "* x_train의 컬럼과 y_train의 벡터의 크기를 맞추기 위해 x_train을 reshape 한다.\n",
    "* __(행, 열, 피쳐)__ == __(샘플수, 타임스탭, 피쳐)__ 같은 용어!\n",
    "    * x_train : (3행, 5열, 1feature) , y_train : (3, )\n",
    "    * x의 행의 수 = y의 벡터 크기 = 1\n",
    "    * x_train의 행의 수 = y_train 의 벡터 크기 = 3\n",
    "    * [1,2,3,4,5] -> [6] 으로 처리되는 모델 훈련 "
   ]
  },
  {
   "cell_type": "code",
   "execution_count": 2,
   "metadata": {},
   "outputs": [
    {
     "name": "stdout",
     "output_type": "stream",
     "text": [
      "x_train.shape :  (3, 5)\n",
      "x_train.shape :  (3, 5, 1)\n",
      "y_train.shape :  (3,)\n"
     ]
    }
   ],
   "source": [
    "x_train = np.array([[1,2,3,4,5], [2,3,4,5,6], [3,4,5,6,7]])\n",
    "print(\"x_train.shape : \", x_train.shape) \n",
    "y_train = np.array([6,7,8])\n",
    "\n",
    "x_train = x_train.reshape(x_train.shape[0], x_train.shape[1], 1)\n",
    "print(\"x_train.shape : \", x_train.shape) \n",
    "print(\"y_train.shape : \", y_train.shape) "
   ]
  },
  {
   "cell_type": "markdown",
   "metadata": {},
   "source": [
    "## 2. 모델 구성"
   ]
  },
  {
   "cell_type": "code",
   "execution_count": 3,
   "metadata": {},
   "outputs": [],
   "source": [
    "from tensorflow.keras.models import Sequential\n",
    "from tensorflow.keras.layers import Dense, LSTM"
   ]
  },
  {
   "cell_type": "markdown",
   "metadata": {},
   "source": [
    "* 기존의 SimpleRNN보다 4배 정도 추가 연산 수행 \n",
    "* 출력 노드 수 : 처음 출력 노드 수\n",
    "* __input_shape(5,1)__ : 2 차원 \n",
    "    - 5 : x의 컬럼 수\n",
    "    - 1 : 연산을 할 때 몇 개씩 데이터를 묶어 연산하는지(지금의 경우엔 1개씩)\n",
    "* __(5,1) == (None, 5, 1)__ 같은 의미\n",
    "    - None : 행\n",
    "    - 5 : 열\n",
    "    - 1 : 몇 개씩 잘랐는지.. "
   ]
  },
  {
   "cell_type": "code",
   "execution_count": 4,
   "metadata": {},
   "outputs": [
    {
     "name": "stdout",
     "output_type": "stream",
     "text": [
      "Model: \"sequential\"\n",
      "_________________________________________________________________\n",
      "Layer (type)                 Output Shape              Param #   \n",
      "=================================================================\n",
      "lstm (LSTM)                  (None, 7)                 252       \n",
      "_________________________________________________________________\n",
      "dense (Dense)                (None, 4)                 32        \n",
      "_________________________________________________________________\n",
      "dense_1 (Dense)              (None, 1)                 5         \n",
      "=================================================================\n",
      "Total params: 289\n",
      "Trainable params: 289\n",
      "Non-trainable params: 0\n",
      "_________________________________________________________________\n"
     ]
    }
   ],
   "source": [
    "model = Sequential()\n",
    "model.add(LSTM(7, input_shape = (5,1), activation='relu'))  # 7은 output node 수\n",
    "model.add(Dense(4))\n",
    "model.add(Dense(1))\n",
    "model.summary()"
   ]
  },
  {
   "cell_type": "markdown",
   "metadata": {},
   "source": [
    "## 3. 훈련"
   ]
  },
  {
   "cell_type": "code",
   "execution_count": 5,
   "metadata": {},
   "outputs": [
    {
     "name": "stdout",
     "output_type": "stream",
     "text": [
      "Train on 3 samples\n",
      "Epoch 1/100\n",
      "3/3 [==============================] - 1s 216ms/sample - loss: 46.0170 - mse: 46.0170\n",
      "Epoch 2/100\n",
      "3/3 [==============================] - 0s 3ms/sample - loss: 45.3275 - mse: 45.3275\n",
      "Epoch 3/100\n",
      "3/3 [==============================] - 0s 4ms/sample - loss: 44.6120 - mse: 44.6120\n",
      "Epoch 4/100\n",
      "3/3 [==============================] - 0s 4ms/sample - loss: 43.9186 - mse: 43.9186\n",
      "Epoch 5/100\n",
      "3/3 [==============================] - 0s 4ms/sample - loss: 43.1851 - mse: 43.1851\n",
      "Epoch 6/100\n",
      "3/3 [==============================] - 0s 4ms/sample - loss: 42.5631 - mse: 42.5631\n",
      "Epoch 7/100\n",
      "3/3 [==============================] - 0s 3ms/sample - loss: 41.7102 - mse: 41.7102\n",
      "Epoch 8/100\n",
      "3/3 [==============================] - 0s 3ms/sample - loss: 40.9264 - mse: 40.9264\n",
      "Epoch 9/100\n",
      "3/3 [==============================] - 0s 3ms/sample - loss: 40.1662 - mse: 40.1662\n",
      "Epoch 10/100\n",
      "3/3 [==============================] - 0s 4ms/sample - loss: 39.3445 - mse: 39.3445\n",
      "Epoch 11/100\n",
      "3/3 [==============================] - 0s 4ms/sample - loss: 38.3546 - mse: 38.3546\n",
      "Epoch 12/100\n",
      "3/3 [==============================] - 0s 3ms/sample - loss: 37.4258 - mse: 37.4258\n",
      "Epoch 13/100\n",
      "3/3 [==============================] - 0s 3ms/sample - loss: 36.5389 - mse: 36.5389\n",
      "Epoch 14/100\n",
      "3/3 [==============================] - 0s 3ms/sample - loss: 35.5572 - mse: 35.5572\n",
      "Epoch 15/100\n",
      "3/3 [==============================] - 0s 3ms/sample - loss: 34.3483 - mse: 34.3483\n",
      "Epoch 16/100\n",
      "3/3 [==============================] - 0s 3ms/sample - loss: 33.2350 - mse: 33.2350\n",
      "Epoch 17/100\n",
      "3/3 [==============================] - 0s 4ms/sample - loss: 32.0725 - mse: 32.0725\n",
      "Epoch 18/100\n",
      "3/3 [==============================] - 0s 3ms/sample - loss: 30.9711 - mse: 30.9711\n",
      "Epoch 19/100\n",
      "3/3 [==============================] - 0s 4ms/sample - loss: 29.6403 - mse: 29.6403\n",
      "Epoch 20/100\n",
      "3/3 [==============================] - 0s 4ms/sample - loss: 28.0731 - mse: 28.0731\n",
      "Epoch 21/100\n",
      "3/3 [==============================] - 0s 4ms/sample - loss: 26.5867 - mse: 26.5867\n",
      "Epoch 22/100\n",
      "3/3 [==============================] - 0s 4ms/sample - loss: 25.0725 - mse: 25.0725\n",
      "Epoch 23/100\n",
      "3/3 [==============================] - 0s 4ms/sample - loss: 23.6622 - mse: 23.6622\n",
      "Epoch 24/100\n",
      "3/3 [==============================] - 0s 4ms/sample - loss: 21.8196 - mse: 21.8195\n",
      "Epoch 25/100\n",
      "3/3 [==============================] - 0s 4ms/sample - loss: 20.2904 - mse: 20.2904\n",
      "Epoch 26/100\n",
      "3/3 [==============================] - 0s 3ms/sample - loss: 18.3706 - mse: 18.3706\n",
      "Epoch 27/100\n",
      "3/3 [==============================] - 0s 3ms/sample - loss: 16.5670 - mse: 16.5670\n",
      "Epoch 28/100\n",
      "3/3 [==============================] - 0s 3ms/sample - loss: 14.6446 - mse: 14.6446\n",
      "Epoch 29/100\n",
      "3/3 [==============================] - 0s 4ms/sample - loss: 12.7136 - mse: 12.7136\n",
      "Epoch 30/100\n",
      "3/3 [==============================] - 0s 3ms/sample - loss: 10.7464 - mse: 10.7464\n",
      "Epoch 31/100\n",
      "3/3 [==============================] - 0s 4ms/sample - loss: 8.8009 - mse: 8.8009\n",
      "Epoch 32/100\n",
      "3/3 [==============================] - 0s 4ms/sample - loss: 7.0664 - mse: 7.0664\n",
      "Epoch 33/100\n",
      "3/3 [==============================] - 0s 4ms/sample - loss: 5.5688 - mse: 5.5688\n",
      "Epoch 34/100\n",
      "3/3 [==============================] - 0s 4ms/sample - loss: 4.1711 - mse: 4.1711\n",
      "Epoch 35/100\n",
      "3/3 [==============================] - 0s 4ms/sample - loss: 2.9458 - mse: 2.9458\n",
      "Epoch 36/100\n",
      "3/3 [==============================] - 0s 4ms/sample - loss: 2.0950 - mse: 2.0950\n",
      "Epoch 37/100\n",
      "3/3 [==============================] - 0s 4ms/sample - loss: 1.4812 - mse: 1.4812\n",
      "Epoch 38/100\n",
      "3/3 [==============================] - 0s 4ms/sample - loss: 1.3052 - mse: 1.3052\n",
      "Epoch 39/100\n",
      "3/3 [==============================] - 0s 3ms/sample - loss: 1.0489 - mse: 1.0489\n",
      "Epoch 40/100\n",
      "3/3 [==============================] - 0s 4ms/sample - loss: 1.1715 - mse: 1.1715\n",
      "Epoch 41/100\n",
      "3/3 [==============================] - 0s 4ms/sample - loss: 1.1881 - mse: 1.1881\n",
      "Epoch 42/100\n",
      "3/3 [==============================] - 0s 4ms/sample - loss: 1.1905 - mse: 1.1905  \n",
      "Epoch 43/100\n",
      "3/3 [==============================] - 0s 4ms/sample - loss: 1.1924 - mse: 1.1924\n",
      "Epoch 44/100\n",
      "3/3 [==============================] - 0s 4ms/sample - loss: 1.1633 - mse: 1.1633\n",
      "Epoch 45/100\n",
      "3/3 [==============================] - 0s 4ms/sample - loss: 1.1012 - mse: 1.1012\n",
      "Epoch 46/100\n",
      "3/3 [==============================] - 0s 4ms/sample - loss: 1.0179 - mse: 1.0179\n",
      "Epoch 47/100\n",
      "3/3 [==============================] - 0s 3ms/sample - loss: 1.0537 - mse: 1.0537\n",
      "Epoch 48/100\n",
      "3/3 [==============================] - 0s 3ms/sample - loss: 1.0028 - mse: 1.0028\n",
      "Epoch 49/100\n",
      "3/3 [==============================] - 0s 3ms/sample - loss: 0.9889 - mse: 0.9889\n",
      "Epoch 50/100\n",
      "3/3 [==============================] - 0s 4ms/sample - loss: 0.9727 - mse: 0.9727\n",
      "Epoch 51/100\n",
      "3/3 [==============================] - 0s 4ms/sample - loss: 0.9595 - mse: 0.9595\n",
      "Epoch 52/100\n",
      "3/3 [==============================] - 0s 4ms/sample - loss: 0.9401 - mse: 0.9401\n",
      "Epoch 53/100\n",
      "3/3 [==============================] - 0s 4ms/sample - loss: 0.9348 - mse: 0.9348\n",
      "Epoch 54/100\n",
      "3/3 [==============================] - 0s 4ms/sample - loss: 0.9175 - mse: 0.9175\n",
      "Epoch 55/100\n",
      "3/3 [==============================] - 0s 4ms/sample - loss: 0.9054 - mse: 0.9054\n",
      "Epoch 56/100\n",
      "3/3 [==============================] - 0s 4ms/sample - loss: 0.9074 - mse: 0.9074\n",
      "Epoch 57/100\n",
      "3/3 [==============================] - 0s 3ms/sample - loss: 0.9014 - mse: 0.9014\n",
      "Epoch 58/100\n",
      "3/3 [==============================] - 0s 4ms/sample - loss: 0.8803 - mse: 0.8803\n",
      "Epoch 59/100\n",
      "3/3 [==============================] - 0s 3ms/sample - loss: 0.8755 - mse: 0.8755\n",
      "Epoch 60/100\n",
      "3/3 [==============================] - 0s 4ms/sample - loss: 0.8629 - mse: 0.8629\n",
      "Epoch 61/100\n",
      "3/3 [==============================] - 0s 3ms/sample - loss: 0.8495 - mse: 0.8495\n",
      "Epoch 62/100\n",
      "3/3 [==============================] - 0s 3ms/sample - loss: 0.8378 - mse: 0.8378\n",
      "Epoch 63/100\n",
      "3/3 [==============================] - 0s 4ms/sample - loss: 0.8403 - mse: 0.8403\n",
      "Epoch 64/100\n",
      "3/3 [==============================] - 0s 3ms/sample - loss: 0.8242 - mse: 0.8242\n",
      "Epoch 65/100\n",
      "3/3 [==============================] - 0s 3ms/sample - loss: 0.8134 - mse: 0.8134\n",
      "Epoch 66/100\n",
      "3/3 [==============================] - 0s 4ms/sample - loss: 0.8058 - mse: 0.8058\n",
      "Epoch 67/100\n",
      "3/3 [==============================] - 0s 3ms/sample - loss: 0.7957 - mse: 0.7957\n",
      "Epoch 68/100\n",
      "3/3 [==============================] - 0s 3ms/sample - loss: 0.7859 - mse: 0.7859\n",
      "Epoch 69/100\n",
      "3/3 [==============================] - 0s 3ms/sample - loss: 0.7842 - mse: 0.7842\n",
      "Epoch 70/100\n",
      "3/3 [==============================] - 0s 4ms/sample - loss: 0.7627 - mse: 0.7627\n",
      "Epoch 71/100\n",
      "3/3 [==============================] - 0s 4ms/sample - loss: 0.7541 - mse: 0.7541\n",
      "Epoch 72/100\n",
      "3/3 [==============================] - 0s 3ms/sample - loss: 0.7500 - mse: 0.7500\n",
      "Epoch 73/100\n",
      "3/3 [==============================] - 0s 3ms/sample - loss: 0.7416 - mse: 0.7416\n",
      "Epoch 74/100\n",
      "3/3 [==============================] - 0s 3ms/sample - loss: 0.7355 - mse: 0.7355\n",
      "Epoch 75/100\n",
      "3/3 [==============================] - 0s 4ms/sample - loss: 0.7313 - mse: 0.7313\n",
      "Epoch 76/100\n",
      "3/3 [==============================] - 0s 4ms/sample - loss: 0.7170 - mse: 0.7170\n",
      "Epoch 77/100\n",
      "3/3 [==============================] - 0s 3ms/sample - loss: 0.7057 - mse: 0.7057\n",
      "Epoch 78/100\n",
      "3/3 [==============================] - 0s 3ms/sample - loss: 0.7020 - mse: 0.7020\n",
      "Epoch 79/100\n",
      "3/3 [==============================] - 0s 4ms/sample - loss: 0.6878 - mse: 0.6878\n",
      "Epoch 80/100\n",
      "3/3 [==============================] - 0s 3ms/sample - loss: 0.6780 - mse: 0.6780\n",
      "Epoch 81/100\n",
      "3/3 [==============================] - 0s 3ms/sample - loss: 0.6706 - mse: 0.6706\n",
      "Epoch 82/100\n",
      "3/3 [==============================] - 0s 3ms/sample - loss: 0.6724 - mse: 0.6724\n",
      "Epoch 83/100\n",
      "3/3 [==============================] - 0s 3ms/sample - loss: 0.6613 - mse: 0.6613\n",
      "Epoch 84/100\n",
      "3/3 [==============================] - 0s 3ms/sample - loss: 0.6494 - mse: 0.6494\n",
      "Epoch 85/100\n",
      "3/3 [==============================] - 0s 4ms/sample - loss: 0.6469 - mse: 0.6469\n",
      "Epoch 86/100\n"
     ]
    },
    {
     "name": "stdout",
     "output_type": "stream",
     "text": [
      "3/3 [==============================] - 0s 4ms/sample - loss: 0.6315 - mse: 0.6315\n",
      "Epoch 87/100\n",
      "3/3 [==============================] - 0s 3ms/sample - loss: 0.6256 - mse: 0.6256\n",
      "Epoch 88/100\n",
      "3/3 [==============================] - 0s 4ms/sample - loss: 0.6220 - mse: 0.6220\n",
      "Epoch 89/100\n",
      "3/3 [==============================] - 0s 4ms/sample - loss: 0.6059 - mse: 0.6059\n",
      "Epoch 90/100\n",
      "3/3 [==============================] - 0s 3ms/sample - loss: 0.6010 - mse: 0.6010\n",
      "Epoch 91/100\n",
      "3/3 [==============================] - 0s 4ms/sample - loss: 0.5976 - mse: 0.5976\n",
      "Epoch 92/100\n",
      "3/3 [==============================] - 0s 4ms/sample - loss: 0.5920 - mse: 0.5920\n",
      "Epoch 93/100\n",
      "3/3 [==============================] - 0s 4ms/sample - loss: 0.5785 - mse: 0.5785\n",
      "Epoch 94/100\n",
      "3/3 [==============================] - 0s 3ms/sample - loss: 0.5747 - mse: 0.5747\n",
      "Epoch 95/100\n",
      "3/3 [==============================] - 0s 3ms/sample - loss: 0.5648 - mse: 0.5648\n",
      "Epoch 96/100\n",
      "3/3 [==============================] - 0s 4ms/sample - loss: 0.5566 - mse: 0.5566\n",
      "Epoch 97/100\n",
      "3/3 [==============================] - 0s 4ms/sample - loss: 0.5509 - mse: 0.5509\n",
      "Epoch 98/100\n",
      "3/3 [==============================] - 0s 4ms/sample - loss: 0.5428 - mse: 0.5428\n",
      "Epoch 99/100\n",
      "3/3 [==============================] - 0s 3ms/sample - loss: 0.5332 - mse: 0.5332\n",
      "Epoch 100/100\n",
      "3/3 [==============================] - 0s 3ms/sample - loss: 0.5286 - mse: 0.5286\n"
     ]
    }
   ],
   "source": [
    "model.compile(loss='mse', optimizer='adam', metrics=['mse'])\n",
    "hist = model.fit(x_train, y_train, epochs=100, batch_size=1)"
   ]
  },
  {
   "cell_type": "markdown",
   "metadata": {},
   "source": [
    "## 4. 학습과정확인"
   ]
  },
  {
   "cell_type": "code",
   "execution_count": 6,
   "metadata": {},
   "outputs": [
    {
     "data": {
      "image/png": "[encoded data removed]",
      "text/plain": [
       "<Figure size 432x288 with 1 Axes>"
      ]
     },
     "metadata": {
      "needs_background": "light"
     },
     "output_type": "display_data"
    }
   ],
   "source": [
    "import matplotlib.pyplot as plt\n",
    "# print(hist.history)\n",
    "plt.plot(hist.history['loss'])\n",
    "plt.plot(hist.history['mse'])\n",
    "# #plt.ylim(0.0, 1.5)\n",
    "plt.ylabel('loss')\n",
    "plt.xlabel('epoch')\n",
    "plt.legend(['loss', 'mse'], loc='upper right')\n",
    "plt.show()"
   ]
  },
  {
   "cell_type": "markdown",
   "metadata": {},
   "source": [
    "## 5. 평가 예측\n",
    "* 예측값 데이터로 사용하기 위해 모양을 맞춰줘야 한다. "
   ]
  },
  {
   "cell_type": "code",
   "execution_count": 7,
   "metadata": {},
   "outputs": [
    {
     "name": "stdout",
     "output_type": "stream",
     "text": [
      "(1, 5)\n",
      "(1, 5, 1)\n"
     ]
    }
   ],
   "source": [
    "x_predict = np.array([[4,5,6,7,8]])\n",
    "print(x_predict.shape) #(1, 5)\n",
    "x_predict = x_predict.reshape(x_predict.shape[0], x_predict.shape[1], 1)\n",
    "print(x_predict.shape)"
   ]
  },
  {
   "cell_type": "code",
   "execution_count": 8,
   "metadata": {},
   "outputs": [
    {
     "name": "stdout",
     "output_type": "stream",
     "text": [
      "예측값 :  [[10.415743]]\n"
     ]
    }
   ],
   "source": [
    "y_predict = model.predict(x_predict)\n",
    "print(\"예측값 : \", y_predict)"
   ]
  },
  {
   "cell_type": "code",
   "execution_count": null,
   "metadata": {},
   "outputs": [],
   "source": []
  }
 ],
 "metadata": {
  "kernelspec": {
   "display_name": "Python 3",
   "language": "python",
   "name": "python3"
  },
  "language_info": {
   "codemirror_mode": {
    "name": "ipython",
    "version": 3
   },
   "file_extension": ".py",
   "mimetype": "text/x-python",
   "name": "python",
   "nbconvert_exporter": "python",
   "pygments_lexer": "ipython3",
   "version": "3.7.6"
  }
 },
 "nbformat": 4,
 "nbformat_minor": 4
}
