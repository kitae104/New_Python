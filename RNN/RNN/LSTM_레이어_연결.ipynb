{
 "cells": [
  {
   "cell_type": "markdown",
   "metadata": {},
   "source": [
    "# LSTM 레이어 연결\n",
    "* LSTM층 하단에 LSTM 추가 --> 3단 이상도 가능 \n",
    "* LSTM은 3개의 차원을 필요로 하기 때문에 맞춰줘야 한다. \n",
    "* (행, 열, 피쳐) == (샘플수, 타임스탭, 피쳐) "
   ]
  },
  {
   "cell_type": "markdown",
   "metadata": {},
   "source": [
    "## 1. 데이터"
   ]
  },
  {
   "cell_type": "code",
   "execution_count": 1,
   "metadata": {},
   "outputs": [],
   "source": [
    "import numpy as np"
   ]
  },
  {
   "cell_type": "markdown",
   "metadata": {},
   "source": [
    "* x_train의 컬럼과 y_train의 벡터의 크기를 맞추기 위해 x_train을 reshape 한다.\n",
    "* __(행, 열, 피쳐)__ == __(샘플수, 타임스탭, 피쳐)__ 같은 용어!\n",
    "    * x_train : (3행, 5열, 1feature) , y_train : (3, )\n",
    "    * x의 행의 수 = y의 벡터 크기 = 1\n",
    "    * x_train의 행의 수 = y_train 의 벡터 크기 = 3\n",
    "    * [1,2,3,4,5] -> [6] 으로 처리되는 모델 훈련 "
   ]
  },
  {
   "cell_type": "code",
   "execution_count": 2,
   "metadata": {},
   "outputs": [
    {
     "name": "stdout",
     "output_type": "stream",
     "text": [
      "x_train.shape :  (3, 5)\n",
      "x_train.shape :  (3, 5, 1)\n",
      "y_train.shape :  (3,)\n"
     ]
    }
   ],
   "source": [
    "x_train = np.array([[1,2,3,4,5], [2,3,4,5,6], [3,4,5,6,7]])\n",
    "print(\"x_train.shape : \", x_train.shape) \n",
    "y_train = np.array([6,7,8])\n",
    "\n",
    "x_train = x_train.reshape(x_train.shape[0], x_train.shape[1], 1)\n",
    "print(\"x_train.shape : \", x_train.shape) \n",
    "print(\"y_train.shape : \", y_train.shape) "
   ]
  },
  {
   "cell_type": "markdown",
   "metadata": {},
   "source": [
    "## 2. 모델 구성"
   ]
  },
  {
   "cell_type": "code",
   "execution_count": 3,
   "metadata": {},
   "outputs": [],
   "source": [
    "from tensorflow.keras.models import Sequential\n",
    "from tensorflow.keras.layers import Dense, LSTM"
   ]
  },
  {
   "cell_type": "markdown",
   "metadata": {},
   "source": [
    "* return_sequences=True : LSTM레이어의 차원을 맞춰주기 위해 해당 파라미터 사용\n",
    "    - 이전 차원을 그대로 유지하겠다는 의미 \n",
    "* 출력 노드 수 : 처음 출력 노드 수\n",
    "* __input_shape(5,1)__ : 2 차원 \n",
    "    - 5 : x의 컬럼 수\n",
    "    - 1 : 연산을 할 때 몇 개씩 데이터를 묶어 연산하는지(지금의 경우엔 1개씩)\n",
    "* __(5,1) == (None, 5, 1)__ 같은 의미\n",
    "    - None : 행\n",
    "    - 5 : 열\n",
    "    - 1 : 몇 개씩 잘랐는지.. "
   ]
  },
  {
   "cell_type": "code",
   "execution_count": 4,
   "metadata": {},
   "outputs": [
    {
     "name": "stdout",
     "output_type": "stream",
     "text": [
      "Model: \"sequential\"\n",
      "_________________________________________________________________\n",
      "Layer (type)                 Output Shape              Param #   \n",
      "=================================================================\n",
      "lstm (LSTM)                  (None, 5, 7)              252       \n",
      "_________________________________________________________________\n",
      "lstm_1 (LSTM)                (None, 5, 8)              512       \n",
      "_________________________________________________________________\n",
      "lstm_2 (LSTM)                (None, 8)                 544       \n",
      "_________________________________________________________________\n",
      "dense (Dense)                (None, 4)                 36        \n",
      "_________________________________________________________________\n",
      "dense_1 (Dense)              (None, 1)                 5         \n",
      "=================================================================\n",
      "Total params: 1,349\n",
      "Trainable params: 1,349\n",
      "Non-trainable params: 0\n",
      "_________________________________________________________________\n"
     ]
    }
   ],
   "source": [
    "model = Sequential()\n",
    "model.add(LSTM(7, input_shape = (5, 1), activation ='relu', return_sequences=True ))\n",
    "model.add(LSTM(8, return_sequences=True))     # 추가 \n",
    "model.add(LSTM(8))\n",
    "model.add(Dense(4))\n",
    "model.add(Dense(1))\n",
    "model.summary()"
   ]
  },
  {
   "cell_type": "markdown",
   "metadata": {},
   "source": [
    "## 3. 훈련"
   ]
  },
  {
   "cell_type": "code",
   "execution_count": 5,
   "metadata": {},
   "outputs": [
    {
     "name": "stdout",
     "output_type": "stream",
     "text": [
      "Train on 3 samples\n",
      "Epoch 1/100\n",
      "3/3 [==============================] - 3s 1s/sample - loss: 48.3227 - mse: 48.3228\n",
      "Epoch 2/100\n",
      "3/3 [==============================] - 0s 6ms/sample - loss: 47.7223 - mse: 47.7223\n",
      "Epoch 3/100\n",
      "3/3 [==============================] - 0s 7ms/sample - loss: 47.0833 - mse: 47.0833\n",
      "Epoch 4/100\n",
      "3/3 [==============================] - 0s 7ms/sample - loss: 46.4640 - mse: 46.4640\n",
      "Epoch 5/100\n",
      "3/3 [==============================] - 0s 7ms/sample - loss: 45.8221 - mse: 45.8221\n",
      "Epoch 6/100\n",
      "3/3 [==============================] - 0s 7ms/sample - loss: 45.1510 - mse: 45.1510\n",
      "Epoch 7/100\n",
      "3/3 [==============================] - 0s 7ms/sample - loss: 44.4285 - mse: 44.4285\n",
      "Epoch 8/100\n",
      "3/3 [==============================] - 0s 7ms/sample - loss: 43.7015 - mse: 43.7015\n",
      "Epoch 9/100\n",
      "3/3 [==============================] - 0s 6ms/sample - loss: 42.9424 - mse: 42.9424\n",
      "Epoch 10/100\n",
      "3/3 [==============================] - 0s 7ms/sample - loss: 42.0321 - mse: 42.0321\n",
      "Epoch 11/100\n",
      "3/3 [==============================] - 0s 6ms/sample - loss: 41.1560 - mse: 41.1560\n",
      "Epoch 12/100\n",
      "3/3 [==============================] - 0s 7ms/sample - loss: 40.0942 - mse: 40.0942\n",
      "Epoch 13/100\n",
      "3/3 [==============================] - 0s 6ms/sample - loss: 39.0993 - mse: 39.0993\n",
      "Epoch 14/100\n",
      "3/3 [==============================] - 0s 7ms/sample - loss: 37.8861 - mse: 37.8861\n",
      "Epoch 15/100\n",
      "3/3 [==============================] - 0s 6ms/sample - loss: 36.5419 - mse: 36.5419\n",
      "Epoch 16/100\n",
      "3/3 [==============================] - 0s 7ms/sample - loss: 35.1645 - mse: 35.1645\n",
      "Epoch 17/100\n",
      "3/3 [==============================] - 0s 7ms/sample - loss: 33.7857 - mse: 33.7857\n",
      "Epoch 18/100\n",
      "3/3 [==============================] - 0s 7ms/sample - loss: 32.1176 - mse: 32.1176\n",
      "Epoch 19/100\n",
      "3/3 [==============================] - 0s 7ms/sample - loss: 30.3874 - mse: 30.3875\n",
      "Epoch 20/100\n",
      "3/3 [==============================] - 0s 7ms/sample - loss: 28.4610 - mse: 28.4610\n",
      "Epoch 21/100\n",
      "3/3 [==============================] - 0s 6ms/sample - loss: 26.6219 - mse: 26.6219\n",
      "Epoch 22/100\n",
      "3/3 [==============================] - 0s 6ms/sample - loss: 24.5886 - mse: 24.5886\n",
      "Epoch 23/100\n",
      "3/3 [==============================] - 0s 7ms/sample - loss: 22.4100 - mse: 22.4100\n",
      "Epoch 24/100\n",
      "3/3 [==============================] - 0s 6ms/sample - loss: 20.3202 - mse: 20.3202\n",
      "Epoch 25/100\n",
      "3/3 [==============================] - 0s 7ms/sample - loss: 18.3239 - mse: 18.3239\n",
      "Epoch 26/100\n",
      "3/3 [==============================] - 0s 7ms/sample - loss: 16.2675 - mse: 16.2675\n",
      "Epoch 27/100\n",
      "3/3 [==============================] - 0s 7ms/sample - loss: 14.2230 - mse: 14.2230\n",
      "Epoch 28/100\n",
      "3/3 [==============================] - 0s 7ms/sample - loss: 12.5086 - mse: 12.5086\n",
      "Epoch 29/100\n",
      "3/3 [==============================] - 0s 6ms/sample - loss: 10.6813 - mse: 10.6813\n",
      "Epoch 30/100\n",
      "3/3 [==============================] - 0s 7ms/sample - loss: 9.2146 - mse: 9.2146\n",
      "Epoch 31/100\n",
      "3/3 [==============================] - 0s 6ms/sample - loss: 7.7294 - mse: 7.7294\n",
      "Epoch 32/100\n",
      "3/3 [==============================] - 0s 6ms/sample - loss: 6.6104 - mse: 6.6104\n",
      "Epoch 33/100\n",
      "3/3 [==============================] - 0s 7ms/sample - loss: 5.5384 - mse: 5.5384\n",
      "Epoch 34/100\n",
      "3/3 [==============================] - 0s 7ms/sample - loss: 4.5285 - mse: 4.5285\n",
      "Epoch 35/100\n",
      "3/3 [==============================] - 0s 7ms/sample - loss: 3.8405 - mse: 3.8405\n",
      "Epoch 36/100\n",
      "3/3 [==============================] - 0s 6ms/sample - loss: 3.1686 - mse: 3.1686\n",
      "Epoch 37/100\n",
      "3/3 [==============================] - 0s 6ms/sample - loss: 2.5413 - mse: 2.5413\n",
      "Epoch 38/100\n",
      "3/3 [==============================] - 0s 6ms/sample - loss: 2.1645 - mse: 2.1645\n",
      "Epoch 39/100\n",
      "3/3 [==============================] - 0s 6ms/sample - loss: 1.7448 - mse: 1.7448\n",
      "Epoch 40/100\n",
      "3/3 [==============================] - 0s 7ms/sample - loss: 1.4871 - mse: 1.4871\n",
      "Epoch 41/100\n",
      "3/3 [==============================] - 0s 6ms/sample - loss: 1.2583 - mse: 1.2583\n",
      "Epoch 42/100\n",
      "3/3 [==============================] - 0s 7ms/sample - loss: 1.0396 - mse: 1.0396\n",
      "Epoch 43/100\n",
      "3/3 [==============================] - 0s 6ms/sample - loss: 0.8572 - mse: 0.8572\n",
      "Epoch 44/100\n",
      "3/3 [==============================] - 0s 7ms/sample - loss: 0.7762 - mse: 0.7762\n",
      "Epoch 45/100\n",
      "3/3 [==============================] - 0s 7ms/sample - loss: 0.6849 - mse: 0.6849\n",
      "Epoch 46/100\n",
      "3/3 [==============================] - 0s 7ms/sample - loss: 0.5937 - mse: 0.5937\n",
      "Epoch 47/100\n",
      "3/3 [==============================] - 0s 6ms/sample - loss: 0.5696 - mse: 0.5696\n",
      "Epoch 48/100\n",
      "3/3 [==============================] - 0s 7ms/sample - loss: 0.5047 - mse: 0.5047\n",
      "Epoch 49/100\n",
      "3/3 [==============================] - 0s 7ms/sample - loss: 0.5054 - mse: 0.5054\n",
      "Epoch 50/100\n",
      "3/3 [==============================] - 0s 7ms/sample - loss: 0.4691 - mse: 0.4691\n",
      "Epoch 51/100\n",
      "3/3 [==============================] - 0s 6ms/sample - loss: 0.4700 - mse: 0.4700\n",
      "Epoch 52/100\n",
      "3/3 [==============================] - 0s 7ms/sample - loss: 0.4584 - mse: 0.4584\n",
      "Epoch 53/100\n",
      "3/3 [==============================] - 0s 6ms/sample - loss: 0.4392 - mse: 0.4392\n",
      "Epoch 54/100\n",
      "3/3 [==============================] - 0s 6ms/sample - loss: 0.4503 - mse: 0.4503\n",
      "Epoch 55/100\n",
      "3/3 [==============================] - 0s 6ms/sample - loss: 0.4408 - mse: 0.4408\n",
      "Epoch 56/100\n",
      "3/3 [==============================] - 0s 6ms/sample - loss: 0.4323 - mse: 0.4323\n",
      "Epoch 57/100\n",
      "3/3 [==============================] - 0s 6ms/sample - loss: 0.4308 - mse: 0.4308\n",
      "Epoch 58/100\n",
      "3/3 [==============================] - 0s 7ms/sample - loss: 0.4336 - mse: 0.4336\n",
      "Epoch 59/100\n",
      "3/3 [==============================] - 0s 7ms/sample - loss: 0.4303 - mse: 0.4303  \n",
      "Epoch 60/100\n",
      "3/3 [==============================] - 0s 6ms/sample - loss: 0.4284 - mse: 0.4284\n",
      "Epoch 61/100\n",
      "3/3 [==============================] - 0s 6ms/sample - loss: 0.4263 - mse: 0.4263\n",
      "Epoch 62/100\n",
      "3/3 [==============================] - 0s 6ms/sample - loss: 0.4270 - mse: 0.4270\n",
      "Epoch 63/100\n",
      "3/3 [==============================] - 0s 6ms/sample - loss: 0.4249 - mse: 0.4249\n",
      "Epoch 64/100\n",
      "3/3 [==============================] - 0s 7ms/sample - loss: 0.4210 - mse: 0.4210\n",
      "Epoch 65/100\n",
      "3/3 [==============================] - 0s 7ms/sample - loss: 0.4193 - mse: 0.4193\n",
      "Epoch 66/100\n",
      "3/3 [==============================] - 0s 7ms/sample - loss: 0.4199 - mse: 0.4199\n",
      "Epoch 67/100\n",
      "3/3 [==============================] - 0s 6ms/sample - loss: 0.4174 - mse: 0.4174\n",
      "Epoch 68/100\n",
      "3/3 [==============================] - 0s 6ms/sample - loss: 0.4170 - mse: 0.4170\n",
      "Epoch 69/100\n",
      "3/3 [==============================] - 0s 6ms/sample - loss: 0.4128 - mse: 0.4128\n",
      "Epoch 70/100\n",
      "3/3 [==============================] - 0s 7ms/sample - loss: 0.4120 - mse: 0.4120\n",
      "Epoch 71/100\n",
      "3/3 [==============================] - 0s 6ms/sample - loss: 0.4085 - mse: 0.4085\n",
      "Epoch 72/100\n",
      "3/3 [==============================] - 0s 7ms/sample - loss: 0.4071 - mse: 0.4071\n",
      "Epoch 73/100\n",
      "3/3 [==============================] - 0s 6ms/sample - loss: 0.4049 - mse: 0.4049\n",
      "Epoch 74/100\n",
      "3/3 [==============================] - 0s 6ms/sample - loss: 0.4044 - mse: 0.4044\n",
      "Epoch 75/100\n",
      "3/3 [==============================] - 0s 6ms/sample - loss: 0.4018 - mse: 0.4018\n",
      "Epoch 76/100\n",
      "3/3 [==============================] - 0s 7ms/sample - loss: 0.3984 - mse: 0.3984\n",
      "Epoch 77/100\n",
      "3/3 [==============================] - 0s 7ms/sample - loss: 0.3988 - mse: 0.3988\n",
      "Epoch 78/100\n",
      "3/3 [==============================] - 0s 6ms/sample - loss: 0.3940 - mse: 0.3940\n",
      "Epoch 79/100\n",
      "3/3 [==============================] - 0s 6ms/sample - loss: 0.3919 - mse: 0.3919\n",
      "Epoch 80/100\n",
      "3/3 [==============================] - 0s 7ms/sample - loss: 0.3913 - mse: 0.3913\n",
      "Epoch 81/100\n",
      "3/3 [==============================] - 0s 6ms/sample - loss: 0.3887 - mse: 0.3887\n",
      "Epoch 82/100\n",
      "3/3 [==============================] - 0s 7ms/sample - loss: 0.3860 - mse: 0.3860\n",
      "Epoch 83/100\n",
      "3/3 [==============================] - 0s 6ms/sample - loss: 0.3835 - mse: 0.3835\n",
      "Epoch 84/100\n",
      "3/3 [==============================] - 0s 7ms/sample - loss: 0.3816 - mse: 0.3816\n",
      "Epoch 85/100\n",
      "3/3 [==============================] - 0s 7ms/sample - loss: 0.3791 - mse: 0.3791\n",
      "Epoch 86/100\n"
     ]
    },
    {
     "name": "stdout",
     "output_type": "stream",
     "text": [
      "3/3 [==============================] - 0s 7ms/sample - loss: 0.3771 - mse: 0.3771\n",
      "Epoch 87/100\n",
      "3/3 [==============================] - 0s 7ms/sample - loss: 0.3737 - mse: 0.3737\n",
      "Epoch 88/100\n",
      "3/3 [==============================] - 0s 6ms/sample - loss: 0.3729 - mse: 0.3729\n",
      "Epoch 89/100\n",
      "3/3 [==============================] - 0s 6ms/sample - loss: 0.3724 - mse: 0.3724\n",
      "Epoch 90/100\n",
      "3/3 [==============================] - 0s 6ms/sample - loss: 0.3670 - mse: 0.3670\n",
      "Epoch 91/100\n",
      "3/3 [==============================] - 0s 6ms/sample - loss: 0.3644 - mse: 0.3644  \n",
      "Epoch 92/100\n",
      "3/3 [==============================] - 0s 7ms/sample - loss: 0.3631 - mse: 0.3631\n",
      "Epoch 93/100\n",
      "3/3 [==============================] - 0s 7ms/sample - loss: 0.3601 - mse: 0.3601\n",
      "Epoch 94/100\n",
      "3/3 [==============================] - 0s 6ms/sample - loss: 0.3574 - mse: 0.3574\n",
      "Epoch 95/100\n",
      "3/3 [==============================] - 0s 6ms/sample - loss: 0.3559 - mse: 0.3559\n",
      "Epoch 96/100\n",
      "3/3 [==============================] - 0s 6ms/sample - loss: 0.3510 - mse: 0.3510\n",
      "Epoch 97/100\n",
      "3/3 [==============================] - 0s 6ms/sample - loss: 0.3499 - mse: 0.3499\n",
      "Epoch 98/100\n",
      "3/3 [==============================] - 0s 6ms/sample - loss: 0.3466 - mse: 0.3466\n",
      "Epoch 99/100\n",
      "3/3 [==============================] - 0s 6ms/sample - loss: 0.3458 - mse: 0.3458\n",
      "Epoch 100/100\n",
      "3/3 [==============================] - 0s 7ms/sample - loss: 0.3405 - mse: 0.3405\n"
     ]
    }
   ],
   "source": [
    "model.compile(loss='mse', optimizer='adam', metrics=['mse'])\n",
    "hist = model.fit(x_train, y_train, epochs=100, batch_size=1)"
   ]
  },
  {
   "cell_type": "markdown",
   "metadata": {},
   "source": [
    "## 4. 학습과정확인"
   ]
  },
  {
   "cell_type": "code",
   "execution_count": 6,
   "metadata": {},
   "outputs": [
    {
     "data": {
      "image/png": "[encoded data removed]",
      "text/plain": [
       "<Figure size 432x288 with 1 Axes>"
      ]
     },
     "metadata": {
      "needs_background": "light"
     },
     "output_type": "display_data"
    }
   ],
   "source": [
    "import matplotlib.pyplot as plt\n",
    "# print(hist.history)\n",
    "plt.plot(hist.history['loss'])\n",
    "plt.plot(hist.history['mse'])\n",
    "# #plt.ylim(0.0, 1.5)\n",
    "plt.ylabel('loss')\n",
    "plt.xlabel('epoch')\n",
    "plt.legend(['loss', 'mse'], loc='upper right')\n",
    "plt.show()"
   ]
  },
  {
   "cell_type": "markdown",
   "metadata": {},
   "source": [
    "## 5. 평가 예측\n",
    "* 예측값 데이터로 사용하기 위해 모양을 맞춰줘야 한다. "
   ]
  },
  {
   "cell_type": "code",
   "execution_count": 7,
   "metadata": {},
   "outputs": [
    {
     "name": "stdout",
     "output_type": "stream",
     "text": [
      "(1, 5)\n",
      "(1, 5, 1)\n"
     ]
    }
   ],
   "source": [
    "x_predict = np.array([[4,5,6,7,8]])\n",
    "print(x_predict.shape) #(1, 5)\n",
    "x_predict = x_predict.reshape(x_predict.shape[0], x_predict.shape[1], 1)\n",
    "print(x_predict.shape)"
   ]
  },
  {
   "cell_type": "code",
   "execution_count": 8,
   "metadata": {},
   "outputs": [
    {
     "name": "stdout",
     "output_type": "stream",
     "text": [
      "예측값 :  [[7.3075037]]\n"
     ]
    }
   ],
   "source": [
    "y_predict = model.predict(x_predict)\n",
    "print(\"예측값 : \", y_predict)"
   ]
  },
  {
   "cell_type": "code",
   "execution_count": null,
   "metadata": {},
   "outputs": [],
   "source": []
  }
 ],
 "metadata": {
  "kernelspec": {
   "display_name": "Python 3",
   "language": "python",
   "name": "python3"
  },
  "language_info": {
   "codemirror_mode": {
    "name": "ipython",
    "version": 3
   },
   "file_extension": ".py",
   "mimetype": "text/x-python",
   "name": "python",
   "nbconvert_exporter": "python",
   "pygments_lexer": "ipython3",
   "version": "3.7.6"
  }
 },
 "nbformat": 4,
 "nbformat_minor": 4
}
