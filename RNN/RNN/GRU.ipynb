{
 "cells": [
  {
   "cell_type": "markdown",
   "metadata": {},
   "source": [
    "# GRU\n",
    "* GRU는 LSTM의 아웃풋 게이트를 두지않고 LSTM을 간단하게 변경한 구조\n",
    "* 기존의 LSTM보다 약간 빨라지고, 성능은 거의 비슷하거나 약간 낮은 상태 "
   ]
  },
  {
   "cell_type": "markdown",
   "metadata": {},
   "source": [
    "## 1. 데이터"
   ]
  },
  {
   "cell_type": "code",
   "execution_count": 5,
   "metadata": {},
   "outputs": [],
   "source": [
    "import numpy as np"
   ]
  },
  {
   "cell_type": "markdown",
   "metadata": {},
   "source": [
    "* x_train의 컬럼과 y_train의 벡터의 크기를 맞추기 위해 x_train을 reshape 한다.\n",
    "* __(행, 열, 피쳐)__ == __(샘플수, 타임스탭, 피쳐)__ 같은 용어!\n",
    "    * x_train : (3행, 5열, 1feature) , y_train : (3, )\n",
    "    * x의 행의 수 = y의 벡터 크기 = 1\n",
    "    * x_train의 행의 수 = y_train 의 벡터 크기 = 3\n",
    "    * [1,2,3,4,5] -> [6] 으로 처리되는 모델 훈련 "
   ]
  },
  {
   "cell_type": "code",
   "execution_count": 6,
   "metadata": {},
   "outputs": [
    {
     "name": "stdout",
     "output_type": "stream",
     "text": [
      "x_train.shape :  (3, 5)\n",
      "x_train.shape :  (3, 5, 1)\n",
      "y_train.shape :  (3,)\n"
     ]
    }
   ],
   "source": [
    "x_train = np.array([[1,2,3,4,5], [2,3,4,5,6], [3,4,5,6,7]])\n",
    "print(\"x_train.shape : \", x_train.shape) \n",
    "y_train = np.array([6,7,8])\n",
    "\n",
    "x_train = x_train.reshape(x_train.shape[0], x_train.shape[1], 1)\n",
    "print(\"x_train.shape : \", x_train.shape) \n",
    "print(\"y_train.shape : \", y_train.shape) "
   ]
  },
  {
   "cell_type": "markdown",
   "metadata": {},
   "source": [
    "## 2. 모델 구성"
   ]
  },
  {
   "cell_type": "code",
   "execution_count": 7,
   "metadata": {},
   "outputs": [],
   "source": [
    "from tensorflow.keras.models import Sequential\n",
    "from tensorflow.keras.layers import Dense, GRU"
   ]
  },
  {
   "cell_type": "markdown",
   "metadata": {},
   "source": [
    "* 기존의 SimpleRNN보다 4배 정도 추가 연산 수행 \n",
    "* 출력 노드 수 : 처음 출력 노드 수\n",
    "* __input_shape(5,1)__ : 2 차원 \n",
    "    - 5 : x의 컬럼 수\n",
    "    - 1 : 연산을 할 때 몇 개씩 데이터를 묶어 연산하는지(지금의 경우엔 1개씩)\n",
    "* __(5,1) == (None, 5, 1)__ 같은 의미\n",
    "    - None : 행\n",
    "    - 5 : 열\n",
    "    - 1 : 몇 개씩 잘랐는지.. "
   ]
  },
  {
   "cell_type": "code",
   "execution_count": 8,
   "metadata": {},
   "outputs": [
    {
     "name": "stdout",
     "output_type": "stream",
     "text": [
      "Model: \"sequential_1\"\n",
      "_________________________________________________________________\n",
      "Layer (type)                 Output Shape              Param #   \n",
      "=================================================================\n",
      "gru_1 (GRU)                  (None, 7)                 210       \n",
      "_________________________________________________________________\n",
      "dense_2 (Dense)              (None, 4)                 32        \n",
      "_________________________________________________________________\n",
      "dense_3 (Dense)              (None, 1)                 5         \n",
      "=================================================================\n",
      "Total params: 247\n",
      "Trainable params: 247\n",
      "Non-trainable params: 0\n",
      "_________________________________________________________________\n"
     ]
    }
   ],
   "source": [
    "model = Sequential()\n",
    "model.add(GRU(7, input_shape = (5,1), activation='relu'))  # 7은 output node 수\n",
    "model.add(Dense(4))\n",
    "model.add(Dense(1))\n",
    "model.summary()"
   ]
  },
  {
   "cell_type": "markdown",
   "metadata": {},
   "source": [
    "## 3. 훈련"
   ]
  },
  {
   "cell_type": "code",
   "execution_count": 9,
   "metadata": {},
   "outputs": [
    {
     "name": "stdout",
     "output_type": "stream",
     "text": [
      "Train on 3 samples\n",
      "Epoch 1/100\n",
      "3/3 [==============================] - 1s 220ms/sample - loss: 38.7156 - mse: 38.7156\n",
      "Epoch 2/100\n",
      "3/3 [==============================] - 0s 4ms/sample - loss: 37.0687 - mse: 37.0687\n",
      "Epoch 3/100\n",
      "3/3 [==============================] - 0s 4ms/sample - loss: 35.4003 - mse: 35.4003\n",
      "Epoch 4/100\n",
      "3/3 [==============================] - 0s 4ms/sample - loss: 33.7629 - mse: 33.7629\n",
      "Epoch 5/100\n",
      "3/3 [==============================] - 0s 4ms/sample - loss: 32.1356 - mse: 32.1356\n",
      "Epoch 6/100\n",
      "3/3 [==============================] - 0s 4ms/sample - loss: 30.6614 - mse: 30.6614\n",
      "Epoch 7/100\n",
      "3/3 [==============================] - 0s 4ms/sample - loss: 28.9152 - mse: 28.9152\n",
      "Epoch 8/100\n",
      "3/3 [==============================] - 0s 4ms/sample - loss: 27.2965 - mse: 27.2965\n",
      "Epoch 9/100\n",
      "3/3 [==============================] - 0s 4ms/sample - loss: 25.8745 - mse: 25.8745\n",
      "Epoch 10/100\n",
      "3/3 [==============================] - 0s 3ms/sample - loss: 24.2266 - mse: 24.2266\n",
      "Epoch 11/100\n",
      "3/3 [==============================] - 0s 4ms/sample - loss: 22.7763 - mse: 22.7763\n",
      "Epoch 12/100\n",
      "3/3 [==============================] - 0s 4ms/sample - loss: 21.1661 - mse: 21.1661\n",
      "Epoch 13/100\n",
      "3/3 [==============================] - 0s 4ms/sample - loss: 19.6283 - mse: 19.6283\n",
      "Epoch 14/100\n",
      "3/3 [==============================] - 0s 4ms/sample - loss: 18.1626 - mse: 18.1626\n",
      "Epoch 15/100\n",
      "3/3 [==============================] - 0s 4ms/sample - loss: 16.7161 - mse: 16.7161\n",
      "Epoch 16/100\n",
      "3/3 [==============================] - 0s 4ms/sample - loss: 15.4528 - mse: 15.4528\n",
      "Epoch 17/100\n",
      "3/3 [==============================] - 0s 4ms/sample - loss: 13.9840 - mse: 13.9840\n",
      "Epoch 18/100\n",
      "3/3 [==============================] - 0s 3ms/sample - loss: 12.5010 - mse: 12.5010\n",
      "Epoch 19/100\n",
      "3/3 [==============================] - 0s 4ms/sample - loss: 11.1967 - mse: 11.1967\n",
      "Epoch 20/100\n",
      "3/3 [==============================] - 0s 4ms/sample - loss: 9.9338 - mse: 9.9338\n",
      "Epoch 21/100\n",
      "3/3 [==============================] - 0s 4ms/sample - loss: 8.8502 - mse: 8.8502\n",
      "Epoch 22/100\n",
      "3/3 [==============================] - 0s 4ms/sample - loss: 7.6580 - mse: 7.6580\n",
      "Epoch 23/100\n",
      "3/3 [==============================] - 0s 4ms/sample - loss: 6.4563 - mse: 6.4563\n",
      "Epoch 24/100\n",
      "3/3 [==============================] - 0s 4ms/sample - loss: 5.4845 - mse: 5.4845\n",
      "Epoch 25/100\n",
      "3/3 [==============================] - 0s 4ms/sample - loss: 4.5255 - mse: 4.5255\n",
      "Epoch 26/100\n",
      "3/3 [==============================] - 0s 4ms/sample - loss: 3.6523 - mse: 3.6523\n",
      "Epoch 27/100\n",
      "3/3 [==============================] - 0s 4ms/sample - loss: 2.8200 - mse: 2.8200\n",
      "Epoch 28/100\n",
      "3/3 [==============================] - 0s 4ms/sample - loss: 2.1669 - mse: 2.1669\n",
      "Epoch 29/100\n",
      "3/3 [==============================] - 0s 4ms/sample - loss: 1.5867 - mse: 1.5867\n",
      "Epoch 30/100\n",
      "3/3 [==============================] - 0s 4ms/sample - loss: 1.1066 - mse: 1.1066\n",
      "Epoch 31/100\n",
      "3/3 [==============================] - 0s 4ms/sample - loss: 0.7337 - mse: 0.7337\n",
      "Epoch 32/100\n",
      "3/3 [==============================] - 0s 5ms/sample - loss: 0.4369 - mse: 0.4369\n",
      "Epoch 33/100\n",
      "3/3 [==============================] - 0s 4ms/sample - loss: 0.2406 - mse: 0.2406\n",
      "Epoch 34/100\n",
      "3/3 [==============================] - 0s 4ms/sample - loss: 0.1115 - mse: 0.1115\n",
      "Epoch 35/100\n",
      "3/3 [==============================] - 0s 4ms/sample - loss: 0.0637 - mse: 0.0637\n",
      "Epoch 36/100\n",
      "3/3 [==============================] - 0s 4ms/sample - loss: 0.0327 - mse: 0.0327\n",
      "Epoch 37/100\n",
      "3/3 [==============================] - 0s 4ms/sample - loss: 0.0551 - mse: 0.0551\n",
      "Epoch 38/100\n",
      "3/3 [==============================] - 0s 4ms/sample - loss: 0.0591 - mse: 0.0591\n",
      "Epoch 39/100\n",
      "3/3 [==============================] - 0s 3ms/sample - loss: 0.0772 - mse: 0.0772\n",
      "Epoch 40/100\n",
      "3/3 [==============================] - 0s 4ms/sample - loss: 0.0788 - mse: 0.0788\n",
      "Epoch 41/100\n",
      "3/3 [==============================] - 0s 4ms/sample - loss: 0.0743 - mse: 0.0743\n",
      "Epoch 42/100\n",
      "3/3 [==============================] - 0s 4ms/sample - loss: 0.0625 - mse: 0.0625\n",
      "Epoch 43/100\n",
      "3/3 [==============================] - 0s 4ms/sample - loss: 0.0540 - mse: 0.0540\n",
      "Epoch 44/100\n",
      "3/3 [==============================] - 0s 4ms/sample - loss: 0.0513 - mse: 0.0513\n",
      "Epoch 45/100\n",
      "3/3 [==============================] - 0s 4ms/sample - loss: 0.0471 - mse: 0.0471\n",
      "Epoch 46/100\n",
      "3/3 [==============================] - 0s 4ms/sample - loss: 0.0387 - mse: 0.0387\n",
      "Epoch 47/100\n",
      "3/3 [==============================] - 0s 4ms/sample - loss: 0.0374 - mse: 0.0374  \n",
      "Epoch 48/100\n",
      "3/3 [==============================] - 0s 4ms/sample - loss: 0.0402 - mse: 0.0402\n",
      "Epoch 49/100\n",
      "3/3 [==============================] - 0s 4ms/sample - loss: 0.0382 - mse: 0.0382\n",
      "Epoch 50/100\n",
      "3/3 [==============================] - 0s 4ms/sample - loss: 0.0385 - mse: 0.0385\n",
      "Epoch 51/100\n",
      "3/3 [==============================] - 0s 4ms/sample - loss: 0.0388 - mse: 0.0388\n",
      "Epoch 52/100\n",
      "3/3 [==============================] - 0s 3ms/sample - loss: 0.0389 - mse: 0.0389\n",
      "Epoch 53/100\n",
      "3/3 [==============================] - 0s 4ms/sample - loss: 0.0380 - mse: 0.0380\n",
      "Epoch 54/100\n",
      "3/3 [==============================] - 0s 4ms/sample - loss: 0.0372 - mse: 0.0372\n",
      "Epoch 55/100\n",
      "3/3 [==============================] - 0s 4ms/sample - loss: 0.0369 - mse: 0.0369\n",
      "Epoch 56/100\n",
      "3/3 [==============================] - 0s 4ms/sample - loss: 0.0371 - mse: 0.0371\n",
      "Epoch 57/100\n",
      "3/3 [==============================] - 0s 3ms/sample - loss: 0.0365 - mse: 0.0365\n",
      "Epoch 58/100\n",
      "3/3 [==============================] - 0s 4ms/sample - loss: 0.0363 - mse: 0.0363\n",
      "Epoch 59/100\n",
      "3/3 [==============================] - 0s 4ms/sample - loss: 0.0357 - mse: 0.0357  \n",
      "Epoch 60/100\n",
      "3/3 [==============================] - 0s 4ms/sample - loss: 0.0356 - mse: 0.0356\n",
      "Epoch 61/100\n",
      "3/3 [==============================] - 0s 4ms/sample - loss: 0.0355 - mse: 0.0355\n",
      "Epoch 62/100\n",
      "3/3 [==============================] - 0s 4ms/sample - loss: 0.0355 - mse: 0.0355\n",
      "Epoch 63/100\n",
      "3/3 [==============================] - 0s 3ms/sample - loss: 0.0350 - mse: 0.0350\n",
      "Epoch 64/100\n",
      "3/3 [==============================] - 0s 4ms/sample - loss: 0.0347 - mse: 0.0347  \n",
      "Epoch 65/100\n",
      "3/3 [==============================] - 0s 4ms/sample - loss: 0.0345 - mse: 0.0345  \n",
      "Epoch 66/100\n",
      "3/3 [==============================] - 0s 4ms/sample - loss: 0.0345 - mse: 0.0345  \n",
      "Epoch 67/100\n",
      "3/3 [==============================] - 0s 4ms/sample - loss: 0.0343 - mse: 0.0343\n",
      "Epoch 68/100\n",
      "3/3 [==============================] - 0s 4ms/sample - loss: 0.0340 - mse: 0.0340  \n",
      "Epoch 69/100\n",
      "3/3 [==============================] - 0s 4ms/sample - loss: 0.0338 - mse: 0.0338  \n",
      "Epoch 70/100\n",
      "3/3 [==============================] - 0s 4ms/sample - loss: 0.0338 - mse: 0.0338\n",
      "Epoch 71/100\n",
      "3/3 [==============================] - 0s 4ms/sample - loss: 0.0336 - mse: 0.0336\n",
      "Epoch 72/100\n",
      "3/3 [==============================] - 0s 4ms/sample - loss: 0.0336 - mse: 0.0336\n",
      "Epoch 73/100\n",
      "3/3 [==============================] - 0s 4ms/sample - loss: 0.0332 - mse: 0.0332\n",
      "Epoch 74/100\n",
      "3/3 [==============================] - 0s 4ms/sample - loss: 0.0328 - mse: 0.0328\n",
      "Epoch 75/100\n",
      "3/3 [==============================] - 0s 5ms/sample - loss: 0.0331 - mse: 0.0331\n",
      "Epoch 76/100\n",
      "3/3 [==============================] - 0s 4ms/sample - loss: 0.0322 - mse: 0.0322  \n",
      "Epoch 77/100\n",
      "3/3 [==============================] - 0s 4ms/sample - loss: 0.0321 - mse: 0.0321\n",
      "Epoch 78/100\n",
      "3/3 [==============================] - 0s 4ms/sample - loss: 0.0318 - mse: 0.0318  \n",
      "Epoch 79/100\n",
      "3/3 [==============================] - 0s 4ms/sample - loss: 0.0317 - mse: 0.0317\n",
      "Epoch 80/100\n",
      "3/3 [==============================] - 0s 4ms/sample - loss: 0.0317 - mse: 0.0317  \n",
      "Epoch 81/100\n",
      "3/3 [==============================] - 0s 4ms/sample - loss: 0.0314 - mse: 0.0314\n",
      "Epoch 82/100\n",
      "3/3 [==============================] - 0s 4ms/sample - loss: 0.0312 - mse: 0.0312  \n",
      "Epoch 83/100\n",
      "3/3 [==============================] - 0s 4ms/sample - loss: 0.0310 - mse: 0.0310\n",
      "Epoch 84/100\n",
      "3/3 [==============================] - 0s 4ms/sample - loss: 0.0309 - mse: 0.0309\n",
      "Epoch 85/100\n",
      "3/3 [==============================] - 0s 4ms/sample - loss: 0.0305 - mse: 0.0305\n",
      "Epoch 86/100\n"
     ]
    },
    {
     "name": "stdout",
     "output_type": "stream",
     "text": [
      "3/3 [==============================] - 0s 4ms/sample - loss: 0.0305 - mse: 0.0305  \n",
      "Epoch 87/100\n",
      "3/3 [==============================] - 0s 4ms/sample - loss: 0.0303 - mse: 0.0303\n",
      "Epoch 88/100\n",
      "3/3 [==============================] - 0s 4ms/sample - loss: 0.0300 - mse: 0.0300\n",
      "Epoch 89/100\n",
      "3/3 [==============================] - 0s 4ms/sample - loss: 0.0296 - mse: 0.0296  \n",
      "Epoch 90/100\n",
      "3/3 [==============================] - 0s 4ms/sample - loss: 0.0297 - mse: 0.0297  \n",
      "Epoch 91/100\n",
      "3/3 [==============================] - 0s 4ms/sample - loss: 0.0295 - mse: 0.0295  \n",
      "Epoch 92/100\n",
      "3/3 [==============================] - 0s 4ms/sample - loss: 0.0293 - mse: 0.0293\n",
      "Epoch 93/100\n",
      "3/3 [==============================] - 0s 4ms/sample - loss: 0.0291 - mse: 0.0291  \n",
      "Epoch 94/100\n",
      "3/3 [==============================] - 0s 4ms/sample - loss: 0.0291 - mse: 0.0291\n",
      "Epoch 95/100\n",
      "3/3 [==============================] - 0s 4ms/sample - loss: 0.0288 - mse: 0.0288\n",
      "Epoch 96/100\n",
      "3/3 [==============================] - 0s 4ms/sample - loss: 0.0284 - mse: 0.0284\n",
      "Epoch 97/100\n",
      "3/3 [==============================] - 0s 4ms/sample - loss: 0.0288 - mse: 0.0288\n",
      "Epoch 98/100\n",
      "3/3 [==============================] - 0s 4ms/sample - loss: 0.0284 - mse: 0.0284\n",
      "Epoch 99/100\n",
      "3/3 [==============================] - 0s 4ms/sample - loss: 0.0279 - mse: 0.0279  \n",
      "Epoch 100/100\n",
      "3/3 [==============================] - 0s 4ms/sample - loss: 0.0278 - mse: 0.0278\n"
     ]
    }
   ],
   "source": [
    "model.compile(loss='mse', optimizer='adam', metrics=['mse'])\n",
    "hist = model.fit(x_train, y_train, epochs=100, batch_size=1)"
   ]
  },
  {
   "cell_type": "markdown",
   "metadata": {},
   "source": [
    "## 4. 학습과정확인"
   ]
  },
  {
   "cell_type": "code",
   "execution_count": 10,
   "metadata": {},
   "outputs": [
    {
     "data": {
      "image/png": "[encoded data removed]",
      "text/plain": [
       "<Figure size 432x288 with 1 Axes>"
      ]
     },
     "metadata": {
      "needs_background": "light"
     },
     "output_type": "display_data"
    }
   ],
   "source": [
    "import matplotlib.pyplot as plt\n",
    "# print(hist.history)\n",
    "plt.plot(hist.history['loss'])\n",
    "plt.plot(hist.history['mse'])\n",
    "# #plt.ylim(0.0, 1.5)\n",
    "plt.ylabel('loss')\n",
    "plt.xlabel('epoch')\n",
    "plt.legend(['loss', 'mse'], loc='upper right')\n",
    "plt.show()"
   ]
  },
  {
   "cell_type": "markdown",
   "metadata": {},
   "source": [
    "## 5. 평가 예측\n",
    "* 예측값 데이터로 사용하기 위해 모양을 맞춰줘야 한다. "
   ]
  },
  {
   "cell_type": "code",
   "execution_count": 11,
   "metadata": {},
   "outputs": [
    {
     "name": "stdout",
     "output_type": "stream",
     "text": [
      "(1, 5)\n",
      "(1, 5, 1)\n"
     ]
    }
   ],
   "source": [
    "x_predict = np.array([[4,5,6,7,8]])\n",
    "print(x_predict.shape) #(1, 5)\n",
    "x_predict = x_predict.reshape(x_predict.shape[0], x_predict.shape[1], 1)\n",
    "print(x_predict.shape)"
   ]
  },
  {
   "cell_type": "code",
   "execution_count": 12,
   "metadata": {},
   "outputs": [
    {
     "name": "stdout",
     "output_type": "stream",
     "text": [
      "예측값 :  [[9.334608]]\n"
     ]
    }
   ],
   "source": [
    "y_predict = model.predict(x_predict)\n",
    "print(\"예측값 : \", y_predict)"
   ]
  },
  {
   "cell_type": "code",
   "execution_count": null,
   "metadata": {},
   "outputs": [],
   "source": []
  }
 ],
 "metadata": {
  "kernelspec": {
   "display_name": "Python 3",
   "language": "python",
   "name": "python3"
  },
  "language_info": {
   "codemirror_mode": {
    "name": "ipython",
    "version": 3
   },
   "file_extension": ".py",
   "mimetype": "text/x-python",
   "name": "python",
   "nbconvert_exporter": "python",
   "pygments_lexer": "ipython3",
   "version": "3.7.6"
  }
 },
 "nbformat": 4,
 "nbformat_minor": 4
}
