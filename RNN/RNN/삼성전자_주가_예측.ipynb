{
 "cells": [
  {
   "cell_type": "markdown",
   "metadata": {},
   "source": [
    "# 삼성전자 주가 예측 "
   ]
  },
  {
   "cell_type": "code",
   "execution_count": 1,
   "metadata": {},
   "outputs": [],
   "source": [
    "import numpy as np\n",
    "import pandas as pd "
   ]
  },
  {
   "cell_type": "code",
   "execution_count": 6,
   "metadata": {},
   "outputs": [
    {
     "name": "stdout",
     "output_type": "stream",
     "text": [
      "                시가      고가      저가      종가         거래량\n",
      "일자                                                    \n",
      "2020-01-31  57,800  58,400  56,400  56,400  19,749,457\n",
      "2020-01-30  58,800  58,800  56,800  57,200  20,821,939\n",
      "2020-01-29  59,100  59,700  58,800  59,100  16,446,102\n",
      "2020-01-28  59,400  59,400  58,300  58,800  23,664,541\n",
      "2020-01-23  61,800  61,800  60,700  60,800  14,916,555\n",
      "...            ...     ...     ...     ...         ...\n",
      "2018-05-11  52,000  52,200  51,200  51,300  10,314,997\n",
      "2018-05-10  51,700  51,700  50,600  51,600  13,905,263\n",
      "2018-05-09  52,600  52,800  50,900  50,900  16,128,305\n",
      "2018-05-08  52,600  53,200  51,900  52,600  23,104,720\n",
      "2018-05-04  53,000  53,900  51,800  51,900  39,565,391\n",
      "\n",
      "[426 rows x 5 columns]\n",
      "(426, 5)\n"
     ]
    }
   ],
   "source": [
    "df1 = pd.read_csv(\"../../Utils/datas/samsung.csv\", index_col=0, header=0, encoding='cp949', sep=',')\n",
    "print(df1)\n",
    "print(df1.shape)"
   ]
  },
  {
   "cell_type": "code",
   "execution_count": null,
   "metadata": {},
   "outputs": [],
   "source": []
  }
 ],
 "metadata": {
  "kernelspec": {
   "display_name": "Python 3",
   "language": "python",
   "name": "python3"
  },
  "language_info": {
   "codemirror_mode": {
    "name": "ipython",
    "version": 3
   },
   "file_extension": ".py",
   "mimetype": "text/x-python",
   "name": "python",
   "nbconvert_exporter": "python",
   "pygments_lexer": "ipython3",
   "version": "3.7.6"
  }
 },
 "nbformat": 4,
 "nbformat_minor": 4
}
