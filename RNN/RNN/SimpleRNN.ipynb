{
 "cells": [
  {
   "cell_type": "markdown",
   "metadata": {},
   "source": [
    "# SimpleRNN\n",
    "* 가장 기본적인 RNN\n",
    "* 입력의 모양을 이해하고 shape만 정확하게 명시하면 어떤 데이터로 어떤 모델이든 만들 수 있음."
   ]
  },
  {
   "cell_type": "markdown",
   "metadata": {},
   "source": [
    "## 1. 데이터"
   ]
  },
  {
   "cell_type": "code",
   "execution_count": 1,
   "metadata": {},
   "outputs": [],
   "source": [
    "import numpy as np"
   ]
  },
  {
   "cell_type": "markdown",
   "metadata": {},
   "source": [
    "* x_train의 컬럼과 y_train의 벡터의 크기를 맞추기 위해 x_train을 reshape 한다.\n",
    "* __(행, 열, 피쳐)__ == __(샘플수, 타임스탭, 피쳐)__ 같은 용어!\n",
    "    * x_train : (3행, 5열, 1feature) , y_train : (3, )\n",
    "    * x의 행의 수 = y의 벡터 크기 = 1\n",
    "    * x_train의 행의 수 = y_train 의 벡터 크기 = 3\n",
    "    * [1,2,3,4,5] -> [6] 으로 처리되는 모델 훈련 "
   ]
  },
  {
   "cell_type": "code",
   "execution_count": 2,
   "metadata": {},
   "outputs": [
    {
     "name": "stdout",
     "output_type": "stream",
     "text": [
      "x_train.shape :  (3, 5)\n",
      "x_train.shape :  (3, 5, 1)\n",
      "y_train.shape :  (3,)\n"
     ]
    }
   ],
   "source": [
    "x_train = np.array([[1,2,3,4,5], [2,3,4,5,6], [3,4,5,6,7]])\n",
    "print(\"x_train.shape : \", x_train.shape) \n",
    "y_train = np.array([6,7,8])\n",
    "\n",
    "x_train = x_train.reshape(x_train.shape[0], x_train.shape[1], 1)\n",
    "print(\"x_train.shape : \", x_train.shape) \n",
    "print(\"y_train.shape : \", y_train.shape) "
   ]
  },
  {
   "cell_type": "markdown",
   "metadata": {},
   "source": [
    "## 2. 모델 구성"
   ]
  },
  {
   "cell_type": "code",
   "execution_count": 3,
   "metadata": {},
   "outputs": [],
   "source": [
    "from tensorflow.keras.models import Sequential\n",
    "from tensorflow.keras.layers import Dense, SimpleRNN"
   ]
  },
  {
   "cell_type": "markdown",
   "metadata": {},
   "source": [
    "* 출력 노드 수 : 처음 출력 노드 수\n",
    "* __input_shape(5,1)__ : 2 차원 \n",
    "    - 5 : x의 컬럼 수\n",
    "    - 1 : 연산을 할 때 몇 개씩 데이터를 묶어 연산하는지(지금의 경우엔 1개씩)\n",
    "* __(5,1) == (None, 5, 1)__ 같은 의미\n",
    "    - None : 행\n",
    "    - 5 : 열\n",
    "    - 1 : 몇 개씩 잘랐는지.. "
   ]
  },
  {
   "cell_type": "code",
   "execution_count": 4,
   "metadata": {},
   "outputs": [
    {
     "name": "stdout",
     "output_type": "stream",
     "text": [
      "Model: \"sequential\"\n",
      "_________________________________________________________________\n",
      "Layer (type)                 Output Shape              Param #   \n",
      "=================================================================\n",
      "simple_rnn (SimpleRNN)       (None, 7)                 63        \n",
      "_________________________________________________________________\n",
      "dense (Dense)                (None, 4)                 32        \n",
      "_________________________________________________________________\n",
      "dense_1 (Dense)              (None, 1)                 5         \n",
      "=================================================================\n",
      "Total params: 100\n",
      "Trainable params: 100\n",
      "Non-trainable params: 0\n",
      "_________________________________________________________________\n"
     ]
    }
   ],
   "source": [
    "model = Sequential()\n",
    "model.add(SimpleRNN(7, input_shape = (5,1), activation='relu'))  # 7은 output node 수\n",
    "model.add(Dense(4))\n",
    "model.add(Dense(1))\n",
    "model.summary()"
   ]
  },
  {
   "cell_type": "markdown",
   "metadata": {},
   "source": [
    "## 3. 훈련"
   ]
  },
  {
   "cell_type": "code",
   "execution_count": 5,
   "metadata": {},
   "outputs": [
    {
     "name": "stdout",
     "output_type": "stream",
     "text": [
      "Train on 3 samples\n",
      "Epoch 1/100\n",
      "3/3 [==============================] - 1s 230ms/sample - loss: 18.1730 - mse: 18.1730\n",
      "Epoch 2/100\n",
      "3/3 [==============================] - 0s 4ms/sample - loss: 16.8788 - mse: 16.8788\n",
      "Epoch 3/100\n",
      "3/3 [==============================] - 0s 4ms/sample - loss: 15.7274 - mse: 15.7274\n",
      "Epoch 4/100\n",
      "3/3 [==============================] - 0s 4ms/sample - loss: 14.6238 - mse: 14.6238\n",
      "Epoch 5/100\n",
      "3/3 [==============================] - 0s 4ms/sample - loss: 13.5497 - mse: 13.5497\n",
      "Epoch 6/100\n",
      "3/3 [==============================] - 0s 4ms/sample - loss: 12.5844 - mse: 12.5844\n",
      "Epoch 7/100\n",
      "3/3 [==============================] - 0s 4ms/sample - loss: 11.5465 - mse: 11.5465\n",
      "Epoch 8/100\n",
      "3/3 [==============================] - 0s 4ms/sample - loss: 10.6142 - mse: 10.6142\n",
      "Epoch 9/100\n",
      "3/3 [==============================] - 0s 4ms/sample - loss: 9.7378 - mse: 9.7378\n",
      "Epoch 10/100\n",
      "3/3 [==============================] - 0s 4ms/sample - loss: 8.9028 - mse: 8.9028\n",
      "Epoch 11/100\n",
      "3/3 [==============================] - 0s 4ms/sample - loss: 8.0926 - mse: 8.0926\n",
      "Epoch 12/100\n",
      "3/3 [==============================] - 0s 4ms/sample - loss: 7.3747 - mse: 7.3747\n",
      "Epoch 13/100\n",
      "3/3 [==============================] - 0s 4ms/sample - loss: 6.7272 - mse: 6.7272\n",
      "Epoch 14/100\n",
      "3/3 [==============================] - 0s 4ms/sample - loss: 5.9957 - mse: 5.9957\n",
      "Epoch 15/100\n",
      "3/3 [==============================] - 0s 3ms/sample - loss: 5.3932 - mse: 5.3932\n",
      "Epoch 16/100\n",
      "3/3 [==============================] - 0s 4ms/sample - loss: 4.8870 - mse: 4.8870\n",
      "Epoch 17/100\n",
      "3/3 [==============================] - 0s 4ms/sample - loss: 4.3369 - mse: 4.3369\n",
      "Epoch 18/100\n",
      "3/3 [==============================] - 0s 4ms/sample - loss: 3.8574 - mse: 3.8574\n",
      "Epoch 19/100\n",
      "3/3 [==============================] - 0s 4ms/sample - loss: 3.3928 - mse: 3.3928\n",
      "Epoch 20/100\n",
      "3/3 [==============================] - 0s 4ms/sample - loss: 2.9599 - mse: 2.9599\n",
      "Epoch 21/100\n",
      "3/3 [==============================] - 0s 4ms/sample - loss: 2.5916 - mse: 2.5916\n",
      "Epoch 22/100\n",
      "3/3 [==============================] - 0s 4ms/sample - loss: 2.2695 - mse: 2.2695\n",
      "Epoch 23/100\n",
      "3/3 [==============================] - 0s 4ms/sample - loss: 1.9376 - mse: 1.9376\n",
      "Epoch 24/100\n",
      "3/3 [==============================] - 0s 4ms/sample - loss: 1.6655 - mse: 1.6655\n",
      "Epoch 25/100\n",
      "3/3 [==============================] - 0s 4ms/sample - loss: 1.4378 - mse: 1.4378\n",
      "Epoch 26/100\n",
      "3/3 [==============================] - 0s 4ms/sample - loss: 1.2008 - mse: 1.2008\n",
      "Epoch 27/100\n",
      "3/3 [==============================] - 0s 4ms/sample - loss: 1.0272 - mse: 1.0272\n",
      "Epoch 28/100\n",
      "3/3 [==============================] - 0s 4ms/sample - loss: 0.8459 - mse: 0.8459\n",
      "Epoch 29/100\n",
      "3/3 [==============================] - 0s 4ms/sample - loss: 0.7082 - mse: 0.7082\n",
      "Epoch 30/100\n",
      "3/3 [==============================] - 0s 4ms/sample - loss: 0.5749 - mse: 0.5750\n",
      "Epoch 31/100\n",
      "3/3 [==============================] - 0s 4ms/sample - loss: 0.4762 - mse: 0.4762\n",
      "Epoch 32/100\n",
      "3/3 [==============================] - 0s 4ms/sample - loss: 0.3821 - mse: 0.3821\n",
      "Epoch 33/100\n",
      "3/3 [==============================] - 0s 4ms/sample - loss: 0.3118 - mse: 0.3118\n",
      "Epoch 34/100\n",
      "3/3 [==============================] - 0s 4ms/sample - loss: 0.2542 - mse: 0.2542\n",
      "Epoch 35/100\n",
      "3/3 [==============================] - 0s 4ms/sample - loss: 0.2139 - mse: 0.2139\n",
      "Epoch 36/100\n",
      "3/3 [==============================] - 0s 4ms/sample - loss: 0.1743 - mse: 0.1743\n",
      "Epoch 37/100\n",
      "3/3 [==============================] - 0s 4ms/sample - loss: 0.1445 - mse: 0.1445\n",
      "Epoch 38/100\n",
      "3/3 [==============================] - 0s 4ms/sample - loss: 0.1187 - mse: 0.1187\n",
      "Epoch 39/100\n",
      "3/3 [==============================] - 0s 4ms/sample - loss: 0.0953 - mse: 0.0953\n",
      "Epoch 40/100\n",
      "3/3 [==============================] - 0s 4ms/sample - loss: 0.0786 - mse: 0.0786\n",
      "Epoch 41/100\n",
      "3/3 [==============================] - 0s 4ms/sample - loss: 0.0628 - mse: 0.0628\n",
      "Epoch 42/100\n",
      "3/3 [==============================] - 0s 4ms/sample - loss: 0.0508 - mse: 0.0508\n",
      "Epoch 43/100\n",
      "3/3 [==============================] - 0s 4ms/sample - loss: 0.0407 - mse: 0.0407\n",
      "Epoch 44/100\n",
      "3/3 [==============================] - 0s 4ms/sample - loss: 0.0323 - mse: 0.0323\n",
      "Epoch 45/100\n",
      "3/3 [==============================] - 0s 4ms/sample - loss: 0.0255 - mse: 0.0255\n",
      "Epoch 46/100\n",
      "3/3 [==============================] - 0s 4ms/sample - loss: 0.0201 - mse: 0.0201\n",
      "Epoch 47/100\n",
      "3/3 [==============================] - 0s 4ms/sample - loss: 0.0158 - mse: 0.0158\n",
      "Epoch 48/100\n",
      "3/3 [==============================] - 0s 4ms/sample - loss: 0.0124 - mse: 0.0124\n",
      "Epoch 49/100\n",
      "3/3 [==============================] - 0s 4ms/sample - loss: 0.0096 - mse: 0.0096\n",
      "Epoch 50/100\n",
      "3/3 [==============================] - 0s 4ms/sample - loss: 0.0075 - mse: 0.0075\n",
      "Epoch 51/100\n",
      "3/3 [==============================] - 0s 4ms/sample - loss: 0.0058 - mse: 0.0058\n",
      "Epoch 52/100\n",
      "3/3 [==============================] - 0s 4ms/sample - loss: 0.0045 - mse: 0.0045\n",
      "Epoch 53/100\n",
      "3/3 [==============================] - 0s 4ms/sample - loss: 0.0036 - mse: 0.0036\n",
      "Epoch 54/100\n",
      "3/3 [==============================] - 0s 3ms/sample - loss: 0.0027 - mse: 0.0027  \n",
      "Epoch 55/100\n",
      "3/3 [==============================] - 0s 4ms/sample - loss: 0.0022 - mse: 0.0022\n",
      "Epoch 56/100\n",
      "3/3 [==============================] - 0s 4ms/sample - loss: 0.0018 - mse: 0.0018\n",
      "Epoch 57/100\n",
      "3/3 [==============================] - 0s 4ms/sample - loss: 0.0015 - mse: 0.0015\n",
      "Epoch 58/100\n",
      "3/3 [==============================] - 0s 4ms/sample - loss: 0.0012 - mse: 0.0012  \n",
      "Epoch 59/100\n",
      "3/3 [==============================] - 0s 4ms/sample - loss: 0.0011 - mse: 0.0011\n",
      "Epoch 60/100\n",
      "3/3 [==============================] - 0s 4ms/sample - loss: 9.9056e-04 - mse: 9.9056e-04\n",
      "Epoch 61/100\n",
      "3/3 [==============================] - 0s 4ms/sample - loss: 9.0640e-04 - mse: 9.0640e-04\n",
      "Epoch 62/100\n",
      "3/3 [==============================] - 0s 4ms/sample - loss: 8.4833e-04 - mse: 8.4833e-04\n",
      "Epoch 63/100\n",
      "3/3 [==============================] - 0s 4ms/sample - loss: 8.0887e-04 - mse: 8.0887e-04\n",
      "Epoch 64/100\n",
      "3/3 [==============================] - 0s 4ms/sample - loss: 7.7960e-04 - mse: 7.7960e-04\n",
      "Epoch 65/100\n",
      "3/3 [==============================] - 0s 4ms/sample - loss: 7.4722e-04 - mse: 7.4722e-04\n",
      "Epoch 66/100\n",
      "3/3 [==============================] - 0s 4ms/sample - loss: 7.3991e-04 - mse: 7.3991e-04\n",
      "Epoch 67/100\n",
      "3/3 [==============================] - 0s 4ms/sample - loss: 7.4704e-04 - mse: 7.4704e-04\n",
      "Epoch 68/100\n",
      "3/3 [==============================] - 0s 4ms/sample - loss: 7.3056e-04 - mse: 7.3056e-04\n",
      "Epoch 69/100\n",
      "3/3 [==============================] - 0s 4ms/sample - loss: 7.3145e-04 - mse: 7.3145e-04\n",
      "Epoch 70/100\n",
      "3/3 [==============================] - 0s 4ms/sample - loss: 7.3779e-04 - mse: 7.3779e-04\n",
      "Epoch 71/100\n",
      "3/3 [==============================] - 0s 4ms/sample - loss: 7.3685e-04 - mse: 7.3685e-04\n",
      "Epoch 72/100\n",
      "3/3 [==============================] - 0s 4ms/sample - loss: 7.3205e-04 - mse: 7.3205e-04\n",
      "Epoch 73/100\n",
      "3/3 [==============================] - 0s 4ms/sample - loss: 7.3129e-04 - mse: 7.3129e-04\n",
      "Epoch 74/100\n",
      "3/3 [==============================] - 0s 4ms/sample - loss: 7.3127e-04 - mse: 7.3127e-04\n",
      "Epoch 75/100\n",
      "3/3 [==============================] - 0s 4ms/sample - loss: 7.3128e-04 - mse: 7.3128e-04\n",
      "Epoch 76/100\n",
      "3/3 [==============================] - 0s 4ms/sample - loss: 7.3335e-04 - mse: 7.3335e-04\n",
      "Epoch 77/100\n",
      "3/3 [==============================] - 0s 4ms/sample - loss: 7.3272e-04 - mse: 7.3272e-04\n",
      "Epoch 78/100\n",
      "3/3 [==============================] - 0s 4ms/sample - loss: 7.3224e-04 - mse: 7.3224e-04\n",
      "Epoch 79/100\n",
      "3/3 [==============================] - 0s 4ms/sample - loss: 7.3192e-04 - mse: 7.3192e-04\n",
      "Epoch 80/100\n",
      "3/3 [==============================] - 0s 4ms/sample - loss: 7.3144e-04 - mse: 7.3144e-04\n",
      "Epoch 81/100\n",
      "3/3 [==============================] - 0s 4ms/sample - loss: 7.3379e-04 - mse: 7.3379e-04\n",
      "Epoch 82/100\n",
      "3/3 [==============================] - 0s 4ms/sample - loss: 7.3060e-04 - mse: 7.3060e-04\n",
      "Epoch 83/100\n",
      "3/3 [==============================] - 0s 4ms/sample - loss: 7.3465e-04 - mse: 7.3465e-04\n",
      "Epoch 84/100\n"
     ]
    },
    {
     "name": "stdout",
     "output_type": "stream",
     "text": [
      "3/3 [==============================] - 0s 4ms/sample - loss: 7.3251e-04 - mse: 7.3251e-04\n",
      "Epoch 85/100\n",
      "3/3 [==============================] - 0s 4ms/sample - loss: 7.2948e-04 - mse: 7.2948e-04\n",
      "Epoch 86/100\n",
      "3/3 [==============================] - 0s 4ms/sample - loss: 7.3107e-04 - mse: 7.3107e-04\n",
      "Epoch 87/100\n",
      "3/3 [==============================] - 0s 4ms/sample - loss: 7.2954e-04 - mse: 7.2954e-04\n",
      "Epoch 88/100\n",
      "3/3 [==============================] - 0s 4ms/sample - loss: 7.3186e-04 - mse: 7.3186e-04\n",
      "Epoch 89/100\n",
      "3/3 [==============================] - 0s 4ms/sample - loss: 7.2904e-04 - mse: 7.2904e-04\n",
      "Epoch 90/100\n",
      "3/3 [==============================] - 0s 4ms/sample - loss: 7.2829e-04 - mse: 7.2829e-04\n",
      "Epoch 91/100\n",
      "3/3 [==============================] - 0s 4ms/sample - loss: 7.2783e-04 - mse: 7.2783e-04\n",
      "Epoch 92/100\n",
      "3/3 [==============================] - 0s 4ms/sample - loss: 7.2739e-04 - mse: 7.2739e-04\n",
      "Epoch 93/100\n",
      "3/3 [==============================] - 0s 4ms/sample - loss: 7.3147e-04 - mse: 7.3147e-04\n",
      "Epoch 94/100\n",
      "3/3 [==============================] - 0s 4ms/sample - loss: 7.2765e-04 - mse: 7.2765e-04\n",
      "Epoch 95/100\n",
      "3/3 [==============================] - 0s 4ms/sample - loss: 7.2791e-04 - mse: 7.2791e-04\n",
      "Epoch 96/100\n",
      "3/3 [==============================] - 0s 4ms/sample - loss: 7.2666e-04 - mse: 7.2666e-04\n",
      "Epoch 97/100\n",
      "3/3 [==============================] - 0s 4ms/sample - loss: 7.2654e-04 - mse: 7.2654e-04\n",
      "Epoch 98/100\n",
      "3/3 [==============================] - 0s 4ms/sample - loss: 7.2721e-04 - mse: 7.2721e-04\n",
      "Epoch 99/100\n",
      "3/3 [==============================] - 0s 4ms/sample - loss: 7.2581e-04 - mse: 7.2581e-04\n",
      "Epoch 100/100\n",
      "3/3 [==============================] - 0s 4ms/sample - loss: 7.2531e-04 - mse: 7.2531e-04\n"
     ]
    }
   ],
   "source": [
    "model.compile(loss='mse', optimizer='adam', metrics=['mse'])\n",
    "hist = model.fit(x_train, y_train, epochs=100, batch_size=1)"
   ]
  },
  {
   "cell_type": "markdown",
   "metadata": {},
   "source": [
    "## 4. 학습과정확인"
   ]
  },
  {
   "cell_type": "code",
   "execution_count": 6,
   "metadata": {},
   "outputs": [
    {
     "data": {
      "image/png": "[encoded data removed]",
      "text/plain": [
       "<Figure size 432x288 with 1 Axes>"
      ]
     },
     "metadata": {
      "needs_background": "light"
     },
     "output_type": "display_data"
    }
   ],
   "source": [
    "import matplotlib.pyplot as plt\n",
    "# print(hist.history)\n",
    "plt.plot(hist.history['loss'])\n",
    "plt.plot(hist.history['mse'])\n",
    "# #plt.ylim(0.0, 1.5)\n",
    "plt.ylabel('loss')\n",
    "plt.xlabel('epoch')\n",
    "plt.legend(['loss', 'mse'], loc='upper right')\n",
    "plt.show()"
   ]
  },
  {
   "cell_type": "markdown",
   "metadata": {},
   "source": [
    "## 5. 평가 예측\n",
    "* 예측값 데이터로 사용하기 위해 모양을 맞춰줘야 한다. "
   ]
  },
  {
   "cell_type": "code",
   "execution_count": 7,
   "metadata": {},
   "outputs": [
    {
     "name": "stdout",
     "output_type": "stream",
     "text": [
      "(1, 5)\n",
      "(1, 5, 1)\n"
     ]
    }
   ],
   "source": [
    "x_predict = np.array([[4,5,6,7,8]])\n",
    "print(x_predict.shape) #(1, 5)\n",
    "x_predict = x_predict.reshape(x_predict.shape[0], x_predict.shape[1], 1)\n",
    "print(x_predict.shape)"
   ]
  },
  {
   "cell_type": "code",
   "execution_count": 8,
   "metadata": {},
   "outputs": [
    {
     "name": "stdout",
     "output_type": "stream",
     "text": [
      "예측값 :  [[9.062252]]\n"
     ]
    }
   ],
   "source": [
    "y_predict = model.predict(x_predict)\n",
    "print(\"예측값 : \", y_predict)"
   ]
  },
  {
   "cell_type": "code",
   "execution_count": null,
   "metadata": {},
   "outputs": [],
   "source": []
  }
 ],
 "metadata": {
  "kernelspec": {
   "display_name": "Python 3",
   "language": "python",
   "name": "python3"
  },
  "language_info": {
   "codemirror_mode": {
    "name": "ipython",
    "version": 3
   },
   "file_extension": ".py",
   "mimetype": "text/x-python",
   "name": "python",
   "nbconvert_exporter": "python",
   "pygments_lexer": "ipython3",
   "version": "3.7.6"
  }
 },
 "nbformat": 4,
 "nbformat_minor": 4
}
