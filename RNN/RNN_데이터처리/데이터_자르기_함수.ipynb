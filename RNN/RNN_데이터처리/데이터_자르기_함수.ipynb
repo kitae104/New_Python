{
 "cells": [
  {
   "cell_type": "markdown",
   "metadata": {},
   "source": [
    "# 데이터 자르기 "
   ]
  },
  {
   "cell_type": "markdown",
   "metadata": {},
   "source": [
    "## 1. split 함수 만들기(다 : 1 )"
   ]
  },
  {
   "cell_type": "code",
   "execution_count": 1,
   "metadata": {},
   "outputs": [],
   "source": [
    "import numpy as np"
   ]
  },
  {
   "cell_type": "code",
   "execution_count": 2,
   "metadata": {},
   "outputs": [],
   "source": [
    "dataset = np.array([1,2,3,4,5,6,7,8,9,10])"
   ]
  },
  {
   "cell_type": "markdown",
   "metadata": {},
   "source": [
    "#### 데이터 셋을 tims_steps만큼 나누는 함수 \n",
    "* 연속된 데이터셋을 자르기 위해 만든 함수"
   ]
  },
  {
   "cell_type": "code",
   "execution_count": 3,
   "metadata": {},
   "outputs": [],
   "source": [
    "def split_xy1(dataset, time_steps):\n",
    "    x, y = list(), list()\n",
    "    for i in range(len(dataset)):\n",
    "        end_number = i + time_steps\n",
    "        if end_number > len(dataset) - 1:\n",
    "            break;\n",
    "        tmp_x, tmp_y = dataset[i:end_number], dataset[end_number]\n",
    "        x.append(tmp_x)\n",
    "        y.append(tmp_y)\n",
    "    return np.array(x), np.array(y)"
   ]
  },
  {
   "cell_type": "code",
   "execution_count": 4,
   "metadata": {},
   "outputs": [
    {
     "name": "stdout",
     "output_type": "stream",
     "text": [
      "[[1 2 3 4]\n",
      " [2 3 4 5]\n",
      " [3 4 5 6]\n",
      " [4 5 6 7]\n",
      " [5 6 7 8]\n",
      " [6 7 8 9]] \n",
      " [ 5  6  7  8  9 10]\n"
     ]
    }
   ],
   "source": [
    "x, y = split_xy1(dataset, 4)\n",
    "print(x, \"\\n\", y)"
   ]
  },
  {
   "cell_type": "markdown",
   "metadata": {},
   "source": [
    "####  RNN의 input_shape - 아래는 모두 같은 표현 \n",
    "* (행, 열, 특성)\n",
    "* (행, 열, 피쳐)\n",
    "* (전체 샘플수, 타임스탭, 피처)\n",
    "* (행, 열, 몇 개씩 자르는지)"
   ]
  },
  {
   "cell_type": "markdown",
   "metadata": {},
   "source": [
    "## 2. split 함수 만들기(다 : 다 )"
   ]
  },
  {
   "cell_type": "markdown",
   "metadata": {},
   "source": [
    "#### 데이터가 연결된 데이터를 자르는 함수 \n",
    "* 주식, 환율, 물가, 선물, 파생상품 등의 경우에 사용가능 \n",
    "* 시계열 데이터의 y 값은 애매하기 때문에 보통 데이터 분석가나 개발자의 몫"
   ]
  },
  {
   "cell_type": "code",
   "execution_count": 5,
   "metadata": {},
   "outputs": [],
   "source": [
    "def split_xy2(dataset, time_steps, y_column):\n",
    "    x, y = list(), list()\n",
    "    for i in range(len(dataset)):\n",
    "        x_end_number = i + time_steps\n",
    "        y_end_number = x_end_number + y_column\n",
    "        if y_end_number > len(dataset):\n",
    "            break;\n",
    "        tmp_x = dataset[i:x_end_number]\n",
    "        tmp_y = dataset[x_end_number:y_end_number]\n",
    "        x.append(tmp_x)\n",
    "        y.append(tmp_y)\n",
    "    return np.array(x), np.array(y)"
   ]
  },
  {
   "cell_type": "code",
   "execution_count": 6,
   "metadata": {},
   "outputs": [
    {
     "name": "stdout",
     "output_type": "stream",
     "text": [
      "[[1 2 3 4]\n",
      " [2 3 4 5]\n",
      " [3 4 5 6]\n",
      " [4 5 6 7]\n",
      " [5 6 7 8]] \n",
      " [[ 5  6]\n",
      " [ 6  7]\n",
      " [ 7  8]\n",
      " [ 8  9]\n",
      " [ 9 10]]\n",
      "x.shape :  (5, 4)\n",
      "y.shape :  (5, 2)\n"
     ]
    }
   ],
   "source": [
    "time_steps = 4\n",
    "y_column = 2\n",
    "x, y = split_xy2(dataset, time_steps, y_column)\n",
    "print(x, \"\\n\", y)\n",
    "print(\"x.shape : \", x.shape)\n",
    "print(\"y.shape : \", y.shape)"
   ]
  },
  {
   "cell_type": "markdown",
   "metadata": {},
   "source": [
    "## 3. split 함수 만들기(다입력, 다 : 1 )\n",
    "* 2차원 이상의 데이터를 입력받아 x는 다차원 배열로 나누고, y는 벡터 형태로 나누는 함수 작성 \n",
    "* 데이터 셋은 10행 3열의 구조  "
   ]
  },
  {
   "cell_type": "code",
   "execution_count": 7,
   "metadata": {},
   "outputs": [
    {
     "name": "stdout",
     "output_type": "stream",
     "text": [
      "dataset2.shape :  (3, 10)\n",
      "[[ 1 11 21]\n",
      " [ 2 12 22]\n",
      " [ 3 13 23]\n",
      " [ 4 14 24]\n",
      " [ 5 15 25]\n",
      " [ 6 16 26]\n",
      " [ 7 17 27]\n",
      " [ 8 18 28]\n",
      " [ 9 19 29]\n",
      " [10 20 30]]\n",
      "dataset.shape :  (10, 3)\n"
     ]
    }
   ],
   "source": [
    "dataset2 = np.array([[1,2,3,4,5,6,7,8,9,10],\n",
    "                    [11,12,13,14,15,16,17,18,19,20],\n",
    "                    [21,22,23,24,25,26,27,28,29,30]])\n",
    "print(\"dataset2.shape : \", dataset2.shape)\n",
    "dataset2 = np.transpose(dataset2)\n",
    "print(dataset2)\n",
    "print(\"dataset.shape : \", dataset2.shape)"
   ]
  },
  {
   "cell_type": "code",
   "execution_count": 8,
   "metadata": {},
   "outputs": [],
   "source": [
    "def split_xy3(dataset, time_steps, y_column):\n",
    "    x, y = list(), list()\n",
    "    for i in range(len(dataset)):\n",
    "        \n",
    "        x_end_number = i + time_steps\n",
    "        y_end_number = x_end_number + y_column -1\n",
    "        \n",
    "        if y_end_number > len(dataset):\n",
    "            break;\n",
    "        \n",
    "        tmp_x = dataset[i:x_end_number, :-1]               # 정해진 범위의 행과 마지막 전까지 데이터 추출 \n",
    "        tmp_y = dataset[x_end_number-1:y_end_number, -1]   # 정해진 범위의 마지막 행의 마지막 데이터 추출 \n",
    "        x.append(tmp_x)\n",
    "        y.append(tmp_y)\n",
    "    return np.array(x), np.array(y)"
   ]
  },
  {
   "cell_type": "code",
   "execution_count": 9,
   "metadata": {},
   "outputs": [
    {
     "name": "stdout",
     "output_type": "stream",
     "text": [
      "[[[ 1 11]\n",
      "  [ 2 12]\n",
      "  [ 3 13]]\n",
      "\n",
      " [[ 2 12]\n",
      "  [ 3 13]\n",
      "  [ 4 14]]\n",
      "\n",
      " [[ 3 13]\n",
      "  [ 4 14]\n",
      "  [ 5 15]]\n",
      "\n",
      " [[ 4 14]\n",
      "  [ 5 15]\n",
      "  [ 6 16]]\n",
      "\n",
      " [[ 5 15]\n",
      "  [ 6 16]\n",
      "  [ 7 17]]\n",
      "\n",
      " [[ 6 16]\n",
      "  [ 7 17]\n",
      "  [ 8 18]]\n",
      "\n",
      " [[ 7 17]\n",
      "  [ 8 18]\n",
      "  [ 9 19]]\n",
      "\n",
      " [[ 8 18]\n",
      "  [ 9 19]\n",
      "  [10 20]]] \n",
      " [[23]\n",
      " [24]\n",
      " [25]\n",
      " [26]\n",
      " [27]\n",
      " [28]\n",
      " [29]\n",
      " [30]]\n",
      "(8, 3, 2)\n",
      "(8, 1)\n"
     ]
    }
   ],
   "source": [
    " x, y = split_xy3(dataset2, 3, 1)\n",
    "print(x, \"\\n\", y)\n",
    "print(x.shape)\n",
    "print(y.shape)"
   ]
  },
  {
   "cell_type": "code",
   "execution_count": 10,
   "metadata": {},
   "outputs": [
    {
     "name": "stdout",
     "output_type": "stream",
     "text": [
      "(8,)\n"
     ]
    }
   ],
   "source": [
    "y = y.reshape(y.shape[0])\n",
    "print(y.shape)"
   ]
  },
  {
   "cell_type": "markdown",
   "metadata": {},
   "source": [
    "## 4. split 함수 만들기(다입력, 다 : 다 )\n",
    "* 2차원 이상의 데이터를 입력받아 x는 다차원 배열로 나누고, y는 벡터 형태로 나누는 함수 작성\n",
    "* 데이터 셋은 10행 3열의 구조\n",
    "* y_column 을 조절해서 처리 "
   ]
  },
  {
   "cell_type": "code",
   "execution_count": 11,
   "metadata": {},
   "outputs": [
    {
     "name": "stdout",
     "output_type": "stream",
     "text": [
      "[[[ 1 11]\n",
      "  [ 2 12]\n",
      "  [ 3 13]]\n",
      "\n",
      " [[ 2 12]\n",
      "  [ 3 13]\n",
      "  [ 4 14]]\n",
      "\n",
      " [[ 3 13]\n",
      "  [ 4 14]\n",
      "  [ 5 15]]\n",
      "\n",
      " [[ 4 14]\n",
      "  [ 5 15]\n",
      "  [ 6 16]]\n",
      "\n",
      " [[ 5 15]\n",
      "  [ 6 16]\n",
      "  [ 7 17]]\n",
      "\n",
      " [[ 6 16]\n",
      "  [ 7 17]\n",
      "  [ 8 18]]\n",
      "\n",
      " [[ 7 17]\n",
      "  [ 8 18]\n",
      "  [ 9 19]]] \n",
      " [[23 24]\n",
      " [24 25]\n",
      " [25 26]\n",
      " [26 27]\n",
      " [27 28]\n",
      " [28 29]\n",
      " [29 30]]\n",
      "(7, 3, 2)\n"
     ]
    }
   ],
   "source": [
    "x, y = x, y = split_xy3(dataset2, 3, 2) # 2를 1로 수정\n",
    "print(x, \"\\n\", y)\n",
    "print(x.shape)"
   ]
  },
  {
   "cell_type": "markdown",
   "metadata": {},
   "source": [
    "## 5. split 함수 만들기(다입력, 다 : 다 )2¶"
   ]
  },
  {
   "cell_type": "code",
   "execution_count": 12,
   "metadata": {},
   "outputs": [],
   "source": [
    "def split_xy4(dataset, time_steps, y_column):\n",
    "    x, y = list(), list()\n",
    "    for i in range(len(dataset)):\n",
    "        \n",
    "        x_end_number = i + time_steps\n",
    "        y_end_number = x_end_number + y_column\n",
    "        \n",
    "        if y_end_number > len(dataset):\n",
    "            break;\n",
    "        \n",
    "        tmp_x = dataset[i:x_end_number, :]               # 정해진 범위의 행의 데이터를 모두 추출 \n",
    "        tmp_y = dataset[x_end_number:y_end_number,:]     # 정해진 범위의 마지막 행의 모든 데이터 추출 \n",
    "        x.append(tmp_x)\n",
    "        y.append(tmp_y)\n",
    "    return np.array(x), np.array(y)"
   ]
  },
  {
   "cell_type": "code",
   "execution_count": 13,
   "metadata": {},
   "outputs": [
    {
     "name": "stdout",
     "output_type": "stream",
     "text": [
      "[[[ 1 11 21]\n",
      "  [ 2 12 22]\n",
      "  [ 3 13 23]]\n",
      "\n",
      " [[ 2 12 22]\n",
      "  [ 3 13 23]\n",
      "  [ 4 14 24]]\n",
      "\n",
      " [[ 3 13 23]\n",
      "  [ 4 14 24]\n",
      "  [ 5 15 25]]\n",
      "\n",
      " [[ 4 14 24]\n",
      "  [ 5 15 25]\n",
      "  [ 6 16 26]]\n",
      "\n",
      " [[ 5 15 25]\n",
      "  [ 6 16 26]\n",
      "  [ 7 17 27]]\n",
      "\n",
      " [[ 6 16 26]\n",
      "  [ 7 17 27]\n",
      "  [ 8 18 28]]\n",
      "\n",
      " [[ 7 17 27]\n",
      "  [ 8 18 28]\n",
      "  [ 9 19 29]]] \n",
      " [[[ 4 14 24]]\n",
      "\n",
      " [[ 5 15 25]]\n",
      "\n",
      " [[ 6 16 26]]\n",
      "\n",
      " [[ 7 17 27]]\n",
      "\n",
      " [[ 8 18 28]]\n",
      "\n",
      " [[ 9 19 29]]\n",
      "\n",
      " [[10 20 30]]]\n",
      "(7, 3, 3)\n",
      "(7, 1, 3)\n"
     ]
    }
   ],
   "source": [
    "x, y = split_xy4(dataset2, 3, 1)\n",
    "print(x, \"\\n\", y)\n",
    "print(x.shape)\n",
    "print(y.shape)"
   ]
  },
  {
   "cell_type": "code",
   "execution_count": null,
   "metadata": {},
   "outputs": [],
   "source": []
  }
 ],
 "metadata": {
  "kernelspec": {
   "display_name": "Python 3",
   "language": "python",
   "name": "python3"
  },
  "language_info": {
   "codemirror_mode": {
    "name": "ipython",
    "version": 3
   },
   "file_extension": ".py",
   "mimetype": "text/x-python",
   "name": "python",
   "nbconvert_exporter": "python",
   "pygments_lexer": "ipython3",
   "version": "3.7.7"
  }
 },
 "nbformat": 4,
 "nbformat_minor": 4
}
