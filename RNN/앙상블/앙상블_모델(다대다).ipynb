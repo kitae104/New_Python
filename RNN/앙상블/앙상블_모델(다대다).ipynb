{
 "cells": [
  {
   "cell_type": "markdown",
   "metadata": {},
   "source": [
    "# 앙상블 모델 (다:다)\n",
    "* 2개의 모델이 합쳐져서 2개의 모델로 출력되는 경우 "
   ]
  },
  {
   "cell_type": "markdown",
   "metadata": {},
   "source": [
    "## 1. 데이터"
   ]
  },
  {
   "cell_type": "code",
   "execution_count": 1,
   "metadata": {},
   "outputs": [],
   "source": [
    "import numpy as np"
   ]
  },
  {
   "cell_type": "markdown",
   "metadata": {},
   "source": [
    "* 각각 300개씩의 데이터를 가지고 있는 2개의 x \n",
    "* 100개의 데이터를 가지고 있는 1개의 y"
   ]
  },
  {
   "cell_type": "code",
   "execution_count": 2,
   "metadata": {},
   "outputs": [
    {
     "name": "stdout",
     "output_type": "stream",
     "text": [
      "(2, 100)\n",
      "(2, 100)\n",
      "(2, 100)\n",
      "(2, 100)\n"
     ]
    }
   ],
   "source": [
    "x1 = np.array([range(1, 101), range(101, 201)])\n",
    "y1 = np.array([range(1, 101), range(101, 201)])\n",
    "x2 = np.array([range(501, 601), range(601, 701)])\n",
    "y2 = np.array([range(501, 601), range(601, 701)])\n",
    "print(x1.shape)\n",
    "print(x2.shape)\n",
    "print(y1.shape)\n",
    "print(y2.shape)"
   ]
  },
  {
   "cell_type": "markdown",
   "metadata": {},
   "source": [
    "#### 모양 바꿔주기 \n",
    "* (100, 2) : 행 100, 열 2 "
   ]
  },
  {
   "cell_type": "code",
   "execution_count": 3,
   "metadata": {},
   "outputs": [
    {
     "name": "stdout",
     "output_type": "stream",
     "text": [
      "(100, 2)\n",
      "(100, 2)\n",
      "(100, 2)\n",
      "(100, 2)\n"
     ]
    }
   ],
   "source": [
    "x1 = np.transpose(x1)\n",
    "y1 = np.transpose(y1)\n",
    "x2 = np.transpose(x2)\n",
    "y2 = np.transpose(y2)\n",
    "\n",
    "print(x1.shape)\n",
    "print(x2.shape)\n",
    "print(y1.shape)\n",
    "print(y2.shape)"
   ]
  },
  {
   "cell_type": "markdown",
   "metadata": {},
   "source": [
    "#### train, test, validation 분리 \n",
    "* 8:1:1 로 분리 "
   ]
  },
  {
   "cell_type": "code",
   "execution_count": 4,
   "metadata": {},
   "outputs": [],
   "source": [
    "from sklearn.model_selection import train_test_split"
   ]
  },
  {
   "cell_type": "code",
   "execution_count": 5,
   "metadata": {},
   "outputs": [
    {
     "name": "stdout",
     "output_type": "stream",
     "text": [
      "x2_train.shape :  (80, 2)\n",
      "x2_val.shape :  (10, 2)\n",
      "x2_test.shape :  (10, 2)\n"
     ]
    }
   ],
   "source": [
    "x1_train, x1_test, y1_train, y1_test = train_test_split(x1, y1, random_state=66, test_size=0.2, shuffle=False)\n",
    "x1_val, x1_test, y1_val, y1_test = train_test_split(x1_test, y1_test, random_state=66, test_size=0.5, shuffle=False)\n",
    "x2_train, x2_test, y2_train, y2_test = train_test_split(x2, y2, random_state=66, test_size=0.2, shuffle=False)\n",
    "x2_val, x2_test, y2_val, y2_test = train_test_split(x2_test, y2_test, random_state=66, test_size=0.5, shuffle = False)\n",
    "print('x2_train.shape : ', x2_train.shape)\n",
    "print('x2_val.shape : ', x2_val.shape)\n",
    "print('x2_test.shape : ', x2_test.shape)"
   ]
  },
  {
   "cell_type": "markdown",
   "metadata": {},
   "source": [
    "## 2 모델 구성 "
   ]
  },
  {
   "cell_type": "code",
   "execution_count": 6,
   "metadata": {},
   "outputs": [],
   "source": [
    "from tensorflow.keras.models import Sequential, Model\n",
    "from tensorflow.keras.layers import Dense, Input"
   ]
  },
  {
   "cell_type": "markdown",
   "metadata": {},
   "source": [
    "#### 서로 다른 2개의 레이어 만들기"
   ]
  },
  {
   "cell_type": "code",
   "execution_count": 7,
   "metadata": {},
   "outputs": [],
   "source": [
    "input1 = Input(shape=(2,))\n",
    "dense1 = Dense(100, activation='relu')(input1)\n",
    "dense1 = Dense(30)(dense1)\n",
    "dense1 = Dense(7)(dense1)\n",
    "\n",
    "input2 = Input(shape=(2,))\n",
    "dense2 = Dense(50, activation='relu')(input2)\n",
    "dense2 = Dense(30)(dense2)\n",
    "dense2 = Dense(7)(dense2)"
   ]
  },
  {
   "cell_type": "markdown",
   "metadata": {},
   "source": [
    "#### 두가지 모델 합치기 "
   ]
  },
  {
   "cell_type": "code",
   "execution_count": 8,
   "metadata": {},
   "outputs": [],
   "source": [
    "from tensorflow.keras.layers import concatenate"
   ]
  },
  {
   "cell_type": "code",
   "execution_count": 9,
   "metadata": {},
   "outputs": [],
   "source": [
    "merge1 = concatenate([dense1, dense2])"
   ]
  },
  {
   "cell_type": "code",
   "execution_count": 10,
   "metadata": {},
   "outputs": [],
   "source": [
    "middle1 = Dense(10)(merge1)\n",
    "middle2 = Dense(5)(middle1)\n",
    "middle3 = Dense(30)(middle2)"
   ]
  },
  {
   "cell_type": "code",
   "execution_count": 11,
   "metadata": {},
   "outputs": [],
   "source": [
    "output1 = Dense(30)(middle3)\n",
    "output1 = Dense(7)(output1)\n",
    "output1 = Dense(2)(output1)"
   ]
  },
  {
   "cell_type": "code",
   "execution_count": 12,
   "metadata": {},
   "outputs": [],
   "source": [
    "output2 = Dense(20)(middle3)\n",
    "output2 = Dense(70)(output2)\n",
    "output2 = Dense(2)(output2)"
   ]
  },
  {
   "cell_type": "code",
   "execution_count": 13,
   "metadata": {},
   "outputs": [
    {
     "name": "stdout",
     "output_type": "stream",
     "text": [
      "Model: \"model\"\n",
      "__________________________________________________________________________________________________\n",
      "Layer (type)                    Output Shape         Param #     Connected to                     \n",
      "==================================================================================================\n",
      "input_1 (InputLayer)            [(None, 2)]          0                                            \n",
      "__________________________________________________________________________________________________\n",
      "input_2 (InputLayer)            [(None, 2)]          0                                            \n",
      "__________________________________________________________________________________________________\n",
      "dense (Dense)                   (None, 100)          300         input_1[0][0]                    \n",
      "__________________________________________________________________________________________________\n",
      "dense_3 (Dense)                 (None, 50)           150         input_2[0][0]                    \n",
      "__________________________________________________________________________________________________\n",
      "dense_1 (Dense)                 (None, 30)           3030        dense[0][0]                      \n",
      "__________________________________________________________________________________________________\n",
      "dense_4 (Dense)                 (None, 30)           1530        dense_3[0][0]                    \n",
      "__________________________________________________________________________________________________\n",
      "dense_2 (Dense)                 (None, 7)            217         dense_1[0][0]                    \n",
      "__________________________________________________________________________________________________\n",
      "dense_5 (Dense)                 (None, 7)            217         dense_4[0][0]                    \n",
      "__________________________________________________________________________________________________\n",
      "concatenate (Concatenate)       (None, 14)           0           dense_2[0][0]                    \n",
      "                                                                 dense_5[0][0]                    \n",
      "__________________________________________________________________________________________________\n",
      "dense_6 (Dense)                 (None, 10)           150         concatenate[0][0]                \n",
      "__________________________________________________________________________________________________\n",
      "dense_7 (Dense)                 (None, 5)            55          dense_6[0][0]                    \n",
      "__________________________________________________________________________________________________\n",
      "dense_8 (Dense)                 (None, 30)           180         dense_7[0][0]                    \n",
      "__________________________________________________________________________________________________\n",
      "dense_9 (Dense)                 (None, 30)           930         dense_8[0][0]                    \n",
      "__________________________________________________________________________________________________\n",
      "dense_12 (Dense)                (None, 20)           620         dense_8[0][0]                    \n",
      "__________________________________________________________________________________________________\n",
      "dense_10 (Dense)                (None, 7)            217         dense_9[0][0]                    \n",
      "__________________________________________________________________________________________________\n",
      "dense_13 (Dense)                (None, 70)           1470        dense_12[0][0]                   \n",
      "__________________________________________________________________________________________________\n",
      "dense_11 (Dense)                (None, 2)            16          dense_10[0][0]                   \n",
      "__________________________________________________________________________________________________\n",
      "dense_14 (Dense)                (None, 2)            142         dense_13[0][0]                   \n",
      "==================================================================================================\n",
      "Total params: 9,224\n",
      "Trainable params: 9,224\n",
      "Non-trainable params: 0\n",
      "__________________________________________________________________________________________________\n"
     ]
    }
   ],
   "source": [
    "model = Model(inputs = [input1, input2], outputs = [output1, output2])\n",
    "model.summary()"
   ]
  },
  {
   "cell_type": "markdown",
   "metadata": {},
   "source": [
    "## 3. 훈련"
   ]
  },
  {
   "cell_type": "code",
   "execution_count": 14,
   "metadata": {},
   "outputs": [
    {
     "name": "stdout",
     "output_type": "stream",
     "text": [
      "Train on 80 samples, validate on 10 samples\n",
      "Epoch 1/100\n",
      "80/80 [==============================] - 1s 14ms/sample - loss: 34903.4876 - dense_11_loss: 2219.0393 - dense_14_loss: 32684.4473 - dense_11_mse: 2219.0393 - dense_14_mse: 32684.4473 - val_loss: 1057.6422 - val_dense_11_loss: 860.5211 - val_dense_14_loss: 197.1210 - val_dense_11_mse: 860.5211 - val_dense_14_mse: 197.1210\n",
      "Epoch 2/100\n",
      "80/80 [==============================] - 0s 3ms/sample - loss: 608.2382 - dense_11_loss: 530.3654 - dense_14_loss: 77.8727 - dense_11_mse: 530.3654 - dense_14_mse: 77.8727 - val_loss: 2607.1814 - val_dense_11_loss: 2336.1191 - val_dense_14_loss: 271.0622 - val_dense_11_mse: 2336.1191 - val_dense_14_mse: 271.0622\n",
      "Epoch 3/100\n",
      "80/80 [==============================] - 0s 3ms/sample - loss: 651.4201 - dense_11_loss: 593.9297 - dense_14_loss: 57.4903 - dense_11_mse: 593.9297 - dense_14_mse: 57.4903 - val_loss: 580.0054 - val_dense_11_loss: 560.7968 - val_dense_14_loss: 19.2086 - val_dense_11_mse: 560.7968 - val_dense_14_mse: 19.2086\n",
      "Epoch 4/100\n",
      "80/80 [==============================] - 0s 3ms/sample - loss: 471.0990 - dense_11_loss: 433.7541 - dense_14_loss: 37.3450 - dense_11_mse: 433.7541 - dense_14_mse: 37.3450 - val_loss: 1322.3290 - val_dense_11_loss: 1196.0059 - val_dense_14_loss: 126.3231 - val_dense_11_mse: 1196.0059 - val_dense_14_mse: 126.3231\n",
      "Epoch 5/100\n",
      "80/80 [==============================] - 0s 3ms/sample - loss: 372.1145 - dense_11_loss: 347.5424 - dense_14_loss: 24.5722 - dense_11_mse: 347.5424 - dense_14_mse: 24.5722 - val_loss: 483.9912 - val_dense_11_loss: 466.3970 - val_dense_14_loss: 17.5942 - val_dense_11_mse: 466.3970 - val_dense_14_mse: 17.5942\n",
      "Epoch 6/100\n",
      "80/80 [==============================] - 0s 3ms/sample - loss: 223.5274 - dense_11_loss: 206.6572 - dense_14_loss: 16.8701 - dense_11_mse: 206.6572 - dense_14_mse: 16.8701 - val_loss: 742.9168 - val_dense_11_loss: 696.4454 - val_dense_14_loss: 46.4714 - val_dense_11_mse: 696.4454 - val_dense_14_mse: 46.4714\n",
      "Epoch 7/100\n",
      "80/80 [==============================] - 0s 3ms/sample - loss: 78.7623 - dense_11_loss: 72.6454 - dense_14_loss: 6.1169 - dense_11_mse: 72.6454 - dense_14_mse: 6.1169 - val_loss: 39.2214 - val_dense_11_loss: 19.3413 - val_dense_14_loss: 19.8800 - val_dense_11_mse: 19.3413 - val_dense_14_mse: 19.8800\n",
      "Epoch 8/100\n",
      "80/80 [==============================] - 0s 3ms/sample - loss: 11.9400 - dense_11_loss: 10.3181 - dense_14_loss: 1.6219 - dense_11_mse: 10.3181 - dense_14_mse: 1.6219 - val_loss: 3.0009 - val_dense_11_loss: 0.7879 - val_dense_14_loss: 2.2129 - val_dense_11_mse: 0.7879 - val_dense_14_mse: 2.2129\n",
      "Epoch 9/100\n",
      "80/80 [==============================] - 0s 3ms/sample - loss: 2.6685 - dense_11_loss: 2.1324 - dense_14_loss: 0.5361 - dense_11_mse: 2.1324 - dense_14_mse: 0.5361 - val_loss: 1.6239 - val_dense_11_loss: 0.4452 - val_dense_14_loss: 1.1787 - val_dense_11_mse: 0.4452 - val_dense_14_mse: 1.1787\n",
      "Epoch 10/100\n",
      "80/80 [==============================] - 0s 3ms/sample - loss: 0.1918 - dense_11_loss: 0.0792 - dense_14_loss: 0.1126 - dense_11_mse: 0.0792 - dense_14_mse: 0.1126 - val_loss: 0.7272 - val_dense_11_loss: 0.4493 - val_dense_14_loss: 0.2779 - val_dense_11_mse: 0.4493 - val_dense_14_mse: 0.2779\n",
      "Epoch 11/100\n",
      "80/80 [==============================] - 0s 3ms/sample - loss: 0.1211 - dense_11_loss: 0.0711 - dense_14_loss: 0.0501 - dense_11_mse: 0.0711 - dense_14_mse: 0.0501 - val_loss: 0.3732 - val_dense_11_loss: 0.2388 - val_dense_14_loss: 0.1344 - val_dense_11_mse: 0.2388 - val_dense_14_mse: 0.1344\n",
      "Epoch 12/100\n",
      "80/80 [==============================] - 0s 3ms/sample - loss: 0.1005 - dense_11_loss: 0.0516 - dense_14_loss: 0.0489 - dense_11_mse: 0.0516 - dense_14_mse: 0.0489 - val_loss: 0.1240 - val_dense_11_loss: 0.1004 - val_dense_14_loss: 0.0236 - val_dense_11_mse: 0.1004 - val_dense_14_mse: 0.0236\n",
      "Epoch 13/100\n",
      "80/80 [==============================] - 0s 3ms/sample - loss: 0.1026 - dense_11_loss: 0.0548 - dense_14_loss: 0.0479 - dense_11_mse: 0.0548 - dense_14_mse: 0.0479 - val_loss: 0.6755 - val_dense_11_loss: 0.3176 - val_dense_14_loss: 0.3579 - val_dense_11_mse: 0.3176 - val_dense_14_mse: 0.3579\n",
      "Epoch 14/100\n",
      "80/80 [==============================] - 0s 3ms/sample - loss: 0.1704 - dense_11_loss: 0.0629 - dense_14_loss: 0.1075 - dense_11_mse: 0.0629 - dense_14_mse: 0.1075 - val_loss: 0.6959 - val_dense_11_loss: 0.3776 - val_dense_14_loss: 0.3183 - val_dense_11_mse: 0.3776 - val_dense_14_mse: 0.3183\n",
      "Epoch 15/100\n",
      "80/80 [==============================] - 0s 3ms/sample - loss: 0.1230 - dense_11_loss: 0.0585 - dense_14_loss: 0.0646 - dense_11_mse: 0.0585 - dense_14_mse: 0.0646 - val_loss: 0.3517 - val_dense_11_loss: 0.2255 - val_dense_14_loss: 0.1262 - val_dense_11_mse: 0.2255 - val_dense_14_mse: 0.1262\n",
      "Epoch 16/100\n",
      "80/80 [==============================] - 0s 3ms/sample - loss: 0.1013 - dense_11_loss: 0.0480 - dense_14_loss: 0.0533 - dense_11_mse: 0.0480 - dense_14_mse: 0.0533 - val_loss: 0.3173 - val_dense_11_loss: 0.1801 - val_dense_14_loss: 0.1372 - val_dense_11_mse: 0.1801 - val_dense_14_mse: 0.1372\n",
      "Epoch 17/100\n",
      "80/80 [==============================] - 0s 3ms/sample - loss: 0.1274 - dense_11_loss: 0.0409 - dense_14_loss: 0.0865 - dense_11_mse: 0.0409 - dense_14_mse: 0.0865 - val_loss: 0.2699 - val_dense_11_loss: 0.2221 - val_dense_14_loss: 0.0478 - val_dense_11_mse: 0.2221 - val_dense_14_mse: 0.0478\n",
      "Epoch 18/100\n",
      "80/80 [==============================] - 0s 3ms/sample - loss: 0.1687 - dense_11_loss: 0.0654 - dense_14_loss: 0.1033 - dense_11_mse: 0.0654 - dense_14_mse: 0.1033 - val_loss: 0.1247 - val_dense_11_loss: 0.1006 - val_dense_14_loss: 0.0242 - val_dense_11_mse: 0.1006 - val_dense_14_mse: 0.0242\n",
      "Epoch 19/100\n",
      "80/80 [==============================] - 0s 3ms/sample - loss: 0.1105 - dense_11_loss: 0.0548 - dense_14_loss: 0.0557 - dense_11_mse: 0.0548 - dense_14_mse: 0.0557 - val_loss: 0.3320 - val_dense_11_loss: 0.2759 - val_dense_14_loss: 0.0561 - val_dense_11_mse: 0.2759 - val_dense_14_mse: 0.0561\n",
      "Epoch 20/100\n",
      "80/80 [==============================] - 0s 3ms/sample - loss: 0.2330 - dense_11_loss: 0.0838 - dense_14_loss: 0.1492 - dense_11_mse: 0.0838 - dense_14_mse: 0.1492 - val_loss: 0.8829 - val_dense_11_loss: 0.2710 - val_dense_14_loss: 0.6119 - val_dense_11_mse: 0.2710 - val_dense_14_mse: 0.6119\n",
      "Epoch 21/100\n",
      "80/80 [==============================] - 0s 3ms/sample - loss: 0.3252 - dense_11_loss: 0.1397 - dense_14_loss: 0.1855 - dense_11_mse: 0.1397 - dense_14_mse: 0.1855 - val_loss: 0.1801 - val_dense_11_loss: 0.0812 - val_dense_14_loss: 0.0990 - val_dense_11_mse: 0.0812 - val_dense_14_mse: 0.0990\n",
      "Epoch 22/100\n",
      "80/80 [==============================] - 0s 3ms/sample - loss: 0.1508 - dense_11_loss: 0.0683 - dense_14_loss: 0.0825 - dense_11_mse: 0.0683 - dense_14_mse: 0.0825 - val_loss: 0.4815 - val_dense_11_loss: 0.2843 - val_dense_14_loss: 0.1972 - val_dense_11_mse: 0.2843 - val_dense_14_mse: 0.1972\n",
      "Epoch 23/100\n",
      "80/80 [==============================] - 0s 3ms/sample - loss: 0.1232 - dense_11_loss: 0.0548 - dense_14_loss: 0.0684 - dense_11_mse: 0.0548 - dense_14_mse: 0.0684 - val_loss: 0.1201 - val_dense_11_loss: 0.0967 - val_dense_14_loss: 0.0234 - val_dense_11_mse: 0.0967 - val_dense_14_mse: 0.0234\n",
      "Epoch 24/100\n",
      "80/80 [==============================] - 0s 3ms/sample - loss: 0.1125 - dense_11_loss: 0.0564 - dense_14_loss: 0.0561 - dense_11_mse: 0.0564 - dense_14_mse: 0.0561 - val_loss: 0.0854 - val_dense_11_loss: 0.0564 - val_dense_14_loss: 0.0290 - val_dense_11_mse: 0.0564 - val_dense_14_mse: 0.0290\n",
      "Epoch 25/100\n",
      "80/80 [==============================] - 0s 3ms/sample - loss: 0.2460 - dense_11_loss: 0.1064 - dense_14_loss: 0.1396 - dense_11_mse: 0.1064 - dense_14_mse: 0.1396 - val_loss: 1.2233 - val_dense_11_loss: 0.3912 - val_dense_14_loss: 0.8322 - val_dense_11_mse: 0.3912 - val_dense_14_mse: 0.8322\n",
      "Epoch 26/100\n",
      "80/80 [==============================] - 0s 3ms/sample - loss: 0.3070 - dense_11_loss: 0.0983 - dense_14_loss: 0.2087 - dense_11_mse: 0.0983 - dense_14_mse: 0.2087 - val_loss: 0.4575 - val_dense_11_loss: 0.2835 - val_dense_14_loss: 0.1740 - val_dense_11_mse: 0.2835 - val_dense_14_mse: 0.1740\n",
      "Epoch 27/100\n"
     ]
    },
    {
     "name": "stdout",
     "output_type": "stream",
     "text": [
      "80/80 [==============================] - 0s 3ms/sample - loss: 0.1267 - dense_11_loss: 0.0601 - dense_14_loss: 0.0666 - dense_11_mse: 0.0601 - dense_14_mse: 0.0666 - val_loss: 0.3178 - val_dense_11_loss: 0.2774 - val_dense_14_loss: 0.0404 - val_dense_11_mse: 0.2774 - val_dense_14_mse: 0.0404\n",
      "Epoch 28/100\n",
      "80/80 [==============================] - 0s 3ms/sample - loss: 0.1584 - dense_11_loss: 0.0692 - dense_14_loss: 0.0891 - dense_11_mse: 0.0692 - dense_14_mse: 0.0891 - val_loss: 0.2209 - val_dense_11_loss: 0.1794 - val_dense_14_loss: 0.0416 - val_dense_11_mse: 0.1794 - val_dense_14_mse: 0.0416\n",
      "Epoch 29/100\n",
      "80/80 [==============================] - 0s 3ms/sample - loss: 0.2303 - dense_11_loss: 0.0902 - dense_14_loss: 0.1402 - dense_11_mse: 0.0902 - dense_14_mse: 0.1402 - val_loss: 0.2858 - val_dense_11_loss: 0.2067 - val_dense_14_loss: 0.0791 - val_dense_11_mse: 0.2067 - val_dense_14_mse: 0.0791\n",
      "Epoch 30/100\n",
      "80/80 [==============================] - 0s 3ms/sample - loss: 0.5053 - dense_11_loss: 0.1496 - dense_14_loss: 0.3557 - dense_11_mse: 0.1496 - dense_14_mse: 0.3557 - val_loss: 0.1571 - val_dense_11_loss: 0.1025 - val_dense_14_loss: 0.0546 - val_dense_11_mse: 0.1025 - val_dense_14_mse: 0.0546\n",
      "Epoch 31/100\n",
      "80/80 [==============================] - 0s 3ms/sample - loss: 0.2167 - dense_11_loss: 0.0867 - dense_14_loss: 0.1300 - dense_11_mse: 0.0867 - dense_14_mse: 0.1300 - val_loss: 1.0414 - val_dense_11_loss: 0.7804 - val_dense_14_loss: 0.2610 - val_dense_11_mse: 0.7804 - val_dense_14_mse: 0.2610\n",
      "Epoch 32/100\n",
      "80/80 [==============================] - 0s 3ms/sample - loss: 0.1750 - dense_11_loss: 0.0872 - dense_14_loss: 0.0878 - dense_11_mse: 0.0872 - dense_14_mse: 0.0878 - val_loss: 0.2547 - val_dense_11_loss: 0.1199 - val_dense_14_loss: 0.1348 - val_dense_11_mse: 0.1199 - val_dense_14_mse: 0.1348\n",
      "Epoch 33/100\n",
      "80/80 [==============================] - 0s 3ms/sample - loss: 1.2875 - dense_11_loss: 0.3284 - dense_14_loss: 0.9591 - dense_11_mse: 0.3284 - dense_14_mse: 0.9591 - val_loss: 7.0543 - val_dense_11_loss: 1.0559 - val_dense_14_loss: 5.9985 - val_dense_11_mse: 1.0559 - val_dense_14_mse: 5.9985\n",
      "Epoch 34/100\n",
      "80/80 [==============================] - 0s 3ms/sample - loss: 20.4381 - dense_11_loss: 4.6641 - dense_14_loss: 15.7740 - dense_11_mse: 4.6641 - dense_14_mse: 15.7740 - val_loss: 3.9057 - val_dense_11_loss: 1.7669 - val_dense_14_loss: 2.1388 - val_dense_11_mse: 1.7669 - val_dense_14_mse: 2.1388\n",
      "Epoch 35/100\n",
      "80/80 [==============================] - 0s 3ms/sample - loss: 3.1440 - dense_11_loss: 1.0583 - dense_14_loss: 2.0857 - dense_11_mse: 1.0583 - dense_14_mse: 2.0857 - val_loss: 1.8784 - val_dense_11_loss: 1.4320 - val_dense_14_loss: 0.4464 - val_dense_11_mse: 1.4320 - val_dense_14_mse: 0.4464\n",
      "Epoch 36/100\n",
      "80/80 [==============================] - 0s 3ms/sample - loss: 1.3608 - dense_11_loss: 0.3207 - dense_14_loss: 1.0401 - dense_11_mse: 0.3207 - dense_14_mse: 1.0401 - val_loss: 9.0248 - val_dense_11_loss: 1.4128 - val_dense_14_loss: 7.6120 - val_dense_11_mse: 1.4128 - val_dense_14_mse: 7.6120\n",
      "Epoch 37/100\n",
      "80/80 [==============================] - 0s 3ms/sample - loss: 66.2546 - dense_11_loss: 9.2164 - dense_14_loss: 57.0383 - dense_11_mse: 9.2164 - dense_14_mse: 57.0383 - val_loss: 209.7412 - val_dense_11_loss: 35.3249 - val_dense_14_loss: 174.4163 - val_dense_11_mse: 35.3249 - val_dense_14_mse: 174.4163\n",
      "Epoch 38/100\n",
      "80/80 [==============================] - 0s 3ms/sample - loss: 64.5287 - dense_11_loss: 26.0171 - dense_14_loss: 38.5117 - dense_11_mse: 26.0171 - dense_14_mse: 38.5117 - val_loss: 7.3524 - val_dense_11_loss: 4.8618 - val_dense_14_loss: 2.4905 - val_dense_11_mse: 4.8618 - val_dense_14_mse: 2.4905\n",
      "Epoch 39/100\n",
      "80/80 [==============================] - 0s 3ms/sample - loss: 6.6120 - dense_11_loss: 4.5680 - dense_14_loss: 2.0439 - dense_11_mse: 4.5680 - dense_14_mse: 2.0439 - val_loss: 7.1898 - val_dense_11_loss: 1.9940 - val_dense_14_loss: 5.1958 - val_dense_11_mse: 1.9940 - val_dense_14_mse: 5.1958\n",
      "Epoch 40/100\n",
      "80/80 [==============================] - 0s 3ms/sample - loss: 0.8878 - dense_11_loss: 0.2764 - dense_14_loss: 0.6114 - dense_11_mse: 0.2764 - dense_14_mse: 0.6114 - val_loss: 0.4088 - val_dense_11_loss: 0.3068 - val_dense_14_loss: 0.1021 - val_dense_11_mse: 0.3068 - val_dense_14_mse: 0.1021\n",
      "Epoch 41/100\n",
      "80/80 [==============================] - 0s 3ms/sample - loss: 0.3013 - dense_11_loss: 0.0501 - dense_14_loss: 0.2512 - dense_11_mse: 0.0501 - dense_14_mse: 0.2512 - val_loss: 0.5022 - val_dense_11_loss: 0.2827 - val_dense_14_loss: 0.2195 - val_dense_11_mse: 0.2827 - val_dense_14_mse: 0.2195\n",
      "Epoch 42/100\n",
      "80/80 [==============================] - 0s 3ms/sample - loss: 0.6299 - dense_11_loss: 0.1306 - dense_14_loss: 0.4994 - dense_11_mse: 0.1306 - dense_14_mse: 0.4994 - val_loss: 1.3175 - val_dense_11_loss: 0.1158 - val_dense_14_loss: 1.2016 - val_dense_11_mse: 0.1158 - val_dense_14_mse: 1.2016\n",
      "Epoch 43/100\n",
      "80/80 [==============================] - 0s 3ms/sample - loss: 1.0882 - dense_11_loss: 0.3230 - dense_14_loss: 0.7652 - dense_11_mse: 0.3230 - dense_14_mse: 0.7652 - val_loss: 1.9896 - val_dense_11_loss: 0.0281 - val_dense_14_loss: 1.9615 - val_dense_11_mse: 0.0281 - val_dense_14_mse: 1.9615\n",
      "Epoch 44/100\n",
      "80/80 [==============================] - 0s 3ms/sample - loss: 3.1205 - dense_11_loss: 0.3750 - dense_14_loss: 2.7455 - dense_11_mse: 0.3750 - dense_14_mse: 2.7455 - val_loss: 1.2385 - val_dense_11_loss: 0.2342 - val_dense_14_loss: 1.0043 - val_dense_11_mse: 0.2342 - val_dense_14_mse: 1.0043\n",
      "Epoch 45/100\n",
      "80/80 [==============================] - 0s 3ms/sample - loss: 1.7876 - dense_11_loss: 0.2182 - dense_14_loss: 1.5693 - dense_11_mse: 0.2182 - dense_14_mse: 1.5693 - val_loss: 0.5943 - val_dense_11_loss: 0.2000 - val_dense_14_loss: 0.3943 - val_dense_11_mse: 0.2000 - val_dense_14_mse: 0.3943\n",
      "Epoch 46/100\n",
      "80/80 [==============================] - 0s 3ms/sample - loss: 1.4450 - dense_11_loss: 0.5158 - dense_14_loss: 0.9292 - dense_11_mse: 0.5158 - dense_14_mse: 0.9292 - val_loss: 0.5476 - val_dense_11_loss: 0.1658 - val_dense_14_loss: 0.3818 - val_dense_11_mse: 0.1658 - val_dense_14_mse: 0.3818\n",
      "Epoch 47/100\n",
      "80/80 [==============================] - 0s 3ms/sample - loss: 10.7441 - dense_11_loss: 0.5141 - dense_14_loss: 10.2300 - dense_11_mse: 0.5141 - dense_14_mse: 10.2300 - val_loss: 19.6354 - val_dense_11_loss: 3.5244 - val_dense_14_loss: 16.1109 - val_dense_11_mse: 3.5244 - val_dense_14_mse: 16.1109\n",
      "Epoch 48/100\n",
      "80/80 [==============================] - 0s 3ms/sample - loss: 45.2052 - dense_11_loss: 2.5991 - dense_14_loss: 42.6061 - dense_11_mse: 2.5991 - dense_14_mse: 42.6061 - val_loss: 139.4123 - val_dense_11_loss: 1.2648 - val_dense_14_loss: 138.1475 - val_dense_11_mse: 1.2648 - val_dense_14_mse: 138.1475\n",
      "Epoch 49/100\n",
      "80/80 [==============================] - 0s 3ms/sample - loss: 677.5289 - dense_11_loss: 192.9055 - dense_14_loss: 484.6234 - dense_11_mse: 192.9055 - dense_14_mse: 484.6234 - val_loss: 558.0918 - val_dense_11_loss: 288.3578 - val_dense_14_loss: 269.7341 - val_dense_11_mse: 288.3578 - val_dense_14_mse: 269.7341\n",
      "Epoch 50/100\n",
      "80/80 [==============================] - 0s 3ms/sample - loss: 79.4662 - dense_11_loss: 24.1837 - dense_14_loss: 55.2825 - dense_11_mse: 24.1837 - dense_14_mse: 55.2825 - val_loss: 6.3707 - val_dense_11_loss: 3.7660 - val_dense_14_loss: 2.6047 - val_dense_11_mse: 3.7660 - val_dense_14_mse: 2.6047\n",
      "Epoch 51/100\n",
      "80/80 [==============================] - 0s 3ms/sample - loss: 14.3841 - dense_11_loss: 0.7626 - dense_14_loss: 13.6215 - dense_11_mse: 0.7626 - dense_14_mse: 13.6215 - val_loss: 1.3867 - val_dense_11_loss: 0.0270 - val_dense_14_loss: 1.3597 - val_dense_11_mse: 0.0270 - val_dense_14_mse: 1.3597\n",
      "Epoch 52/100\n",
      "80/80 [==============================] - 0s 3ms/sample - loss: 0.7089 - dense_11_loss: 0.1491 - dense_14_loss: 0.5598 - dense_11_mse: 0.1491 - dense_14_mse: 0.5598 - val_loss: 0.4634 - val_dense_11_loss: 0.0425 - val_dense_14_loss: 0.4209 - val_dense_11_mse: 0.0425 - val_dense_14_mse: 0.4209\n",
      "Epoch 53/100\n",
      "80/80 [==============================] - 0s 3ms/sample - loss: 0.3805 - dense_11_loss: 0.1256 - dense_14_loss: 0.2549 - dense_11_mse: 0.1256 - dense_14_mse: 0.2549 - val_loss: 0.2100 - val_dense_11_loss: 0.1180 - val_dense_14_loss: 0.0920 - val_dense_11_mse: 0.1180 - val_dense_14_mse: 0.0920\n"
     ]
    },
    {
     "name": "stdout",
     "output_type": "stream",
     "text": [
      "Epoch 54/100\n",
      "80/80 [==============================] - 0s 3ms/sample - loss: 0.4557 - dense_11_loss: 0.1197 - dense_14_loss: 0.3360 - dense_11_mse: 0.1197 - dense_14_mse: 0.3360 - val_loss: 0.1512 - val_dense_11_loss: 0.0482 - val_dense_14_loss: 0.1031 - val_dense_11_mse: 0.0482 - val_dense_14_mse: 0.1031\n",
      "Epoch 55/100\n",
      "80/80 [==============================] - 0s 3ms/sample - loss: 0.3423 - dense_11_loss: 0.1243 - dense_14_loss: 0.2179 - dense_11_mse: 0.1243 - dense_14_mse: 0.2179 - val_loss: 0.4555 - val_dense_11_loss: 0.0317 - val_dense_14_loss: 0.4238 - val_dense_11_mse: 0.0317 - val_dense_14_mse: 0.4238\n",
      "Epoch 56/100\n",
      "80/80 [==============================] - 0s 3ms/sample - loss: 0.5027 - dense_11_loss: 0.1117 - dense_14_loss: 0.3910 - dense_11_mse: 0.1117 - dense_14_mse: 0.3910 - val_loss: 0.8274 - val_dense_11_loss: 0.0186 - val_dense_14_loss: 0.8088 - val_dense_11_mse: 0.0186 - val_dense_14_mse: 0.8088\n",
      "Epoch 57/100\n",
      "80/80 [==============================] - 0s 3ms/sample - loss: 0.8690 - dense_11_loss: 0.1698 - dense_14_loss: 0.6992 - dense_11_mse: 0.1698 - dense_14_mse: 0.6992 - val_loss: 1.7545 - val_dense_11_loss: 0.5570 - val_dense_14_loss: 1.1975 - val_dense_11_mse: 0.5570 - val_dense_14_mse: 1.1975\n",
      "Epoch 58/100\n",
      "80/80 [==============================] - 0s 3ms/sample - loss: 2.7950 - dense_11_loss: 0.2066 - dense_14_loss: 2.5884 - dense_11_mse: 0.2066 - dense_14_mse: 2.5884 - val_loss: 0.8785 - val_dense_11_loss: 0.1205 - val_dense_14_loss: 0.7580 - val_dense_11_mse: 0.1205 - val_dense_14_mse: 0.7580\n",
      "Epoch 59/100\n",
      "80/80 [==============================] - 0s 3ms/sample - loss: 0.9219 - dense_11_loss: 0.1396 - dense_14_loss: 0.7822 - dense_11_mse: 0.1396 - dense_14_mse: 0.7822 - val_loss: 0.3396 - val_dense_11_loss: 0.0045 - val_dense_14_loss: 0.3351 - val_dense_11_mse: 0.0045 - val_dense_14_mse: 0.3351\n",
      "Epoch 60/100\n",
      "80/80 [==============================] - 0s 3ms/sample - loss: 2.1627 - dense_11_loss: 0.1617 - dense_14_loss: 2.0010 - dense_11_mse: 0.1617 - dense_14_mse: 2.0010 - val_loss: 1.1147 - val_dense_11_loss: 0.3077 - val_dense_14_loss: 0.8070 - val_dense_11_mse: 0.3077 - val_dense_14_mse: 0.8070\n",
      "Epoch 61/100\n",
      "80/80 [==============================] - 0s 3ms/sample - loss: 1.0963 - dense_11_loss: 0.0766 - dense_14_loss: 1.0198 - dense_11_mse: 0.0766 - dense_14_mse: 1.0198 - val_loss: 0.1783 - val_dense_11_loss: 0.0712 - val_dense_14_loss: 0.1071 - val_dense_11_mse: 0.0712 - val_dense_14_mse: 0.1071\n",
      "Epoch 62/100\n",
      "80/80 [==============================] - 0s 3ms/sample - loss: 7.5527 - dense_11_loss: 0.3348 - dense_14_loss: 7.2179 - dense_11_mse: 0.3348 - dense_14_mse: 7.2179 - val_loss: 0.1258 - val_dense_11_loss: 0.0687 - val_dense_14_loss: 0.0572 - val_dense_11_mse: 0.0687 - val_dense_14_mse: 0.0572\n",
      "Epoch 63/100\n",
      "80/80 [==============================] - 0s 3ms/sample - loss: 1.6576 - dense_11_loss: 0.1357 - dense_14_loss: 1.5219 - dense_11_mse: 0.1357 - dense_14_mse: 1.5219 - val_loss: 0.0930 - val_dense_11_loss: 0.0228 - val_dense_14_loss: 0.0701 - val_dense_11_mse: 0.0228 - val_dense_14_mse: 0.0701\n",
      "Epoch 64/100\n",
      "80/80 [==============================] - 0s 3ms/sample - loss: 1.0769 - dense_11_loss: 0.2621 - dense_14_loss: 0.8148 - dense_11_mse: 0.2621 - dense_14_mse: 0.8148 - val_loss: 0.6320 - val_dense_11_loss: 0.1076 - val_dense_14_loss: 0.5244 - val_dense_11_mse: 0.1076 - val_dense_14_mse: 0.5244\n",
      "Epoch 65/100\n",
      "80/80 [==============================] - 0s 3ms/sample - loss: 0.9486 - dense_11_loss: 0.1529 - dense_14_loss: 0.7958 - dense_11_mse: 0.1529 - dense_14_mse: 0.7958 - val_loss: 0.1306 - val_dense_11_loss: 0.0256 - val_dense_14_loss: 0.1051 - val_dense_11_mse: 0.0256 - val_dense_14_mse: 0.1051\n",
      "Epoch 66/100\n",
      "80/80 [==============================] - 0s 3ms/sample - loss: 0.3321 - dense_11_loss: 0.2045 - dense_14_loss: 0.1276 - dense_11_mse: 0.2045 - dense_14_mse: 0.1276 - val_loss: 0.2789 - val_dense_11_loss: 0.2320 - val_dense_14_loss: 0.0469 - val_dense_11_mse: 0.2320 - val_dense_14_mse: 0.0469\n",
      "Epoch 67/100\n",
      "80/80 [==============================] - 0s 3ms/sample - loss: 1.1602 - dense_11_loss: 0.1724 - dense_14_loss: 0.9878 - dense_11_mse: 0.1724 - dense_14_mse: 0.9878 - val_loss: 2.9155 - val_dense_11_loss: 0.0929 - val_dense_14_loss: 2.8226 - val_dense_11_mse: 0.0929 - val_dense_14_mse: 2.8226\n",
      "Epoch 68/100\n",
      "80/80 [==============================] - 0s 3ms/sample - loss: 0.7593 - dense_11_loss: 0.0627 - dense_14_loss: 0.6966 - dense_11_mse: 0.0627 - dense_14_mse: 0.6966 - val_loss: 0.2994 - val_dense_11_loss: 0.2668 - val_dense_14_loss: 0.0326 - val_dense_11_mse: 0.2668 - val_dense_14_mse: 0.0326\n",
      "Epoch 69/100\n",
      "80/80 [==============================] - 0s 3ms/sample - loss: 1.2351 - dense_11_loss: 0.1530 - dense_14_loss: 1.0821 - dense_11_mse: 0.1530 - dense_14_mse: 1.0821 - val_loss: 8.3480 - val_dense_11_loss: 0.1584 - val_dense_14_loss: 8.1897 - val_dense_11_mse: 0.1584 - val_dense_14_mse: 8.1897\n",
      "Epoch 70/100\n",
      "80/80 [==============================] - 0s 3ms/sample - loss: 2.1838 - dense_11_loss: 0.4331 - dense_14_loss: 1.7507 - dense_11_mse: 0.4331 - dense_14_mse: 1.7507 - val_loss: 3.4957 - val_dense_11_loss: 0.1604 - val_dense_14_loss: 3.3353 - val_dense_11_mse: 0.1604 - val_dense_14_mse: 3.3353\n",
      "Epoch 71/100\n",
      "80/80 [==============================] - 0s 3ms/sample - loss: 4.5792 - dense_11_loss: 0.6315 - dense_14_loss: 3.9477 - dense_11_mse: 0.6315 - dense_14_mse: 3.9477 - val_loss: 1.9797 - val_dense_11_loss: 1.7520 - val_dense_14_loss: 0.2277 - val_dense_11_mse: 1.7520 - val_dense_14_mse: 0.2277\n",
      "Epoch 72/100\n",
      "80/80 [==============================] - 0s 3ms/sample - loss: 1.8914 - dense_11_loss: 0.6610 - dense_14_loss: 1.2304 - dense_11_mse: 0.6610 - dense_14_mse: 1.2304 - val_loss: 1.3689 - val_dense_11_loss: 0.3516 - val_dense_14_loss: 1.0173 - val_dense_11_mse: 0.3516 - val_dense_14_mse: 1.0173\n",
      "Epoch 73/100\n",
      "80/80 [==============================] - 0s 3ms/sample - loss: 2.6729 - dense_11_loss: 0.4100 - dense_14_loss: 2.2629 - dense_11_mse: 0.4100 - dense_14_mse: 2.2629 - val_loss: 2.7031 - val_dense_11_loss: 0.7632 - val_dense_14_loss: 1.9399 - val_dense_11_mse: 0.7632 - val_dense_14_mse: 1.9399\n",
      "Epoch 74/100\n",
      "80/80 [==============================] - 0s 3ms/sample - loss: 13.9253 - dense_11_loss: 1.1019 - dense_14_loss: 12.8233 - dense_11_mse: 1.1019 - dense_14_mse: 12.8233 - val_loss: 7.8748 - val_dense_11_loss: 3.3999 - val_dense_14_loss: 4.4749 - val_dense_11_mse: 3.3999 - val_dense_14_mse: 4.4749\n",
      "Epoch 75/100\n",
      "80/80 [==============================] - 0s 3ms/sample - loss: 18.6940 - dense_11_loss: 2.3635 - dense_14_loss: 16.3304 - dense_11_mse: 2.3635 - dense_14_mse: 16.3304 - val_loss: 11.6711 - val_dense_11_loss: 0.9775 - val_dense_14_loss: 10.6936 - val_dense_11_mse: 0.9775 - val_dense_14_mse: 10.6936\n",
      "Epoch 76/100\n",
      "80/80 [==============================] - 0s 3ms/sample - loss: 8.0255 - dense_11_loss: 0.4106 - dense_14_loss: 7.6150 - dense_11_mse: 0.4106 - dense_14_mse: 7.6150 - val_loss: 89.0734 - val_dense_11_loss: 4.5990 - val_dense_14_loss: 84.4744 - val_dense_11_mse: 4.5990 - val_dense_14_mse: 84.4744\n",
      "Epoch 77/100\n",
      "80/80 [==============================] - 0s 3ms/sample - loss: 471.7678 - dense_11_loss: 67.7828 - dense_14_loss: 403.9850 - dense_11_mse: 67.7828 - dense_14_mse: 403.9850 - val_loss: 832.1092 - val_dense_11_loss: 153.8144 - val_dense_14_loss: 678.2948 - val_dense_11_mse: 153.8144 - val_dense_14_mse: 678.2948\n",
      "Epoch 78/100\n",
      "80/80 [==============================] - 0s 3ms/sample - loss: 426.9404 - dense_11_loss: 116.9485 - dense_14_loss: 309.9919 - dense_11_mse: 116.9485 - dense_14_mse: 309.9919 - val_loss: 12.9532 - val_dense_11_loss: 8.2987 - val_dense_14_loss: 4.6545 - val_dense_11_mse: 8.2987 - val_dense_14_mse: 4.6545\n",
      "Epoch 79/100\n",
      "80/80 [==============================] - 0s 3ms/sample - loss: 1.9699 - dense_11_loss: 1.5761 - dense_14_loss: 0.3938 - dense_11_mse: 1.5761 - dense_14_mse: 0.3938 - val_loss: 0.1347 - val_dense_11_loss: 0.1143 - val_dense_14_loss: 0.0204 - val_dense_11_mse: 0.1143 - val_dense_14_mse: 0.0204\n",
      "Epoch 80/100\n",
      "80/80 [==============================] - 0s 3ms/sample - loss: 0.4416 - dense_11_loss: 0.2326 - dense_14_loss: 0.2090 - dense_11_mse: 0.2326 - dense_14_mse: 0.2090 - val_loss: 0.3306 - val_dense_11_loss: 0.0048 - val_dense_14_loss: 0.3257 - val_dense_11_mse: 0.0048 - val_dense_14_mse: 0.3257\n"
     ]
    },
    {
     "name": "stdout",
     "output_type": "stream",
     "text": [
      "Epoch 81/100\n",
      "80/80 [==============================] - 0s 3ms/sample - loss: 0.0872 - dense_11_loss: 0.0653 - dense_14_loss: 0.0219 - dense_11_mse: 0.0653 - dense_14_mse: 0.0219 - val_loss: 0.3055 - val_dense_11_loss: 0.2431 - val_dense_14_loss: 0.0625 - val_dense_11_mse: 0.2431 - val_dense_14_mse: 0.0625\n",
      "Epoch 82/100\n",
      "80/80 [==============================] - 0s 3ms/sample - loss: 0.0515 - dense_11_loss: 0.0218 - dense_14_loss: 0.0297 - dense_11_mse: 0.0218 - dense_14_mse: 0.0297 - val_loss: 0.2166 - val_dense_11_loss: 0.0181 - val_dense_14_loss: 0.1985 - val_dense_11_mse: 0.0181 - val_dense_14_mse: 0.1985\n",
      "Epoch 83/100\n",
      "80/80 [==============================] - 0s 3ms/sample - loss: 0.1117 - dense_11_loss: 0.0161 - dense_14_loss: 0.0957 - dense_11_mse: 0.0161 - dense_14_mse: 0.0957 - val_loss: 0.1029 - val_dense_11_loss: 0.0461 - val_dense_14_loss: 0.0567 - val_dense_11_mse: 0.0461 - val_dense_14_mse: 0.0567\n",
      "Epoch 84/100\n",
      "80/80 [==============================] - 0s 3ms/sample - loss: 0.0601 - dense_11_loss: 0.0167 - dense_14_loss: 0.0434 - dense_11_mse: 0.0167 - dense_14_mse: 0.0434 - val_loss: 0.0433 - val_dense_11_loss: 0.0151 - val_dense_14_loss: 0.0282 - val_dense_11_mse: 0.0151 - val_dense_14_mse: 0.0282\n",
      "Epoch 85/100\n",
      "80/80 [==============================] - 0s 3ms/sample - loss: 0.0551 - dense_11_loss: 0.0088 - dense_14_loss: 0.0463 - dense_11_mse: 0.0088 - dense_14_mse: 0.0463 - val_loss: 0.0908 - val_dense_11_loss: 0.0730 - val_dense_14_loss: 0.0179 - val_dense_11_mse: 0.0730 - val_dense_14_mse: 0.0179\n",
      "Epoch 86/100\n",
      "80/80 [==============================] - 0s 3ms/sample - loss: 0.0695 - dense_11_loss: 0.0346 - dense_14_loss: 0.0349 - dense_11_mse: 0.0346 - dense_14_mse: 0.0349 - val_loss: 0.0566 - val_dense_11_loss: 0.0112 - val_dense_14_loss: 0.0454 - val_dense_11_mse: 0.0112 - val_dense_14_mse: 0.0454\n",
      "Epoch 87/100\n",
      "80/80 [==============================] - 0s 3ms/sample - loss: 0.0843 - dense_11_loss: 0.0155 - dense_14_loss: 0.0688 - dense_11_mse: 0.0155 - dense_14_mse: 0.0688 - val_loss: 0.1099 - val_dense_11_loss: 0.1061 - val_dense_14_loss: 0.0038 - val_dense_11_mse: 0.1061 - val_dense_14_mse: 0.0038\n",
      "Epoch 88/100\n",
      "80/80 [==============================] - 0s 3ms/sample - loss: 0.1456 - dense_11_loss: 0.0446 - dense_14_loss: 0.1010 - dense_11_mse: 0.0446 - dense_14_mse: 0.1010 - val_loss: 0.1253 - val_dense_11_loss: 0.1207 - val_dense_14_loss: 0.0046 - val_dense_11_mse: 0.1207 - val_dense_14_mse: 0.0046\n",
      "Epoch 89/100\n",
      "80/80 [==============================] - 0s 3ms/sample - loss: 0.1024 - dense_11_loss: 0.0705 - dense_14_loss: 0.0319 - dense_11_mse: 0.0705 - dense_14_mse: 0.0319 - val_loss: 0.2259 - val_dense_11_loss: 0.1988 - val_dense_14_loss: 0.0272 - val_dense_11_mse: 0.1988 - val_dense_14_mse: 0.0272\n",
      "Epoch 90/100\n",
      "80/80 [==============================] - 0s 3ms/sample - loss: 0.0990 - dense_11_loss: 0.0496 - dense_14_loss: 0.0494 - dense_11_mse: 0.0496 - dense_14_mse: 0.0494 - val_loss: 0.1461 - val_dense_11_loss: 0.0252 - val_dense_14_loss: 0.1210 - val_dense_11_mse: 0.0252 - val_dense_14_mse: 0.1210\n",
      "Epoch 91/100\n",
      "80/80 [==============================] - 0s 3ms/sample - loss: 0.5990 - dense_11_loss: 0.0983 - dense_14_loss: 0.5007 - dense_11_mse: 0.0983 - dense_14_mse: 0.5007 - val_loss: 0.5598 - val_dense_11_loss: 0.0172 - val_dense_14_loss: 0.5426 - val_dense_11_mse: 0.0172 - val_dense_14_mse: 0.5426\n",
      "Epoch 92/100\n",
      "80/80 [==============================] - 0s 3ms/sample - loss: 0.4256 - dense_11_loss: 0.0811 - dense_14_loss: 0.3446 - dense_11_mse: 0.0811 - dense_14_mse: 0.3446 - val_loss: 0.4019 - val_dense_11_loss: 0.0055 - val_dense_14_loss: 0.3964 - val_dense_11_mse: 0.0055 - val_dense_14_mse: 0.3964\n",
      "Epoch 93/100\n",
      "80/80 [==============================] - 0s 3ms/sample - loss: 0.1661 - dense_11_loss: 0.0285 - dense_14_loss: 0.1376 - dense_11_mse: 0.0285 - dense_14_mse: 0.1376 - val_loss: 0.8705 - val_dense_11_loss: 0.0553 - val_dense_14_loss: 0.8153 - val_dense_11_mse: 0.0553 - val_dense_14_mse: 0.8153\n",
      "Epoch 94/100\n",
      "80/80 [==============================] - 0s 3ms/sample - loss: 1.3654 - dense_11_loss: 0.1021 - dense_14_loss: 1.2633 - dense_11_mse: 0.1021 - dense_14_mse: 1.2633 - val_loss: 0.0596 - val_dense_11_loss: 0.0286 - val_dense_14_loss: 0.0310 - val_dense_11_mse: 0.0286 - val_dense_14_mse: 0.0310\n",
      "Epoch 95/100\n",
      "80/80 [==============================] - 0s 3ms/sample - loss: 0.1288 - dense_11_loss: 0.0913 - dense_14_loss: 0.0376 - dense_11_mse: 0.0913 - dense_14_mse: 0.0376 - val_loss: 0.4333 - val_dense_11_loss: 0.2995 - val_dense_14_loss: 0.1339 - val_dense_11_mse: 0.2995 - val_dense_14_mse: 0.1339\n",
      "Epoch 96/100\n",
      "80/80 [==============================] - 0s 3ms/sample - loss: 0.3798 - dense_11_loss: 0.1896 - dense_14_loss: 0.1902 - dense_11_mse: 0.1896 - dense_14_mse: 0.1902 - val_loss: 0.3134 - val_dense_11_loss: 0.1320 - val_dense_14_loss: 0.1814 - val_dense_11_mse: 0.1320 - val_dense_14_mse: 0.1814\n",
      "Epoch 97/100\n",
      "80/80 [==============================] - 0s 3ms/sample - loss: 0.3256 - dense_11_loss: 0.0349 - dense_14_loss: 0.2907 - dense_11_mse: 0.0349 - dense_14_mse: 0.2907 - val_loss: 0.3481 - val_dense_11_loss: 0.0061 - val_dense_14_loss: 0.3420 - val_dense_11_mse: 0.0061 - val_dense_14_mse: 0.3420\n",
      "Epoch 98/100\n",
      "80/80 [==============================] - 0s 3ms/sample - loss: 1.1619 - dense_11_loss: 0.0731 - dense_14_loss: 1.0888 - dense_11_mse: 0.0731 - dense_14_mse: 1.0888 - val_loss: 0.5932 - val_dense_11_loss: 0.4453 - val_dense_14_loss: 0.1479 - val_dense_11_mse: 0.4453 - val_dense_14_mse: 0.1479\n",
      "Epoch 99/100\n",
      "80/80 [==============================] - 0s 3ms/sample - loss: 5.5020 - dense_11_loss: 0.4499 - dense_14_loss: 5.0521 - dense_11_mse: 0.4499 - dense_14_mse: 5.0521 - val_loss: 0.9372 - val_dense_11_loss: 0.0410 - val_dense_14_loss: 0.8962 - val_dense_11_mse: 0.0410 - val_dense_14_mse: 0.8962\n",
      "Epoch 100/100\n",
      "80/80 [==============================] - 0s 3ms/sample - loss: 1.6134 - dense_11_loss: 0.4837 - dense_14_loss: 1.1297 - dense_11_mse: 0.4837 - dense_14_mse: 1.1297 - val_loss: 0.4074 - val_dense_11_loss: 0.0829 - val_dense_14_loss: 0.3245 - val_dense_11_mse: 0.0829 - val_dense_14_mse: 0.3245\n"
     ]
    }
   ],
   "source": [
    "model.compile(loss='mse', optimizer='adam', metrics=['mse'])\n",
    "hist = model.fit([x1_train, x2_train], [y1_train, y2_train], epochs=100, batch_size=1, validation_data=([x1_val, x2_val] , [y1_val, y2_val]))"
   ]
  },
  {
   "cell_type": "markdown",
   "metadata": {},
   "source": [
    "## 4. 학습과정확인 "
   ]
  },
  {
   "cell_type": "code",
   "execution_count": 15,
   "metadata": {},
   "outputs": [
    {
     "data": {
      "image/png": "[encoded data removed]",
      "text/plain": [
       "<Figure size 432x288 with 1 Axes>"
      ]
     },
     "metadata": {
      "needs_background": "light"
     },
     "output_type": "display_data"
    }
   ],
   "source": [
    "import matplotlib.pyplot as plt\n",
    "#print(hist.history)\n",
    "plt.plot(hist.history['loss'])\n",
    "plt.plot(hist.history['val_loss'])\n",
    "#plt.ylim(0.0, 1.5)\n",
    "plt.ylabel('loss')\n",
    "plt.xlabel('epoch')\n",
    "plt.legend(['loss', 'val_loss'], loc='upper right')\n",
    "plt.show()"
   ]
  },
  {
   "cell_type": "markdown",
   "metadata": {},
   "source": [
    "## 5. 평가 예측"
   ]
  },
  {
   "cell_type": "code",
   "execution_count": 16,
   "metadata": {},
   "outputs": [
    {
     "name": "stdout",
     "output_type": "stream",
     "text": [
      "10/10 [==============================] - 0s 2ms/sample - loss: 0.9674 - dense_11_loss: 0.3178 - dense_14_loss: 0.6496 - dense_11_mse: 0.3178 - dense_14_mse: 0.6496\n",
      "mse :  [0.9674274861812592, 0.3178359, 0.64959157, 0.3178359, 0.64959157]\n"
     ]
    }
   ],
   "source": [
    "mse = model.evaluate([x1_test, x2_test], [y1_test, y2_test], batch_size=1)\n",
    "print(\"mse : \", mse )"
   ]
  },
  {
   "cell_type": "markdown",
   "metadata": {},
   "source": [
    "* y1_test : 91에서 100, 191에서 200\n",
    "* y2_test : 591에서 600, 691에서 700"
   ]
  },
  {
   "cell_type": "code",
   "execution_count": 17,
   "metadata": {},
   "outputs": [
    {
     "name": "stdout",
     "output_type": "stream",
     "text": [
      "y1 예측값 : \n",
      " [[ 91.02833  190.49353 ]\n",
      " [ 92.00755  191.4657  ]\n",
      " [ 92.97272  192.42719 ]\n",
      " [ 93.9117   193.36871 ]\n",
      " [ 94.846695 194.30725 ]\n",
      " [ 95.78053  195.24481 ]\n",
      " [ 96.71423  196.18234 ]\n",
      " [ 97.648026 197.11989 ]\n",
      " [ 98.581795 198.0574  ]\n",
      " [ 99.515594 198.99501 ]] \n",
      " y2 예측값 : \n",
      " [[591.2311  691.949  ]\n",
      " [592.22375 692.9734 ]\n",
      " [593.21783 694.002  ]\n",
      " [594.21454 695.03845]\n",
      " [595.2164  696.08093]\n",
      " [596.2199  697.12524]\n",
      " [597.2235  698.1698 ]\n",
      " [598.227   699.2142 ]\n",
      " [599.23047 700.2586 ]\n",
      " [600.2342  701.3031 ]]\n"
     ]
    }
   ],
   "source": [
    "y1_predict, y2_predict = model.predict([x1_test, x2_test])\n",
    "print(\"y1 예측값 : \\n\", y1_predict, \"\\n y2 예측값 : \\n\", y2_predict)"
   ]
  },
  {
   "cell_type": "code",
   "execution_count": null,
   "metadata": {},
   "outputs": [],
   "source": []
  }
 ],
 "metadata": {
  "kernelspec": {
   "display_name": "Python 3",
   "language": "python",
   "name": "python3"
  },
  "language_info": {
   "codemirror_mode": {
    "name": "ipython",
    "version": 3
   },
   "file_extension": ".py",
   "mimetype": "text/x-python",
   "name": "python",
   "nbconvert_exporter": "python",
   "pygments_lexer": "ipython3",
   "version": "3.7.6"
  }
 },
 "nbformat": 4,
 "nbformat_minor": 4
}
