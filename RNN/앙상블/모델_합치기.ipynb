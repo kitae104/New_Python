{
 "cells": [
  {
   "cell_type": "markdown",
   "metadata": {},
   "source": [
    "# Concatenate\n",
    "* x1은 1에서 100, 311에서 410, 1에서 100의 총 (300, 3)의 모양\n",
    "* x2는 101에서 200, 311에서 410, 101에서 200의 총 (300, 3)의 모양 \n",
    "* 이 두 데이터셋이 앙상블이 되어 501에서 600이 나오는 구조 "
   ]
  },
  {
   "cell_type": "markdown",
   "metadata": {},
   "source": [
    "## 1. 데이터"
   ]
  },
  {
   "cell_type": "code",
   "execution_count": 1,
   "metadata": {},
   "outputs": [],
   "source": [
    "import numpy as np"
   ]
  },
  {
   "cell_type": "markdown",
   "metadata": {},
   "source": [
    "* 각각 300개씩의 데이터를 가지고 있는 2개의 x \n",
    "* 100개의 데이터를 가지고 있는 1개의 y"
   ]
  },
  {
   "cell_type": "code",
   "execution_count": 2,
   "metadata": {},
   "outputs": [
    {
     "name": "stdout",
     "output_type": "stream",
     "text": [
      "(3, 100)\n",
      "(1, 100)\n"
     ]
    }
   ],
   "source": [
    "x1 = np.array([range(100), range(311,411), range(100)])\n",
    "x2 = np.array([range(101,201), range(311,411), range(101,201)])\n",
    "y = np.array([range(501, 601)])\n",
    "print(x1.shape)\n",
    "print(y.shape)"
   ]
  },
  {
   "cell_type": "markdown",
   "metadata": {},
   "source": [
    "#### 모양 바꿔주기 "
   ]
  },
  {
   "cell_type": "code",
   "execution_count": 3,
   "metadata": {},
   "outputs": [
    {
     "name": "stdout",
     "output_type": "stream",
     "text": [
      "(100, 3)\n",
      "(100, 1)\n"
     ]
    }
   ],
   "source": [
    "x1 = np.transpose(x1)\n",
    "x2 = np.transpose(x2)\n",
    "y = np.transpose(y)\n",
    "print(x1.shape)\n",
    "print(y.shape)"
   ]
  },
  {
   "cell_type": "markdown",
   "metadata": {},
   "source": [
    "#### train, test, validation 분리 "
   ]
  },
  {
   "cell_type": "code",
   "execution_count": 4,
   "metadata": {},
   "outputs": [],
   "source": [
    "from sklearn.model_selection import train_test_split"
   ]
  },
  {
   "cell_type": "code",
   "execution_count": 5,
   "metadata": {},
   "outputs": [],
   "source": [
    "x1_train, x1_test, y_train, y_test = train_test_split(x1, y, random_state=66, test_size=0.4, shuffle=False)\n",
    "x1_val, x1_test, y_val, y_test = train_test_split(x1_test, y_test, random_state=66, test_size=0.5, shuffle=False)\n",
    "x2_train, x2_test = train_test_split(x2, random_state=66, test_size=0.4, shuffle=False)\n",
    "x2_val, x2_test= train_test_split(x2_test, random_state=66, test_size=0.5, shuffle = False)"
   ]
  },
  {
   "cell_type": "markdown",
   "metadata": {},
   "source": [
    "## 2 모델 구성 "
   ]
  },
  {
   "cell_type": "code",
   "execution_count": 6,
   "metadata": {},
   "outputs": [],
   "source": [
    "from tensorflow.keras.models import Sequential, Model\n",
    "from tensorflow.keras.layers import Dense, Input"
   ]
  },
  {
   "cell_type": "markdown",
   "metadata": {},
   "source": [
    "#### 서로 다른 2개의 레이어 만들기"
   ]
  },
  {
   "cell_type": "code",
   "execution_count": 7,
   "metadata": {},
   "outputs": [],
   "source": [
    "input1 = Input(shape=(3,))\n",
    "dense1 = Dense(100, activation='relu')(input1)\n",
    "dense1_2 = Dense(30)(dense1)\n",
    "dense1_3 = Dense(7)(dense1_2)\n",
    "\n",
    "input2 = Input(shape=(3,))\n",
    "dense2 = Dense(50, activation='relu')(input2)\n",
    "dense2_2 = Dense(7)(dense2)"
   ]
  },
  {
   "cell_type": "markdown",
   "metadata": {},
   "source": [
    "#### 두가지 모델 합치기 "
   ]
  },
  {
   "cell_type": "code",
   "execution_count": 8,
   "metadata": {},
   "outputs": [],
   "source": [
    "from tensorflow.keras.layers import concatenate"
   ]
  },
  {
   "cell_type": "code",
   "execution_count": 9,
   "metadata": {},
   "outputs": [],
   "source": [
    "merge1 = concatenate([dense1_3, dense2_2])"
   ]
  },
  {
   "cell_type": "code",
   "execution_count": 10,
   "metadata": {},
   "outputs": [],
   "source": [
    "model1 = Dense(10)(merge1)\n",
    "model2 = Dense(5)(model1)\n",
    "output = Dense(1)(model2)"
   ]
  },
  {
   "cell_type": "code",
   "execution_count": 11,
   "metadata": {},
   "outputs": [
    {
     "name": "stdout",
     "output_type": "stream",
     "text": [
      "Model: \"model\"\n",
      "__________________________________________________________________________________________________\n",
      "Layer (type)                    Output Shape         Param #     Connected to                     \n",
      "==================================================================================================\n",
      "input_1 (InputLayer)            [(None, 3)]          0                                            \n",
      "__________________________________________________________________________________________________\n",
      "dense (Dense)                   (None, 100)          400         input_1[0][0]                    \n",
      "__________________________________________________________________________________________________\n",
      "input_2 (InputLayer)            [(None, 3)]          0                                            \n",
      "__________________________________________________________________________________________________\n",
      "dense_1 (Dense)                 (None, 30)           3030        dense[0][0]                      \n",
      "__________________________________________________________________________________________________\n",
      "dense_3 (Dense)                 (None, 50)           200         input_2[0][0]                    \n",
      "__________________________________________________________________________________________________\n",
      "dense_2 (Dense)                 (None, 7)            217         dense_1[0][0]                    \n",
      "__________________________________________________________________________________________________\n",
      "dense_4 (Dense)                 (None, 7)            357         dense_3[0][0]                    \n",
      "__________________________________________________________________________________________________\n",
      "concatenate (Concatenate)       (None, 14)           0           dense_2[0][0]                    \n",
      "                                                                 dense_4[0][0]                    \n",
      "__________________________________________________________________________________________________\n",
      "dense_5 (Dense)                 (None, 10)           150         concatenate[0][0]                \n",
      "__________________________________________________________________________________________________\n",
      "dense_6 (Dense)                 (None, 5)            55          dense_5[0][0]                    \n",
      "__________________________________________________________________________________________________\n",
      "dense_7 (Dense)                 (None, 1)            6           dense_6[0][0]                    \n",
      "==================================================================================================\n",
      "Total params: 4,415\n",
      "Trainable params: 4,415\n",
      "Non-trainable params: 0\n",
      "__________________________________________________________________________________________________\n"
     ]
    }
   ],
   "source": [
    "model = Model(inputs=[input1, input2], outputs=output)\n",
    "model.summary()"
   ]
  },
  {
   "cell_type": "markdown",
   "metadata": {},
   "source": [
    "## 3. 훈련"
   ]
  },
  {
   "cell_type": "code",
   "execution_count": 12,
   "metadata": {},
   "outputs": [
    {
     "name": "stdout",
     "output_type": "stream",
     "text": [
      "Train on 60 samples, validate on 20 samples\n",
      "Epoch 1/100\n",
      "60/60 [==============================] - 1s 10ms/sample - loss: 62526.2501 - mse: 62526.2383 - val_loss: 612.0000 - val_mse: 611.9999\n",
      "Epoch 2/100\n",
      "60/60 [==============================] - 0s 2ms/sample - loss: 499.4471 - mse: 499.4472 - val_loss: 1948.4065 - val_mse: 1948.4062\n",
      "Epoch 3/100\n",
      "60/60 [==============================] - 0s 2ms/sample - loss: 232.0440 - mse: 232.0440 - val_loss: 1472.8462 - val_mse: 1472.8462\n",
      "Epoch 4/100\n",
      "60/60 [==============================] - 0s 2ms/sample - loss: 171.4564 - mse: 171.4564 - val_loss: 1048.7480 - val_mse: 1048.7480\n",
      "Epoch 5/100\n",
      "60/60 [==============================] - 0s 2ms/sample - loss: 125.2215 - mse: 125.2215 - val_loss: 290.4460 - val_mse: 290.4460\n",
      "Epoch 6/100\n",
      "60/60 [==============================] - 0s 2ms/sample - loss: 31.4163 - mse: 31.4163 - val_loss: 112.2841 - val_mse: 112.2841\n",
      "Epoch 7/100\n",
      "60/60 [==============================] - 0s 2ms/sample - loss: 13.8441 - mse: 13.8441 - val_loss: 66.4613 - val_mse: 66.4613\n",
      "Epoch 8/100\n",
      "60/60 [==============================] - 0s 2ms/sample - loss: 2.1212 - mse: 2.1212 - val_loss: 49.3041 - val_mse: 49.3041\n",
      "Epoch 9/100\n",
      "60/60 [==============================] - 0s 2ms/sample - loss: 0.4942 - mse: 0.4942 - val_loss: 29.2736 - val_mse: 29.2736\n",
      "Epoch 10/100\n",
      "60/60 [==============================] - 0s 2ms/sample - loss: 0.0999 - mse: 0.0999 - val_loss: 20.6322 - val_mse: 20.6322\n",
      "Epoch 11/100\n",
      "60/60 [==============================] - 0s 2ms/sample - loss: 0.0276 - mse: 0.0276 - val_loss: 20.4859 - val_mse: 20.4859\n",
      "Epoch 12/100\n",
      "60/60 [==============================] - 0s 2ms/sample - loss: 0.0196 - mse: 0.0196 - val_loss: 18.6538 - val_mse: 18.6538\n",
      "Epoch 13/100\n",
      "60/60 [==============================] - 0s 2ms/sample - loss: 0.0108 - mse: 0.0108 - val_loss: 17.2629 - val_mse: 17.2629\n",
      "Epoch 14/100\n",
      "60/60 [==============================] - 0s 2ms/sample - loss: 0.0072 - mse: 0.0072 - val_loss: 17.7649 - val_mse: 17.7649\n",
      "Epoch 15/100\n",
      "60/60 [==============================] - 0s 2ms/sample - loss: 0.0073 - mse: 0.0073 - val_loss: 17.0802 - val_mse: 17.0802\n",
      "Epoch 16/100\n",
      "60/60 [==============================] - 0s 2ms/sample - loss: 0.0070 - mse: 0.0070 - val_loss: 16.8851 - val_mse: 16.8851\n",
      "Epoch 17/100\n",
      "60/60 [==============================] - 0s 2ms/sample - loss: 0.0043 - mse: 0.0043 - val_loss: 16.4122 - val_mse: 16.4122\n",
      "Epoch 18/100\n",
      "60/60 [==============================] - 0s 2ms/sample - loss: 0.0033 - mse: 0.0033 - val_loss: 16.5066 - val_mse: 16.5066\n",
      "Epoch 19/100\n",
      "60/60 [==============================] - 0s 2ms/sample - loss: 0.0031 - mse: 0.0031 - val_loss: 16.2397 - val_mse: 16.2397\n",
      "Epoch 20/100\n",
      "60/60 [==============================] - 0s 2ms/sample - loss: 0.0029 - mse: 0.0029 - val_loss: 15.7797 - val_mse: 15.7797\n",
      "Epoch 21/100\n",
      "60/60 [==============================] - 0s 2ms/sample - loss: 0.0032 - mse: 0.0032 - val_loss: 16.0372 - val_mse: 16.0372\n",
      "Epoch 22/100\n",
      "60/60 [==============================] - 0s 2ms/sample - loss: 0.0025 - mse: 0.0025 - val_loss: 15.8206 - val_mse: 15.8206\n",
      "Epoch 23/100\n",
      "60/60 [==============================] - 0s 2ms/sample - loss: 0.0026 - mse: 0.0026 - val_loss: 15.7630 - val_mse: 15.7630\n",
      "Epoch 24/100\n",
      "60/60 [==============================] - 0s 2ms/sample - loss: 0.0035 - mse: 0.0035 - val_loss: 16.5862 - val_mse: 16.5862\n",
      "Epoch 25/100\n",
      "60/60 [==============================] - 0s 2ms/sample - loss: 0.0033 - mse: 0.0033 - val_loss: 16.3845 - val_mse: 16.3845\n",
      "Epoch 26/100\n",
      "60/60 [==============================] - 0s 2ms/sample - loss: 0.0033 - mse: 0.0033 - val_loss: 16.0255 - val_mse: 16.0255\n",
      "Epoch 27/100\n",
      "60/60 [==============================] - 0s 2ms/sample - loss: 0.0029 - mse: 0.0029 - val_loss: 15.5148 - val_mse: 15.5148\n",
      "Epoch 28/100\n",
      "60/60 [==============================] - 0s 2ms/sample - loss: 0.0037 - mse: 0.0037 - val_loss: 14.9870 - val_mse: 14.9870\n",
      "Epoch 29/100\n",
      "60/60 [==============================] - 0s 2ms/sample - loss: 0.0053 - mse: 0.0053 - val_loss: 14.7670 - val_mse: 14.7670\n",
      "Epoch 30/100\n",
      "60/60 [==============================] - 0s 2ms/sample - loss: 0.0034 - mse: 0.0034 - val_loss: 15.3522 - val_mse: 15.3522\n",
      "Epoch 31/100\n",
      "60/60 [==============================] - 0s 2ms/sample - loss: 0.0038 - mse: 0.0038 - val_loss: 15.4136 - val_mse: 15.4136\n",
      "Epoch 32/100\n",
      "60/60 [==============================] - 0s 2ms/sample - loss: 0.0037 - mse: 0.0037 - val_loss: 15.6630 - val_mse: 15.6630\n",
      "Epoch 33/100\n",
      "60/60 [==============================] - 0s 2ms/sample - loss: 0.0025 - mse: 0.0025 - val_loss: 15.5962 - val_mse: 15.5962\n",
      "Epoch 34/100\n",
      "60/60 [==============================] - 0s 2ms/sample - loss: 0.0025 - mse: 0.0025 - val_loss: 15.1651 - val_mse: 15.1651\n",
      "Epoch 35/100\n",
      "60/60 [==============================] - 0s 2ms/sample - loss: 0.0041 - mse: 0.0041 - val_loss: 15.6375 - val_mse: 15.6375\n",
      "Epoch 36/100\n",
      "60/60 [==============================] - 0s 2ms/sample - loss: 0.0039 - mse: 0.0039 - val_loss: 15.1082 - val_mse: 15.1082\n",
      "Epoch 37/100\n",
      "60/60 [==============================] - 0s 2ms/sample - loss: 0.0026 - mse: 0.0026 - val_loss: 15.3635 - val_mse: 15.3635\n",
      "Epoch 38/100\n",
      "60/60 [==============================] - 0s 2ms/sample - loss: 0.0038 - mse: 0.0038 - val_loss: 15.3928 - val_mse: 15.3928\n",
      "Epoch 39/100\n",
      "60/60 [==============================] - 0s 2ms/sample - loss: 0.0028 - mse: 0.0028 - val_loss: 15.6244 - val_mse: 15.6244\n",
      "Epoch 40/100\n",
      "60/60 [==============================] - 0s 2ms/sample - loss: 0.0059 - mse: 0.0059 - val_loss: 15.5205 - val_mse: 15.5205\n",
      "Epoch 41/100\n",
      "60/60 [==============================] - 0s 2ms/sample - loss: 0.0020 - mse: 0.0020 - val_loss: 15.2240 - val_mse: 15.2240\n",
      "Epoch 42/100\n",
      "60/60 [==============================] - 0s 2ms/sample - loss: 0.0036 - mse: 0.0036 - val_loss: 15.4273 - val_mse: 15.4273\n",
      "Epoch 43/100\n",
      "60/60 [==============================] - 0s 2ms/sample - loss: 0.0036 - mse: 0.0036 - val_loss: 14.9746 - val_mse: 14.9746\n",
      "Epoch 44/100\n",
      "60/60 [==============================] - 0s 2ms/sample - loss: 0.0036 - mse: 0.0036 - val_loss: 15.4290 - val_mse: 15.4290\n",
      "Epoch 45/100\n",
      "60/60 [==============================] - 0s 2ms/sample - loss: 0.0068 - mse: 0.0068 - val_loss: 15.4709 - val_mse: 15.4709\n",
      "Epoch 46/100\n",
      "60/60 [==============================] - 0s 2ms/sample - loss: 0.0038 - mse: 0.0038 - val_loss: 14.0212 - val_mse: 14.0212\n",
      "Epoch 47/100\n",
      "60/60 [==============================] - 0s 2ms/sample - loss: 0.0052 - mse: 0.0052 - val_loss: 14.5888 - val_mse: 14.5888\n",
      "Epoch 48/100\n",
      "60/60 [==============================] - 0s 2ms/sample - loss: 0.0027 - mse: 0.0027 - val_loss: 15.4102 - val_mse: 15.4102\n",
      "Epoch 49/100\n",
      "60/60 [==============================] - 0s 2ms/sample - loss: 0.0029 - mse: 0.0029 - val_loss: 14.9473 - val_mse: 14.9473\n",
      "Epoch 50/100\n",
      "60/60 [==============================] - 0s 2ms/sample - loss: 0.0022 - mse: 0.0022 - val_loss: 14.7620 - val_mse: 14.7620\n",
      "Epoch 51/100\n",
      "60/60 [==============================] - 0s 2ms/sample - loss: 0.0022 - mse: 0.0022 - val_loss: 15.3332 - val_mse: 15.3332\n",
      "Epoch 52/100\n",
      "60/60 [==============================] - 0s 2ms/sample - loss: 0.0053 - mse: 0.0053 - val_loss: 14.9930 - val_mse: 14.9930\n",
      "Epoch 53/100\n",
      "60/60 [==============================] - 0s 2ms/sample - loss: 0.0028 - mse: 0.0028 - val_loss: 14.6289 - val_mse: 14.6289\n",
      "Epoch 54/100\n",
      "60/60 [==============================] - 0s 2ms/sample - loss: 0.0017 - mse: 0.0017 - val_loss: 14.8100 - val_mse: 14.8100\n",
      "Epoch 55/100\n",
      "60/60 [==============================] - 0s 2ms/sample - loss: 0.0016 - mse: 0.0016 - val_loss: 14.5807 - val_mse: 14.5807\n",
      "Epoch 56/100\n",
      "60/60 [==============================] - 0s 2ms/sample - loss: 0.0043 - mse: 0.0043 - val_loss: 15.1562 - val_mse: 15.1562\n",
      "Epoch 57/100\n",
      "60/60 [==============================] - 0s 2ms/sample - loss: 0.0037 - mse: 0.0037 - val_loss: 15.6117 - val_mse: 15.6117\n",
      "Epoch 58/100\n",
      "60/60 [==============================] - 0s 2ms/sample - loss: 0.0038 - mse: 0.0038 - val_loss: 14.7694 - val_mse: 14.7694\n",
      "Epoch 59/100\n",
      "60/60 [==============================] - 0s 2ms/sample - loss: 0.0070 - mse: 0.0070 - val_loss: 15.9838 - val_mse: 15.9838\n",
      "Epoch 60/100\n"
     ]
    },
    {
     "name": "stdout",
     "output_type": "stream",
     "text": [
      "60/60 [==============================] - 0s 2ms/sample - loss: 0.0077 - mse: 0.0077 - val_loss: 14.6647 - val_mse: 14.6647\n",
      "Epoch 61/100\n",
      "60/60 [==============================] - 0s 2ms/sample - loss: 0.0159 - mse: 0.0159 - val_loss: 16.3509 - val_mse: 16.3509\n",
      "Epoch 62/100\n",
      "60/60 [==============================] - 0s 2ms/sample - loss: 0.0083 - mse: 0.0083 - val_loss: 15.6286 - val_mse: 15.6286\n",
      "Epoch 63/100\n",
      "60/60 [==============================] - 0s 2ms/sample - loss: 0.0025 - mse: 0.0025 - val_loss: 15.0828 - val_mse: 15.0828\n",
      "Epoch 64/100\n",
      "60/60 [==============================] - 0s 2ms/sample - loss: 0.0042 - mse: 0.0042 - val_loss: 16.1590 - val_mse: 16.1590\n",
      "Epoch 65/100\n",
      "60/60 [==============================] - 0s 2ms/sample - loss: 0.0117 - mse: 0.0117 - val_loss: 15.1465 - val_mse: 15.1465\n",
      "Epoch 66/100\n",
      "60/60 [==============================] - 0s 2ms/sample - loss: 0.0034 - mse: 0.0034 - val_loss: 15.6773 - val_mse: 15.6773\n",
      "Epoch 67/100\n",
      "60/60 [==============================] - 0s 2ms/sample - loss: 0.0049 - mse: 0.0049 - val_loss: 13.6604 - val_mse: 13.6604\n",
      "Epoch 68/100\n",
      "60/60 [==============================] - 0s 2ms/sample - loss: 0.0137 - mse: 0.0137 - val_loss: 16.7689 - val_mse: 16.7689\n",
      "Epoch 69/100\n",
      "60/60 [==============================] - 0s 2ms/sample - loss: 0.0168 - mse: 0.0168 - val_loss: 13.2669 - val_mse: 13.2669\n",
      "Epoch 70/100\n",
      "60/60 [==============================] - 0s 2ms/sample - loss: 0.0026 - mse: 0.0026 - val_loss: 13.5779 - val_mse: 13.5779\n",
      "Epoch 71/100\n",
      "60/60 [==============================] - 0s 2ms/sample - loss: 0.0033 - mse: 0.0033 - val_loss: 12.8791 - val_mse: 12.8791\n",
      "Epoch 72/100\n",
      "60/60 [==============================] - 0s 2ms/sample - loss: 0.0058 - mse: 0.0058 - val_loss: 11.8401 - val_mse: 11.8401\n",
      "Epoch 73/100\n",
      "60/60 [==============================] - 0s 2ms/sample - loss: 0.0111 - mse: 0.0111 - val_loss: 12.9073 - val_mse: 12.9073\n",
      "Epoch 74/100\n",
      "60/60 [==============================] - 0s 2ms/sample - loss: 0.0113 - mse: 0.0113 - val_loss: 13.2904 - val_mse: 13.2904\n",
      "Epoch 75/100\n",
      "60/60 [==============================] - 0s 2ms/sample - loss: 0.0082 - mse: 0.0082 - val_loss: 13.5452 - val_mse: 13.5452\n",
      "Epoch 76/100\n",
      "60/60 [==============================] - 0s 2ms/sample - loss: 0.0115 - mse: 0.0115 - val_loss: 12.3473 - val_mse: 12.3473\n",
      "Epoch 77/100\n",
      "60/60 [==============================] - 0s 2ms/sample - loss: 0.0129 - mse: 0.0129 - val_loss: 12.7898 - val_mse: 12.7898\n",
      "Epoch 78/100\n",
      "60/60 [==============================] - 0s 2ms/sample - loss: 0.0094 - mse: 0.0094 - val_loss: 12.6186 - val_mse: 12.6186\n",
      "Epoch 79/100\n",
      "60/60 [==============================] - 0s 2ms/sample - loss: 0.0121 - mse: 0.0121 - val_loss: 13.3273 - val_mse: 13.3273\n",
      "Epoch 80/100\n",
      "60/60 [==============================] - 0s 2ms/sample - loss: 0.0152 - mse: 0.0152 - val_loss: 12.9123 - val_mse: 12.9123\n",
      "Epoch 81/100\n",
      "60/60 [==============================] - 0s 2ms/sample - loss: 0.0043 - mse: 0.0043 - val_loss: 13.0406 - val_mse: 13.0406\n",
      "Epoch 82/100\n",
      "60/60 [==============================] - 0s 2ms/sample - loss: 0.0036 - mse: 0.0036 - val_loss: 13.0695 - val_mse: 13.0695\n",
      "Epoch 83/100\n",
      "60/60 [==============================] - 0s 2ms/sample - loss: 0.0081 - mse: 0.0081 - val_loss: 14.5476 - val_mse: 14.5476\n",
      "Epoch 84/100\n",
      "60/60 [==============================] - 0s 2ms/sample - loss: 0.0679 - mse: 0.0679 - val_loss: 13.0452 - val_mse: 13.0452\n",
      "Epoch 85/100\n",
      "60/60 [==============================] - 0s 2ms/sample - loss: 0.1766 - mse: 0.1766 - val_loss: 11.5333 - val_mse: 11.5333\n",
      "Epoch 86/100\n",
      "60/60 [==============================] - 0s 2ms/sample - loss: 0.6645 - mse: 0.6645 - val_loss: 19.9204 - val_mse: 19.9204\n",
      "Epoch 87/100\n",
      "60/60 [==============================] - 0s 2ms/sample - loss: 0.0323 - mse: 0.0323 - val_loss: 13.5247 - val_mse: 13.5247\n",
      "Epoch 88/100\n",
      "60/60 [==============================] - 0s 2ms/sample - loss: 0.0024 - mse: 0.0024 - val_loss: 13.5324 - val_mse: 13.5324\n",
      "Epoch 89/100\n",
      "60/60 [==============================] - 0s 2ms/sample - loss: 0.0089 - mse: 0.0089 - val_loss: 13.5265 - val_mse: 13.5265\n",
      "Epoch 90/100\n",
      "60/60 [==============================] - 0s 2ms/sample - loss: 0.0082 - mse: 0.0082 - val_loss: 13.2920 - val_mse: 13.2920\n",
      "Epoch 91/100\n",
      "60/60 [==============================] - 0s 2ms/sample - loss: 0.0803 - mse: 0.0803 - val_loss: 16.8702 - val_mse: 16.8702\n",
      "Epoch 92/100\n",
      "60/60 [==============================] - 0s 2ms/sample - loss: 0.8949 - mse: 0.8949 - val_loss: 12.3616 - val_mse: 12.3616\n",
      "Epoch 93/100\n",
      "60/60 [==============================] - 0s 2ms/sample - loss: 1.2404 - mse: 1.2404 - val_loss: 15.5811 - val_mse: 15.5811\n",
      "Epoch 94/100\n",
      "60/60 [==============================] - 0s 2ms/sample - loss: 0.2733 - mse: 0.2733 - val_loss: 13.9552 - val_mse: 13.9552\n",
      "Epoch 95/100\n",
      "60/60 [==============================] - 0s 2ms/sample - loss: 0.2306 - mse: 0.2306 - val_loss: 13.1348 - val_mse: 13.1348\n",
      "Epoch 96/100\n",
      "60/60 [==============================] - 0s 2ms/sample - loss: 3.8132 - mse: 3.8132 - val_loss: 36.3481 - val_mse: 36.3481\n",
      "Epoch 97/100\n",
      "60/60 [==============================] - 0s 2ms/sample - loss: 4.3720 - mse: 4.3720 - val_loss: 12.2668 - val_mse: 12.2668\n",
      "Epoch 98/100\n",
      "60/60 [==============================] - 0s 2ms/sample - loss: 0.5031 - mse: 0.5031 - val_loss: 27.3147 - val_mse: 27.3147\n",
      "Epoch 99/100\n",
      "60/60 [==============================] - 0s 2ms/sample - loss: 8.9965 - mse: 8.9965 - val_loss: 3.0603 - val_mse: 3.0603\n",
      "Epoch 100/100\n",
      "60/60 [==============================] - 0s 2ms/sample - loss: 38.3114 - mse: 38.3114 - val_loss: 4.3581 - val_mse: 4.3581\n"
     ]
    }
   ],
   "source": [
    "model.compile(loss='mse', optimizer='adam', metrics=['mse'])\n",
    "hist = model.fit([x1_train, x2_train], y_train, epochs=100, batch_size=1, validation_data=([x1_val, x2_val] , y_val))"
   ]
  },
  {
   "cell_type": "markdown",
   "metadata": {},
   "source": [
    "## 4. 학습과정확인 "
   ]
  },
  {
   "cell_type": "code",
   "execution_count": 13,
   "metadata": {},
   "outputs": [
    {
     "data": {
      "image/png": "[encoded data removed]",
      "text/plain": [
       "<Figure size 432x288 with 1 Axes>"
      ]
     },
     "metadata": {
      "needs_background": "light"
     },
     "output_type": "display_data"
    }
   ],
   "source": [
    "import matplotlib.pyplot as plt\n",
    "\n",
    "plt.plot(hist.history['loss'])\n",
    "plt.plot(hist.history['mse'])\n",
    "plt.plot(hist.history['val_loss'])\n",
    "plt.plot(hist.history['val_mse'])\n",
    "#plt.ylim(0.0, 1.5)\n",
    "plt.ylabel('loss')\n",
    "plt.xlabel('epoch')\n",
    "plt.legend(['loss', 'mse', 'val_loss', 'val_mse'], loc='upper right')\n",
    "plt.show()"
   ]
  },
  {
   "cell_type": "markdown",
   "metadata": {},
   "source": [
    "## 5. 평가 예측"
   ]
  },
  {
   "cell_type": "code",
   "execution_count": 14,
   "metadata": {},
   "outputs": [
    {
     "name": "stdout",
     "output_type": "stream",
     "text": [
      "20/20 [==============================] - 0s 1ms/sample - loss: 17.3456 - mse: 17.3456\n",
      "loss :  17.345600885152816\n",
      "mse :  17.3456\n"
     ]
    }
   ],
   "source": [
    "loss, mse = model.evaluate([x1_test, x2_test], y_test, batch_size=1)\n",
    "print(\"loss : \", loss)\n",
    "print(\"mse : \", mse )"
   ]
  },
  {
   "cell_type": "code",
   "execution_count": 15,
   "metadata": {},
   "outputs": [
    {
     "name": "stdout",
     "output_type": "stream",
     "text": [
      "[581] [582.05133]\n",
      "[582] [583.33923]\n",
      "[583] [584.6271]\n",
      "[584] [585.91486]\n",
      "[585] [587.2028]\n",
      "[586] [588.49054]\n",
      "[587] [589.77844]\n",
      "[588] [591.06635]\n",
      "[589] [592.3542]\n",
      "[590] [593.64197]\n",
      "[591] [594.9298]\n",
      "[592] [596.21765]\n",
      "[593] [597.50555]\n",
      "[594] [598.79346]\n",
      "[595] [600.0893]\n",
      "[596] [601.40186]\n",
      "[597] [602.7145]\n",
      "[598] [604.02704]\n",
      "[599] [605.3395]\n",
      "[600] [606.65216]\n"
     ]
    }
   ],
   "source": [
    "y_predict = model.predict([x1_test, x2_test])\n",
    "for i in range(len(y_predict)):\n",
    "    print(y_test[i], y_predict[i])"
   ]
  },
  {
   "cell_type": "code",
   "execution_count": 16,
   "metadata": {},
   "outputs": [
    {
     "name": "stdout",
     "output_type": "stream",
     "text": [
      "RMSE :  4.164826924197561\n"
     ]
    }
   ],
   "source": [
    "from sklearn.metrics import mean_squared_error\n",
    "def RMSE(y_test, y_predict):\n",
    "    return np.sqrt(mean_squared_error(y_test, y_predict))\n",
    "print(\"RMSE : \", RMSE(y_test, y_predict))"
   ]
  },
  {
   "cell_type": "code",
   "execution_count": 17,
   "metadata": {},
   "outputs": [
    {
     "name": "stdout",
     "output_type": "stream",
     "text": [
      "R2 :  0.4783223065106492\n"
     ]
    }
   ],
   "source": [
    "from sklearn.metrics import r2_score\n",
    "r2_y_predict = r2_score(y_test, y_predict)\n",
    "print(\"R2 : \", r2_y_predict)"
   ]
  },
  {
   "cell_type": "code",
   "execution_count": null,
   "metadata": {},
   "outputs": [],
   "source": []
  }
 ],
 "metadata": {
  "kernelspec": {
   "display_name": "Python 3",
   "language": "python",
   "name": "python3"
  },
  "language_info": {
   "codemirror_mode": {
    "name": "ipython",
    "version": 3
   },
   "file_extension": ".py",
   "mimetype": "text/x-python",
   "name": "python",
   "nbconvert_exporter": "python",
   "pygments_lexer": "ipython3",
   "version": "3.7.6"
  }
 },
 "nbformat": 4,
 "nbformat_minor": 4
}
