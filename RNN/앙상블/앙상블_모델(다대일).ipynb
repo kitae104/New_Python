{
 "cells": [
  {
   "cell_type": "markdown",
   "metadata": {},
   "source": [
    "# 앙상블 모델 (다:1)\n",
    "* 2개의 모델이 합쳐져서 1개의 모델로 출력되는 경우 \n",
    "* 앙상블 모델 중에서 가장 많이 사용하는 모델 "
   ]
  },
  {
   "cell_type": "markdown",
   "metadata": {},
   "source": [
    "## 1. 데이터"
   ]
  },
  {
   "cell_type": "code",
   "execution_count": 1,
   "metadata": {},
   "outputs": [],
   "source": [
    "import numpy as np"
   ]
  },
  {
   "cell_type": "markdown",
   "metadata": {},
   "source": [
    "* 각각 300개씩의 데이터를 가지고 있는 2개의 x \n",
    "* 100개의 데이터를 가지고 있는 1개의 y"
   ]
  },
  {
   "cell_type": "code",
   "execution_count": 2,
   "metadata": {},
   "outputs": [
    {
     "name": "stdout",
     "output_type": "stream",
     "text": [
      "(2, 100)\n",
      "(2, 100)\n",
      "(2, 100)\n"
     ]
    }
   ],
   "source": [
    "x1 = np.array([range(1, 101), range(101, 201)])\n",
    "x2 = np.array([range(501, 601), range(601, 701)])\n",
    "y = np.array([range(1, 101), range(101, 201)])\n",
    "print(x1.shape)\n",
    "print(x2.shape)\n",
    "print(y.shape)"
   ]
  },
  {
   "cell_type": "markdown",
   "metadata": {},
   "source": [
    "#### 모양 바꿔주기 \n",
    "* (100, 2) : 행 100, 열 2 "
   ]
  },
  {
   "cell_type": "code",
   "execution_count": 3,
   "metadata": {},
   "outputs": [
    {
     "name": "stdout",
     "output_type": "stream",
     "text": [
      "(100, 2)\n",
      "(100, 2)\n",
      "(100, 2)\n"
     ]
    }
   ],
   "source": [
    "x1 = np.transpose(x1)\n",
    "x2 = np.transpose(x2)\n",
    "y = np.transpose(y)\n",
    "\n",
    "print(x1.shape)\n",
    "print(x2.shape)\n",
    "print(y.shape)"
   ]
  },
  {
   "cell_type": "markdown",
   "metadata": {},
   "source": [
    "#### train, test, validation 분리 \n",
    "* 8:1:1 로 분리 "
   ]
  },
  {
   "cell_type": "code",
   "execution_count": 4,
   "metadata": {},
   "outputs": [],
   "source": [
    "from sklearn.model_selection import train_test_split"
   ]
  },
  {
   "cell_type": "code",
   "execution_count": 5,
   "metadata": {},
   "outputs": [
    {
     "name": "stdout",
     "output_type": "stream",
     "text": [
      "x2_train.shape :  (80, 2)\n",
      "x2_val.shape :  (10, 2)\n",
      "x2_test.shape :  (10, 2)\n"
     ]
    }
   ],
   "source": [
    "x1_train, x1_test, y_train, y_test = train_test_split(x1, y, random_state=66, test_size=0.2, shuffle=False)\n",
    "x1_val, x1_test, y_val, y_test = train_test_split(x1_test, y_test, random_state=66, test_size=0.5, shuffle=False)\n",
    "x2_train, x2_test = train_test_split(x2, random_state=66, test_size=0.2, shuffle=False)\n",
    "x2_val, x2_test = train_test_split(x2_test, random_state=66, test_size=0.5, shuffle = False)\n",
    "print('x2_train.shape : ', x2_train.shape)\n",
    "print('x2_val.shape : ', x2_val.shape)\n",
    "print('x2_test.shape : ', x2_test.shape)"
   ]
  },
  {
   "cell_type": "markdown",
   "metadata": {},
   "source": [
    "## 2 모델 구성 "
   ]
  },
  {
   "cell_type": "code",
   "execution_count": 6,
   "metadata": {},
   "outputs": [],
   "source": [
    "from tensorflow.keras.models import Sequential, Model\n",
    "from tensorflow.keras.layers import Dense, Input"
   ]
  },
  {
   "cell_type": "markdown",
   "metadata": {},
   "source": [
    "#### 서로 다른 2개의 레이어 만들기"
   ]
  },
  {
   "cell_type": "code",
   "execution_count": 7,
   "metadata": {},
   "outputs": [],
   "source": [
    "input1 = Input(shape=(2,))\n",
    "dense1 = Dense(100, activation='relu')(input1)\n",
    "dense1 = Dense(30)(dense1)\n",
    "dense1 = Dense(7)(dense1)\n",
    "\n",
    "input2 = Input(shape=(2,))\n",
    "dense2 = Dense(50, activation='relu')(input2)\n",
    "dense2 = Dense(30)(dense2)\n",
    "dense2 = Dense(7)(dense2)"
   ]
  },
  {
   "cell_type": "markdown",
   "metadata": {},
   "source": [
    "#### 두가지 모델 합치기 "
   ]
  },
  {
   "cell_type": "code",
   "execution_count": 8,
   "metadata": {},
   "outputs": [],
   "source": [
    "from tensorflow.keras.layers import concatenate"
   ]
  },
  {
   "cell_type": "code",
   "execution_count": 9,
   "metadata": {},
   "outputs": [],
   "source": [
    "merge1 = concatenate([dense1, dense2])"
   ]
  },
  {
   "cell_type": "code",
   "execution_count": 10,
   "metadata": {},
   "outputs": [],
   "source": [
    "output1 = Dense(30)(merge1)\n",
    "output1 = Dense(7)(output1)\n",
    "output1 = Dense(2)(output1)"
   ]
  },
  {
   "cell_type": "code",
   "execution_count": 11,
   "metadata": {},
   "outputs": [
    {
     "name": "stdout",
     "output_type": "stream",
     "text": [
      "Model: \"model\"\n",
      "__________________________________________________________________________________________________\n",
      "Layer (type)                    Output Shape         Param #     Connected to                     \n",
      "==================================================================================================\n",
      "input_1 (InputLayer)            [(None, 2)]          0                                            \n",
      "__________________________________________________________________________________________________\n",
      "input_2 (InputLayer)            [(None, 2)]          0                                            \n",
      "__________________________________________________________________________________________________\n",
      "dense (Dense)                   (None, 100)          300         input_1[0][0]                    \n",
      "__________________________________________________________________________________________________\n",
      "dense_3 (Dense)                 (None, 50)           150         input_2[0][0]                    \n",
      "__________________________________________________________________________________________________\n",
      "dense_1 (Dense)                 (None, 30)           3030        dense[0][0]                      \n",
      "__________________________________________________________________________________________________\n",
      "dense_4 (Dense)                 (None, 30)           1530        dense_3[0][0]                    \n",
      "__________________________________________________________________________________________________\n",
      "dense_2 (Dense)                 (None, 7)            217         dense_1[0][0]                    \n",
      "__________________________________________________________________________________________________\n",
      "dense_5 (Dense)                 (None, 7)            217         dense_4[0][0]                    \n",
      "__________________________________________________________________________________________________\n",
      "concatenate (Concatenate)       (None, 14)           0           dense_2[0][0]                    \n",
      "                                                                 dense_5[0][0]                    \n",
      "__________________________________________________________________________________________________\n",
      "dense_6 (Dense)                 (None, 30)           450         concatenate[0][0]                \n",
      "__________________________________________________________________________________________________\n",
      "dense_7 (Dense)                 (None, 7)            217         dense_6[0][0]                    \n",
      "__________________________________________________________________________________________________\n",
      "dense_8 (Dense)                 (None, 2)            16          dense_7[0][0]                    \n",
      "==================================================================================================\n",
      "Total params: 6,127\n",
      "Trainable params: 6,127\n",
      "Non-trainable params: 0\n",
      "__________________________________________________________________________________________________\n"
     ]
    }
   ],
   "source": [
    "model = Model(inputs = [input1, input2], outputs = output1)\n",
    "model.summary()"
   ]
  },
  {
   "cell_type": "markdown",
   "metadata": {},
   "source": [
    "## 3. 훈련"
   ]
  },
  {
   "cell_type": "code",
   "execution_count": 12,
   "metadata": {},
   "outputs": [
    {
     "name": "stdout",
     "output_type": "stream",
     "text": [
      "Train on 80 samples, validate on 10 samples\n",
      "Epoch 1/50\n",
      "80/80 [==============================] - 1s 15ms/sample - loss: 1218.8445 - mse: 1218.8445 - val_loss: 567.2196 - val_mse: 567.2196\n",
      "Epoch 2/50\n",
      "80/80 [==============================] - 0s 2ms/sample - loss: 187.8517 - mse: 187.8517 - val_loss: 76.3724 - val_mse: 76.3724\n",
      "Epoch 3/50\n",
      "80/80 [==============================] - 0s 2ms/sample - loss: 3.4315 - mse: 3.4315 - val_loss: 5.0481 - val_mse: 5.0481\n",
      "Epoch 4/50\n",
      "80/80 [==============================] - 0s 2ms/sample - loss: 0.2862 - mse: 0.2862 - val_loss: 2.9708 - val_mse: 2.9708\n",
      "Epoch 5/50\n",
      "80/80 [==============================] - 0s 2ms/sample - loss: 0.1679 - mse: 0.1679 - val_loss: 1.0843 - val_mse: 1.0843\n",
      "Epoch 6/50\n",
      "80/80 [==============================] - 0s 2ms/sample - loss: 0.1649 - mse: 0.1649 - val_loss: 3.4930 - val_mse: 3.4930\n",
      "Epoch 7/50\n",
      "80/80 [==============================] - ETA: 0s - loss: 0.1117 - mse: 0.111 - 0s 2ms/sample - loss: 0.1093 - mse: 0.1093 - val_loss: 1.2880 - val_mse: 1.2880\n",
      "Epoch 8/50\n",
      "80/80 [==============================] - 0s 2ms/sample - loss: 0.0746 - mse: 0.0746 - val_loss: 1.0817 - val_mse: 1.0817\n",
      "Epoch 9/50\n",
      "80/80 [==============================] - 0s 2ms/sample - loss: 0.0675 - mse: 0.0675 - val_loss: 2.3820 - val_mse: 2.3820\n",
      "Epoch 10/50\n",
      "80/80 [==============================] - 0s 2ms/sample - loss: 0.0491 - mse: 0.0491 - val_loss: 3.7390 - val_mse: 3.7390\n",
      "Epoch 11/50\n",
      "80/80 [==============================] - 0s 2ms/sample - loss: 0.0575 - mse: 0.0575 - val_loss: 2.3037 - val_mse: 2.3037\n",
      "Epoch 12/50\n",
      "80/80 [==============================] - 0s 2ms/sample - loss: 0.0629 - mse: 0.0629 - val_loss: 1.2524 - val_mse: 1.2524\n",
      "Epoch 13/50\n",
      "80/80 [==============================] - 0s 2ms/sample - loss: 0.0753 - mse: 0.0753 - val_loss: 1.7295 - val_mse: 1.7295\n",
      "Epoch 14/50\n",
      "80/80 [==============================] - 0s 2ms/sample - loss: 0.0279 - mse: 0.0279 - val_loss: 1.1863 - val_mse: 1.1863\n",
      "Epoch 15/50\n",
      "80/80 [==============================] - 0s 2ms/sample - loss: 0.0348 - mse: 0.0348 - val_loss: 1.1429 - val_mse: 1.1429\n",
      "Epoch 16/50\n",
      "80/80 [==============================] - 0s 2ms/sample - loss: 0.0390 - mse: 0.0390 - val_loss: 1.2591 - val_mse: 1.2591\n",
      "Epoch 17/50\n",
      "80/80 [==============================] - 0s 2ms/sample - loss: 0.0340 - mse: 0.0340 - val_loss: 1.7714 - val_mse: 1.7714\n",
      "Epoch 18/50\n",
      "80/80 [==============================] - 0s 2ms/sample - loss: 0.0220 - mse: 0.0220 - val_loss: 1.5106 - val_mse: 1.5106\n",
      "Epoch 19/50\n",
      "80/80 [==============================] - 0s 2ms/sample - loss: 0.0560 - mse: 0.0560 - val_loss: 1.9702 - val_mse: 1.9702\n",
      "Epoch 20/50\n",
      "80/80 [==============================] - 0s 2ms/sample - loss: 0.0333 - mse: 0.0333 - val_loss: 1.2500 - val_mse: 1.2500\n",
      "Epoch 21/50\n",
      "80/80 [==============================] - 0s 2ms/sample - loss: 0.0996 - mse: 0.0996 - val_loss: 0.5726 - val_mse: 0.5726\n",
      "Epoch 22/50\n",
      "80/80 [==============================] - 0s 2ms/sample - loss: 0.0606 - mse: 0.0606 - val_loss: 1.3517 - val_mse: 1.3517\n",
      "Epoch 23/50\n",
      "80/80 [==============================] - 0s 2ms/sample - loss: 0.1731 - mse: 0.1731 - val_loss: 0.8694 - val_mse: 0.8694\n",
      "Epoch 24/50\n",
      "80/80 [==============================] - 0s 2ms/sample - loss: 0.3263 - mse: 0.3263 - val_loss: 2.5567 - val_mse: 2.5567\n",
      "Epoch 25/50\n",
      "80/80 [==============================] - 0s 2ms/sample - loss: 0.0396 - mse: 0.0396 - val_loss: 2.0189 - val_mse: 2.0189\n",
      "Epoch 26/50\n",
      "80/80 [==============================] - 0s 2ms/sample - loss: 0.0198 - mse: 0.0198 - val_loss: 1.5901 - val_mse: 1.5901\n",
      "Epoch 27/50\n",
      "80/80 [==============================] - 0s 2ms/sample - loss: 0.0105 - mse: 0.0105 - val_loss: 1.5095 - val_mse: 1.5095\n",
      "Epoch 28/50\n",
      "80/80 [==============================] - 0s 2ms/sample - loss: 0.0232 - mse: 0.0232 - val_loss: 1.2434 - val_mse: 1.2434\n",
      "Epoch 29/50\n",
      "80/80 [==============================] - 0s 2ms/sample - loss: 0.1731 - mse: 0.1731 - val_loss: 5.2428 - val_mse: 5.2428\n",
      "Epoch 30/50\n",
      "80/80 [==============================] - 0s 2ms/sample - loss: 2.5328 - mse: 2.5328 - val_loss: 20.4350 - val_mse: 20.4350\n",
      "Epoch 31/50\n",
      "80/80 [==============================] - 0s 2ms/sample - loss: 1.5500 - mse: 1.5500 - val_loss: 0.5945 - val_mse: 0.5945\n",
      "Epoch 32/50\n",
      "80/80 [==============================] - 0s 2ms/sample - loss: 0.1529 - mse: 0.1529 - val_loss: 0.3734 - val_mse: 0.3734\n",
      "Epoch 33/50\n",
      "80/80 [==============================] - 0s 2ms/sample - loss: 0.1347 - mse: 0.1347 - val_loss: 0.3487 - val_mse: 0.3487\n",
      "Epoch 34/50\n",
      "80/80 [==============================] - 0s 2ms/sample - loss: 0.1162 - mse: 0.1162 - val_loss: 0.3330 - val_mse: 0.3330\n",
      "Epoch 35/50\n",
      "80/80 [==============================] - 0s 2ms/sample - loss: 0.3187 - mse: 0.3187 - val_loss: 0.3972 - val_mse: 0.3972\n",
      "Epoch 36/50\n",
      "80/80 [==============================] - 0s 2ms/sample - loss: 0.2894 - mse: 0.2894 - val_loss: 8.4414 - val_mse: 8.4414\n",
      "Epoch 37/50\n",
      "80/80 [==============================] - 0s 2ms/sample - loss: 65.4945 - mse: 65.4945 - val_loss: 2.6729 - val_mse: 2.6729\n",
      "Epoch 38/50\n",
      "80/80 [==============================] - 0s 2ms/sample - loss: 1.8959 - mse: 1.8959 - val_loss: 2.4453 - val_mse: 2.4453\n",
      "Epoch 39/50\n",
      "80/80 [==============================] - 0s 2ms/sample - loss: 0.7411 - mse: 0.7411 - val_loss: 1.4488 - val_mse: 1.4488\n",
      "Epoch 40/50\n",
      "80/80 [==============================] - 0s 2ms/sample - loss: 0.3173 - mse: 0.3173 - val_loss: 1.4012 - val_mse: 1.4012\n",
      "Epoch 41/50\n",
      "80/80 [==============================] - 0s 2ms/sample - loss: 0.4404 - mse: 0.4404 - val_loss: 5.6644 - val_mse: 5.6644\n",
      "Epoch 42/50\n",
      "80/80 [==============================] - 0s 2ms/sample - loss: 0.2655 - mse: 0.2655 - val_loss: 2.1399 - val_mse: 2.1399\n",
      "Epoch 43/50\n",
      "80/80 [==============================] - 0s 2ms/sample - loss: 0.1290 - mse: 0.1290 - val_loss: 1.1101 - val_mse: 1.1101\n",
      "Epoch 44/50\n",
      "80/80 [==============================] - 0s 2ms/sample - loss: 0.0789 - mse: 0.0789 - val_loss: 0.6522 - val_mse: 0.6522\n",
      "Epoch 45/50\n",
      "80/80 [==============================] - 0s 2ms/sample - loss: 0.0507 - mse: 0.0507 - val_loss: 1.1976 - val_mse: 1.1976\n",
      "Epoch 46/50\n",
      "80/80 [==============================] - 0s 2ms/sample - loss: 0.0375 - mse: 0.0375 - val_loss: 1.3571 - val_mse: 1.3571\n",
      "Epoch 47/50\n",
      "80/80 [==============================] - 0s 2ms/sample - loss: 0.0474 - mse: 0.0474 - val_loss: 1.5449 - val_mse: 1.5449\n",
      "Epoch 48/50\n",
      "80/80 [==============================] - 0s 2ms/sample - loss: 0.0566 - mse: 0.0566 - val_loss: 1.8212 - val_mse: 1.8212\n",
      "Epoch 49/50\n",
      "80/80 [==============================] - 0s 2ms/sample - loss: 0.0568 - mse: 0.0568 - val_loss: 0.9855 - val_mse: 0.9855\n",
      "Epoch 50/50\n",
      "80/80 [==============================] - 0s 2ms/sample - loss: 0.1502 - mse: 0.1502 - val_loss: 1.4008 - val_mse: 1.4008\n"
     ]
    }
   ],
   "source": [
    "model.compile(loss='mse', optimizer='adam', metrics=['mse'])\n",
    "hist = model.fit([x1_train, x2_train], y_train, epochs=50, batch_size=1, validation_data=([x1_val, x2_val] , y_val))"
   ]
  },
  {
   "cell_type": "markdown",
   "metadata": {},
   "source": [
    "## 4. 학습과정확인 "
   ]
  },
  {
   "cell_type": "code",
   "execution_count": 13,
   "metadata": {},
   "outputs": [
    {
     "data": {
      "image/png": "[encoded data removed]",
      "text/plain": [
       "<Figure size 432x288 with 1 Axes>"
      ]
     },
     "metadata": {
      "needs_background": "light"
     },
     "output_type": "display_data"
    }
   ],
   "source": [
    "import matplotlib.pyplot as plt\n",
    "#print(hist.history)\n",
    "plt.plot(hist.history['loss'])\n",
    "plt.plot(hist.history['val_loss'])\n",
    "#plt.ylim(0.0, 1.5)\n",
    "plt.ylabel('loss')\n",
    "plt.xlabel('epoch')\n",
    "plt.legend(['loss', 'val_loss'], loc='upper right')\n",
    "plt.show()"
   ]
  },
  {
   "cell_type": "markdown",
   "metadata": {},
   "source": [
    "## 5. 평가 예측"
   ]
  },
  {
   "cell_type": "code",
   "execution_count": 14,
   "metadata": {},
   "outputs": [
    {
     "name": "stdout",
     "output_type": "stream",
     "text": [
      "10/10 [==============================] - 0s 3ms/sample - loss: 8.8776 - mse: 8.8776\n",
      "mse :  [8.877591371536255, 8.877591]\n"
     ]
    }
   ],
   "source": [
    "mse = model.evaluate([x1_test, x2_test], y_test, batch_size=1)\n",
    "print(\"mse : \", mse )"
   ]
  },
  {
   "cell_type": "markdown",
   "metadata": {},
   "source": [
    "* y_test : 91에서 100, 191에서 200"
   ]
  },
  {
   "cell_type": "code",
   "execution_count": 16,
   "metadata": {},
   "outputs": [
    {
     "name": "stdout",
     "output_type": "stream",
     "text": [
      "y 예측값 : \n",
      " [[ 88.69557  189.1856  ]\n",
      " [ 89.47101  190.03996 ]\n",
      " [ 90.24644  190.89433 ]\n",
      " [ 91.02187  191.74873 ]\n",
      " [ 91.7973   192.6031  ]\n",
      " [ 92.572754 193.45749 ]\n",
      " [ 93.345726 194.3114  ]\n",
      " [ 94.10946  195.16362 ]\n",
      " [ 94.873146 196.0158  ]\n",
      " [ 95.6369   196.86803 ]]\n"
     ]
    }
   ],
   "source": [
    "y_predict = model.predict([x1_test, x2_test])\n",
    "print(\"y 예측값 : \\n\", y_predict)"
   ]
  },
  {
   "cell_type": "code",
   "execution_count": null,
   "metadata": {},
   "outputs": [],
   "source": []
  }
 ],
 "metadata": {
  "kernelspec": {
   "display_name": "Python 3",
   "language": "python",
   "name": "python3"
  },
  "language_info": {
   "codemirror_mode": {
    "name": "ipython",
    "version": 3
   },
   "file_extension": ".py",
   "mimetype": "text/x-python",
   "name": "python",
   "nbconvert_exporter": "python",
   "pygments_lexer": "ipython3",
   "version": "3.7.6"
  }
 },
 "nbformat": 4,
 "nbformat_minor": 4
}
