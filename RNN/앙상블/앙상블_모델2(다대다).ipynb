{
 "cells": [
  {
   "cell_type": "markdown",
   "metadata": {},
   "source": [
    "# 앙상블 모델2 (다:다)\n",
    "* 2개의 모델이 입력되어 3개의 모델로 출력되는 앙상블 2:3 모델.\n",
    "* 실제 이런 모델은 많이 만들지는 않겠지만, 가능성은 있는 모델."
   ]
  },
  {
   "cell_type": "markdown",
   "metadata": {},
   "source": [
    "## 1. 데이터"
   ]
  },
  {
   "cell_type": "code",
   "execution_count": 1,
   "metadata": {},
   "outputs": [],
   "source": [
    "import numpy as np"
   ]
  },
  {
   "cell_type": "markdown",
   "metadata": {},
   "source": [
    "* 각각 200개씩의 데이터를 가지고 있는 2개의 x1, x2 \n",
    "* 각각 200개씩의 데이터를 가지고 있는 3개의 y1, y2, y3"
   ]
  },
  {
   "cell_type": "code",
   "execution_count": 2,
   "metadata": {},
   "outputs": [
    {
     "name": "stdout",
     "output_type": "stream",
     "text": [
      "(2, 100)\n",
      "(2, 100)\n",
      "(2, 100)\n",
      "(2, 100)\n",
      "(2, 100)\n"
     ]
    }
   ],
   "source": [
    "x1 = np.array([range(1, 101), range(101, 201)])\n",
    "y1 = np.array([range(1, 101), range(101, 201)])\n",
    "x2 = np.array([range(501, 601), range(601, 701)])\n",
    "y2 = np.array([range(501, 601), range(601, 701)])\n",
    "y3 = np.array([range(701, 801), range(801, 901)])\n",
    "\n",
    "print(x1.shape)\n",
    "print(x2.shape)\n",
    "print(y1.shape)\n",
    "print(y2.shape)\n",
    "print(y3.shape)"
   ]
  },
  {
   "cell_type": "markdown",
   "metadata": {},
   "source": [
    "#### 모양 바꿔주기 \n",
    "* (100, 2) : 행 100, 열 2 "
   ]
  },
  {
   "cell_type": "code",
   "execution_count": 3,
   "metadata": {},
   "outputs": [
    {
     "name": "stdout",
     "output_type": "stream",
     "text": [
      "(100, 2)\n",
      "(100, 2)\n",
      "(100, 2)\n",
      "(100, 2)\n",
      "(100, 2)\n"
     ]
    }
   ],
   "source": [
    "x1 = np.transpose(x1)\n",
    "y1 = np.transpose(y1)\n",
    "x2 = np.transpose(x2)\n",
    "y2 = np.transpose(y2)\n",
    "y3 = np.transpose(y3)\n",
    "\n",
    "print(x1.shape)\n",
    "print(x2.shape)\n",
    "print(y1.shape)\n",
    "print(y2.shape)\n",
    "print(y3.shape)"
   ]
  },
  {
   "cell_type": "markdown",
   "metadata": {},
   "source": [
    "#### train, test, validation 분리 \n",
    "* 8:1:1 로 분리 "
   ]
  },
  {
   "cell_type": "code",
   "execution_count": 4,
   "metadata": {},
   "outputs": [],
   "source": [
    "from sklearn.model_selection import train_test_split"
   ]
  },
  {
   "cell_type": "code",
   "execution_count": 5,
   "metadata": {},
   "outputs": [
    {
     "name": "stdout",
     "output_type": "stream",
     "text": [
      "y3_train.shape :  (80, 2)\n",
      "y3_val.shape :  (10, 2)\n",
      "y3_test.shape :  (10, 2)\n"
     ]
    }
   ],
   "source": [
    "x1_train, x1_test, y1_train, y1_test = train_test_split(x1, y1, random_state=66, test_size=0.2, shuffle=False)\n",
    "x1_val, x1_test, y1_val, y1_test = train_test_split(x1_test, y1_test, random_state=66, test_size=0.5, shuffle=False)\n",
    "x2_train, x2_test, y2_train, y2_test = train_test_split(x2, y2, random_state=66, test_size=0.2, shuffle=False)\n",
    "x2_val, x2_test, y2_val, y2_test = train_test_split(x2_test, y2_test, random_state=66, test_size=0.5, shuffle = False)\n",
    "y3_train, y3_test = train_test_split(y3, random_state=66, test_size=0.2, shuffle=False)\n",
    "y3_val, y3_test = train_test_split(y3_test, random_state=66, test_size=0.5, shuffle = False)\n",
    "print('y3_train.shape : ', y3_train.shape)\n",
    "print('y3_val.shape : ', y3_val.shape)\n",
    "print('y3_test.shape : ', y3_test.shape)"
   ]
  },
  {
   "cell_type": "markdown",
   "metadata": {},
   "source": [
    "## 2 모델 구성 "
   ]
  },
  {
   "cell_type": "code",
   "execution_count": 6,
   "metadata": {},
   "outputs": [],
   "source": [
    "from tensorflow.keras.models import Sequential, Model\n",
    "from tensorflow.keras.layers import Dense, Input"
   ]
  },
  {
   "cell_type": "markdown",
   "metadata": {},
   "source": [
    "#### 서로 다른 2개의 레이어 만들기"
   ]
  },
  {
   "cell_type": "code",
   "execution_count": 7,
   "metadata": {},
   "outputs": [],
   "source": [
    "input1 = Input(shape=(2,))\n",
    "dense1 = Dense(100, activation='relu')(input1)\n",
    "dense1 = Dense(30)(dense1)\n",
    "dense1 = Dense(7)(dense1)\n",
    "\n",
    "input2 = Input(shape=(2,))\n",
    "dense2 = Dense(50, activation='relu')(input2)\n",
    "dense2 = Dense(30)(dense2)\n",
    "dense2 = Dense(7)(dense2)"
   ]
  },
  {
   "cell_type": "markdown",
   "metadata": {},
   "source": [
    "#### 두가지 모델 합치기 "
   ]
  },
  {
   "cell_type": "code",
   "execution_count": 8,
   "metadata": {},
   "outputs": [],
   "source": [
    "from tensorflow.keras.layers import concatenate"
   ]
  },
  {
   "cell_type": "code",
   "execution_count": 9,
   "metadata": {},
   "outputs": [],
   "source": [
    "merge1 = concatenate([dense1, dense2])"
   ]
  },
  {
   "cell_type": "code",
   "execution_count": 10,
   "metadata": {},
   "outputs": [],
   "source": [
    "middle1 = Dense(10)(merge1)\n",
    "middle2 = Dense(5)(middle1)\n",
    "middle3 = Dense(30)(middle2)"
   ]
  },
  {
   "cell_type": "code",
   "execution_count": 11,
   "metadata": {},
   "outputs": [],
   "source": [
    "output1 = Dense(30)(middle3)\n",
    "output1 = Dense(7)(output1)\n",
    "output1 = Dense(2)(output1)"
   ]
  },
  {
   "cell_type": "code",
   "execution_count": 12,
   "metadata": {},
   "outputs": [],
   "source": [
    "output2 = Dense(20)(middle3)\n",
    "output2 = Dense(70)(output2)\n",
    "output2 = Dense(2)(output2)"
   ]
  },
  {
   "cell_type": "code",
   "execution_count": 13,
   "metadata": {},
   "outputs": [],
   "source": [
    "output3 = Dense(25)(middle3)\n",
    "output3 = Dense(5)(output3)\n",
    "output3 = Dense(2)(output3)"
   ]
  },
  {
   "cell_type": "markdown",
   "metadata": {},
   "source": [
    "* 2개의 입력과 3개의 출력을 갖는 모델 생성"
   ]
  },
  {
   "cell_type": "code",
   "execution_count": 14,
   "metadata": {},
   "outputs": [
    {
     "name": "stdout",
     "output_type": "stream",
     "text": [
      "Model: \"model\"\n",
      "__________________________________________________________________________________________________\n",
      "Layer (type)                    Output Shape         Param #     Connected to                     \n",
      "==================================================================================================\n",
      "input_1 (InputLayer)            [(None, 2)]          0                                            \n",
      "__________________________________________________________________________________________________\n",
      "input_2 (InputLayer)            [(None, 2)]          0                                            \n",
      "__________________________________________________________________________________________________\n",
      "dense (Dense)                   (None, 100)          300         input_1[0][0]                    \n",
      "__________________________________________________________________________________________________\n",
      "dense_3 (Dense)                 (None, 50)           150         input_2[0][0]                    \n",
      "__________________________________________________________________________________________________\n",
      "dense_1 (Dense)                 (None, 30)           3030        dense[0][0]                      \n",
      "__________________________________________________________________________________________________\n",
      "dense_4 (Dense)                 (None, 30)           1530        dense_3[0][0]                    \n",
      "__________________________________________________________________________________________________\n",
      "dense_2 (Dense)                 (None, 7)            217         dense_1[0][0]                    \n",
      "__________________________________________________________________________________________________\n",
      "dense_5 (Dense)                 (None, 7)            217         dense_4[0][0]                    \n",
      "__________________________________________________________________________________________________\n",
      "concatenate (Concatenate)       (None, 14)           0           dense_2[0][0]                    \n",
      "                                                                 dense_5[0][0]                    \n",
      "__________________________________________________________________________________________________\n",
      "dense_6 (Dense)                 (None, 10)           150         concatenate[0][0]                \n",
      "__________________________________________________________________________________________________\n",
      "dense_7 (Dense)                 (None, 5)            55          dense_6[0][0]                    \n",
      "__________________________________________________________________________________________________\n",
      "dense_8 (Dense)                 (None, 30)           180         dense_7[0][0]                    \n",
      "__________________________________________________________________________________________________\n",
      "dense_9 (Dense)                 (None, 30)           930         dense_8[0][0]                    \n",
      "__________________________________________________________________________________________________\n",
      "dense_12 (Dense)                (None, 20)           620         dense_8[0][0]                    \n",
      "__________________________________________________________________________________________________\n",
      "dense_15 (Dense)                (None, 25)           775         dense_8[0][0]                    \n",
      "__________________________________________________________________________________________________\n",
      "dense_10 (Dense)                (None, 7)            217         dense_9[0][0]                    \n",
      "__________________________________________________________________________________________________\n",
      "dense_13 (Dense)                (None, 70)           1470        dense_12[0][0]                   \n",
      "__________________________________________________________________________________________________\n",
      "dense_16 (Dense)                (None, 5)            130         dense_15[0][0]                   \n",
      "__________________________________________________________________________________________________\n",
      "dense_11 (Dense)                (None, 2)            16          dense_10[0][0]                   \n",
      "__________________________________________________________________________________________________\n",
      "dense_14 (Dense)                (None, 2)            142         dense_13[0][0]                   \n",
      "__________________________________________________________________________________________________\n",
      "dense_17 (Dense)                (None, 2)            12          dense_16[0][0]                   \n",
      "==================================================================================================\n",
      "Total params: 10,141\n",
      "Trainable params: 10,141\n",
      "Non-trainable params: 0\n",
      "__________________________________________________________________________________________________\n"
     ]
    }
   ],
   "source": [
    "model = Model(inputs = [input1, input2], outputs = [output1, output2, output3])\n",
    "model.summary()"
   ]
  },
  {
   "cell_type": "markdown",
   "metadata": {},
   "source": [
    "## 3. 훈련"
   ]
  },
  {
   "cell_type": "code",
   "execution_count": 15,
   "metadata": {},
   "outputs": [
    {
     "name": "stdout",
     "output_type": "stream",
     "text": [
      "Train on 80 samples, validate on 10 samples\n",
      "Epoch 1/100\n",
      "80/80 [==============================] - 1s 16ms/sample - loss: 230105.7874 - dense_11_loss: 4486.0205 - dense_14_loss: 74777.2266 - dense_17_loss: 150842.5938 - dense_11_mse: 4486.0205 - dense_14_mse: 74777.2266 - dense_17_mse: 150842.5938 - val_loss: 2316.5406 - val_dense_11_loss: 817.8552 - val_dense_14_loss: 96.5040 - val_dense_17_loss: 1402.1815 - val_dense_11_mse: 817.8552 - val_dense_14_mse: 96.5040 - val_dense_17_mse: 1402.1815\n",
      "Epoch 2/100\n",
      "80/80 [==============================] - 0s 3ms/sample - loss: 716.4842 - dense_11_loss: 180.8671 - dense_14_loss: 54.2707 - dense_17_loss: 481.3465 - dense_11_mse: 180.8671 - dense_14_mse: 54.2707 - dense_17_mse: 481.3465 - val_loss: 3150.8110 - val_dense_11_loss: 1068.2441 - val_dense_14_loss: 61.3816 - val_dense_17_loss: 2021.1852 - val_dense_11_mse: 1068.2441 - val_dense_14_mse: 61.3816 - val_dense_17_mse: 2021.1852\n",
      "Epoch 3/100\n",
      "80/80 [==============================] - 0s 3ms/sample - loss: 491.0619 - dense_11_loss: 197.1226 - dense_14_loss: 38.6379 - dense_17_loss: 255.3014 - dense_11_mse: 197.1226 - dense_14_mse: 38.6379 - dense_17_mse: 255.3014 - val_loss: 503.4830 - val_dense_11_loss: 193.6688 - val_dense_14_loss: 64.6252 - val_dense_17_loss: 245.1891 - val_dense_11_mse: 193.6688 - val_dense_14_mse: 64.6252 - val_dense_17_mse: 245.1891\n",
      "Epoch 4/100\n",
      "80/80 [==============================] - 0s 3ms/sample - loss: 323.0303 - dense_11_loss: 161.3436 - dense_14_loss: 44.7408 - dense_17_loss: 116.9459 - dense_11_mse: 161.3436 - dense_14_mse: 44.7408 - dense_17_mse: 116.9459 - val_loss: 952.9511 - val_dense_11_loss: 588.8600 - val_dense_14_loss: 90.4003 - val_dense_17_loss: 273.6908 - val_dense_11_mse: 588.8600 - val_dense_14_mse: 90.4003 - val_dense_17_mse: 273.6908\n",
      "Epoch 5/100\n",
      "80/80 [==============================] - 0s 3ms/sample - loss: 313.2644 - dense_11_loss: 161.2496 - dense_14_loss: 56.5702 - dense_17_loss: 95.4446 - dense_11_mse: 161.2496 - dense_14_mse: 56.5702 - dense_17_mse: 95.4446 - val_loss: 1495.2010 - val_dense_11_loss: 1147.4535 - val_dense_14_loss: 151.8177 - val_dense_17_loss: 195.9297 - val_dense_11_mse: 1147.4535 - val_dense_14_mse: 151.8177 - val_dense_17_mse: 195.9297\n",
      "Epoch 6/100\n",
      "80/80 [==============================] - 0s 3ms/sample - loss: 200.0923 - dense_11_loss: 86.5699 - dense_14_loss: 55.9789 - dense_17_loss: 57.5434 - dense_11_mse: 86.5699 - dense_14_mse: 55.9789 - dense_17_mse: 57.5434 - val_loss: 459.4657 - val_dense_11_loss: 111.0673 - val_dense_14_loss: 82.1058 - val_dense_17_loss: 266.2926 - val_dense_11_mse: 111.0673 - val_dense_14_mse: 82.1058 - val_dense_17_mse: 266.2926\n",
      "Epoch 7/100\n",
      "80/80 [==============================] - 0s 3ms/sample - loss: 89.7810 - dense_11_loss: 20.5405 - dense_14_loss: 27.0202 - dense_17_loss: 42.2203 - dense_11_mse: 20.5405 - dense_14_mse: 27.0202 - dense_17_mse: 42.2203 - val_loss: 41.2263 - val_dense_11_loss: 2.6046 - val_dense_14_loss: 3.2201 - val_dense_17_loss: 35.4017 - val_dense_11_mse: 2.6046 - val_dense_14_mse: 3.2201 - val_dense_17_mse: 35.4017\n",
      "Epoch 8/100\n",
      "80/80 [==============================] - 0s 3ms/sample - loss: 32.3065 - dense_11_loss: 4.0512 - dense_14_loss: 9.3961 - dense_17_loss: 18.8592 - dense_11_mse: 4.0512 - dense_14_mse: 9.3961 - dense_17_mse: 18.8592 - val_loss: 33.1664 - val_dense_11_loss: 0.6228 - val_dense_14_loss: 0.9880 - val_dense_17_loss: 31.5555 - val_dense_11_mse: 0.6228 - val_dense_14_mse: 0.9880 - val_dense_17_mse: 31.5555\n",
      "Epoch 9/100\n",
      "80/80 [==============================] - 0s 3ms/sample - loss: 8.2078 - dense_11_loss: 0.4179 - dense_14_loss: 0.8355 - dense_17_loss: 6.9545 - dense_11_mse: 0.4179 - dense_14_mse: 0.8355 - dense_17_mse: 6.9545 - val_loss: 17.5025 - val_dense_11_loss: 0.2997 - val_dense_14_loss: 0.3954 - val_dense_17_loss: 16.8074 - val_dense_11_mse: 0.2997 - val_dense_14_mse: 0.3954 - val_dense_17_mse: 16.8074\n",
      "Epoch 10/100\n",
      "80/80 [==============================] - 0s 3ms/sample - loss: 5.1661 - dense_11_loss: 0.2697 - dense_14_loss: 0.2041 - dense_17_loss: 4.6923 - dense_11_mse: 0.2697 - dense_14_mse: 0.2041 - dense_17_mse: 4.6923 - val_loss: 18.7397 - val_dense_11_loss: 0.3450 - val_dense_14_loss: 0.0624 - val_dense_17_loss: 18.3324 - val_dense_11_mse: 0.3450 - val_dense_14_mse: 0.0624 - val_dense_17_mse: 18.3324\n",
      "Epoch 11/100\n",
      "80/80 [==============================] - 0s 3ms/sample - loss: 2.8462 - dense_11_loss: 0.1106 - dense_14_loss: 0.1191 - dense_17_loss: 2.6165 - dense_11_mse: 0.1106 - dense_14_mse: 0.1191 - dense_17_mse: 2.6165 - val_loss: 15.0981 - val_dense_11_loss: 0.1652 - val_dense_14_loss: 0.2090 - val_dense_17_loss: 14.7239 - val_dense_11_mse: 0.1652 - val_dense_14_mse: 0.2090 - val_dense_17_mse: 14.7239\n",
      "Epoch 12/100\n",
      "80/80 [==============================] - 0s 3ms/sample - loss: 1.8480 - dense_11_loss: 0.1300 - dense_14_loss: 0.1252 - dense_17_loss: 1.5928 - dense_11_mse: 0.1300 - dense_14_mse: 0.1252 - dense_17_mse: 1.5928 - val_loss: 8.6427 - val_dense_11_loss: 0.0280 - val_dense_14_loss: 1.2131 - val_dense_17_loss: 7.4016 - val_dense_11_mse: 0.0280 - val_dense_14_mse: 1.2131 - val_dense_17_mse: 7.4016\n",
      "Epoch 13/100\n",
      "80/80 [==============================] - 0s 3ms/sample - loss: 0.8604 - dense_11_loss: 0.0718 - dense_14_loss: 0.1102 - dense_17_loss: 0.6784 - dense_11_mse: 0.0718 - dense_14_mse: 0.1102 - dense_17_mse: 0.6784 - val_loss: 2.5935 - val_dense_11_loss: 0.2974 - val_dense_14_loss: 0.0557 - val_dense_17_loss: 2.2404 - val_dense_11_mse: 0.2974 - val_dense_14_mse: 0.0557 - val_dense_17_mse: 2.2404\n",
      "Epoch 14/100\n",
      "80/80 [==============================] - 0s 3ms/sample - loss: 0.5696 - dense_11_loss: 0.0634 - dense_14_loss: 0.1029 - dense_17_loss: 0.4033 - dense_11_mse: 0.0634 - dense_14_mse: 0.1029 - dense_17_mse: 0.4033 - val_loss: 3.3946 - val_dense_11_loss: 0.0335 - val_dense_14_loss: 0.4003 - val_dense_17_loss: 2.9609 - val_dense_11_mse: 0.0335 - val_dense_14_mse: 0.4003 - val_dense_17_mse: 2.9609\n",
      "Epoch 15/100\n",
      "80/80 [==============================] - 0s 3ms/sample - loss: 0.3411 - dense_11_loss: 0.0512 - dense_14_loss: 0.0626 - dense_17_loss: 0.2273 - dense_11_mse: 0.0512 - dense_14_mse: 0.0626 - dense_17_mse: 0.2273 - val_loss: 2.5388 - val_dense_11_loss: 0.0626 - val_dense_14_loss: 0.3065 - val_dense_17_loss: 2.1697 - val_dense_11_mse: 0.0626 - val_dense_14_mse: 0.3065 - val_dense_17_mse: 2.1697\n",
      "Epoch 16/100\n",
      "80/80 [==============================] - 0s 3ms/sample - loss: 0.2614 - dense_11_loss: 0.0300 - dense_14_loss: 0.0714 - dense_17_loss: 0.1600 - dense_11_mse: 0.0300 - dense_14_mse: 0.0714 - dense_17_mse: 0.1600 - val_loss: 7.1275 - val_dense_11_loss: 0.0126 - val_dense_14_loss: 1.8485 - val_dense_17_loss: 5.2664 - val_dense_11_mse: 0.0126 - val_dense_14_mse: 1.8485 - val_dense_17_mse: 5.2664\n",
      "Epoch 17/100\n",
      "80/80 [==============================] - 0s 3ms/sample - loss: 0.1874 - dense_11_loss: 0.0541 - dense_14_loss: 0.0405 - dense_17_loss: 0.0927 - dense_11_mse: 0.0541 - dense_14_mse: 0.0405 - dense_17_mse: 0.0927 - val_loss: 3.5394 - val_dense_11_loss: 0.0502 - val_dense_14_loss: 0.7042 - val_dense_17_loss: 2.7850 - val_dense_11_mse: 0.0502 - val_dense_14_mse: 0.7042 - val_dense_17_mse: 2.7850\n",
      "Epoch 18/100\n",
      "80/80 [==============================] - 0s 3ms/sample - loss: 0.5759 - dense_11_loss: 0.1001 - dense_14_loss: 0.2153 - dense_17_loss: 0.2605 - dense_11_mse: 0.1001 - dense_14_mse: 0.2153 - dense_17_mse: 0.2605 - val_loss: 0.9437 - val_dense_11_loss: 0.0700 - val_dense_14_loss: 0.0592 - val_dense_17_loss: 0.8144 - val_dense_11_mse: 0.0700 - val_dense_14_mse: 0.0592 - val_dense_17_mse: 0.8144\n",
      "Epoch 19/100\n",
      "80/80 [==============================] - 0s 3ms/sample - loss: 0.1999 - dense_11_loss: 0.0735 - dense_14_loss: 0.0575 - dense_17_loss: 0.0690 - dense_11_mse: 0.0735 - dense_14_mse: 0.0575 - dense_17_mse: 0.0690 - val_loss: 3.3061 - val_dense_11_loss: 0.0193 - val_dense_14_loss: 0.6100 - val_dense_17_loss: 2.6768 - val_dense_11_mse: 0.0193 - val_dense_14_mse: 0.6100 - val_dense_17_mse: 2.6768\n",
      "Epoch 20/100\n"
     ]
    },
    {
     "name": "stdout",
     "output_type": "stream",
     "text": [
      "80/80 [==============================] - 0s 3ms/sample - loss: 0.2073 - dense_11_loss: 0.0453 - dense_14_loss: 0.0675 - dense_17_loss: 0.0945 - dense_11_mse: 0.0453 - dense_14_mse: 0.0675 - dense_17_mse: 0.0945 - val_loss: 1.8595 - val_dense_11_loss: 0.0709 - val_dense_14_loss: 0.1654 - val_dense_17_loss: 1.6233 - val_dense_11_mse: 0.0709 - val_dense_14_mse: 0.1654 - val_dense_17_mse: 1.6233\n",
      "Epoch 21/100\n",
      "80/80 [==============================] - 0s 3ms/sample - loss: 0.2480 - dense_11_loss: 0.0306 - dense_14_loss: 0.0855 - dense_17_loss: 0.1319 - dense_11_mse: 0.0306 - dense_14_mse: 0.0855 - dense_17_mse: 0.1319 - val_loss: 2.0779 - val_dense_11_loss: 0.0537 - val_dense_14_loss: 0.2290 - val_dense_17_loss: 1.7952 - val_dense_11_mse: 0.0537 - val_dense_14_mse: 0.2290 - val_dense_17_mse: 1.7952\n",
      "Epoch 22/100\n",
      "80/80 [==============================] - 0s 3ms/sample - loss: 0.1474 - dense_11_loss: 0.0375 - dense_14_loss: 0.0406 - dense_17_loss: 0.0693 - dense_11_mse: 0.0375 - dense_14_mse: 0.0406 - dense_17_mse: 0.0693 - val_loss: 3.4224 - val_dense_11_loss: 0.1089 - val_dense_14_loss: 0.5316 - val_dense_17_loss: 2.7819 - val_dense_11_mse: 0.1089 - val_dense_14_mse: 0.5316 - val_dense_17_mse: 2.7819\n",
      "Epoch 23/100\n",
      "80/80 [==============================] - 0s 3ms/sample - loss: 0.6065 - dense_11_loss: 0.0775 - dense_14_loss: 0.2515 - dense_17_loss: 0.2775 - dense_11_mse: 0.0775 - dense_14_mse: 0.2515 - dense_17_mse: 0.2775 - val_loss: 4.1256 - val_dense_11_loss: 0.1862 - val_dense_14_loss: 0.8590 - val_dense_17_loss: 3.0804 - val_dense_11_mse: 0.1862 - val_dense_14_mse: 0.8590 - val_dense_17_mse: 3.0804\n",
      "Epoch 24/100\n",
      "80/80 [==============================] - 0s 3ms/sample - loss: 0.4800 - dense_11_loss: 0.1219 - dense_14_loss: 0.1654 - dense_17_loss: 0.1928 - dense_11_mse: 0.1219 - dense_14_mse: 0.1654 - dense_17_mse: 0.1928 - val_loss: 2.1186 - val_dense_11_loss: 0.0626 - val_dense_14_loss: 0.2069 - val_dense_17_loss: 1.8492 - val_dense_11_mse: 0.0626 - val_dense_14_mse: 0.2069 - val_dense_17_mse: 1.8492\n",
      "Epoch 25/100\n",
      "80/80 [==============================] - 0s 3ms/sample - loss: 0.2081 - dense_11_loss: 0.0403 - dense_14_loss: 0.0713 - dense_17_loss: 0.0965 - dense_11_mse: 0.0403 - dense_14_mse: 0.0713 - dense_17_mse: 0.0965 - val_loss: 6.1465 - val_dense_11_loss: 0.0715 - val_dense_14_loss: 1.3508 - val_dense_17_loss: 4.7242 - val_dense_11_mse: 0.0715 - val_dense_14_mse: 1.3508 - val_dense_17_mse: 4.7242\n",
      "Epoch 26/100\n",
      "80/80 [==============================] - 0s 3ms/sample - loss: 0.3179 - dense_11_loss: 0.0934 - dense_14_loss: 0.0975 - dense_17_loss: 0.1269 - dense_11_mse: 0.0934 - dense_14_mse: 0.0975 - dense_17_mse: 0.1269 - val_loss: 3.1373 - val_dense_11_loss: 0.0562 - val_dense_14_loss: 0.7913 - val_dense_17_loss: 2.2897 - val_dense_11_mse: 0.0562 - val_dense_14_mse: 0.7913 - val_dense_17_mse: 2.2897\n",
      "Epoch 27/100\n",
      "80/80 [==============================] - 0s 3ms/sample - loss: 0.1944 - dense_11_loss: 0.0431 - dense_14_loss: 0.0698 - dense_17_loss: 0.0815 - dense_11_mse: 0.0431 - dense_14_mse: 0.0698 - dense_17_mse: 0.0815 - val_loss: 1.6530 - val_dense_11_loss: 0.1242 - val_dense_14_loss: 0.1135 - val_dense_17_loss: 1.4153 - val_dense_11_mse: 0.1242 - val_dense_14_mse: 0.1135 - val_dense_17_mse: 1.4153\n",
      "Epoch 28/100\n",
      "80/80 [==============================] - 0s 4ms/sample - loss: 0.4740 - dense_11_loss: 0.1064 - dense_14_loss: 0.1649 - dense_17_loss: 0.2026 - dense_11_mse: 0.1064 - dense_14_mse: 0.1649 - dense_17_mse: 0.2026 - val_loss: 0.9942 - val_dense_11_loss: 0.0802 - val_dense_14_loss: 0.0480 - val_dense_17_loss: 0.8660 - val_dense_11_mse: 0.0802 - val_dense_14_mse: 0.0480 - val_dense_17_mse: 0.8660\n",
      "Epoch 29/100\n",
      "80/80 [==============================] - 0s 3ms/sample - loss: 0.2367 - dense_11_loss: 0.1195 - dense_14_loss: 0.0534 - dense_17_loss: 0.0638 - dense_11_mse: 0.1195 - dense_14_mse: 0.0534 - dense_17_mse: 0.0638 - val_loss: 2.2405 - val_dense_11_loss: 0.0921 - val_dense_14_loss: 0.3469 - val_dense_17_loss: 1.8015 - val_dense_11_mse: 0.0921 - val_dense_14_mse: 0.3469 - val_dense_17_mse: 1.8015\n",
      "Epoch 30/100\n",
      "80/80 [==============================] - 0s 3ms/sample - loss: 0.2330 - dense_11_loss: 0.0779 - dense_14_loss: 0.0772 - dense_17_loss: 0.0779 - dense_11_mse: 0.0779 - dense_14_mse: 0.0772 - dense_17_mse: 0.0779 - val_loss: 3.1328 - val_dense_11_loss: 0.0982 - val_dense_14_loss: 0.3907 - val_dense_17_loss: 2.6439 - val_dense_11_mse: 0.0982 - val_dense_14_mse: 0.3907 - val_dense_17_mse: 2.6439\n",
      "Epoch 31/100\n",
      "80/80 [==============================] - 0s 3ms/sample - loss: 0.4903 - dense_11_loss: 0.0684 - dense_14_loss: 0.1893 - dense_17_loss: 0.2325 - dense_11_mse: 0.0684 - dense_14_mse: 0.1893 - dense_17_mse: 0.2325 - val_loss: 4.7248 - val_dense_11_loss: 0.0591 - val_dense_14_loss: 1.1086 - val_dense_17_loss: 3.5571 - val_dense_11_mse: 0.0591 - val_dense_14_mse: 1.1086 - val_dense_17_mse: 3.5571\n",
      "Epoch 32/100\n",
      "80/80 [==============================] - 0s 3ms/sample - loss: 1.5904 - dense_11_loss: 0.1372 - dense_14_loss: 0.6731 - dense_17_loss: 0.7801 - dense_11_mse: 0.1372 - dense_14_mse: 0.6731 - dense_17_mse: 0.7801 - val_loss: 1.4413 - val_dense_11_loss: 0.1268 - val_dense_14_loss: 0.1210 - val_dense_17_loss: 1.1935 - val_dense_11_mse: 0.1268 - val_dense_14_mse: 0.1210 - val_dense_17_mse: 1.1935\n",
      "Epoch 33/100\n",
      "80/80 [==============================] - 0s 3ms/sample - loss: 5.6351 - dense_11_loss: 0.4483 - dense_14_loss: 2.4286 - dense_17_loss: 2.7582 - dense_11_mse: 0.4483 - dense_14_mse: 2.4286 - dense_17_mse: 2.7582 - val_loss: 26.8316 - val_dense_11_loss: 1.0265 - val_dense_14_loss: 9.5208 - val_dense_17_loss: 16.2842 - val_dense_11_mse: 1.0265 - val_dense_14_mse: 9.5208 - val_dense_17_mse: 16.2842\n",
      "Epoch 34/100\n",
      "80/80 [==============================] - 0s 3ms/sample - loss: 3.8094 - dense_11_loss: 0.3219 - dense_14_loss: 1.6124 - dense_17_loss: 1.8752 - dense_11_mse: 0.3219 - dense_14_mse: 1.6124 - dense_17_mse: 1.8752 - val_loss: 1.6264 - val_dense_11_loss: 0.6769 - val_dense_14_loss: 0.2357 - val_dense_17_loss: 0.7139 - val_dense_11_mse: 0.6769 - val_dense_14_mse: 0.2357 - val_dense_17_mse: 0.7139\n",
      "Epoch 35/100\n",
      "80/80 [==============================] - 0s 3ms/sample - loss: 6.6615 - dense_11_loss: 0.5586 - dense_14_loss: 2.8121 - dense_17_loss: 3.2907 - dense_11_mse: 0.5586 - dense_14_mse: 2.8121 - dense_17_mse: 3.2907 - val_loss: 4.2387 - val_dense_11_loss: 0.2027 - val_dense_14_loss: 0.9104 - val_dense_17_loss: 3.1256 - val_dense_11_mse: 0.2027 - val_dense_14_mse: 0.9104 - val_dense_17_mse: 3.1256\n",
      "Epoch 36/100\n",
      "80/80 [==============================] - 0s 3ms/sample - loss: 1.4952 - dense_11_loss: 0.2559 - dense_14_loss: 0.5836 - dense_17_loss: 0.6557 - dense_11_mse: 0.2559 - dense_14_mse: 0.5836 - dense_17_mse: 0.6557 - val_loss: 0.9184 - val_dense_11_loss: 0.2299 - val_dense_14_loss: 0.2854 - val_dense_17_loss: 0.4031 - val_dense_11_mse: 0.2299 - val_dense_14_mse: 0.2854 - val_dense_17_mse: 0.4031\n",
      "Epoch 37/100\n",
      "80/80 [==============================] - 0s 3ms/sample - loss: 2.0838 - dense_11_loss: 0.1633 - dense_14_loss: 0.8780 - dense_17_loss: 1.0425 - dense_11_mse: 0.1633 - dense_14_mse: 0.8780 - dense_17_mse: 1.0425 - val_loss: 3.2666 - val_dense_11_loss: 0.0692 - val_dense_14_loss: 0.6059 - val_dense_17_loss: 2.5915 - val_dense_11_mse: 0.0692 - val_dense_14_mse: 0.6059 - val_dense_17_mse: 2.5915\n",
      "Epoch 38/100\n",
      "80/80 [==============================] - 0s 3ms/sample - loss: 0.4249 - dense_11_loss: 0.1124 - dense_14_loss: 0.1432 - dense_17_loss: 0.1692 - dense_11_mse: 0.1124 - dense_14_mse: 0.1432 - dense_17_mse: 0.1692 - val_loss: 2.0479 - val_dense_11_loss: 0.3715 - val_dense_14_loss: 0.2351 - val_dense_17_loss: 1.4413 - val_dense_11_mse: 0.3715 - val_dense_14_mse: 0.2351 - val_dense_17_mse: 1.4413\n",
      "Epoch 39/100\n",
      "80/80 [==============================] - 0s 3ms/sample - loss: 0.9819 - dense_11_loss: 0.1623 - dense_14_loss: 0.3824 - dense_17_loss: 0.4372 - dense_11_mse: 0.1623 - dense_14_mse: 0.3824 - dense_17_mse: 0.4372 - val_loss: 2.0903 - val_dense_11_loss: 0.4500 - val_dense_14_loss: 1.0371 - val_dense_17_loss: 0.6031 - val_dense_11_mse: 0.4500 - val_dense_14_mse: 1.0371 - val_dense_17_mse: 0.6031\n",
      "Epoch 40/100\n"
     ]
    },
    {
     "name": "stdout",
     "output_type": "stream",
     "text": [
      "80/80 [==============================] - 0s 3ms/sample - loss: 1.3955 - dense_11_loss: 0.2832 - dense_14_loss: 0.5097 - dense_17_loss: 0.6026 - dense_11_mse: 0.2832 - dense_14_mse: 0.5097 - dense_17_mse: 0.6026 - val_loss: 7.8023 - val_dense_11_loss: 1.0133 - val_dense_14_loss: 1.7966 - val_dense_17_loss: 4.9924 - val_dense_11_mse: 1.0133 - val_dense_14_mse: 1.7966 - val_dense_17_mse: 4.9924\n",
      "Epoch 41/100\n",
      "80/80 [==============================] - 0s 3ms/sample - loss: 1.2311 - dense_11_loss: 0.5833 - dense_14_loss: 0.3186 - dense_17_loss: 0.3291 - dense_11_mse: 0.5833 - dense_14_mse: 0.3186 - dense_17_mse: 0.3291 - val_loss: 2.0850 - val_dense_11_loss: 0.1503 - val_dense_14_loss: 0.2353 - val_dense_17_loss: 1.6995 - val_dense_11_mse: 0.1503 - val_dense_14_mse: 0.2353 - val_dense_17_mse: 1.6995\n",
      "Epoch 42/100\n",
      "80/80 [==============================] - 0s 3ms/sample - loss: 2.2325 - dense_11_loss: 0.3182 - dense_14_loss: 0.9178 - dense_17_loss: 0.9965 - dense_11_mse: 0.3182 - dense_14_mse: 0.9178 - dense_17_mse: 0.9965 - val_loss: 41.9076 - val_dense_11_loss: 3.6541 - val_dense_14_loss: 21.0504 - val_dense_17_loss: 17.2030 - val_dense_11_mse: 3.6541 - val_dense_14_mse: 21.0504 - val_dense_17_mse: 17.2030\n",
      "Epoch 43/100\n",
      "80/80 [==============================] - 0s 3ms/sample - loss: 13.0827 - dense_11_loss: 2.8923 - dense_14_loss: 4.9525 - dense_17_loss: 5.2379 - dense_11_mse: 2.8923 - dense_14_mse: 4.9525 - dense_17_mse: 5.2379 - val_loss: 1.3537 - val_dense_11_loss: 0.1460 - val_dense_14_loss: 0.0854 - val_dense_17_loss: 1.1223 - val_dense_11_mse: 0.1460 - val_dense_14_mse: 0.0854 - val_dense_17_mse: 1.1223\n",
      "Epoch 44/100\n",
      "80/80 [==============================] - 0s 3ms/sample - loss: 9.1229 - dense_11_loss: 3.7918 - dense_14_loss: 2.6806 - dense_17_loss: 2.6506 - dense_11_mse: 3.7918 - dense_14_mse: 2.6806 - dense_17_mse: 2.6506 - val_loss: 31.6852 - val_dense_11_loss: 1.7933 - val_dense_14_loss: 11.8513 - val_dense_17_loss: 18.0405 - val_dense_11_mse: 1.7933 - val_dense_14_mse: 11.8513 - val_dense_17_mse: 18.0405\n",
      "Epoch 45/100\n",
      "80/80 [==============================] - 0s 3ms/sample - loss: 9.0527 - dense_11_loss: 0.9440 - dense_14_loss: 3.8727 - dense_17_loss: 4.2359 - dense_11_mse: 0.9440 - dense_14_mse: 3.8727 - dense_17_mse: 4.2359 - val_loss: 1.2023 - val_dense_11_loss: 0.1394 - val_dense_14_loss: 0.0526 - val_dense_17_loss: 1.0102 - val_dense_11_mse: 0.1394 - val_dense_14_mse: 0.0526 - val_dense_17_mse: 1.0102\n",
      "Epoch 46/100\n",
      "80/80 [==============================] - 0s 3ms/sample - loss: 8.4997 - dense_11_loss: 0.7086 - dense_14_loss: 3.7340 - dense_17_loss: 4.0570 - dense_11_mse: 0.7086 - dense_14_mse: 3.7340 - dense_17_mse: 4.0570 - val_loss: 14.4196 - val_dense_11_loss: 0.1501 - val_dense_14_loss: 4.2917 - val_dense_17_loss: 9.9778 - val_dense_11_mse: 0.1501 - val_dense_14_mse: 4.2917 - val_dense_17_mse: 9.9778\n",
      "Epoch 47/100\n",
      "80/80 [==============================] - 0s 3ms/sample - loss: 21.1122 - dense_11_loss: 2.5005 - dense_14_loss: 9.1039 - dense_17_loss: 9.5079 - dense_11_mse: 2.5005 - dense_14_mse: 9.1039 - dense_17_mse: 9.5079 - val_loss: 7.0848 - val_dense_11_loss: 0.4130 - val_dense_14_loss: 1.7223 - val_dense_17_loss: 4.9496 - val_dense_11_mse: 0.4130 - val_dense_14_mse: 1.7223 - val_dense_17_mse: 4.9496\n",
      "Epoch 48/100\n",
      "80/80 [==============================] - 0s 3ms/sample - loss: 57.8304 - dense_11_loss: 4.7674 - dense_14_loss: 26.0763 - dense_17_loss: 26.9867 - dense_11_mse: 4.7674 - dense_14_mse: 26.0763 - dense_17_mse: 26.9867 - val_loss: 24.2918 - val_dense_11_loss: 2.9317 - val_dense_14_loss: 13.1267 - val_dense_17_loss: 8.2334 - val_dense_11_mse: 2.9317 - val_dense_14_mse: 13.1267 - val_dense_17_mse: 8.2334\n",
      "Epoch 49/100\n",
      "80/80 [==============================] - 0s 3ms/sample - loss: 98.6015 - dense_11_loss: 9.1656 - dense_14_loss: 45.5269 - dense_17_loss: 43.9089 - dense_11_mse: 9.1656 - dense_14_mse: 45.5269 - dense_17_mse: 43.9089 - val_loss: 93.3245 - val_dense_11_loss: 8.0062 - val_dense_14_loss: 51.5672 - val_dense_17_loss: 33.7510 - val_dense_11_mse: 8.0062 - val_dense_14_mse: 51.5672 - val_dense_17_mse: 33.7510\n",
      "Epoch 50/100\n",
      "80/80 [==============================] - 0s 3ms/sample - loss: 8.0956 - dense_11_loss: 1.4499 - dense_14_loss: 3.3933 - dense_17_loss: 3.2524 - dense_11_mse: 1.4499 - dense_14_mse: 3.3933 - dense_17_mse: 3.2524 - val_loss: 0.6931 - val_dense_11_loss: 0.3341 - val_dense_14_loss: 0.1834 - val_dense_17_loss: 0.1756 - val_dense_11_mse: 0.3341 - val_dense_14_mse: 0.1834 - val_dense_17_mse: 0.1756\n",
      "Epoch 51/100\n",
      "80/80 [==============================] - 0s 3ms/sample - loss: 16.0630 - dense_11_loss: 1.1705 - dense_14_loss: 7.5797 - dense_17_loss: 7.3127 - dense_11_mse: 1.1705 - dense_14_mse: 7.5797 - dense_17_mse: 7.3127 - val_loss: 2.2013 - val_dense_11_loss: 1.2057 - val_dense_14_loss: 0.1410 - val_dense_17_loss: 0.8546 - val_dense_11_mse: 1.2057 - val_dense_14_mse: 0.1410 - val_dense_17_mse: 0.8546\n",
      "Epoch 52/100\n",
      "80/80 [==============================] - 0s 3ms/sample - loss: 92.9236 - dense_11_loss: 13.9224 - dense_14_loss: 41.3101 - dense_17_loss: 37.6911 - dense_11_mse: 13.9224 - dense_14_mse: 41.3101 - dense_17_mse: 37.6911 - val_loss: 27.6380 - val_dense_11_loss: 16.2477 - val_dense_14_loss: 6.2214 - val_dense_17_loss: 5.1689 - val_dense_11_mse: 16.2477 - val_dense_14_mse: 6.2214 - val_dense_17_mse: 5.1689\n",
      "Epoch 53/100\n",
      "80/80 [==============================] - 0s 3ms/sample - loss: 152.0376 - dense_11_loss: 13.7640 - dense_14_loss: 73.9652 - dense_17_loss: 64.3084 - dense_11_mse: 13.7640 - dense_14_mse: 73.9652 - dense_17_mse: 64.3084 - val_loss: 3.4308 - val_dense_11_loss: 0.4436 - val_dense_14_loss: 2.3433 - val_dense_17_loss: 0.6438 - val_dense_11_mse: 0.4436 - val_dense_14_mse: 2.3433 - val_dense_17_mse: 0.6438\n",
      "Epoch 54/100\n",
      "80/80 [==============================] - 0s 3ms/sample - loss: 13.4174 - dense_11_loss: 3.5863 - dense_14_loss: 5.2930 - dense_17_loss: 4.5380 - dense_11_mse: 3.5863 - dense_14_mse: 5.2930 - dense_17_mse: 4.5380 - val_loss: 62.9982 - val_dense_11_loss: 1.1789 - val_dense_14_loss: 28.0936 - val_dense_17_loss: 33.7257 - val_dense_11_mse: 1.1789 - val_dense_14_mse: 28.0936 - val_dense_17_mse: 33.7257\n",
      "Epoch 55/100\n",
      "80/80 [==============================] - 0s 3ms/sample - loss: 5.1702 - dense_11_loss: 1.3145 - dense_14_loss: 2.1167 - dense_17_loss: 1.7390 - dense_11_mse: 1.3145 - dense_14_mse: 2.1167 - dense_17_mse: 1.7390 - val_loss: 18.5750 - val_dense_11_loss: 8.4871 - val_dense_14_loss: 4.9453 - val_dense_17_loss: 5.1425 - val_dense_11_mse: 8.4871 - val_dense_14_mse: 4.9453 - val_dense_17_mse: 5.1425\n",
      "Epoch 56/100\n",
      "80/80 [==============================] - 0s 3ms/sample - loss: 47.4044 - dense_11_loss: 19.1431 - dense_14_loss: 16.3788 - dense_17_loss: 11.8825 - dense_11_mse: 19.1431 - dense_14_mse: 16.3788 - dense_17_mse: 11.8825 - val_loss: 30.3659 - val_dense_11_loss: 3.2765 - val_dense_14_loss: 18.9474 - val_dense_17_loss: 8.1420 - val_dense_11_mse: 3.2765 - val_dense_14_mse: 18.9474 - val_dense_17_mse: 8.1420\n",
      "Epoch 57/100\n",
      "80/80 [==============================] - 0s 3ms/sample - loss: 4.4041 - dense_11_loss: 0.4639 - dense_14_loss: 2.1066 - dense_17_loss: 1.8336 - dense_11_mse: 0.4639 - dense_14_mse: 2.1066 - dense_17_mse: 1.8336 - val_loss: 8.4020 - val_dense_11_loss: 0.0817 - val_dense_14_loss: 4.2353 - val_dense_17_loss: 4.0850 - val_dense_11_mse: 0.0817 - val_dense_14_mse: 4.2353 - val_dense_17_mse: 4.0850\n",
      "Epoch 58/100\n",
      "80/80 [==============================] - 0s 3ms/sample - loss: 1.6346 - dense_11_loss: 0.6593 - dense_14_loss: 0.5087 - dense_17_loss: 0.4667 - dense_11_mse: 0.6593 - dense_14_mse: 0.5087 - dense_17_mse: 0.4667 - val_loss: 2.8984 - val_dense_11_loss: 0.0923 - val_dense_14_loss: 1.4303 - val_dense_17_loss: 1.3758 - val_dense_11_mse: 0.0923 - val_dense_14_mse: 1.4303 - val_dense_17_mse: 1.3758\n",
      "Epoch 59/100\n",
      "80/80 [==============================] - 0s 3ms/sample - loss: 2.7592 - dense_11_loss: 0.2790 - dense_14_loss: 1.2701 - dense_17_loss: 1.2100 - dense_11_mse: 0.2790 - dense_14_mse: 1.2701 - dense_17_mse: 1.2100 - val_loss: 5.1157 - val_dense_11_loss: 0.4009 - val_dense_14_loss: 2.8437 - val_dense_17_loss: 1.8711 - val_dense_11_mse: 0.4009 - val_dense_14_mse: 2.8437 - val_dense_17_mse: 1.8711\n"
     ]
    },
    {
     "name": "stdout",
     "output_type": "stream",
     "text": [
      "Epoch 60/100\n",
      "80/80 [==============================] - 0s 3ms/sample - loss: 10.5417 - dense_11_loss: 0.6049 - dense_14_loss: 5.0553 - dense_17_loss: 4.8815 - dense_11_mse: 0.6049 - dense_14_mse: 5.0553 - dense_17_mse: 4.8815 - val_loss: 11.9359 - val_dense_11_loss: 0.5353 - val_dense_14_loss: 5.2540 - val_dense_17_loss: 6.1466 - val_dense_11_mse: 0.5353 - val_dense_14_mse: 5.2540 - val_dense_17_mse: 6.1466\n",
      "Epoch 61/100\n",
      "80/80 [==============================] - 0s 3ms/sample - loss: 9.0634 - dense_11_loss: 1.2393 - dense_14_loss: 4.0699 - dense_17_loss: 3.7542 - dense_11_mse: 1.2393 - dense_14_mse: 4.0699 - dense_17_mse: 3.7542 - val_loss: 0.5269 - val_dense_11_loss: 0.1794 - val_dense_14_loss: 0.2044 - val_dense_17_loss: 0.1430 - val_dense_11_mse: 0.1794 - val_dense_14_mse: 0.2044 - val_dense_17_mse: 0.1430\n",
      "Epoch 62/100\n",
      "80/80 [==============================] - 0s 3ms/sample - loss: 5.3468 - dense_11_loss: 0.9387 - dense_14_loss: 2.3017 - dense_17_loss: 2.1064 - dense_11_mse: 0.9387 - dense_14_mse: 2.3017 - dense_17_mse: 2.1064 - val_loss: 20.3769 - val_dense_11_loss: 15.2424 - val_dense_14_loss: 3.2277 - val_dense_17_loss: 1.9068 - val_dense_11_mse: 15.2424 - val_dense_14_mse: 3.2277 - val_dense_17_mse: 1.9068\n",
      "Epoch 63/100\n",
      "80/80 [==============================] - 0s 3ms/sample - loss: 4.3501 - dense_11_loss: 1.2576 - dense_14_loss: 1.7490 - dense_17_loss: 1.3435 - dense_11_mse: 1.2576 - dense_14_mse: 1.7490 - dense_17_mse: 1.3435 - val_loss: 3.6198 - val_dense_11_loss: 0.0943 - val_dense_14_loss: 1.5567 - val_dense_17_loss: 1.9689 - val_dense_11_mse: 0.0943 - val_dense_14_mse: 1.5567 - val_dense_17_mse: 1.9689\n",
      "Epoch 64/100\n",
      "80/80 [==============================] - 0s 3ms/sample - loss: 63.5252 - dense_11_loss: 5.5199 - dense_14_loss: 30.0404 - dense_17_loss: 27.9649 - dense_11_mse: 5.5199 - dense_14_mse: 30.0404 - dense_17_mse: 27.9649 - val_loss: 2461.7526 - val_dense_11_loss: 82.7636 - val_dense_14_loss: 1197.1160 - val_dense_17_loss: 1181.8733 - val_dense_11_mse: 82.7636 - val_dense_14_mse: 1197.1160 - val_dense_17_mse: 1181.8733\n",
      "Epoch 65/100\n",
      "80/80 [==============================] - 0s 3ms/sample - loss: 378.6455 - dense_11_loss: 53.0571 - dense_14_loss: 176.8960 - dense_17_loss: 148.6924 - dense_11_mse: 53.0571 - dense_14_mse: 176.8960 - dense_17_mse: 148.6924 - val_loss: 90.2261 - val_dense_11_loss: 41.4383 - val_dense_14_loss: 26.3362 - val_dense_17_loss: 22.4517 - val_dense_11_mse: 41.4383 - val_dense_14_mse: 26.3362 - val_dense_17_mse: 22.4517\n",
      "Epoch 66/100\n",
      "80/80 [==============================] - 0s 3ms/sample - loss: 49.8930 - dense_11_loss: 9.3777 - dense_14_loss: 19.6313 - dense_17_loss: 20.8840 - dense_11_mse: 9.3777 - dense_14_mse: 19.6313 - dense_17_mse: 20.8840 - val_loss: 9.9215 - val_dense_11_loss: 0.0127 - val_dense_14_loss: 5.0090 - val_dense_17_loss: 4.8997 - val_dense_11_mse: 0.0127 - val_dense_14_mse: 5.0090 - val_dense_17_mse: 4.8997\n",
      "Epoch 67/100\n",
      "80/80 [==============================] - 0s 3ms/sample - loss: 15.2644 - dense_11_loss: 0.8829 - dense_14_loss: 7.2832 - dense_17_loss: 7.0983 - dense_11_mse: 0.8829 - dense_14_mse: 7.2832 - dense_17_mse: 7.0983 - val_loss: 55.1774 - val_dense_11_loss: 6.7708 - val_dense_14_loss: 24.5451 - val_dense_17_loss: 23.8614 - val_dense_11_mse: 6.7708 - val_dense_14_mse: 24.5451 - val_dense_17_mse: 23.8614\n",
      "Epoch 68/100\n",
      "80/80 [==============================] - 0s 3ms/sample - loss: 34.2594 - dense_11_loss: 5.2029 - dense_14_loss: 14.8710 - dense_17_loss: 14.1854 - dense_11_mse: 5.2029 - dense_14_mse: 14.8710 - dense_17_mse: 14.1854 - val_loss: 13.0919 - val_dense_11_loss: 1.0667 - val_dense_14_loss: 4.1432 - val_dense_17_loss: 7.8821 - val_dense_11_mse: 1.0667 - val_dense_14_mse: 4.1432 - val_dense_17_mse: 7.8821\n",
      "Epoch 69/100\n",
      "80/80 [==============================] - 0s 3ms/sample - loss: 74.2907 - dense_11_loss: 7.5718 - dense_14_loss: 34.5985 - dense_17_loss: 32.1204 - dense_11_mse: 7.5718 - dense_14_mse: 34.5985 - dense_17_mse: 32.1204 - val_loss: 39.0906 - val_dense_11_loss: 4.9850 - val_dense_14_loss: 18.2401 - val_dense_17_loss: 15.8655 - val_dense_11_mse: 4.9850 - val_dense_14_mse: 18.2401 - val_dense_17_mse: 15.8655\n",
      "Epoch 70/100\n",
      "80/80 [==============================] - 0s 3ms/sample - loss: 59.4721 - dense_11_loss: 12.8500 - dense_14_loss: 24.0081 - dense_17_loss: 22.6140 - dense_11_mse: 12.8500 - dense_14_mse: 24.0081 - dense_17_mse: 22.6140 - val_loss: 151.2096 - val_dense_11_loss: 11.3772 - val_dense_14_loss: 80.5269 - val_dense_17_loss: 59.3054 - val_dense_11_mse: 11.3772 - val_dense_14_mse: 80.5269 - val_dense_17_mse: 59.3054\n",
      "Epoch 71/100\n",
      "80/80 [==============================] - 0s 3ms/sample - loss: 27.3390 - dense_11_loss: 6.2289 - dense_14_loss: 11.0735 - dense_17_loss: 10.0366 - dense_11_mse: 6.2289 - dense_14_mse: 11.0735 - dense_17_mse: 10.0366 - val_loss: 1.1172 - val_dense_11_loss: 0.4081 - val_dense_14_loss: 0.5100 - val_dense_17_loss: 0.1992 - val_dense_11_mse: 0.4081 - val_dense_14_mse: 0.5100 - val_dense_17_mse: 0.1992\n",
      "Epoch 72/100\n",
      "80/80 [==============================] - 0s 3ms/sample - loss: 0.6682 - dense_11_loss: 0.1839 - dense_14_loss: 0.2499 - dense_17_loss: 0.2344 - dense_11_mse: 0.1839 - dense_14_mse: 0.2499 - dense_17_mse: 0.2344 - val_loss: 0.6507 - val_dense_11_loss: 0.0121 - val_dense_14_loss: 0.1519 - val_dense_17_loss: 0.4867 - val_dense_11_mse: 0.0121 - val_dense_14_mse: 0.1519 - val_dense_17_mse: 0.4867\n",
      "Epoch 73/100\n",
      "80/80 [==============================] - 0s 3ms/sample - loss: 1.4965 - dense_11_loss: 0.1651 - dense_14_loss: 0.7030 - dense_17_loss: 0.6284 - dense_11_mse: 0.1651 - dense_14_mse: 0.7030 - dense_17_mse: 0.6284 - val_loss: 4.9471 - val_dense_11_loss: 0.4649 - val_dense_14_loss: 3.0434 - val_dense_17_loss: 1.4388 - val_dense_11_mse: 0.4649 - val_dense_14_mse: 3.0434 - val_dense_17_mse: 1.4388\n",
      "Epoch 74/100\n",
      "80/80 [==============================] - 0s 3ms/sample - loss: 1.0919 - dense_11_loss: 0.0944 - dense_14_loss: 0.5172 - dense_17_loss: 0.4802 - dense_11_mse: 0.0944 - dense_14_mse: 0.5172 - dense_17_mse: 0.4802 - val_loss: 4.1353 - val_dense_11_loss: 0.0971 - val_dense_14_loss: 2.8077 - val_dense_17_loss: 1.2306 - val_dense_11_mse: 0.0971 - val_dense_14_mse: 2.8077 - val_dense_17_mse: 1.2306\n",
      "Epoch 75/100\n",
      "80/80 [==============================] - 0s 3ms/sample - loss: 0.8631 - dense_11_loss: 0.1589 - dense_14_loss: 0.3733 - dense_17_loss: 0.3309 - dense_11_mse: 0.1589 - dense_14_mse: 0.3733 - dense_17_mse: 0.3309 - val_loss: 0.6200 - val_dense_11_loss: 0.1082 - val_dense_14_loss: 0.1035 - val_dense_17_loss: 0.4082 - val_dense_11_mse: 0.1082 - val_dense_14_mse: 0.1035 - val_dense_17_mse: 0.4082\n",
      "Epoch 76/100\n",
      "80/80 [==============================] - 0s 3ms/sample - loss: 83.5479 - dense_11_loss: 4.1814 - dense_14_loss: 40.4095 - dense_17_loss: 38.9570 - dense_11_mse: 4.1814 - dense_14_mse: 40.4095 - dense_17_mse: 38.9570 - val_loss: 112.3698 - val_dense_11_loss: 25.5278 - val_dense_14_loss: 41.9419 - val_dense_17_loss: 44.9001 - val_dense_11_mse: 25.5278 - val_dense_14_mse: 41.9419 - val_dense_17_mse: 44.9001\n",
      "Epoch 77/100\n",
      "80/80 [==============================] - 0s 3ms/sample - loss: 125.3075 - dense_11_loss: 14.4204 - dense_14_loss: 55.9849 - dense_17_loss: 54.9023 - dense_11_mse: 14.4204 - dense_14_mse: 55.9849 - dense_17_mse: 54.9023 - val_loss: 12.4076 - val_dense_11_loss: 7.6518 - val_dense_14_loss: 4.3538 - val_dense_17_loss: 0.4021 - val_dense_11_mse: 7.6518 - val_dense_14_mse: 4.3538 - val_dense_17_mse: 0.4021\n",
      "Epoch 78/100\n",
      "80/80 [==============================] - 0s 3ms/sample - loss: 11.2756 - dense_11_loss: 1.2508 - dense_14_loss: 5.2436 - dense_17_loss: 4.7812 - dense_11_mse: 1.2508 - dense_14_mse: 5.2436 - dense_17_mse: 4.7812 - val_loss: 29.8590 - val_dense_11_loss: 4.0441 - val_dense_14_loss: 13.2122 - val_dense_17_loss: 12.6027 - val_dense_11_mse: 4.0441 - val_dense_14_mse: 13.2122 - val_dense_17_mse: 12.6027\n",
      "Epoch 79/100\n",
      "80/80 [==============================] - 0s 3ms/sample - loss: 163.4257 - dense_11_loss: 13.9801 - dense_14_loss: 76.7464 - dense_17_loss: 72.6991 - dense_11_mse: 13.9801 - dense_14_mse: 76.7464 - dense_17_mse: 72.6991 - val_loss: 674.8997 - val_dense_11_loss: 7.9013 - val_dense_14_loss: 279.0255 - val_dense_17_loss: 387.9729 - val_dense_11_mse: 7.9013 - val_dense_14_mse: 279.0255 - val_dense_17_mse: 387.9729\n"
     ]
    },
    {
     "name": "stdout",
     "output_type": "stream",
     "text": [
      "Epoch 80/100\n",
      "80/80 [==============================] - 0s 3ms/sample - loss: 96.6621 - dense_11_loss: 6.6372 - dense_14_loss: 45.5076 - dense_17_loss: 44.5173 - dense_11_mse: 6.6372 - dense_14_mse: 45.5076 - dense_17_mse: 44.5173 - val_loss: 9.2839 - val_dense_11_loss: 1.1555 - val_dense_14_loss: 2.8956 - val_dense_17_loss: 5.2328 - val_dense_11_mse: 1.1555 - val_dense_14_mse: 2.8956 - val_dense_17_mse: 5.2328\n",
      "Epoch 81/100\n",
      "80/80 [==============================] - 0s 3ms/sample - loss: 1.3166 - dense_11_loss: 0.5898 - dense_14_loss: 0.3813 - dense_17_loss: 0.3456 - dense_11_mse: 0.5898 - dense_14_mse: 0.3813 - dense_17_mse: 0.3456 - val_loss: 18.9992 - val_dense_11_loss: 13.8383 - val_dense_14_loss: 1.9194 - val_dense_17_loss: 3.2415 - val_dense_11_mse: 13.8383 - val_dense_14_mse: 1.9194 - val_dense_17_mse: 3.2415\n",
      "Epoch 82/100\n",
      "80/80 [==============================] - 0s 3ms/sample - loss: 1.8979 - dense_11_loss: 1.5457 - dense_14_loss: 0.2000 - dense_17_loss: 0.1522 - dense_11_mse: 1.5457 - dense_14_mse: 0.2000 - dense_17_mse: 0.1522 - val_loss: 0.4988 - val_dense_11_loss: 0.0716 - val_dense_14_loss: 0.0463 - val_dense_17_loss: 0.3809 - val_dense_11_mse: 0.0716 - val_dense_14_mse: 0.0463 - val_dense_17_mse: 0.3809\n",
      "Epoch 83/100\n",
      "80/80 [==============================] - 0s 3ms/sample - loss: 1.0903 - dense_11_loss: 0.8216 - dense_14_loss: 0.1204 - dense_17_loss: 0.1483 - dense_11_mse: 0.8216 - dense_14_mse: 0.1204 - dense_17_mse: 0.1483 - val_loss: 1.6401 - val_dense_11_loss: 1.0347 - val_dense_14_loss: 0.3381 - val_dense_17_loss: 0.2673 - val_dense_11_mse: 1.0347 - val_dense_14_mse: 0.3381 - val_dense_17_mse: 0.2673\n",
      "Epoch 84/100\n",
      "80/80 [==============================] - 0s 3ms/sample - loss: 0.8510 - dense_11_loss: 0.6496 - dense_14_loss: 0.1111 - dense_17_loss: 0.0902 - dense_11_mse: 0.6496 - dense_14_mse: 0.1111 - dense_17_mse: 0.0902 - val_loss: 0.3966 - val_dense_11_loss: 0.0385 - val_dense_14_loss: 0.0413 - val_dense_17_loss: 0.3168 - val_dense_11_mse: 0.0385 - val_dense_14_mse: 0.0413 - val_dense_17_mse: 0.3168\n",
      "Epoch 85/100\n",
      "80/80 [==============================] - 0s 3ms/sample - loss: 0.8561 - dense_11_loss: 0.6170 - dense_14_loss: 0.1347 - dense_17_loss: 0.1044 - dense_11_mse: 0.6170 - dense_14_mse: 0.1347 - dense_17_mse: 0.1044 - val_loss: 0.2516 - val_dense_11_loss: 0.1293 - val_dense_14_loss: 0.0219 - val_dense_17_loss: 0.1004 - val_dense_11_mse: 0.1293 - val_dense_14_mse: 0.0219 - val_dense_17_mse: 0.1004\n",
      "Epoch 86/100\n",
      "80/80 [==============================] - 0s 3ms/sample - loss: 1.2306 - dense_11_loss: 0.9411 - dense_14_loss: 0.1656 - dense_17_loss: 0.1239 - dense_11_mse: 0.9411 - dense_14_mse: 0.1656 - dense_17_mse: 0.1239 - val_loss: 2.2988 - val_dense_11_loss: 1.5356 - val_dense_14_loss: 0.4075 - val_dense_17_loss: 0.3556 - val_dense_11_mse: 1.5356 - val_dense_14_mse: 0.4075 - val_dense_17_mse: 0.3556\n",
      "Epoch 87/100\n",
      "80/80 [==============================] - 0s 3ms/sample - loss: 6.4544 - dense_11_loss: 4.0034 - dense_14_loss: 1.5458 - dense_17_loss: 0.9052 - dense_11_mse: 4.0034 - dense_14_mse: 1.5458 - dense_17_mse: 0.9052 - val_loss: 62.3903 - val_dense_11_loss: 37.7287 - val_dense_14_loss: 15.6141 - val_dense_17_loss: 9.0476 - val_dense_11_mse: 37.7287 - val_dense_14_mse: 15.6141 - val_dense_17_mse: 9.0476\n",
      "Epoch 88/100\n",
      "80/80 [==============================] - 0s 3ms/sample - loss: 63.2487 - dense_11_loss: 47.5269 - dense_14_loss: 12.2390 - dense_17_loss: 3.4827 - dense_11_mse: 47.5269 - dense_14_mse: 12.2390 - dense_17_mse: 3.4827 - val_loss: 57.2534 - val_dense_11_loss: 34.8329 - val_dense_14_loss: 19.9033 - val_dense_17_loss: 2.5171 - val_dense_11_mse: 34.8329 - val_dense_14_mse: 19.9033 - val_dense_17_mse: 2.5171\n",
      "Epoch 89/100\n",
      "80/80 [==============================] - 0s 3ms/sample - loss: 36.4916 - dense_11_loss: 16.5128 - dense_14_loss: 11.4159 - dense_17_loss: 8.5628 - dense_11_mse: 16.5128 - dense_14_mse: 11.4159 - dense_17_mse: 8.5628 - val_loss: 6.0890 - val_dense_11_loss: 1.2708 - val_dense_14_loss: 1.5083 - val_dense_17_loss: 3.3098 - val_dense_11_mse: 1.2708 - val_dense_14_mse: 1.5083 - val_dense_17_mse: 3.3098\n",
      "Epoch 90/100\n",
      "80/80 [==============================] - 0s 3ms/sample - loss: 227.0278 - dense_11_loss: 7.1082 - dense_14_loss: 108.1409 - dense_17_loss: 111.7787 - dense_11_mse: 7.1082 - dense_14_mse: 108.1409 - dense_17_mse: 111.7787 - val_loss: 522.1766 - val_dense_11_loss: 99.1882 - val_dense_14_loss: 282.0411 - val_dense_17_loss: 140.9473 - val_dense_11_mse: 99.1882 - val_dense_14_mse: 282.0411 - val_dense_17_mse: 140.9473\n",
      "Epoch 91/100\n",
      "80/80 [==============================] - 0s 3ms/sample - loss: 170.5254 - dense_11_loss: 22.0545 - dense_14_loss: 74.2355 - dense_17_loss: 74.2354 - dense_11_mse: 22.0545 - dense_14_mse: 74.2355 - dense_17_mse: 74.2354 - val_loss: 223.2663 - val_dense_11_loss: 59.8142 - val_dense_14_loss: 106.3673 - val_dense_17_loss: 57.0848 - val_dense_11_mse: 59.8142 - val_dense_14_mse: 106.3673 - val_dense_17_mse: 57.0848\n",
      "Epoch 92/100\n",
      "80/80 [==============================] - 0s 3ms/sample - loss: 37.2728 - dense_11_loss: 6.8074 - dense_14_loss: 17.4675 - dense_17_loss: 12.9979 - dense_11_mse: 6.8074 - dense_14_mse: 17.4675 - dense_17_mse: 12.9979 - val_loss: 2.3444 - val_dense_11_loss: 0.1748 - val_dense_14_loss: 0.2626 - val_dense_17_loss: 1.9070 - val_dense_11_mse: 0.1748 - val_dense_14_mse: 0.2626 - val_dense_17_mse: 1.9070\n",
      "Epoch 93/100\n",
      "80/80 [==============================] - 0s 3ms/sample - loss: 0.8716 - dense_11_loss: 0.1227 - dense_14_loss: 0.3614 - dense_17_loss: 0.3874 - dense_11_mse: 0.1227 - dense_14_mse: 0.3614 - dense_17_mse: 0.3874 - val_loss: 1.1078 - val_dense_11_loss: 0.3171 - val_dense_14_loss: 0.4270 - val_dense_17_loss: 0.3637 - val_dense_11_mse: 0.3171 - val_dense_14_mse: 0.4270 - val_dense_17_mse: 0.3637\n",
      "Epoch 94/100\n",
      "80/80 [==============================] - 0s 3ms/sample - loss: 0.6980 - dense_11_loss: 0.0444 - dense_14_loss: 0.3371 - dense_17_loss: 0.3165 - dense_11_mse: 0.0444 - dense_14_mse: 0.3371 - dense_17_mse: 0.3165 - val_loss: 0.4295 - val_dense_11_loss: 0.1553 - val_dense_14_loss: 0.1226 - val_dense_17_loss: 0.1517 - val_dense_11_mse: 0.1553 - val_dense_14_mse: 0.1226 - val_dense_17_mse: 0.1517\n",
      "Epoch 95/100\n",
      "80/80 [==============================] - 0s 3ms/sample - loss: 0.6382 - dense_11_loss: 0.0411 - dense_14_loss: 0.3070 - dense_17_loss: 0.2901 - dense_11_mse: 0.0411 - dense_14_mse: 0.3070 - dense_17_mse: 0.2901 - val_loss: 0.7119 - val_dense_11_loss: 0.0692 - val_dense_14_loss: 0.0179 - val_dense_17_loss: 0.6248 - val_dense_11_mse: 0.0692 - val_dense_14_mse: 0.0179 - val_dense_17_mse: 0.6248\n",
      "Epoch 96/100\n",
      "80/80 [==============================] - 0s 3ms/sample - loss: 0.2144 - dense_11_loss: 0.0434 - dense_14_loss: 0.0963 - dense_17_loss: 0.0748 - dense_11_mse: 0.0434 - dense_14_mse: 0.0963 - dense_17_mse: 0.0748 - val_loss: 0.5663 - val_dense_11_loss: 0.0991 - val_dense_14_loss: 0.0421 - val_dense_17_loss: 0.4252 - val_dense_11_mse: 0.0991 - val_dense_14_mse: 0.0421 - val_dense_17_mse: 0.4252\n",
      "Epoch 97/100\n",
      "80/80 [==============================] - 0s 3ms/sample - loss: 0.4523 - dense_11_loss: 0.0377 - dense_14_loss: 0.2022 - dense_17_loss: 0.2124 - dense_11_mse: 0.0377 - dense_14_mse: 0.2022 - dense_17_mse: 0.2124 - val_loss: 0.1977 - val_dense_11_loss: 0.0243 - val_dense_14_loss: 0.0077 - val_dense_17_loss: 0.1658 - val_dense_11_mse: 0.0243 - val_dense_14_mse: 0.0077 - val_dense_17_mse: 0.1658\n",
      "Epoch 98/100\n",
      "80/80 [==============================] - 0s 3ms/sample - loss: 5.5773 - dense_11_loss: 0.3369 - dense_14_loss: 2.5977 - dense_17_loss: 2.6427 - dense_11_mse: 0.3369 - dense_14_mse: 2.5977 - dense_17_mse: 2.6427 - val_loss: 22.9900 - val_dense_11_loss: 0.8562 - val_dense_14_loss: 12.1055 - val_dense_17_loss: 10.0283 - val_dense_11_mse: 0.8562 - val_dense_14_mse: 12.1055 - val_dense_17_mse: 10.0283\n",
      "Epoch 99/100\n",
      "80/80 [==============================] - 0s 3ms/sample - loss: 2.7323 - dense_11_loss: 0.1585 - dense_14_loss: 1.2893 - dense_17_loss: 1.2845 - dense_11_mse: 0.1585 - dense_14_mse: 1.2893 - dense_17_mse: 1.2845 - val_loss: 0.7659 - val_dense_11_loss: 0.1389 - val_dense_14_loss: 0.0636 - val_dense_17_loss: 0.5634 - val_dense_11_mse: 0.1389 - val_dense_14_mse: 0.0636 - val_dense_17_mse: 0.5634\n"
     ]
    },
    {
     "name": "stdout",
     "output_type": "stream",
     "text": [
      "Epoch 100/100\n",
      "80/80 [==============================] - 0s 3ms/sample - loss: 0.4230 - dense_11_loss: 0.0772 - dense_14_loss: 0.1695 - dense_17_loss: 0.1763 - dense_11_mse: 0.0772 - dense_14_mse: 0.1695 - dense_17_mse: 0.1763 - val_loss: 0.6731 - val_dense_11_loss: 0.1647 - val_dense_14_loss: 0.0353 - val_dense_17_loss: 0.4730 - val_dense_11_mse: 0.1647 - val_dense_14_mse: 0.0353 - val_dense_17_mse: 0.4730\n"
     ]
    }
   ],
   "source": [
    "model.compile(loss='mse', optimizer='adam', metrics=['mse'])\n",
    "hist = model.fit([x1_train, x2_train], [y1_train, y2_train, y3_train], epochs=100, batch_size=1, validation_data=([x1_val, x2_val] , [y1_val, y2_val, y3_val]))"
   ]
  },
  {
   "cell_type": "markdown",
   "metadata": {},
   "source": [
    "## 4. 학습과정확인 "
   ]
  },
  {
   "cell_type": "code",
   "execution_count": 16,
   "metadata": {},
   "outputs": [
    {
     "data": {
      "image/png": "[encoded data removed]",
      "text/plain": [
       "<Figure size 432x288 with 1 Axes>"
      ]
     },
     "metadata": {
      "needs_background": "light"
     },
     "output_type": "display_data"
    }
   ],
   "source": [
    "import matplotlib.pyplot as plt\n",
    "#print(hist.history)\n",
    "plt.plot(hist.history['loss'])\n",
    "plt.plot(hist.history['val_loss'])\n",
    "#plt.ylim(0.0, 1.5)\n",
    "plt.ylabel('loss')\n",
    "plt.xlabel('epoch')\n",
    "plt.legend(['loss', 'val_loss'], loc='upper right')\n",
    "plt.show()"
   ]
  },
  {
   "cell_type": "markdown",
   "metadata": {},
   "source": [
    "## 5. 평가 예측"
   ]
  },
  {
   "cell_type": "code",
   "execution_count": 17,
   "metadata": {},
   "outputs": [
    {
     "name": "stdout",
     "output_type": "stream",
     "text": [
      "10/10 [==============================] - 0s 3ms/sample - loss: 6.4008 - dense_11_loss: 1.3801 - dense_14_loss: 0.4249 - dense_17_loss: 4.5958 - dense_11_mse: 1.3801 - dense_14_mse: 0.4249 - dense_17_mse: 4.5958\n",
      "mse :  [6.4007875442504885, 1.3800805, 0.42485866, 4.5958486, 1.3800805, 0.42485866, 4.5958486]\n"
     ]
    }
   ],
   "source": [
    "mse = model.evaluate([x1_test, x2_test], [y1_test, y2_test, y3_test], batch_size=1)\n",
    "print(\"mse : \", mse )"
   ]
  },
  {
   "cell_type": "markdown",
   "metadata": {},
   "source": [
    "* y1_test : 91에서 100, 191에서 200\n",
    "* y2_test : 591에서 600, 691에서 700\n",
    "* y3_test : 790에서 800, 890에서 900"
   ]
  },
  {
   "cell_type": "code",
   "execution_count": 18,
   "metadata": {},
   "outputs": [
    {
     "name": "stdout",
     "output_type": "stream",
     "text": [
      "y1 예측값 : \n",
      " [[ 90.26873 190.21713]\n",
      " [ 91.17966 191.13255]\n",
      " [ 92.09063 192.04803]\n",
      " [ 93.00153 192.96333]\n",
      " [ 93.91245 193.87877]\n",
      " [ 94.82329 194.79411]\n",
      " [ 95.73423 195.70949]\n",
      " [ 96.64515 196.62488]\n",
      " [ 97.55602 197.54033]\n",
      " [ 98.46696 198.45572]] \n",
      " y2 예측값 : \n",
      " [[591.2135  691.50714]\n",
      " [592.24646 692.5766 ]\n",
      " [593.2792  693.6459 ]\n",
      " [594.3119  694.71515]\n",
      " [595.34467 695.7844 ]\n",
      " [596.3774  696.85376]\n",
      " [597.41003 697.923  ]\n",
      " [598.4429  698.9924 ]\n",
      " [599.4757  700.06165]\n",
      " [600.5083  701.1309 ]] \n",
      " y3 예측값 : \n",
      " [[791.9705  892.63965]\n",
      " [793.0878  893.8419 ]\n",
      " [794.205   895.044  ]\n",
      " [795.3222  896.24603]\n",
      " [796.4394  897.448  ]\n",
      " [797.5565  898.6501 ]\n",
      " [798.67365 899.8522 ]\n",
      " [799.79095 901.0542 ]\n",
      " [800.9082  902.2565 ]\n",
      " [802.02515 903.4582 ]]\n"
     ]
    }
   ],
   "source": [
    "y1_predict, y2_predict, y3_predict = model.predict([x1_test, x2_test])\n",
    "print(\"y1 예측값 : \\n\", y1_predict, \"\\n y2 예측값 : \\n\", y2_predict, \"\\n y3 예측값 : \\n\", y3_predict)"
   ]
  },
  {
   "cell_type": "code",
   "execution_count": null,
   "metadata": {},
   "outputs": [],
   "source": []
  }
 ],
 "metadata": {
  "kernelspec": {
   "display_name": "Python 3",
   "language": "python",
   "name": "python3"
  },
  "language_info": {
   "codemirror_mode": {
    "name": "ipython",
    "version": 3
   },
   "file_extension": ".py",
   "mimetype": "text/x-python",
   "name": "python",
   "nbconvert_exporter": "python",
   "pygments_lexer": "ipython3",
   "version": "3.7.6"
  }
 },
 "nbformat": 4,
 "nbformat_minor": 4
}
